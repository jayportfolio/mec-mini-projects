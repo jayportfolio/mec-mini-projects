{
 "cells": [
  {
   "cell_type": "markdown",
   "metadata": {},
   "source": [
    "# Mini Project: Tree-Based Algorithms"
   ]
  },
  {
   "cell_type": "markdown",
   "metadata": {},
   "source": [
    "## The \"German Credit\" Dataset"
   ]
  },
  {
   "cell_type": "markdown",
   "metadata": {},
   "source": [
    "### Dataset Details"
   ]
  },
  {
   "cell_type": "markdown",
   "metadata": {},
   "source": [
    "This dataset has two classes (these would be considered labels in Machine Learning terms) to describe the worthiness of a personal loan: \"Good\" or \"Bad\". There are predictors related to attributes, such as: checking account status, duration, credit history, purpose of the loan, amount of the loan, savings accounts or bonds, employment duration, installment rate in percentage of disposable income, personal information, other debtors/guarantors, residence duration, property, age, other installment plans, housing, number of existing credits, job information, number of people being liable to provide maintenance for, telephone, and foreign worker status.\n",
    "\n",
    "Many of these predictors are discrete and have been expanded into several 0/1 indicator variables (a.k.a. they have been one-hot-encoded).\n",
    "\n",
    "This dataset has been kindly provided by Professor Dr. Hans Hofmann of the University of Hamburg, and can also be found on the UCI Machine Learning Repository."
   ]
  },
  {
   "cell_type": "markdown",
   "metadata": {},
   "source": [
    "\n",
    "\n",
    "\n"
   ]
  },
  {
   "cell_type": "markdown",
   "metadata": {},
   "source": [
    "## Decision Trees"
   ]
  },
  {
   "cell_type": "markdown",
   "metadata": {},
   "source": [
    " As we have learned in the previous lectures, Decision Trees as a family of algorithms (irrespective to the particular implementation) are powerful algorithms that can produce models with a predictive accuracy higher than that produced by linear models, such as Linear or Logistic Regression. Primarily, this is due to the fact the DT's can model nonlinear relationships, and also have a number of tuning paramters, that allow for the practicioner to achieve the best possible model. An added bonus is the ability to visualize the trained Decision Tree model, which allows for some insight into how the model has produced the predictions that it has. One caveat here, to keep in mind, is that sometimes, due to the size of the dataset (both in the sense of the number of records, as well as the number of features), the visualization might prove to be very large and complex, increasing the difficulty of interpretation."
   ]
  },
  {
   "cell_type": "markdown",
   "metadata": {},
   "source": [
    "To give you a very good example of how Decision Trees can be visualized and interpreted, we would strongly recommend that, before continuing on with solving the problems in this Mini Project, you take the time to read this fanstastic, detailed and informative blog post: http://explained.ai/decision-tree-viz/index.html"
   ]
  },
  {
   "cell_type": "markdown",
   "metadata": {},
   "source": [
    "## Building Your First Decision Tree Model"
   ]
  },
  {
   "cell_type": "markdown",
   "metadata": {},
   "source": [
    "So, now it's time to jump straight into the heart of the matter. Your first task, is to build a Decision Tree model, using the aforementioned \"German Credit\" dataset, which contains 1,000 records, and 62 columns (one of them presents the labels, and the other 61 present the potential features for the model.)"
   ]
  },
  {
   "cell_type": "markdown",
   "metadata": {},
   "source": [
    "For this task, you will be using the scikit-learn library, which comes already pre-installed with the Anaconda Python distribution. In case you're not using that, you can easily install it using pip."
   ]
  },
  {
   "cell_type": "markdown",
   "metadata": {},
   "source": [
    "Before embarking on creating your first model, we would strongly encourage you to read the short tutorial for Decision Trees in scikit-learn (http://scikit-learn.org/stable/modules/tree.html), and then dive a bit deeper into the documentation of the algorithm itself (http://scikit-learn.org/stable/modules/generated/sklearn.tree.DecisionTreeClassifier.html). "
   ]
  },
  {
   "cell_type": "markdown",
   "metadata": {},
   "source": [
    "Also, since you want to be able to present the results of your model, we suggest you take a look at the tutorial for accuracy metrics for classification models (http://scikit-learn.org/stable/modules/model_evaluation.html#classification-report) as well as the more detailed documentation (http://scikit-learn.org/stable/modules/generated/sklearn.metrics.classification_report.html).\n",
    "\n",
    "Finally, an *amazing* resource that explains the various classification model accuracy metrics, as well as the relationships between them, can be found on Wikipedia: https://en.wikipedia.org/wiki/Confusion_matrix"
   ]
  },
  {
   "cell_type": "markdown",
   "metadata": {},
   "source": [
    "(Note: as you've already learned in the Logistic Regression mini project, a standard practice in Machine Learning for achieving the best possible result when training a model is to use hyperparameter tuning, through Grid Search and k-fold Cross Validation. We strongly encourage you to use it here as well, not just because it's standard practice, but also becuase it's not going to be computationally to intensive, due to the size of the dataset that you're working with. Our suggestion here is that you split the data into 70% training, and 30% testing. Then, do the hyperparameter tuning and Cross Validation on the training set, and afterwards to a final test on the testing set.)"
   ]
  },
  {
   "cell_type": "markdown",
   "metadata": {},
   "source": [
    "### Now we pass the torch onto you! You can start building your first Decision Tree model! :)"
   ]
  },
  {
   "cell_type": "code",
   "execution_count": 1,
   "metadata": {},
   "outputs": [],
   "source": [
    "import pandas as pd\n",
    "from sklearn.tree import DecisionTreeClassifier\n",
    "from sklearn.metrics import classification_report\n",
    "from sklearn.model_selection import train_test_split, RandomizedSearchCV\n",
    "from sklearn.model_selection import GridSearchCV"
   ]
  },
  {
   "cell_type": "code",
   "execution_count": 2,
   "metadata": {},
   "outputs": [
    {
     "data": {
      "text/plain": "   Duration  Amount  InstallmentRatePercentage  ResidenceDuration  Age  \\\n0         6    1169                          4                  4   67   \n1        48    5951                          2                  2   22   \n2        12    2096                          2                  3   49   \n3        42    7882                          2                  4   45   \n4        24    4870                          3                  4   53   \n\n   NumberExistingCredits  NumberPeopleMaintenance  Telephone  ForeignWorker  \\\n0                      2                        1          0              1   \n1                      1                        1          1              1   \n2                      1                        2          1              1   \n3                      1                        2          1              1   \n4                      2                        2          1              1   \n\n  Class  ...  OtherInstallmentPlans.Bank  OtherInstallmentPlans.Stores  \\\n0  Good  ...                           0                             0   \n1   Bad  ...                           0                             0   \n2  Good  ...                           0                             0   \n3  Good  ...                           0                             0   \n4   Bad  ...                           0                             0   \n\n   OtherInstallmentPlans.None  Housing.Rent  Housing.Own  Housing.ForFree  \\\n0                           1             0            1                0   \n1                           1             0            1                0   \n2                           1             0            1                0   \n3                           1             0            0                1   \n4                           1             0            0                1   \n\n   Job.UnemployedUnskilled  Job.UnskilledResident  Job.SkilledEmployee  \\\n0                        0                      0                    1   \n1                        0                      0                    1   \n2                        0                      1                    0   \n3                        0                      0                    1   \n4                        0                      0                    1   \n\n   Job.Management.SelfEmp.HighlyQualified  \n0                                       0  \n1                                       0  \n2                                       0  \n3                                       0  \n4                                       0  \n\n[5 rows x 62 columns]",
      "text/html": "<div>\n<style scoped>\n    .dataframe tbody tr th:only-of-type {\n        vertical-align: middle;\n    }\n\n    .dataframe tbody tr th {\n        vertical-align: top;\n    }\n\n    .dataframe thead th {\n        text-align: right;\n    }\n</style>\n<table border=\"1\" class=\"dataframe\">\n  <thead>\n    <tr style=\"text-align: right;\">\n      <th></th>\n      <th>Duration</th>\n      <th>Amount</th>\n      <th>InstallmentRatePercentage</th>\n      <th>ResidenceDuration</th>\n      <th>Age</th>\n      <th>NumberExistingCredits</th>\n      <th>NumberPeopleMaintenance</th>\n      <th>Telephone</th>\n      <th>ForeignWorker</th>\n      <th>Class</th>\n      <th>...</th>\n      <th>OtherInstallmentPlans.Bank</th>\n      <th>OtherInstallmentPlans.Stores</th>\n      <th>OtherInstallmentPlans.None</th>\n      <th>Housing.Rent</th>\n      <th>Housing.Own</th>\n      <th>Housing.ForFree</th>\n      <th>Job.UnemployedUnskilled</th>\n      <th>Job.UnskilledResident</th>\n      <th>Job.SkilledEmployee</th>\n      <th>Job.Management.SelfEmp.HighlyQualified</th>\n    </tr>\n  </thead>\n  <tbody>\n    <tr>\n      <th>0</th>\n      <td>6</td>\n      <td>1169</td>\n      <td>4</td>\n      <td>4</td>\n      <td>67</td>\n      <td>2</td>\n      <td>1</td>\n      <td>0</td>\n      <td>1</td>\n      <td>Good</td>\n      <td>...</td>\n      <td>0</td>\n      <td>0</td>\n      <td>1</td>\n      <td>0</td>\n      <td>1</td>\n      <td>0</td>\n      <td>0</td>\n      <td>0</td>\n      <td>1</td>\n      <td>0</td>\n    </tr>\n    <tr>\n      <th>1</th>\n      <td>48</td>\n      <td>5951</td>\n      <td>2</td>\n      <td>2</td>\n      <td>22</td>\n      <td>1</td>\n      <td>1</td>\n      <td>1</td>\n      <td>1</td>\n      <td>Bad</td>\n      <td>...</td>\n      <td>0</td>\n      <td>0</td>\n      <td>1</td>\n      <td>0</td>\n      <td>1</td>\n      <td>0</td>\n      <td>0</td>\n      <td>0</td>\n      <td>1</td>\n      <td>0</td>\n    </tr>\n    <tr>\n      <th>2</th>\n      <td>12</td>\n      <td>2096</td>\n      <td>2</td>\n      <td>3</td>\n      <td>49</td>\n      <td>1</td>\n      <td>2</td>\n      <td>1</td>\n      <td>1</td>\n      <td>Good</td>\n      <td>...</td>\n      <td>0</td>\n      <td>0</td>\n      <td>1</td>\n      <td>0</td>\n      <td>1</td>\n      <td>0</td>\n      <td>0</td>\n      <td>1</td>\n      <td>0</td>\n      <td>0</td>\n    </tr>\n    <tr>\n      <th>3</th>\n      <td>42</td>\n      <td>7882</td>\n      <td>2</td>\n      <td>4</td>\n      <td>45</td>\n      <td>1</td>\n      <td>2</td>\n      <td>1</td>\n      <td>1</td>\n      <td>Good</td>\n      <td>...</td>\n      <td>0</td>\n      <td>0</td>\n      <td>1</td>\n      <td>0</td>\n      <td>0</td>\n      <td>1</td>\n      <td>0</td>\n      <td>0</td>\n      <td>1</td>\n      <td>0</td>\n    </tr>\n    <tr>\n      <th>4</th>\n      <td>24</td>\n      <td>4870</td>\n      <td>3</td>\n      <td>4</td>\n      <td>53</td>\n      <td>2</td>\n      <td>2</td>\n      <td>1</td>\n      <td>1</td>\n      <td>Bad</td>\n      <td>...</td>\n      <td>0</td>\n      <td>0</td>\n      <td>1</td>\n      <td>0</td>\n      <td>0</td>\n      <td>1</td>\n      <td>0</td>\n      <td>0</td>\n      <td>1</td>\n      <td>0</td>\n    </tr>\n  </tbody>\n</table>\n<p>5 rows × 62 columns</p>\n</div>"
     },
     "execution_count": 2,
     "metadata": {},
     "output_type": "execute_result"
    }
   ],
   "source": [
    "# Your code here! :)\n",
    "\n",
    "import numpy as np\n",
    "import matplotlib.pyplot as plt\n",
    "\n",
    "df = pd.read_csv(\"GermanCredit.csv.zip\")\n",
    "df.head()"
   ]
  },
  {
   "cell_type": "code",
   "execution_count": 3,
   "outputs": [
    {
     "data": {
      "text/plain": "0      Good\n1       Bad\n2      Good\n3      Good\n4       Bad\n       ... \n995    Good\n996    Good\n997    Good\n998     Bad\n999    Good\nName: Class, Length: 1000, dtype: object"
     },
     "execution_count": 3,
     "metadata": {},
     "output_type": "execute_result"
    }
   ],
   "source": [
    "df['Class']"
   ],
   "metadata": {
    "collapsed": false
   }
  },
  {
   "cell_type": "code",
   "execution_count": 4,
   "metadata": {},
   "outputs": [
    {
     "data": {
      "text/plain": "0       True\n1      False\n2       True\n3       True\n4      False\n       ...  \n995     True\n996     True\n997     True\n998    False\n999     True\nName: Class, Length: 1000, dtype: bool"
     },
     "execution_count": 4,
     "metadata": {},
     "output_type": "execute_result"
    }
   ],
   "source": [
    "df['Class'] = df['Class'] == 'Good'\n",
    "df['Class']"
   ]
  },
  {
   "cell_type": "code",
   "execution_count": 5,
   "outputs": [
    {
     "data": {
      "text/plain": "0      1\n1      0\n2      1\n3      1\n4      0\n      ..\n995    1\n996    1\n997    1\n998    0\n999    1\nName: Class, Length: 1000, dtype: int64"
     },
     "execution_count": 5,
     "metadata": {},
     "output_type": "execute_result"
    }
   ],
   "source": [
    "\n",
    "df['Class'] = pd.to_numeric(df['Class']).dropna().astype(int)\n",
    "\n",
    "df[df.isna()].sum().sort_values(ascending=False)\n",
    "df['Class']"
   ],
   "metadata": {
    "collapsed": false
   }
  },
  {
   "cell_type": "code",
   "execution_count": 6,
   "metadata": {},
   "outputs": [],
   "source": [
    "# Explore the data\n",
    "#df.hist(figsize=(20, 20))\n",
    "#plt.show()"
   ]
  },
  {
   "cell_type": "code",
   "execution_count": 7,
   "metadata": {},
   "outputs": [
    {
     "data": {
      "text/plain": "          Duration        Amount  InstallmentRatePercentage  \\\ncount  1000.000000   1000.000000                1000.000000   \nmean     20.903000   3271.258000                   2.973000   \nstd      12.058814   2822.736876                   1.118715   \nmin       4.000000    250.000000                   1.000000   \n25%      12.000000   1365.500000                   2.000000   \n50%      18.000000   2319.500000                   3.000000   \n75%      24.000000   3972.250000                   4.000000   \nmax      72.000000  18424.000000                   4.000000   \n\n       ResidenceDuration          Age  NumberExistingCredits  \\\ncount        1000.000000  1000.000000            1000.000000   \nmean            2.845000    35.546000               1.407000   \nstd             1.103718    11.375469               0.577654   \nmin             1.000000    19.000000               1.000000   \n25%             2.000000    27.000000               1.000000   \n50%             3.000000    33.000000               1.000000   \n75%             4.000000    42.000000               2.000000   \nmax             4.000000    75.000000               4.000000   \n\n       NumberPeopleMaintenance    Telephone  ForeignWorker        Class  ...  \\\ncount              1000.000000  1000.000000    1000.000000  1000.000000  ...   \nmean                  1.155000     0.596000       0.963000     0.700000  ...   \nstd                   0.362086     0.490943       0.188856     0.458487  ...   \nmin                   1.000000     0.000000       0.000000     0.000000  ...   \n25%                   1.000000     0.000000       1.000000     0.000000  ...   \n50%                   1.000000     1.000000       1.000000     1.000000  ...   \n75%                   1.000000     1.000000       1.000000     1.000000  ...   \nmax                   2.000000     1.000000       1.000000     1.000000  ...   \n\n       OtherInstallmentPlans.Bank  OtherInstallmentPlans.Stores  \\\ncount                  1000.00000                   1000.000000   \nmean                      0.13900                      0.047000   \nstd                       0.34612                      0.211745   \nmin                       0.00000                      0.000000   \n25%                       0.00000                      0.000000   \n50%                       0.00000                      0.000000   \n75%                       0.00000                      0.000000   \nmax                       1.00000                      1.000000   \n\n       OtherInstallmentPlans.None  Housing.Rent  Housing.Own  Housing.ForFree  \\\ncount                 1000.000000   1000.000000  1000.000000      1000.000000   \nmean                     0.814000      0.179000     0.713000         0.108000   \nstd                      0.389301      0.383544     0.452588         0.310536   \nmin                      0.000000      0.000000     0.000000         0.000000   \n25%                      1.000000      0.000000     0.000000         0.000000   \n50%                      1.000000      0.000000     1.000000         0.000000   \n75%                      1.000000      0.000000     1.000000         0.000000   \nmax                      1.000000      1.000000     1.000000         1.000000   \n\n       Job.UnemployedUnskilled  Job.UnskilledResident  Job.SkilledEmployee  \\\ncount              1000.000000              1000.0000          1000.000000   \nmean                  0.022000                 0.2000             0.630000   \nstd                   0.146757                 0.4002             0.483046   \nmin                   0.000000                 0.0000             0.000000   \n25%                   0.000000                 0.0000             0.000000   \n50%                   0.000000                 0.0000             1.000000   \n75%                   0.000000                 0.0000             1.000000   \nmax                   1.000000                 1.0000             1.000000   \n\n       Job.Management.SelfEmp.HighlyQualified  \ncount                             1000.000000  \nmean                                 0.148000  \nstd                                  0.355278  \nmin                                  0.000000  \n25%                                  0.000000  \n50%                                  0.000000  \n75%                                  0.000000  \nmax                                  1.000000  \n\n[8 rows x 62 columns]",
      "text/html": "<div>\n<style scoped>\n    .dataframe tbody tr th:only-of-type {\n        vertical-align: middle;\n    }\n\n    .dataframe tbody tr th {\n        vertical-align: top;\n    }\n\n    .dataframe thead th {\n        text-align: right;\n    }\n</style>\n<table border=\"1\" class=\"dataframe\">\n  <thead>\n    <tr style=\"text-align: right;\">\n      <th></th>\n      <th>Duration</th>\n      <th>Amount</th>\n      <th>InstallmentRatePercentage</th>\n      <th>ResidenceDuration</th>\n      <th>Age</th>\n      <th>NumberExistingCredits</th>\n      <th>NumberPeopleMaintenance</th>\n      <th>Telephone</th>\n      <th>ForeignWorker</th>\n      <th>Class</th>\n      <th>...</th>\n      <th>OtherInstallmentPlans.Bank</th>\n      <th>OtherInstallmentPlans.Stores</th>\n      <th>OtherInstallmentPlans.None</th>\n      <th>Housing.Rent</th>\n      <th>Housing.Own</th>\n      <th>Housing.ForFree</th>\n      <th>Job.UnemployedUnskilled</th>\n      <th>Job.UnskilledResident</th>\n      <th>Job.SkilledEmployee</th>\n      <th>Job.Management.SelfEmp.HighlyQualified</th>\n    </tr>\n  </thead>\n  <tbody>\n    <tr>\n      <th>count</th>\n      <td>1000.000000</td>\n      <td>1000.000000</td>\n      <td>1000.000000</td>\n      <td>1000.000000</td>\n      <td>1000.000000</td>\n      <td>1000.000000</td>\n      <td>1000.000000</td>\n      <td>1000.000000</td>\n      <td>1000.000000</td>\n      <td>1000.000000</td>\n      <td>...</td>\n      <td>1000.00000</td>\n      <td>1000.000000</td>\n      <td>1000.000000</td>\n      <td>1000.000000</td>\n      <td>1000.000000</td>\n      <td>1000.000000</td>\n      <td>1000.000000</td>\n      <td>1000.0000</td>\n      <td>1000.000000</td>\n      <td>1000.000000</td>\n    </tr>\n    <tr>\n      <th>mean</th>\n      <td>20.903000</td>\n      <td>3271.258000</td>\n      <td>2.973000</td>\n      <td>2.845000</td>\n      <td>35.546000</td>\n      <td>1.407000</td>\n      <td>1.155000</td>\n      <td>0.596000</td>\n      <td>0.963000</td>\n      <td>0.700000</td>\n      <td>...</td>\n      <td>0.13900</td>\n      <td>0.047000</td>\n      <td>0.814000</td>\n      <td>0.179000</td>\n      <td>0.713000</td>\n      <td>0.108000</td>\n      <td>0.022000</td>\n      <td>0.2000</td>\n      <td>0.630000</td>\n      <td>0.148000</td>\n    </tr>\n    <tr>\n      <th>std</th>\n      <td>12.058814</td>\n      <td>2822.736876</td>\n      <td>1.118715</td>\n      <td>1.103718</td>\n      <td>11.375469</td>\n      <td>0.577654</td>\n      <td>0.362086</td>\n      <td>0.490943</td>\n      <td>0.188856</td>\n      <td>0.458487</td>\n      <td>...</td>\n      <td>0.34612</td>\n      <td>0.211745</td>\n      <td>0.389301</td>\n      <td>0.383544</td>\n      <td>0.452588</td>\n      <td>0.310536</td>\n      <td>0.146757</td>\n      <td>0.4002</td>\n      <td>0.483046</td>\n      <td>0.355278</td>\n    </tr>\n    <tr>\n      <th>min</th>\n      <td>4.000000</td>\n      <td>250.000000</td>\n      <td>1.000000</td>\n      <td>1.000000</td>\n      <td>19.000000</td>\n      <td>1.000000</td>\n      <td>1.000000</td>\n      <td>0.000000</td>\n      <td>0.000000</td>\n      <td>0.000000</td>\n      <td>...</td>\n      <td>0.00000</td>\n      <td>0.000000</td>\n      <td>0.000000</td>\n      <td>0.000000</td>\n      <td>0.000000</td>\n      <td>0.000000</td>\n      <td>0.000000</td>\n      <td>0.0000</td>\n      <td>0.000000</td>\n      <td>0.000000</td>\n    </tr>\n    <tr>\n      <th>25%</th>\n      <td>12.000000</td>\n      <td>1365.500000</td>\n      <td>2.000000</td>\n      <td>2.000000</td>\n      <td>27.000000</td>\n      <td>1.000000</td>\n      <td>1.000000</td>\n      <td>0.000000</td>\n      <td>1.000000</td>\n      <td>0.000000</td>\n      <td>...</td>\n      <td>0.00000</td>\n      <td>0.000000</td>\n      <td>1.000000</td>\n      <td>0.000000</td>\n      <td>0.000000</td>\n      <td>0.000000</td>\n      <td>0.000000</td>\n      <td>0.0000</td>\n      <td>0.000000</td>\n      <td>0.000000</td>\n    </tr>\n    <tr>\n      <th>50%</th>\n      <td>18.000000</td>\n      <td>2319.500000</td>\n      <td>3.000000</td>\n      <td>3.000000</td>\n      <td>33.000000</td>\n      <td>1.000000</td>\n      <td>1.000000</td>\n      <td>1.000000</td>\n      <td>1.000000</td>\n      <td>1.000000</td>\n      <td>...</td>\n      <td>0.00000</td>\n      <td>0.000000</td>\n      <td>1.000000</td>\n      <td>0.000000</td>\n      <td>1.000000</td>\n      <td>0.000000</td>\n      <td>0.000000</td>\n      <td>0.0000</td>\n      <td>1.000000</td>\n      <td>0.000000</td>\n    </tr>\n    <tr>\n      <th>75%</th>\n      <td>24.000000</td>\n      <td>3972.250000</td>\n      <td>4.000000</td>\n      <td>4.000000</td>\n      <td>42.000000</td>\n      <td>2.000000</td>\n      <td>1.000000</td>\n      <td>1.000000</td>\n      <td>1.000000</td>\n      <td>1.000000</td>\n      <td>...</td>\n      <td>0.00000</td>\n      <td>0.000000</td>\n      <td>1.000000</td>\n      <td>0.000000</td>\n      <td>1.000000</td>\n      <td>0.000000</td>\n      <td>0.000000</td>\n      <td>0.0000</td>\n      <td>1.000000</td>\n      <td>0.000000</td>\n    </tr>\n    <tr>\n      <th>max</th>\n      <td>72.000000</td>\n      <td>18424.000000</td>\n      <td>4.000000</td>\n      <td>4.000000</td>\n      <td>75.000000</td>\n      <td>4.000000</td>\n      <td>2.000000</td>\n      <td>1.000000</td>\n      <td>1.000000</td>\n      <td>1.000000</td>\n      <td>...</td>\n      <td>1.00000</td>\n      <td>1.000000</td>\n      <td>1.000000</td>\n      <td>1.000000</td>\n      <td>1.000000</td>\n      <td>1.000000</td>\n      <td>1.000000</td>\n      <td>1.0000</td>\n      <td>1.000000</td>\n      <td>1.000000</td>\n    </tr>\n  </tbody>\n</table>\n<p>8 rows × 62 columns</p>\n</div>"
     },
     "execution_count": 7,
     "metadata": {},
     "output_type": "execute_result"
    }
   ],
   "source": [
    "df.describe()"
   ]
  },
  {
   "cell_type": "code",
   "execution_count": 8,
   "metadata": {},
   "outputs": [
    {
     "data": {
      "text/plain": "                                        Duration    Amount  \\\nDuration                                1.000000  0.624984   \nAmount                                  0.624984  1.000000   \nInstallmentRatePercentage               0.074749 -0.271316   \nResidenceDuration                       0.034067  0.028926   \nAge                                    -0.036136  0.032716   \n...                                          ...       ...   \nHousing.ForFree                         0.189117  0.201643   \nJob.UnemployedUnskilled                -0.044043 -0.027969   \nJob.UnskilledResident                  -0.181203 -0.161757   \nJob.SkilledEmployee                     0.055010 -0.092636   \nJob.Management.SelfEmp.HighlyQualified  0.147515  0.319715   \n\n                                        InstallmentRatePercentage  \\\nDuration                                                 0.074749   \nAmount                                                  -0.271316   \nInstallmentRatePercentage                                1.000000   \nResidenceDuration                                        0.049302   \nAge                                                      0.058266   \n...                                                           ...   \nHousing.ForFree                                          0.040098   \nJob.UnemployedUnskilled                                 -0.087834   \nJob.UnskilledResident                                   -0.057237   \nJob.SkilledEmployee                                      0.042623   \nJob.Management.SelfEmp.HighlyQualified                   0.042805   \n\n                                        ResidenceDuration       Age  \\\nDuration                                         0.034067 -0.036136   \nAmount                                           0.028926  0.032716   \nInstallmentRatePercentage                        0.049302  0.058266   \nResidenceDuration                                1.000000  0.266419   \nAge                                              0.266419  1.000000   \n...                                                   ...       ...   \nHousing.ForFree                                  0.227044  0.253058   \nJob.UnemployedUnskilled                         -0.034545  0.059954   \nJob.UnskilledResident                            0.009065  0.043712   \nJob.SkilledEmployee                             -0.000657 -0.148283   \nJob.Management.SelfEmp.HighlyQualified           0.004952  0.127605   \n\n                                        NumberExistingCredits  \\\nDuration                                            -0.011284   \nAmount                                               0.020795   \nInstallmentRatePercentage                            0.021669   \nResidenceDuration                                    0.089625   \nAge                                                  0.149254   \n...                                                       ...   \nHousing.ForFree                                      0.011406   \nJob.UnemployedUnskilled                              0.059582   \nJob.UnskilledResident                               -0.010392   \nJob.SkilledEmployee                                 -0.001471   \nJob.Management.SelfEmp.HighlyQualified              -0.010906   \n\n                                        NumberPeopleMaintenance  Telephone  \\\nDuration                                              -0.023834  -0.164718   \nAmount                                                 0.017142  -0.276995   \nInstallmentRatePercentage                             -0.071207  -0.014413   \nResidenceDuration                                      0.042643  -0.095359   \nAge                                                    0.118201  -0.145259   \n...                                                         ...        ...   \nHousing.ForFree                                        0.118047  -0.114036   \nJob.UnemployedUnskilled                               -0.007723   0.040124   \nJob.UnskilledResident                                  0.145066   0.253720   \nJob.SkilledEmployee                                   -0.106737   0.061289   \nJob.Management.SelfEmp.HighlyQualified                -0.015096  -0.385706   \n\n                                        ForeignWorker     Class  ...  \\\nDuration                                     0.138196 -0.214927  ...   \nAmount                                       0.050050 -0.154739  ...   \nInstallmentRatePercentage                    0.090024 -0.072404  ...   \nResidenceDuration                            0.054097 -0.002967  ...   \nAge                                          0.006151  0.091127  ...   \n...                                               ...       ...  ...   \nHousing.ForFree                              0.068205 -0.081556  ...   \nJob.UnemployedUnskilled                     -0.042834 -0.005951  ...   \nJob.UnskilledResident                       -0.087412  0.021822  ...   \nJob.SkilledEmployee                          0.047292  0.013559  ...   \nJob.Management.SelfEmp.HighlyQualified       0.051858 -0.040559  ...   \n\n                                        OtherInstallmentPlans.Bank  \\\nDuration                                                  0.035851   \nAmount                                                    0.039474   \nInstallmentRatePercentage                                -0.016150   \nResidenceDuration                                         0.014530   \nAge                                                       0.046552   \n...                                                            ...   \nHousing.ForFree                                           0.074393   \nJob.UnemployedUnskilled                                  -0.001143   \nJob.UnskilledResident                                     0.044805   \nJob.SkilledEmployee                                      -0.075258   \nJob.Management.SelfEmp.HighlyQualified                    0.052326   \n\n                                        OtherInstallmentPlans.Stores  \\\nDuration                                                    0.065688   \nAmount                                                      0.024262   \nInstallmentRatePercentage                                   0.056071   \nResidenceDuration                                          -0.054460   \nAge                                                        -0.011080   \n...                                                              ...   \nHousing.ForFree                                            -0.031604   \nJob.UnemployedUnskilled                                    -0.033308   \nJob.UnskilledResident                                       0.030713   \nJob.SkilledEmployee                                        -0.035330   \nJob.Management.SelfEmp.HighlyQualified                      0.027198   \n\n                                        OtherInstallmentPlans.None  \\\nDuration                                                 -0.067602   \nAmount                                                   -0.048292   \nInstallmentRatePercentage                                -0.016139   \nResidenceDuration                                         0.016704   \nAge                                                      -0.035362   \n...                                                            ...   \nHousing.ForFree                                          -0.048952   \nJob.UnemployedUnskilled                                   0.019133   \nJob.UnskilledResident                                    -0.056540   \nJob.SkilledEmployee                                       0.086127   \nJob.Management.SelfEmp.HighlyQualified                   -0.061315   \n\n                                        Housing.Rent  Housing.Own  \\\nDuration                                   -0.064417    -0.075169   \nAmount                                     -0.024611    -0.117497   \nInstallmentRatePercentage                  -0.091373     0.049922   \nResidenceDuration                           0.167285    -0.297547   \nAge                                        -0.212620     0.006553   \n...                                              ...          ...   \nHousing.ForFree                            -0.162474    -0.548445   \nJob.UnemployedUnskilled                     0.018886    -0.040480   \nJob.UnskilledResident                       0.014347     0.063003   \nJob.SkilledEmployee                         0.012049     0.012866   \nJob.Management.SelfEmp.HighlyQualified     -0.040344    -0.071741   \n\n                                        Housing.ForFree  \\\nDuration                                       0.189117   \nAmount                                         0.201643   \nInstallmentRatePercentage                      0.040098   \nResidenceDuration                              0.227044   \nAge                                            0.253058   \n...                                                 ...   \nHousing.ForFree                                1.000000   \nJob.UnemployedUnskilled                        0.035671   \nJob.UnskilledResident                         -0.109543   \nJob.SkilledEmployee                           -0.033633   \nJob.Management.SelfEmp.HighlyQualified         0.154388   \n\n                                        Job.UnemployedUnskilled  \\\nDuration                                              -0.044043   \nAmount                                                -0.027969   \nInstallmentRatePercentage                             -0.087834   \nResidenceDuration                                     -0.034545   \nAge                                                    0.059954   \n...                                                         ...   \nHousing.ForFree                                        0.035671   \nJob.UnemployedUnskilled                                1.000000   \nJob.UnskilledResident                                 -0.074991   \nJob.SkilledEmployee                                   -0.195709   \nJob.Management.SelfEmp.HighlyQualified                -0.062511   \n\n                                        Job.UnskilledResident  \\\nDuration                                            -0.181203   \nAmount                                              -0.161757   \nInstallmentRatePercentage                           -0.057237   \nResidenceDuration                                    0.009065   \nAge                                                  0.043712   \n...                                                       ...   \nHousing.ForFree                                     -0.109543   \nJob.UnemployedUnskilled                             -0.074991   \nJob.UnskilledResident                                1.000000   \nJob.SkilledEmployee                                 -0.652438   \nJob.Management.SelfEmp.HighlyQualified              -0.208392   \n\n                                        Job.SkilledEmployee  \\\nDuration                                           0.055010   \nAmount                                            -0.092636   \nInstallmentRatePercentage                          0.042623   \nResidenceDuration                                 -0.000657   \nAge                                               -0.148283   \n...                                                     ...   \nHousing.ForFree                                   -0.033633   \nJob.UnemployedUnskilled                           -0.195709   \nJob.UnskilledResident                             -0.652438   \nJob.SkilledEmployee                                1.000000   \nJob.Management.SelfEmp.HighlyQualified            -0.543852   \n\n                                        Job.Management.SelfEmp.HighlyQualified  \nDuration                                                              0.147515  \nAmount                                                                0.319715  \nInstallmentRatePercentage                                             0.042805  \nResidenceDuration                                                     0.004952  \nAge                                                                   0.127605  \n...                                                                        ...  \nHousing.ForFree                                                       0.154388  \nJob.UnemployedUnskilled                                              -0.062511  \nJob.UnskilledResident                                                -0.208392  \nJob.SkilledEmployee                                                  -0.543852  \nJob.Management.SelfEmp.HighlyQualified                                1.000000  \n\n[62 rows x 62 columns]",
      "text/html": "<div>\n<style scoped>\n    .dataframe tbody tr th:only-of-type {\n        vertical-align: middle;\n    }\n\n    .dataframe tbody tr th {\n        vertical-align: top;\n    }\n\n    .dataframe thead th {\n        text-align: right;\n    }\n</style>\n<table border=\"1\" class=\"dataframe\">\n  <thead>\n    <tr style=\"text-align: right;\">\n      <th></th>\n      <th>Duration</th>\n      <th>Amount</th>\n      <th>InstallmentRatePercentage</th>\n      <th>ResidenceDuration</th>\n      <th>Age</th>\n      <th>NumberExistingCredits</th>\n      <th>NumberPeopleMaintenance</th>\n      <th>Telephone</th>\n      <th>ForeignWorker</th>\n      <th>Class</th>\n      <th>...</th>\n      <th>OtherInstallmentPlans.Bank</th>\n      <th>OtherInstallmentPlans.Stores</th>\n      <th>OtherInstallmentPlans.None</th>\n      <th>Housing.Rent</th>\n      <th>Housing.Own</th>\n      <th>Housing.ForFree</th>\n      <th>Job.UnemployedUnskilled</th>\n      <th>Job.UnskilledResident</th>\n      <th>Job.SkilledEmployee</th>\n      <th>Job.Management.SelfEmp.HighlyQualified</th>\n    </tr>\n  </thead>\n  <tbody>\n    <tr>\n      <th>Duration</th>\n      <td>1.000000</td>\n      <td>0.624984</td>\n      <td>0.074749</td>\n      <td>0.034067</td>\n      <td>-0.036136</td>\n      <td>-0.011284</td>\n      <td>-0.023834</td>\n      <td>-0.164718</td>\n      <td>0.138196</td>\n      <td>-0.214927</td>\n      <td>...</td>\n      <td>0.035851</td>\n      <td>0.065688</td>\n      <td>-0.067602</td>\n      <td>-0.064417</td>\n      <td>-0.075169</td>\n      <td>0.189117</td>\n      <td>-0.044043</td>\n      <td>-0.181203</td>\n      <td>0.055010</td>\n      <td>0.147515</td>\n    </tr>\n    <tr>\n      <th>Amount</th>\n      <td>0.624984</td>\n      <td>1.000000</td>\n      <td>-0.271316</td>\n      <td>0.028926</td>\n      <td>0.032716</td>\n      <td>0.020795</td>\n      <td>0.017142</td>\n      <td>-0.276995</td>\n      <td>0.050050</td>\n      <td>-0.154739</td>\n      <td>...</td>\n      <td>0.039474</td>\n      <td>0.024262</td>\n      <td>-0.048292</td>\n      <td>-0.024611</td>\n      <td>-0.117497</td>\n      <td>0.201643</td>\n      <td>-0.027969</td>\n      <td>-0.161757</td>\n      <td>-0.092636</td>\n      <td>0.319715</td>\n    </tr>\n    <tr>\n      <th>InstallmentRatePercentage</th>\n      <td>0.074749</td>\n      <td>-0.271316</td>\n      <td>1.000000</td>\n      <td>0.049302</td>\n      <td>0.058266</td>\n      <td>0.021669</td>\n      <td>-0.071207</td>\n      <td>-0.014413</td>\n      <td>0.090024</td>\n      <td>-0.072404</td>\n      <td>...</td>\n      <td>-0.016150</td>\n      <td>0.056071</td>\n      <td>-0.016139</td>\n      <td>-0.091373</td>\n      <td>0.049922</td>\n      <td>0.040098</td>\n      <td>-0.087834</td>\n      <td>-0.057237</td>\n      <td>0.042623</td>\n      <td>0.042805</td>\n    </tr>\n    <tr>\n      <th>ResidenceDuration</th>\n      <td>0.034067</td>\n      <td>0.028926</td>\n      <td>0.049302</td>\n      <td>1.000000</td>\n      <td>0.266419</td>\n      <td>0.089625</td>\n      <td>0.042643</td>\n      <td>-0.095359</td>\n      <td>0.054097</td>\n      <td>-0.002967</td>\n      <td>...</td>\n      <td>0.014530</td>\n      <td>-0.054460</td>\n      <td>0.016704</td>\n      <td>0.167285</td>\n      <td>-0.297547</td>\n      <td>0.227044</td>\n      <td>-0.034545</td>\n      <td>0.009065</td>\n      <td>-0.000657</td>\n      <td>0.004952</td>\n    </tr>\n    <tr>\n      <th>Age</th>\n      <td>-0.036136</td>\n      <td>0.032716</td>\n      <td>0.058266</td>\n      <td>0.266419</td>\n      <td>1.000000</td>\n      <td>0.149254</td>\n      <td>0.118201</td>\n      <td>-0.145259</td>\n      <td>0.006151</td>\n      <td>0.091127</td>\n      <td>...</td>\n      <td>0.046552</td>\n      <td>-0.011080</td>\n      <td>-0.035362</td>\n      <td>-0.212620</td>\n      <td>0.006553</td>\n      <td>0.253058</td>\n      <td>0.059954</td>\n      <td>0.043712</td>\n      <td>-0.148283</td>\n      <td>0.127605</td>\n    </tr>\n    <tr>\n      <th>...</th>\n      <td>...</td>\n      <td>...</td>\n      <td>...</td>\n      <td>...</td>\n      <td>...</td>\n      <td>...</td>\n      <td>...</td>\n      <td>...</td>\n      <td>...</td>\n      <td>...</td>\n      <td>...</td>\n      <td>...</td>\n      <td>...</td>\n      <td>...</td>\n      <td>...</td>\n      <td>...</td>\n      <td>...</td>\n      <td>...</td>\n      <td>...</td>\n      <td>...</td>\n      <td>...</td>\n    </tr>\n    <tr>\n      <th>Housing.ForFree</th>\n      <td>0.189117</td>\n      <td>0.201643</td>\n      <td>0.040098</td>\n      <td>0.227044</td>\n      <td>0.253058</td>\n      <td>0.011406</td>\n      <td>0.118047</td>\n      <td>-0.114036</td>\n      <td>0.068205</td>\n      <td>-0.081556</td>\n      <td>...</td>\n      <td>0.074393</td>\n      <td>-0.031604</td>\n      <td>-0.048952</td>\n      <td>-0.162474</td>\n      <td>-0.548445</td>\n      <td>1.000000</td>\n      <td>0.035671</td>\n      <td>-0.109543</td>\n      <td>-0.033633</td>\n      <td>0.154388</td>\n    </tr>\n    <tr>\n      <th>Job.UnemployedUnskilled</th>\n      <td>-0.044043</td>\n      <td>-0.027969</td>\n      <td>-0.087834</td>\n      <td>-0.034545</td>\n      <td>0.059954</td>\n      <td>0.059582</td>\n      <td>-0.007723</td>\n      <td>0.040124</td>\n      <td>-0.042834</td>\n      <td>-0.005951</td>\n      <td>...</td>\n      <td>-0.001143</td>\n      <td>-0.033308</td>\n      <td>0.019133</td>\n      <td>0.018886</td>\n      <td>-0.040480</td>\n      <td>0.035671</td>\n      <td>1.000000</td>\n      <td>-0.074991</td>\n      <td>-0.195709</td>\n      <td>-0.062511</td>\n    </tr>\n    <tr>\n      <th>Job.UnskilledResident</th>\n      <td>-0.181203</td>\n      <td>-0.161757</td>\n      <td>-0.057237</td>\n      <td>0.009065</td>\n      <td>0.043712</td>\n      <td>-0.010392</td>\n      <td>0.145066</td>\n      <td>0.253720</td>\n      <td>-0.087412</td>\n      <td>0.021822</td>\n      <td>...</td>\n      <td>0.044805</td>\n      <td>0.030713</td>\n      <td>-0.056540</td>\n      <td>0.014347</td>\n      <td>0.063003</td>\n      <td>-0.109543</td>\n      <td>-0.074991</td>\n      <td>1.000000</td>\n      <td>-0.652438</td>\n      <td>-0.208392</td>\n    </tr>\n    <tr>\n      <th>Job.SkilledEmployee</th>\n      <td>0.055010</td>\n      <td>-0.092636</td>\n      <td>0.042623</td>\n      <td>-0.000657</td>\n      <td>-0.148283</td>\n      <td>-0.001471</td>\n      <td>-0.106737</td>\n      <td>0.061289</td>\n      <td>0.047292</td>\n      <td>0.013559</td>\n      <td>...</td>\n      <td>-0.075258</td>\n      <td>-0.035330</td>\n      <td>0.086127</td>\n      <td>0.012049</td>\n      <td>0.012866</td>\n      <td>-0.033633</td>\n      <td>-0.195709</td>\n      <td>-0.652438</td>\n      <td>1.000000</td>\n      <td>-0.543852</td>\n    </tr>\n    <tr>\n      <th>Job.Management.SelfEmp.HighlyQualified</th>\n      <td>0.147515</td>\n      <td>0.319715</td>\n      <td>0.042805</td>\n      <td>0.004952</td>\n      <td>0.127605</td>\n      <td>-0.010906</td>\n      <td>-0.015096</td>\n      <td>-0.385706</td>\n      <td>0.051858</td>\n      <td>-0.040559</td>\n      <td>...</td>\n      <td>0.052326</td>\n      <td>0.027198</td>\n      <td>-0.061315</td>\n      <td>-0.040344</td>\n      <td>-0.071741</td>\n      <td>0.154388</td>\n      <td>-0.062511</td>\n      <td>-0.208392</td>\n      <td>-0.543852</td>\n      <td>1.000000</td>\n    </tr>\n  </tbody>\n</table>\n<p>62 rows × 62 columns</p>\n</div>"
     },
     "execution_count": 8,
     "metadata": {},
     "output_type": "execute_result"
    }
   ],
   "source": [
    "df.corr()"
   ]
  },
  {
   "cell_type": "code",
   "execution_count": 9,
   "outputs": [
    {
     "name": "stdout",
     "output_type": "stream",
     "text": [
      "<class 'pandas.core.frame.DataFrame'>\n",
      "RangeIndex: 1000 entries, 0 to 999\n",
      "Data columns (total 62 columns):\n",
      " #   Column                                  Non-Null Count  Dtype\n",
      "---  ------                                  --------------  -----\n",
      " 0   Duration                                1000 non-null   int64\n",
      " 1   Amount                                  1000 non-null   int64\n",
      " 2   InstallmentRatePercentage               1000 non-null   int64\n",
      " 3   ResidenceDuration                       1000 non-null   int64\n",
      " 4   Age                                     1000 non-null   int64\n",
      " 5   NumberExistingCredits                   1000 non-null   int64\n",
      " 6   NumberPeopleMaintenance                 1000 non-null   int64\n",
      " 7   Telephone                               1000 non-null   int64\n",
      " 8   ForeignWorker                           1000 non-null   int64\n",
      " 9   Class                                   1000 non-null   int64\n",
      " 10  CheckingAccountStatus.lt.0              1000 non-null   int64\n",
      " 11  CheckingAccountStatus.0.to.200          1000 non-null   int64\n",
      " 12  CheckingAccountStatus.gt.200            1000 non-null   int64\n",
      " 13  CheckingAccountStatus.none              1000 non-null   int64\n",
      " 14  CreditHistory.NoCredit.AllPaid          1000 non-null   int64\n",
      " 15  CreditHistory.ThisBank.AllPaid          1000 non-null   int64\n",
      " 16  CreditHistory.PaidDuly                  1000 non-null   int64\n",
      " 17  CreditHistory.Delay                     1000 non-null   int64\n",
      " 18  CreditHistory.Critical                  1000 non-null   int64\n",
      " 19  Purpose.NewCar                          1000 non-null   int64\n",
      " 20  Purpose.UsedCar                         1000 non-null   int64\n",
      " 21  Purpose.Furniture.Equipment             1000 non-null   int64\n",
      " 22  Purpose.Radio.Television                1000 non-null   int64\n",
      " 23  Purpose.DomesticAppliance               1000 non-null   int64\n",
      " 24  Purpose.Repairs                         1000 non-null   int64\n",
      " 25  Purpose.Education                       1000 non-null   int64\n",
      " 26  Purpose.Vacation                        1000 non-null   int64\n",
      " 27  Purpose.Retraining                      1000 non-null   int64\n",
      " 28  Purpose.Business                        1000 non-null   int64\n",
      " 29  Purpose.Other                           1000 non-null   int64\n",
      " 30  SavingsAccountBonds.lt.100              1000 non-null   int64\n",
      " 31  SavingsAccountBonds.100.to.500          1000 non-null   int64\n",
      " 32  SavingsAccountBonds.500.to.1000         1000 non-null   int64\n",
      " 33  SavingsAccountBonds.gt.1000             1000 non-null   int64\n",
      " 34  SavingsAccountBonds.Unknown             1000 non-null   int64\n",
      " 35  EmploymentDuration.lt.1                 1000 non-null   int64\n",
      " 36  EmploymentDuration.1.to.4               1000 non-null   int64\n",
      " 37  EmploymentDuration.4.to.7               1000 non-null   int64\n",
      " 38  EmploymentDuration.gt.7                 1000 non-null   int64\n",
      " 39  EmploymentDuration.Unemployed           1000 non-null   int64\n",
      " 40  Personal.Male.Divorced.Seperated        1000 non-null   int64\n",
      " 41  Personal.Female.NotSingle               1000 non-null   int64\n",
      " 42  Personal.Male.Single                    1000 non-null   int64\n",
      " 43  Personal.Male.Married.Widowed           1000 non-null   int64\n",
      " 44  Personal.Female.Single                  1000 non-null   int64\n",
      " 45  OtherDebtorsGuarantors.None             1000 non-null   int64\n",
      " 46  OtherDebtorsGuarantors.CoApplicant      1000 non-null   int64\n",
      " 47  OtherDebtorsGuarantors.Guarantor        1000 non-null   int64\n",
      " 48  Property.RealEstate                     1000 non-null   int64\n",
      " 49  Property.Insurance                      1000 non-null   int64\n",
      " 50  Property.CarOther                       1000 non-null   int64\n",
      " 51  Property.Unknown                        1000 non-null   int64\n",
      " 52  OtherInstallmentPlans.Bank              1000 non-null   int64\n",
      " 53  OtherInstallmentPlans.Stores            1000 non-null   int64\n",
      " 54  OtherInstallmentPlans.None              1000 non-null   int64\n",
      " 55  Housing.Rent                            1000 non-null   int64\n",
      " 56  Housing.Own                             1000 non-null   int64\n",
      " 57  Housing.ForFree                         1000 non-null   int64\n",
      " 58  Job.UnemployedUnskilled                 1000 non-null   int64\n",
      " 59  Job.UnskilledResident                   1000 non-null   int64\n",
      " 60  Job.SkilledEmployee                     1000 non-null   int64\n",
      " 61  Job.Management.SelfEmp.HighlyQualified  1000 non-null   int64\n",
      "dtypes: int64(62)\n",
      "memory usage: 484.5 KB\n"
     ]
    }
   ],
   "source": [
    "df.info()"
   ],
   "metadata": {
    "collapsed": false
   }
  },
  {
   "cell_type": "code",
   "execution_count": 10,
   "outputs": [],
   "source": [
    "#from sklearn.neighbors import KNeighborsClassifier\n",
    "\n",
    "model = DecisionTreeClassifier()\n",
    "#model = KNeighborsClassifier()"
   ],
   "metadata": {
    "collapsed": false
   }
  },
  {
   "cell_type": "code",
   "execution_count": 11,
   "outputs": [
    {
     "name": "stdout",
     "output_type": "stream",
     "text": [
      "(1000, 61) (1000,)\n"
     ]
    }
   ],
   "source": [
    "y = df[\"Class\"].copy()\n",
    "#X = df[['Housing.Rent','Housing.ForFree']].copy()\n",
    "X = df.drop(\"Class\", axis=1)\n",
    "X_columns = X.columns\n",
    "print(X.shape, y.shape)\n",
    "\n"
   ],
   "metadata": {
    "collapsed": false
   }
  },
  {
   "cell_type": "code",
   "execution_count": 12,
   "metadata": {},
   "outputs": [
    {
     "data": {
      "text/plain": "((700, 61), (300, 61), (700,), (300,))"
     },
     "execution_count": 12,
     "metadata": {},
     "output_type": "execute_result"
    }
   ],
   "source": [
    "# Create training and test sets\n",
    "X_train, X_test, y_train, y_test = train_test_split(X, y, test_size=.3, random_state=42)\n",
    "X_train.shape, X_test.shape, y_train.shape, y_test.shape"
   ]
  },
  {
   "cell_type": "code",
   "execution_count": 13,
   "metadata": {},
   "outputs": [
    {
     "name": "stdout",
     "output_type": "stream",
     "text": [
      "Fitting 3 folds for each of 1 candidates, totalling 3 fits\n"
     ]
    },
    {
     "name": "stderr",
     "output_type": "stream",
     "text": [
      "[Parallel(n_jobs=3)]: Using backend LokyBackend with 3 concurrent workers.\n",
      "[Parallel(n_jobs=3)]: Done   3 out of   3 | elapsed:    1.8s finished\n"
     ]
    }
   ],
   "source": [
    "if False:\n",
    "    from sklearn.model_selection import cross_val_score\n",
    "\n",
    "    # Compute 5-fold cross-validation scores: cv_scores\n",
    "    cv_scores = cross_val_score(model, X_train, y_train, cv=5)\n",
    "\n",
    "    print(cv_scores)\n",
    "\n",
    "    print(\"Average 5-Fold CV Score: {}\".format(np.mean(cv_scores)))\n",
    "else:\n",
    "\n",
    "    param_options = {}\n",
    "\n",
    "    #crossval_runner = RandomizedSearchCV(\n",
    "    crossval_runner = GridSearchCV(\n",
    "        estimator=model,\n",
    "        param_grid=param_options,\n",
    "        #param_distributions=param_options,\n",
    "        cv=3, n_jobs=3,  # get the AVX/AVX2 info if use n_jobs > 2\n",
    "        verbose=1, scoring='r2',\n",
    "        refit=True,\n",
    "        return_train_score=True,  #n_iter=n_iter,\n",
    "        #n_iter=100,\n",
    "        #error_score='raise'\n",
    "    )\n",
    "\n",
    "    crossval_runner.fit(X_train, y_train)\n"
   ]
  },
  {
   "cell_type": "code",
   "execution_count": 14,
   "outputs": [
    {
     "data": {
      "text/plain": "DecisionTreeClassifier(ccp_alpha=0.0, class_weight=None, criterion='gini',\n                       max_depth=None, max_features=None, max_leaf_nodes=None,\n                       min_impurity_decrease=0.0, min_impurity_split=None,\n                       min_samples_leaf=1, min_samples_split=2,\n                       min_weight_fraction_leaf=0.0, presort='deprecated',\n                       random_state=None, splitter='best')"
     },
     "execution_count": 14,
     "metadata": {},
     "output_type": "execute_result"
    }
   ],
   "source": [
    "crossval_runner.best_estimator_"
   ],
   "metadata": {
    "collapsed": false
   }
  },
  {
   "cell_type": "code",
   "execution_count": 15,
   "metadata": {},
   "outputs": [
    {
     "data": {
      "text/plain": "array([1, 1, 0, 0, 1, 1, 1, 0, 1, 1, 1, 0, 0, 0, 0, 1, 1, 1, 1, 1, 1, 1,\n       1, 1, 1, 0, 0, 1, 1, 1, 1, 1, 0, 1, 1, 0, 1, 1, 1, 0, 0, 1, 1, 1,\n       1, 1, 0, 1, 0, 0, 1, 1, 1, 0, 1, 1, 1, 0, 0, 1, 1, 0, 1, 1, 0, 1,\n       1, 0, 0, 1, 1, 1, 1, 1, 1, 1, 0, 1, 1, 1, 1, 1, 1, 0, 1, 0, 0, 0,\n       1, 1, 1, 1, 0, 1, 1, 1, 1, 0, 0, 1, 1, 1, 1, 1, 1, 0, 0, 0, 1, 0,\n       0, 1, 1, 1, 0, 1, 1, 1, 1, 0, 1, 0, 1, 1, 1, 1, 0, 1, 0, 1, 1, 1,\n       1, 1, 1, 0, 1, 1, 1, 1, 0, 1, 0, 1, 0, 0, 1, 1, 1, 0, 1, 0, 1, 1,\n       1, 0, 1, 1, 1, 1, 1, 1, 0, 0, 1, 1, 1, 0, 1, 1, 0, 1, 1, 1, 1, 0,\n       0, 1, 1, 1, 1, 1, 1, 1, 1, 0, 0, 1, 1, 1, 1, 0, 0, 1, 1, 1, 0, 1,\n       0, 1, 0, 1, 1, 1, 1, 0, 1, 1, 0, 1, 0, 0, 0, 0, 1, 1, 0, 0, 1, 1,\n       1, 1, 0, 0, 0, 1, 1, 0, 1, 0, 1, 1, 0, 1, 1, 1, 1, 1, 1, 1, 0, 1,\n       1, 1, 0, 1, 0, 1, 1, 0, 1, 0, 0, 1, 0, 1, 1, 1, 1, 1, 1, 1, 1, 1,\n       1, 1, 1, 1, 0, 0, 1, 1, 1, 1, 1, 0, 1, 1, 1, 0, 1, 0, 1, 1, 1, 1,\n       0, 1, 1, 1, 0, 1, 0, 0, 1, 0, 1, 0, 1, 1])"
     },
     "execution_count": 15,
     "metadata": {},
     "output_type": "execute_result"
    }
   ],
   "source": [
    "# Predict on the test data: y_pred\n",
    "y_pred = crossval_runner.best_estimator_.predict(X_test)\n",
    "y_pred"
   ]
  },
  {
   "cell_type": "markdown",
   "metadata": {},
   "source": [
    "### After you've built the best model you can, now it's time to visualize it!"
   ]
  },
  {
   "cell_type": "markdown",
   "metadata": {},
   "source": [
    "Rememeber that amazing blog post from a few paragraphs ago, that demonstrated how to visualize and interpret the results of your Decision Tree model. We've seen that this can perform very well, but let's see how it does on the \"German Credit\" dataset that we're working on, due to it being a bit larger than the one used by the blog authors."
   ]
  },
  {
   "cell_type": "markdown",
   "metadata": {},
   "source": [
    "First, we're going to need to install their package. If you're using Anaconda, this can be done easily by running:"
   ]
  },
  {
   "cell_type": "code",
   "execution_count": 16,
   "metadata": {},
   "outputs": [
    {
     "name": "stdout",
     "output_type": "stream",
     "text": [
      "Requirement already satisfied: dtreeviz in /home/guava/venvs/mec-mini-projects/lib/python3.8/site-packages (1.4.0)\r\n",
      "Requirement already satisfied: scikit-learn in /home/guava/venvs/mec-mini-projects/lib/python3.8/site-packages (from dtreeviz) (0.22.1)\r\n",
      "Requirement already satisfied: graphviz>=0.9 in /home/guava/venvs/mec-mini-projects/lib/python3.8/site-packages (from dtreeviz) (0.20.1)\r\n",
      "Requirement already satisfied: pytest in /home/guava/venvs/mec-mini-projects/lib/python3.8/site-packages (from dtreeviz) (7.2.0)\r\n",
      "Requirement already satisfied: colour in /home/guava/venvs/mec-mini-projects/lib/python3.8/site-packages (from dtreeviz) (0.1.5)\r\n",
      "Requirement already satisfied: pandas in /home/guava/venvs/mec-mini-projects/lib/python3.8/site-packages (from dtreeviz) (1.0.1)\r\n",
      "Requirement already satisfied: numpy in /home/guava/venvs/mec-mini-projects/lib/python3.8/site-packages (from dtreeviz) (1.18.1)\r\n",
      "Requirement already satisfied: matplotlib in /home/guava/venvs/mec-mini-projects/lib/python3.8/site-packages (from dtreeviz) (3.2.0rc1)\r\n",
      "Requirement already satisfied: kiwisolver>=1.0.1 in /home/guava/venvs/mec-mini-projects/lib/python3.8/site-packages (from matplotlib->dtreeviz) (1.4.4)\r\n",
      "Requirement already satisfied: pyparsing!=2.0.4,!=2.1.2,!=2.1.6,>=2.0.1 in /home/guava/venvs/mec-mini-projects/lib/python3.8/site-packages (from matplotlib->dtreeviz) (3.0.9)\r\n",
      "Requirement already satisfied: python-dateutil>=2.1 in /home/guava/venvs/mec-mini-projects/lib/python3.8/site-packages (from matplotlib->dtreeviz) (2.8.2)\r\n",
      "Requirement already satisfied: cycler>=0.10 in /home/guava/venvs/mec-mini-projects/lib/python3.8/site-packages (from matplotlib->dtreeviz) (0.11.0)\r\n",
      "Requirement already satisfied: pytz>=2017.2 in /home/guava/venvs/mec-mini-projects/lib/python3.8/site-packages (from pandas->dtreeviz) (2022.6)\r\n",
      "Requirement already satisfied: pluggy<2.0,>=0.12 in /home/guava/venvs/mec-mini-projects/lib/python3.8/site-packages (from pytest->dtreeviz) (1.0.0)\r\n",
      "Requirement already satisfied: tomli>=1.0.0 in /home/guava/venvs/mec-mini-projects/lib/python3.8/site-packages (from pytest->dtreeviz) (2.0.1)\r\n",
      "Requirement already satisfied: iniconfig in /home/guava/venvs/mec-mini-projects/lib/python3.8/site-packages (from pytest->dtreeviz) (1.1.1)\r\n",
      "Requirement already satisfied: attrs>=19.2.0 in /home/guava/venvs/mec-mini-projects/lib/python3.8/site-packages (from pytest->dtreeviz) (22.1.0)\r\n",
      "Requirement already satisfied: packaging in /home/guava/venvs/mec-mini-projects/lib/python3.8/site-packages (from pytest->dtreeviz) (21.3)\r\n",
      "Requirement already satisfied: exceptiongroup>=1.0.0rc8 in /home/guava/venvs/mec-mini-projects/lib/python3.8/site-packages (from pytest->dtreeviz) (1.0.1)\r\n",
      "Requirement already satisfied: scipy>=0.17.0 in /home/guava/venvs/mec-mini-projects/lib/python3.8/site-packages (from scikit-learn->dtreeviz) (1.4.1)\r\n",
      "Requirement already satisfied: joblib>=0.11 in /home/guava/venvs/mec-mini-projects/lib/python3.8/site-packages (from scikit-learn->dtreeviz) (0.14.1)\r\n",
      "Requirement already satisfied: six>=1.5 in /home/guava/venvs/mec-mini-projects/lib/python3.8/site-packages (from python-dateutil>=2.1->matplotlib->dtreeviz) (1.16.0)\r\n"
     ]
    }
   ],
   "source": [
    "! pip install dtreeviz"
   ]
  },
  {
   "cell_type": "markdown",
   "metadata": {},
   "source": [
    "If for any reason this way of installing doesn't work for you straight out of the box, please refer to the more detailed documentation here: https://github.com/parrt/dtreeviz"
   ]
  },
  {
   "cell_type": "markdown",
   "metadata": {},
   "source": [
    "Now you're ready to visualize your Decision Tree model! Please feel free to use the blog post for guidance and inspiration!"
   ]
  },
  {
   "cell_type": "code",
   "execution_count": 17,
   "metadata": {},
   "outputs": [
    {
     "name": "stdout",
     "output_type": "stream",
     "text": [
      "[['Bad']\n",
      " ['Good']]\n",
      "[1. 0. 1. 1. 0.]\n"
     ]
    }
   ],
   "source": [
    "from numpy import asarray\n",
    "from sklearn.preprocessing import OrdinalEncoder\n",
    "\n",
    "# define data\n",
    "data = asarray([['Bad'], ['Good']])\n",
    "print(data)\n",
    "# define ordinal encoding\n",
    "encoder = OrdinalEncoder()\n",
    "# transform data\n",
    "y_numeric = encoder.fit_transform(df[[\"Class\"]]).flatten()\n",
    "print(y_numeric[:5])"
   ]
  },
  {
   "cell_type": "code",
   "execution_count": 18,
   "metadata": {},
   "outputs": [
    {
     "name": "stderr",
     "output_type": "stream",
     "text": [
      "findfont: Font family ['Arial'] not found. Falling back to DejaVu Sans.\n",
      "findfont: Font family ['Arial'] not found. Falling back to DejaVu Sans.\n",
      "findfont: Font family ['Arial'] not found. Falling back to DejaVu Sans.\n",
      "findfont: Font family ['Arial'] not found. Falling back to DejaVu Sans.\n"
     ]
    }
   ],
   "source": [
    "from dtreeviz.trees import *\n",
    "\n",
    "viz = dtreeviz(crossval_runner.best_estimator_,\n",
    "               X,\n",
    "               y_numeric,\n",
    "               target_name='Class',\n",
    "               #class_names=[\"Good\", \"Bad\"],\n",
    "               class_names=[0,1],\n",
    "               feature_names=X.columns\n",
    "               )\n",
    "viz.view()"
   ]
  },
  {
   "cell_type": "code",
   "execution_count": 19,
   "outputs": [],
   "source": [
    "viz.save('file.svg')"
   ],
   "metadata": {
    "collapsed": false
   }
  },
  {
   "cell_type": "markdown",
   "metadata": {},
   "source": [
    "## Random Forests"
   ]
  },
  {
   "cell_type": "markdown",
   "metadata": {},
   "source": [
    "As discussed in the lecture videos, Decision Tree algorithms also have certain undesireable properties. Mainly the have low bias, which is good, but tend to have high variance - which is *not* so good (more about this problem here: https://en.wikipedia.org/wiki/Bias%E2%80%93variance_tradeoff)."
   ]
  },
  {
   "cell_type": "markdown",
   "metadata": {},
   "source": [
    "Noticing these problems, the late Professor Leo Breiman, in 2001, developed the Random Forests algorithm, which mitigates these problems, while at the same time providing even higher predictive accuracy than the majority of Decision Tree algorithm implementations. While the curriculum contains two excellent lectures on Random Forests, if you're interested, you can dive into the original paper here: https://link.springer.com/content/pdf/10.1023%2FA%3A1010933404324.pdf."
   ]
  },
  {
   "cell_type": "markdown",
   "metadata": {},
   "source": [
    "In the next part of this assignment, your are going to use the same \"German Credit\" dataset to train, tune, and measure the performance of a Random Forests model. You will also see certain functionalities that this model, even though it's a bit of a \"black box\", provides for some degree of interpretability."
   ]
  },
  {
   "cell_type": "markdown",
   "metadata": {},
   "source": [
    "First, let's build a Random Forests model, using the same best practices that you've used for your Decision Trees model. You can reuse the things you've already imported there, so no need to do any re-imports, new train/test splits, or loading up the data again."
   ]
  },
  {
   "cell_type": "code",
   "execution_count": 20,
   "metadata": {},
   "outputs": [],
   "source": [
    "from sklearn.ensemble import RandomForestClassifier"
   ]
  },
  {
   "cell_type": "code",
   "execution_count": 21,
   "metadata": {},
   "outputs": [
    {
     "name": "stdout",
     "output_type": "stream",
     "text": [
      "Fitting 3 folds for each of 1 candidates, totalling 3 fits\n"
     ]
    },
    {
     "name": "stderr",
     "output_type": "stream",
     "text": [
      "[Parallel(n_jobs=3)]: Using backend LokyBackend with 3 concurrent workers.\n",
      "[Parallel(n_jobs=3)]: Done   3 out of   3 | elapsed:    1.2s finished\n"
     ]
    },
    {
     "data": {
      "text/plain": "GridSearchCV(cv=3, error_score=nan,\n             estimator=RandomForestRegressor(bootstrap=True, ccp_alpha=0.0,\n                                             criterion='mse', max_depth=None,\n                                             max_features='auto',\n                                             max_leaf_nodes=None,\n                                             max_samples=None,\n                                             min_impurity_decrease=0.0,\n                                             min_impurity_split=None,\n                                             min_samples_leaf=1,\n                                             min_samples_split=2,\n                                             min_weight_fraction_leaf=0.0,\n                                             n_estimators=100, n_jobs=None,\n                                             oob_score=False, random_state=0,\n                                             verbose=0, warm_start=False),\n             iid='deprecated', n_jobs=3, param_grid={}, pre_dispatch='2*n_jobs',\n             refit=True, return_train_score=True, scoring='r2', verbose=1)"
     },
     "execution_count": 21,
     "metadata": {},
     "output_type": "execute_result"
    }
   ],
   "source": [
    "# Your code here! :)\n",
    "\n",
    "from sklearn.ensemble import RandomForestRegressor\n",
    "\n",
    "# create regressor object\n",
    "model = RandomForestRegressor(n_estimators=100, random_state=0)\n",
    "\n",
    "crossval_runner2 = GridSearchCV(\n",
    "    estimator=model,\n",
    "    param_grid=param_options,\n",
    "    #param_distributions=param_options,\n",
    "    cv=3, n_jobs=3,  # get the AVX/AVX2 info if use n_jobs > 2\n",
    "    verbose=1, scoring='r2',\n",
    "    refit=True,\n",
    "    return_train_score=True,  #n_iter=n_iter,\n",
    "    #n_iter=100,\n",
    "    #error_score='raise'\n",
    ")\n",
    "\n",
    "crossval_runner2.fit(X_train, y_train)\n"
   ]
  },
  {
   "cell_type": "code",
   "execution_count": 22,
   "outputs": [
    {
     "name": "stdout",
     "output_type": "stream",
     "text": [
      "It's not possible to use dtreevizs with a RandomForest.  Tree model must be in (DecisionTreeRegressor, DecisionTreeClassifier, xgboost.core.Booster, lightgbm.basic.Booster, pyspark DecisionTreeClassificationModel or pyspark DecisionTreeClassificationModel) but you passed a RandomForestRegressor!\n"
     ]
    }
   ],
   "source": [
    "\n",
    "try:\n",
    "    viz = dtreeviz(crossval_runner2.best_estimator_,\n",
    "                   X,\n",
    "                   y_numeric,\n",
    "                   target_name='Class',\n",
    "                   class_names=[\"Good\", \"Bad\"],\n",
    "                   feature_names=X.columns\n",
    "                   )\n",
    "    viz.view()\n",
    "except ValueError as e:\n",
    "    print(\"It's not possible to use dtreevizs with a RandomForest. \", e)"
   ],
   "metadata": {
    "collapsed": false
   }
  },
  {
   "cell_type": "markdown",
   "metadata": {},
   "source": [
    "As mentioned, there are certain ways to \"peek\" into a model created by the Random Forests algorithm. The first, and most popular one, is the Feature Importance calculation functionality. This allows the ML practitioner to see an ordering of the importance of the features that have contributed the most to the predictive accuracy of the model. \n",
    "\n",
    "You can see how to use this in the scikit-learn documentation (http://scikit-learn.org/stable/modules/generated/sklearn.ensemble.RandomForestClassifier.html#sklearn.ensemble.RandomForestClassifier.feature_importances_). Now, if you tried this, you would just get an ordered table of not directly interpretable numeric values. Thus, it's much more useful to show the feature importance in a visual way. You can see an example of how that's done here: http://scikit-learn.org/stable/auto_examples/ensemble/plot_forest_importances.html#sphx-glr-auto-examples-ensemble-plot-forest-importances-py\n",
    "\n",
    "Now you try! Let's visualize the importance of features from your Random Forests model!"
   ]
  },
  {
   "cell_type": "code",
   "execution_count": 23,
   "metadata": {},
   "outputs": [
    {
     "data": {
      "text/plain": "array([0.09704474, 0.14020133, 0.02819863, 0.03258448, 0.10208231,\n       0.01517652, 0.00694549, 0.01264724, 0.00298661, 0.01731552,\n       0.00507418, 0.01061668, 0.08689503, 0.01691186, 0.0089429 ,\n       0.01332952, 0.00566279, 0.0210518 , 0.02659008, 0.00565165,\n       0.00919772, 0.01014081, 0.00265185, 0.00610234, 0.01181089,\n       0.        , 0.00074522, 0.01324841, 0.0011064 , 0.0212499 ,\n       0.00658025, 0.00710281, 0.00426733, 0.0131898 , 0.0130251 ,\n       0.00849444, 0.00771651, 0.00816973, 0.01942406, 0.00586893,\n       0.01211659, 0.00986189, 0.00964959, 0.        , 0.0099463 ,\n       0.00422277, 0.00687356, 0.01165943, 0.00985995, 0.00896314,\n       0.01008419, 0.00990651, 0.00494534, 0.01223559, 0.00680543,\n       0.01111096, 0.00520396, 0.00226702, 0.00977446, 0.01145546,\n       0.00705596])"
     },
     "execution_count": 23,
     "metadata": {},
     "output_type": "execute_result"
    }
   ],
   "source": [
    "feature_importances = crossval_runner2.best_estimator_.feature_importances_\n",
    "feature_importances"
   ]
  },
  {
   "cell_type": "code",
   "execution_count": 24,
   "outputs": [
    {
     "name": "stdout",
     "output_type": "stream",
     "text": [
      "Feature Ranking:\n",
      "1: feature1/Amount    Importance = 0.140201\n",
      "2: feature4/Age    Importance = 0.102082\n",
      "3: feature0/Duration    Importance = 0.097045\n",
      "4: feature12/CheckingAccountStatus.none    Importance = 0.086895\n",
      "5: feature3/ResidenceDuration    Importance = 0.032584\n",
      "6: feature2/InstallmentRatePercentage    Importance = 0.028199\n",
      "7: feature18/Purpose.NewCar    Importance = 0.02659\n",
      "8: feature29/SavingsAccountBonds.lt.100    Importance = 0.02125\n",
      "9: feature17/CreditHistory.Critical    Importance = 0.021052\n",
      "10: feature38/EmploymentDuration.Unemployed    Importance = 0.019424\n",
      "11: feature9/CheckingAccountStatus.lt.0    Importance = 0.017316\n",
      "12: feature13/CreditHistory.NoCredit.AllPaid    Importance = 0.016912\n",
      "13: feature5/NumberExistingCredits    Importance = 0.015177\n",
      "14: feature15/CreditHistory.PaidDuly    Importance = 0.01333\n",
      "15: feature27/Purpose.Business    Importance = 0.013248\n",
      "16: feature33/SavingsAccountBonds.Unknown    Importance = 0.01319\n",
      "17: feature34/EmploymentDuration.lt.1    Importance = 0.013025\n",
      "18: feature7/Telephone    Importance = 0.012647\n",
      "19: feature53/OtherInstallmentPlans.None    Importance = 0.012236\n",
      "20: feature40/Personal.Female.NotSingle    Importance = 0.012117\n",
      "21: feature24/Purpose.Education    Importance = 0.011811\n",
      "22: feature47/Property.RealEstate    Importance = 0.011659\n",
      "23: feature59/Job.SkilledEmployee    Importance = 0.011455\n",
      "24: feature55/Housing.Own    Importance = 0.011111\n",
      "25: feature11/CheckingAccountStatus.gt.200    Importance = 0.010617\n",
      "26: feature21/Purpose.Radio.Television    Importance = 0.010141\n",
      "27: feature50/Property.Unknown    Importance = 0.010084\n",
      "28: feature44/OtherDebtorsGuarantors.None    Importance = 0.009946\n",
      "29: feature51/OtherInstallmentPlans.Bank    Importance = 0.009907\n",
      "30: feature41/Personal.Male.Single    Importance = 0.009862\n",
      "31: feature48/Property.Insurance    Importance = 0.00986\n",
      "32: feature58/Job.UnskilledResident    Importance = 0.009774\n",
      "33: feature42/Personal.Male.Married.Widowed    Importance = 0.00965\n",
      "34: feature20/Purpose.Furniture.Equipment    Importance = 0.009198\n",
      "35: feature49/Property.CarOther    Importance = 0.008963\n",
      "36: feature14/CreditHistory.ThisBank.AllPaid    Importance = 0.008943\n",
      "37: feature35/EmploymentDuration.1.to.4    Importance = 0.008494\n",
      "38: feature37/EmploymentDuration.gt.7    Importance = 0.00817\n",
      "39: feature36/EmploymentDuration.4.to.7    Importance = 0.007717\n",
      "40: feature31/SavingsAccountBonds.500.to.1000    Importance = 0.007103\n",
      "41: feature60/Job.Management.SelfEmp.HighlyQualified    Importance = 0.007056\n",
      "42: feature6/NumberPeopleMaintenance    Importance = 0.006945\n",
      "43: feature46/OtherDebtorsGuarantors.Guarantor    Importance = 0.006874\n",
      "44: feature54/Housing.Rent    Importance = 0.006805\n",
      "45: feature30/SavingsAccountBonds.100.to.500    Importance = 0.00658\n",
      "46: feature23/Purpose.Repairs    Importance = 0.006102\n",
      "47: feature39/Personal.Male.Divorced.Seperated    Importance = 0.005869\n",
      "48: feature16/CreditHistory.Delay    Importance = 0.005663\n",
      "49: feature19/Purpose.UsedCar    Importance = 0.005652\n",
      "50: feature56/Housing.ForFree    Importance = 0.005204\n",
      "51: feature10/CheckingAccountStatus.0.to.200    Importance = 0.005074\n",
      "52: feature52/OtherInstallmentPlans.Stores    Importance = 0.004945\n",
      "53: feature32/SavingsAccountBonds.gt.1000    Importance = 0.004267\n",
      "54: feature45/OtherDebtorsGuarantors.CoApplicant    Importance = 0.004223\n",
      "55: feature8/ForeignWorker    Importance = 0.002987\n",
      "56: feature22/Purpose.DomesticAppliance    Importance = 0.002652\n",
      "57: feature57/Job.UnemployedUnskilled    Importance = 0.002267\n",
      "58: feature28/Purpose.Other    Importance = 0.001106\n",
      "59: feature26/Purpose.Retraining    Importance = 0.000745\n",
      "60: feature25/Purpose.Vacation    Importance = 0.0\n",
      "61: feature43/Personal.Female.Single    Importance = 0.0\n"
     ]
    }
   ],
   "source": [
    "indices = np.argsort(feature_importances)[::-1]\n",
    "\n",
    "print('Feature Ranking:')\n",
    "\n",
    "for f in range(X_train.shape[1]):\n",
    "    #print('%d. features %d (%f)' % (f + 1, indices[f], feature_importances[indices[f]]), X_columns[indices[f] + 1])\n",
    "    print(f'{f + 1}: feature{indices[f]}/{X_columns[indices[f]]}    Importance = {round(feature_importances[indices[f]],6)}')\n"
   ],
   "metadata": {
    "collapsed": false
   }
  },
  {
   "cell_type": "markdown",
   "metadata": {},
   "source": [
    "A final method for gaining some insight into the inner working of your Random Forests models is a so-called Partial Dependence Plot. The Partial Dependence Plot (PDP or PD plot) shows the marginal effect of a feature on the predicted outcome of a previously fit model. The prediction function is fixed at a few values of the chosen features and averaged over the other features. A partial dependence plot can show if the relationship between the target and a feature is linear, monotonic or more complex. \n",
    "\n",
    "In scikit-learn, PDPs are implemented and available for certain algorithms, but at this point (version 0.20.0) they are not yet implemented for Random Forests. Thankfully, there is an add-on package called **PDPbox** (https://pdpbox.readthedocs.io/en/latest/) which adds this functionality to Random Forests. The package is easy to install through pip."
   ]
  },
  {
   "cell_type": "code",
   "execution_count": 27,
   "metadata": {},
   "outputs": [
    {
     "name": "stdout",
     "output_type": "stream",
     "text": [
      "Requirement already satisfied: pdpbox in /home/guava/venvs/mec-mini-projects/lib/python3.8/site-packages/PDPbox-0.2.1-py3.8.egg (0.2.1)\r\n",
      "Requirement already satisfied: pandas in /home/guava/venvs/mec-mini-projects/lib/python3.8/site-packages (from pdpbox) (1.0.1)\r\n",
      "Requirement already satisfied: numpy in /home/guava/venvs/mec-mini-projects/lib/python3.8/site-packages (from pdpbox) (1.18.1)\r\n",
      "Requirement already satisfied: scipy in /home/guava/venvs/mec-mini-projects/lib/python3.8/site-packages (from pdpbox) (1.4.1)\r\n",
      "Requirement already satisfied: joblib in /home/guava/venvs/mec-mini-projects/lib/python3.8/site-packages (from pdpbox) (0.14.1)\r\n",
      "Requirement already satisfied: psutil in /home/guava/venvs/mec-mini-projects/lib/python3.8/site-packages (from pdpbox) (5.9.4)\r\n",
      "Collecting matplotlib==3.1.1\r\n",
      "  Using cached matplotlib-3.1.1.tar.gz (37.8 MB)\r\n",
      "  Preparing metadata (setup.py) ... \u001B[?25ldone\r\n",
      "\u001B[?25hRequirement already satisfied: sklearn in /home/guava/venvs/mec-mini-projects/lib/python3.8/site-packages (from pdpbox) (0.0.post1)\r\n",
      "Requirement already satisfied: cycler>=0.10 in /home/guava/venvs/mec-mini-projects/lib/python3.8/site-packages (from matplotlib==3.1.1->pdpbox) (0.11.0)\r\n",
      "Requirement already satisfied: kiwisolver>=1.0.1 in /home/guava/venvs/mec-mini-projects/lib/python3.8/site-packages (from matplotlib==3.1.1->pdpbox) (1.4.4)\r\n",
      "Requirement already satisfied: pyparsing!=2.0.4,!=2.1.2,!=2.1.6,>=2.0.1 in /home/guava/venvs/mec-mini-projects/lib/python3.8/site-packages (from matplotlib==3.1.1->pdpbox) (3.0.9)\r\n",
      "Requirement already satisfied: python-dateutil>=2.1 in /home/guava/venvs/mec-mini-projects/lib/python3.8/site-packages (from matplotlib==3.1.1->pdpbox) (2.8.2)\r\n",
      "Requirement already satisfied: pytz>=2017.2 in /home/guava/venvs/mec-mini-projects/lib/python3.8/site-packages (from pandas->pdpbox) (2022.6)\r\n",
      "Requirement already satisfied: six>=1.5 in /home/guava/venvs/mec-mini-projects/lib/python3.8/site-packages (from python-dateutil>=2.1->matplotlib==3.1.1->pdpbox) (1.16.0)\r\n",
      "Building wheels for collected packages: matplotlib\r\n",
      "  Building wheel for matplotlib (setup.py) ... \u001B[?25lerror\r\n",
      "  \u001B[1;31merror\u001B[0m: \u001B[1msubprocess-exited-with-error\u001B[0m\r\n",
      "  \r\n",
      "  \u001B[31m×\u001B[0m \u001B[32mpython setup.py bdist_wheel\u001B[0m did not run successfully.\r\n",
      "  \u001B[31m│\u001B[0m exit code: \u001B[1;36m1\u001B[0m\r\n",
      "  \u001B[31m╰─>\u001B[0m \u001B[31m[504 lines of output]\u001B[0m\r\n",
      "  \u001B[31m   \u001B[0m ================================================================================\r\n",
      "  \u001B[31m   \u001B[0m Edit setup.cfg to change the build options\r\n",
      "  \u001B[31m   \u001B[0m \r\n",
      "  \u001B[31m   \u001B[0m BUILDING MATPLOTLIB\r\n",
      "  \u001B[31m   \u001B[0m   matplotlib: yes [3.1.1]\r\n",
      "  \u001B[31m   \u001B[0m       python: yes [3.8.10 (default, Jun 22 2022, 20:18:18)  [GCC 9.4.0]]\r\n",
      "  \u001B[31m   \u001B[0m     platform: yes [linux]\r\n",
      "  \u001B[31m   \u001B[0m \r\n",
      "  \u001B[31m   \u001B[0m OPTIONAL SUBPACKAGES\r\n",
      "  \u001B[31m   \u001B[0m  sample_data: yes [installing]\r\n",
      "  \u001B[31m   \u001B[0m        tests: no  [skipping due to configuration]\r\n",
      "  \u001B[31m   \u001B[0m \r\n",
      "  \u001B[31m   \u001B[0m OPTIONAL BACKEND EXTENSIONS\r\n",
      "  \u001B[31m   \u001B[0m          agg: yes [installing]\r\n",
      "  \u001B[31m   \u001B[0m        tkagg: yes [installing; run-time loading from Python Tcl/Tk]\r\n",
      "  \u001B[31m   \u001B[0m       macosx: no  [Mac OS-X only]\r\n",
      "  \u001B[31m   \u001B[0m \r\n",
      "  \u001B[31m   \u001B[0m OPTIONAL PACKAGE DATA\r\n",
      "  \u001B[31m   \u001B[0m         dlls: no  [skipping due to configuration]\r\n",
      "  \u001B[31m   \u001B[0m \r\n",
      "  \u001B[31m   \u001B[0m running bdist_wheel\r\n",
      "  \u001B[31m   \u001B[0m running build\r\n",
      "  \u001B[31m   \u001B[0m running build_py\r\n",
      "  \u001B[31m   \u001B[0m creating build\r\n",
      "  \u001B[31m   \u001B[0m creating build/lib.linux-x86_64-3.8\r\n",
      "  \u001B[31m   \u001B[0m copying lib/pylab.py -> build/lib.linux-x86_64-3.8\r\n",
      "  \u001B[31m   \u001B[0m creating build/lib.linux-x86_64-3.8/matplotlib\r\n",
      "  \u001B[31m   \u001B[0m copying lib/matplotlib/sankey.py -> build/lib.linux-x86_64-3.8/matplotlib\r\n",
      "  \u001B[31m   \u001B[0m copying lib/matplotlib/rcsetup.py -> build/lib.linux-x86_64-3.8/matplotlib\r\n",
      "  \u001B[31m   \u001B[0m copying lib/matplotlib/patheffects.py -> build/lib.linux-x86_64-3.8/matplotlib\r\n",
      "  \u001B[31m   \u001B[0m copying lib/matplotlib/quiver.py -> build/lib.linux-x86_64-3.8/matplotlib\r\n",
      "  \u001B[31m   \u001B[0m copying lib/matplotlib/pyplot.py -> build/lib.linux-x86_64-3.8/matplotlib\r\n",
      "  \u001B[31m   \u001B[0m copying lib/matplotlib/backend_managers.py -> build/lib.linux-x86_64-3.8/matplotlib\r\n",
      "  \u001B[31m   \u001B[0m copying lib/matplotlib/_color_data.py -> build/lib.linux-x86_64-3.8/matplotlib\r\n",
      "  \u001B[31m   \u001B[0m copying lib/matplotlib/backend_bases.py -> build/lib.linux-x86_64-3.8/matplotlib\r\n",
      "  \u001B[31m   \u001B[0m copying lib/matplotlib/artist.py -> build/lib.linux-x86_64-3.8/matplotlib\r\n",
      "  \u001B[31m   \u001B[0m copying lib/matplotlib/axis.py -> build/lib.linux-x86_64-3.8/matplotlib\r\n",
      "  \u001B[31m   \u001B[0m copying lib/matplotlib/textpath.py -> build/lib.linux-x86_64-3.8/matplotlib\r\n",
      "  \u001B[31m   \u001B[0m copying lib/matplotlib/animation.py -> build/lib.linux-x86_64-3.8/matplotlib\r\n",
      "  \u001B[31m   \u001B[0m copying lib/matplotlib/_constrained_layout.py -> build/lib.linux-x86_64-3.8/matplotlib\r\n",
      "  \u001B[31m   \u001B[0m copying lib/matplotlib/scale.py -> build/lib.linux-x86_64-3.8/matplotlib\r\n",
      "  \u001B[31m   \u001B[0m copying lib/matplotlib/_cm.py -> build/lib.linux-x86_64-3.8/matplotlib\r\n",
      "  \u001B[31m   \u001B[0m copying lib/matplotlib/contour.py -> build/lib.linux-x86_64-3.8/matplotlib\r\n",
      "  \u001B[31m   \u001B[0m copying lib/matplotlib/widgets.py -> build/lib.linux-x86_64-3.8/matplotlib\r\n",
      "  \u001B[31m   \u001B[0m copying lib/matplotlib/container.py -> build/lib.linux-x86_64-3.8/matplotlib\r\n",
      "  \u001B[31m   \u001B[0m copying lib/matplotlib/blocking_input.py -> build/lib.linux-x86_64-3.8/matplotlib\r\n",
      "  \u001B[31m   \u001B[0m copying lib/matplotlib/patches.py -> build/lib.linux-x86_64-3.8/matplotlib\r\n",
      "  \u001B[31m   \u001B[0m copying lib/matplotlib/dviread.py -> build/lib.linux-x86_64-3.8/matplotlib\r\n",
      "  \u001B[31m   \u001B[0m copying lib/matplotlib/afm.py -> build/lib.linux-x86_64-3.8/matplotlib\r\n",
      "  \u001B[31m   \u001B[0m copying lib/matplotlib/legend_handler.py -> build/lib.linux-x86_64-3.8/matplotlib\r\n",
      "  \u001B[31m   \u001B[0m copying lib/matplotlib/colorbar.py -> build/lib.linux-x86_64-3.8/matplotlib\r\n",
      "  \u001B[31m   \u001B[0m copying lib/matplotlib/_animation_data.py -> build/lib.linux-x86_64-3.8/matplotlib\r\n",
      "  \u001B[31m   \u001B[0m copying lib/matplotlib/text.py -> build/lib.linux-x86_64-3.8/matplotlib\r\n",
      "  \u001B[31m   \u001B[0m copying lib/matplotlib/tight_layout.py -> build/lib.linux-x86_64-3.8/matplotlib\r\n",
      "  \u001B[31m   \u001B[0m copying lib/matplotlib/mathtext.py -> build/lib.linux-x86_64-3.8/matplotlib\r\n",
      "  \u001B[31m   \u001B[0m copying lib/matplotlib/lines.py -> build/lib.linux-x86_64-3.8/matplotlib\r\n",
      "  \u001B[31m   \u001B[0m copying lib/matplotlib/__init__.py -> build/lib.linux-x86_64-3.8/matplotlib\r\n",
      "  \u001B[31m   \u001B[0m copying lib/matplotlib/markers.py -> build/lib.linux-x86_64-3.8/matplotlib\r\n",
      "  \u001B[31m   \u001B[0m copying lib/matplotlib/legend.py -> build/lib.linux-x86_64-3.8/matplotlib\r\n",
      "  \u001B[31m   \u001B[0m copying lib/matplotlib/type1font.py -> build/lib.linux-x86_64-3.8/matplotlib\r\n",
      "  \u001B[31m   \u001B[0m copying lib/matplotlib/cm.py -> build/lib.linux-x86_64-3.8/matplotlib\r\n",
      "  \u001B[31m   \u001B[0m copying lib/matplotlib/collections.py -> build/lib.linux-x86_64-3.8/matplotlib\r\n",
      "  \u001B[31m   \u001B[0m copying lib/matplotlib/units.py -> build/lib.linux-x86_64-3.8/matplotlib\r\n",
      "  \u001B[31m   \u001B[0m copying lib/matplotlib/_mathtext_data.py -> build/lib.linux-x86_64-3.8/matplotlib\r\n",
      "  \u001B[31m   \u001B[0m copying lib/matplotlib/_version.py -> build/lib.linux-x86_64-3.8/matplotlib\r\n",
      "  \u001B[31m   \u001B[0m copying lib/matplotlib/texmanager.py -> build/lib.linux-x86_64-3.8/matplotlib\r\n",
      "  \u001B[31m   \u001B[0m copying lib/matplotlib/hatch.py -> build/lib.linux-x86_64-3.8/matplotlib\r\n",
      "  \u001B[31m   \u001B[0m copying lib/matplotlib/_pylab_helpers.py -> build/lib.linux-x86_64-3.8/matplotlib\r\n",
      "  \u001B[31m   \u001B[0m copying lib/matplotlib/font_manager.py -> build/lib.linux-x86_64-3.8/matplotlib\r\n",
      "  \u001B[31m   \u001B[0m copying lib/matplotlib/_layoutbox.py -> build/lib.linux-x86_64-3.8/matplotlib\r\n",
      "  \u001B[31m   \u001B[0m copying lib/matplotlib/tight_bbox.py -> build/lib.linux-x86_64-3.8/matplotlib\r\n",
      "  \u001B[31m   \u001B[0m copying lib/matplotlib/pylab.py -> build/lib.linux-x86_64-3.8/matplotlib\r\n",
      "  \u001B[31m   \u001B[0m copying lib/matplotlib/gridspec.py -> build/lib.linux-x86_64-3.8/matplotlib\r\n",
      "  \u001B[31m   \u001B[0m copying lib/matplotlib/transforms.py -> build/lib.linux-x86_64-3.8/matplotlib\r\n",
      "  \u001B[31m   \u001B[0m copying lib/matplotlib/offsetbox.py -> build/lib.linux-x86_64-3.8/matplotlib\r\n",
      "  \u001B[31m   \u001B[0m copying lib/matplotlib/category.py -> build/lib.linux-x86_64-3.8/matplotlib\r\n",
      "  \u001B[31m   \u001B[0m copying lib/matplotlib/_cm_listed.py -> build/lib.linux-x86_64-3.8/matplotlib\r\n",
      "  \u001B[31m   \u001B[0m copying lib/matplotlib/bezier.py -> build/lib.linux-x86_64-3.8/matplotlib\r\n",
      "  \u001B[31m   \u001B[0m copying lib/matplotlib/stackplot.py -> build/lib.linux-x86_64-3.8/matplotlib\r\n",
      "  \u001B[31m   \u001B[0m copying lib/matplotlib/mlab.py -> build/lib.linux-x86_64-3.8/matplotlib\r\n",
      "  \u001B[31m   \u001B[0m copying lib/matplotlib/dates.py -> build/lib.linux-x86_64-3.8/matplotlib\r\n",
      "  \u001B[31m   \u001B[0m copying lib/matplotlib/streamplot.py -> build/lib.linux-x86_64-3.8/matplotlib\r\n",
      "  \u001B[31m   \u001B[0m copying lib/matplotlib/docstring.py -> build/lib.linux-x86_64-3.8/matplotlib\r\n",
      "  \u001B[31m   \u001B[0m copying lib/matplotlib/spines.py -> build/lib.linux-x86_64-3.8/matplotlib\r\n",
      "  \u001B[31m   \u001B[0m copying lib/matplotlib/table.py -> build/lib.linux-x86_64-3.8/matplotlib\r\n",
      "  \u001B[31m   \u001B[0m copying lib/matplotlib/ticker.py -> build/lib.linux-x86_64-3.8/matplotlib\r\n",
      "  \u001B[31m   \u001B[0m copying lib/matplotlib/backend_tools.py -> build/lib.linux-x86_64-3.8/matplotlib\r\n",
      "  \u001B[31m   \u001B[0m copying lib/matplotlib/fontconfig_pattern.py -> build/lib.linux-x86_64-3.8/matplotlib\r\n",
      "  \u001B[31m   \u001B[0m copying lib/matplotlib/image.py -> build/lib.linux-x86_64-3.8/matplotlib\r\n",
      "  \u001B[31m   \u001B[0m copying lib/matplotlib/path.py -> build/lib.linux-x86_64-3.8/matplotlib\r\n",
      "  \u001B[31m   \u001B[0m copying lib/matplotlib/figure.py -> build/lib.linux-x86_64-3.8/matplotlib\r\n",
      "  \u001B[31m   \u001B[0m copying lib/matplotlib/colors.py -> build/lib.linux-x86_64-3.8/matplotlib\r\n",
      "  \u001B[31m   \u001B[0m creating build/lib.linux-x86_64-3.8/mpl_toolkits\r\n",
      "  \u001B[31m   \u001B[0m copying lib/mpl_toolkits/__init__.py -> build/lib.linux-x86_64-3.8/mpl_toolkits\r\n",
      "  \u001B[31m   \u001B[0m creating build/lib.linux-x86_64-3.8/matplotlib/style\r\n",
      "  \u001B[31m   \u001B[0m copying lib/matplotlib/style/__init__.py -> build/lib.linux-x86_64-3.8/matplotlib/style\r\n",
      "  \u001B[31m   \u001B[0m copying lib/matplotlib/style/core.py -> build/lib.linux-x86_64-3.8/matplotlib/style\r\n",
      "  \u001B[31m   \u001B[0m creating build/lib.linux-x86_64-3.8/matplotlib/projections\r\n",
      "  \u001B[31m   \u001B[0m copying lib/matplotlib/projections/polar.py -> build/lib.linux-x86_64-3.8/matplotlib/projections\r\n",
      "  \u001B[31m   \u001B[0m copying lib/matplotlib/projections/__init__.py -> build/lib.linux-x86_64-3.8/matplotlib/projections\r\n",
      "  \u001B[31m   \u001B[0m copying lib/matplotlib/projections/geo.py -> build/lib.linux-x86_64-3.8/matplotlib/projections\r\n",
      "  \u001B[31m   \u001B[0m creating build/lib.linux-x86_64-3.8/matplotlib/sphinxext\r\n",
      "  \u001B[31m   \u001B[0m copying lib/matplotlib/sphinxext/__init__.py -> build/lib.linux-x86_64-3.8/matplotlib/sphinxext\r\n",
      "  \u001B[31m   \u001B[0m copying lib/matplotlib/sphinxext/plot_directive.py -> build/lib.linux-x86_64-3.8/matplotlib/sphinxext\r\n",
      "  \u001B[31m   \u001B[0m copying lib/matplotlib/sphinxext/mathmpl.py -> build/lib.linux-x86_64-3.8/matplotlib/sphinxext\r\n",
      "  \u001B[31m   \u001B[0m creating build/lib.linux-x86_64-3.8/matplotlib/cbook\r\n",
      "  \u001B[31m   \u001B[0m copying lib/matplotlib/cbook/__init__.py -> build/lib.linux-x86_64-3.8/matplotlib/cbook\r\n",
      "  \u001B[31m   \u001B[0m copying lib/matplotlib/cbook/deprecation.py -> build/lib.linux-x86_64-3.8/matplotlib/cbook\r\n",
      "  \u001B[31m   \u001B[0m creating build/lib.linux-x86_64-3.8/matplotlib/backends\r\n",
      "  \u001B[31m   \u001B[0m copying lib/matplotlib/backends/backend_qt5.py -> build/lib.linux-x86_64-3.8/matplotlib/backends\r\n",
      "  \u001B[31m   \u001B[0m copying lib/matplotlib/backends/backend_webagg_core.py -> build/lib.linux-x86_64-3.8/matplotlib/backends\r\n",
      "  \u001B[31m   \u001B[0m copying lib/matplotlib/backends/backend_wx.py -> build/lib.linux-x86_64-3.8/matplotlib/backends\r\n",
      "  \u001B[31m   \u001B[0m copying lib/matplotlib/backends/backend_cairo.py -> build/lib.linux-x86_64-3.8/matplotlib/backends\r\n",
      "  \u001B[31m   \u001B[0m copying lib/matplotlib/backends/backend_qt5agg.py -> build/lib.linux-x86_64-3.8/matplotlib/backends\r\n",
      "  \u001B[31m   \u001B[0m copying lib/matplotlib/backends/wx_compat.py -> build/lib.linux-x86_64-3.8/matplotlib/backends\r\n",
      "  \u001B[31m   \u001B[0m copying lib/matplotlib/backends/backend_qt4cairo.py -> build/lib.linux-x86_64-3.8/matplotlib/backends\r\n",
      "  \u001B[31m   \u001B[0m copying lib/matplotlib/backends/backend_svg.py -> build/lib.linux-x86_64-3.8/matplotlib/backends\r\n",
      "  \u001B[31m   \u001B[0m copying lib/matplotlib/backends/backend_qt5cairo.py -> build/lib.linux-x86_64-3.8/matplotlib/backends\r\n",
      "  \u001B[31m   \u001B[0m copying lib/matplotlib/backends/backend_macosx.py -> build/lib.linux-x86_64-3.8/matplotlib/backends\r\n",
      "  \u001B[31m   \u001B[0m copying lib/matplotlib/backends/backend_ps.py -> build/lib.linux-x86_64-3.8/matplotlib/backends\r\n",
      "  \u001B[31m   \u001B[0m copying lib/matplotlib/backends/backend_wxcairo.py -> build/lib.linux-x86_64-3.8/matplotlib/backends\r\n",
      "  \u001B[31m   \u001B[0m copying lib/matplotlib/backends/backend_qt4agg.py -> build/lib.linux-x86_64-3.8/matplotlib/backends\r\n",
      "  \u001B[31m   \u001B[0m copying lib/matplotlib/backends/backend_tkcairo.py -> build/lib.linux-x86_64-3.8/matplotlib/backends\r\n",
      "  \u001B[31m   \u001B[0m copying lib/matplotlib/backends/_backend_tk.py -> build/lib.linux-x86_64-3.8/matplotlib/backends\r\n",
      "  \u001B[31m   \u001B[0m copying lib/matplotlib/backends/backend_mixed.py -> build/lib.linux-x86_64-3.8/matplotlib/backends\r\n",
      "  \u001B[31m   \u001B[0m copying lib/matplotlib/backends/__init__.py -> build/lib.linux-x86_64-3.8/matplotlib/backends\r\n",
      "  \u001B[31m   \u001B[0m copying lib/matplotlib/backends/backend_gtk3.py -> build/lib.linux-x86_64-3.8/matplotlib/backends\r\n",
      "  \u001B[31m   \u001B[0m copying lib/matplotlib/backends/backend_agg.py -> build/lib.linux-x86_64-3.8/matplotlib/backends\r\n",
      "  \u001B[31m   \u001B[0m copying lib/matplotlib/backends/backend_template.py -> build/lib.linux-x86_64-3.8/matplotlib/backends\r\n",
      "  \u001B[31m   \u001B[0m copying lib/matplotlib/backends/windowing.py -> build/lib.linux-x86_64-3.8/matplotlib/backends\r\n",
      "  \u001B[31m   \u001B[0m copying lib/matplotlib/backends/backend_pdf.py -> build/lib.linux-x86_64-3.8/matplotlib/backends\r\n",
      "  \u001B[31m   \u001B[0m copying lib/matplotlib/backends/backend_nbagg.py -> build/lib.linux-x86_64-3.8/matplotlib/backends\r\n",
      "  \u001B[31m   \u001B[0m copying lib/matplotlib/backends/_backend_pdf_ps.py -> build/lib.linux-x86_64-3.8/matplotlib/backends\r\n",
      "  \u001B[31m   \u001B[0m copying lib/matplotlib/backends/backend_gtk3agg.py -> build/lib.linux-x86_64-3.8/matplotlib/backends\r\n",
      "  \u001B[31m   \u001B[0m copying lib/matplotlib/backends/backend_gtk3cairo.py -> build/lib.linux-x86_64-3.8/matplotlib/backends\r\n",
      "  \u001B[31m   \u001B[0m copying lib/matplotlib/backends/backend_pgf.py -> build/lib.linux-x86_64-3.8/matplotlib/backends\r\n",
      "  \u001B[31m   \u001B[0m copying lib/matplotlib/backends/backend_webagg.py -> build/lib.linux-x86_64-3.8/matplotlib/backends\r\n",
      "  \u001B[31m   \u001B[0m copying lib/matplotlib/backends/backend_qt4.py -> build/lib.linux-x86_64-3.8/matplotlib/backends\r\n",
      "  \u001B[31m   \u001B[0m copying lib/matplotlib/backends/qt_compat.py -> build/lib.linux-x86_64-3.8/matplotlib/backends\r\n",
      "  \u001B[31m   \u001B[0m copying lib/matplotlib/backends/backend_tkagg.py -> build/lib.linux-x86_64-3.8/matplotlib/backends\r\n",
      "  \u001B[31m   \u001B[0m copying lib/matplotlib/backends/backend_wxagg.py -> build/lib.linux-x86_64-3.8/matplotlib/backends\r\n",
      "  \u001B[31m   \u001B[0m copying lib/matplotlib/backends/tkagg.py -> build/lib.linux-x86_64-3.8/matplotlib/backends\r\n",
      "  \u001B[31m   \u001B[0m creating build/lib.linux-x86_64-3.8/matplotlib/testing\r\n",
      "  \u001B[31m   \u001B[0m copying lib/matplotlib/testing/disable_internet.py -> build/lib.linux-x86_64-3.8/matplotlib/testing\r\n",
      "  \u001B[31m   \u001B[0m copying lib/matplotlib/testing/determinism.py -> build/lib.linux-x86_64-3.8/matplotlib/testing\r\n",
      "  \u001B[31m   \u001B[0m copying lib/matplotlib/testing/compare.py -> build/lib.linux-x86_64-3.8/matplotlib/testing\r\n",
      "  \u001B[31m   \u001B[0m copying lib/matplotlib/testing/__init__.py -> build/lib.linux-x86_64-3.8/matplotlib/testing\r\n",
      "  \u001B[31m   \u001B[0m copying lib/matplotlib/testing/conftest.py -> build/lib.linux-x86_64-3.8/matplotlib/testing\r\n",
      "  \u001B[31m   \u001B[0m copying lib/matplotlib/testing/exceptions.py -> build/lib.linux-x86_64-3.8/matplotlib/testing\r\n",
      "  \u001B[31m   \u001B[0m copying lib/matplotlib/testing/decorators.py -> build/lib.linux-x86_64-3.8/matplotlib/testing\r\n",
      "  \u001B[31m   \u001B[0m creating build/lib.linux-x86_64-3.8/matplotlib/compat\r\n",
      "  \u001B[31m   \u001B[0m copying lib/matplotlib/compat/__init__.py -> build/lib.linux-x86_64-3.8/matplotlib/compat\r\n",
      "  \u001B[31m   \u001B[0m copying lib/matplotlib/compat/subprocess.py -> build/lib.linux-x86_64-3.8/matplotlib/compat\r\n",
      "  \u001B[31m   \u001B[0m creating build/lib.linux-x86_64-3.8/matplotlib/tri\r\n",
      "  \u001B[31m   \u001B[0m copying lib/matplotlib/tri/trifinder.py -> build/lib.linux-x86_64-3.8/matplotlib/tri\r\n",
      "  \u001B[31m   \u001B[0m copying lib/matplotlib/tri/tripcolor.py -> build/lib.linux-x86_64-3.8/matplotlib/tri\r\n",
      "  \u001B[31m   \u001B[0m copying lib/matplotlib/tri/triangulation.py -> build/lib.linux-x86_64-3.8/matplotlib/tri\r\n",
      "  \u001B[31m   \u001B[0m copying lib/matplotlib/tri/tritools.py -> build/lib.linux-x86_64-3.8/matplotlib/tri\r\n",
      "  \u001B[31m   \u001B[0m copying lib/matplotlib/tri/triinterpolate.py -> build/lib.linux-x86_64-3.8/matplotlib/tri\r\n",
      "  \u001B[31m   \u001B[0m copying lib/matplotlib/tri/triplot.py -> build/lib.linux-x86_64-3.8/matplotlib/tri\r\n",
      "  \u001B[31m   \u001B[0m copying lib/matplotlib/tri/tricontour.py -> build/lib.linux-x86_64-3.8/matplotlib/tri\r\n",
      "  \u001B[31m   \u001B[0m copying lib/matplotlib/tri/__init__.py -> build/lib.linux-x86_64-3.8/matplotlib/tri\r\n",
      "  \u001B[31m   \u001B[0m copying lib/matplotlib/tri/trirefine.py -> build/lib.linux-x86_64-3.8/matplotlib/tri\r\n",
      "  \u001B[31m   \u001B[0m creating build/lib.linux-x86_64-3.8/matplotlib/axes\r\n",
      "  \u001B[31m   \u001B[0m copying lib/matplotlib/axes/_axes.py -> build/lib.linux-x86_64-3.8/matplotlib/axes\r\n",
      "  \u001B[31m   \u001B[0m copying lib/matplotlib/axes/_base.py -> build/lib.linux-x86_64-3.8/matplotlib/axes\r\n",
      "  \u001B[31m   \u001B[0m copying lib/matplotlib/axes/_subplots.py -> build/lib.linux-x86_64-3.8/matplotlib/axes\r\n",
      "  \u001B[31m   \u001B[0m copying lib/matplotlib/axes/__init__.py -> build/lib.linux-x86_64-3.8/matplotlib/axes\r\n",
      "  \u001B[31m   \u001B[0m copying lib/matplotlib/axes/_secondary_axes.py -> build/lib.linux-x86_64-3.8/matplotlib/axes\r\n",
      "  \u001B[31m   \u001B[0m creating build/lib.linux-x86_64-3.8/matplotlib/backends/qt_editor\r\n",
      "  \u001B[31m   \u001B[0m copying lib/matplotlib/backends/qt_editor/__init__.py -> build/lib.linux-x86_64-3.8/matplotlib/backends/qt_editor\r\n",
      "  \u001B[31m   \u001B[0m copying lib/matplotlib/backends/qt_editor/formsubplottool.py -> build/lib.linux-x86_64-3.8/matplotlib/backends/qt_editor\r\n",
      "  \u001B[31m   \u001B[0m copying lib/matplotlib/backends/qt_editor/_formlayout.py -> build/lib.linux-x86_64-3.8/matplotlib/backends/qt_editor\r\n",
      "  \u001B[31m   \u001B[0m copying lib/matplotlib/backends/qt_editor/figureoptions.py -> build/lib.linux-x86_64-3.8/matplotlib/backends/qt_editor\r\n",
      "  \u001B[31m   \u001B[0m copying lib/matplotlib/backends/qt_editor/formlayout.py -> build/lib.linux-x86_64-3.8/matplotlib/backends/qt_editor\r\n",
      "  \u001B[31m   \u001B[0m creating build/lib.linux-x86_64-3.8/matplotlib/testing/jpl_units\r\n",
      "  \u001B[31m   \u001B[0m copying lib/matplotlib/testing/jpl_units/Epoch.py -> build/lib.linux-x86_64-3.8/matplotlib/testing/jpl_units\r\n",
      "  \u001B[31m   \u001B[0m copying lib/matplotlib/testing/jpl_units/UnitDblConverter.py -> build/lib.linux-x86_64-3.8/matplotlib/testing/jpl_units\r\n",
      "  \u001B[31m   \u001B[0m copying lib/matplotlib/testing/jpl_units/Duration.py -> build/lib.linux-x86_64-3.8/matplotlib/testing/jpl_units\r\n",
      "  \u001B[31m   \u001B[0m copying lib/matplotlib/testing/jpl_units/StrConverter.py -> build/lib.linux-x86_64-3.8/matplotlib/testing/jpl_units\r\n",
      "  \u001B[31m   \u001B[0m copying lib/matplotlib/testing/jpl_units/__init__.py -> build/lib.linux-x86_64-3.8/matplotlib/testing/jpl_units\r\n",
      "  \u001B[31m   \u001B[0m copying lib/matplotlib/testing/jpl_units/EpochConverter.py -> build/lib.linux-x86_64-3.8/matplotlib/testing/jpl_units\r\n",
      "  \u001B[31m   \u001B[0m copying lib/matplotlib/testing/jpl_units/UnitDbl.py -> build/lib.linux-x86_64-3.8/matplotlib/testing/jpl_units\r\n",
      "  \u001B[31m   \u001B[0m copying lib/matplotlib/testing/jpl_units/UnitDblFormatter.py -> build/lib.linux-x86_64-3.8/matplotlib/testing/jpl_units\r\n",
      "  \u001B[31m   \u001B[0m creating build/lib.linux-x86_64-3.8/mpl_toolkits/axes_grid\r\n",
      "  \u001B[31m   \u001B[0m copying lib/mpl_toolkits/axes_grid/axis_artist.py -> build/lib.linux-x86_64-3.8/mpl_toolkits/axes_grid\r\n",
      "  \u001B[31m   \u001B[0m copying lib/mpl_toolkits/axes_grid/parasite_axes.py -> build/lib.linux-x86_64-3.8/mpl_toolkits/axes_grid\r\n",
      "  \u001B[31m   \u001B[0m copying lib/mpl_toolkits/axes_grid/axes_grid.py -> build/lib.linux-x86_64-3.8/mpl_toolkits/axes_grid\r\n",
      "  \u001B[31m   \u001B[0m copying lib/mpl_toolkits/axes_grid/clip_path.py -> build/lib.linux-x86_64-3.8/mpl_toolkits/axes_grid\r\n",
      "  \u001B[31m   \u001B[0m copying lib/mpl_toolkits/axes_grid/axes_rgb.py -> build/lib.linux-x86_64-3.8/mpl_toolkits/axes_grid\r\n",
      "  \u001B[31m   \u001B[0m copying lib/mpl_toolkits/axes_grid/axes_divider.py -> build/lib.linux-x86_64-3.8/mpl_toolkits/axes_grid\r\n",
      "  \u001B[31m   \u001B[0m copying lib/mpl_toolkits/axes_grid/floating_axes.py -> build/lib.linux-x86_64-3.8/mpl_toolkits/axes_grid\r\n",
      "  \u001B[31m   \u001B[0m copying lib/mpl_toolkits/axes_grid/colorbar.py -> build/lib.linux-x86_64-3.8/mpl_toolkits/axes_grid\r\n",
      "  \u001B[31m   \u001B[0m copying lib/mpl_toolkits/axes_grid/__init__.py -> build/lib.linux-x86_64-3.8/mpl_toolkits/axes_grid\r\n",
      "  \u001B[31m   \u001B[0m copying lib/mpl_toolkits/axes_grid/inset_locator.py -> build/lib.linux-x86_64-3.8/mpl_toolkits/axes_grid\r\n",
      "  \u001B[31m   \u001B[0m copying lib/mpl_toolkits/axes_grid/grid_finder.py -> build/lib.linux-x86_64-3.8/mpl_toolkits/axes_grid\r\n",
      "  \u001B[31m   \u001B[0m copying lib/mpl_toolkits/axes_grid/axisline_style.py -> build/lib.linux-x86_64-3.8/mpl_toolkits/axes_grid\r\n",
      "  \u001B[31m   \u001B[0m copying lib/mpl_toolkits/axes_grid/anchored_artists.py -> build/lib.linux-x86_64-3.8/mpl_toolkits/axes_grid\r\n",
      "  \u001B[31m   \u001B[0m copying lib/mpl_toolkits/axes_grid/axislines.py -> build/lib.linux-x86_64-3.8/mpl_toolkits/axes_grid\r\n",
      "  \u001B[31m   \u001B[0m copying lib/mpl_toolkits/axes_grid/grid_helper_curvelinear.py -> build/lib.linux-x86_64-3.8/mpl_toolkits/axes_grid\r\n",
      "  \u001B[31m   \u001B[0m copying lib/mpl_toolkits/axes_grid/angle_helper.py -> build/lib.linux-x86_64-3.8/mpl_toolkits/axes_grid\r\n",
      "  \u001B[31m   \u001B[0m copying lib/mpl_toolkits/axes_grid/axes_size.py -> build/lib.linux-x86_64-3.8/mpl_toolkits/axes_grid\r\n",
      "  \u001B[31m   \u001B[0m creating build/lib.linux-x86_64-3.8/mpl_toolkits/axes_grid1\r\n",
      "  \u001B[31m   \u001B[0m copying lib/mpl_toolkits/axes_grid1/mpl_axes.py -> build/lib.linux-x86_64-3.8/mpl_toolkits/axes_grid1\r\n",
      "  \u001B[31m   \u001B[0m copying lib/mpl_toolkits/axes_grid1/parasite_axes.py -> build/lib.linux-x86_64-3.8/mpl_toolkits/axes_grid1\r\n",
      "  \u001B[31m   \u001B[0m copying lib/mpl_toolkits/axes_grid1/axes_grid.py -> build/lib.linux-x86_64-3.8/mpl_toolkits/axes_grid1\r\n",
      "  \u001B[31m   \u001B[0m copying lib/mpl_toolkits/axes_grid1/axes_rgb.py -> build/lib.linux-x86_64-3.8/mpl_toolkits/axes_grid1\r\n",
      "  \u001B[31m   \u001B[0m copying lib/mpl_toolkits/axes_grid1/axes_divider.py -> build/lib.linux-x86_64-3.8/mpl_toolkits/axes_grid1\r\n",
      "  \u001B[31m   \u001B[0m copying lib/mpl_toolkits/axes_grid1/colorbar.py -> build/lib.linux-x86_64-3.8/mpl_toolkits/axes_grid1\r\n",
      "  \u001B[31m   \u001B[0m copying lib/mpl_toolkits/axes_grid1/__init__.py -> build/lib.linux-x86_64-3.8/mpl_toolkits/axes_grid1\r\n",
      "  \u001B[31m   \u001B[0m copying lib/mpl_toolkits/axes_grid1/inset_locator.py -> build/lib.linux-x86_64-3.8/mpl_toolkits/axes_grid1\r\n",
      "  \u001B[31m   \u001B[0m copying lib/mpl_toolkits/axes_grid1/anchored_artists.py -> build/lib.linux-x86_64-3.8/mpl_toolkits/axes_grid1\r\n",
      "  \u001B[31m   \u001B[0m copying lib/mpl_toolkits/axes_grid1/axes_size.py -> build/lib.linux-x86_64-3.8/mpl_toolkits/axes_grid1\r\n",
      "  \u001B[31m   \u001B[0m creating build/lib.linux-x86_64-3.8/mpl_toolkits/axisartist\r\n",
      "  \u001B[31m   \u001B[0m copying lib/mpl_toolkits/axisartist/axis_artist.py -> build/lib.linux-x86_64-3.8/mpl_toolkits/axisartist\r\n",
      "  \u001B[31m   \u001B[0m copying lib/mpl_toolkits/axisartist/parasite_axes.py -> build/lib.linux-x86_64-3.8/mpl_toolkits/axisartist\r\n",
      "  \u001B[31m   \u001B[0m copying lib/mpl_toolkits/axisartist/axes_grid.py -> build/lib.linux-x86_64-3.8/mpl_toolkits/axisartist\r\n",
      "  \u001B[31m   \u001B[0m copying lib/mpl_toolkits/axisartist/clip_path.py -> build/lib.linux-x86_64-3.8/mpl_toolkits/axisartist\r\n",
      "  \u001B[31m   \u001B[0m copying lib/mpl_toolkits/axisartist/axes_rgb.py -> build/lib.linux-x86_64-3.8/mpl_toolkits/axisartist\r\n",
      "  \u001B[31m   \u001B[0m copying lib/mpl_toolkits/axisartist/axes_divider.py -> build/lib.linux-x86_64-3.8/mpl_toolkits/axisartist\r\n",
      "  \u001B[31m   \u001B[0m copying lib/mpl_toolkits/axisartist/floating_axes.py -> build/lib.linux-x86_64-3.8/mpl_toolkits/axisartist\r\n",
      "  \u001B[31m   \u001B[0m copying lib/mpl_toolkits/axisartist/__init__.py -> build/lib.linux-x86_64-3.8/mpl_toolkits/axisartist\r\n",
      "  \u001B[31m   \u001B[0m copying lib/mpl_toolkits/axisartist/grid_finder.py -> build/lib.linux-x86_64-3.8/mpl_toolkits/axisartist\r\n",
      "  \u001B[31m   \u001B[0m copying lib/mpl_toolkits/axisartist/axisline_style.py -> build/lib.linux-x86_64-3.8/mpl_toolkits/axisartist\r\n",
      "  \u001B[31m   \u001B[0m copying lib/mpl_toolkits/axisartist/axislines.py -> build/lib.linux-x86_64-3.8/mpl_toolkits/axisartist\r\n",
      "  \u001B[31m   \u001B[0m copying lib/mpl_toolkits/axisartist/grid_helper_curvelinear.py -> build/lib.linux-x86_64-3.8/mpl_toolkits/axisartist\r\n",
      "  \u001B[31m   \u001B[0m copying lib/mpl_toolkits/axisartist/angle_helper.py -> build/lib.linux-x86_64-3.8/mpl_toolkits/axisartist\r\n",
      "  \u001B[31m   \u001B[0m creating build/lib.linux-x86_64-3.8/mpl_toolkits/mplot3d\r\n",
      "  \u001B[31m   \u001B[0m copying lib/mpl_toolkits/mplot3d/axes3d.py -> build/lib.linux-x86_64-3.8/mpl_toolkits/mplot3d\r\n",
      "  \u001B[31m   \u001B[0m copying lib/mpl_toolkits/mplot3d/__init__.py -> build/lib.linux-x86_64-3.8/mpl_toolkits/mplot3d\r\n",
      "  \u001B[31m   \u001B[0m copying lib/mpl_toolkits/mplot3d/axis3d.py -> build/lib.linux-x86_64-3.8/mpl_toolkits/mplot3d\r\n",
      "  \u001B[31m   \u001B[0m copying lib/mpl_toolkits/mplot3d/art3d.py -> build/lib.linux-x86_64-3.8/mpl_toolkits/mplot3d\r\n",
      "  \u001B[31m   \u001B[0m copying lib/mpl_toolkits/mplot3d/proj3d.py -> build/lib.linux-x86_64-3.8/mpl_toolkits/mplot3d\r\n",
      "  \u001B[31m   \u001B[0m creating build/lib.linux-x86_64-3.8/matplotlib/mpl-data\r\n",
      "  \u001B[31m   \u001B[0m creating build/lib.linux-x86_64-3.8/matplotlib/mpl-data/images\r\n",
      "  \u001B[31m   \u001B[0m copying lib/matplotlib/mpl-data/images/subplots.pdf -> build/lib.linux-x86_64-3.8/matplotlib/mpl-data/images\r\n",
      "  \u001B[31m   \u001B[0m creating build/lib.linux-x86_64-3.8/matplotlib/mpl-data/sample_data\r\n",
      "  \u001B[31m   \u001B[0m creating build/lib.linux-x86_64-3.8/matplotlib/mpl-data/sample_data/axes_grid\r\n",
      "  \u001B[31m   \u001B[0m copying lib/matplotlib/mpl-data/sample_data/axes_grid/bivariate_normal.npy -> build/lib.linux-x86_64-3.8/matplotlib/mpl-data/sample_data/axes_grid\r\n",
      "  \u001B[31m   \u001B[0m creating build/lib.linux-x86_64-3.8/matplotlib/mpl-data/stylelib\r\n",
      "  \u001B[31m   \u001B[0m copying lib/matplotlib/mpl-data/stylelib/seaborn-dark-palette.mplstyle -> build/lib.linux-x86_64-3.8/matplotlib/mpl-data/stylelib\r\n",
      "  \u001B[31m   \u001B[0m creating build/lib.linux-x86_64-3.8/matplotlib/mpl-data/fonts\r\n",
      "  \u001B[31m   \u001B[0m creating build/lib.linux-x86_64-3.8/matplotlib/mpl-data/fonts/afm\r\n",
      "  \u001B[31m   \u001B[0m copying lib/matplotlib/mpl-data/fonts/afm/pncri8a.afm -> build/lib.linux-x86_64-3.8/matplotlib/mpl-data/fonts/afm\r\n",
      "  \u001B[31m   \u001B[0m copying lib/matplotlib/mpl-data/images/help.ppm -> build/lib.linux-x86_64-3.8/matplotlib/mpl-data/images\r\n",
      "  \u001B[31m   \u001B[0m copying lib/matplotlib/mpl-data/stylelib/grayscale.mplstyle -> build/lib.linux-x86_64-3.8/matplotlib/mpl-data/stylelib\r\n",
      "  \u001B[31m   \u001B[0m creating build/lib.linux-x86_64-3.8/matplotlib/mpl-data/fonts/pdfcorefonts\r\n",
      "  \u001B[31m   \u001B[0m copying lib/matplotlib/mpl-data/fonts/pdfcorefonts/Times-Roman.afm -> build/lib.linux-x86_64-3.8/matplotlib/mpl-data/fonts/pdfcorefonts\r\n",
      "  \u001B[31m   \u001B[0m copying lib/matplotlib/mpl-data/images/qt4_editor_options.svg -> build/lib.linux-x86_64-3.8/matplotlib/mpl-data/images\r\n",
      "  \u001B[31m   \u001B[0m copying lib/matplotlib/mpl-data/fonts/pdfcorefonts/Symbol.afm -> build/lib.linux-x86_64-3.8/matplotlib/mpl-data/fonts/pdfcorefonts\r\n",
      "  \u001B[31m   \u001B[0m copying lib/matplotlib/mpl-data/images/zoom_to_rect.pdf -> build/lib.linux-x86_64-3.8/matplotlib/mpl-data/images\r\n",
      "  \u001B[31m   \u001B[0m copying lib/matplotlib/mpl-data/images/back.pdf -> build/lib.linux-x86_64-3.8/matplotlib/mpl-data/images\r\n",
      "  \u001B[31m   \u001B[0m copying lib/matplotlib/mpl-data/sample_data/None_vs_nearest-pdf.png -> build/lib.linux-x86_64-3.8/matplotlib/mpl-data/sample_data\r\n",
      "  \u001B[31m   \u001B[0m copying lib/matplotlib/mpl-data/images/subplots_large.gif -> build/lib.linux-x86_64-3.8/matplotlib/mpl-data/images\r\n",
      "  \u001B[31m   \u001B[0m copying lib/matplotlib/mpl-data/fonts/pdfcorefonts/Courier.afm -> build/lib.linux-x86_64-3.8/matplotlib/mpl-data/fonts/pdfcorefonts\r\n",
      "  \u001B[31m   \u001B[0m creating build/lib.linux-x86_64-3.8/matplotlib/mpl-data/fonts/ttf\r\n",
      "  \u001B[31m   \u001B[0m copying lib/matplotlib/mpl-data/fonts/ttf/STIXNonUniIta.ttf -> build/lib.linux-x86_64-3.8/matplotlib/mpl-data/fonts/ttf\r\n",
      "  \u001B[31m   \u001B[0m copying lib/matplotlib/mpl-data/images/home_large.gif -> build/lib.linux-x86_64-3.8/matplotlib/mpl-data/images\r\n",
      "  \u001B[31m   \u001B[0m copying lib/matplotlib/mpl-data/images/home.gif -> build/lib.linux-x86_64-3.8/matplotlib/mpl-data/images\r\n",
      "  \u001B[31m   \u001B[0m creating build/lib.linux-x86_64-3.8/matplotlib/backends/web_backend\r\n",
      "  \u001B[31m   \u001B[0m creating build/lib.linux-x86_64-3.8/matplotlib/backends/web_backend/jquery\r\n",
      "  \u001B[31m   \u001B[0m creating build/lib.linux-x86_64-3.8/matplotlib/backends/web_backend/jquery/js\r\n",
      "  \u001B[31m   \u001B[0m copying lib/matplotlib/backends/web_backend/jquery/js/jquery.js -> build/lib.linux-x86_64-3.8/matplotlib/backends/web_backend/jquery/js\r\n",
      "  \u001B[31m   \u001B[0m copying lib/matplotlib/mpl-data/fonts/afm/pncbi8a.afm -> build/lib.linux-x86_64-3.8/matplotlib/mpl-data/fonts/afm\r\n",
      "  \u001B[31m   \u001B[0m copying lib/matplotlib/mpl-data/images/forward.svg -> build/lib.linux-x86_64-3.8/matplotlib/mpl-data/images\r\n",
      "  \u001B[31m   \u001B[0m copying lib/matplotlib/mpl-data/images/subplots_large.png -> build/lib.linux-x86_64-3.8/matplotlib/mpl-data/images\r\n",
      "  \u001B[31m   \u001B[0m copying lib/matplotlib/mpl-data/fonts/ttf/DejaVuSerif-Italic.ttf -> build/lib.linux-x86_64-3.8/matplotlib/mpl-data/fonts/ttf\r\n",
      "  \u001B[31m   \u001B[0m copying lib/matplotlib/mpl-data/fonts/ttf/STIXNonUni.ttf -> build/lib.linux-x86_64-3.8/matplotlib/mpl-data/fonts/ttf\r\n",
      "  \u001B[31m   \u001B[0m copying lib/matplotlib/backends/web_backend/jquery/js/jquery.min.js -> build/lib.linux-x86_64-3.8/matplotlib/backends/web_backend/jquery/js\r\n",
      "  \u001B[31m   \u001B[0m copying lib/matplotlib/mpl-data/images/move.svg -> build/lib.linux-x86_64-3.8/matplotlib/mpl-data/images\r\n",
      "  \u001B[31m   \u001B[0m copying lib/matplotlib/mpl-data/fonts/ttf/cmss10.ttf -> build/lib.linux-x86_64-3.8/matplotlib/mpl-data/fonts/ttf\r\n",
      "  \u001B[31m   \u001B[0m copying lib/matplotlib/mpl-data/images/forward.png -> build/lib.linux-x86_64-3.8/matplotlib/mpl-data/images\r\n",
      "  \u001B[31m   \u001B[0m copying lib/matplotlib/backends/web_backend/single_figure.html -> build/lib.linux-x86_64-3.8/matplotlib/backends/web_backend\r\n",
      "  \u001B[31m   \u001B[0m copying lib/matplotlib/mpl-data/fonts/pdfcorefonts/Times-BoldItalic.afm -> build/lib.linux-x86_64-3.8/matplotlib/mpl-data/fonts/pdfcorefonts\r\n",
      "  \u001B[31m   \u001B[0m copying lib/matplotlib/mpl-data/fonts/pdfcorefonts/Times-Bold.afm -> build/lib.linux-x86_64-3.8/matplotlib/mpl-data/fonts/pdfcorefonts\r\n",
      "  \u001B[31m   \u001B[0m copying lib/matplotlib/mpl-data/sample_data/logo2.png -> build/lib.linux-x86_64-3.8/matplotlib/mpl-data/sample_data\r\n",
      "  \u001B[31m   \u001B[0m copying lib/matplotlib/mpl-data/stylelib/dark_background.mplstyle -> build/lib.linux-x86_64-3.8/matplotlib/mpl-data/stylelib\r\n",
      "  \u001B[31m   \u001B[0m copying lib/matplotlib/mpl-data/images/back.svg -> build/lib.linux-x86_64-3.8/matplotlib/mpl-data/images\r\n",
      "  \u001B[31m   \u001B[0m copying lib/matplotlib/mpl-data/fonts/afm/phvr8a.afm -> build/lib.linux-x86_64-3.8/matplotlib/mpl-data/fonts/afm\r\n",
      "  \u001B[31m   \u001B[0m creating build/lib.linux-x86_64-3.8/matplotlib/backends/web_backend/jquery-ui-1.12.1\r\n",
      "  \u001B[31m   \u001B[0m creating build/lib.linux-x86_64-3.8/matplotlib/backends/web_backend/jquery-ui-1.12.1/images\r\n",
      "  \u001B[31m   \u001B[0m copying lib/matplotlib/backends/web_backend/jquery-ui-1.12.1/images/ui-icons_ffffff_256x240.png -> build/lib.linux-x86_64-3.8/matplotlib/backends/web_backend/jquery-ui-1.12.1/images\r\n",
      "  \u001B[31m   \u001B[0m copying lib/matplotlib/backends/web_backend/jquery-ui-1.12.1/jquery-ui.min.js -> build/lib.linux-x86_64-3.8/matplotlib/backends/web_backend/jquery-ui-1.12.1\r\n",
      "  \u001B[31m   \u001B[0m copying lib/matplotlib/mpl-data/fonts/afm/pcrb8a.afm -> build/lib.linux-x86_64-3.8/matplotlib/mpl-data/fonts/afm\r\n",
      "  \u001B[31m   \u001B[0m copying lib/matplotlib/mpl-data/fonts/afm/ptmbi8a.afm -> build/lib.linux-x86_64-3.8/matplotlib/mpl-data/fonts/afm\r\n",
      "  \u001B[31m   \u001B[0m copying lib/matplotlib/mpl-data/images/subplots.png -> build/lib.linux-x86_64-3.8/matplotlib/mpl-data/images\r\n",
      "  \u001B[31m   \u001B[0m copying lib/matplotlib/backends/web_backend/jquery-ui-1.12.1/jquery-ui.structure.min.css -> build/lib.linux-x86_64-3.8/matplotlib/backends/web_backend/jquery-ui-1.12.1\r\n",
      "  \u001B[31m   \u001B[0m copying lib/matplotlib/mpl-data/images/help.png -> build/lib.linux-x86_64-3.8/matplotlib/mpl-data/images\r\n",
      "  \u001B[31m   \u001B[0m copying lib/matplotlib/mpl-data/images/hand.gif -> build/lib.linux-x86_64-3.8/matplotlib/mpl-data/images\r\n",
      "  \u001B[31m   \u001B[0m copying lib/matplotlib/mpl-data/fonts/afm/pbkd8a.afm -> build/lib.linux-x86_64-3.8/matplotlib/mpl-data/fonts/afm\r\n",
      "  \u001B[31m   \u001B[0m copying lib/matplotlib/mpl-data/images/filesave.gif -> build/lib.linux-x86_64-3.8/matplotlib/mpl-data/images\r\n",
      "  \u001B[31m   \u001B[0m copying lib/matplotlib/mpl-data/images/subplots.svg -> build/lib.linux-x86_64-3.8/matplotlib/mpl-data/images\r\n",
      "  \u001B[31m   \u001B[0m copying lib/matplotlib/mpl-data/stylelib/seaborn-bright.mplstyle -> build/lib.linux-x86_64-3.8/matplotlib/mpl-data/stylelib\r\n",
      "  \u001B[31m   \u001B[0m copying lib/matplotlib/mpl-data/stylelib/seaborn-whitegrid.mplstyle -> build/lib.linux-x86_64-3.8/matplotlib/mpl-data/stylelib\r\n",
      "  \u001B[31m   \u001B[0m copying lib/matplotlib/mpl-data/images/subplots.gif -> build/lib.linux-x86_64-3.8/matplotlib/mpl-data/images\r\n",
      "  \u001B[31m   \u001B[0m copying lib/matplotlib/mpl-data/stylelib/seaborn-pastel.mplstyle -> build/lib.linux-x86_64-3.8/matplotlib/mpl-data/stylelib\r\n",
      "  \u001B[31m   \u001B[0m copying lib/matplotlib/mpl-data/fonts/ttf/cmtt10.ttf -> build/lib.linux-x86_64-3.8/matplotlib/mpl-data/fonts/ttf\r\n",
      "  \u001B[31m   \u001B[0m copying lib/matplotlib/mpl-data/images/zoom_to_rect_large.gif -> build/lib.linux-x86_64-3.8/matplotlib/mpl-data/images\r\n",
      "  \u001B[31m   \u001B[0m copying lib/matplotlib/mpl-data/images/qt4_editor_options.png -> build/lib.linux-x86_64-3.8/matplotlib/mpl-data/images\r\n",
      "  \u001B[31m   \u001B[0m copying lib/matplotlib/mpl-data/fonts/pdfcorefonts/readme.txt -> build/lib.linux-x86_64-3.8/matplotlib/mpl-data/fonts/pdfcorefonts\r\n",
      "  \u001B[31m   \u001B[0m copying lib/matplotlib/mpl-data/fonts/afm/cmsy10.afm -> build/lib.linux-x86_64-3.8/matplotlib/mpl-data/fonts/afm\r\n",
      "  \u001B[31m   \u001B[0m copying lib/matplotlib/mpl-data/fonts/afm/phvb8a.afm -> build/lib.linux-x86_64-3.8/matplotlib/mpl-data/fonts/afm\r\n",
      "  \u001B[31m   \u001B[0m copying lib/matplotlib/mpl-data/sample_data/jacksboro_fault_dem.npz -> build/lib.linux-x86_64-3.8/matplotlib/mpl-data/sample_data\r\n",
      "  \u001B[31m   \u001B[0m copying lib/matplotlib/mpl-data/fonts/afm/pbkl8a.afm -> build/lib.linux-x86_64-3.8/matplotlib/mpl-data/fonts/afm\r\n",
      "  \u001B[31m   \u001B[0m copying lib/matplotlib/mpl-data/stylelib/seaborn-colorblind.mplstyle -> build/lib.linux-x86_64-3.8/matplotlib/mpl-data/stylelib\r\n",
      "  \u001B[31m   \u001B[0m copying lib/matplotlib/mpl-data/stylelib/seaborn-darkgrid.mplstyle -> build/lib.linux-x86_64-3.8/matplotlib/mpl-data/stylelib\r\n",
      "  \u001B[31m   \u001B[0m copying lib/matplotlib/mpl-data/fonts/ttf/STIXGeneralBolIta.ttf -> build/lib.linux-x86_64-3.8/matplotlib/mpl-data/fonts/ttf\r\n",
      "  \u001B[31m   \u001B[0m copying lib/matplotlib/mpl-data/fonts/afm/phvro8a.afm -> build/lib.linux-x86_64-3.8/matplotlib/mpl-data/fonts/afm\r\n",
      "  \u001B[31m   \u001B[0m copying lib/matplotlib/mpl-data/stylelib/seaborn-deep.mplstyle -> build/lib.linux-x86_64-3.8/matplotlib/mpl-data/stylelib\r\n",
      "  \u001B[31m   \u001B[0m copying lib/matplotlib/mpl-data/images/qt4_editor_options.pdf -> build/lib.linux-x86_64-3.8/matplotlib/mpl-data/images\r\n",
      "  \u001B[31m   \u001B[0m copying lib/matplotlib/mpl-data/sample_data/grace_hopper.png -> build/lib.linux-x86_64-3.8/matplotlib/mpl-data/sample_data\r\n",
      "  \u001B[31m   \u001B[0m copying lib/matplotlib/mpl-data/sample_data/demodata.csv -> build/lib.linux-x86_64-3.8/matplotlib/mpl-data/sample_data\r\n",
      "  \u001B[31m   \u001B[0m copying lib/matplotlib/mpl-data/fonts/afm/pzcmi8a.afm -> build/lib.linux-x86_64-3.8/matplotlib/mpl-data/fonts/afm\r\n",
      "  \u001B[31m   \u001B[0m copying lib/matplotlib/mpl-data/fonts/afm/pcrro8a.afm -> build/lib.linux-x86_64-3.8/matplotlib/mpl-data/fonts/afm\r\n",
      "  \u001B[31m   \u001B[0m copying lib/matplotlib/mpl-data/fonts/pdfcorefonts/Courier-BoldOblique.afm -> build/lib.linux-x86_64-3.8/matplotlib/mpl-data/fonts/pdfcorefonts\r\n",
      "  \u001B[31m   \u001B[0m copying lib/matplotlib/mpl-data/images/zoom_to_rect.svg -> build/lib.linux-x86_64-3.8/matplotlib/mpl-data/images\r\n",
      "  \u001B[31m   \u001B[0m copying lib/matplotlib/mpl-data/sample_data/aapl.npz -> build/lib.linux-x86_64-3.8/matplotlib/mpl-data/sample_data\r\n",
      "  \u001B[31m   \u001B[0m copying lib/matplotlib/mpl-data/images/home.png -> build/lib.linux-x86_64-3.8/matplotlib/mpl-data/images\r\n",
      "  \u001B[31m   \u001B[0m copying lib/matplotlib/mpl-data/fonts/afm/cmex10.afm -> build/lib.linux-x86_64-3.8/matplotlib/mpl-data/fonts/afm\r\n",
      "  \u001B[31m   \u001B[0m copying lib/matplotlib/mpl-data/stylelib/seaborn-notebook.mplstyle -> build/lib.linux-x86_64-3.8/matplotlib/mpl-data/stylelib\r\n",
      "  \u001B[31m   \u001B[0m copying lib/matplotlib/mpl-data/stylelib/seaborn-paper.mplstyle -> build/lib.linux-x86_64-3.8/matplotlib/mpl-data/stylelib\r\n",
      "  \u001B[31m   \u001B[0m copying lib/matplotlib/mpl-data/images/matplotlib.svg -> build/lib.linux-x86_64-3.8/matplotlib/mpl-data/images\r\n",
      "  \u001B[31m   \u001B[0m copying lib/matplotlib/mpl-data/fonts/afm/pagd8a.afm -> build/lib.linux-x86_64-3.8/matplotlib/mpl-data/fonts/afm\r\n",
      "  \u001B[31m   \u001B[0m copying lib/matplotlib/mpl-data/fonts/afm/pncb8a.afm -> build/lib.linux-x86_64-3.8/matplotlib/mpl-data/fonts/afm\r\n",
      "  \u001B[31m   \u001B[0m copying lib/matplotlib/mpl-data/fonts/ttf/DejaVuSerifDisplay.ttf -> build/lib.linux-x86_64-3.8/matplotlib/mpl-data/fonts/ttf\r\n",
      "  \u001B[31m   \u001B[0m copying lib/matplotlib/backends/web_backend/jquery-ui-1.12.1/images/ui-icons_555555_256x240.png -> build/lib.linux-x86_64-3.8/matplotlib/backends/web_backend/jquery-ui-1.12.1/images\r\n",
      "  \u001B[31m   \u001B[0m copying lib/matplotlib/backends/web_backend/ipython_inline_figure.html -> build/lib.linux-x86_64-3.8/matplotlib/backends/web_backend\r\n",
      "  \u001B[31m   \u001B[0m copying lib/matplotlib/mpl-data/sample_data/ada.png -> build/lib.linux-x86_64-3.8/matplotlib/mpl-data/sample_data\r\n",
      "  \u001B[31m   \u001B[0m copying lib/matplotlib/mpl-data/fonts/ttf/STIXSizThreeSymReg.ttf -> build/lib.linux-x86_64-3.8/matplotlib/mpl-data/fonts/ttf\r\n",
      "  \u001B[31m   \u001B[0m copying lib/matplotlib/mpl-data/images/hand.svg -> build/lib.linux-x86_64-3.8/matplotlib/mpl-data/images\r\n",
      "  \u001B[31m   \u001B[0m copying lib/matplotlib/backends/web_backend/nbagg_uat.ipynb -> build/lib.linux-x86_64-3.8/matplotlib/backends/web_backend\r\n",
      "  \u001B[31m   \u001B[0m copying lib/matplotlib/mpl-data/fonts/ttf/cmsy10.ttf -> build/lib.linux-x86_64-3.8/matplotlib/mpl-data/fonts/ttf\r\n",
      "  \u001B[31m   \u001B[0m copying lib/matplotlib/mpl-data/sample_data/s1045.ima.gz -> build/lib.linux-x86_64-3.8/matplotlib/mpl-data/sample_data\r\n",
      "  \u001B[31m   \u001B[0m creating build/lib.linux-x86_64-3.8/matplotlib/backends/web_backend/js\r\n",
      "  \u001B[31m   \u001B[0m copying lib/matplotlib/backends/web_backend/js/mpl.js -> build/lib.linux-x86_64-3.8/matplotlib/backends/web_backend/js\r\n",
      "  \u001B[31m   \u001B[0m copying lib/matplotlib/mpl-data/fonts/afm/pcrbo8a.afm -> build/lib.linux-x86_64-3.8/matplotlib/mpl-data/fonts/afm\r\n",
      "  \u001B[31m   \u001B[0m copying lib/matplotlib/mpl-data/fonts/ttf/LICENSE_DEJAVU -> build/lib.linux-x86_64-3.8/matplotlib/mpl-data/fonts/ttf\r\n",
      "  \u001B[31m   \u001B[0m copying lib/matplotlib/mpl-data/sample_data/goog.npz -> build/lib.linux-x86_64-3.8/matplotlib/mpl-data/sample_data\r\n",
      "  \u001B[31m   \u001B[0m copying lib/matplotlib/mpl-data/fonts/pdfcorefonts/Times-Italic.afm -> build/lib.linux-x86_64-3.8/matplotlib/mpl-data/fonts/pdfcorefonts\r\n",
      "  \u001B[31m   \u001B[0m copying lib/matplotlib/mpl-data/stylelib/seaborn-dark.mplstyle -> build/lib.linux-x86_64-3.8/matplotlib/mpl-data/stylelib\r\n",
      "  \u001B[31m   \u001B[0m copying lib/matplotlib/mpl-data/fonts/ttf/DejaVuSerif-Bold.ttf -> build/lib.linux-x86_64-3.8/matplotlib/mpl-data/fonts/ttf\r\n",
      "  \u001B[31m   \u001B[0m copying lib/matplotlib/mpl-data/fonts/afm/phvl8a.afm -> build/lib.linux-x86_64-3.8/matplotlib/mpl-data/fonts/afm\r\n",
      "  \u001B[31m   \u001B[0m copying lib/matplotlib/mpl-data/fonts/ttf/STIXGeneralItalic.ttf -> build/lib.linux-x86_64-3.8/matplotlib/mpl-data/fonts/ttf\r\n",
      "  \u001B[31m   \u001B[0m copying lib/matplotlib/mpl-data/fonts/afm/putri8a.afm -> build/lib.linux-x86_64-3.8/matplotlib/mpl-data/fonts/afm\r\n",
      "  \u001B[31m   \u001B[0m copying lib/matplotlib/mpl-data/sample_data/embedding_in_wx3.xrc -> build/lib.linux-x86_64-3.8/matplotlib/mpl-data/sample_data\r\n",
      "  \u001B[31m   \u001B[0m copying lib/matplotlib/mpl-data/stylelib/seaborn-poster.mplstyle -> build/lib.linux-x86_64-3.8/matplotlib/mpl-data/stylelib\r\n",
      "  \u001B[31m   \u001B[0m copying lib/matplotlib/mpl-data/fonts/ttf/DejaVuSansMono-Bold.ttf -> build/lib.linux-x86_64-3.8/matplotlib/mpl-data/fonts/ttf\r\n",
      "  \u001B[31m   \u001B[0m copying lib/matplotlib/mpl-data/images/move_large.gif -> build/lib.linux-x86_64-3.8/matplotlib/mpl-data/images\r\n",
      "  \u001B[31m   \u001B[0m copying lib/matplotlib/backends/web_backend/jquery-ui-1.12.1/images/ui-icons_777777_256x240.png -> build/lib.linux-x86_64-3.8/matplotlib/backends/web_backend/jquery-ui-1.12.1/images\r\n",
      "  \u001B[31m   \u001B[0m creating build/lib.linux-x86_64-3.8/matplotlib/backends/web_backend/jquery-ui-1.12.1/external\r\n",
      "  \u001B[31m   \u001B[0m creating build/lib.linux-x86_64-3.8/matplotlib/backends/web_backend/jquery-ui-1.12.1/external/jquery\r\n",
      "  \u001B[31m   \u001B[0m copying lib/matplotlib/backends/web_backend/jquery-ui-1.12.1/external/jquery/jquery.js -> build/lib.linux-x86_64-3.8/matplotlib/backends/web_backend/jquery-ui-1.12.1/external/jquery\r\n",
      "  \u001B[31m   \u001B[0m copying lib/matplotlib/mpl-data/sample_data/Minduka_Present_Blue_Pack.png -> build/lib.linux-x86_64-3.8/matplotlib/mpl-data/sample_data\r\n",
      "  \u001B[31m   \u001B[0m copying lib/matplotlib/backends/web_backend/js/nbagg_mpl.js -> build/lib.linux-x86_64-3.8/matplotlib/backends/web_backend/js\r\n",
      "  \u001B[31m   \u001B[0m copying lib/matplotlib/mpl-data/fonts/pdfcorefonts/Helvetica-Oblique.afm -> build/lib.linux-x86_64-3.8/matplotlib/mpl-data/fonts/pdfcorefonts\r\n",
      "  \u001B[31m   \u001B[0m copying lib/matplotlib/mpl-data/images/back_large.gif -> build/lib.linux-x86_64-3.8/matplotlib/mpl-data/images\r\n",
      "  \u001B[31m   \u001B[0m creating build/lib.linux-x86_64-3.8/matplotlib/backends/web_backend/css\r\n",
      "  \u001B[31m   \u001B[0m copying lib/matplotlib/backends/web_backend/css/boilerplate.css -> build/lib.linux-x86_64-3.8/matplotlib/backends/web_backend/css\r\n",
      "  \u001B[31m   \u001B[0m copying lib/matplotlib/mpl-data/fonts/pdfcorefonts/ZapfDingbats.afm -> build/lib.linux-x86_64-3.8/matplotlib/mpl-data/fonts/pdfcorefonts\r\n",
      "  \u001B[31m   \u001B[0m copying lib/matplotlib/mpl-data/fonts/ttf/DejaVuSans-BoldOblique.ttf -> build/lib.linux-x86_64-3.8/matplotlib/mpl-data/fonts/ttf\r\n",
      "  \u001B[31m   \u001B[0m copying lib/matplotlib/mpl-data/fonts/afm/cmmi10.afm -> build/lib.linux-x86_64-3.8/matplotlib/mpl-data/fonts/afm\r\n",
      "  \u001B[31m   \u001B[0m copying lib/matplotlib/mpl-data/fonts/afm/pncr8a.afm -> build/lib.linux-x86_64-3.8/matplotlib/mpl-data/fonts/afm\r\n",
      "  \u001B[31m   \u001B[0m copying lib/matplotlib/mpl-data/images/filesave.png -> build/lib.linux-x86_64-3.8/matplotlib/mpl-data/images\r\n",
      "  \u001B[31m   \u001B[0m copying lib/matplotlib/mpl-data/images/matplotlib.ppm -> build/lib.linux-x86_64-3.8/matplotlib/mpl-data/images\r\n",
      "  \u001B[31m   \u001B[0m copying lib/matplotlib/mpl-data/images/forward_large.gif -> build/lib.linux-x86_64-3.8/matplotlib/mpl-data/images\r\n",
      "  \u001B[31m   \u001B[0m copying lib/matplotlib/mpl-data/stylelib/classic.mplstyle -> build/lib.linux-x86_64-3.8/matplotlib/mpl-data/stylelib\r\n",
      "  \u001B[31m   \u001B[0m copying lib/matplotlib/backends/web_backend/jquery-ui-1.12.1/LICENSE.txt -> build/lib.linux-x86_64-3.8/matplotlib/backends/web_backend/jquery-ui-1.12.1\r\n",
      "  \u001B[31m   \u001B[0m copying lib/matplotlib/backends/web_backend/jquery-ui-1.12.1/images/ui-icons_cc0000_256x240.png -> build/lib.linux-x86_64-3.8/matplotlib/backends/web_backend/jquery-ui-1.12.1/images\r\n",
      "  \u001B[31m   \u001B[0m copying lib/matplotlib/mpl-data/fonts/ttf/DejaVuSansDisplay.ttf -> build/lib.linux-x86_64-3.8/matplotlib/mpl-data/fonts/ttf\r\n",
      "  \u001B[31m   \u001B[0m copying lib/matplotlib/mpl-data/fonts/ttf/cmex10.ttf -> build/lib.linux-x86_64-3.8/matplotlib/mpl-data/fonts/ttf\r\n",
      "  \u001B[31m   \u001B[0m copying lib/matplotlib/mpl-data/images/home.svg -> build/lib.linux-x86_64-3.8/matplotlib/mpl-data/images\r\n",
      "  \u001B[31m   \u001B[0m copying lib/matplotlib/mpl-data/fonts/afm/pplbi8a.afm -> build/lib.linux-x86_64-3.8/matplotlib/mpl-data/fonts/afm\r\n",
      "  \u001B[31m   \u001B[0m copying lib/matplotlib/mpl-data/fonts/afm/cmr10.afm -> build/lib.linux-x86_64-3.8/matplotlib/mpl-data/fonts/afm\r\n",
      "  \u001B[31m   \u001B[0m copying lib/matplotlib/mpl-data/sample_data/msft.csv -> build/lib.linux-x86_64-3.8/matplotlib/mpl-data/sample_data\r\n",
      "  \u001B[31m   \u001B[0m copying lib/matplotlib/mpl-data/images/matplotlib_large.png -> build/lib.linux-x86_64-3.8/matplotlib/mpl-data/images\r\n",
      "  \u001B[31m   \u001B[0m copying lib/matplotlib/mpl-data/stylelib/fivethirtyeight.mplstyle -> build/lib.linux-x86_64-3.8/matplotlib/mpl-data/stylelib\r\n",
      "  \u001B[31m   \u001B[0m copying lib/matplotlib/backends/web_backend/jquery-ui-1.12.1/package.json -> build/lib.linux-x86_64-3.8/matplotlib/backends/web_backend/jquery-ui-1.12.1\r\n",
      "  \u001B[31m   \u001B[0m copying lib/matplotlib/mpl-data/stylelib/_classic_test.mplstyle -> build/lib.linux-x86_64-3.8/matplotlib/mpl-data/stylelib\r\n",
      "  \u001B[31m   \u001B[0m copying lib/matplotlib/mpl-data/stylelib/tableau-colorblind10.mplstyle -> build/lib.linux-x86_64-3.8/matplotlib/mpl-data/stylelib\r\n",
      "  \u001B[31m   \u001B[0m copying lib/matplotlib/backends/web_backend/jquery-ui-1.12.1/images/ui-icons_444444_256x240.png -> build/lib.linux-x86_64-3.8/matplotlib/backends/web_backend/jquery-ui-1.12.1/images\r\n",
      "  \u001B[31m   \u001B[0m copying lib/matplotlib/mpl-data/fonts/pdfcorefonts/Courier-Oblique.afm -> build/lib.linux-x86_64-3.8/matplotlib/mpl-data/fonts/pdfcorefonts\r\n",
      "  \u001B[31m   \u001B[0m copying lib/matplotlib/backends/web_backend/css/page.css -> build/lib.linux-x86_64-3.8/matplotlib/backends/web_backend/css\r\n",
      "  \u001B[31m   \u001B[0m copying lib/matplotlib/mpl-data/fonts/afm/pzdr.afm -> build/lib.linux-x86_64-3.8/matplotlib/mpl-data/fonts/afm\r\n",
      "  \u001B[31m   \u001B[0m copying lib/matplotlib/mpl-data/images/home_large.png -> build/lib.linux-x86_64-3.8/matplotlib/mpl-data/images\r\n",
      "  \u001B[31m   \u001B[0m copying lib/matplotlib/mpl-data/matplotlibrc -> build/lib.linux-x86_64-3.8/matplotlib/mpl-data\r\n",
      "  \u001B[31m   \u001B[0m copying lib/matplotlib/mpl-data/fonts/ttf/STIXSizFourSymBol.ttf -> build/lib.linux-x86_64-3.8/matplotlib/mpl-data/fonts/ttf\r\n",
      "  \u001B[31m   \u001B[0m copying lib/matplotlib/mpl-data/sample_data/README.txt -> build/lib.linux-x86_64-3.8/matplotlib/mpl-data/sample_data\r\n",
      "  \u001B[31m   \u001B[0m copying lib/matplotlib/mpl-data/fonts/afm/putb8a.afm -> build/lib.linux-x86_64-3.8/matplotlib/mpl-data/fonts/afm\r\n",
      "  \u001B[31m   \u001B[0m copying lib/matplotlib/mpl-data/fonts/pdfcorefonts/Helvetica-BoldOblique.afm -> build/lib.linux-x86_64-3.8/matplotlib/mpl-data/fonts/pdfcorefonts\r\n",
      "  \u001B[31m   \u001B[0m copying lib/matplotlib/mpl-data/sample_data/percent_bachelors_degrees_women_usa.csv -> build/lib.linux-x86_64-3.8/matplotlib/mpl-data/sample_data\r\n",
      "  \u001B[31m   \u001B[0m copying lib/matplotlib/mpl-data/fonts/pdfcorefonts/Courier-Bold.afm -> build/lib.linux-x86_64-3.8/matplotlib/mpl-data/fonts/pdfcorefonts\r\n",
      "  \u001B[31m   \u001B[0m copying lib/matplotlib/mpl-data/images/forward.gif -> build/lib.linux-x86_64-3.8/matplotlib/mpl-data/images\r\n",
      "  \u001B[31m   \u001B[0m copying lib/matplotlib/mpl-data/fonts/afm/phvr8an.afm -> build/lib.linux-x86_64-3.8/matplotlib/mpl-data/fonts/afm\r\n",
      "  \u001B[31m   \u001B[0m copying lib/matplotlib/mpl-data/images/zoom_to_rect.gif -> build/lib.linux-x86_64-3.8/matplotlib/mpl-data/images\r\n",
      "  \u001B[31m   \u001B[0m copying lib/matplotlib/backends/web_backend/js/mpl_tornado.js -> build/lib.linux-x86_64-3.8/matplotlib/backends/web_backend/js\r\n",
      "  \u001B[31m   \u001B[0m copying lib/matplotlib/mpl-data/images/move.gif -> build/lib.linux-x86_64-3.8/matplotlib/mpl-data/images\r\n",
      "  \u001B[31m   \u001B[0m copying lib/matplotlib/mpl-data/fonts/ttf/STIXSizTwoSymBol.ttf -> build/lib.linux-x86_64-3.8/matplotlib/mpl-data/fonts/ttf\r\n",
      "  \u001B[31m   \u001B[0m copying lib/matplotlib/mpl-data/fonts/afm/phvlo8a.afm -> build/lib.linux-x86_64-3.8/matplotlib/mpl-data/fonts/afm\r\n",
      "  \u001B[31m   \u001B[0m copying lib/matplotlib/mpl-data/fonts/ttf/cmb10.ttf -> build/lib.linux-x86_64-3.8/matplotlib/mpl-data/fonts/ttf\r\n",
      "  \u001B[31m   \u001B[0m copying lib/matplotlib/backends/web_backend/jquery-ui-1.12.1/images/ui-icons_777620_256x240.png -> build/lib.linux-x86_64-3.8/matplotlib/backends/web_backend/jquery-ui-1.12.1/images\r\n",
      "  \u001B[31m   \u001B[0m copying lib/matplotlib/mpl-data/fonts/pdfcorefonts/Helvetica.afm -> build/lib.linux-x86_64-3.8/matplotlib/mpl-data/fonts/pdfcorefonts\r\n",
      "  \u001B[31m   \u001B[0m copying lib/matplotlib/mpl-data/images/qt4_editor_options_large.png -> build/lib.linux-x86_64-3.8/matplotlib/mpl-data/images\r\n",
      "  \u001B[31m   \u001B[0m copying lib/matplotlib/backends/web_backend/jquery-ui-1.12.1/jquery-ui.min.css -> build/lib.linux-x86_64-3.8/matplotlib/backends/web_backend/jquery-ui-1.12.1\r\n",
      "  \u001B[31m   \u001B[0m copying lib/matplotlib/mpl-data/images/forward.pdf -> build/lib.linux-x86_64-3.8/matplotlib/mpl-data/images\r\n",
      "  \u001B[31m   \u001B[0m copying lib/matplotlib/mpl-data/fonts/afm/phvro8an.afm -> build/lib.linux-x86_64-3.8/matplotlib/mpl-data/fonts/afm\r\n",
      "  \u001B[31m   \u001B[0m copying lib/matplotlib/mpl-data/fonts/afm/psyr.afm -> build/lib.linux-x86_64-3.8/matplotlib/mpl-data/fonts/afm\r\n",
      "  \u001B[31m   \u001B[0m copying lib/matplotlib/mpl-data/images/forward_large.png -> build/lib.linux-x86_64-3.8/matplotlib/mpl-data/images\r\n",
      "  \u001B[31m   \u001B[0m copying lib/matplotlib/mpl-data/sample_data/membrane.dat -> build/lib.linux-x86_64-3.8/matplotlib/mpl-data/sample_data\r\n",
      "  \u001B[31m   \u001B[0m copying lib/matplotlib/mpl-data/images/matplotlib.png -> build/lib.linux-x86_64-3.8/matplotlib/mpl-data/images\r\n",
      "  \u001B[31m   \u001B[0m copying lib/matplotlib/mpl-data/sample_data/topobathy.npz -> build/lib.linux-x86_64-3.8/matplotlib/mpl-data/sample_data\r\n",
      "  \u001B[31m   \u001B[0m copying lib/matplotlib/mpl-data/images/zoom_to_rect_large.png -> build/lib.linux-x86_64-3.8/matplotlib/mpl-data/images\r\n",
      "  \u001B[31m   \u001B[0m copying lib/matplotlib/mpl-data/fonts/afm/putr8a.afm -> build/lib.linux-x86_64-3.8/matplotlib/mpl-data/fonts/afm\r\n",
      "  \u001B[31m   \u001B[0m copying lib/matplotlib/mpl-data/fonts/afm/phvb8an.afm -> build/lib.linux-x86_64-3.8/matplotlib/mpl-data/fonts/afm\r\n",
      "  \u001B[31m   \u001B[0m copying lib/matplotlib/mpl-data/fonts/afm/phvbo8a.afm -> build/lib.linux-x86_64-3.8/matplotlib/mpl-data/fonts/afm\r\n",
      "  \u001B[31m   \u001B[0m copying lib/matplotlib/mpl-data/fonts/afm/ptmri8a.afm -> build/lib.linux-x86_64-3.8/matplotlib/mpl-data/fonts/afm\r\n",
      "  \u001B[31m   \u001B[0m copying lib/matplotlib/mpl-data/images/help_large.png -> build/lib.linux-x86_64-3.8/matplotlib/mpl-data/images\r\n",
      "  \u001B[31m   \u001B[0m copying lib/matplotlib/mpl-data/images/hand_large.gif -> build/lib.linux-x86_64-3.8/matplotlib/mpl-data/images\r\n",
      "  \u001B[31m   \u001B[0m copying lib/matplotlib/mpl-data/images/back.gif -> build/lib.linux-x86_64-3.8/matplotlib/mpl-data/images\r\n",
      "  \u001B[31m   \u001B[0m copying lib/matplotlib/mpl-data/fonts/afm/pcrr8a.afm -> build/lib.linux-x86_64-3.8/matplotlib/mpl-data/fonts/afm\r\n",
      "  \u001B[31m   \u001B[0m copying lib/matplotlib/mpl-data/fonts/afm/pplr8a.afm -> build/lib.linux-x86_64-3.8/matplotlib/mpl-data/fonts/afm\r\n",
      "  \u001B[31m   \u001B[0m copying lib/matplotlib/mpl-data/images/move.pdf -> build/lib.linux-x86_64-3.8/matplotlib/mpl-data/images\r\n",
      "  \u001B[31m   \u001B[0m copying lib/matplotlib/mpl-data/fonts/ttf/DejaVuSansMono.ttf -> build/lib.linux-x86_64-3.8/matplotlib/mpl-data/fonts/ttf\r\n",
      "  \u001B[31m   \u001B[0m copying lib/matplotlib/mpl-data/fonts/afm/ptmb8a.afm -> build/lib.linux-x86_64-3.8/matplotlib/mpl-data/fonts/afm\r\n",
      "  \u001B[31m   \u001B[0m copying lib/matplotlib/mpl-data/fonts/afm/pagk8a.afm -> build/lib.linux-x86_64-3.8/matplotlib/mpl-data/fonts/afm\r\n",
      "  \u001B[31m   \u001B[0m copying lib/matplotlib/mpl-data/fonts/afm/pplri8a.afm -> build/lib.linux-x86_64-3.8/matplotlib/mpl-data/fonts/afm\r\n",
      "  \u001B[31m   \u001B[0m copying lib/matplotlib/mpl-data/fonts/ttf/STIXGeneralBol.ttf -> build/lib.linux-x86_64-3.8/matplotlib/mpl-data/fonts/ttf\r\n",
      "  \u001B[31m   \u001B[0m copying lib/matplotlib/mpl-data/fonts/ttf/STIXNonUniBolIta.ttf -> build/lib.linux-x86_64-3.8/matplotlib/mpl-data/fonts/ttf\r\n",
      "  \u001B[31m   \u001B[0m copying lib/matplotlib/backends/web_backend/all_figures.html -> build/lib.linux-x86_64-3.8/matplotlib/backends/web_backend\r\n",
      "  \u001B[31m   \u001B[0m copying lib/matplotlib/mpl-data/stylelib/seaborn-ticks.mplstyle -> build/lib.linux-x86_64-3.8/matplotlib/mpl-data/stylelib\r\n",
      "  \u001B[31m   \u001B[0m copying lib/matplotlib/mpl-data/fonts/ttf/cmr10.ttf -> build/lib.linux-x86_64-3.8/matplotlib/mpl-data/fonts/ttf\r\n",
      "  \u001B[31m   \u001B[0m copying lib/matplotlib/mpl-data/images/hand.png -> build/lib.linux-x86_64-3.8/matplotlib/mpl-data/images\r\n",
      "  \u001B[31m   \u001B[0m copying lib/matplotlib/mpl-data/fonts/ttf/DejaVuSans.ttf -> build/lib.linux-x86_64-3.8/matplotlib/mpl-data/fonts/ttf\r\n",
      "  \u001B[31m   \u001B[0m copying lib/matplotlib/mpl-data/fonts/ttf/STIXSizTwoSymReg.ttf -> build/lib.linux-x86_64-3.8/matplotlib/mpl-data/fonts/ttf\r\n",
      "  \u001B[31m   \u001B[0m copying lib/matplotlib/mpl-data/stylelib/seaborn-muted.mplstyle -> build/lib.linux-x86_64-3.8/matplotlib/mpl-data/stylelib\r\n",
      "  \u001B[31m   \u001B[0m copying lib/matplotlib/mpl-data/stylelib/Solarize_Light2.mplstyle -> build/lib.linux-x86_64-3.8/matplotlib/mpl-data/stylelib\r\n",
      "  \u001B[31m   \u001B[0m copying lib/matplotlib/mpl-data/fonts/ttf/STIXNonUniBol.ttf -> build/lib.linux-x86_64-3.8/matplotlib/mpl-data/fonts/ttf\r\n",
      "  \u001B[31m   \u001B[0m copying lib/matplotlib/mpl-data/images/move.png -> build/lib.linux-x86_64-3.8/matplotlib/mpl-data/images\r\n",
      "  \u001B[31m   \u001B[0m copying lib/matplotlib/mpl-data/fonts/ttf/DejaVuSerif.ttf -> build/lib.linux-x86_64-3.8/matplotlib/mpl-data/fonts/ttf\r\n",
      "  \u001B[31m   \u001B[0m copying lib/matplotlib/mpl-data/images/help.pdf -> build/lib.linux-x86_64-3.8/matplotlib/mpl-data/images\r\n",
      "  \u001B[31m   \u001B[0m copying lib/matplotlib/mpl-data/fonts/ttf/STIXSizOneSymReg.ttf -> build/lib.linux-x86_64-3.8/matplotlib/mpl-data/fonts/ttf\r\n",
      "  \u001B[31m   \u001B[0m copying lib/matplotlib/backends/web_backend/jquery-ui-1.12.1/jquery-ui.css -> build/lib.linux-x86_64-3.8/matplotlib/backends/web_backend/jquery-ui-1.12.1\r\n",
      "  \u001B[31m   \u001B[0m copying lib/matplotlib/backends/web_backend/jquery-ui-1.12.1/jquery-ui.structure.css -> build/lib.linux-x86_64-3.8/matplotlib/backends/web_backend/jquery-ui-1.12.1\r\n",
      "  \u001B[31m   \u001B[0m copying lib/matplotlib/mpl-data/fonts/afm/pbkdi8a.afm -> build/lib.linux-x86_64-3.8/matplotlib/mpl-data/fonts/afm\r\n",
      "  \u001B[31m   \u001B[0m copying lib/matplotlib/mpl-data/images/matplotlib.pdf -> build/lib.linux-x86_64-3.8/matplotlib/mpl-data/images\r\n",
      "  \u001B[31m   \u001B[0m copying lib/matplotlib/mpl-data/fonts/ttf/DejaVuSans-Bold.ttf -> build/lib.linux-x86_64-3.8/matplotlib/mpl-data/fonts/ttf\r\n",
      "  \u001B[31m   \u001B[0m copying lib/matplotlib/mpl-data/images/back_large.png -> build/lib.linux-x86_64-3.8/matplotlib/mpl-data/images\r\n",
      "  \u001B[31m   \u001B[0m copying lib/matplotlib/mpl-data/stylelib/seaborn-white.mplstyle -> build/lib.linux-x86_64-3.8/matplotlib/mpl-data/stylelib\r\n",
      "  \u001B[31m   \u001B[0m copying lib/matplotlib/mpl-data/fonts/afm/pagdo8a.afm -> build/lib.linux-x86_64-3.8/matplotlib/mpl-data/fonts/afm\r\n",
      "  \u001B[31m   \u001B[0m copying lib/matplotlib/backends/web_backend/jquery-ui-1.12.1/index.html -> build/lib.linux-x86_64-3.8/matplotlib/backends/web_backend/jquery-ui-1.12.1\r\n",
      "  \u001B[31m   \u001B[0m copying lib/matplotlib/mpl-data/fonts/ttf/DejaVuSansMono-BoldOblique.ttf -> build/lib.linux-x86_64-3.8/matplotlib/mpl-data/fonts/ttf\r\n",
      "  \u001B[31m   \u001B[0m copying lib/matplotlib/mpl-data/images/filesave.svg -> build/lib.linux-x86_64-3.8/matplotlib/mpl-data/images\r\n",
      "  \u001B[31m   \u001B[0m copying lib/matplotlib/backends/web_backend/css/fbm.css -> build/lib.linux-x86_64-3.8/matplotlib/backends/web_backend/css\r\n",
      "  \u001B[31m   \u001B[0m copying lib/matplotlib/mpl-data/fonts/afm/phvbo8an.afm -> build/lib.linux-x86_64-3.8/matplotlib/mpl-data/fonts/afm\r\n",
      "  \u001B[31m   \u001B[0m copying lib/matplotlib/mpl-data/fonts/ttf/STIXSizOneSymBol.ttf -> build/lib.linux-x86_64-3.8/matplotlib/mpl-data/fonts/ttf\r\n",
      "  \u001B[31m   \u001B[0m copying lib/matplotlib/mpl-data/images/help.svg -> build/lib.linux-x86_64-3.8/matplotlib/mpl-data/images\r\n",
      "  \u001B[31m   \u001B[0m copying lib/matplotlib/mpl-data/fonts/afm/pbkli8a.afm -> build/lib.linux-x86_64-3.8/matplotlib/mpl-data/fonts/afm\r\n",
      "  \u001B[31m   \u001B[0m copying lib/matplotlib/mpl-data/fonts/ttf/STIXSizFiveSymReg.ttf -> build/lib.linux-x86_64-3.8/matplotlib/mpl-data/fonts/ttf\r\n",
      "  \u001B[31m   \u001B[0m copying lib/matplotlib/mpl-data/images/filesave.pdf -> build/lib.linux-x86_64-3.8/matplotlib/mpl-data/images\r\n",
      "  \u001B[31m   \u001B[0m copying lib/matplotlib/mpl-data/stylelib/ggplot.mplstyle -> build/lib.linux-x86_64-3.8/matplotlib/mpl-data/stylelib\r\n",
      "  \u001B[31m   \u001B[0m copying lib/matplotlib/mpl-data/fonts/afm/ptmr8a.afm -> build/lib.linux-x86_64-3.8/matplotlib/mpl-data/fonts/afm\r\n",
      "  \u001B[31m   \u001B[0m copying lib/matplotlib/backends/web_backend/jquery-ui-1.12.1/jquery-ui.theme.min.css -> build/lib.linux-x86_64-3.8/matplotlib/backends/web_backend/jquery-ui-1.12.1\r\n",
      "  \u001B[31m   \u001B[0m copying lib/matplotlib/mpl-data/sample_data/ct.raw.gz -> build/lib.linux-x86_64-3.8/matplotlib/mpl-data/sample_data\r\n",
      "  \u001B[31m   \u001B[0m copying lib/matplotlib/mpl-data/sample_data/data_x_x2_x3.csv -> build/lib.linux-x86_64-3.8/matplotlib/mpl-data/sample_data\r\n",
      "  \u001B[31m   \u001B[0m copying lib/matplotlib/mpl-data/fonts/ttf/DejaVuSans-Oblique.ttf -> build/lib.linux-x86_64-3.8/matplotlib/mpl-data/fonts/ttf\r\n",
      "  \u001B[31m   \u001B[0m copying lib/matplotlib/mpl-data/images/move_large.png -> build/lib.linux-x86_64-3.8/matplotlib/mpl-data/images\r\n",
      "  \u001B[31m   \u001B[0m copying lib/matplotlib/mpl-data/fonts/ttf/STIXSizFourSymReg.ttf -> build/lib.linux-x86_64-3.8/matplotlib/mpl-data/fonts/ttf\r\n",
      "  \u001B[31m   \u001B[0m copying lib/matplotlib/mpl-data/stylelib/seaborn.mplstyle -> build/lib.linux-x86_64-3.8/matplotlib/mpl-data/stylelib\r\n",
      "  \u001B[31m   \u001B[0m copying lib/matplotlib/mpl-data/stylelib/bmh.mplstyle -> build/lib.linux-x86_64-3.8/matplotlib/mpl-data/stylelib\r\n",
      "  \u001B[31m   \u001B[0m copying lib/matplotlib/backends/web_backend/jquery-ui-1.12.1/jquery-ui.js -> build/lib.linux-x86_64-3.8/matplotlib/backends/web_backend/jquery-ui-1.12.1\r\n",
      "  \u001B[31m   \u001B[0m copying lib/matplotlib/mpl-data/fonts/ttf/cmmi10.ttf -> build/lib.linux-x86_64-3.8/matplotlib/mpl-data/fonts/ttf\r\n",
      "  \u001B[31m   \u001B[0m copying lib/matplotlib/mpl-data/fonts/ttf/STIXGeneral.ttf -> build/lib.linux-x86_64-3.8/matplotlib/mpl-data/fonts/ttf\r\n",
      "  \u001B[31m   \u001B[0m copying lib/matplotlib/mpl-data/fonts/ttf/STIXSizThreeSymBol.ttf -> build/lib.linux-x86_64-3.8/matplotlib/mpl-data/fonts/ttf\r\n",
      "  \u001B[31m   \u001B[0m copying lib/matplotlib/mpl-data/fonts/ttf/DejaVuSansMono-Oblique.ttf -> build/lib.linux-x86_64-3.8/matplotlib/mpl-data/fonts/ttf\r\n",
      "  \u001B[31m   \u001B[0m copying lib/matplotlib/mpl-data/images/help_large.ppm -> build/lib.linux-x86_64-3.8/matplotlib/mpl-data/images\r\n",
      "  \u001B[31m   \u001B[0m copying lib/matplotlib/mpl-data/images/filesave_large.png -> build/lib.linux-x86_64-3.8/matplotlib/mpl-data/images\r\n",
      "  \u001B[31m   \u001B[0m copying lib/matplotlib/mpl-data/fonts/afm/cmtt10.afm -> build/lib.linux-x86_64-3.8/matplotlib/mpl-data/fonts/afm\r\n",
      "  \u001B[31m   \u001B[0m copying lib/matplotlib/mpl-data/stylelib/fast.mplstyle -> build/lib.linux-x86_64-3.8/matplotlib/mpl-data/stylelib\r\n",
      "  \u001B[31m   \u001B[0m copying lib/matplotlib/mpl-data/stylelib/seaborn-talk.mplstyle -> build/lib.linux-x86_64-3.8/matplotlib/mpl-data/stylelib\r\n",
      "  \u001B[31m   \u001B[0m copying lib/matplotlib/mpl-data/images/hand.pdf -> build/lib.linux-x86_64-3.8/matplotlib/mpl-data/images\r\n",
      "  \u001B[31m   \u001B[0m copying lib/matplotlib/mpl-data/fonts/ttf/LICENSE_STIX -> build/lib.linux-x86_64-3.8/matplotlib/mpl-data/fonts/ttf\r\n",
      "  \u001B[31m   \u001B[0m copying lib/matplotlib/mpl-data/images/filesave_large.gif -> build/lib.linux-x86_64-3.8/matplotlib/mpl-data/images\r\n",
      "  \u001B[31m   \u001B[0m copying lib/matplotlib/mpl-data/sample_data/grace_hopper.jpg -> build/lib.linux-x86_64-3.8/matplotlib/mpl-data/sample_data\r\n",
      "  \u001B[31m   \u001B[0m copying lib/matplotlib/mpl-data/images/back.png -> build/lib.linux-x86_64-3.8/matplotlib/mpl-data/images\r\n",
      "  \u001B[31m   \u001B[0m copying lib/matplotlib/mpl-data/fonts/afm/putbi8a.afm -> build/lib.linux-x86_64-3.8/matplotlib/mpl-data/fonts/afm\r\n",
      "  \u001B[31m   \u001B[0m copying lib/matplotlib/mpl-data/fonts/pdfcorefonts/Helvetica-Bold.afm -> build/lib.linux-x86_64-3.8/matplotlib/mpl-data/fonts/pdfcorefonts\r\n",
      "  \u001B[31m   \u001B[0m copying lib/matplotlib/mpl-data/fonts/ttf/DejaVuSerif-BoldItalic.ttf -> build/lib.linux-x86_64-3.8/matplotlib/mpl-data/fonts/ttf\r\n",
      "  \u001B[31m   \u001B[0m copying lib/matplotlib/mpl-data/images/zoom_to_rect.png -> build/lib.linux-x86_64-3.8/matplotlib/mpl-data/images\r\n",
      "  \u001B[31m   \u001B[0m copying lib/matplotlib/mpl-data/fonts/afm/pplb8a.afm -> build/lib.linux-x86_64-3.8/matplotlib/mpl-data/fonts/afm\r\n",
      "  \u001B[31m   \u001B[0m copying lib/matplotlib/mpl-data/images/home.pdf -> build/lib.linux-x86_64-3.8/matplotlib/mpl-data/images\r\n",
      "  \u001B[31m   \u001B[0m copying lib/matplotlib/backends/web_backend/jquery-ui-1.12.1/jquery-ui.theme.css -> build/lib.linux-x86_64-3.8/matplotlib/backends/web_backend/jquery-ui-1.12.1\r\n",
      "  \u001B[31m   \u001B[0m copying lib/matplotlib/backends/web_backend/jquery-ui-1.12.1/AUTHORS.txt -> build/lib.linux-x86_64-3.8/matplotlib/backends/web_backend/jquery-ui-1.12.1\r\n",
      "  \u001B[31m   \u001B[0m copying lib/matplotlib/mpl-data/sample_data/eeg.dat -> build/lib.linux-x86_64-3.8/matplotlib/mpl-data/sample_data\r\n",
      "  \u001B[31m   \u001B[0m copying lib/matplotlib/mpl-data/fonts/afm/pagko8a.afm -> build/lib.linux-x86_64-3.8/matplotlib/mpl-data/fonts/afm\r\n",
      "  \u001B[31m   \u001B[0m UPDATING build/lib.linux-x86_64-3.8/matplotlib/_version.py\r\n",
      "  \u001B[31m   \u001B[0m set build/lib.linux-x86_64-3.8/matplotlib/_version.py to '3.1.1'\r\n",
      "  \u001B[31m   \u001B[0m running build_ext\r\n",
      "  \u001B[31m   \u001B[0m creating build/temp.linux-x86_64-3.8\r\n",
      "  \u001B[31m   \u001B[0m creating build/temp.linux-x86_64-3.8/src\r\n",
      "  \u001B[31m   \u001B[0m x86_64-linux-gnu-gcc -pthread -Wno-unused-result -Wsign-compare -DNDEBUG -g -fwrapv -O2 -Wall -g -fstack-protector-strong -Wformat -Werror=format-security -g -fwrapv -O2 -fPIC -DFREETYPE_BUILD_TYPE=system -DPY_ARRAY_UNIQUE_SYMBOL=MPL_matplotlib_ft2font_ARRAY_API -DNPY_NO_DEPRECATED_API=NPY_1_7_API_VERSION -D__STDC_FORMAT_MACROS=1 -Iextern/agg24-svn/include -I/home/guava/venvs/mec-mini-projects/lib/python3.8/site-packages/numpy/core/include -I/home/guava/venvs/mec-mini-projects/include -I/usr/include/python3.8 -c src/checkdep_freetype2.c -o build/temp.linux-x86_64-3.8/src/checkdep_freetype2.o\r\n",
      "  \u001B[31m   \u001B[0m src/checkdep_freetype2.c:1:10: fatal error: ft2build.h: No such file or directory\r\n",
      "  \u001B[31m   \u001B[0m     1 | #include <ft2build.h>\r\n",
      "  \u001B[31m   \u001B[0m       |          ^~~~~~~~~~~~\r\n",
      "  \u001B[31m   \u001B[0m compilation terminated.\r\n",
      "  \u001B[31m   \u001B[0m error: command '/usr/bin/x86_64-linux-gnu-gcc' failed with exit code 1\r\n",
      "  \u001B[31m   \u001B[0m \u001B[31m[end of output]\u001B[0m\r\n",
      "  \r\n",
      "  \u001B[1;35mnote\u001B[0m: This error originates from a subprocess, and is likely not a problem with pip.\r\n",
      "\u001B[31m  ERROR: Failed building wheel for matplotlib\u001B[0m\u001B[31m\r\n",
      "\u001B[0m\u001B[?25h  Running setup.py clean for matplotlib\r\n",
      "Failed to build matplotlib\r\n",
      "Installing collected packages: matplotlib\r\n",
      "  Attempting uninstall: matplotlib\r\n",
      "    Found existing installation: matplotlib 3.2.0rc1\r\n",
      "    Uninstalling matplotlib-3.2.0rc1:\r\n",
      "      Successfully uninstalled matplotlib-3.2.0rc1\r\n",
      "  Running setup.py install for matplotlib ... \u001B[?25lerror\r\n",
      "  \u001B[1;31merror\u001B[0m: \u001B[1msubprocess-exited-with-error\u001B[0m\r\n",
      "  \r\n",
      "  \u001B[31m×\u001B[0m \u001B[32mRunning setup.py install for matplotlib\u001B[0m did not run successfully.\r\n",
      "  \u001B[31m│\u001B[0m exit code: \u001B[1;36m1\u001B[0m\r\n",
      "  \u001B[31m╰─>\u001B[0m \u001B[31m[506 lines of output]\u001B[0m\r\n",
      "  \u001B[31m   \u001B[0m ================================================================================\r\n",
      "  \u001B[31m   \u001B[0m Edit setup.cfg to change the build options\r\n",
      "  \u001B[31m   \u001B[0m \r\n",
      "  \u001B[31m   \u001B[0m BUILDING MATPLOTLIB\r\n",
      "  \u001B[31m   \u001B[0m   matplotlib: yes [3.1.1]\r\n",
      "  \u001B[31m   \u001B[0m       python: yes [3.8.10 (default, Jun 22 2022, 20:18:18)  [GCC 9.4.0]]\r\n",
      "  \u001B[31m   \u001B[0m     platform: yes [linux]\r\n",
      "  \u001B[31m   \u001B[0m \r\n",
      "  \u001B[31m   \u001B[0m OPTIONAL SUBPACKAGES\r\n",
      "  \u001B[31m   \u001B[0m  sample_data: yes [installing]\r\n",
      "  \u001B[31m   \u001B[0m        tests: no  [skipping due to configuration]\r\n",
      "  \u001B[31m   \u001B[0m \r\n",
      "  \u001B[31m   \u001B[0m OPTIONAL BACKEND EXTENSIONS\r\n",
      "  \u001B[31m   \u001B[0m          agg: yes [installing]\r\n",
      "  \u001B[31m   \u001B[0m        tkagg: yes [installing; run-time loading from Python Tcl/Tk]\r\n",
      "  \u001B[31m   \u001B[0m       macosx: no  [Mac OS-X only]\r\n",
      "  \u001B[31m   \u001B[0m \r\n",
      "  \u001B[31m   \u001B[0m OPTIONAL PACKAGE DATA\r\n",
      "  \u001B[31m   \u001B[0m         dlls: no  [skipping due to configuration]\r\n",
      "  \u001B[31m   \u001B[0m \r\n",
      "  \u001B[31m   \u001B[0m running install\r\n",
      "  \u001B[31m   \u001B[0m /home/guava/venvs/mec-mini-projects/lib/python3.8/site-packages/setuptools/command/install.py:34: SetuptoolsDeprecationWarning: setup.py install is deprecated. Use build and pip and other standards-based tools.\r\n",
      "  \u001B[31m   \u001B[0m   warnings.warn(\r\n",
      "  \u001B[31m   \u001B[0m running build\r\n",
      "  \u001B[31m   \u001B[0m running build_py\r\n",
      "  \u001B[31m   \u001B[0m creating build\r\n",
      "  \u001B[31m   \u001B[0m creating build/lib.linux-x86_64-3.8\r\n",
      "  \u001B[31m   \u001B[0m copying lib/pylab.py -> build/lib.linux-x86_64-3.8\r\n",
      "  \u001B[31m   \u001B[0m creating build/lib.linux-x86_64-3.8/matplotlib\r\n",
      "  \u001B[31m   \u001B[0m copying lib/matplotlib/sankey.py -> build/lib.linux-x86_64-3.8/matplotlib\r\n",
      "  \u001B[31m   \u001B[0m copying lib/matplotlib/rcsetup.py -> build/lib.linux-x86_64-3.8/matplotlib\r\n",
      "  \u001B[31m   \u001B[0m copying lib/matplotlib/patheffects.py -> build/lib.linux-x86_64-3.8/matplotlib\r\n",
      "  \u001B[31m   \u001B[0m copying lib/matplotlib/quiver.py -> build/lib.linux-x86_64-3.8/matplotlib\r\n",
      "  \u001B[31m   \u001B[0m copying lib/matplotlib/pyplot.py -> build/lib.linux-x86_64-3.8/matplotlib\r\n",
      "  \u001B[31m   \u001B[0m copying lib/matplotlib/backend_managers.py -> build/lib.linux-x86_64-3.8/matplotlib\r\n",
      "  \u001B[31m   \u001B[0m copying lib/matplotlib/_color_data.py -> build/lib.linux-x86_64-3.8/matplotlib\r\n",
      "  \u001B[31m   \u001B[0m copying lib/matplotlib/backend_bases.py -> build/lib.linux-x86_64-3.8/matplotlib\r\n",
      "  \u001B[31m   \u001B[0m copying lib/matplotlib/artist.py -> build/lib.linux-x86_64-3.8/matplotlib\r\n",
      "  \u001B[31m   \u001B[0m copying lib/matplotlib/axis.py -> build/lib.linux-x86_64-3.8/matplotlib\r\n",
      "  \u001B[31m   \u001B[0m copying lib/matplotlib/textpath.py -> build/lib.linux-x86_64-3.8/matplotlib\r\n",
      "  \u001B[31m   \u001B[0m copying lib/matplotlib/animation.py -> build/lib.linux-x86_64-3.8/matplotlib\r\n",
      "  \u001B[31m   \u001B[0m copying lib/matplotlib/_constrained_layout.py -> build/lib.linux-x86_64-3.8/matplotlib\r\n",
      "  \u001B[31m   \u001B[0m copying lib/matplotlib/scale.py -> build/lib.linux-x86_64-3.8/matplotlib\r\n",
      "  \u001B[31m   \u001B[0m copying lib/matplotlib/_cm.py -> build/lib.linux-x86_64-3.8/matplotlib\r\n",
      "  \u001B[31m   \u001B[0m copying lib/matplotlib/contour.py -> build/lib.linux-x86_64-3.8/matplotlib\r\n",
      "  \u001B[31m   \u001B[0m copying lib/matplotlib/widgets.py -> build/lib.linux-x86_64-3.8/matplotlib\r\n",
      "  \u001B[31m   \u001B[0m copying lib/matplotlib/container.py -> build/lib.linux-x86_64-3.8/matplotlib\r\n",
      "  \u001B[31m   \u001B[0m copying lib/matplotlib/blocking_input.py -> build/lib.linux-x86_64-3.8/matplotlib\r\n",
      "  \u001B[31m   \u001B[0m copying lib/matplotlib/patches.py -> build/lib.linux-x86_64-3.8/matplotlib\r\n",
      "  \u001B[31m   \u001B[0m copying lib/matplotlib/dviread.py -> build/lib.linux-x86_64-3.8/matplotlib\r\n",
      "  \u001B[31m   \u001B[0m copying lib/matplotlib/afm.py -> build/lib.linux-x86_64-3.8/matplotlib\r\n",
      "  \u001B[31m   \u001B[0m copying lib/matplotlib/legend_handler.py -> build/lib.linux-x86_64-3.8/matplotlib\r\n",
      "  \u001B[31m   \u001B[0m copying lib/matplotlib/colorbar.py -> build/lib.linux-x86_64-3.8/matplotlib\r\n",
      "  \u001B[31m   \u001B[0m copying lib/matplotlib/_animation_data.py -> build/lib.linux-x86_64-3.8/matplotlib\r\n",
      "  \u001B[31m   \u001B[0m copying lib/matplotlib/text.py -> build/lib.linux-x86_64-3.8/matplotlib\r\n",
      "  \u001B[31m   \u001B[0m copying lib/matplotlib/tight_layout.py -> build/lib.linux-x86_64-3.8/matplotlib\r\n",
      "  \u001B[31m   \u001B[0m copying lib/matplotlib/mathtext.py -> build/lib.linux-x86_64-3.8/matplotlib\r\n",
      "  \u001B[31m   \u001B[0m copying lib/matplotlib/lines.py -> build/lib.linux-x86_64-3.8/matplotlib\r\n",
      "  \u001B[31m   \u001B[0m copying lib/matplotlib/__init__.py -> build/lib.linux-x86_64-3.8/matplotlib\r\n",
      "  \u001B[31m   \u001B[0m copying lib/matplotlib/markers.py -> build/lib.linux-x86_64-3.8/matplotlib\r\n",
      "  \u001B[31m   \u001B[0m copying lib/matplotlib/legend.py -> build/lib.linux-x86_64-3.8/matplotlib\r\n",
      "  \u001B[31m   \u001B[0m copying lib/matplotlib/type1font.py -> build/lib.linux-x86_64-3.8/matplotlib\r\n",
      "  \u001B[31m   \u001B[0m copying lib/matplotlib/cm.py -> build/lib.linux-x86_64-3.8/matplotlib\r\n",
      "  \u001B[31m   \u001B[0m copying lib/matplotlib/collections.py -> build/lib.linux-x86_64-3.8/matplotlib\r\n",
      "  \u001B[31m   \u001B[0m copying lib/matplotlib/units.py -> build/lib.linux-x86_64-3.8/matplotlib\r\n",
      "  \u001B[31m   \u001B[0m copying lib/matplotlib/_mathtext_data.py -> build/lib.linux-x86_64-3.8/matplotlib\r\n",
      "  \u001B[31m   \u001B[0m copying lib/matplotlib/_version.py -> build/lib.linux-x86_64-3.8/matplotlib\r\n",
      "  \u001B[31m   \u001B[0m copying lib/matplotlib/texmanager.py -> build/lib.linux-x86_64-3.8/matplotlib\r\n",
      "  \u001B[31m   \u001B[0m copying lib/matplotlib/hatch.py -> build/lib.linux-x86_64-3.8/matplotlib\r\n",
      "  \u001B[31m   \u001B[0m copying lib/matplotlib/_pylab_helpers.py -> build/lib.linux-x86_64-3.8/matplotlib\r\n",
      "  \u001B[31m   \u001B[0m copying lib/matplotlib/font_manager.py -> build/lib.linux-x86_64-3.8/matplotlib\r\n",
      "  \u001B[31m   \u001B[0m copying lib/matplotlib/_layoutbox.py -> build/lib.linux-x86_64-3.8/matplotlib\r\n",
      "  \u001B[31m   \u001B[0m copying lib/matplotlib/tight_bbox.py -> build/lib.linux-x86_64-3.8/matplotlib\r\n",
      "  \u001B[31m   \u001B[0m copying lib/matplotlib/pylab.py -> build/lib.linux-x86_64-3.8/matplotlib\r\n",
      "  \u001B[31m   \u001B[0m copying lib/matplotlib/gridspec.py -> build/lib.linux-x86_64-3.8/matplotlib\r\n",
      "  \u001B[31m   \u001B[0m copying lib/matplotlib/transforms.py -> build/lib.linux-x86_64-3.8/matplotlib\r\n",
      "  \u001B[31m   \u001B[0m copying lib/matplotlib/offsetbox.py -> build/lib.linux-x86_64-3.8/matplotlib\r\n",
      "  \u001B[31m   \u001B[0m copying lib/matplotlib/category.py -> build/lib.linux-x86_64-3.8/matplotlib\r\n",
      "  \u001B[31m   \u001B[0m copying lib/matplotlib/_cm_listed.py -> build/lib.linux-x86_64-3.8/matplotlib\r\n",
      "  \u001B[31m   \u001B[0m copying lib/matplotlib/bezier.py -> build/lib.linux-x86_64-3.8/matplotlib\r\n",
      "  \u001B[31m   \u001B[0m copying lib/matplotlib/stackplot.py -> build/lib.linux-x86_64-3.8/matplotlib\r\n",
      "  \u001B[31m   \u001B[0m copying lib/matplotlib/mlab.py -> build/lib.linux-x86_64-3.8/matplotlib\r\n",
      "  \u001B[31m   \u001B[0m copying lib/matplotlib/dates.py -> build/lib.linux-x86_64-3.8/matplotlib\r\n",
      "  \u001B[31m   \u001B[0m copying lib/matplotlib/streamplot.py -> build/lib.linux-x86_64-3.8/matplotlib\r\n",
      "  \u001B[31m   \u001B[0m copying lib/matplotlib/docstring.py -> build/lib.linux-x86_64-3.8/matplotlib\r\n",
      "  \u001B[31m   \u001B[0m copying lib/matplotlib/spines.py -> build/lib.linux-x86_64-3.8/matplotlib\r\n",
      "  \u001B[31m   \u001B[0m copying lib/matplotlib/table.py -> build/lib.linux-x86_64-3.8/matplotlib\r\n",
      "  \u001B[31m   \u001B[0m copying lib/matplotlib/ticker.py -> build/lib.linux-x86_64-3.8/matplotlib\r\n",
      "  \u001B[31m   \u001B[0m copying lib/matplotlib/backend_tools.py -> build/lib.linux-x86_64-3.8/matplotlib\r\n",
      "  \u001B[31m   \u001B[0m copying lib/matplotlib/fontconfig_pattern.py -> build/lib.linux-x86_64-3.8/matplotlib\r\n",
      "  \u001B[31m   \u001B[0m copying lib/matplotlib/image.py -> build/lib.linux-x86_64-3.8/matplotlib\r\n",
      "  \u001B[31m   \u001B[0m copying lib/matplotlib/path.py -> build/lib.linux-x86_64-3.8/matplotlib\r\n",
      "  \u001B[31m   \u001B[0m copying lib/matplotlib/figure.py -> build/lib.linux-x86_64-3.8/matplotlib\r\n",
      "  \u001B[31m   \u001B[0m copying lib/matplotlib/colors.py -> build/lib.linux-x86_64-3.8/matplotlib\r\n",
      "  \u001B[31m   \u001B[0m creating build/lib.linux-x86_64-3.8/mpl_toolkits\r\n",
      "  \u001B[31m   \u001B[0m copying lib/mpl_toolkits/__init__.py -> build/lib.linux-x86_64-3.8/mpl_toolkits\r\n",
      "  \u001B[31m   \u001B[0m creating build/lib.linux-x86_64-3.8/matplotlib/style\r\n",
      "  \u001B[31m   \u001B[0m copying lib/matplotlib/style/__init__.py -> build/lib.linux-x86_64-3.8/matplotlib/style\r\n",
      "  \u001B[31m   \u001B[0m copying lib/matplotlib/style/core.py -> build/lib.linux-x86_64-3.8/matplotlib/style\r\n",
      "  \u001B[31m   \u001B[0m creating build/lib.linux-x86_64-3.8/matplotlib/projections\r\n",
      "  \u001B[31m   \u001B[0m copying lib/matplotlib/projections/polar.py -> build/lib.linux-x86_64-3.8/matplotlib/projections\r\n",
      "  \u001B[31m   \u001B[0m copying lib/matplotlib/projections/__init__.py -> build/lib.linux-x86_64-3.8/matplotlib/projections\r\n",
      "  \u001B[31m   \u001B[0m copying lib/matplotlib/projections/geo.py -> build/lib.linux-x86_64-3.8/matplotlib/projections\r\n",
      "  \u001B[31m   \u001B[0m creating build/lib.linux-x86_64-3.8/matplotlib/sphinxext\r\n",
      "  \u001B[31m   \u001B[0m copying lib/matplotlib/sphinxext/__init__.py -> build/lib.linux-x86_64-3.8/matplotlib/sphinxext\r\n",
      "  \u001B[31m   \u001B[0m copying lib/matplotlib/sphinxext/plot_directive.py -> build/lib.linux-x86_64-3.8/matplotlib/sphinxext\r\n",
      "  \u001B[31m   \u001B[0m copying lib/matplotlib/sphinxext/mathmpl.py -> build/lib.linux-x86_64-3.8/matplotlib/sphinxext\r\n",
      "  \u001B[31m   \u001B[0m creating build/lib.linux-x86_64-3.8/matplotlib/cbook\r\n",
      "  \u001B[31m   \u001B[0m copying lib/matplotlib/cbook/__init__.py -> build/lib.linux-x86_64-3.8/matplotlib/cbook\r\n",
      "  \u001B[31m   \u001B[0m copying lib/matplotlib/cbook/deprecation.py -> build/lib.linux-x86_64-3.8/matplotlib/cbook\r\n",
      "  \u001B[31m   \u001B[0m creating build/lib.linux-x86_64-3.8/matplotlib/backends\r\n",
      "  \u001B[31m   \u001B[0m copying lib/matplotlib/backends/backend_qt5.py -> build/lib.linux-x86_64-3.8/matplotlib/backends\r\n",
      "  \u001B[31m   \u001B[0m copying lib/matplotlib/backends/backend_webagg_core.py -> build/lib.linux-x86_64-3.8/matplotlib/backends\r\n",
      "  \u001B[31m   \u001B[0m copying lib/matplotlib/backends/backend_wx.py -> build/lib.linux-x86_64-3.8/matplotlib/backends\r\n",
      "  \u001B[31m   \u001B[0m copying lib/matplotlib/backends/backend_cairo.py -> build/lib.linux-x86_64-3.8/matplotlib/backends\r\n",
      "  \u001B[31m   \u001B[0m copying lib/matplotlib/backends/backend_qt5agg.py -> build/lib.linux-x86_64-3.8/matplotlib/backends\r\n",
      "  \u001B[31m   \u001B[0m copying lib/matplotlib/backends/wx_compat.py -> build/lib.linux-x86_64-3.8/matplotlib/backends\r\n",
      "  \u001B[31m   \u001B[0m copying lib/matplotlib/backends/backend_qt4cairo.py -> build/lib.linux-x86_64-3.8/matplotlib/backends\r\n",
      "  \u001B[31m   \u001B[0m copying lib/matplotlib/backends/backend_svg.py -> build/lib.linux-x86_64-3.8/matplotlib/backends\r\n",
      "  \u001B[31m   \u001B[0m copying lib/matplotlib/backends/backend_qt5cairo.py -> build/lib.linux-x86_64-3.8/matplotlib/backends\r\n",
      "  \u001B[31m   \u001B[0m copying lib/matplotlib/backends/backend_macosx.py -> build/lib.linux-x86_64-3.8/matplotlib/backends\r\n",
      "  \u001B[31m   \u001B[0m copying lib/matplotlib/backends/backend_ps.py -> build/lib.linux-x86_64-3.8/matplotlib/backends\r\n",
      "  \u001B[31m   \u001B[0m copying lib/matplotlib/backends/backend_wxcairo.py -> build/lib.linux-x86_64-3.8/matplotlib/backends\r\n",
      "  \u001B[31m   \u001B[0m copying lib/matplotlib/backends/backend_qt4agg.py -> build/lib.linux-x86_64-3.8/matplotlib/backends\r\n",
      "  \u001B[31m   \u001B[0m copying lib/matplotlib/backends/backend_tkcairo.py -> build/lib.linux-x86_64-3.8/matplotlib/backends\r\n",
      "  \u001B[31m   \u001B[0m copying lib/matplotlib/backends/_backend_tk.py -> build/lib.linux-x86_64-3.8/matplotlib/backends\r\n",
      "  \u001B[31m   \u001B[0m copying lib/matplotlib/backends/backend_mixed.py -> build/lib.linux-x86_64-3.8/matplotlib/backends\r\n",
      "  \u001B[31m   \u001B[0m copying lib/matplotlib/backends/__init__.py -> build/lib.linux-x86_64-3.8/matplotlib/backends\r\n",
      "  \u001B[31m   \u001B[0m copying lib/matplotlib/backends/backend_gtk3.py -> build/lib.linux-x86_64-3.8/matplotlib/backends\r\n",
      "  \u001B[31m   \u001B[0m copying lib/matplotlib/backends/backend_agg.py -> build/lib.linux-x86_64-3.8/matplotlib/backends\r\n",
      "  \u001B[31m   \u001B[0m copying lib/matplotlib/backends/backend_template.py -> build/lib.linux-x86_64-3.8/matplotlib/backends\r\n",
      "  \u001B[31m   \u001B[0m copying lib/matplotlib/backends/windowing.py -> build/lib.linux-x86_64-3.8/matplotlib/backends\r\n",
      "  \u001B[31m   \u001B[0m copying lib/matplotlib/backends/backend_pdf.py -> build/lib.linux-x86_64-3.8/matplotlib/backends\r\n",
      "  \u001B[31m   \u001B[0m copying lib/matplotlib/backends/backend_nbagg.py -> build/lib.linux-x86_64-3.8/matplotlib/backends\r\n",
      "  \u001B[31m   \u001B[0m copying lib/matplotlib/backends/_backend_pdf_ps.py -> build/lib.linux-x86_64-3.8/matplotlib/backends\r\n",
      "  \u001B[31m   \u001B[0m copying lib/matplotlib/backends/backend_gtk3agg.py -> build/lib.linux-x86_64-3.8/matplotlib/backends\r\n",
      "  \u001B[31m   \u001B[0m copying lib/matplotlib/backends/backend_gtk3cairo.py -> build/lib.linux-x86_64-3.8/matplotlib/backends\r\n",
      "  \u001B[31m   \u001B[0m copying lib/matplotlib/backends/backend_pgf.py -> build/lib.linux-x86_64-3.8/matplotlib/backends\r\n",
      "  \u001B[31m   \u001B[0m copying lib/matplotlib/backends/backend_webagg.py -> build/lib.linux-x86_64-3.8/matplotlib/backends\r\n",
      "  \u001B[31m   \u001B[0m copying lib/matplotlib/backends/backend_qt4.py -> build/lib.linux-x86_64-3.8/matplotlib/backends\r\n",
      "  \u001B[31m   \u001B[0m copying lib/matplotlib/backends/qt_compat.py -> build/lib.linux-x86_64-3.8/matplotlib/backends\r\n",
      "  \u001B[31m   \u001B[0m copying lib/matplotlib/backends/backend_tkagg.py -> build/lib.linux-x86_64-3.8/matplotlib/backends\r\n",
      "  \u001B[31m   \u001B[0m copying lib/matplotlib/backends/backend_wxagg.py -> build/lib.linux-x86_64-3.8/matplotlib/backends\r\n",
      "  \u001B[31m   \u001B[0m copying lib/matplotlib/backends/tkagg.py -> build/lib.linux-x86_64-3.8/matplotlib/backends\r\n",
      "  \u001B[31m   \u001B[0m creating build/lib.linux-x86_64-3.8/matplotlib/testing\r\n",
      "  \u001B[31m   \u001B[0m copying lib/matplotlib/testing/disable_internet.py -> build/lib.linux-x86_64-3.8/matplotlib/testing\r\n",
      "  \u001B[31m   \u001B[0m copying lib/matplotlib/testing/determinism.py -> build/lib.linux-x86_64-3.8/matplotlib/testing\r\n",
      "  \u001B[31m   \u001B[0m copying lib/matplotlib/testing/compare.py -> build/lib.linux-x86_64-3.8/matplotlib/testing\r\n",
      "  \u001B[31m   \u001B[0m copying lib/matplotlib/testing/__init__.py -> build/lib.linux-x86_64-3.8/matplotlib/testing\r\n",
      "  \u001B[31m   \u001B[0m copying lib/matplotlib/testing/conftest.py -> build/lib.linux-x86_64-3.8/matplotlib/testing\r\n",
      "  \u001B[31m   \u001B[0m copying lib/matplotlib/testing/exceptions.py -> build/lib.linux-x86_64-3.8/matplotlib/testing\r\n",
      "  \u001B[31m   \u001B[0m copying lib/matplotlib/testing/decorators.py -> build/lib.linux-x86_64-3.8/matplotlib/testing\r\n",
      "  \u001B[31m   \u001B[0m creating build/lib.linux-x86_64-3.8/matplotlib/compat\r\n",
      "  \u001B[31m   \u001B[0m copying lib/matplotlib/compat/__init__.py -> build/lib.linux-x86_64-3.8/matplotlib/compat\r\n",
      "  \u001B[31m   \u001B[0m copying lib/matplotlib/compat/subprocess.py -> build/lib.linux-x86_64-3.8/matplotlib/compat\r\n",
      "  \u001B[31m   \u001B[0m creating build/lib.linux-x86_64-3.8/matplotlib/tri\r\n",
      "  \u001B[31m   \u001B[0m copying lib/matplotlib/tri/trifinder.py -> build/lib.linux-x86_64-3.8/matplotlib/tri\r\n",
      "  \u001B[31m   \u001B[0m copying lib/matplotlib/tri/tripcolor.py -> build/lib.linux-x86_64-3.8/matplotlib/tri\r\n",
      "  \u001B[31m   \u001B[0m copying lib/matplotlib/tri/triangulation.py -> build/lib.linux-x86_64-3.8/matplotlib/tri\r\n",
      "  \u001B[31m   \u001B[0m copying lib/matplotlib/tri/tritools.py -> build/lib.linux-x86_64-3.8/matplotlib/tri\r\n",
      "  \u001B[31m   \u001B[0m copying lib/matplotlib/tri/triinterpolate.py -> build/lib.linux-x86_64-3.8/matplotlib/tri\r\n",
      "  \u001B[31m   \u001B[0m copying lib/matplotlib/tri/triplot.py -> build/lib.linux-x86_64-3.8/matplotlib/tri\r\n",
      "  \u001B[31m   \u001B[0m copying lib/matplotlib/tri/tricontour.py -> build/lib.linux-x86_64-3.8/matplotlib/tri\r\n",
      "  \u001B[31m   \u001B[0m copying lib/matplotlib/tri/__init__.py -> build/lib.linux-x86_64-3.8/matplotlib/tri\r\n",
      "  \u001B[31m   \u001B[0m copying lib/matplotlib/tri/trirefine.py -> build/lib.linux-x86_64-3.8/matplotlib/tri\r\n",
      "  \u001B[31m   \u001B[0m creating build/lib.linux-x86_64-3.8/matplotlib/axes\r\n",
      "  \u001B[31m   \u001B[0m copying lib/matplotlib/axes/_axes.py -> build/lib.linux-x86_64-3.8/matplotlib/axes\r\n",
      "  \u001B[31m   \u001B[0m copying lib/matplotlib/axes/_base.py -> build/lib.linux-x86_64-3.8/matplotlib/axes\r\n",
      "  \u001B[31m   \u001B[0m copying lib/matplotlib/axes/_subplots.py -> build/lib.linux-x86_64-3.8/matplotlib/axes\r\n",
      "  \u001B[31m   \u001B[0m copying lib/matplotlib/axes/__init__.py -> build/lib.linux-x86_64-3.8/matplotlib/axes\r\n",
      "  \u001B[31m   \u001B[0m copying lib/matplotlib/axes/_secondary_axes.py -> build/lib.linux-x86_64-3.8/matplotlib/axes\r\n",
      "  \u001B[31m   \u001B[0m creating build/lib.linux-x86_64-3.8/matplotlib/backends/qt_editor\r\n",
      "  \u001B[31m   \u001B[0m copying lib/matplotlib/backends/qt_editor/__init__.py -> build/lib.linux-x86_64-3.8/matplotlib/backends/qt_editor\r\n",
      "  \u001B[31m   \u001B[0m copying lib/matplotlib/backends/qt_editor/formsubplottool.py -> build/lib.linux-x86_64-3.8/matplotlib/backends/qt_editor\r\n",
      "  \u001B[31m   \u001B[0m copying lib/matplotlib/backends/qt_editor/_formlayout.py -> build/lib.linux-x86_64-3.8/matplotlib/backends/qt_editor\r\n",
      "  \u001B[31m   \u001B[0m copying lib/matplotlib/backends/qt_editor/figureoptions.py -> build/lib.linux-x86_64-3.8/matplotlib/backends/qt_editor\r\n",
      "  \u001B[31m   \u001B[0m copying lib/matplotlib/backends/qt_editor/formlayout.py -> build/lib.linux-x86_64-3.8/matplotlib/backends/qt_editor\r\n",
      "  \u001B[31m   \u001B[0m creating build/lib.linux-x86_64-3.8/matplotlib/testing/jpl_units\r\n",
      "  \u001B[31m   \u001B[0m copying lib/matplotlib/testing/jpl_units/Epoch.py -> build/lib.linux-x86_64-3.8/matplotlib/testing/jpl_units\r\n",
      "  \u001B[31m   \u001B[0m copying lib/matplotlib/testing/jpl_units/UnitDblConverter.py -> build/lib.linux-x86_64-3.8/matplotlib/testing/jpl_units\r\n",
      "  \u001B[31m   \u001B[0m copying lib/matplotlib/testing/jpl_units/Duration.py -> build/lib.linux-x86_64-3.8/matplotlib/testing/jpl_units\r\n",
      "  \u001B[31m   \u001B[0m copying lib/matplotlib/testing/jpl_units/StrConverter.py -> build/lib.linux-x86_64-3.8/matplotlib/testing/jpl_units\r\n",
      "  \u001B[31m   \u001B[0m copying lib/matplotlib/testing/jpl_units/__init__.py -> build/lib.linux-x86_64-3.8/matplotlib/testing/jpl_units\r\n",
      "  \u001B[31m   \u001B[0m copying lib/matplotlib/testing/jpl_units/EpochConverter.py -> build/lib.linux-x86_64-3.8/matplotlib/testing/jpl_units\r\n",
      "  \u001B[31m   \u001B[0m copying lib/matplotlib/testing/jpl_units/UnitDbl.py -> build/lib.linux-x86_64-3.8/matplotlib/testing/jpl_units\r\n",
      "  \u001B[31m   \u001B[0m copying lib/matplotlib/testing/jpl_units/UnitDblFormatter.py -> build/lib.linux-x86_64-3.8/matplotlib/testing/jpl_units\r\n",
      "  \u001B[31m   \u001B[0m creating build/lib.linux-x86_64-3.8/mpl_toolkits/axes_grid\r\n",
      "  \u001B[31m   \u001B[0m copying lib/mpl_toolkits/axes_grid/axis_artist.py -> build/lib.linux-x86_64-3.8/mpl_toolkits/axes_grid\r\n",
      "  \u001B[31m   \u001B[0m copying lib/mpl_toolkits/axes_grid/parasite_axes.py -> build/lib.linux-x86_64-3.8/mpl_toolkits/axes_grid\r\n",
      "  \u001B[31m   \u001B[0m copying lib/mpl_toolkits/axes_grid/axes_grid.py -> build/lib.linux-x86_64-3.8/mpl_toolkits/axes_grid\r\n",
      "  \u001B[31m   \u001B[0m copying lib/mpl_toolkits/axes_grid/clip_path.py -> build/lib.linux-x86_64-3.8/mpl_toolkits/axes_grid\r\n",
      "  \u001B[31m   \u001B[0m copying lib/mpl_toolkits/axes_grid/axes_rgb.py -> build/lib.linux-x86_64-3.8/mpl_toolkits/axes_grid\r\n",
      "  \u001B[31m   \u001B[0m copying lib/mpl_toolkits/axes_grid/axes_divider.py -> build/lib.linux-x86_64-3.8/mpl_toolkits/axes_grid\r\n",
      "  \u001B[31m   \u001B[0m copying lib/mpl_toolkits/axes_grid/floating_axes.py -> build/lib.linux-x86_64-3.8/mpl_toolkits/axes_grid\r\n",
      "  \u001B[31m   \u001B[0m copying lib/mpl_toolkits/axes_grid/colorbar.py -> build/lib.linux-x86_64-3.8/mpl_toolkits/axes_grid\r\n",
      "  \u001B[31m   \u001B[0m copying lib/mpl_toolkits/axes_grid/__init__.py -> build/lib.linux-x86_64-3.8/mpl_toolkits/axes_grid\r\n",
      "  \u001B[31m   \u001B[0m copying lib/mpl_toolkits/axes_grid/inset_locator.py -> build/lib.linux-x86_64-3.8/mpl_toolkits/axes_grid\r\n",
      "  \u001B[31m   \u001B[0m copying lib/mpl_toolkits/axes_grid/grid_finder.py -> build/lib.linux-x86_64-3.8/mpl_toolkits/axes_grid\r\n",
      "  \u001B[31m   \u001B[0m copying lib/mpl_toolkits/axes_grid/axisline_style.py -> build/lib.linux-x86_64-3.8/mpl_toolkits/axes_grid\r\n",
      "  \u001B[31m   \u001B[0m copying lib/mpl_toolkits/axes_grid/anchored_artists.py -> build/lib.linux-x86_64-3.8/mpl_toolkits/axes_grid\r\n",
      "  \u001B[31m   \u001B[0m copying lib/mpl_toolkits/axes_grid/axislines.py -> build/lib.linux-x86_64-3.8/mpl_toolkits/axes_grid\r\n",
      "  \u001B[31m   \u001B[0m copying lib/mpl_toolkits/axes_grid/grid_helper_curvelinear.py -> build/lib.linux-x86_64-3.8/mpl_toolkits/axes_grid\r\n",
      "  \u001B[31m   \u001B[0m copying lib/mpl_toolkits/axes_grid/angle_helper.py -> build/lib.linux-x86_64-3.8/mpl_toolkits/axes_grid\r\n",
      "  \u001B[31m   \u001B[0m copying lib/mpl_toolkits/axes_grid/axes_size.py -> build/lib.linux-x86_64-3.8/mpl_toolkits/axes_grid\r\n",
      "  \u001B[31m   \u001B[0m creating build/lib.linux-x86_64-3.8/mpl_toolkits/axes_grid1\r\n",
      "  \u001B[31m   \u001B[0m copying lib/mpl_toolkits/axes_grid1/mpl_axes.py -> build/lib.linux-x86_64-3.8/mpl_toolkits/axes_grid1\r\n",
      "  \u001B[31m   \u001B[0m copying lib/mpl_toolkits/axes_grid1/parasite_axes.py -> build/lib.linux-x86_64-3.8/mpl_toolkits/axes_grid1\r\n",
      "  \u001B[31m   \u001B[0m copying lib/mpl_toolkits/axes_grid1/axes_grid.py -> build/lib.linux-x86_64-3.8/mpl_toolkits/axes_grid1\r\n",
      "  \u001B[31m   \u001B[0m copying lib/mpl_toolkits/axes_grid1/axes_rgb.py -> build/lib.linux-x86_64-3.8/mpl_toolkits/axes_grid1\r\n",
      "  \u001B[31m   \u001B[0m copying lib/mpl_toolkits/axes_grid1/axes_divider.py -> build/lib.linux-x86_64-3.8/mpl_toolkits/axes_grid1\r\n",
      "  \u001B[31m   \u001B[0m copying lib/mpl_toolkits/axes_grid1/colorbar.py -> build/lib.linux-x86_64-3.8/mpl_toolkits/axes_grid1\r\n",
      "  \u001B[31m   \u001B[0m copying lib/mpl_toolkits/axes_grid1/__init__.py -> build/lib.linux-x86_64-3.8/mpl_toolkits/axes_grid1\r\n",
      "  \u001B[31m   \u001B[0m copying lib/mpl_toolkits/axes_grid1/inset_locator.py -> build/lib.linux-x86_64-3.8/mpl_toolkits/axes_grid1\r\n",
      "  \u001B[31m   \u001B[0m copying lib/mpl_toolkits/axes_grid1/anchored_artists.py -> build/lib.linux-x86_64-3.8/mpl_toolkits/axes_grid1\r\n",
      "  \u001B[31m   \u001B[0m copying lib/mpl_toolkits/axes_grid1/axes_size.py -> build/lib.linux-x86_64-3.8/mpl_toolkits/axes_grid1\r\n",
      "  \u001B[31m   \u001B[0m creating build/lib.linux-x86_64-3.8/mpl_toolkits/axisartist\r\n",
      "  \u001B[31m   \u001B[0m copying lib/mpl_toolkits/axisartist/axis_artist.py -> build/lib.linux-x86_64-3.8/mpl_toolkits/axisartist\r\n",
      "  \u001B[31m   \u001B[0m copying lib/mpl_toolkits/axisartist/parasite_axes.py -> build/lib.linux-x86_64-3.8/mpl_toolkits/axisartist\r\n",
      "  \u001B[31m   \u001B[0m copying lib/mpl_toolkits/axisartist/axes_grid.py -> build/lib.linux-x86_64-3.8/mpl_toolkits/axisartist\r\n",
      "  \u001B[31m   \u001B[0m copying lib/mpl_toolkits/axisartist/clip_path.py -> build/lib.linux-x86_64-3.8/mpl_toolkits/axisartist\r\n",
      "  \u001B[31m   \u001B[0m copying lib/mpl_toolkits/axisartist/axes_rgb.py -> build/lib.linux-x86_64-3.8/mpl_toolkits/axisartist\r\n",
      "  \u001B[31m   \u001B[0m copying lib/mpl_toolkits/axisartist/axes_divider.py -> build/lib.linux-x86_64-3.8/mpl_toolkits/axisartist\r\n",
      "  \u001B[31m   \u001B[0m copying lib/mpl_toolkits/axisartist/floating_axes.py -> build/lib.linux-x86_64-3.8/mpl_toolkits/axisartist\r\n",
      "  \u001B[31m   \u001B[0m copying lib/mpl_toolkits/axisartist/__init__.py -> build/lib.linux-x86_64-3.8/mpl_toolkits/axisartist\r\n",
      "  \u001B[31m   \u001B[0m copying lib/mpl_toolkits/axisartist/grid_finder.py -> build/lib.linux-x86_64-3.8/mpl_toolkits/axisartist\r\n",
      "  \u001B[31m   \u001B[0m copying lib/mpl_toolkits/axisartist/axisline_style.py -> build/lib.linux-x86_64-3.8/mpl_toolkits/axisartist\r\n",
      "  \u001B[31m   \u001B[0m copying lib/mpl_toolkits/axisartist/axislines.py -> build/lib.linux-x86_64-3.8/mpl_toolkits/axisartist\r\n",
      "  \u001B[31m   \u001B[0m copying lib/mpl_toolkits/axisartist/grid_helper_curvelinear.py -> build/lib.linux-x86_64-3.8/mpl_toolkits/axisartist\r\n",
      "  \u001B[31m   \u001B[0m copying lib/mpl_toolkits/axisartist/angle_helper.py -> build/lib.linux-x86_64-3.8/mpl_toolkits/axisartist\r\n",
      "  \u001B[31m   \u001B[0m creating build/lib.linux-x86_64-3.8/mpl_toolkits/mplot3d\r\n",
      "  \u001B[31m   \u001B[0m copying lib/mpl_toolkits/mplot3d/axes3d.py -> build/lib.linux-x86_64-3.8/mpl_toolkits/mplot3d\r\n",
      "  \u001B[31m   \u001B[0m copying lib/mpl_toolkits/mplot3d/__init__.py -> build/lib.linux-x86_64-3.8/mpl_toolkits/mplot3d\r\n",
      "  \u001B[31m   \u001B[0m copying lib/mpl_toolkits/mplot3d/axis3d.py -> build/lib.linux-x86_64-3.8/mpl_toolkits/mplot3d\r\n",
      "  \u001B[31m   \u001B[0m copying lib/mpl_toolkits/mplot3d/art3d.py -> build/lib.linux-x86_64-3.8/mpl_toolkits/mplot3d\r\n",
      "  \u001B[31m   \u001B[0m copying lib/mpl_toolkits/mplot3d/proj3d.py -> build/lib.linux-x86_64-3.8/mpl_toolkits/mplot3d\r\n",
      "  \u001B[31m   \u001B[0m creating build/lib.linux-x86_64-3.8/matplotlib/mpl-data\r\n",
      "  \u001B[31m   \u001B[0m creating build/lib.linux-x86_64-3.8/matplotlib/mpl-data/images\r\n",
      "  \u001B[31m   \u001B[0m copying lib/matplotlib/mpl-data/images/forward_large.gif -> build/lib.linux-x86_64-3.8/matplotlib/mpl-data/images\r\n",
      "  \u001B[31m   \u001B[0m creating build/lib.linux-x86_64-3.8/matplotlib/mpl-data/fonts\r\n",
      "  \u001B[31m   \u001B[0m creating build/lib.linux-x86_64-3.8/matplotlib/mpl-data/fonts/afm\r\n",
      "  \u001B[31m   \u001B[0m copying lib/matplotlib/mpl-data/fonts/afm/phvr8a.afm -> build/lib.linux-x86_64-3.8/matplotlib/mpl-data/fonts/afm\r\n",
      "  \u001B[31m   \u001B[0m copying lib/matplotlib/mpl-data/images/move.pdf -> build/lib.linux-x86_64-3.8/matplotlib/mpl-data/images\r\n",
      "  \u001B[31m   \u001B[0m creating build/lib.linux-x86_64-3.8/matplotlib/mpl-data/stylelib\r\n",
      "  \u001B[31m   \u001B[0m copying lib/matplotlib/mpl-data/stylelib/fivethirtyeight.mplstyle -> build/lib.linux-x86_64-3.8/matplotlib/mpl-data/stylelib\r\n",
      "  \u001B[31m   \u001B[0m copying lib/matplotlib/mpl-data/stylelib/ggplot.mplstyle -> build/lib.linux-x86_64-3.8/matplotlib/mpl-data/stylelib\r\n",
      "  \u001B[31m   \u001B[0m copying lib/matplotlib/mpl-data/images/subplots.gif -> build/lib.linux-x86_64-3.8/matplotlib/mpl-data/images\r\n",
      "  \u001B[31m   \u001B[0m copying lib/matplotlib/mpl-data/images/back.gif -> build/lib.linux-x86_64-3.8/matplotlib/mpl-data/images\r\n",
      "  \u001B[31m   \u001B[0m copying lib/matplotlib/mpl-data/stylelib/classic.mplstyle -> build/lib.linux-x86_64-3.8/matplotlib/mpl-data/stylelib\r\n",
      "  \u001B[31m   \u001B[0m copying lib/matplotlib/mpl-data/fonts/afm/phvb8a.afm -> build/lib.linux-x86_64-3.8/matplotlib/mpl-data/fonts/afm\r\n",
      "  \u001B[31m   \u001B[0m copying lib/matplotlib/mpl-data/fonts/afm/pbkd8a.afm -> build/lib.linux-x86_64-3.8/matplotlib/mpl-data/fonts/afm\r\n",
      "  \u001B[31m   \u001B[0m copying lib/matplotlib/mpl-data/images/zoom_to_rect.png -> build/lib.linux-x86_64-3.8/matplotlib/mpl-data/images\r\n",
      "  \u001B[31m   \u001B[0m copying lib/matplotlib/mpl-data/images/subplots_large.gif -> build/lib.linux-x86_64-3.8/matplotlib/mpl-data/images\r\n",
      "  \u001B[31m   \u001B[0m creating build/lib.linux-x86_64-3.8/matplotlib/mpl-data/fonts/ttf\r\n",
      "  \u001B[31m   \u001B[0m copying lib/matplotlib/mpl-data/fonts/ttf/cmr10.ttf -> build/lib.linux-x86_64-3.8/matplotlib/mpl-data/fonts/ttf\r\n",
      "  \u001B[31m   \u001B[0m creating build/lib.linux-x86_64-3.8/matplotlib/mpl-data/sample_data\r\n",
      "  \u001B[31m   \u001B[0m copying lib/matplotlib/mpl-data/sample_data/ct.raw.gz -> build/lib.linux-x86_64-3.8/matplotlib/mpl-data/sample_data\r\n",
      "  \u001B[31m   \u001B[0m copying lib/matplotlib/mpl-data/images/zoom_to_rect_large.gif -> build/lib.linux-x86_64-3.8/matplotlib/mpl-data/images\r\n",
      "  \u001B[31m   \u001B[0m copying lib/matplotlib/mpl-data/sample_data/embedding_in_wx3.xrc -> build/lib.linux-x86_64-3.8/matplotlib/mpl-data/sample_data\r\n",
      "  \u001B[31m   \u001B[0m copying lib/matplotlib/mpl-data/images/subplots_large.png -> build/lib.linux-x86_64-3.8/matplotlib/mpl-data/images\r\n",
      "  \u001B[31m   \u001B[0m copying lib/matplotlib/mpl-data/images/forward.gif -> build/lib.linux-x86_64-3.8/matplotlib/mpl-data/images\r\n",
      "  \u001B[31m   \u001B[0m copying lib/matplotlib/mpl-data/fonts/ttf/STIXSizOneSymReg.ttf -> build/lib.linux-x86_64-3.8/matplotlib/mpl-data/fonts/ttf\r\n",
      "  \u001B[31m   \u001B[0m copying lib/matplotlib/mpl-data/sample_data/README.txt -> build/lib.linux-x86_64-3.8/matplotlib/mpl-data/sample_data\r\n",
      "  \u001B[31m   \u001B[0m copying lib/matplotlib/mpl-data/images/move.svg -> build/lib.linux-x86_64-3.8/matplotlib/mpl-data/images\r\n",
      "  \u001B[31m   \u001B[0m copying lib/matplotlib/mpl-data/fonts/afm/pncri8a.afm -> build/lib.linux-x86_64-3.8/matplotlib/mpl-data/fonts/afm\r\n",
      "  \u001B[31m   \u001B[0m copying lib/matplotlib/mpl-data/stylelib/_classic_test.mplstyle -> build/lib.linux-x86_64-3.8/matplotlib/mpl-data/stylelib\r\n",
      "  \u001B[31m   \u001B[0m copying lib/matplotlib/mpl-data/fonts/afm/phvbo8a.afm -> build/lib.linux-x86_64-3.8/matplotlib/mpl-data/fonts/afm\r\n",
      "  \u001B[31m   \u001B[0m copying lib/matplotlib/mpl-data/fonts/ttf/cmex10.ttf -> build/lib.linux-x86_64-3.8/matplotlib/mpl-data/fonts/ttf\r\n",
      "  \u001B[31m   \u001B[0m creating build/lib.linux-x86_64-3.8/matplotlib/mpl-data/fonts/pdfcorefonts\r\n",
      "  \u001B[31m   \u001B[0m copying lib/matplotlib/mpl-data/fonts/pdfcorefonts/Helvetica-BoldOblique.afm -> build/lib.linux-x86_64-3.8/matplotlib/mpl-data/fonts/pdfcorefonts\r\n",
      "  \u001B[31m   \u001B[0m copying lib/matplotlib/mpl-data/fonts/afm/pplbi8a.afm -> build/lib.linux-x86_64-3.8/matplotlib/mpl-data/fonts/afm\r\n",
      "  \u001B[31m   \u001B[0m copying lib/matplotlib/mpl-data/fonts/ttf/LICENSE_STIX -> build/lib.linux-x86_64-3.8/matplotlib/mpl-data/fonts/ttf\r\n",
      "  \u001B[31m   \u001B[0m copying lib/matplotlib/mpl-data/fonts/ttf/STIXSizThreeSymReg.ttf -> build/lib.linux-x86_64-3.8/matplotlib/mpl-data/fonts/ttf\r\n",
      "  \u001B[31m   \u001B[0m copying lib/matplotlib/mpl-data/images/move_large.png -> build/lib.linux-x86_64-3.8/matplotlib/mpl-data/images\r\n",
      "  \u001B[31m   \u001B[0m copying lib/matplotlib/mpl-data/fonts/afm/pcrr8a.afm -> build/lib.linux-x86_64-3.8/matplotlib/mpl-data/fonts/afm\r\n",
      "  \u001B[31m   \u001B[0m copying lib/matplotlib/mpl-data/fonts/pdfcorefonts/Courier-BoldOblique.afm -> build/lib.linux-x86_64-3.8/matplotlib/mpl-data/fonts/pdfcorefonts\r\n",
      "  \u001B[31m   \u001B[0m copying lib/matplotlib/mpl-data/images/matplotlib.ppm -> build/lib.linux-x86_64-3.8/matplotlib/mpl-data/images\r\n",
      "  \u001B[31m   \u001B[0m copying lib/matplotlib/mpl-data/fonts/pdfcorefonts/Times-Bold.afm -> build/lib.linux-x86_64-3.8/matplotlib/mpl-data/fonts/pdfcorefonts\r\n",
      "  \u001B[31m   \u001B[0m creating build/lib.linux-x86_64-3.8/matplotlib/backends/web_backend\r\n",
      "  \u001B[31m   \u001B[0m creating build/lib.linux-x86_64-3.8/matplotlib/backends/web_backend/css\r\n",
      "  \u001B[31m   \u001B[0m copying lib/matplotlib/backends/web_backend/css/page.css -> build/lib.linux-x86_64-3.8/matplotlib/backends/web_backend/css\r\n",
      "  \u001B[31m   \u001B[0m copying lib/matplotlib/mpl-data/fonts/afm/pbkl8a.afm -> build/lib.linux-x86_64-3.8/matplotlib/mpl-data/fonts/afm\r\n",
      "  \u001B[31m   \u001B[0m copying lib/matplotlib/mpl-data/images/back.svg -> build/lib.linux-x86_64-3.8/matplotlib/mpl-data/images\r\n",
      "  \u001B[31m   \u001B[0m copying lib/matplotlib/mpl-data/fonts/pdfcorefonts/Times-BoldItalic.afm -> build/lib.linux-x86_64-3.8/matplotlib/mpl-data/fonts/pdfcorefonts\r\n",
      "  \u001B[31m   \u001B[0m copying lib/matplotlib/mpl-data/fonts/ttf/STIXGeneralBol.ttf -> build/lib.linux-x86_64-3.8/matplotlib/mpl-data/fonts/ttf\r\n",
      "  \u001B[31m   \u001B[0m copying lib/matplotlib/mpl-data/images/help.svg -> build/lib.linux-x86_64-3.8/matplotlib/mpl-data/images\r\n",
      "  \u001B[31m   \u001B[0m copying lib/matplotlib/backends/web_backend/ipython_inline_figure.html -> build/lib.linux-x86_64-3.8/matplotlib/backends/web_backend\r\n",
      "  \u001B[31m   \u001B[0m copying lib/matplotlib/mpl-data/fonts/ttf/STIXGeneralBolIta.ttf -> build/lib.linux-x86_64-3.8/matplotlib/mpl-data/fonts/ttf\r\n",
      "  \u001B[31m   \u001B[0m copying lib/matplotlib/mpl-data/images/zoom_to_rect.pdf -> build/lib.linux-x86_64-3.8/matplotlib/mpl-data/images\r\n",
      "  \u001B[31m   \u001B[0m copying lib/matplotlib/mpl-data/stylelib/seaborn-whitegrid.mplstyle -> build/lib.linux-x86_64-3.8/matplotlib/mpl-data/stylelib\r\n",
      "  \u001B[31m   \u001B[0m copying lib/matplotlib/mpl-data/fonts/pdfcorefonts/Times-Roman.afm -> build/lib.linux-x86_64-3.8/matplotlib/mpl-data/fonts/pdfcorefonts\r\n",
      "  \u001B[31m   \u001B[0m creating build/lib.linux-x86_64-3.8/matplotlib/backends/web_backend/jquery-ui-1.12.1\r\n",
      "  \u001B[31m   \u001B[0m copying lib/matplotlib/backends/web_backend/jquery-ui-1.12.1/jquery-ui.theme.min.css -> build/lib.linux-x86_64-3.8/matplotlib/backends/web_backend/jquery-ui-1.12.1\r\n",
      "  \u001B[31m   \u001B[0m copying lib/matplotlib/mpl-data/fonts/afm/pagdo8a.afm -> build/lib.linux-x86_64-3.8/matplotlib/mpl-data/fonts/afm\r\n",
      "  \u001B[31m   \u001B[0m copying lib/matplotlib/mpl-data/fonts/afm/pbkli8a.afm -> build/lib.linux-x86_64-3.8/matplotlib/mpl-data/fonts/afm\r\n",
      "  \u001B[31m   \u001B[0m copying lib/matplotlib/mpl-data/images/filesave.svg -> build/lib.linux-x86_64-3.8/matplotlib/mpl-data/images\r\n",
      "  \u001B[31m   \u001B[0m copying lib/matplotlib/mpl-data/fonts/ttf/DejaVuSans.ttf -> build/lib.linux-x86_64-3.8/matplotlib/mpl-data/fonts/ttf\r\n",
      "  \u001B[31m   \u001B[0m copying lib/matplotlib/mpl-data/sample_data/membrane.dat -> build/lib.linux-x86_64-3.8/matplotlib/mpl-data/sample_data\r\n",
      "  \u001B[31m   \u001B[0m copying lib/matplotlib/backends/web_backend/css/fbm.css -> build/lib.linux-x86_64-3.8/matplotlib/backends/web_backend/css\r\n",
      "  \u001B[31m   \u001B[0m copying lib/matplotlib/mpl-data/sample_data/s1045.ima.gz -> build/lib.linux-x86_64-3.8/matplotlib/mpl-data/sample_data\r\n",
      "  \u001B[31m   \u001B[0m copying lib/matplotlib/mpl-data/images/help.png -> build/lib.linux-x86_64-3.8/matplotlib/mpl-data/images\r\n",
      "  \u001B[31m   \u001B[0m copying lib/matplotlib/mpl-data/fonts/ttf/STIXSizFiveSymReg.ttf -> build/lib.linux-x86_64-3.8/matplotlib/mpl-data/fonts/ttf\r\n",
      "  \u001B[31m   \u001B[0m copying lib/matplotlib/mpl-data/images/back_large.png -> build/lib.linux-x86_64-3.8/matplotlib/mpl-data/images\r\n",
      "  \u001B[31m   \u001B[0m copying lib/matplotlib/backends/web_backend/jquery-ui-1.12.1/jquery-ui.theme.css -> build/lib.linux-x86_64-3.8/matplotlib/backends/web_backend/jquery-ui-1.12.1\r\n",
      "  \u001B[31m   \u001B[0m creating build/lib.linux-x86_64-3.8/matplotlib/mpl-data/sample_data/axes_grid\r\n",
      "  \u001B[31m   \u001B[0m copying lib/matplotlib/mpl-data/sample_data/axes_grid/bivariate_normal.npy -> build/lib.linux-x86_64-3.8/matplotlib/mpl-data/sample_data/axes_grid\r\n",
      "  \u001B[31m   \u001B[0m copying lib/matplotlib/mpl-data/images/hand_large.gif -> build/lib.linux-x86_64-3.8/matplotlib/mpl-data/images\r\n",
      "  \u001B[31m   \u001B[0m copying lib/matplotlib/mpl-data/fonts/ttf/STIXNonUni.ttf -> build/lib.linux-x86_64-3.8/matplotlib/mpl-data/fonts/ttf\r\n",
      "  \u001B[31m   \u001B[0m copying lib/matplotlib/mpl-data/fonts/ttf/DejaVuSerif-BoldItalic.ttf -> build/lib.linux-x86_64-3.8/matplotlib/mpl-data/fonts/ttf\r\n",
      "  \u001B[31m   \u001B[0m copying lib/matplotlib/mpl-data/images/matplotlib_large.png -> build/lib.linux-x86_64-3.8/matplotlib/mpl-data/images\r\n",
      "  \u001B[31m   \u001B[0m copying lib/matplotlib/mpl-data/stylelib/seaborn-muted.mplstyle -> build/lib.linux-x86_64-3.8/matplotlib/mpl-data/stylelib\r\n",
      "  \u001B[31m   \u001B[0m copying lib/matplotlib/mpl-data/fonts/ttf/STIXSizFourSymReg.ttf -> build/lib.linux-x86_64-3.8/matplotlib/mpl-data/fonts/ttf\r\n",
      "  \u001B[31m   \u001B[0m copying lib/matplotlib/mpl-data/stylelib/seaborn-dark-palette.mplstyle -> build/lib.linux-x86_64-3.8/matplotlib/mpl-data/stylelib\r\n",
      "  \u001B[31m   \u001B[0m copying lib/matplotlib/mpl-data/fonts/afm/pagko8a.afm -> build/lib.linux-x86_64-3.8/matplotlib/mpl-data/fonts/afm\r\n",
      "  \u001B[31m   \u001B[0m copying lib/matplotlib/mpl-data/fonts/ttf/cmb10.ttf -> build/lib.linux-x86_64-3.8/matplotlib/mpl-data/fonts/ttf\r\n",
      "  \u001B[31m   \u001B[0m copying lib/matplotlib/mpl-data/fonts/ttf/STIXSizTwoSymReg.ttf -> build/lib.linux-x86_64-3.8/matplotlib/mpl-data/fonts/ttf\r\n",
      "  \u001B[31m   \u001B[0m copying lib/matplotlib/mpl-data/sample_data/grace_hopper.png -> build/lib.linux-x86_64-3.8/matplotlib/mpl-data/sample_data\r\n",
      "  \u001B[31m   \u001B[0m copying lib/matplotlib/mpl-data/fonts/pdfcorefonts/Helvetica.afm -> build/lib.linux-x86_64-3.8/matplotlib/mpl-data/fonts/pdfcorefonts\r\n",
      "  \u001B[31m   \u001B[0m copying lib/matplotlib/mpl-data/fonts/ttf/DejaVuSansMono-Oblique.ttf -> build/lib.linux-x86_64-3.8/matplotlib/mpl-data/fonts/ttf\r\n",
      "  \u001B[31m   \u001B[0m copying lib/matplotlib/mpl-data/fonts/pdfcorefonts/Times-Italic.afm -> build/lib.linux-x86_64-3.8/matplotlib/mpl-data/fonts/pdfcorefonts\r\n",
      "  \u001B[31m   \u001B[0m copying lib/matplotlib/mpl-data/fonts/ttf/STIXSizThreeSymBol.ttf -> build/lib.linux-x86_64-3.8/matplotlib/mpl-data/fonts/ttf\r\n",
      "  \u001B[31m   \u001B[0m copying lib/matplotlib/mpl-data/images/home_large.gif -> build/lib.linux-x86_64-3.8/matplotlib/mpl-data/images\r\n",
      "  \u001B[31m   \u001B[0m copying lib/matplotlib/mpl-data/images/subplots.png -> build/lib.linux-x86_64-3.8/matplotlib/mpl-data/images\r\n",
      "  \u001B[31m   \u001B[0m copying lib/matplotlib/backends/web_backend/all_figures.html -> build/lib.linux-x86_64-3.8/matplotlib/backends/web_backend\r\n",
      "  \u001B[31m   \u001B[0m copying lib/matplotlib/mpl-data/fonts/afm/ptmb8a.afm -> build/lib.linux-x86_64-3.8/matplotlib/mpl-data/fonts/afm\r\n",
      "  \u001B[31m   \u001B[0m copying lib/matplotlib/mpl-data/fonts/afm/phvro8an.afm -> build/lib.linux-x86_64-3.8/matplotlib/mpl-data/fonts/afm\r\n",
      "  \u001B[31m   \u001B[0m copying lib/matplotlib/mpl-data/images/forward.png -> build/lib.linux-x86_64-3.8/matplotlib/mpl-data/images\r\n",
      "  \u001B[31m   \u001B[0m copying lib/matplotlib/mpl-data/fonts/afm/pplb8a.afm -> build/lib.linux-x86_64-3.8/matplotlib/mpl-data/fonts/afm\r\n",
      "  \u001B[31m   \u001B[0m copying lib/matplotlib/mpl-data/images/hand.pdf -> build/lib.linux-x86_64-3.8/matplotlib/mpl-data/images\r\n",
      "  \u001B[31m   \u001B[0m copying lib/matplotlib/mpl-data/stylelib/seaborn.mplstyle -> build/lib.linux-x86_64-3.8/matplotlib/mpl-data/stylelib\r\n",
      "  \u001B[31m   \u001B[0m copying lib/matplotlib/mpl-data/images/hand.gif -> build/lib.linux-x86_64-3.8/matplotlib/mpl-data/images\r\n",
      "  \u001B[31m   \u001B[0m copying lib/matplotlib/mpl-data/stylelib/seaborn-colorblind.mplstyle -> build/lib.linux-x86_64-3.8/matplotlib/mpl-data/stylelib\r\n",
      "  \u001B[31m   \u001B[0m creating build/lib.linux-x86_64-3.8/matplotlib/backends/web_backend/jquery-ui-1.12.1/images\r\n",
      "  \u001B[31m   \u001B[0m copying lib/matplotlib/backends/web_backend/jquery-ui-1.12.1/images/ui-icons_ffffff_256x240.png -> build/lib.linux-x86_64-3.8/matplotlib/backends/web_backend/jquery-ui-1.12.1/images\r\n",
      "  \u001B[31m   \u001B[0m copying lib/matplotlib/mpl-data/fonts/afm/phvl8a.afm -> build/lib.linux-x86_64-3.8/matplotlib/mpl-data/fonts/afm\r\n",
      "  \u001B[31m   \u001B[0m copying lib/matplotlib/mpl-data/fonts/ttf/DejaVuSans-Oblique.ttf -> build/lib.linux-x86_64-3.8/matplotlib/mpl-data/fonts/ttf\r\n",
      "  \u001B[31m   \u001B[0m copying lib/matplotlib/mpl-data/sample_data/aapl.npz -> build/lib.linux-x86_64-3.8/matplotlib/mpl-data/sample_data\r\n",
      "  \u001B[31m   \u001B[0m copying lib/matplotlib/mpl-data/stylelib/seaborn-white.mplstyle -> build/lib.linux-x86_64-3.8/matplotlib/mpl-data/stylelib\r\n",
      "  \u001B[31m   \u001B[0m copying lib/matplotlib/mpl-data/images/matplotlib.svg -> build/lib.linux-x86_64-3.8/matplotlib/mpl-data/images\r\n",
      "  \u001B[31m   \u001B[0m copying lib/matplotlib/mpl-data/fonts/ttf/DejaVuSerif.ttf -> build/lib.linux-x86_64-3.8/matplotlib/mpl-data/fonts/ttf\r\n",
      "  \u001B[31m   \u001B[0m copying lib/matplotlib/mpl-data/images/forward.pdf -> build/lib.linux-x86_64-3.8/matplotlib/mpl-data/images\r\n",
      "  \u001B[31m   \u001B[0m copying lib/matplotlib/mpl-data/fonts/afm/putbi8a.afm -> build/lib.linux-x86_64-3.8/matplotlib/mpl-data/fonts/afm\r\n",
      "  \u001B[31m   \u001B[0m copying lib/matplotlib/mpl-data/stylelib/seaborn-talk.mplstyle -> build/lib.linux-x86_64-3.8/matplotlib/mpl-data/stylelib\r\n",
      "  \u001B[31m   \u001B[0m copying lib/matplotlib/mpl-data/fonts/ttf/STIXGeneral.ttf -> build/lib.linux-x86_64-3.8/matplotlib/mpl-data/fonts/ttf\r\n",
      "  \u001B[31m   \u001B[0m copying lib/matplotlib/mpl-data/images/move.gif -> build/lib.linux-x86_64-3.8/matplotlib/mpl-data/images\r\n",
      "  \u001B[31m   \u001B[0m copying lib/matplotlib/backends/web_backend/jquery-ui-1.12.1/images/ui-icons_cc0000_256x240.png -> build/lib.linux-x86_64-3.8/matplotlib/backends/web_backend/jquery-ui-1.12.1/images\r\n",
      "  \u001B[31m   \u001B[0m copying lib/matplotlib/mpl-data/fonts/afm/cmtt10.afm -> build/lib.linux-x86_64-3.8/matplotlib/mpl-data/fonts/afm\r\n",
      "  \u001B[31m   \u001B[0m copying lib/matplotlib/mpl-data/fonts/afm/putb8a.afm -> build/lib.linux-x86_64-3.8/matplotlib/mpl-data/fonts/afm\r\n",
      "  \u001B[31m   \u001B[0m copying lib/matplotlib/mpl-data/images/home.gif -> build/lib.linux-x86_64-3.8/matplotlib/mpl-data/images\r\n",
      "  \u001B[31m   \u001B[0m copying lib/matplotlib/mpl-data/stylelib/bmh.mplstyle -> build/lib.linux-x86_64-3.8/matplotlib/mpl-data/stylelib\r\n",
      "  \u001B[31m   \u001B[0m copying lib/matplotlib/backends/web_backend/jquery-ui-1.12.1/AUTHORS.txt -> build/lib.linux-x86_64-3.8/matplotlib/backends/web_backend/jquery-ui-1.12.1\r\n",
      "  \u001B[31m   \u001B[0m copying lib/matplotlib/mpl-data/stylelib/seaborn-pastel.mplstyle -> build/lib.linux-x86_64-3.8/matplotlib/mpl-data/stylelib\r\n",
      "  \u001B[31m   \u001B[0m copying lib/matplotlib/mpl-data/stylelib/fast.mplstyle -> build/lib.linux-x86_64-3.8/matplotlib/mpl-data/stylelib\r\n",
      "  \u001B[31m   \u001B[0m creating build/lib.linux-x86_64-3.8/matplotlib/backends/web_backend/jquery\r\n",
      "  \u001B[31m   \u001B[0m creating build/lib.linux-x86_64-3.8/matplotlib/backends/web_backend/jquery/js\r\n",
      "  \u001B[31m   \u001B[0m copying lib/matplotlib/backends/web_backend/jquery/js/jquery.js -> build/lib.linux-x86_64-3.8/matplotlib/backends/web_backend/jquery/js\r\n",
      "  \u001B[31m   \u001B[0m copying lib/matplotlib/mpl-data/stylelib/Solarize_Light2.mplstyle -> build/lib.linux-x86_64-3.8/matplotlib/mpl-data/stylelib\r\n",
      "  \u001B[31m   \u001B[0m copying lib/matplotlib/mpl-data/fonts/ttf/DejaVuSansMono-BoldOblique.ttf -> build/lib.linux-x86_64-3.8/matplotlib/mpl-data/fonts/ttf\r\n",
      "  \u001B[31m   \u001B[0m copying lib/matplotlib/mpl-data/sample_data/ada.png -> build/lib.linux-x86_64-3.8/matplotlib/mpl-data/sample_data\r\n",
      "  \u001B[31m   \u001B[0m copying lib/matplotlib/mpl-data/fonts/pdfcorefonts/Symbol.afm -> build/lib.linux-x86_64-3.8/matplotlib/mpl-data/fonts/pdfcorefonts\r\n",
      "  \u001B[31m   \u001B[0m copying lib/matplotlib/mpl-data/images/hand.png -> build/lib.linux-x86_64-3.8/matplotlib/mpl-data/images\r\n",
      "  \u001B[31m   \u001B[0m copying lib/matplotlib/mpl-data/sample_data/grace_hopper.jpg -> build/lib.linux-x86_64-3.8/matplotlib/mpl-data/sample_data\r\n",
      "  \u001B[31m   \u001B[0m copying lib/matplotlib/mpl-data/fonts/afm/pagd8a.afm -> build/lib.linux-x86_64-3.8/matplotlib/mpl-data/fonts/afm\r\n",
      "  \u001B[31m   \u001B[0m copying lib/matplotlib/mpl-data/images/filesave_large.gif -> build/lib.linux-x86_64-3.8/matplotlib/mpl-data/images\r\n",
      "  \u001B[31m   \u001B[0m copying lib/matplotlib/mpl-data/fonts/afm/pzdr.afm -> build/lib.linux-x86_64-3.8/matplotlib/mpl-data/fonts/afm\r\n",
      "  \u001B[31m   \u001B[0m copying lib/matplotlib/mpl-data/fonts/afm/pplri8a.afm -> build/lib.linux-x86_64-3.8/matplotlib/mpl-data/fonts/afm\r\n",
      "  \u001B[31m   \u001B[0m copying lib/matplotlib/mpl-data/fonts/ttf/DejaVuSerif-Italic.ttf -> build/lib.linux-x86_64-3.8/matplotlib/mpl-data/fonts/ttf\r\n",
      "  \u001B[31m   \u001B[0m copying lib/matplotlib/mpl-data/images/back.png -> build/lib.linux-x86_64-3.8/matplotlib/mpl-data/images\r\n",
      "  \u001B[31m   \u001B[0m copying lib/matplotlib/mpl-data/sample_data/data_x_x2_x3.csv -> build/lib.linux-x86_64-3.8/matplotlib/mpl-data/sample_data\r\n",
      "  \u001B[31m   \u001B[0m copying lib/matplotlib/mpl-data/fonts/ttf/LICENSE_DEJAVU -> build/lib.linux-x86_64-3.8/matplotlib/mpl-data/fonts/ttf\r\n",
      "  \u001B[31m   \u001B[0m copying lib/matplotlib/mpl-data/images/help.ppm -> build/lib.linux-x86_64-3.8/matplotlib/mpl-data/images\r\n",
      "  \u001B[31m   \u001B[0m copying lib/matplotlib/mpl-data/images/forward.svg -> build/lib.linux-x86_64-3.8/matplotlib/mpl-data/images\r\n",
      "  \u001B[31m   \u001B[0m copying lib/matplotlib/mpl-data/sample_data/percent_bachelors_degrees_women_usa.csv -> build/lib.linux-x86_64-3.8/matplotlib/mpl-data/sample_data\r\n",
      "  \u001B[31m   \u001B[0m copying lib/matplotlib/mpl-data/fonts/afm/ptmbi8a.afm -> build/lib.linux-x86_64-3.8/matplotlib/mpl-data/fonts/afm\r\n",
      "  \u001B[31m   \u001B[0m copying lib/matplotlib/mpl-data/fonts/afm/psyr.afm -> build/lib.linux-x86_64-3.8/matplotlib/mpl-data/fonts/afm\r\n",
      "  \u001B[31m   \u001B[0m copying lib/matplotlib/mpl-data/images/zoom_to_rect.gif -> build/lib.linux-x86_64-3.8/matplotlib/mpl-data/images\r\n",
      "  \u001B[31m   \u001B[0m copying lib/matplotlib/backends/web_backend/jquery/js/jquery.min.js -> build/lib.linux-x86_64-3.8/matplotlib/backends/web_backend/jquery/js\r\n",
      "  \u001B[31m   \u001B[0m copying lib/matplotlib/mpl-data/fonts/ttf/STIXSizTwoSymBol.ttf -> build/lib.linux-x86_64-3.8/matplotlib/mpl-data/fonts/ttf\r\n",
      "  \u001B[31m   \u001B[0m copying lib/matplotlib/mpl-data/fonts/afm/pplr8a.afm -> build/lib.linux-x86_64-3.8/matplotlib/mpl-data/fonts/afm\r\n",
      "  \u001B[31m   \u001B[0m copying lib/matplotlib/mpl-data/fonts/ttf/cmtt10.ttf -> build/lib.linux-x86_64-3.8/matplotlib/mpl-data/fonts/ttf\r\n",
      "  \u001B[31m   \u001B[0m copying lib/matplotlib/mpl-data/fonts/pdfcorefonts/Helvetica-Bold.afm -> build/lib.linux-x86_64-3.8/matplotlib/mpl-data/fonts/pdfcorefonts\r\n",
      "  \u001B[31m   \u001B[0m copying lib/matplotlib/mpl-data/stylelib/dark_background.mplstyle -> build/lib.linux-x86_64-3.8/matplotlib/mpl-data/stylelib\r\n",
      "  \u001B[31m   \u001B[0m copying lib/matplotlib/mpl-data/fonts/afm/cmsy10.afm -> build/lib.linux-x86_64-3.8/matplotlib/mpl-data/fonts/afm\r\n",
      "  \u001B[31m   \u001B[0m copying lib/matplotlib/mpl-data/sample_data/topobathy.npz -> build/lib.linux-x86_64-3.8/matplotlib/mpl-data/sample_data\r\n",
      "  \u001B[31m   \u001B[0m copying lib/matplotlib/mpl-data/fonts/afm/phvlo8a.afm -> build/lib.linux-x86_64-3.8/matplotlib/mpl-data/fonts/afm\r\n",
      "  \u001B[31m   \u001B[0m copying lib/matplotlib/mpl-data/fonts/afm/pncr8a.afm -> build/lib.linux-x86_64-3.8/matplotlib/mpl-data/fonts/afm\r\n",
      "  \u001B[31m   \u001B[0m copying lib/matplotlib/mpl-data/stylelib/tableau-colorblind10.mplstyle -> build/lib.linux-x86_64-3.8/matplotlib/mpl-data/stylelib\r\n",
      "  \u001B[31m   \u001B[0m copying lib/matplotlib/mpl-data/fonts/afm/pbkdi8a.afm -> build/lib.linux-x86_64-3.8/matplotlib/mpl-data/fonts/afm\r\n",
      "  \u001B[31m   \u001B[0m copying lib/matplotlib/backends/web_backend/jquery-ui-1.12.1/jquery-ui.js -> build/lib.linux-x86_64-3.8/matplotlib/backends/web_backend/jquery-ui-1.12.1\r\n",
      "  \u001B[31m   \u001B[0m copying lib/matplotlib/mpl-data/images/forward_large.png -> build/lib.linux-x86_64-3.8/matplotlib/mpl-data/images\r\n",
      "  \u001B[31m   \u001B[0m copying lib/matplotlib/mpl-data/fonts/afm/putr8a.afm -> build/lib.linux-x86_64-3.8/matplotlib/mpl-data/fonts/afm\r\n",
      "  \u001B[31m   \u001B[0m copying lib/matplotlib/backends/web_backend/nbagg_uat.ipynb -> build/lib.linux-x86_64-3.8/matplotlib/backends/web_backend\r\n",
      "  \u001B[31m   \u001B[0m copying lib/matplotlib/mpl-data/images/help_large.png -> build/lib.linux-x86_64-3.8/matplotlib/mpl-data/images\r\n",
      "  \u001B[31m   \u001B[0m copying lib/matplotlib/mpl-data/sample_data/jacksboro_fault_dem.npz -> build/lib.linux-x86_64-3.8/matplotlib/mpl-data/sample_data\r\n",
      "  \u001B[31m   \u001B[0m copying lib/matplotlib/mpl-data/fonts/ttf/DejaVuSans-Bold.ttf -> build/lib.linux-x86_64-3.8/matplotlib/mpl-data/fonts/ttf\r\n",
      "  \u001B[31m   \u001B[0m copying lib/matplotlib/mpl-data/stylelib/grayscale.mplstyle -> build/lib.linux-x86_64-3.8/matplotlib/mpl-data/stylelib\r\n",
      "  \u001B[31m   \u001B[0m copying lib/matplotlib/mpl-data/matplotlibrc -> build/lib.linux-x86_64-3.8/matplotlib/mpl-data\r\n",
      "  \u001B[31m   \u001B[0m copying lib/matplotlib/backends/web_backend/jquery-ui-1.12.1/jquery-ui.structure.min.css -> build/lib.linux-x86_64-3.8/matplotlib/backends/web_backend/jquery-ui-1.12.1\r\n",
      "  \u001B[31m   \u001B[0m creating build/lib.linux-x86_64-3.8/matplotlib/backends/web_backend/jquery-ui-1.12.1/external\r\n",
      "  \u001B[31m   \u001B[0m creating build/lib.linux-x86_64-3.8/matplotlib/backends/web_backend/jquery-ui-1.12.1/external/jquery\r\n",
      "  \u001B[31m   \u001B[0m copying lib/matplotlib/backends/web_backend/jquery-ui-1.12.1/external/jquery/jquery.js -> build/lib.linux-x86_64-3.8/matplotlib/backends/web_backend/jquery-ui-1.12.1/external/jquery\r\n",
      "  \u001B[31m   \u001B[0m copying lib/matplotlib/mpl-data/images/qt4_editor_options.png -> build/lib.linux-x86_64-3.8/matplotlib/mpl-data/images\r\n",
      "  \u001B[31m   \u001B[0m copying lib/matplotlib/mpl-data/fonts/afm/ptmri8a.afm -> build/lib.linux-x86_64-3.8/matplotlib/mpl-data/fonts/afm\r\n",
      "  \u001B[31m   \u001B[0m copying lib/matplotlib/mpl-data/fonts/ttf/DejaVuSansDisplay.ttf -> build/lib.linux-x86_64-3.8/matplotlib/mpl-data/fonts/ttf\r\n",
      "  \u001B[31m   \u001B[0m copying lib/matplotlib/mpl-data/images/filesave.pdf -> build/lib.linux-x86_64-3.8/matplotlib/mpl-data/images\r\n",
      "  \u001B[31m   \u001B[0m copying lib/matplotlib/mpl-data/fonts/afm/pzcmi8a.afm -> build/lib.linux-x86_64-3.8/matplotlib/mpl-data/fonts/afm\r\n",
      "  \u001B[31m   \u001B[0m copying lib/matplotlib/mpl-data/fonts/ttf/DejaVuSerif-Bold.ttf -> build/lib.linux-x86_64-3.8/matplotlib/mpl-data/fonts/ttf\r\n",
      "  \u001B[31m   \u001B[0m copying lib/matplotlib/mpl-data/stylelib/seaborn-deep.mplstyle -> build/lib.linux-x86_64-3.8/matplotlib/mpl-data/stylelib\r\n",
      "  \u001B[31m   \u001B[0m copying lib/matplotlib/mpl-data/fonts/pdfcorefonts/Courier.afm -> build/lib.linux-x86_64-3.8/matplotlib/mpl-data/fonts/pdfcorefonts\r\n",
      "  \u001B[31m   \u001B[0m copying lib/matplotlib/mpl-data/fonts/pdfcorefonts/ZapfDingbats.afm -> build/lib.linux-x86_64-3.8/matplotlib/mpl-data/fonts/pdfcorefonts\r\n",
      "  \u001B[31m   \u001B[0m copying lib/matplotlib/mpl-data/fonts/afm/phvr8an.afm -> build/lib.linux-x86_64-3.8/matplotlib/mpl-data/fonts/afm\r\n",
      "  \u001B[31m   \u001B[0m copying lib/matplotlib/mpl-data/fonts/ttf/STIXNonUniBolIta.ttf -> build/lib.linux-x86_64-3.8/matplotlib/mpl-data/fonts/ttf\r\n",
      "  \u001B[31m   \u001B[0m copying lib/matplotlib/mpl-data/fonts/afm/pncbi8a.afm -> build/lib.linux-x86_64-3.8/matplotlib/mpl-data/fonts/afm\r\n",
      "  \u001B[31m   \u001B[0m copying lib/matplotlib/mpl-data/fonts/ttf/STIXNonUniIta.ttf -> build/lib.linux-x86_64-3.8/matplotlib/mpl-data/fonts/ttf\r\n",
      "  \u001B[31m   \u001B[0m copying lib/matplotlib/backends/web_backend/jquery-ui-1.12.1/package.json -> build/lib.linux-x86_64-3.8/matplotlib/backends/web_backend/jquery-ui-1.12.1\r\n",
      "  \u001B[31m   \u001B[0m copying lib/matplotlib/backends/web_backend/jquery-ui-1.12.1/images/ui-icons_444444_256x240.png -> build/lib.linux-x86_64-3.8/matplotlib/backends/web_backend/jquery-ui-1.12.1/images\r\n",
      "  \u001B[31m   \u001B[0m copying lib/matplotlib/mpl-data/sample_data/msft.csv -> build/lib.linux-x86_64-3.8/matplotlib/mpl-data/sample_data\r\n",
      "  \u001B[31m   \u001B[0m copying lib/matplotlib/mpl-data/images/matplotlib.pdf -> build/lib.linux-x86_64-3.8/matplotlib/mpl-data/images\r\n",
      "  \u001B[31m   \u001B[0m copying lib/matplotlib/mpl-data/images/hand.svg -> build/lib.linux-x86_64-3.8/matplotlib/mpl-data/images\r\n",
      "  \u001B[31m   \u001B[0m copying lib/matplotlib/backends/web_backend/jquery-ui-1.12.1/jquery-ui.structure.css -> build/lib.linux-x86_64-3.8/matplotlib/backends/web_backend/jquery-ui-1.12.1\r\n",
      "  \u001B[31m   \u001B[0m copying lib/matplotlib/mpl-data/stylelib/seaborn-poster.mplstyle -> build/lib.linux-x86_64-3.8/matplotlib/mpl-data/stylelib\r\n",
      "  \u001B[31m   \u001B[0m copying lib/matplotlib/mpl-data/fonts/pdfcorefonts/Courier-Bold.afm -> build/lib.linux-x86_64-3.8/matplotlib/mpl-data/fonts/pdfcorefonts\r\n",
      "  \u001B[31m   \u001B[0m copying lib/matplotlib/mpl-data/fonts/afm/pcrro8a.afm -> build/lib.linux-x86_64-3.8/matplotlib/mpl-data/fonts/afm\r\n",
      "  \u001B[31m   \u001B[0m copying lib/matplotlib/mpl-data/fonts/ttf/DejaVuSans-BoldOblique.ttf -> build/lib.linux-x86_64-3.8/matplotlib/mpl-data/fonts/ttf\r\n",
      "  \u001B[31m   \u001B[0m copying lib/matplotlib/mpl-data/fonts/afm/cmex10.afm -> build/lib.linux-x86_64-3.8/matplotlib/mpl-data/fonts/afm\r\n",
      "  \u001B[31m   \u001B[0m copying lib/matplotlib/backends/web_backend/jquery-ui-1.12.1/images/ui-icons_777777_256x240.png -> build/lib.linux-x86_64-3.8/matplotlib/backends/web_backend/jquery-ui-1.12.1/images\r\n",
      "  \u001B[31m   \u001B[0m copying lib/matplotlib/mpl-data/fonts/afm/phvro8a.afm -> build/lib.linux-x86_64-3.8/matplotlib/mpl-data/fonts/afm\r\n",
      "  \u001B[31m   \u001B[0m copying lib/matplotlib/mpl-data/fonts/afm/phvbo8an.afm -> build/lib.linux-x86_64-3.8/matplotlib/mpl-data/fonts/afm\r\n",
      "  \u001B[31m   \u001B[0m copying lib/matplotlib/mpl-data/fonts/ttf/cmsy10.ttf -> build/lib.linux-x86_64-3.8/matplotlib/mpl-data/fonts/ttf\r\n",
      "  \u001B[31m   \u001B[0m copying lib/matplotlib/mpl-data/fonts/ttf/STIXNonUniBol.ttf -> build/lib.linux-x86_64-3.8/matplotlib/mpl-data/fonts/ttf\r\n",
      "  \u001B[31m   \u001B[0m copying lib/matplotlib/mpl-data/fonts/ttf/STIXSizOneSymBol.ttf -> build/lib.linux-x86_64-3.8/matplotlib/mpl-data/fonts/ttf\r\n",
      "  \u001B[31m   \u001B[0m copying lib/matplotlib/mpl-data/images/help.pdf -> build/lib.linux-x86_64-3.8/matplotlib/mpl-data/images\r\n",
      "  \u001B[31m   \u001B[0m copying lib/matplotlib/mpl-data/images/move_large.gif -> build/lib.linux-x86_64-3.8/matplotlib/mpl-data/images\r\n",
      "  \u001B[31m   \u001B[0m copying lib/matplotlib/backends/web_backend/jquery-ui-1.12.1/LICENSE.txt -> build/lib.linux-x86_64-3.8/matplotlib/backends/web_backend/jquery-ui-1.12.1\r\n",
      "  \u001B[31m   \u001B[0m copying lib/matplotlib/mpl-data/fonts/ttf/DejaVuSansMono-Bold.ttf -> build/lib.linux-x86_64-3.8/matplotlib/mpl-data/fonts/ttf\r\n",
      "  \u001B[31m   \u001B[0m copying lib/matplotlib/mpl-data/fonts/afm/ptmr8a.afm -> build/lib.linux-x86_64-3.8/matplotlib/mpl-data/fonts/afm\r\n",
      "  \u001B[31m   \u001B[0m copying lib/matplotlib/mpl-data/sample_data/eeg.dat -> build/lib.linux-x86_64-3.8/matplotlib/mpl-data/sample_data\r\n",
      "  \u001B[31m   \u001B[0m copying lib/matplotlib/mpl-data/images/filesave.gif -> build/lib.linux-x86_64-3.8/matplotlib/mpl-data/images\r\n",
      "  \u001B[31m   \u001B[0m copying lib/matplotlib/mpl-data/images/home_large.png -> build/lib.linux-x86_64-3.8/matplotlib/mpl-data/images\r\n",
      "  \u001B[31m   \u001B[0m copying lib/matplotlib/mpl-data/images/move.png -> build/lib.linux-x86_64-3.8/matplotlib/mpl-data/images\r\n",
      "  \u001B[31m   \u001B[0m copying lib/matplotlib/mpl-data/images/home.pdf -> build/lib.linux-x86_64-3.8/matplotlib/mpl-data/images\r\n",
      "  \u001B[31m   \u001B[0m copying lib/matplotlib/mpl-data/images/subplots.svg -> build/lib.linux-x86_64-3.8/matplotlib/mpl-data/images\r\n",
      "  \u001B[31m   \u001B[0m copying lib/matplotlib/mpl-data/fonts/afm/pcrbo8a.afm -> build/lib.linux-x86_64-3.8/matplotlib/mpl-data/fonts/afm\r\n",
      "  \u001B[31m   \u001B[0m copying lib/matplotlib/mpl-data/fonts/afm/putri8a.afm -> build/lib.linux-x86_64-3.8/matplotlib/mpl-data/fonts/afm\r\n",
      "  \u001B[31m   \u001B[0m copying lib/matplotlib/mpl-data/images/help_large.ppm -> build/lib.linux-x86_64-3.8/matplotlib/mpl-data/images\r\n",
      "  \u001B[31m   \u001B[0m copying lib/matplotlib/mpl-data/images/qt4_editor_options_large.png -> build/lib.linux-x86_64-3.8/matplotlib/mpl-data/images\r\n",
      "  \u001B[31m   \u001B[0m copying lib/matplotlib/mpl-data/images/qt4_editor_options.pdf -> build/lib.linux-x86_64-3.8/matplotlib/mpl-data/images\r\n",
      "  \u001B[31m   \u001B[0m copying lib/matplotlib/backends/web_backend/jquery-ui-1.12.1/jquery-ui.min.css -> build/lib.linux-x86_64-3.8/matplotlib/backends/web_backend/jquery-ui-1.12.1\r\n",
      "  \u001B[31m   \u001B[0m copying lib/matplotlib/mpl-data/fonts/ttf/cmmi10.ttf -> build/lib.linux-x86_64-3.8/matplotlib/mpl-data/fonts/ttf\r\n",
      "  \u001B[31m   \u001B[0m copying lib/matplotlib/mpl-data/fonts/ttf/cmss10.ttf -> build/lib.linux-x86_64-3.8/matplotlib/mpl-data/fonts/ttf\r\n",
      "  \u001B[31m   \u001B[0m copying lib/matplotlib/mpl-data/fonts/afm/cmr10.afm -> build/lib.linux-x86_64-3.8/matplotlib/mpl-data/fonts/afm\r\n",
      "  \u001B[31m   \u001B[0m copying lib/matplotlib/mpl-data/fonts/ttf/DejaVuSerifDisplay.ttf -> build/lib.linux-x86_64-3.8/matplotlib/mpl-data/fonts/ttf\r\n",
      "  \u001B[31m   \u001B[0m creating build/lib.linux-x86_64-3.8/matplotlib/backends/web_backend/js\r\n",
      "  \u001B[31m   \u001B[0m copying lib/matplotlib/backends/web_backend/js/mpl.js -> build/lib.linux-x86_64-3.8/matplotlib/backends/web_backend/js\r\n",
      "  \u001B[31m   \u001B[0m copying lib/matplotlib/backends/web_backend/jquery-ui-1.12.1/jquery-ui.css -> build/lib.linux-x86_64-3.8/matplotlib/backends/web_backend/jquery-ui-1.12.1\r\n",
      "  \u001B[31m   \u001B[0m copying lib/matplotlib/mpl-data/images/zoom_to_rect.svg -> build/lib.linux-x86_64-3.8/matplotlib/mpl-data/images\r\n",
      "  \u001B[31m   \u001B[0m copying lib/matplotlib/mpl-data/fonts/pdfcorefonts/readme.txt -> build/lib.linux-x86_64-3.8/matplotlib/mpl-data/fonts/pdfcorefonts\r\n",
      "  \u001B[31m   \u001B[0m copying lib/matplotlib/backends/web_backend/single_figure.html -> build/lib.linux-x86_64-3.8/matplotlib/backends/web_backend\r\n",
      "  \u001B[31m   \u001B[0m copying lib/matplotlib/mpl-data/fonts/afm/phvb8an.afm -> build/lib.linux-x86_64-3.8/matplotlib/mpl-data/fonts/afm\r\n",
      "  \u001B[31m   \u001B[0m copying lib/matplotlib/mpl-data/fonts/afm/pagk8a.afm -> build/lib.linux-x86_64-3.8/matplotlib/mpl-data/fonts/afm\r\n",
      "  \u001B[31m   \u001B[0m copying lib/matplotlib/backends/web_backend/js/mpl_tornado.js -> build/lib.linux-x86_64-3.8/matplotlib/backends/web_backend/js\r\n",
      "  \u001B[31m   \u001B[0m copying lib/matplotlib/mpl-data/fonts/pdfcorefonts/Courier-Oblique.afm -> build/lib.linux-x86_64-3.8/matplotlib/mpl-data/fonts/pdfcorefonts\r\n",
      "  \u001B[31m   \u001B[0m copying lib/matplotlib/mpl-data/stylelib/seaborn-bright.mplstyle -> build/lib.linux-x86_64-3.8/matplotlib/mpl-data/stylelib\r\n",
      "  \u001B[31m   \u001B[0m copying lib/matplotlib/mpl-data/stylelib/seaborn-darkgrid.mplstyle -> build/lib.linux-x86_64-3.8/matplotlib/mpl-data/stylelib\r\n",
      "  \u001B[31m   \u001B[0m copying lib/matplotlib/mpl-data/stylelib/seaborn-dark.mplstyle -> build/lib.linux-x86_64-3.8/matplotlib/mpl-data/stylelib\r\n",
      "  \u001B[31m   \u001B[0m copying lib/matplotlib/mpl-data/images/zoom_to_rect_large.png -> build/lib.linux-x86_64-3.8/matplotlib/mpl-data/images\r\n",
      "  \u001B[31m   \u001B[0m copying lib/matplotlib/mpl-data/stylelib/seaborn-ticks.mplstyle -> build/lib.linux-x86_64-3.8/matplotlib/mpl-data/stylelib\r\n",
      "  \u001B[31m   \u001B[0m copying lib/matplotlib/mpl-data/fonts/pdfcorefonts/Helvetica-Oblique.afm -> build/lib.linux-x86_64-3.8/matplotlib/mpl-data/fonts/pdfcorefonts\r\n",
      "  \u001B[31m   \u001B[0m copying lib/matplotlib/mpl-data/images/back.pdf -> build/lib.linux-x86_64-3.8/matplotlib/mpl-data/images\r\n",
      "  \u001B[31m   \u001B[0m copying lib/matplotlib/mpl-data/stylelib/seaborn-paper.mplstyle -> build/lib.linux-x86_64-3.8/matplotlib/mpl-data/stylelib\r\n",
      "  \u001B[31m   \u001B[0m copying lib/matplotlib/mpl-data/sample_data/logo2.png -> build/lib.linux-x86_64-3.8/matplotlib/mpl-data/sample_data\r\n",
      "  \u001B[31m   \u001B[0m copying lib/matplotlib/mpl-data/fonts/ttf/STIXSizFourSymBol.ttf -> build/lib.linux-x86_64-3.8/matplotlib/mpl-data/fonts/ttf\r\n",
      "  \u001B[31m   \u001B[0m copying lib/matplotlib/mpl-data/fonts/afm/cmmi10.afm -> build/lib.linux-x86_64-3.8/matplotlib/mpl-data/fonts/afm\r\n",
      "  \u001B[31m   \u001B[0m copying lib/matplotlib/mpl-data/images/home.svg -> build/lib.linux-x86_64-3.8/matplotlib/mpl-data/images\r\n",
      "  \u001B[31m   \u001B[0m copying lib/matplotlib/backends/web_backend/jquery-ui-1.12.1/images/ui-icons_555555_256x240.png -> build/lib.linux-x86_64-3.8/matplotlib/backends/web_backend/jquery-ui-1.12.1/images\r\n",
      "  \u001B[31m   \u001B[0m copying lib/matplotlib/mpl-data/sample_data/demodata.csv -> build/lib.linux-x86_64-3.8/matplotlib/mpl-data/sample_data\r\n",
      "  \u001B[31m   \u001B[0m copying lib/matplotlib/mpl-data/fonts/afm/pncb8a.afm -> build/lib.linux-x86_64-3.8/matplotlib/mpl-data/fonts/afm\r\n",
      "  \u001B[31m   \u001B[0m copying lib/matplotlib/mpl-data/images/back_large.gif -> build/lib.linux-x86_64-3.8/matplotlib/mpl-data/images\r\n",
      "  \u001B[31m   \u001B[0m copying lib/matplotlib/mpl-data/fonts/ttf/DejaVuSansMono.ttf -> build/lib.linux-x86_64-3.8/matplotlib/mpl-data/fonts/ttf\r\n",
      "  \u001B[31m   \u001B[0m copying lib/matplotlib/mpl-data/images/filesave.png -> build/lib.linux-x86_64-3.8/matplotlib/mpl-data/images\r\n",
      "  \u001B[31m   \u001B[0m copying lib/matplotlib/backends/web_backend/jquery-ui-1.12.1/index.html -> build/lib.linux-x86_64-3.8/matplotlib/backends/web_backend/jquery-ui-1.12.1\r\n",
      "  \u001B[31m   \u001B[0m copying lib/matplotlib/mpl-data/images/filesave_large.png -> build/lib.linux-x86_64-3.8/matplotlib/mpl-data/images\r\n",
      "  \u001B[31m   \u001B[0m copying lib/matplotlib/mpl-data/sample_data/goog.npz -> build/lib.linux-x86_64-3.8/matplotlib/mpl-data/sample_data\r\n",
      "  \u001B[31m   \u001B[0m copying lib/matplotlib/mpl-data/sample_data/Minduka_Present_Blue_Pack.png -> build/lib.linux-x86_64-3.8/matplotlib/mpl-data/sample_data\r\n",
      "  \u001B[31m   \u001B[0m copying lib/matplotlib/backends/web_backend/jquery-ui-1.12.1/jquery-ui.min.js -> build/lib.linux-x86_64-3.8/matplotlib/backends/web_backend/jquery-ui-1.12.1\r\n",
      "  \u001B[31m   \u001B[0m copying lib/matplotlib/mpl-data/sample_data/None_vs_nearest-pdf.png -> build/lib.linux-x86_64-3.8/matplotlib/mpl-data/sample_data\r\n",
      "  \u001B[31m   \u001B[0m copying lib/matplotlib/backends/web_backend/css/boilerplate.css -> build/lib.linux-x86_64-3.8/matplotlib/backends/web_backend/css\r\n",
      "  \u001B[31m   \u001B[0m copying lib/matplotlib/mpl-data/fonts/afm/pcrb8a.afm -> build/lib.linux-x86_64-3.8/matplotlib/mpl-data/fonts/afm\r\n",
      "  \u001B[31m   \u001B[0m copying lib/matplotlib/backends/web_backend/js/nbagg_mpl.js -> build/lib.linux-x86_64-3.8/matplotlib/backends/web_backend/js\r\n",
      "  \u001B[31m   \u001B[0m copying lib/matplotlib/mpl-data/fonts/ttf/STIXGeneralItalic.ttf -> build/lib.linux-x86_64-3.8/matplotlib/mpl-data/fonts/ttf\r\n",
      "  \u001B[31m   \u001B[0m copying lib/matplotlib/mpl-data/stylelib/seaborn-notebook.mplstyle -> build/lib.linux-x86_64-3.8/matplotlib/mpl-data/stylelib\r\n",
      "  \u001B[31m   \u001B[0m copying lib/matplotlib/mpl-data/images/qt4_editor_options.svg -> build/lib.linux-x86_64-3.8/matplotlib/mpl-data/images\r\n",
      "  \u001B[31m   \u001B[0m copying lib/matplotlib/mpl-data/images/matplotlib.png -> build/lib.linux-x86_64-3.8/matplotlib/mpl-data/images\r\n",
      "  \u001B[31m   \u001B[0m copying lib/matplotlib/mpl-data/images/subplots.pdf -> build/lib.linux-x86_64-3.8/matplotlib/mpl-data/images\r\n",
      "  \u001B[31m   \u001B[0m copying lib/matplotlib/backends/web_backend/jquery-ui-1.12.1/images/ui-icons_777620_256x240.png -> build/lib.linux-x86_64-3.8/matplotlib/backends/web_backend/jquery-ui-1.12.1/images\r\n",
      "  \u001B[31m   \u001B[0m copying lib/matplotlib/mpl-data/images/home.png -> build/lib.linux-x86_64-3.8/matplotlib/mpl-data/images\r\n",
      "  \u001B[31m   \u001B[0m UPDATING build/lib.linux-x86_64-3.8/matplotlib/_version.py\r\n",
      "  \u001B[31m   \u001B[0m set build/lib.linux-x86_64-3.8/matplotlib/_version.py to '3.1.1'\r\n",
      "  \u001B[31m   \u001B[0m running build_ext\r\n",
      "  \u001B[31m   \u001B[0m creating build/temp.linux-x86_64-3.8\r\n",
      "  \u001B[31m   \u001B[0m creating build/temp.linux-x86_64-3.8/src\r\n",
      "  \u001B[31m   \u001B[0m x86_64-linux-gnu-gcc -pthread -Wno-unused-result -Wsign-compare -DNDEBUG -g -fwrapv -O2 -Wall -g -fstack-protector-strong -Wformat -Werror=format-security -g -fwrapv -O2 -fPIC -DFREETYPE_BUILD_TYPE=system -DPY_ARRAY_UNIQUE_SYMBOL=MPL_matplotlib_ft2font_ARRAY_API -DNPY_NO_DEPRECATED_API=NPY_1_7_API_VERSION -D__STDC_FORMAT_MACROS=1 -Iextern/agg24-svn/include -I/home/guava/venvs/mec-mini-projects/lib/python3.8/site-packages/numpy/core/include -I/home/guava/venvs/mec-mini-projects/include -I/usr/include/python3.8 -c src/checkdep_freetype2.c -o build/temp.linux-x86_64-3.8/src/checkdep_freetype2.o\r\n",
      "  \u001B[31m   \u001B[0m src/checkdep_freetype2.c:1:10: fatal error: ft2build.h: No such file or directory\r\n",
      "  \u001B[31m   \u001B[0m     1 | #include <ft2build.h>\r\n",
      "  \u001B[31m   \u001B[0m       |          ^~~~~~~~~~~~\r\n",
      "  \u001B[31m   \u001B[0m compilation terminated.\r\n",
      "  \u001B[31m   \u001B[0m error: command '/usr/bin/x86_64-linux-gnu-gcc' failed with exit code 1\r\n",
      "  \u001B[31m   \u001B[0m \u001B[31m[end of output]\u001B[0m\r\n",
      "  \r\n",
      "  \u001B[1;35mnote\u001B[0m: This error originates from a subprocess, and is likely not a problem with pip.\r\n",
      "\u001B[?25h  Rolling back uninstall of matplotlib\r\n",
      "  Moving to /home/guava/venvs/mec-mini-projects/lib/python3.8/site-packages/__pycache__/pylab.cpython-38.pyc\r\n",
      "   from /tmp/pip-uninstall-zjbfugrc/pylab.cpython-38.pyc\r\n",
      "  Moving to /home/guava/venvs/mec-mini-projects/lib/python3.8/site-packages/matplotlib-3.2.0rc1-py3.8-nspkg.pth\r\n",
      "   from /tmp/pip-uninstall-7zl52rjc/matplotlib-3.2.0rc1-py3.8-nspkg.pth\r\n",
      "  Moving to /home/guava/venvs/mec-mini-projects/lib/python3.8/site-packages/matplotlib-3.2.0rc1.dist-info/\r\n",
      "   from /home/guava/venvs/mec-mini-projects/lib/python3.8/site-packages/~atplotlib-3.2.0rc1.dist-info\r\n",
      "  Moving to /home/guava/venvs/mec-mini-projects/lib/python3.8/site-packages/matplotlib/\r\n",
      "   from /home/guava/venvs/mec-mini-projects/lib/python3.8/site-packages/~atplotlib\r\n",
      "  Moving to /home/guava/venvs/mec-mini-projects/lib/python3.8/site-packages/mpl_toolkits/axes_grid/\r\n",
      "   from /home/guava/venvs/mec-mini-projects/lib/python3.8/site-packages/mpl_toolkits/~xes_grid\r\n",
      "  Moving to /home/guava/venvs/mec-mini-projects/lib/python3.8/site-packages/mpl_toolkits/axes_grid1/\r\n",
      "   from /home/guava/venvs/mec-mini-projects/lib/python3.8/site-packages/mpl_toolkits/~xes_grid1\r\n",
      "  Moving to /home/guava/venvs/mec-mini-projects/lib/python3.8/site-packages/mpl_toolkits/axisartist/\r\n",
      "   from /home/guava/venvs/mec-mini-projects/lib/python3.8/site-packages/mpl_toolkits/~xisartist\r\n",
      "  Moving to /home/guava/venvs/mec-mini-projects/lib/python3.8/site-packages/mpl_toolkits/mplot3d/\r\n",
      "   from /home/guava/venvs/mec-mini-projects/lib/python3.8/site-packages/mpl_toolkits/~plot3d\r\n",
      "  Moving to /home/guava/venvs/mec-mini-projects/lib/python3.8/site-packages/mpl_toolkits/tests/\r\n",
      "   from /home/guava/venvs/mec-mini-projects/lib/python3.8/site-packages/mpl_toolkits/~ests\r\n",
      "  Moving to /home/guava/venvs/mec-mini-projects/lib/python3.8/site-packages/pylab.py\r\n",
      "   from /tmp/pip-uninstall-7zl52rjc/pylab.py\r\n",
      "\u001B[1;31merror\u001B[0m: \u001B[1mlegacy-install-failure\u001B[0m\r\n",
      "\r\n",
      "\u001B[31m×\u001B[0m Encountered error while trying to install package.\r\n",
      "\u001B[31m╰─>\u001B[0m matplotlib\r\n",
      "\r\n",
      "\u001B[1;35mnote\u001B[0m: This is an issue with the package mentioned above, not pip.\r\n",
      "\u001B[1;36mhint\u001B[0m: See above for output from the failure.\r\n"
     ]
    }
   ],
   "source": [
    "! pip install pdpbox"
   ]
  },
  {
   "cell_type": "markdown",
   "metadata": {},
   "source": [
    "While we encourage you to read the documentation for the package (and reading package documentation in general is a good habit to develop), the authors of the package have also written an excellent blog post on how to use it, showing examples on different algorithms from scikit-learn (the Random Forests example is towards the end of the blog post):\n",
    "\n",
    "https://briangriner.github.io/Partial_Dependence_Plots_presentation-BrianGriner-PrincetonPublicLibrary-4.14.18-updated-4.22.18.html\n",
    "https://github.com/briangriner/briangriner.github.io/blob/master/Partial_Dependence_Plots_presentation-BrianGriner-PrincetonPublicLibrary-4.14.18-updated-4.22.18.html"
   ]
  },
  {
   "cell_type": "markdown",
   "metadata": {},
   "source": [
    "So, armed with this new knowledge, feel free to pick a few features, and make a couple of Partial Dependence Plots of your own!"
   ]
  },
  {
   "cell_type": "code",
   "execution_count": 26,
   "metadata": {},
   "outputs": [
    {
     "ename": "NameError",
     "evalue": "name 'my_model' is not defined",
     "output_type": "error",
     "traceback": [
      "\u001B[0;31m---------------------------------------------------------------------------\u001B[0m",
      "\u001B[0;31mNameError\u001B[0m                                 Traceback (most recent call last)",
      "\u001B[0;32m<ipython-input-26-449cdd2924f8>\u001B[0m in \u001B[0;36m<module>\u001B[0;34m\u001B[0m\n\u001B[1;32m      1\u001B[0m \u001B[0;31m# Your code here!\u001B[0m\u001B[0;34m\u001B[0m\u001B[0;34m\u001B[0m\u001B[0;34m\u001B[0m\u001B[0m\n\u001B[1;32m      2\u001B[0m \u001B[0;32mfrom\u001B[0m \u001B[0msklearn\u001B[0m\u001B[0;34m.\u001B[0m\u001B[0mensemble\u001B[0m\u001B[0;34m.\u001B[0m\u001B[0mpartial_dependence\u001B[0m \u001B[0;32mimport\u001B[0m \u001B[0mpartial_dependence\u001B[0m\u001B[0;34m,\u001B[0m \u001B[0mplot_partial_dependence\u001B[0m\u001B[0;34m\u001B[0m\u001B[0;34m\u001B[0m\u001B[0m\n\u001B[0;32m----> 3\u001B[0;31m my_plots = plot_partial_dependence(my_model,\n\u001B[0m\u001B[1;32m      4\u001B[0m                                    \u001B[0mfeatures\u001B[0m\u001B[0;34m=\u001B[0m\u001B[0;34m[\u001B[0m\u001B[0;36m0\u001B[0m\u001B[0;34m,\u001B[0m \u001B[0;36m1\u001B[0m\u001B[0;34m,\u001B[0m \u001B[0;36m2\u001B[0m\u001B[0;34m]\u001B[0m\u001B[0;34m,\u001B[0m \u001B[0;31m# column numbers of plots we want to show\u001B[0m\u001B[0;34m\u001B[0m\u001B[0;34m\u001B[0m\u001B[0m\n\u001B[1;32m      5\u001B[0m                                    \u001B[0mX\u001B[0m\u001B[0;34m=\u001B[0m\u001B[0mX\u001B[0m\u001B[0;34m,\u001B[0m            \u001B[0;31m# raw predictors data.\u001B[0m\u001B[0;34m\u001B[0m\u001B[0;34m\u001B[0m\u001B[0m\n",
      "\u001B[0;31mNameError\u001B[0m: name 'my_model' is not defined"
     ]
    }
   ],
   "source": [
    "# Your code here!\n",
    "from sklearn.ensemble.partial_dependence import partial_dependence, plot_partial_dependence\n",
    "my_plots = plot_partial_dependence(my_model,\n",
    "                                   features=[0, 1, 2], # column numbers of plots we want to show\n",
    "                                   X=X,            # raw predictors data.\n",
    "                                   feature_names=['Amount', 'Age', 'Duration'], # labels on graphs\n",
    "                                   grid_resolution=10) # number of values to plot on x axis"
   ]
  },
  {
   "cell_type": "markdown",
   "metadata": {},
   "source": [
    "## (Optional) Advanced Boosting-Based Algorithms"
   ]
  },
  {
   "cell_type": "markdown",
   "metadata": {},
   "source": [
    "As explained in the video lectures, the next generation of algorithms after Random Forests (that use Bagging, a.k.a. Bootstrap Aggregation) were developed using Boosting, and the first one of these were Gradient Boosted Machines, which are implemented in scikit-learn (http://scikit-learn.org/stable/modules/ensemble.html#gradient-tree-boosting)."
   ]
  },
  {
   "cell_type": "markdown",
   "metadata": {},
   "source": [
    "Still, in recent years, a number of variations on GBMs have been developed by different research amd industry groups, all of them bringing improvements, both in speed, accuracy and functionality to the original Gradient Boosting algorithms.\n",
    "\n",
    "In no order of preference, these are:\n",
    "1. **XGBoost**: https://xgboost.readthedocs.io/en/latest/\n",
    "2. **CatBoost**: https://tech.yandex.com/catboost/\n",
    "3. **LightGBM**: https://lightgbm.readthedocs.io/en/latest/"
   ]
  },
  {
   "cell_type": "markdown",
   "metadata": {},
   "source": [
    "If you're using the Anaconda distribution, these are all very easy to install:"
   ]
  },
  {
   "cell_type": "code",
   "execution_count": null,
   "metadata": {},
   "outputs": [],
   "source": [
    "! conda install -c anaconda py-xgboost"
   ]
  },
  {
   "cell_type": "code",
   "execution_count": null,
   "metadata": {},
   "outputs": [],
   "source": [
    "! conda install -c conda-forge catboost"
   ]
  },
  {
   "cell_type": "code",
   "execution_count": null,
   "metadata": {},
   "outputs": [],
   "source": [
    "! conda install -c conda-forge lightgbm"
   ]
  },
  {
   "cell_type": "markdown",
   "metadata": {},
   "source": [
    "Your task in this optional section of the mini project is to read the documentation of these three libraries, and apply all of them to the \"German Credit\" dataset, just like you did in the case of Decision Trees and Random Forests."
   ]
  },
  {
   "cell_type": "markdown",
   "metadata": {},
   "source": [
    "The final deliverable of this section should be a table (can be a pandas DataFrame) which shows the accuracy of all the five algorthms taught in this mini project in one place."
   ]
  },
  {
   "cell_type": "markdown",
   "metadata": {},
   "source": [
    "Happy modeling! :)"
   ]
  },
  {
   "cell_type": "code",
   "execution_count": null,
   "metadata": {},
   "outputs": [],
   "source": []
  }
 ],
 "metadata": {
  "kernelspec": {
   "display_name": "Python 3 (ipykernel)",
   "language": "python",
   "name": "python3"
  },
  "language_info": {
   "codemirror_mode": {
    "name": "ipython",
    "version": 3
   },
   "file_extension": ".py",
   "mimetype": "text/x-python",
   "name": "python",
   "nbconvert_exporter": "python",
   "pygments_lexer": "ipython3",
   "version": "3.9.12"
  }
 },
 "nbformat": 4,
 "nbformat_minor": 4
}
