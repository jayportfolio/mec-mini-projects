{
 "cells": [
  {
   "cell_type": "markdown",
   "metadata": {},
   "source": [
    "# Mini Project: Tree-Based Algorithms"
   ]
  },
  {
   "cell_type": "markdown",
   "metadata": {},
   "source": [
    "## The \"German Credit\" Dataset"
   ]
  },
  {
   "cell_type": "markdown",
   "metadata": {},
   "source": [
    "### Dataset Details"
   ]
  },
  {
   "cell_type": "markdown",
   "metadata": {},
   "source": [
    "This dataset has two classes (these would be considered labels in Machine Learning terms) to describe the worthiness of a personal loan: \"Good\" or \"Bad\". There are predictors related to attributes, such as: checking account status, duration, credit history, purpose of the loan, amount of the loan, savings accounts or bonds, employment duration, installment rate in percentage of disposable income, personal information, other debtors/guarantors, residence duration, property, age, other installment plans, housing, number of existing credits, job information, number of people being liable to provide maintenance for, telephone, and foreign worker status.\n",
    "\n",
    "Many of these predictors are discrete and have been expanded into several 0/1 indicator variables (a.k.a. they have been one-hot-encoded).\n",
    "\n",
    "This dataset has been kindly provided by Professor Dr. Hans Hofmann of the University of Hamburg, and can also be found on the UCI Machine Learning Repository."
   ]
  },
  {
   "cell_type": "markdown",
   "metadata": {},
   "source": [
    "\n",
    "\n",
    "\n"
   ]
  },
  {
   "cell_type": "markdown",
   "metadata": {},
   "source": [
    "## Decision Trees"
   ]
  },
  {
   "cell_type": "markdown",
   "metadata": {},
   "source": [
    " As we have learned in the previous lectures, Decision Trees as a family of algorithms (irrespective to the particular implementation) are powerful algorithms that can produce models with a predictive accuracy higher than that produced by linear models, such as Linear or Logistic Regression. Primarily, this is due to the fact the DT's can model nonlinear relationships, and also have a number of tuning paramters, that allow for the practicioner to achieve the best possible model. An added bonus is the ability to visualize the trained Decision Tree model, which allows for some insight into how the model has produced the predictions that it has. One caveat here, to keep in mind, is that sometimes, due to the size of the dataset (both in the sense of the number of records, as well as the number of features), the visualization might prove to be very large and complex, increasing the difficulty of interpretation."
   ]
  },
  {
   "cell_type": "markdown",
   "metadata": {},
   "source": [
    "To give you a very good example of how Decision Trees can be visualized and interpreted, we would strongly recommend that, before continuing on with solving the problems in this Mini Project, you take the time to read this fanstastic, detailed and informative blog post: http://explained.ai/decision-tree-viz/index.html"
   ]
  },
  {
   "cell_type": "markdown",
   "metadata": {},
   "source": [
    "## Building Your First Decision Tree Model"
   ]
  },
  {
   "cell_type": "markdown",
   "metadata": {},
   "source": [
    "So, now it's time to jump straight into the heart of the matter. Your first task, is to build a Decision Tree model, using the aforementioned \"German Credit\" dataset, which contains 1,000 records, and 62 columns (one of them presents the labels, and the other 61 present the potential features for the model.)"
   ]
  },
  {
   "cell_type": "markdown",
   "metadata": {},
   "source": [
    "For this task, you will be using the scikit-learn library, which comes already pre-installed with the Anaconda Python distribution. In case you're not using that, you can easily install it using pip."
   ]
  },
  {
   "cell_type": "markdown",
   "metadata": {},
   "source": [
    "Before embarking on creating your first model, we would strongly encourage you to read the short tutorial for Decision Trees in scikit-learn (http://scikit-learn.org/stable/modules/tree.html), and then dive a bit deeper into the documentation of the algorithm itself (http://scikit-learn.org/stable/modules/generated/sklearn.tree.DecisionTreeClassifier.html). "
   ]
  },
  {
   "cell_type": "markdown",
   "metadata": {},
   "source": [
    "Also, since you want to be able to present the results of your model, we suggest you take a look at the tutorial for accuracy metrics for classification models (http://scikit-learn.org/stable/modules/model_evaluation.html#classification-report) as well as the more detailed documentation (http://scikit-learn.org/stable/modules/generated/sklearn.metrics.classification_report.html).\n",
    "\n",
    "Finally, an *amazing* resource that explains the various classification model accuracy metrics, as well as the relationships between them, can be found on Wikipedia: https://en.wikipedia.org/wiki/Confusion_matrix"
   ]
  },
  {
   "cell_type": "markdown",
   "metadata": {},
   "source": [
    "(Note: as you've already learned in the Logistic Regression mini project, a standard practice in Machine Learning for achieving the best possible result when training a model is to use hyperparameter tuning, through Grid Search and k-fold Cross Validation. We strongly encourage you to use it here as well, not just because it's standard practice, but also becuase it's not going to be computationally to intensive, due to the size of the dataset that you're working with. Our suggestion here is that you split the data into 70% training, and 30% testing. Then, do the hyperparameter tuning and Cross Validation on the training set, and afterwards to a final test on the testing set.)"
   ]
  },
  {
   "cell_type": "markdown",
   "metadata": {},
   "source": [
    "### Now we pass the torch onto you! You can start building your first Decision Tree model! :)"
   ]
  },
  {
   "cell_type": "code",
   "execution_count": 1,
   "metadata": {
    "execution": {
     "iopub.execute_input": "2023-01-04T00:05:31.039788Z",
     "iopub.status.busy": "2023-01-04T00:05:31.039504Z",
     "iopub.status.idle": "2023-01-04T00:05:31.044535Z",
     "shell.execute_reply": "2023-01-04T00:05:31.043367Z",
     "shell.execute_reply.started": "2023-01-04T00:05:31.039751Z"
    }
   },
   "outputs": [],
   "source": [
    "import warnings\n",
    "warnings.filterwarnings(action='ignore', category=FutureWarning) # setting ignore as a parameter and further adding category\n",
    "\n",
    "import warnings\n",
    "warnings.simplefilter(action='ignore', category=FutureWarning) # setting ignore as a parameter and further adding category\n"
   ]
  },
  {
   "cell_type": "code",
   "execution_count": 2,
   "metadata": {
    "execution": {
     "iopub.execute_input": "2023-01-04T00:05:31.051181Z",
     "iopub.status.busy": "2023-01-04T00:05:31.050914Z",
     "iopub.status.idle": "2023-01-04T00:06:11.248029Z",
     "shell.execute_reply": "2023-01-04T00:06:11.247341Z",
     "shell.execute_reply.started": "2023-01-04T00:05:31.051134Z"
    }
   },
   "outputs": [
    {
     "name": "stdout",
     "output_type": "stream",
     "text": [
      "Get:1 http://security.ubuntu.com/ubuntu xenial-security InRelease [99.8 kB]\n",
      "Get:2 http://archive.ubuntu.com/ubuntu xenial InRelease [247 kB]               \n",
      "Get:3 http://archive.ubuntu.com/ubuntu xenial-updates InRelease [99.8 kB]      \n",
      "Get:4 https://developer.download.nvidia.com/compute/cuda/repos/ubuntu1604/x86_64  InRelease [1581 B]\n",
      "Get:5 http://archive.ubuntu.com/ubuntu xenial-backports InRelease [97.4 kB]    \n",
      "Get:6 http://security.ubuntu.com/ubuntu xenial-security/main amd64 Packages [2051 kB]\n",
      "Ign:7 http://developer.download.nvidia.com/compute/machine-learning/repos/ubuntu1604/x86_64  InRelease\n",
      "Get:8 http://developer.download.nvidia.com/compute/machine-learning/repos/ubuntu1604/x86_64  Release [564 B]\n",
      "Get:9 http://developer.download.nvidia.com/compute/machine-learning/repos/ubuntu1604/x86_64  Release.gpg [833 B]\n",
      "Get:10 http://security.ubuntu.com/ubuntu xenial-security/restricted amd64 Packages [15.9 kB]\n",
      "Get:11 http://security.ubuntu.com/ubuntu xenial-security/universe amd64 Packages [984 kB]\n",
      "Get:12 http://security.ubuntu.com/ubuntu xenial-security/multiverse amd64 Packages [8820 B]\n",
      "Get:13 http://archive.ubuntu.com/ubuntu xenial/main amd64 Packages [1558 kB]\n",
      "Get:14 http://archive.ubuntu.com/ubuntu xenial/restricted amd64 Packages [14.1 kB]\n",
      "Get:15 http://archive.ubuntu.com/ubuntu xenial/universe amd64 Packages [9827 kB]\n",
      "Ign:4 https://developer.download.nvidia.com/compute/cuda/repos/ubuntu1604/x86_64  InRelease\n",
      "Get:16 https://developer.download.nvidia.com/compute/cuda/repos/ubuntu1604/x86_64  Packages [518 kB]\n",
      "Get:17 http://archive.ubuntu.com/ubuntu xenial/multiverse amd64 Packages [176 kB]\n",
      "Get:18 http://archive.ubuntu.com/ubuntu xenial-updates/main amd64 Packages [2560 kB]\n",
      "Get:19 http://archive.ubuntu.com/ubuntu xenial-updates/restricted amd64 Packages [16.4 kB]\n",
      "Get:20 http://archive.ubuntu.com/ubuntu xenial-updates/universe amd64 Packages [1544 kB]\n",
      "Get:21 http://archive.ubuntu.com/ubuntu xenial-updates/multiverse amd64 Packages [26.2 kB]\n",
      "Get:22 http://archive.ubuntu.com/ubuntu xenial-backports/main amd64 Packages [10.9 kB]\n",
      "Get:23 http://archive.ubuntu.com/ubuntu xenial-backports/universe amd64 Packages [12.7 kB]\n",
      "Get:24 http://developer.download.nvidia.com/compute/machine-learning/repos/ubuntu1604/x86_64  Packages [122 kB]\n",
      "Fetched 20.0 MB in 1s (10.5 MB/s)                           \n",
      "Reading package lists... Done\n",
      "W: GPG error: https://developer.download.nvidia.com/compute/cuda/repos/ubuntu1604/x86_64  InRelease: The following signatures couldn't be verified because the public key is not available: NO_PUBKEY A4B469963BF863CC\n",
      "W: The repository 'https://developer.download.nvidia.com/compute/cuda/repos/ubuntu1604/x86_64  InRelease' is not signed.\n",
      "N: Data from such a repository can't be authenticated and is therefore potentially dangerous to use.\n",
      "N: See apt-secure(8) manpage for repository creation and user configuration details.\n",
      "Reading package lists... Done\n",
      "Building dependency tree       \n",
      "Reading state information... Done\n",
      "Note, selecting 'graphviz-dev' for glob 'graphviz*'\n",
      "Note, selecting 'graphviz-doc' for glob 'graphviz*'\n",
      "Note, selecting 'graphviz' for glob 'graphviz*'\n",
      "The following additional packages will be installed:\n",
      "  autotools-dev file fonts-liberation hicolor-icon-theme libatk1.0-0\n",
      "  libatk1.0-data libavahi-client3 libavahi-common-data libavahi-common3\n",
      "  libcairo2 libcdt5 libcgraph6 libcups2 libdatrie1 libexpat1-dev libgd3\n",
      "  libgdk-pixbuf2.0-0 libgdk-pixbuf2.0-common libgraphite2-3 libgraphviz-dev\n",
      "  libgtk2.0-0 libgtk2.0-bin libgtk2.0-common libgvc6 libgvc6-plugins-gtk\n",
      "  libgvpr2 libharfbuzz0b libltdl-dev libltdl7 libmagic1 libpango-1.0-0\n",
      "  libpangocairo-1.0-0 libpangoft2-1.0-0 libpathplan4 libpixman-1-0\n",
      "  libthai-data libthai0 libtool libvpx3 libxaw7 libxcb-render0 libxcb-shm0\n",
      "  libxcomposite1 libxcursor1 libxdot4 libxinerama1 libxmu6 libxpm4 libxrandr2\n",
      "  shared-mime-info\n",
      "Suggested packages:\n",
      "  gsfonts cups-common libgd-tools librsvg2-common gvfs libtool-doc autoconf\n",
      "  automaken gfortran | fortran95-compiler gcj-jdk\n",
      "The following NEW packages will be installed:\n",
      "  autotools-dev file fonts-liberation graphviz graphviz-dev graphviz-doc\n",
      "  hicolor-icon-theme libatk1.0-0 libatk1.0-data libavahi-client3\n",
      "  libavahi-common-data libavahi-common3 libcairo2 libcdt5 libcgraph6 libcups2\n",
      "  libdatrie1 libexpat1-dev libgd3 libgdk-pixbuf2.0-0 libgdk-pixbuf2.0-common\n",
      "  libgraphite2-3 libgraphviz-dev libgtk2.0-0 libgtk2.0-bin libgtk2.0-common\n",
      "  libgvc6 libgvc6-plugins-gtk libgvpr2 libharfbuzz0b libltdl-dev libltdl7\n",
      "  libmagic1 libpango-1.0-0 libpangocairo-1.0-0 libpangoft2-1.0-0 libpathplan4\n",
      "  libpixman-1-0 libthai-data libthai0 libtool libvpx3 libxaw7 libxcb-render0\n",
      "  libxcb-shm0 libxcomposite1 libxcursor1 libxdot4 libxinerama1 libxmu6 libxpm4\n",
      "  libxrandr2 shared-mime-info\n",
      "0 upgraded, 53 newly installed, 0 to remove and 52 not upgraded.\n",
      "Need to get 11.6 MB of archives.\n",
      "After this operation, 46.4 MB of additional disk space will be used.\n",
      "Get:1 http://archive.ubuntu.com/ubuntu xenial/main amd64 libxcomposite1 amd64 1:0.4.4-1 [7714 B]\n",
      "Get:2 http://archive.ubuntu.com/ubuntu xenial/main amd64 libxinerama1 amd64 2:1.1.3-1 [7908 B]\n",
      "Get:3 http://archive.ubuntu.com/ubuntu xenial-updates/main amd64 libmagic1 amd64 1:5.25-2ubuntu1.4 [216 kB]\n",
      "Get:4 http://archive.ubuntu.com/ubuntu xenial-updates/main amd64 file amd64 1:5.25-2ubuntu1.4 [21.2 kB]\n",
      "Get:5 http://archive.ubuntu.com/ubuntu xenial-updates/main amd64 shared-mime-info amd64 1.5-2ubuntu0.2 [405 kB]\n",
      "Get:6 http://archive.ubuntu.com/ubuntu xenial/main amd64 autotools-dev all 20150820.1 [39.8 kB]\n",
      "Get:7 http://archive.ubuntu.com/ubuntu xenial/main amd64 fonts-liberation all 1.07.4-1 [829 kB]\n",
      "Get:8 http://archive.ubuntu.com/ubuntu xenial-updates/main amd64 libcdt5 amd64 2.38.0-12ubuntu2.1 [23.4 kB]\n",
      "Get:9 http://archive.ubuntu.com/ubuntu xenial-updates/main amd64 libcgraph6 amd64 2.38.0-12ubuntu2.1 [43.6 kB]\n",
      "Get:10 http://archive.ubuntu.com/ubuntu xenial-updates/main amd64 libvpx3 amd64 1.5.0-2ubuntu1.1 [732 kB]\n",
      "Get:11 http://archive.ubuntu.com/ubuntu xenial-updates/main amd64 libxpm4 amd64 1:3.5.11-1ubuntu0.16.04.1 [33.8 kB]\n",
      "Get:12 http://archive.ubuntu.com/ubuntu xenial-updates/main amd64 libgd3 amd64 2.1.1-4ubuntu0.16.04.12 [126 kB]\n",
      "Get:13 http://archive.ubuntu.com/ubuntu xenial/main amd64 libpixman-1-0 amd64 0.33.6-1 [231 kB]\n",
      "Get:14 http://archive.ubuntu.com/ubuntu xenial/main amd64 libxcb-render0 amd64 1.11.1-1ubuntu1 [11.4 kB]\n",
      "Get:15 http://archive.ubuntu.com/ubuntu xenial/main amd64 libxcb-shm0 amd64 1.11.1-1ubuntu1 [5588 B]\n",
      "Get:16 http://archive.ubuntu.com/ubuntu xenial/main amd64 libcairo2 amd64 1.14.6-1 [555 kB]\n",
      "Get:17 http://archive.ubuntu.com/ubuntu xenial/main amd64 libltdl7 amd64 2.4.6-0.1 [38.3 kB]\n",
      "Get:18 http://archive.ubuntu.com/ubuntu xenial/main amd64 libthai-data all 0.1.24-2 [131 kB]\n",
      "Get:19 http://archive.ubuntu.com/ubuntu xenial/main amd64 libdatrie1 amd64 0.2.10-2 [17.3 kB]\n",
      "Get:20 http://archive.ubuntu.com/ubuntu xenial/main amd64 libthai0 amd64 0.1.24-2 [17.3 kB]\n",
      "Get:21 http://archive.ubuntu.com/ubuntu xenial/main amd64 libpango-1.0-0 amd64 1.38.1-1 [148 kB]\n",
      "Get:22 http://archive.ubuntu.com/ubuntu xenial-updates/main amd64 libgraphite2-3 amd64 1.3.10-0ubuntu0.16.04.1 [71.7 kB]\n",
      "Get:23 http://archive.ubuntu.com/ubuntu xenial-updates/main amd64 libharfbuzz0b amd64 1.0.1-1ubuntu0.1 [140 kB]\n",
      "Get:24 http://archive.ubuntu.com/ubuntu xenial/main amd64 libpangoft2-1.0-0 amd64 1.38.1-1 [33.3 kB]\n",
      "Get:25 http://archive.ubuntu.com/ubuntu xenial/main amd64 libpangocairo-1.0-0 amd64 1.38.1-1 [20.5 kB]\n",
      "Get:26 http://archive.ubuntu.com/ubuntu xenial-updates/main amd64 libpathplan4 amd64 2.38.0-12ubuntu2.1 [26.6 kB]\n",
      "Get:27 http://archive.ubuntu.com/ubuntu xenial-updates/main amd64 libgvc6 amd64 2.38.0-12ubuntu2.1 [591 kB]\n",
      "Get:28 http://archive.ubuntu.com/ubuntu xenial-updates/main amd64 libgvpr2 amd64 2.38.0-12ubuntu2.1 [170 kB]\n",
      "Get:29 http://archive.ubuntu.com/ubuntu xenial/main amd64 libxmu6 amd64 2:1.1.2-2 [46.0 kB]\n",
      "Get:30 http://archive.ubuntu.com/ubuntu xenial/main amd64 libxaw7 amd64 2:1.0.13-1 [173 kB]\n",
      "Get:31 http://archive.ubuntu.com/ubuntu xenial-updates/main amd64 graphviz amd64 2.38.0-12ubuntu2.1 [680 kB]\n",
      "Get:32 http://archive.ubuntu.com/ubuntu xenial-updates/main amd64 libxdot4 amd64 2.38.0-12ubuntu2.1 [19.4 kB]\n",
      "Get:33 http://archive.ubuntu.com/ubuntu xenial/main amd64 libatk1.0-data all 2.18.0-1 [17.1 kB]\n",
      "Get:34 http://archive.ubuntu.com/ubuntu xenial/main amd64 libatk1.0-0 amd64 2.18.0-1 [56.9 kB]\n",
      "Get:35 http://archive.ubuntu.com/ubuntu xenial-updates/main amd64 libgdk-pixbuf2.0-common all 2.32.2-1ubuntu1.6 [10.3 kB]\n",
      "Get:36 http://archive.ubuntu.com/ubuntu xenial-updates/main amd64 libgdk-pixbuf2.0-0 amd64 2.32.2-1ubuntu1.6 [159 kB]\n",
      "Get:37 http://archive.ubuntu.com/ubuntu xenial-updates/main amd64 libgtk2.0-common all 2.24.30-1ubuntu1.16.04.2 [123 kB]\n",
      "Get:38 http://archive.ubuntu.com/ubuntu xenial-updates/main amd64 libavahi-common-data amd64 0.6.32~rc+dfsg-1ubuntu2.3 [21.5 kB]\n",
      "Get:39 http://archive.ubuntu.com/ubuntu xenial-updates/main amd64 libavahi-common3 amd64 0.6.32~rc+dfsg-1ubuntu2.3 [21.7 kB]\n",
      "Get:40 http://archive.ubuntu.com/ubuntu xenial-updates/main amd64 libavahi-client3 amd64 0.6.32~rc+dfsg-1ubuntu2.3 [25.3 kB]\n",
      "Get:41 http://archive.ubuntu.com/ubuntu xenial-updates/main amd64 libcups2 amd64 2.1.3-4ubuntu0.11 [197 kB]\n",
      "Get:42 http://archive.ubuntu.com/ubuntu xenial-updates/main amd64 libxcursor1 amd64 1:1.1.14-1ubuntu0.16.04.2 [19.9 kB]\n",
      "Get:43 http://archive.ubuntu.com/ubuntu xenial/main amd64 libxrandr2 amd64 2:1.5.0-1 [17.6 kB]\n",
      "Get:44 http://archive.ubuntu.com/ubuntu xenial-updates/main amd64 libgtk2.0-0 amd64 2.24.30-1ubuntu1.16.04.2 [1775 kB]\n",
      "Get:45 http://archive.ubuntu.com/ubuntu xenial-updates/universe amd64 libgvc6-plugins-gtk amd64 2.38.0-12ubuntu2.1 [21.7 kB]\n",
      "Get:46 http://archive.ubuntu.com/ubuntu xenial-updates/main amd64 libexpat1-dev amd64 2.1.0-7ubuntu0.16.04.5 [115 kB]\n",
      "Get:47 http://archive.ubuntu.com/ubuntu xenial/main amd64 libltdl-dev amd64 2.4.6-0.1 [162 kB]\n",
      "Get:48 http://archive.ubuntu.com/ubuntu xenial-updates/main amd64 libgraphviz-dev amd64 2.38.0-12ubuntu2.1 [61.3 kB]\n",
      "Get:49 http://archive.ubuntu.com/ubuntu xenial-updates/main amd64 graphviz-dev all 2.38.0-12ubuntu2.1 [12.0 kB]\n",
      "Get:50 http://archive.ubuntu.com/ubuntu xenial-updates/main amd64 graphviz-doc all 2.38.0-12ubuntu2.1 [2922 kB]\n",
      "Get:51 http://archive.ubuntu.com/ubuntu xenial-updates/main amd64 hicolor-icon-theme all 0.15-0ubuntu1.1 [7698 B]\n",
      "Get:52 http://archive.ubuntu.com/ubuntu xenial-updates/main amd64 libgtk2.0-bin amd64 2.24.30-1ubuntu1.16.04.2 [9834 B]\n",
      "Get:53 http://archive.ubuntu.com/ubuntu xenial/main amd64 libtool all 2.4.6-0.1 [193 kB]\n",
      "Fetched 11.6 MB in 1s (8259 kB/s)  \n",
      "debconf: delaying package configuration, since apt-utils is not installed\n",
      "Selecting previously unselected package libxcomposite1:amd64.\n",
      "(Reading database ... 18610 files and directories currently installed.)\n",
      "Preparing to unpack .../libxcomposite1_1%3a0.4.4-1_amd64.deb ...\n",
      "Unpacking libxcomposite1:amd64 (1:0.4.4-1) ...\n",
      "Selecting previously unselected package libxinerama1:amd64.\n",
      "Preparing to unpack .../libxinerama1_2%3a1.1.3-1_amd64.deb ...\n",
      "Unpacking libxinerama1:amd64 (2:1.1.3-1) ...\n",
      "Selecting previously unselected package libmagic1:amd64.\n",
      "Preparing to unpack .../libmagic1_1%3a5.25-2ubuntu1.4_amd64.deb ...\n",
      "Unpacking libmagic1:amd64 (1:5.25-2ubuntu1.4) ...\n",
      "Selecting previously unselected package file.\n",
      "Preparing to unpack .../file_1%3a5.25-2ubuntu1.4_amd64.deb ...\n",
      "Unpacking file (1:5.25-2ubuntu1.4) ...\n",
      "Selecting previously unselected package shared-mime-info.\n",
      "Preparing to unpack .../shared-mime-info_1.5-2ubuntu0.2_amd64.deb ...\n",
      "Unpacking shared-mime-info (1.5-2ubuntu0.2) ...\n",
      "Selecting previously unselected package autotools-dev.\n",
      "Preparing to unpack .../autotools-dev_20150820.1_all.deb ...\n",
      "Unpacking autotools-dev (20150820.1) ...\n",
      "Selecting previously unselected package fonts-liberation.\n",
      "Preparing to unpack .../fonts-liberation_1.07.4-1_all.deb ...\n",
      "Unpacking fonts-liberation (1.07.4-1) ...\n",
      "Selecting previously unselected package libcdt5.\n",
      "Preparing to unpack .../libcdt5_2.38.0-12ubuntu2.1_amd64.deb ...\n",
      "Unpacking libcdt5 (2.38.0-12ubuntu2.1) ...\n",
      "Selecting previously unselected package libcgraph6.\n",
      "Preparing to unpack .../libcgraph6_2.38.0-12ubuntu2.1_amd64.deb ...\n",
      "Unpacking libcgraph6 (2.38.0-12ubuntu2.1) ...\n",
      "Selecting previously unselected package libvpx3:amd64.\n",
      "Preparing to unpack .../libvpx3_1.5.0-2ubuntu1.1_amd64.deb ...\n",
      "Unpacking libvpx3:amd64 (1.5.0-2ubuntu1.1) ...\n",
      "Selecting previously unselected package libxpm4:amd64.\n",
      "Preparing to unpack .../libxpm4_1%3a3.5.11-1ubuntu0.16.04.1_amd64.deb ...\n",
      "Unpacking libxpm4:amd64 (1:3.5.11-1ubuntu0.16.04.1) ...\n",
      "Selecting previously unselected package libgd3:amd64.\n",
      "Preparing to unpack .../libgd3_2.1.1-4ubuntu0.16.04.12_amd64.deb ...\n",
      "Unpacking libgd3:amd64 (2.1.1-4ubuntu0.16.04.12) ...\n",
      "Selecting previously unselected package libpixman-1-0:amd64.\n",
      "Preparing to unpack .../libpixman-1-0_0.33.6-1_amd64.deb ...\n",
      "Unpacking libpixman-1-0:amd64 (0.33.6-1) ...\n",
      "Selecting previously unselected package libxcb-render0:amd64.\n",
      "Preparing to unpack .../libxcb-render0_1.11.1-1ubuntu1_amd64.deb ...\n",
      "Unpacking libxcb-render0:amd64 (1.11.1-1ubuntu1) ...\n",
      "Selecting previously unselected package libxcb-shm0:amd64.\n",
      "Preparing to unpack .../libxcb-shm0_1.11.1-1ubuntu1_amd64.deb ...\n",
      "Unpacking libxcb-shm0:amd64 (1.11.1-1ubuntu1) ...\n",
      "Selecting previously unselected package libcairo2:amd64.\n",
      "Preparing to unpack .../libcairo2_1.14.6-1_amd64.deb ...\n",
      "Unpacking libcairo2:amd64 (1.14.6-1) ...\n",
      "Selecting previously unselected package libltdl7:amd64.\n",
      "Preparing to unpack .../libltdl7_2.4.6-0.1_amd64.deb ...\n",
      "Unpacking libltdl7:amd64 (2.4.6-0.1) ...\n",
      "Selecting previously unselected package libthai-data.\n",
      "Preparing to unpack .../libthai-data_0.1.24-2_all.deb ...\n",
      "Unpacking libthai-data (0.1.24-2) ...\n",
      "Selecting previously unselected package libdatrie1:amd64.\n",
      "Preparing to unpack .../libdatrie1_0.2.10-2_amd64.deb ...\n",
      "Unpacking libdatrie1:amd64 (0.2.10-2) ...\n",
      "Selecting previously unselected package libthai0:amd64.\n",
      "Preparing to unpack .../libthai0_0.1.24-2_amd64.deb ...\n",
      "Unpacking libthai0:amd64 (0.1.24-2) ...\n",
      "Selecting previously unselected package libpango-1.0-0:amd64.\n",
      "Preparing to unpack .../libpango-1.0-0_1.38.1-1_amd64.deb ...\n",
      "Unpacking libpango-1.0-0:amd64 (1.38.1-1) ...\n",
      "Selecting previously unselected package libgraphite2-3:amd64.\n",
      "Preparing to unpack .../libgraphite2-3_1.3.10-0ubuntu0.16.04.1_amd64.deb ...\n",
      "Unpacking libgraphite2-3:amd64 (1.3.10-0ubuntu0.16.04.1) ...\n",
      "Selecting previously unselected package libharfbuzz0b:amd64.\n",
      "Preparing to unpack .../libharfbuzz0b_1.0.1-1ubuntu0.1_amd64.deb ...\n",
      "Unpacking libharfbuzz0b:amd64 (1.0.1-1ubuntu0.1) ...\n",
      "Selecting previously unselected package libpangoft2-1.0-0:amd64.\n",
      "Preparing to unpack .../libpangoft2-1.0-0_1.38.1-1_amd64.deb ...\n",
      "Unpacking libpangoft2-1.0-0:amd64 (1.38.1-1) ...\n",
      "Selecting previously unselected package libpangocairo-1.0-0:amd64.\n",
      "Preparing to unpack .../libpangocairo-1.0-0_1.38.1-1_amd64.deb ...\n",
      "Unpacking libpangocairo-1.0-0:amd64 (1.38.1-1) ...\n",
      "Selecting previously unselected package libpathplan4.\n",
      "Preparing to unpack .../libpathplan4_2.38.0-12ubuntu2.1_amd64.deb ...\n",
      "Unpacking libpathplan4 (2.38.0-12ubuntu2.1) ...\n",
      "Selecting previously unselected package libgvc6.\n",
      "Preparing to unpack .../libgvc6_2.38.0-12ubuntu2.1_amd64.deb ...\n",
      "Unpacking libgvc6 (2.38.0-12ubuntu2.1) ...\n",
      "Selecting previously unselected package libgvpr2.\n",
      "Preparing to unpack .../libgvpr2_2.38.0-12ubuntu2.1_amd64.deb ...\n",
      "Unpacking libgvpr2 (2.38.0-12ubuntu2.1) ...\n",
      "Selecting previously unselected package libxmu6:amd64.\n",
      "Preparing to unpack .../libxmu6_2%3a1.1.2-2_amd64.deb ...\n",
      "Unpacking libxmu6:amd64 (2:1.1.2-2) ...\n",
      "Selecting previously unselected package libxaw7:amd64.\n",
      "Preparing to unpack .../libxaw7_2%3a1.0.13-1_amd64.deb ...\n",
      "Unpacking libxaw7:amd64 (2:1.0.13-1) ...\n",
      "Selecting previously unselected package graphviz.\n",
      "Preparing to unpack .../graphviz_2.38.0-12ubuntu2.1_amd64.deb ...\n",
      "Unpacking graphviz (2.38.0-12ubuntu2.1) ...\n",
      "Selecting previously unselected package libxdot4.\n",
      "Preparing to unpack .../libxdot4_2.38.0-12ubuntu2.1_amd64.deb ...\n",
      "Unpacking libxdot4 (2.38.0-12ubuntu2.1) ...\n",
      "Selecting previously unselected package libatk1.0-data.\n",
      "Preparing to unpack .../libatk1.0-data_2.18.0-1_all.deb ...\n",
      "Unpacking libatk1.0-data (2.18.0-1) ...\n",
      "Selecting previously unselected package libatk1.0-0:amd64.\n",
      "Preparing to unpack .../libatk1.0-0_2.18.0-1_amd64.deb ...\n",
      "Unpacking libatk1.0-0:amd64 (2.18.0-1) ...\n",
      "Selecting previously unselected package libgdk-pixbuf2.0-common.\n",
      "Preparing to unpack .../libgdk-pixbuf2.0-common_2.32.2-1ubuntu1.6_all.deb ...\n",
      "Unpacking libgdk-pixbuf2.0-common (2.32.2-1ubuntu1.6) ...\n",
      "Selecting previously unselected package libgdk-pixbuf2.0-0:amd64.\n",
      "Preparing to unpack .../libgdk-pixbuf2.0-0_2.32.2-1ubuntu1.6_amd64.deb ...\n",
      "Unpacking libgdk-pixbuf2.0-0:amd64 (2.32.2-1ubuntu1.6) ...\n",
      "Selecting previously unselected package libgtk2.0-common.\n",
      "Preparing to unpack .../libgtk2.0-common_2.24.30-1ubuntu1.16.04.2_all.deb ...\n",
      "Unpacking libgtk2.0-common (2.24.30-1ubuntu1.16.04.2) ...\n",
      "Selecting previously unselected package libavahi-common-data:amd64.\n",
      "Preparing to unpack .../libavahi-common-data_0.6.32~rc+dfsg-1ubuntu2.3_amd64.deb ...\n",
      "Unpacking libavahi-common-data:amd64 (0.6.32~rc+dfsg-1ubuntu2.3) ...\n",
      "Selecting previously unselected package libavahi-common3:amd64.\n",
      "Preparing to unpack .../libavahi-common3_0.6.32~rc+dfsg-1ubuntu2.3_amd64.deb ...\n",
      "Unpacking libavahi-common3:amd64 (0.6.32~rc+dfsg-1ubuntu2.3) ...\n",
      "Selecting previously unselected package libavahi-client3:amd64.\n",
      "Preparing to unpack .../libavahi-client3_0.6.32~rc+dfsg-1ubuntu2.3_amd64.deb ...\n",
      "Unpacking libavahi-client3:amd64 (0.6.32~rc+dfsg-1ubuntu2.3) ...\n",
      "Selecting previously unselected package libcups2:amd64.\n",
      "Preparing to unpack .../libcups2_2.1.3-4ubuntu0.11_amd64.deb ...\n",
      "Unpacking libcups2:amd64 (2.1.3-4ubuntu0.11) ...\n",
      "Selecting previously unselected package libxcursor1:amd64.\n",
      "Preparing to unpack .../libxcursor1_1%3a1.1.14-1ubuntu0.16.04.2_amd64.deb ...\n",
      "Unpacking libxcursor1:amd64 (1:1.1.14-1ubuntu0.16.04.2) ...\n",
      "Selecting previously unselected package libxrandr2:amd64.\n",
      "Preparing to unpack .../libxrandr2_2%3a1.5.0-1_amd64.deb ...\n",
      "Unpacking libxrandr2:amd64 (2:1.5.0-1) ...\n",
      "Selecting previously unselected package libgtk2.0-0:amd64.\n",
      "Preparing to unpack .../libgtk2.0-0_2.24.30-1ubuntu1.16.04.2_amd64.deb ...\n",
      "Unpacking libgtk2.0-0:amd64 (2.24.30-1ubuntu1.16.04.2) ...\n",
      "Selecting previously unselected package libgvc6-plugins-gtk.\n",
      "Preparing to unpack .../libgvc6-plugins-gtk_2.38.0-12ubuntu2.1_amd64.deb ...\n",
      "Unpacking libgvc6-plugins-gtk (2.38.0-12ubuntu2.1) ...\n",
      "Selecting previously unselected package libexpat1-dev:amd64.\n",
      "Preparing to unpack .../libexpat1-dev_2.1.0-7ubuntu0.16.04.5_amd64.deb ...\n",
      "Unpacking libexpat1-dev:amd64 (2.1.0-7ubuntu0.16.04.5) ...\n",
      "Selecting previously unselected package libltdl-dev:amd64.\n",
      "Preparing to unpack .../libltdl-dev_2.4.6-0.1_amd64.deb ...\n",
      "Unpacking libltdl-dev:amd64 (2.4.6-0.1) ...\n",
      "Selecting previously unselected package libgraphviz-dev.\n",
      "Preparing to unpack .../libgraphviz-dev_2.38.0-12ubuntu2.1_amd64.deb ...\n",
      "Unpacking libgraphviz-dev (2.38.0-12ubuntu2.1) ...\n",
      "Selecting previously unselected package graphviz-dev.\n",
      "Preparing to unpack .../graphviz-dev_2.38.0-12ubuntu2.1_all.deb ...\n",
      "Unpacking graphviz-dev (2.38.0-12ubuntu2.1) ...\n",
      "Selecting previously unselected package graphviz-doc.\n",
      "Preparing to unpack .../graphviz-doc_2.38.0-12ubuntu2.1_all.deb ...\n",
      "Unpacking graphviz-doc (2.38.0-12ubuntu2.1) ...\n",
      "Selecting previously unselected package hicolor-icon-theme.\n",
      "Preparing to unpack .../hicolor-icon-theme_0.15-0ubuntu1.1_all.deb ...\n",
      "Unpacking hicolor-icon-theme (0.15-0ubuntu1.1) ...\n",
      "Selecting previously unselected package libgtk2.0-bin.\n",
      "Preparing to unpack .../libgtk2.0-bin_2.24.30-1ubuntu1.16.04.2_amd64.deb ...\n",
      "Unpacking libgtk2.0-bin (2.24.30-1ubuntu1.16.04.2) ...\n",
      "Selecting previously unselected package libtool.\n",
      "Preparing to unpack .../libtool_2.4.6-0.1_all.deb ...\n",
      "Unpacking libtool (2.4.6-0.1) ...\n",
      "Processing triggers for libc-bin (2.23-0ubuntu11.2) ...\n",
      "Processing triggers for fontconfig (2.11.94-0ubuntu1.1) ...\n",
      "Setting up libxcomposite1:amd64 (1:0.4.4-1) ...\n",
      "Setting up libxinerama1:amd64 (2:1.1.3-1) ...\n",
      "Setting up libmagic1:amd64 (1:5.25-2ubuntu1.4) ...\n",
      "Setting up file (1:5.25-2ubuntu1.4) ...\n",
      "Setting up shared-mime-info (1.5-2ubuntu0.2) ...\n",
      "Setting up autotools-dev (20150820.1) ...\n",
      "Setting up fonts-liberation (1.07.4-1) ...\n",
      "Setting up libcdt5 (2.38.0-12ubuntu2.1) ...\n",
      "Setting up libcgraph6 (2.38.0-12ubuntu2.1) ...\n",
      "Setting up libvpx3:amd64 (1.5.0-2ubuntu1.1) ...\n",
      "Setting up libxpm4:amd64 (1:3.5.11-1ubuntu0.16.04.1) ...\n",
      "Setting up libgd3:amd64 (2.1.1-4ubuntu0.16.04.12) ...\n",
      "Setting up libpixman-1-0:amd64 (0.33.6-1) ...\n",
      "Setting up libxcb-render0:amd64 (1.11.1-1ubuntu1) ...\n",
      "Setting up libxcb-shm0:amd64 (1.11.1-1ubuntu1) ...\n",
      "Setting up libcairo2:amd64 (1.14.6-1) ...\n",
      "Setting up libltdl7:amd64 (2.4.6-0.1) ...\n",
      "Setting up libthai-data (0.1.24-2) ...\n",
      "Setting up libdatrie1:amd64 (0.2.10-2) ...\n",
      "Setting up libthai0:amd64 (0.1.24-2) ...\n",
      "Setting up libpango-1.0-0:amd64 (1.38.1-1) ...\n",
      "Setting up libgraphite2-3:amd64 (1.3.10-0ubuntu0.16.04.1) ...\n",
      "Setting up libharfbuzz0b:amd64 (1.0.1-1ubuntu0.1) ...\n",
      "Setting up libpangoft2-1.0-0:amd64 (1.38.1-1) ...\n",
      "Setting up libpangocairo-1.0-0:amd64 (1.38.1-1) ...\n",
      "Setting up libpathplan4 (2.38.0-12ubuntu2.1) ...\n",
      "Setting up libgvc6 (2.38.0-12ubuntu2.1) ...\n",
      "Setting up libgvpr2 (2.38.0-12ubuntu2.1) ...\n",
      "Setting up libxmu6:amd64 (2:1.1.2-2) ...\n",
      "Setting up libxaw7:amd64 (2:1.0.13-1) ...\n",
      "Setting up graphviz (2.38.0-12ubuntu2.1) ...\n",
      "Setting up libxdot4 (2.38.0-12ubuntu2.1) ...\n",
      "Setting up libatk1.0-data (2.18.0-1) ...\n",
      "Setting up libatk1.0-0:amd64 (2.18.0-1) ...\n",
      "Setting up libgdk-pixbuf2.0-common (2.32.2-1ubuntu1.6) ...\n",
      "Setting up libgdk-pixbuf2.0-0:amd64 (2.32.2-1ubuntu1.6) ...\n",
      "Setting up libgtk2.0-common (2.24.30-1ubuntu1.16.04.2) ...\n",
      "Setting up libavahi-common-data:amd64 (0.6.32~rc+dfsg-1ubuntu2.3) ...\n",
      "Setting up libavahi-common3:amd64 (0.6.32~rc+dfsg-1ubuntu2.3) ...\n",
      "Setting up libavahi-client3:amd64 (0.6.32~rc+dfsg-1ubuntu2.3) ...\n",
      "Setting up libcups2:amd64 (2.1.3-4ubuntu0.11) ...\n",
      "Setting up libxcursor1:amd64 (1:1.1.14-1ubuntu0.16.04.2) ...\n",
      "Setting up libxrandr2:amd64 (2:1.5.0-1) ...\n",
      "Setting up libgtk2.0-0:amd64 (2.24.30-1ubuntu1.16.04.2) ...\n",
      "Setting up libgvc6-plugins-gtk (2.38.0-12ubuntu2.1) ...\n",
      "Setting up libexpat1-dev:amd64 (2.1.0-7ubuntu0.16.04.5) ...\n",
      "Setting up libltdl-dev:amd64 (2.4.6-0.1) ...\n",
      "Setting up libgraphviz-dev (2.38.0-12ubuntu2.1) ...\n",
      "Setting up graphviz-dev (2.38.0-12ubuntu2.1) ...\n",
      "Setting up graphviz-doc (2.38.0-12ubuntu2.1) ...\n",
      "Setting up hicolor-icon-theme (0.15-0ubuntu1.1) ...\n",
      "Setting up libgtk2.0-bin (2.24.30-1ubuntu1.16.04.2) ...\n",
      "Setting up libtool (2.4.6-0.1) ...\n",
      "Processing triggers for libc-bin (2.23-0ubuntu11.2) ...\n",
      "Collecting dtreeviz\n",
      "  Downloading dtreeviz-2.0.0-py3-none-any.whl (78 kB)\n",
      "\u001b[K     |████████████████████████████████| 78 kB 7.1 MB/s  eta 0:00:01\n",
      "\u001b[?25hRequirement already satisfied: pandas in /opt/conda/envs/springboard/lib/python3.7/site-packages (from dtreeviz) (1.0.1)\n",
      "Requirement already satisfied: numpy in /opt/conda/envs/springboard/lib/python3.7/site-packages (from dtreeviz) (1.18.1)\n",
      "Requirement already satisfied: scikit-learn in /opt/conda/envs/springboard/lib/python3.7/site-packages (from dtreeviz) (0.22.1)\n",
      "Requirement already satisfied: matplotlib in /opt/conda/envs/springboard/lib/python3.7/site-packages (from dtreeviz) (3.1.3)\n",
      "Requirement already satisfied: pytest in /opt/conda/envs/springboard/lib/python3.7/site-packages (from dtreeviz) (5.3.5)\n",
      "Collecting graphviz>=0.9\n",
      "  Downloading graphviz-0.20.1-py3-none-any.whl (47 kB)\n",
      "\u001b[K     |████████████████████████████████| 47 kB 6.2 MB/s  eta 0:00:01\n",
      "\u001b[?25hCollecting colour\n",
      "  Downloading colour-0.1.5-py2.py3-none-any.whl (23 kB)\n",
      "Requirement already satisfied: kiwisolver>=1.0.1 in /opt/conda/envs/springboard/lib/python3.7/site-packages (from matplotlib->dtreeviz) (1.1.0)\n",
      "Requirement already satisfied: python-dateutil>=2.1 in /opt/conda/envs/springboard/lib/python3.7/site-packages (from matplotlib->dtreeviz) (2.8.1)\n",
      "Requirement already satisfied: pyparsing!=2.0.4,!=2.1.2,!=2.1.6,>=2.0.1 in /opt/conda/envs/springboard/lib/python3.7/site-packages (from matplotlib->dtreeviz) (2.4.6)\n",
      "Requirement already satisfied: cycler>=0.10 in /opt/conda/envs/springboard/lib/python3.7/site-packages (from matplotlib->dtreeviz) (0.10.0)\n",
      "Requirement already satisfied: six in /opt/conda/envs/springboard/lib/python3.7/site-packages (from cycler>=0.10->matplotlib->dtreeviz) (1.14.0)\n",
      "Requirement already satisfied: setuptools in /opt/conda/envs/springboard/lib/python3.7/site-packages (from kiwisolver>=1.0.1->matplotlib->dtreeviz) (49.6.0.post20210108)\n",
      "Requirement already satisfied: pytz>=2017.2 in /opt/conda/envs/springboard/lib/python3.7/site-packages (from pandas->dtreeviz) (2019.3)\n",
      "Requirement already satisfied: pluggy<1.0,>=0.12 in /opt/conda/envs/springboard/lib/python3.7/site-packages (from pytest->dtreeviz) (0.13.1)\n",
      "Requirement already satisfied: packaging in /opt/conda/envs/springboard/lib/python3.7/site-packages (from pytest->dtreeviz) (20.1)\n",
      "Requirement already satisfied: more-itertools>=4.0.0 in /opt/conda/envs/springboard/lib/python3.7/site-packages (from pytest->dtreeviz) (8.2.0)\n",
      "Requirement already satisfied: importlib-metadata>=0.12 in /opt/conda/envs/springboard/lib/python3.7/site-packages (from pytest->dtreeviz) (1.5.0)\n",
      "Requirement already satisfied: attrs>=17.4.0 in /opt/conda/envs/springboard/lib/python3.7/site-packages (from pytest->dtreeviz) (19.3.0)\n",
      "Requirement already satisfied: wcwidth in /opt/conda/envs/springboard/lib/python3.7/site-packages (from pytest->dtreeviz) (0.1.8)\n",
      "Requirement already satisfied: py>=1.5.0 in /opt/conda/envs/springboard/lib/python3.7/site-packages (from pytest->dtreeviz) (1.8.1)\n",
      "Requirement already satisfied: zipp>=0.5 in /opt/conda/envs/springboard/lib/python3.7/site-packages (from importlib-metadata>=0.12->pytest->dtreeviz) (2.2.0)\n",
      "Requirement already satisfied: joblib>=0.11 in /opt/conda/envs/springboard/lib/python3.7/site-packages (from scikit-learn->dtreeviz) (0.14.1)\n",
      "Requirement already satisfied: scipy>=0.17.0 in /opt/conda/envs/springboard/lib/python3.7/site-packages (from scikit-learn->dtreeviz) (1.4.1)\n",
      "Installing collected packages: graphviz, colour, dtreeviz\n",
      "Successfully installed colour-0.1.5 dtreeviz-2.0.0 graphviz-0.20.1\n",
      "Collecting pdpbox\n",
      "  Downloading PDPbox-0.2.1.tar.gz (34.0 MB)\n",
      "\u001b[K     |████████████████████████████████| 34.0 MB 1.1 MB/s eta 0:00:01\n",
      "\u001b[?25hRequirement already satisfied: pandas in /opt/conda/envs/springboard/lib/python3.7/site-packages (from pdpbox) (1.0.1)\n",
      "Requirement already satisfied: numpy in /opt/conda/envs/springboard/lib/python3.7/site-packages (from pdpbox) (1.18.1)\n",
      "Requirement already satisfied: scipy in /opt/conda/envs/springboard/lib/python3.7/site-packages (from pdpbox) (1.4.1)\n",
      "Requirement already satisfied: joblib in /opt/conda/envs/springboard/lib/python3.7/site-packages (from pdpbox) (0.14.1)\n",
      "Requirement already satisfied: psutil in /opt/conda/envs/springboard/lib/python3.7/site-packages (from pdpbox) (5.6.7)\n",
      "Collecting matplotlib==3.1.1\n",
      "  Downloading matplotlib-3.1.1-cp37-cp37m-manylinux1_x86_64.whl (13.1 MB)\n",
      "\u001b[K     |████████████████████████████████| 13.1 MB 45.4 MB/s eta 0:00:01\n",
      "\u001b[?25hRequirement already satisfied: python-dateutil>=2.1 in /opt/conda/envs/springboard/lib/python3.7/site-packages (from matplotlib==3.1.1->pdpbox) (2.8.1)\n",
      "Requirement already satisfied: kiwisolver>=1.0.1 in /opt/conda/envs/springboard/lib/python3.7/site-packages (from matplotlib==3.1.1->pdpbox) (1.1.0)\n",
      "Requirement already satisfied: pyparsing!=2.0.4,!=2.1.2,!=2.1.6,>=2.0.1 in /opt/conda/envs/springboard/lib/python3.7/site-packages (from matplotlib==3.1.1->pdpbox) (2.4.6)\n",
      "Requirement already satisfied: cycler>=0.10 in /opt/conda/envs/springboard/lib/python3.7/site-packages (from matplotlib==3.1.1->pdpbox) (0.10.0)\n",
      "Requirement already satisfied: six in /opt/conda/envs/springboard/lib/python3.7/site-packages (from cycler>=0.10->matplotlib==3.1.1->pdpbox) (1.14.0)\n",
      "Requirement already satisfied: setuptools in /opt/conda/envs/springboard/lib/python3.7/site-packages (from kiwisolver>=1.0.1->matplotlib==3.1.1->pdpbox) (49.6.0.post20210108)\n",
      "Requirement already satisfied: pytz>=2017.2 in /opt/conda/envs/springboard/lib/python3.7/site-packages (from pandas->pdpbox) (2019.3)\n",
      "Collecting sklearn\n",
      "  Downloading sklearn-0.0.post1.tar.gz (3.6 kB)\n",
      "Building wheels for collected packages: pdpbox, sklearn\n",
      "  Building wheel for pdpbox (setup.py) ... \u001b[?25ldone\n",
      "\u001b[?25h  Created wheel for pdpbox: filename=PDPbox-0.2.1-py3-none-any.whl size=35758225 sha256=0fa4fa1d213d40ae5124de0a0f879392ad57e913ad15ab780d3b2ba920dbea11\n",
      "  Stored in directory: /root/.cache/pip/wheels/f4/d0/1a/b80035625c53131f52906a6fc4dd690d8efd2bf8af6a4015eb\n",
      "  Building wheel for sklearn (setup.py) ... \u001b[?25ldone\n",
      "\u001b[?25h  Created wheel for sklearn: filename=sklearn-0.0.post1-py3-none-any.whl size=2343 sha256=5995a589581fc3e9bb0a52b5369d926001a10fe55c36c8ee66db9293832feb40\n",
      "  Stored in directory: /root/.cache/pip/wheels/42/56/cc/4a8bf86613aafd5b7f1b310477667c1fca5c51c3ae4124a003\n",
      "Successfully built pdpbox sklearn\n",
      "Installing collected packages: sklearn, matplotlib, pdpbox\n",
      "  Attempting uninstall: matplotlib\n",
      "    Found existing installation: matplotlib 3.1.3\n",
      "    Uninstalling matplotlib-3.1.3:\n",
      "      Successfully uninstalled matplotlib-3.1.3\n",
      "Successfully installed matplotlib-3.1.1 pdpbox-0.2.1 sklearn-0.0.post1\n"
     ]
    }
   ],
   "source": [
    "!apt-get update\n",
    "!apt-get install graphviz* -y\n",
    "\n",
    "! pip install dtreeviz\n",
    "! pip install pdpbox\n",
    "#pip install dtreeviz"
   ]
  },
  {
   "cell_type": "code",
   "execution_count": 3,
   "metadata": {
    "execution": {
     "iopub.execute_input": "2023-01-04T00:06:11.249481Z",
     "iopub.status.busy": "2023-01-04T00:06:11.249238Z",
     "iopub.status.idle": "2023-01-04T00:06:11.899508Z",
     "shell.execute_reply": "2023-01-04T00:06:11.898477Z",
     "shell.execute_reply.started": "2023-01-04T00:06:11.249416Z"
    }
   },
   "outputs": [],
   "source": [
    "import pandas as pd\n",
    "from sklearn.tree import DecisionTreeClassifier\n",
    "from sklearn.metrics import classification_report\n",
    "from sklearn.model_selection import train_test_split, RandomizedSearchCV\n",
    "from sklearn.model_selection import GridSearchCV"
   ]
  },
  {
   "cell_type": "code",
   "execution_count": 4,
   "metadata": {
    "execution": {
     "iopub.execute_input": "2023-01-04T00:06:11.901362Z",
     "iopub.status.busy": "2023-01-04T00:06:11.901102Z",
     "iopub.status.idle": "2023-01-04T00:06:12.187420Z",
     "shell.execute_reply": "2023-01-04T00:06:12.186231Z",
     "shell.execute_reply.started": "2023-01-04T00:06:11.901306Z"
    }
   },
   "outputs": [
    {
     "data": {
      "text/html": [
       "<div>\n",
       "<style scoped>\n",
       "    .dataframe tbody tr th:only-of-type {\n",
       "        vertical-align: middle;\n",
       "    }\n",
       "\n",
       "    .dataframe tbody tr th {\n",
       "        vertical-align: top;\n",
       "    }\n",
       "\n",
       "    .dataframe thead th {\n",
       "        text-align: right;\n",
       "    }\n",
       "</style>\n",
       "<table border=\"1\" class=\"dataframe\">\n",
       "  <thead>\n",
       "    <tr style=\"text-align: right;\">\n",
       "      <th></th>\n",
       "      <th>Duration</th>\n",
       "      <th>Amount</th>\n",
       "      <th>InstallmentRatePercentage</th>\n",
       "      <th>ResidenceDuration</th>\n",
       "      <th>Age</th>\n",
       "      <th>NumberExistingCredits</th>\n",
       "      <th>NumberPeopleMaintenance</th>\n",
       "      <th>Telephone</th>\n",
       "      <th>ForeignWorker</th>\n",
       "      <th>Class</th>\n",
       "      <th>...</th>\n",
       "      <th>OtherInstallmentPlans.Bank</th>\n",
       "      <th>OtherInstallmentPlans.Stores</th>\n",
       "      <th>OtherInstallmentPlans.None</th>\n",
       "      <th>Housing.Rent</th>\n",
       "      <th>Housing.Own</th>\n",
       "      <th>Housing.ForFree</th>\n",
       "      <th>Job.UnemployedUnskilled</th>\n",
       "      <th>Job.UnskilledResident</th>\n",
       "      <th>Job.SkilledEmployee</th>\n",
       "      <th>Job.Management.SelfEmp.HighlyQualified</th>\n",
       "    </tr>\n",
       "  </thead>\n",
       "  <tbody>\n",
       "    <tr>\n",
       "      <th>0</th>\n",
       "      <td>6</td>\n",
       "      <td>1169</td>\n",
       "      <td>4</td>\n",
       "      <td>4</td>\n",
       "      <td>67</td>\n",
       "      <td>2</td>\n",
       "      <td>1</td>\n",
       "      <td>0</td>\n",
       "      <td>1</td>\n",
       "      <td>Good</td>\n",
       "      <td>...</td>\n",
       "      <td>0</td>\n",
       "      <td>0</td>\n",
       "      <td>1</td>\n",
       "      <td>0</td>\n",
       "      <td>1</td>\n",
       "      <td>0</td>\n",
       "      <td>0</td>\n",
       "      <td>0</td>\n",
       "      <td>1</td>\n",
       "      <td>0</td>\n",
       "    </tr>\n",
       "    <tr>\n",
       "      <th>1</th>\n",
       "      <td>48</td>\n",
       "      <td>5951</td>\n",
       "      <td>2</td>\n",
       "      <td>2</td>\n",
       "      <td>22</td>\n",
       "      <td>1</td>\n",
       "      <td>1</td>\n",
       "      <td>1</td>\n",
       "      <td>1</td>\n",
       "      <td>Bad</td>\n",
       "      <td>...</td>\n",
       "      <td>0</td>\n",
       "      <td>0</td>\n",
       "      <td>1</td>\n",
       "      <td>0</td>\n",
       "      <td>1</td>\n",
       "      <td>0</td>\n",
       "      <td>0</td>\n",
       "      <td>0</td>\n",
       "      <td>1</td>\n",
       "      <td>0</td>\n",
       "    </tr>\n",
       "    <tr>\n",
       "      <th>2</th>\n",
       "      <td>12</td>\n",
       "      <td>2096</td>\n",
       "      <td>2</td>\n",
       "      <td>3</td>\n",
       "      <td>49</td>\n",
       "      <td>1</td>\n",
       "      <td>2</td>\n",
       "      <td>1</td>\n",
       "      <td>1</td>\n",
       "      <td>Good</td>\n",
       "      <td>...</td>\n",
       "      <td>0</td>\n",
       "      <td>0</td>\n",
       "      <td>1</td>\n",
       "      <td>0</td>\n",
       "      <td>1</td>\n",
       "      <td>0</td>\n",
       "      <td>0</td>\n",
       "      <td>1</td>\n",
       "      <td>0</td>\n",
       "      <td>0</td>\n",
       "    </tr>\n",
       "    <tr>\n",
       "      <th>3</th>\n",
       "      <td>42</td>\n",
       "      <td>7882</td>\n",
       "      <td>2</td>\n",
       "      <td>4</td>\n",
       "      <td>45</td>\n",
       "      <td>1</td>\n",
       "      <td>2</td>\n",
       "      <td>1</td>\n",
       "      <td>1</td>\n",
       "      <td>Good</td>\n",
       "      <td>...</td>\n",
       "      <td>0</td>\n",
       "      <td>0</td>\n",
       "      <td>1</td>\n",
       "      <td>0</td>\n",
       "      <td>0</td>\n",
       "      <td>1</td>\n",
       "      <td>0</td>\n",
       "      <td>0</td>\n",
       "      <td>1</td>\n",
       "      <td>0</td>\n",
       "    </tr>\n",
       "    <tr>\n",
       "      <th>4</th>\n",
       "      <td>24</td>\n",
       "      <td>4870</td>\n",
       "      <td>3</td>\n",
       "      <td>4</td>\n",
       "      <td>53</td>\n",
       "      <td>2</td>\n",
       "      <td>2</td>\n",
       "      <td>1</td>\n",
       "      <td>1</td>\n",
       "      <td>Bad</td>\n",
       "      <td>...</td>\n",
       "      <td>0</td>\n",
       "      <td>0</td>\n",
       "      <td>1</td>\n",
       "      <td>0</td>\n",
       "      <td>0</td>\n",
       "      <td>1</td>\n",
       "      <td>0</td>\n",
       "      <td>0</td>\n",
       "      <td>1</td>\n",
       "      <td>0</td>\n",
       "    </tr>\n",
       "  </tbody>\n",
       "</table>\n",
       "<p>5 rows × 62 columns</p>\n",
       "</div>"
      ],
      "text/plain": [
       "   Duration  Amount  InstallmentRatePercentage  ResidenceDuration  Age  \\\n",
       "0         6    1169                          4                  4   67   \n",
       "1        48    5951                          2                  2   22   \n",
       "2        12    2096                          2                  3   49   \n",
       "3        42    7882                          2                  4   45   \n",
       "4        24    4870                          3                  4   53   \n",
       "\n",
       "   NumberExistingCredits  NumberPeopleMaintenance  Telephone  ForeignWorker  \\\n",
       "0                      2                        1          0              1   \n",
       "1                      1                        1          1              1   \n",
       "2                      1                        2          1              1   \n",
       "3                      1                        2          1              1   \n",
       "4                      2                        2          1              1   \n",
       "\n",
       "  Class  ...  OtherInstallmentPlans.Bank  OtherInstallmentPlans.Stores  \\\n",
       "0  Good  ...                           0                             0   \n",
       "1   Bad  ...                           0                             0   \n",
       "2  Good  ...                           0                             0   \n",
       "3  Good  ...                           0                             0   \n",
       "4   Bad  ...                           0                             0   \n",
       "\n",
       "   OtherInstallmentPlans.None  Housing.Rent  Housing.Own  Housing.ForFree  \\\n",
       "0                           1             0            1                0   \n",
       "1                           1             0            1                0   \n",
       "2                           1             0            1                0   \n",
       "3                           1             0            0                1   \n",
       "4                           1             0            0                1   \n",
       "\n",
       "   Job.UnemployedUnskilled  Job.UnskilledResident  Job.SkilledEmployee  \\\n",
       "0                        0                      0                    1   \n",
       "1                        0                      0                    1   \n",
       "2                        0                      1                    0   \n",
       "3                        0                      0                    1   \n",
       "4                        0                      0                    1   \n",
       "\n",
       "   Job.Management.SelfEmp.HighlyQualified  \n",
       "0                                       0  \n",
       "1                                       0  \n",
       "2                                       0  \n",
       "3                                       0  \n",
       "4                                       0  \n",
       "\n",
       "[5 rows x 62 columns]"
      ]
     },
     "execution_count": 4,
     "metadata": {},
     "output_type": "execute_result"
    }
   ],
   "source": [
    "# Your code here! :)\n",
    "\n",
    "import numpy as np\n",
    "import matplotlib.pyplot as plt\n",
    "\n",
    "df = pd.read_csv(\"GermanCredit.csv.zip\")\n",
    "df.head()"
   ]
  },
  {
   "cell_type": "code",
   "execution_count": 5,
   "metadata": {
    "collapsed": false,
    "execution": {
     "iopub.execute_input": "2023-01-04T00:06:12.189607Z",
     "iopub.status.busy": "2023-01-04T00:06:12.189360Z",
     "iopub.status.idle": "2023-01-04T00:06:12.198837Z",
     "shell.execute_reply": "2023-01-04T00:06:12.197257Z",
     "shell.execute_reply.started": "2023-01-04T00:06:12.189558Z"
    },
    "jupyter": {
     "outputs_hidden": false
    }
   },
   "outputs": [
    {
     "data": {
      "text/plain": [
       "0      Good\n",
       "1       Bad\n",
       "2      Good\n",
       "3      Good\n",
       "4       Bad\n",
       "       ... \n",
       "995    Good\n",
       "996    Good\n",
       "997    Good\n",
       "998     Bad\n",
       "999    Good\n",
       "Name: Class, Length: 1000, dtype: object"
      ]
     },
     "execution_count": 5,
     "metadata": {},
     "output_type": "execute_result"
    }
   ],
   "source": [
    "df['Class']"
   ]
  },
  {
   "cell_type": "code",
   "execution_count": 6,
   "metadata": {
    "execution": {
     "iopub.execute_input": "2023-01-04T00:06:12.200915Z",
     "iopub.status.busy": "2023-01-04T00:06:12.200462Z",
     "iopub.status.idle": "2023-01-04T00:06:12.232206Z",
     "shell.execute_reply": "2023-01-04T00:06:12.231254Z",
     "shell.execute_reply.started": "2023-01-04T00:06:12.200830Z"
    }
   },
   "outputs": [
    {
     "data": {
      "text/plain": [
       "0       True\n",
       "1      False\n",
       "2       True\n",
       "3       True\n",
       "4      False\n",
       "       ...  \n",
       "995     True\n",
       "996     True\n",
       "997     True\n",
       "998    False\n",
       "999     True\n",
       "Name: Class, Length: 1000, dtype: bool"
      ]
     },
     "execution_count": 6,
     "metadata": {},
     "output_type": "execute_result"
    }
   ],
   "source": [
    "df['Class'] = df['Class'] == 'Good'\n",
    "df['Class']"
   ]
  },
  {
   "cell_type": "code",
   "execution_count": 7,
   "metadata": {
    "collapsed": false,
    "execution": {
     "iopub.execute_input": "2023-01-04T00:06:12.233499Z",
     "iopub.status.busy": "2023-01-04T00:06:12.233231Z",
     "iopub.status.idle": "2023-01-04T00:06:12.261937Z",
     "shell.execute_reply": "2023-01-04T00:06:12.260801Z",
     "shell.execute_reply.started": "2023-01-04T00:06:12.233428Z"
    },
    "jupyter": {
     "outputs_hidden": false
    }
   },
   "outputs": [
    {
     "data": {
      "text/plain": [
       "0      1\n",
       "1      0\n",
       "2      1\n",
       "3      1\n",
       "4      0\n",
       "      ..\n",
       "995    1\n",
       "996    1\n",
       "997    1\n",
       "998    0\n",
       "999    1\n",
       "Name: Class, Length: 1000, dtype: int64"
      ]
     },
     "execution_count": 7,
     "metadata": {},
     "output_type": "execute_result"
    }
   ],
   "source": [
    "df['Class'] = pd.to_numeric(df['Class']).dropna().astype(int)\n",
    "\n",
    "df[df.isna()].sum().sort_values(ascending=False)\n",
    "df['Class']"
   ]
  },
  {
   "cell_type": "code",
   "execution_count": 8,
   "metadata": {
    "execution": {
     "iopub.execute_input": "2023-01-04T00:06:12.263973Z",
     "iopub.status.busy": "2023-01-04T00:06:12.263606Z",
     "iopub.status.idle": "2023-01-04T00:06:12.268245Z",
     "shell.execute_reply": "2023-01-04T00:06:12.267209Z",
     "shell.execute_reply.started": "2023-01-04T00:06:12.263898Z"
    }
   },
   "outputs": [],
   "source": [
    "# Explore the data\n",
    "#df.hist(figsize=(20, 20))\n",
    "#plt.show()"
   ]
  },
  {
   "cell_type": "code",
   "execution_count": 9,
   "metadata": {
    "execution": {
     "iopub.execute_input": "2023-01-04T00:06:12.270047Z",
     "iopub.status.busy": "2023-01-04T00:06:12.269698Z",
     "iopub.status.idle": "2023-01-04T00:06:12.426817Z",
     "shell.execute_reply": "2023-01-04T00:06:12.425791Z",
     "shell.execute_reply.started": "2023-01-04T00:06:12.269975Z"
    }
   },
   "outputs": [
    {
     "data": {
      "text/html": [
       "<div>\n",
       "<style scoped>\n",
       "    .dataframe tbody tr th:only-of-type {\n",
       "        vertical-align: middle;\n",
       "    }\n",
       "\n",
       "    .dataframe tbody tr th {\n",
       "        vertical-align: top;\n",
       "    }\n",
       "\n",
       "    .dataframe thead th {\n",
       "        text-align: right;\n",
       "    }\n",
       "</style>\n",
       "<table border=\"1\" class=\"dataframe\">\n",
       "  <thead>\n",
       "    <tr style=\"text-align: right;\">\n",
       "      <th></th>\n",
       "      <th>Duration</th>\n",
       "      <th>Amount</th>\n",
       "      <th>InstallmentRatePercentage</th>\n",
       "      <th>ResidenceDuration</th>\n",
       "      <th>Age</th>\n",
       "      <th>NumberExistingCredits</th>\n",
       "      <th>NumberPeopleMaintenance</th>\n",
       "      <th>Telephone</th>\n",
       "      <th>ForeignWorker</th>\n",
       "      <th>Class</th>\n",
       "      <th>...</th>\n",
       "      <th>OtherInstallmentPlans.Bank</th>\n",
       "      <th>OtherInstallmentPlans.Stores</th>\n",
       "      <th>OtherInstallmentPlans.None</th>\n",
       "      <th>Housing.Rent</th>\n",
       "      <th>Housing.Own</th>\n",
       "      <th>Housing.ForFree</th>\n",
       "      <th>Job.UnemployedUnskilled</th>\n",
       "      <th>Job.UnskilledResident</th>\n",
       "      <th>Job.SkilledEmployee</th>\n",
       "      <th>Job.Management.SelfEmp.HighlyQualified</th>\n",
       "    </tr>\n",
       "  </thead>\n",
       "  <tbody>\n",
       "    <tr>\n",
       "      <th>count</th>\n",
       "      <td>1000.000000</td>\n",
       "      <td>1000.000000</td>\n",
       "      <td>1000.000000</td>\n",
       "      <td>1000.000000</td>\n",
       "      <td>1000.000000</td>\n",
       "      <td>1000.000000</td>\n",
       "      <td>1000.000000</td>\n",
       "      <td>1000.000000</td>\n",
       "      <td>1000.000000</td>\n",
       "      <td>1000.000000</td>\n",
       "      <td>...</td>\n",
       "      <td>1000.00000</td>\n",
       "      <td>1000.000000</td>\n",
       "      <td>1000.000000</td>\n",
       "      <td>1000.000000</td>\n",
       "      <td>1000.000000</td>\n",
       "      <td>1000.000000</td>\n",
       "      <td>1000.000000</td>\n",
       "      <td>1000.0000</td>\n",
       "      <td>1000.000000</td>\n",
       "      <td>1000.000000</td>\n",
       "    </tr>\n",
       "    <tr>\n",
       "      <th>mean</th>\n",
       "      <td>20.903000</td>\n",
       "      <td>3271.258000</td>\n",
       "      <td>2.973000</td>\n",
       "      <td>2.845000</td>\n",
       "      <td>35.546000</td>\n",
       "      <td>1.407000</td>\n",
       "      <td>1.155000</td>\n",
       "      <td>0.596000</td>\n",
       "      <td>0.963000</td>\n",
       "      <td>0.700000</td>\n",
       "      <td>...</td>\n",
       "      <td>0.13900</td>\n",
       "      <td>0.047000</td>\n",
       "      <td>0.814000</td>\n",
       "      <td>0.179000</td>\n",
       "      <td>0.713000</td>\n",
       "      <td>0.108000</td>\n",
       "      <td>0.022000</td>\n",
       "      <td>0.2000</td>\n",
       "      <td>0.630000</td>\n",
       "      <td>0.148000</td>\n",
       "    </tr>\n",
       "    <tr>\n",
       "      <th>std</th>\n",
       "      <td>12.058814</td>\n",
       "      <td>2822.736876</td>\n",
       "      <td>1.118715</td>\n",
       "      <td>1.103718</td>\n",
       "      <td>11.375469</td>\n",
       "      <td>0.577654</td>\n",
       "      <td>0.362086</td>\n",
       "      <td>0.490943</td>\n",
       "      <td>0.188856</td>\n",
       "      <td>0.458487</td>\n",
       "      <td>...</td>\n",
       "      <td>0.34612</td>\n",
       "      <td>0.211745</td>\n",
       "      <td>0.389301</td>\n",
       "      <td>0.383544</td>\n",
       "      <td>0.452588</td>\n",
       "      <td>0.310536</td>\n",
       "      <td>0.146757</td>\n",
       "      <td>0.4002</td>\n",
       "      <td>0.483046</td>\n",
       "      <td>0.355278</td>\n",
       "    </tr>\n",
       "    <tr>\n",
       "      <th>min</th>\n",
       "      <td>4.000000</td>\n",
       "      <td>250.000000</td>\n",
       "      <td>1.000000</td>\n",
       "      <td>1.000000</td>\n",
       "      <td>19.000000</td>\n",
       "      <td>1.000000</td>\n",
       "      <td>1.000000</td>\n",
       "      <td>0.000000</td>\n",
       "      <td>0.000000</td>\n",
       "      <td>0.000000</td>\n",
       "      <td>...</td>\n",
       "      <td>0.00000</td>\n",
       "      <td>0.000000</td>\n",
       "      <td>0.000000</td>\n",
       "      <td>0.000000</td>\n",
       "      <td>0.000000</td>\n",
       "      <td>0.000000</td>\n",
       "      <td>0.000000</td>\n",
       "      <td>0.0000</td>\n",
       "      <td>0.000000</td>\n",
       "      <td>0.000000</td>\n",
       "    </tr>\n",
       "    <tr>\n",
       "      <th>25%</th>\n",
       "      <td>12.000000</td>\n",
       "      <td>1365.500000</td>\n",
       "      <td>2.000000</td>\n",
       "      <td>2.000000</td>\n",
       "      <td>27.000000</td>\n",
       "      <td>1.000000</td>\n",
       "      <td>1.000000</td>\n",
       "      <td>0.000000</td>\n",
       "      <td>1.000000</td>\n",
       "      <td>0.000000</td>\n",
       "      <td>...</td>\n",
       "      <td>0.00000</td>\n",
       "      <td>0.000000</td>\n",
       "      <td>1.000000</td>\n",
       "      <td>0.000000</td>\n",
       "      <td>0.000000</td>\n",
       "      <td>0.000000</td>\n",
       "      <td>0.000000</td>\n",
       "      <td>0.0000</td>\n",
       "      <td>0.000000</td>\n",
       "      <td>0.000000</td>\n",
       "    </tr>\n",
       "    <tr>\n",
       "      <th>50%</th>\n",
       "      <td>18.000000</td>\n",
       "      <td>2319.500000</td>\n",
       "      <td>3.000000</td>\n",
       "      <td>3.000000</td>\n",
       "      <td>33.000000</td>\n",
       "      <td>1.000000</td>\n",
       "      <td>1.000000</td>\n",
       "      <td>1.000000</td>\n",
       "      <td>1.000000</td>\n",
       "      <td>1.000000</td>\n",
       "      <td>...</td>\n",
       "      <td>0.00000</td>\n",
       "      <td>0.000000</td>\n",
       "      <td>1.000000</td>\n",
       "      <td>0.000000</td>\n",
       "      <td>1.000000</td>\n",
       "      <td>0.000000</td>\n",
       "      <td>0.000000</td>\n",
       "      <td>0.0000</td>\n",
       "      <td>1.000000</td>\n",
       "      <td>0.000000</td>\n",
       "    </tr>\n",
       "    <tr>\n",
       "      <th>75%</th>\n",
       "      <td>24.000000</td>\n",
       "      <td>3972.250000</td>\n",
       "      <td>4.000000</td>\n",
       "      <td>4.000000</td>\n",
       "      <td>42.000000</td>\n",
       "      <td>2.000000</td>\n",
       "      <td>1.000000</td>\n",
       "      <td>1.000000</td>\n",
       "      <td>1.000000</td>\n",
       "      <td>1.000000</td>\n",
       "      <td>...</td>\n",
       "      <td>0.00000</td>\n",
       "      <td>0.000000</td>\n",
       "      <td>1.000000</td>\n",
       "      <td>0.000000</td>\n",
       "      <td>1.000000</td>\n",
       "      <td>0.000000</td>\n",
       "      <td>0.000000</td>\n",
       "      <td>0.0000</td>\n",
       "      <td>1.000000</td>\n",
       "      <td>0.000000</td>\n",
       "    </tr>\n",
       "    <tr>\n",
       "      <th>max</th>\n",
       "      <td>72.000000</td>\n",
       "      <td>18424.000000</td>\n",
       "      <td>4.000000</td>\n",
       "      <td>4.000000</td>\n",
       "      <td>75.000000</td>\n",
       "      <td>4.000000</td>\n",
       "      <td>2.000000</td>\n",
       "      <td>1.000000</td>\n",
       "      <td>1.000000</td>\n",
       "      <td>1.000000</td>\n",
       "      <td>...</td>\n",
       "      <td>1.00000</td>\n",
       "      <td>1.000000</td>\n",
       "      <td>1.000000</td>\n",
       "      <td>1.000000</td>\n",
       "      <td>1.000000</td>\n",
       "      <td>1.000000</td>\n",
       "      <td>1.000000</td>\n",
       "      <td>1.0000</td>\n",
       "      <td>1.000000</td>\n",
       "      <td>1.000000</td>\n",
       "    </tr>\n",
       "  </tbody>\n",
       "</table>\n",
       "<p>8 rows × 62 columns</p>\n",
       "</div>"
      ],
      "text/plain": [
       "          Duration        Amount  InstallmentRatePercentage  \\\n",
       "count  1000.000000   1000.000000                1000.000000   \n",
       "mean     20.903000   3271.258000                   2.973000   \n",
       "std      12.058814   2822.736876                   1.118715   \n",
       "min       4.000000    250.000000                   1.000000   \n",
       "25%      12.000000   1365.500000                   2.000000   \n",
       "50%      18.000000   2319.500000                   3.000000   \n",
       "75%      24.000000   3972.250000                   4.000000   \n",
       "max      72.000000  18424.000000                   4.000000   \n",
       "\n",
       "       ResidenceDuration          Age  NumberExistingCredits  \\\n",
       "count        1000.000000  1000.000000            1000.000000   \n",
       "mean            2.845000    35.546000               1.407000   \n",
       "std             1.103718    11.375469               0.577654   \n",
       "min             1.000000    19.000000               1.000000   \n",
       "25%             2.000000    27.000000               1.000000   \n",
       "50%             3.000000    33.000000               1.000000   \n",
       "75%             4.000000    42.000000               2.000000   \n",
       "max             4.000000    75.000000               4.000000   \n",
       "\n",
       "       NumberPeopleMaintenance    Telephone  ForeignWorker        Class  ...  \\\n",
       "count              1000.000000  1000.000000    1000.000000  1000.000000  ...   \n",
       "mean                  1.155000     0.596000       0.963000     0.700000  ...   \n",
       "std                   0.362086     0.490943       0.188856     0.458487  ...   \n",
       "min                   1.000000     0.000000       0.000000     0.000000  ...   \n",
       "25%                   1.000000     0.000000       1.000000     0.000000  ...   \n",
       "50%                   1.000000     1.000000       1.000000     1.000000  ...   \n",
       "75%                   1.000000     1.000000       1.000000     1.000000  ...   \n",
       "max                   2.000000     1.000000       1.000000     1.000000  ...   \n",
       "\n",
       "       OtherInstallmentPlans.Bank  OtherInstallmentPlans.Stores  \\\n",
       "count                  1000.00000                   1000.000000   \n",
       "mean                      0.13900                      0.047000   \n",
       "std                       0.34612                      0.211745   \n",
       "min                       0.00000                      0.000000   \n",
       "25%                       0.00000                      0.000000   \n",
       "50%                       0.00000                      0.000000   \n",
       "75%                       0.00000                      0.000000   \n",
       "max                       1.00000                      1.000000   \n",
       "\n",
       "       OtherInstallmentPlans.None  Housing.Rent  Housing.Own  Housing.ForFree  \\\n",
       "count                 1000.000000   1000.000000  1000.000000      1000.000000   \n",
       "mean                     0.814000      0.179000     0.713000         0.108000   \n",
       "std                      0.389301      0.383544     0.452588         0.310536   \n",
       "min                      0.000000      0.000000     0.000000         0.000000   \n",
       "25%                      1.000000      0.000000     0.000000         0.000000   \n",
       "50%                      1.000000      0.000000     1.000000         0.000000   \n",
       "75%                      1.000000      0.000000     1.000000         0.000000   \n",
       "max                      1.000000      1.000000     1.000000         1.000000   \n",
       "\n",
       "       Job.UnemployedUnskilled  Job.UnskilledResident  Job.SkilledEmployee  \\\n",
       "count              1000.000000              1000.0000          1000.000000   \n",
       "mean                  0.022000                 0.2000             0.630000   \n",
       "std                   0.146757                 0.4002             0.483046   \n",
       "min                   0.000000                 0.0000             0.000000   \n",
       "25%                   0.000000                 0.0000             0.000000   \n",
       "50%                   0.000000                 0.0000             1.000000   \n",
       "75%                   0.000000                 0.0000             1.000000   \n",
       "max                   1.000000                 1.0000             1.000000   \n",
       "\n",
       "       Job.Management.SelfEmp.HighlyQualified  \n",
       "count                             1000.000000  \n",
       "mean                                 0.148000  \n",
       "std                                  0.355278  \n",
       "min                                  0.000000  \n",
       "25%                                  0.000000  \n",
       "50%                                  0.000000  \n",
       "75%                                  0.000000  \n",
       "max                                  1.000000  \n",
       "\n",
       "[8 rows x 62 columns]"
      ]
     },
     "execution_count": 9,
     "metadata": {},
     "output_type": "execute_result"
    }
   ],
   "source": [
    "df.describe()"
   ]
  },
  {
   "cell_type": "code",
   "execution_count": 10,
   "metadata": {
    "execution": {
     "iopub.execute_input": "2023-01-04T00:06:12.429670Z",
     "iopub.status.busy": "2023-01-04T00:06:12.429421Z",
     "iopub.status.idle": "2023-01-04T00:06:12.467515Z",
     "shell.execute_reply": "2023-01-04T00:06:12.466799Z",
     "shell.execute_reply.started": "2023-01-04T00:06:12.429608Z"
    }
   },
   "outputs": [
    {
     "data": {
      "text/html": [
       "<div>\n",
       "<style scoped>\n",
       "    .dataframe tbody tr th:only-of-type {\n",
       "        vertical-align: middle;\n",
       "    }\n",
       "\n",
       "    .dataframe tbody tr th {\n",
       "        vertical-align: top;\n",
       "    }\n",
       "\n",
       "    .dataframe thead th {\n",
       "        text-align: right;\n",
       "    }\n",
       "</style>\n",
       "<table border=\"1\" class=\"dataframe\">\n",
       "  <thead>\n",
       "    <tr style=\"text-align: right;\">\n",
       "      <th></th>\n",
       "      <th>Duration</th>\n",
       "      <th>Amount</th>\n",
       "      <th>InstallmentRatePercentage</th>\n",
       "      <th>ResidenceDuration</th>\n",
       "      <th>Age</th>\n",
       "      <th>NumberExistingCredits</th>\n",
       "      <th>NumberPeopleMaintenance</th>\n",
       "      <th>Telephone</th>\n",
       "      <th>ForeignWorker</th>\n",
       "      <th>Class</th>\n",
       "      <th>...</th>\n",
       "      <th>OtherInstallmentPlans.Bank</th>\n",
       "      <th>OtherInstallmentPlans.Stores</th>\n",
       "      <th>OtherInstallmentPlans.None</th>\n",
       "      <th>Housing.Rent</th>\n",
       "      <th>Housing.Own</th>\n",
       "      <th>Housing.ForFree</th>\n",
       "      <th>Job.UnemployedUnskilled</th>\n",
       "      <th>Job.UnskilledResident</th>\n",
       "      <th>Job.SkilledEmployee</th>\n",
       "      <th>Job.Management.SelfEmp.HighlyQualified</th>\n",
       "    </tr>\n",
       "  </thead>\n",
       "  <tbody>\n",
       "    <tr>\n",
       "      <th>Duration</th>\n",
       "      <td>1.000000</td>\n",
       "      <td>0.624984</td>\n",
       "      <td>0.074749</td>\n",
       "      <td>0.034067</td>\n",
       "      <td>-0.036136</td>\n",
       "      <td>-0.011284</td>\n",
       "      <td>-0.023834</td>\n",
       "      <td>-0.164718</td>\n",
       "      <td>0.138196</td>\n",
       "      <td>-0.214927</td>\n",
       "      <td>...</td>\n",
       "      <td>0.035851</td>\n",
       "      <td>0.065688</td>\n",
       "      <td>-0.067602</td>\n",
       "      <td>-0.064417</td>\n",
       "      <td>-0.075169</td>\n",
       "      <td>0.189117</td>\n",
       "      <td>-0.044043</td>\n",
       "      <td>-0.181203</td>\n",
       "      <td>0.055010</td>\n",
       "      <td>0.147515</td>\n",
       "    </tr>\n",
       "    <tr>\n",
       "      <th>Amount</th>\n",
       "      <td>0.624984</td>\n",
       "      <td>1.000000</td>\n",
       "      <td>-0.271316</td>\n",
       "      <td>0.028926</td>\n",
       "      <td>0.032716</td>\n",
       "      <td>0.020795</td>\n",
       "      <td>0.017142</td>\n",
       "      <td>-0.276995</td>\n",
       "      <td>0.050050</td>\n",
       "      <td>-0.154739</td>\n",
       "      <td>...</td>\n",
       "      <td>0.039474</td>\n",
       "      <td>0.024262</td>\n",
       "      <td>-0.048292</td>\n",
       "      <td>-0.024611</td>\n",
       "      <td>-0.117497</td>\n",
       "      <td>0.201643</td>\n",
       "      <td>-0.027969</td>\n",
       "      <td>-0.161757</td>\n",
       "      <td>-0.092636</td>\n",
       "      <td>0.319715</td>\n",
       "    </tr>\n",
       "    <tr>\n",
       "      <th>InstallmentRatePercentage</th>\n",
       "      <td>0.074749</td>\n",
       "      <td>-0.271316</td>\n",
       "      <td>1.000000</td>\n",
       "      <td>0.049302</td>\n",
       "      <td>0.058266</td>\n",
       "      <td>0.021669</td>\n",
       "      <td>-0.071207</td>\n",
       "      <td>-0.014413</td>\n",
       "      <td>0.090024</td>\n",
       "      <td>-0.072404</td>\n",
       "      <td>...</td>\n",
       "      <td>-0.016150</td>\n",
       "      <td>0.056071</td>\n",
       "      <td>-0.016139</td>\n",
       "      <td>-0.091373</td>\n",
       "      <td>0.049922</td>\n",
       "      <td>0.040098</td>\n",
       "      <td>-0.087834</td>\n",
       "      <td>-0.057237</td>\n",
       "      <td>0.042623</td>\n",
       "      <td>0.042805</td>\n",
       "    </tr>\n",
       "    <tr>\n",
       "      <th>ResidenceDuration</th>\n",
       "      <td>0.034067</td>\n",
       "      <td>0.028926</td>\n",
       "      <td>0.049302</td>\n",
       "      <td>1.000000</td>\n",
       "      <td>0.266419</td>\n",
       "      <td>0.089625</td>\n",
       "      <td>0.042643</td>\n",
       "      <td>-0.095359</td>\n",
       "      <td>0.054097</td>\n",
       "      <td>-0.002967</td>\n",
       "      <td>...</td>\n",
       "      <td>0.014530</td>\n",
       "      <td>-0.054460</td>\n",
       "      <td>0.016704</td>\n",
       "      <td>0.167285</td>\n",
       "      <td>-0.297547</td>\n",
       "      <td>0.227044</td>\n",
       "      <td>-0.034545</td>\n",
       "      <td>0.009065</td>\n",
       "      <td>-0.000657</td>\n",
       "      <td>0.004952</td>\n",
       "    </tr>\n",
       "    <tr>\n",
       "      <th>Age</th>\n",
       "      <td>-0.036136</td>\n",
       "      <td>0.032716</td>\n",
       "      <td>0.058266</td>\n",
       "      <td>0.266419</td>\n",
       "      <td>1.000000</td>\n",
       "      <td>0.149254</td>\n",
       "      <td>0.118201</td>\n",
       "      <td>-0.145259</td>\n",
       "      <td>0.006151</td>\n",
       "      <td>0.091127</td>\n",
       "      <td>...</td>\n",
       "      <td>0.046552</td>\n",
       "      <td>-0.011080</td>\n",
       "      <td>-0.035362</td>\n",
       "      <td>-0.212620</td>\n",
       "      <td>0.006553</td>\n",
       "      <td>0.253058</td>\n",
       "      <td>0.059954</td>\n",
       "      <td>0.043712</td>\n",
       "      <td>-0.148283</td>\n",
       "      <td>0.127605</td>\n",
       "    </tr>\n",
       "    <tr>\n",
       "      <th>...</th>\n",
       "      <td>...</td>\n",
       "      <td>...</td>\n",
       "      <td>...</td>\n",
       "      <td>...</td>\n",
       "      <td>...</td>\n",
       "      <td>...</td>\n",
       "      <td>...</td>\n",
       "      <td>...</td>\n",
       "      <td>...</td>\n",
       "      <td>...</td>\n",
       "      <td>...</td>\n",
       "      <td>...</td>\n",
       "      <td>...</td>\n",
       "      <td>...</td>\n",
       "      <td>...</td>\n",
       "      <td>...</td>\n",
       "      <td>...</td>\n",
       "      <td>...</td>\n",
       "      <td>...</td>\n",
       "      <td>...</td>\n",
       "      <td>...</td>\n",
       "    </tr>\n",
       "    <tr>\n",
       "      <th>Housing.ForFree</th>\n",
       "      <td>0.189117</td>\n",
       "      <td>0.201643</td>\n",
       "      <td>0.040098</td>\n",
       "      <td>0.227044</td>\n",
       "      <td>0.253058</td>\n",
       "      <td>0.011406</td>\n",
       "      <td>0.118047</td>\n",
       "      <td>-0.114036</td>\n",
       "      <td>0.068205</td>\n",
       "      <td>-0.081556</td>\n",
       "      <td>...</td>\n",
       "      <td>0.074393</td>\n",
       "      <td>-0.031604</td>\n",
       "      <td>-0.048952</td>\n",
       "      <td>-0.162474</td>\n",
       "      <td>-0.548445</td>\n",
       "      <td>1.000000</td>\n",
       "      <td>0.035671</td>\n",
       "      <td>-0.109543</td>\n",
       "      <td>-0.033633</td>\n",
       "      <td>0.154388</td>\n",
       "    </tr>\n",
       "    <tr>\n",
       "      <th>Job.UnemployedUnskilled</th>\n",
       "      <td>-0.044043</td>\n",
       "      <td>-0.027969</td>\n",
       "      <td>-0.087834</td>\n",
       "      <td>-0.034545</td>\n",
       "      <td>0.059954</td>\n",
       "      <td>0.059582</td>\n",
       "      <td>-0.007723</td>\n",
       "      <td>0.040124</td>\n",
       "      <td>-0.042834</td>\n",
       "      <td>-0.005951</td>\n",
       "      <td>...</td>\n",
       "      <td>-0.001143</td>\n",
       "      <td>-0.033308</td>\n",
       "      <td>0.019133</td>\n",
       "      <td>0.018886</td>\n",
       "      <td>-0.040480</td>\n",
       "      <td>0.035671</td>\n",
       "      <td>1.000000</td>\n",
       "      <td>-0.074991</td>\n",
       "      <td>-0.195709</td>\n",
       "      <td>-0.062511</td>\n",
       "    </tr>\n",
       "    <tr>\n",
       "      <th>Job.UnskilledResident</th>\n",
       "      <td>-0.181203</td>\n",
       "      <td>-0.161757</td>\n",
       "      <td>-0.057237</td>\n",
       "      <td>0.009065</td>\n",
       "      <td>0.043712</td>\n",
       "      <td>-0.010392</td>\n",
       "      <td>0.145066</td>\n",
       "      <td>0.253720</td>\n",
       "      <td>-0.087412</td>\n",
       "      <td>0.021822</td>\n",
       "      <td>...</td>\n",
       "      <td>0.044805</td>\n",
       "      <td>0.030713</td>\n",
       "      <td>-0.056540</td>\n",
       "      <td>0.014347</td>\n",
       "      <td>0.063003</td>\n",
       "      <td>-0.109543</td>\n",
       "      <td>-0.074991</td>\n",
       "      <td>1.000000</td>\n",
       "      <td>-0.652438</td>\n",
       "      <td>-0.208392</td>\n",
       "    </tr>\n",
       "    <tr>\n",
       "      <th>Job.SkilledEmployee</th>\n",
       "      <td>0.055010</td>\n",
       "      <td>-0.092636</td>\n",
       "      <td>0.042623</td>\n",
       "      <td>-0.000657</td>\n",
       "      <td>-0.148283</td>\n",
       "      <td>-0.001471</td>\n",
       "      <td>-0.106737</td>\n",
       "      <td>0.061289</td>\n",
       "      <td>0.047292</td>\n",
       "      <td>0.013559</td>\n",
       "      <td>...</td>\n",
       "      <td>-0.075258</td>\n",
       "      <td>-0.035330</td>\n",
       "      <td>0.086127</td>\n",
       "      <td>0.012049</td>\n",
       "      <td>0.012866</td>\n",
       "      <td>-0.033633</td>\n",
       "      <td>-0.195709</td>\n",
       "      <td>-0.652438</td>\n",
       "      <td>1.000000</td>\n",
       "      <td>-0.543852</td>\n",
       "    </tr>\n",
       "    <tr>\n",
       "      <th>Job.Management.SelfEmp.HighlyQualified</th>\n",
       "      <td>0.147515</td>\n",
       "      <td>0.319715</td>\n",
       "      <td>0.042805</td>\n",
       "      <td>0.004952</td>\n",
       "      <td>0.127605</td>\n",
       "      <td>-0.010906</td>\n",
       "      <td>-0.015096</td>\n",
       "      <td>-0.385706</td>\n",
       "      <td>0.051858</td>\n",
       "      <td>-0.040559</td>\n",
       "      <td>...</td>\n",
       "      <td>0.052326</td>\n",
       "      <td>0.027198</td>\n",
       "      <td>-0.061315</td>\n",
       "      <td>-0.040344</td>\n",
       "      <td>-0.071741</td>\n",
       "      <td>0.154388</td>\n",
       "      <td>-0.062511</td>\n",
       "      <td>-0.208392</td>\n",
       "      <td>-0.543852</td>\n",
       "      <td>1.000000</td>\n",
       "    </tr>\n",
       "  </tbody>\n",
       "</table>\n",
       "<p>62 rows × 62 columns</p>\n",
       "</div>"
      ],
      "text/plain": [
       "                                        Duration    Amount  \\\n",
       "Duration                                1.000000  0.624984   \n",
       "Amount                                  0.624984  1.000000   \n",
       "InstallmentRatePercentage               0.074749 -0.271316   \n",
       "ResidenceDuration                       0.034067  0.028926   \n",
       "Age                                    -0.036136  0.032716   \n",
       "...                                          ...       ...   \n",
       "Housing.ForFree                         0.189117  0.201643   \n",
       "Job.UnemployedUnskilled                -0.044043 -0.027969   \n",
       "Job.UnskilledResident                  -0.181203 -0.161757   \n",
       "Job.SkilledEmployee                     0.055010 -0.092636   \n",
       "Job.Management.SelfEmp.HighlyQualified  0.147515  0.319715   \n",
       "\n",
       "                                        InstallmentRatePercentage  \\\n",
       "Duration                                                 0.074749   \n",
       "Amount                                                  -0.271316   \n",
       "InstallmentRatePercentage                                1.000000   \n",
       "ResidenceDuration                                        0.049302   \n",
       "Age                                                      0.058266   \n",
       "...                                                           ...   \n",
       "Housing.ForFree                                          0.040098   \n",
       "Job.UnemployedUnskilled                                 -0.087834   \n",
       "Job.UnskilledResident                                   -0.057237   \n",
       "Job.SkilledEmployee                                      0.042623   \n",
       "Job.Management.SelfEmp.HighlyQualified                   0.042805   \n",
       "\n",
       "                                        ResidenceDuration       Age  \\\n",
       "Duration                                         0.034067 -0.036136   \n",
       "Amount                                           0.028926  0.032716   \n",
       "InstallmentRatePercentage                        0.049302  0.058266   \n",
       "ResidenceDuration                                1.000000  0.266419   \n",
       "Age                                              0.266419  1.000000   \n",
       "...                                                   ...       ...   \n",
       "Housing.ForFree                                  0.227044  0.253058   \n",
       "Job.UnemployedUnskilled                         -0.034545  0.059954   \n",
       "Job.UnskilledResident                            0.009065  0.043712   \n",
       "Job.SkilledEmployee                             -0.000657 -0.148283   \n",
       "Job.Management.SelfEmp.HighlyQualified           0.004952  0.127605   \n",
       "\n",
       "                                        NumberExistingCredits  \\\n",
       "Duration                                            -0.011284   \n",
       "Amount                                               0.020795   \n",
       "InstallmentRatePercentage                            0.021669   \n",
       "ResidenceDuration                                    0.089625   \n",
       "Age                                                  0.149254   \n",
       "...                                                       ...   \n",
       "Housing.ForFree                                      0.011406   \n",
       "Job.UnemployedUnskilled                              0.059582   \n",
       "Job.UnskilledResident                               -0.010392   \n",
       "Job.SkilledEmployee                                 -0.001471   \n",
       "Job.Management.SelfEmp.HighlyQualified              -0.010906   \n",
       "\n",
       "                                        NumberPeopleMaintenance  Telephone  \\\n",
       "Duration                                              -0.023834  -0.164718   \n",
       "Amount                                                 0.017142  -0.276995   \n",
       "InstallmentRatePercentage                             -0.071207  -0.014413   \n",
       "ResidenceDuration                                      0.042643  -0.095359   \n",
       "Age                                                    0.118201  -0.145259   \n",
       "...                                                         ...        ...   \n",
       "Housing.ForFree                                        0.118047  -0.114036   \n",
       "Job.UnemployedUnskilled                               -0.007723   0.040124   \n",
       "Job.UnskilledResident                                  0.145066   0.253720   \n",
       "Job.SkilledEmployee                                   -0.106737   0.061289   \n",
       "Job.Management.SelfEmp.HighlyQualified                -0.015096  -0.385706   \n",
       "\n",
       "                                        ForeignWorker     Class  ...  \\\n",
       "Duration                                     0.138196 -0.214927  ...   \n",
       "Amount                                       0.050050 -0.154739  ...   \n",
       "InstallmentRatePercentage                    0.090024 -0.072404  ...   \n",
       "ResidenceDuration                            0.054097 -0.002967  ...   \n",
       "Age                                          0.006151  0.091127  ...   \n",
       "...                                               ...       ...  ...   \n",
       "Housing.ForFree                              0.068205 -0.081556  ...   \n",
       "Job.UnemployedUnskilled                     -0.042834 -0.005951  ...   \n",
       "Job.UnskilledResident                       -0.087412  0.021822  ...   \n",
       "Job.SkilledEmployee                          0.047292  0.013559  ...   \n",
       "Job.Management.SelfEmp.HighlyQualified       0.051858 -0.040559  ...   \n",
       "\n",
       "                                        OtherInstallmentPlans.Bank  \\\n",
       "Duration                                                  0.035851   \n",
       "Amount                                                    0.039474   \n",
       "InstallmentRatePercentage                                -0.016150   \n",
       "ResidenceDuration                                         0.014530   \n",
       "Age                                                       0.046552   \n",
       "...                                                            ...   \n",
       "Housing.ForFree                                           0.074393   \n",
       "Job.UnemployedUnskilled                                  -0.001143   \n",
       "Job.UnskilledResident                                     0.044805   \n",
       "Job.SkilledEmployee                                      -0.075258   \n",
       "Job.Management.SelfEmp.HighlyQualified                    0.052326   \n",
       "\n",
       "                                        OtherInstallmentPlans.Stores  \\\n",
       "Duration                                                    0.065688   \n",
       "Amount                                                      0.024262   \n",
       "InstallmentRatePercentage                                   0.056071   \n",
       "ResidenceDuration                                          -0.054460   \n",
       "Age                                                        -0.011080   \n",
       "...                                                              ...   \n",
       "Housing.ForFree                                            -0.031604   \n",
       "Job.UnemployedUnskilled                                    -0.033308   \n",
       "Job.UnskilledResident                                       0.030713   \n",
       "Job.SkilledEmployee                                        -0.035330   \n",
       "Job.Management.SelfEmp.HighlyQualified                      0.027198   \n",
       "\n",
       "                                        OtherInstallmentPlans.None  \\\n",
       "Duration                                                 -0.067602   \n",
       "Amount                                                   -0.048292   \n",
       "InstallmentRatePercentage                                -0.016139   \n",
       "ResidenceDuration                                         0.016704   \n",
       "Age                                                      -0.035362   \n",
       "...                                                            ...   \n",
       "Housing.ForFree                                          -0.048952   \n",
       "Job.UnemployedUnskilled                                   0.019133   \n",
       "Job.UnskilledResident                                    -0.056540   \n",
       "Job.SkilledEmployee                                       0.086127   \n",
       "Job.Management.SelfEmp.HighlyQualified                   -0.061315   \n",
       "\n",
       "                                        Housing.Rent  Housing.Own  \\\n",
       "Duration                                   -0.064417    -0.075169   \n",
       "Amount                                     -0.024611    -0.117497   \n",
       "InstallmentRatePercentage                  -0.091373     0.049922   \n",
       "ResidenceDuration                           0.167285    -0.297547   \n",
       "Age                                        -0.212620     0.006553   \n",
       "...                                              ...          ...   \n",
       "Housing.ForFree                            -0.162474    -0.548445   \n",
       "Job.UnemployedUnskilled                     0.018886    -0.040480   \n",
       "Job.UnskilledResident                       0.014347     0.063003   \n",
       "Job.SkilledEmployee                         0.012049     0.012866   \n",
       "Job.Management.SelfEmp.HighlyQualified     -0.040344    -0.071741   \n",
       "\n",
       "                                        Housing.ForFree  \\\n",
       "Duration                                       0.189117   \n",
       "Amount                                         0.201643   \n",
       "InstallmentRatePercentage                      0.040098   \n",
       "ResidenceDuration                              0.227044   \n",
       "Age                                            0.253058   \n",
       "...                                                 ...   \n",
       "Housing.ForFree                                1.000000   \n",
       "Job.UnemployedUnskilled                        0.035671   \n",
       "Job.UnskilledResident                         -0.109543   \n",
       "Job.SkilledEmployee                           -0.033633   \n",
       "Job.Management.SelfEmp.HighlyQualified         0.154388   \n",
       "\n",
       "                                        Job.UnemployedUnskilled  \\\n",
       "Duration                                              -0.044043   \n",
       "Amount                                                -0.027969   \n",
       "InstallmentRatePercentage                             -0.087834   \n",
       "ResidenceDuration                                     -0.034545   \n",
       "Age                                                    0.059954   \n",
       "...                                                         ...   \n",
       "Housing.ForFree                                        0.035671   \n",
       "Job.UnemployedUnskilled                                1.000000   \n",
       "Job.UnskilledResident                                 -0.074991   \n",
       "Job.SkilledEmployee                                   -0.195709   \n",
       "Job.Management.SelfEmp.HighlyQualified                -0.062511   \n",
       "\n",
       "                                        Job.UnskilledResident  \\\n",
       "Duration                                            -0.181203   \n",
       "Amount                                              -0.161757   \n",
       "InstallmentRatePercentage                           -0.057237   \n",
       "ResidenceDuration                                    0.009065   \n",
       "Age                                                  0.043712   \n",
       "...                                                       ...   \n",
       "Housing.ForFree                                     -0.109543   \n",
       "Job.UnemployedUnskilled                             -0.074991   \n",
       "Job.UnskilledResident                                1.000000   \n",
       "Job.SkilledEmployee                                 -0.652438   \n",
       "Job.Management.SelfEmp.HighlyQualified              -0.208392   \n",
       "\n",
       "                                        Job.SkilledEmployee  \\\n",
       "Duration                                           0.055010   \n",
       "Amount                                            -0.092636   \n",
       "InstallmentRatePercentage                          0.042623   \n",
       "ResidenceDuration                                 -0.000657   \n",
       "Age                                               -0.148283   \n",
       "...                                                     ...   \n",
       "Housing.ForFree                                   -0.033633   \n",
       "Job.UnemployedUnskilled                           -0.195709   \n",
       "Job.UnskilledResident                             -0.652438   \n",
       "Job.SkilledEmployee                                1.000000   \n",
       "Job.Management.SelfEmp.HighlyQualified            -0.543852   \n",
       "\n",
       "                                        Job.Management.SelfEmp.HighlyQualified  \n",
       "Duration                                                              0.147515  \n",
       "Amount                                                                0.319715  \n",
       "InstallmentRatePercentage                                             0.042805  \n",
       "ResidenceDuration                                                     0.004952  \n",
       "Age                                                                   0.127605  \n",
       "...                                                                        ...  \n",
       "Housing.ForFree                                                       0.154388  \n",
       "Job.UnemployedUnskilled                                              -0.062511  \n",
       "Job.UnskilledResident                                                -0.208392  \n",
       "Job.SkilledEmployee                                                  -0.543852  \n",
       "Job.Management.SelfEmp.HighlyQualified                                1.000000  \n",
       "\n",
       "[62 rows x 62 columns]"
      ]
     },
     "execution_count": 10,
     "metadata": {},
     "output_type": "execute_result"
    }
   ],
   "source": [
    "df.corr()"
   ]
  },
  {
   "cell_type": "code",
   "execution_count": 11,
   "metadata": {
    "collapsed": false,
    "execution": {
     "iopub.execute_input": "2023-01-04T00:06:12.469164Z",
     "iopub.status.busy": "2023-01-04T00:06:12.468934Z",
     "iopub.status.idle": "2023-01-04T00:06:12.490595Z",
     "shell.execute_reply": "2023-01-04T00:06:12.489746Z",
     "shell.execute_reply.started": "2023-01-04T00:06:12.469105Z"
    },
    "jupyter": {
     "outputs_hidden": false
    }
   },
   "outputs": [
    {
     "name": "stdout",
     "output_type": "stream",
     "text": [
      "<class 'pandas.core.frame.DataFrame'>\n",
      "RangeIndex: 1000 entries, 0 to 999\n",
      "Data columns (total 62 columns):\n",
      " #   Column                                  Non-Null Count  Dtype\n",
      "---  ------                                  --------------  -----\n",
      " 0   Duration                                1000 non-null   int64\n",
      " 1   Amount                                  1000 non-null   int64\n",
      " 2   InstallmentRatePercentage               1000 non-null   int64\n",
      " 3   ResidenceDuration                       1000 non-null   int64\n",
      " 4   Age                                     1000 non-null   int64\n",
      " 5   NumberExistingCredits                   1000 non-null   int64\n",
      " 6   NumberPeopleMaintenance                 1000 non-null   int64\n",
      " 7   Telephone                               1000 non-null   int64\n",
      " 8   ForeignWorker                           1000 non-null   int64\n",
      " 9   Class                                   1000 non-null   int64\n",
      " 10  CheckingAccountStatus.lt.0              1000 non-null   int64\n",
      " 11  CheckingAccountStatus.0.to.200          1000 non-null   int64\n",
      " 12  CheckingAccountStatus.gt.200            1000 non-null   int64\n",
      " 13  CheckingAccountStatus.none              1000 non-null   int64\n",
      " 14  CreditHistory.NoCredit.AllPaid          1000 non-null   int64\n",
      " 15  CreditHistory.ThisBank.AllPaid          1000 non-null   int64\n",
      " 16  CreditHistory.PaidDuly                  1000 non-null   int64\n",
      " 17  CreditHistory.Delay                     1000 non-null   int64\n",
      " 18  CreditHistory.Critical                  1000 non-null   int64\n",
      " 19  Purpose.NewCar                          1000 non-null   int64\n",
      " 20  Purpose.UsedCar                         1000 non-null   int64\n",
      " 21  Purpose.Furniture.Equipment             1000 non-null   int64\n",
      " 22  Purpose.Radio.Television                1000 non-null   int64\n",
      " 23  Purpose.DomesticAppliance               1000 non-null   int64\n",
      " 24  Purpose.Repairs                         1000 non-null   int64\n",
      " 25  Purpose.Education                       1000 non-null   int64\n",
      " 26  Purpose.Vacation                        1000 non-null   int64\n",
      " 27  Purpose.Retraining                      1000 non-null   int64\n",
      " 28  Purpose.Business                        1000 non-null   int64\n",
      " 29  Purpose.Other                           1000 non-null   int64\n",
      " 30  SavingsAccountBonds.lt.100              1000 non-null   int64\n",
      " 31  SavingsAccountBonds.100.to.500          1000 non-null   int64\n",
      " 32  SavingsAccountBonds.500.to.1000         1000 non-null   int64\n",
      " 33  SavingsAccountBonds.gt.1000             1000 non-null   int64\n",
      " 34  SavingsAccountBonds.Unknown             1000 non-null   int64\n",
      " 35  EmploymentDuration.lt.1                 1000 non-null   int64\n",
      " 36  EmploymentDuration.1.to.4               1000 non-null   int64\n",
      " 37  EmploymentDuration.4.to.7               1000 non-null   int64\n",
      " 38  EmploymentDuration.gt.7                 1000 non-null   int64\n",
      " 39  EmploymentDuration.Unemployed           1000 non-null   int64\n",
      " 40  Personal.Male.Divorced.Seperated        1000 non-null   int64\n",
      " 41  Personal.Female.NotSingle               1000 non-null   int64\n",
      " 42  Personal.Male.Single                    1000 non-null   int64\n",
      " 43  Personal.Male.Married.Widowed           1000 non-null   int64\n",
      " 44  Personal.Female.Single                  1000 non-null   int64\n",
      " 45  OtherDebtorsGuarantors.None             1000 non-null   int64\n",
      " 46  OtherDebtorsGuarantors.CoApplicant      1000 non-null   int64\n",
      " 47  OtherDebtorsGuarantors.Guarantor        1000 non-null   int64\n",
      " 48  Property.RealEstate                     1000 non-null   int64\n",
      " 49  Property.Insurance                      1000 non-null   int64\n",
      " 50  Property.CarOther                       1000 non-null   int64\n",
      " 51  Property.Unknown                        1000 non-null   int64\n",
      " 52  OtherInstallmentPlans.Bank              1000 non-null   int64\n",
      " 53  OtherInstallmentPlans.Stores            1000 non-null   int64\n",
      " 54  OtherInstallmentPlans.None              1000 non-null   int64\n",
      " 55  Housing.Rent                            1000 non-null   int64\n",
      " 56  Housing.Own                             1000 non-null   int64\n",
      " 57  Housing.ForFree                         1000 non-null   int64\n",
      " 58  Job.UnemployedUnskilled                 1000 non-null   int64\n",
      " 59  Job.UnskilledResident                   1000 non-null   int64\n",
      " 60  Job.SkilledEmployee                     1000 non-null   int64\n",
      " 61  Job.Management.SelfEmp.HighlyQualified  1000 non-null   int64\n",
      "dtypes: int64(62)\n",
      "memory usage: 484.5 KB\n"
     ]
    }
   ],
   "source": [
    "df.info()"
   ]
  },
  {
   "cell_type": "code",
   "execution_count": 12,
   "metadata": {
    "collapsed": false,
    "execution": {
     "iopub.execute_input": "2023-01-04T00:06:12.491852Z",
     "iopub.status.busy": "2023-01-04T00:06:12.491641Z",
     "iopub.status.idle": "2023-01-04T00:06:12.495327Z",
     "shell.execute_reply": "2023-01-04T00:06:12.494504Z",
     "shell.execute_reply.started": "2023-01-04T00:06:12.491798Z"
    },
    "jupyter": {
     "outputs_hidden": false
    }
   },
   "outputs": [],
   "source": [
    "model = DecisionTreeClassifier()"
   ]
  },
  {
   "cell_type": "code",
   "execution_count": 13,
   "metadata": {
    "collapsed": false,
    "execution": {
     "iopub.execute_input": "2023-01-04T00:06:12.496866Z",
     "iopub.status.busy": "2023-01-04T00:06:12.496652Z",
     "iopub.status.idle": "2023-01-04T00:06:12.502853Z",
     "shell.execute_reply": "2023-01-04T00:06:12.501994Z",
     "shell.execute_reply.started": "2023-01-04T00:06:12.496820Z"
    },
    "jupyter": {
     "outputs_hidden": false
    }
   },
   "outputs": [
    {
     "name": "stdout",
     "output_type": "stream",
     "text": [
      "(1000, 61) (1000,)\n"
     ]
    }
   ],
   "source": [
    "y = df[\"Class\"].copy()\n",
    "#X = df[['Housing.Rent','Housing.ForFree']].copy()\n",
    "X = df.drop(\"Class\", axis=1)\n",
    "X_columns = X.columns\n",
    "print(X.shape, y.shape)"
   ]
  },
  {
   "cell_type": "code",
   "execution_count": 14,
   "metadata": {
    "execution": {
     "iopub.execute_input": "2023-01-04T00:06:12.504028Z",
     "iopub.status.busy": "2023-01-04T00:06:12.503819Z",
     "iopub.status.idle": "2023-01-04T00:06:12.512948Z",
     "shell.execute_reply": "2023-01-04T00:06:12.512334Z",
     "shell.execute_reply.started": "2023-01-04T00:06:12.503981Z"
    }
   },
   "outputs": [
    {
     "data": {
      "text/plain": [
       "((700, 61), (300, 61), (700,), (300,))"
      ]
     },
     "execution_count": 14,
     "metadata": {},
     "output_type": "execute_result"
    }
   ],
   "source": [
    "# Create training and test sets\n",
    "X_train, X_test, y_train, y_test = train_test_split(X, y, test_size=.3, random_state=42)\n",
    "X_train.shape, X_test.shape, y_train.shape, y_test.shape"
   ]
  },
  {
   "cell_type": "code",
   "execution_count": 15,
   "metadata": {
    "execution": {
     "iopub.execute_input": "2023-01-04T00:06:12.514220Z",
     "iopub.status.busy": "2023-01-04T00:06:12.513937Z",
     "iopub.status.idle": "2023-01-04T00:06:13.369364Z",
     "shell.execute_reply": "2023-01-04T00:06:13.368324Z",
     "shell.execute_reply.started": "2023-01-04T00:06:12.514149Z"
    }
   },
   "outputs": [
    {
     "name": "stdout",
     "output_type": "stream",
     "text": [
      "Fitting 3 folds for each of 1 candidates, totalling 3 fits\n"
     ]
    },
    {
     "name": "stderr",
     "output_type": "stream",
     "text": [
      "[Parallel(n_jobs=3)]: Using backend LokyBackend with 3 concurrent workers.\n",
      "[Parallel(n_jobs=3)]: Done   3 out of   3 | elapsed:    0.8s finished\n"
     ]
    },
    {
     "data": {
      "text/plain": [
       "GridSearchCV(cv=3, error_score=nan,\n",
       "             estimator=DecisionTreeClassifier(ccp_alpha=0.0, class_weight=None,\n",
       "                                              criterion='gini', max_depth=None,\n",
       "                                              max_features=None,\n",
       "                                              max_leaf_nodes=None,\n",
       "                                              min_impurity_decrease=0.0,\n",
       "                                              min_impurity_split=None,\n",
       "                                              min_samples_leaf=1,\n",
       "                                              min_samples_split=2,\n",
       "                                              min_weight_fraction_leaf=0.0,\n",
       "                                              presort='deprecated',\n",
       "                                              random_state=None,\n",
       "                                              splitter='best'),\n",
       "             iid='deprecated', n_jobs=3, param_grid={}, pre_dispatch='2*n_jobs',\n",
       "             refit=True, return_train_score=True, scoring='r2', verbose=1)"
      ]
     },
     "execution_count": 15,
     "metadata": {},
     "output_type": "execute_result"
    }
   ],
   "source": [
    "param_options = {}\n",
    "\n",
    "crossval_runner = GridSearchCV(\n",
    "    estimator=model,\n",
    "    param_grid=param_options,\n",
    "    cv=3, n_jobs=3,  # get the AVX/AVX2 info if use n_jobs > 2\n",
    "    verbose=1, scoring='r2',\n",
    "    refit=True,\n",
    "    return_train_score=True,  #n_iter=n_iter,\n",
    ")\n",
    "\n",
    "crossval_runner.fit(X_train, y_train)"
   ]
  },
  {
   "cell_type": "code",
   "execution_count": 16,
   "metadata": {
    "collapsed": false,
    "execution": {
     "iopub.execute_input": "2023-01-04T00:06:13.370920Z",
     "iopub.status.busy": "2023-01-04T00:06:13.370734Z",
     "iopub.status.idle": "2023-01-04T00:06:13.378959Z",
     "shell.execute_reply": "2023-01-04T00:06:13.378199Z",
     "shell.execute_reply.started": "2023-01-04T00:06:13.370867Z"
    },
    "jupyter": {
     "outputs_hidden": false
    }
   },
   "outputs": [
    {
     "data": {
      "text/plain": [
       "DecisionTreeClassifier(ccp_alpha=0.0, class_weight=None, criterion='gini',\n",
       "                       max_depth=None, max_features=None, max_leaf_nodes=None,\n",
       "                       min_impurity_decrease=0.0, min_impurity_split=None,\n",
       "                       min_samples_leaf=1, min_samples_split=2,\n",
       "                       min_weight_fraction_leaf=0.0, presort='deprecated',\n",
       "                       random_state=None, splitter='best')"
      ]
     },
     "execution_count": 16,
     "metadata": {},
     "output_type": "execute_result"
    }
   ],
   "source": [
    "crossval_runner.best_estimator_"
   ]
  },
  {
   "cell_type": "code",
   "execution_count": null,
   "metadata": {},
   "outputs": [],
   "source": []
  },
  {
   "cell_type": "code",
   "execution_count": 54,
   "metadata": {
    "execution": {
     "iopub.execute_input": "2023-01-04T00:25:15.749869Z",
     "iopub.status.busy": "2023-01-04T00:25:15.749240Z",
     "iopub.status.idle": "2023-01-04T00:25:15.774992Z",
     "shell.execute_reply": "2023-01-04T00:25:15.773406Z",
     "shell.execute_reply.started": "2023-01-04T00:25:15.749801Z"
    }
   },
   "outputs": [
    {
     "name": "stdout",
     "output_type": "stream",
     "text": [
      "Confusion Matrix :\n",
      "[[ 46  45]\n",
      " [ 53 156]]\n",
      "Accuracy Score : 0.6733333333333333\n",
      "Report : \n",
      "              precision    recall  f1-score   support\n",
      "\n",
      "           0       0.46      0.51      0.48        91\n",
      "           1       0.78      0.75      0.76       209\n",
      "\n",
      "    accuracy                           0.67       300\n",
      "   macro avg       0.62      0.63      0.62       300\n",
      "weighted avg       0.68      0.67      0.68       300\n",
      "\n"
     ]
    }
   ],
   "source": [
    "# Predict on the test data: y_pred\n",
    "y_pred = crossval_runner.best_estimator_.predict(X_test)\n",
    "y_pred\n",
    "\n",
    "from sklearn.metrics import accuracy_score, recall_score, precision_score, confusion_matrix\n",
    "\n",
    "print ('Confusion Matrix :')\n",
    "print(confusion_matrix(y_test, y_pred))\n",
    "print ('Accuracy Score :',accuracy_score(y_test, y_pred))\n",
    "print ('Report : ')\n",
    "print (classification_report(y_test, y_pred))\n"
   ]
  },
  {
   "cell_type": "markdown",
   "metadata": {},
   "source": [
    "### After you've built the best model you can, now it's time to visualize it!"
   ]
  },
  {
   "cell_type": "markdown",
   "metadata": {},
   "source": [
    "Rememeber that amazing blog post from a few paragraphs ago, that demonstrated how to visualize and interpret the results of your Decision Tree model. We've seen that this can perform very well, but let's see how it does on the \"German Credit\" dataset that we're working on, due to it being a bit larger than the one used by the blog authors."
   ]
  },
  {
   "cell_type": "markdown",
   "metadata": {},
   "source": [
    "First, we're going to need to install their package. If you're using Anaconda, this can be done easily by running:"
   ]
  },
  {
   "cell_type": "code",
   "execution_count": null,
   "metadata": {},
   "outputs": [],
   "source": []
  },
  {
   "cell_type": "markdown",
   "metadata": {},
   "source": [
    "If for any reason this way of installing doesn't work for you straight out of the box, please refer to the more detailed documentation here: https://github.com/parrt/dtreeviz"
   ]
  },
  {
   "cell_type": "markdown",
   "metadata": {},
   "source": [
    "Now you're ready to visualize your Decision Tree model! Please feel free to use the blog post for guidance and inspiration!"
   ]
  },
  {
   "cell_type": "code",
   "execution_count": 18,
   "metadata": {
    "execution": {
     "iopub.execute_input": "2023-01-04T00:06:13.391524Z",
     "iopub.status.busy": "2023-01-04T00:06:13.391308Z",
     "iopub.status.idle": "2023-01-04T00:06:13.401825Z",
     "shell.execute_reply": "2023-01-04T00:06:13.401110Z",
     "shell.execute_reply.started": "2023-01-04T00:06:13.391454Z"
    }
   },
   "outputs": [
    {
     "name": "stdout",
     "output_type": "stream",
     "text": [
      "[['Bad']\n",
      " ['Good']]\n",
      "[1. 0. 1. 1. 0.]\n"
     ]
    }
   ],
   "source": [
    "from numpy import asarray\n",
    "from sklearn.preprocessing import OrdinalEncoder\n",
    "\n",
    "# define data\n",
    "data = asarray([['Bad'], ['Good']])\n",
    "print(data)\n",
    "# define ordinal encoding\n",
    "encoder = OrdinalEncoder()\n",
    "# transform data\n",
    "y_numeric = encoder.fit_transform(df[[\"Class\"]]).flatten()\n",
    "print(y_numeric[:5])"
   ]
  },
  {
   "cell_type": "code",
   "execution_count": 19,
   "metadata": {
    "execution": {
     "iopub.execute_input": "2023-01-04T00:06:13.402995Z",
     "iopub.status.busy": "2023-01-04T00:06:13.402749Z",
     "iopub.status.idle": "2023-01-04T00:06:13.566331Z",
     "shell.execute_reply": "2023-01-04T00:06:13.564825Z",
     "shell.execute_reply.started": "2023-01-04T00:06:13.402903Z"
    }
   },
   "outputs": [
    {
     "ename": "NameError",
     "evalue": "name 'dtreeviz' is not defined",
     "output_type": "error",
     "traceback": [
      "\u001b[0;31m---------------------------------------------------------------------------\u001b[0m",
      "\u001b[0;31mNameError\u001b[0m                                 Traceback (most recent call last)",
      "\u001b[0;32m<ipython-input-19-ce7513d9c3e7>\u001b[0m in \u001b[0;36m<module>\u001b[0;34m\u001b[0m\n\u001b[1;32m      1\u001b[0m \u001b[0;32mfrom\u001b[0m \u001b[0mdtreeviz\u001b[0m\u001b[0;34m.\u001b[0m\u001b[0mtrees\u001b[0m \u001b[0;32mimport\u001b[0m \u001b[0;34m*\u001b[0m\u001b[0;34m\u001b[0m\u001b[0;34m\u001b[0m\u001b[0m\n\u001b[1;32m      2\u001b[0m \u001b[0;34m\u001b[0m\u001b[0m\n\u001b[0;32m----> 3\u001b[0;31m viz = dtreeviz(crossval_runner.best_estimator_,\n\u001b[0m\u001b[1;32m      4\u001b[0m                \u001b[0mX\u001b[0m\u001b[0;34m,\u001b[0m\u001b[0;34m\u001b[0m\u001b[0;34m\u001b[0m\u001b[0m\n\u001b[1;32m      5\u001b[0m                \u001b[0my_numeric\u001b[0m\u001b[0;34m,\u001b[0m\u001b[0;34m\u001b[0m\u001b[0;34m\u001b[0m\u001b[0m\n",
      "\u001b[0;31mNameError\u001b[0m: name 'dtreeviz' is not defined"
     ]
    }
   ],
   "source": [
    "from dtreeviz.trees import *\n",
    "\n",
    "viz = dtreeviz(crossval_runner.best_estimator_,\n",
    "               X,\n",
    "               y_numeric,\n",
    "               target_name='Class',\n",
    "               #class_names=[\"Good\", \"Bad\"],\n",
    "               class_names=[0,1],\n",
    "               feature_names=X.columns\n",
    "               )\n",
    "#viz.view()"
   ]
  },
  {
   "cell_type": "code",
   "execution_count": null,
   "metadata": {
    "collapsed": false,
    "execution": {
     "iopub.status.busy": "2023-01-04T00:06:13.567235Z",
     "iopub.status.idle": "2023-01-04T00:06:13.567616Z",
     "shell.execute_reply": "2023-01-04T00:06:13.567406Z"
    },
    "jupyter": {
     "outputs_hidden": false
    }
   },
   "outputs": [],
   "source": [
    "viz.save('file2.svg')"
   ]
  },
  {
   "cell_type": "markdown",
   "metadata": {},
   "source": [
    "## Random Forests"
   ]
  },
  {
   "cell_type": "markdown",
   "metadata": {},
   "source": [
    "As discussed in the lecture videos, Decision Tree algorithms also have certain undesireable properties. Mainly the have low bias, which is good, but tend to have high variance - which is *not* so good (more about this problem here: https://en.wikipedia.org/wiki/Bias%E2%80%93variance_tradeoff)."
   ]
  },
  {
   "cell_type": "markdown",
   "metadata": {},
   "source": [
    "Noticing these problems, the late Professor Leo Breiman, in 2001, developed the Random Forests algorithm, which mitigates these problems, while at the same time providing even higher predictive accuracy than the majority of Decision Tree algorithm implementations. While the curriculum contains two excellent lectures on Random Forests, if you're interested, you can dive into the original paper here: https://link.springer.com/content/pdf/10.1023%2FA%3A1010933404324.pdf."
   ]
  },
  {
   "cell_type": "markdown",
   "metadata": {},
   "source": [
    "In the next part of this assignment, your are going to use the same \"German Credit\" dataset to train, tune, and measure the performance of a Random Forests model. You will also see certain functionalities that this model, even though it's a bit of a \"black box\", provides for some degree of interpretability."
   ]
  },
  {
   "cell_type": "markdown",
   "metadata": {},
   "source": [
    "First, let's build a Random Forests model, using the same best practices that you've used for your Decision Trees model. You can reuse the things you've already imported there, so no need to do any re-imports, new train/test splits, or loading up the data again."
   ]
  },
  {
   "cell_type": "code",
   "execution_count": 20,
   "metadata": {
    "execution": {
     "iopub.execute_input": "2023-01-04T00:07:28.369975Z",
     "iopub.status.busy": "2023-01-04T00:07:28.369639Z",
     "iopub.status.idle": "2023-01-04T00:07:28.383601Z",
     "shell.execute_reply": "2023-01-04T00:07:28.382772Z",
     "shell.execute_reply.started": "2023-01-04T00:07:28.369899Z"
    }
   },
   "outputs": [],
   "source": [
    "#from sklearn.ensemble import RandomForestClassifier\n",
    "from sklearn.ensemble import GradientBoostingClassifier"
   ]
  },
  {
   "cell_type": "code",
   "execution_count": 21,
   "metadata": {
    "execution": {
     "iopub.execute_input": "2023-01-04T00:07:28.384840Z",
     "iopub.status.busy": "2023-01-04T00:07:28.384644Z",
     "iopub.status.idle": "2023-01-04T00:07:28.752538Z",
     "shell.execute_reply": "2023-01-04T00:07:28.751685Z",
     "shell.execute_reply.started": "2023-01-04T00:07:28.384799Z"
    }
   },
   "outputs": [
    {
     "name": "stdout",
     "output_type": "stream",
     "text": [
      "Fitting 3 folds for each of 1 candidates, totalling 3 fits\n"
     ]
    },
    {
     "name": "stderr",
     "output_type": "stream",
     "text": [
      "[Parallel(n_jobs=3)]: Using backend LokyBackend with 3 concurrent workers.\n",
      "[Parallel(n_jobs=3)]: Done   3 out of   3 | elapsed:    0.2s finished\n"
     ]
    },
    {
     "data": {
      "text/plain": [
       "GridSearchCV(cv=3, error_score=nan,\n",
       "             estimator=GradientBoostingClassifier(ccp_alpha=0.0,\n",
       "                                                  criterion='friedman_mse',\n",
       "                                                  init=None, learning_rate=0.1,\n",
       "                                                  loss='deviance', max_depth=3,\n",
       "                                                  max_features=None,\n",
       "                                                  max_leaf_nodes=None,\n",
       "                                                  min_impurity_decrease=0.0,\n",
       "                                                  min_impurity_split=None,\n",
       "                                                  min_samples_leaf=1,\n",
       "                                                  min_samples_split=2,\n",
       "                                                  min_weight_fraction_leaf=0.0,\n",
       "                                                  n_estimators=100,\n",
       "                                                  n_iter_no_change=None,\n",
       "                                                  presort='deprecated',\n",
       "                                                  random_state=0, subsample=1.0,\n",
       "                                                  tol=0.0001,\n",
       "                                                  validation_fraction=0.1,\n",
       "                                                  verbose=0, warm_start=False),\n",
       "             iid='deprecated', n_jobs=3, param_grid={}, pre_dispatch='2*n_jobs',\n",
       "             refit=True, return_train_score=True, scoring='r2', verbose=1)"
      ]
     },
     "execution_count": 21,
     "metadata": {},
     "output_type": "execute_result"
    }
   ],
   "source": [
    "# Your code here! :)\n",
    "\n",
    "# create classifier object\n",
    "model = GradientBoostingClassifier(n_estimators=100, random_state=0)\n",
    "\n",
    "crossval_runner2 = GridSearchCV(\n",
    "    estimator=model,\n",
    "    param_grid=param_options,\n",
    "    cv=3, n_jobs=3,  # get the AVX/AVX2 info if use n_jobs > 2\n",
    "    verbose=1, scoring='r2',\n",
    "    refit=True,\n",
    "    return_train_score=True,\n",
    ")\n",
    "\n",
    "crossval_runner2.fit(X_train, y_train)\n"
   ]
  },
  {
   "cell_type": "code",
   "execution_count": 22,
   "metadata": {
    "collapsed": false,
    "execution": {
     "iopub.execute_input": "2023-01-04T00:07:28.754477Z",
     "iopub.status.busy": "2023-01-04T00:07:28.754119Z",
     "iopub.status.idle": "2023-01-04T00:07:28.767665Z",
     "shell.execute_reply": "2023-01-04T00:07:28.766111Z",
     "shell.execute_reply.started": "2023-01-04T00:07:28.754405Z"
    },
    "jupyter": {
     "outputs_hidden": false
    }
   },
   "outputs": [
    {
     "ename": "NameError",
     "evalue": "name 'dtreeviz' is not defined",
     "output_type": "error",
     "traceback": [
      "\u001b[0;31m---------------------------------------------------------------------------\u001b[0m",
      "\u001b[0;31mNameError\u001b[0m                                 Traceback (most recent call last)",
      "\u001b[0;32m<ipython-input-22-27d51c6c8be1>\u001b[0m in \u001b[0;36m<module>\u001b[0;34m\u001b[0m\n\u001b[1;32m      1\u001b[0m \u001b[0;32mtry\u001b[0m\u001b[0;34m:\u001b[0m\u001b[0;34m\u001b[0m\u001b[0;34m\u001b[0m\u001b[0m\n\u001b[0;32m----> 2\u001b[0;31m     viz = dtreeviz(crossval_runner2.best_estimator_,\n\u001b[0m\u001b[1;32m      3\u001b[0m                    \u001b[0mX\u001b[0m\u001b[0;34m,\u001b[0m\u001b[0;34m\u001b[0m\u001b[0;34m\u001b[0m\u001b[0m\n\u001b[1;32m      4\u001b[0m                    \u001b[0my_numeric\u001b[0m\u001b[0;34m,\u001b[0m\u001b[0;34m\u001b[0m\u001b[0;34m\u001b[0m\u001b[0m\n\u001b[1;32m      5\u001b[0m                    \u001b[0mtarget_name\u001b[0m\u001b[0;34m=\u001b[0m\u001b[0;34m'Class'\u001b[0m\u001b[0;34m,\u001b[0m\u001b[0;34m\u001b[0m\u001b[0;34m\u001b[0m\u001b[0m\n",
      "\u001b[0;31mNameError\u001b[0m: name 'dtreeviz' is not defined"
     ]
    }
   ],
   "source": [
    "try:\n",
    "    viz = dtreeviz(crossval_runner2.best_estimator_,\n",
    "                   X,\n",
    "                   y_numeric,\n",
    "                   target_name='Class',\n",
    "                   class_names=[\"Good\", \"Bad\"],\n",
    "                   feature_names=X.columns\n",
    "                   )\n",
    "    viz.view()\n",
    "except ValueError as e:\n",
    "    print(\"It's not possible to use dtreevizs with a RandomForest. \", e)"
   ]
  },
  {
   "cell_type": "markdown",
   "metadata": {},
   "source": [
    "As mentioned, there are certain ways to \"peek\" into a model created by the Random Forests algorithm. The first, and most popular one, is the Feature Importance calculation functionality. This allows the ML practitioner to see an ordering of the importance of the features that have contributed the most to the predictive accuracy of the model. \n",
    "\n",
    "You can see how to use this in the scikit-learn documentation (http://scikit-learn.org/stable/modules/generated/sklearn.ensemble.RandomForestClassifier.html#sklearn.ensemble.RandomForestClassifier.feature_importances_). Now, if you tried this, you would just get an ordered table of not directly interpretable numeric values. Thus, it's much more useful to show the feature importance in a visual way. You can see an example of how that's done here: http://scikit-learn.org/stable/auto_examples/ensemble/plot_forest_importances.html#sphx-glr-auto-examples-ensemble-plot-forest-importances-py\n",
    "\n",
    "Now you try! Let's visualize the importance of features from your Random Forests model!"
   ]
  },
  {
   "cell_type": "code",
   "execution_count": 33,
   "metadata": {
    "execution": {
     "iopub.execute_input": "2023-01-04T00:11:01.730236Z",
     "iopub.status.busy": "2023-01-04T00:11:01.729759Z",
     "iopub.status.idle": "2023-01-04T00:11:01.740603Z",
     "shell.execute_reply": "2023-01-04T00:11:01.739777Z",
     "shell.execute_reply.started": "2023-01-04T00:11:01.729995Z"
    }
   },
   "outputs": [
    {
     "data": {
      "text/plain": [
       "array([0.10789049, 0.15870656, 0.02486615, 0.01277315, 0.10100404,\n",
       "       0.01014374, 0.0036662 , 0.00588024, 0.00268802, 0.04180566,\n",
       "       0.00305041, 0.00369163, 0.13347592, 0.02111384, 0.01653923,\n",
       "       0.00244195, 0.00394881, 0.04066224, 0.02924413, 0.00679689,\n",
       "       0.00351067, 0.00839068, 0.        , 0.        , 0.01101411,\n",
       "       0.        , 0.0001829 , 0.01161006, 0.0008277 , 0.02154   ,\n",
       "       0.00167333, 0.00189281, 0.01139805, 0.01034568, 0.01373141,\n",
       "       0.00414407, 0.00328464, 0.00051842, 0.02905445, 0.00903187,\n",
       "       0.0048437 , 0.00480942, 0.00155854, 0.        , 0.0077488 ,\n",
       "       0.00024614, 0.00570877, 0.01773879, 0.00096346, 0.00122758,\n",
       "       0.00567397, 0.01430582, 0.00437488, 0.02318034, 0.00759138,\n",
       "       0.02282024, 0.00081338, 0.00075116, 0.        , 0.00116028,\n",
       "       0.00194324])"
      ]
     },
     "execution_count": 33,
     "metadata": {},
     "output_type": "execute_result"
    }
   ],
   "source": [
    "feature_importances = crossval_runner2.best_estimator_.feature_importances_\n",
    "feature_importances"
   ]
  },
  {
   "cell_type": "code",
   "execution_count": 43,
   "metadata": {
    "execution": {
     "iopub.execute_input": "2023-01-04T00:15:05.519067Z",
     "iopub.status.busy": "2023-01-04T00:15:05.518778Z",
     "iopub.status.idle": "2023-01-04T00:15:06.850939Z",
     "shell.execute_reply": "2023-01-04T00:15:06.850331Z",
     "shell.execute_reply.started": "2023-01-04T00:15:05.519008Z"
    }
   },
   "outputs": [
    {
     "data": {
      "image/png": "[encoded data removed]",
      "text/plain": [
       "<Figure size 1080x576 with 1 Axes>"
      ]
     },
     "metadata": {
      "needs_background": "light"
     },
     "output_type": "display_data"
    }
   ],
   "source": [
    "import pandas as pd\n",
    "\n",
    "feature_importances_series = pd.Series(feature_importances, index=X.columns)\n",
    "\n",
    "fig, ax = plt.subplots(figsize=(15,8))\n",
    "feature_importances_series.plot.bar(ax=ax, fontsize=8)\n",
    "ax.set_title(\"Feature importances\", fontsize=8)\n",
    "fig.tight_layout()"
   ]
  },
  {
   "cell_type": "code",
   "execution_count": null,
   "metadata": {
    "collapsed": false,
    "execution": {
     "iopub.status.busy": "2023-01-04T00:07:28.770336Z",
     "iopub.status.idle": "2023-01-04T00:07:28.770813Z",
     "shell.execute_reply": "2023-01-04T00:07:28.770749Z"
    },
    "jupyter": {
     "outputs_hidden": false
    }
   },
   "outputs": [],
   "source": [
    "indices = np.argsort(feature_importances)[::-1]\n",
    "\n",
    "print('Feature Ranking:')\n",
    "\n",
    "for f in range(X_train.shape[1]):\n",
    "    #print('%d. features %d (%f)' % (f + 1, indices[f], feature_importances[indices[f]]), X_columns[indices[f] + 1])\n",
    "    print(f'{f + 1}: feature{indices[f]}/{X_columns[indices[f]]}    Importance = {round(feature_importances[indices[f]],6)}')\n"
   ]
  },
  {
   "cell_type": "markdown",
   "metadata": {},
   "source": [
    "A final method for gaining some insight into the inner working of your Random Forests models is a so-called Partial Dependence Plot. The Partial Dependence Plot (PDP or PD plot) shows the marginal effect of a feature on the predicted outcome of a previously fit model. The prediction function is fixed at a few values of the chosen features and averaged over the other features. A partial dependence plot can show if the relationship between the target and a feature is linear, monotonic or more complex. \n",
    "\n",
    "In scikit-learn, PDPs are implemented and available for certain algorithms, but at this point (version 0.20.0) they are not yet implemented for Random Forests. Thankfully, there is an add-on package called **PDPbox** (https://pdpbox.readthedocs.io/en/latest/) which adds this functionality to Random Forests. The package is easy to install through pip."
   ]
  },
  {
   "cell_type": "markdown",
   "metadata": {},
   "source": [
    "While we encourage you to read the documentation for the package (and reading package documentation in general is a good habit to develop), the authors of the package have also written an excellent blog post on how to use it, showing examples on different algorithms from scikit-learn (the Random Forests example is towards the end of the blog post):\n",
    "\n",
    "https://briangriner.github.io/Partial_Dependence_Plots_presentation-BrianGriner-PrincetonPublicLibrary-4.14.18-updated-4.22.18.html\n",
    "https://github.com/briangriner/briangriner.github.io/blob/master/Partial_Dependence_Plots_presentation-BrianGriner-PrincetonPublicLibrary-4.14.18-updated-4.22.18.html"
   ]
  },
  {
   "cell_type": "markdown",
   "metadata": {},
   "source": [
    "So, armed with this new knowledge, feel free to pick a few features, and make a couple of Partial Dependence Plots of your own!"
   ]
  },
  {
   "cell_type": "code",
   "execution_count": null,
   "metadata": {
    "execution": {
     "iopub.status.busy": "2023-01-04T00:07:28.771600Z",
     "iopub.status.idle": "2023-01-04T00:07:28.771993Z",
     "shell.execute_reply": "2023-01-04T00:07:28.771832Z"
    }
   },
   "outputs": [],
   "source": [
    "crossval_runner2.best_estimator_"
   ]
  },
  {
   "cell_type": "code",
   "execution_count": null,
   "metadata": {
    "execution": {
     "iopub.status.busy": "2023-01-04T00:07:28.773342Z",
     "iopub.status.idle": "2023-01-04T00:07:28.773716Z",
     "shell.execute_reply": "2023-01-04T00:07:28.773550Z"
    }
   },
   "outputs": [],
   "source": [
    "# Your code here!\n",
    "#from sklearn.ensemble.partial_dependence import partial_dependence, plot_partial_dependence\n",
    "from sklearn.ensemble.partial_dependence import partial_dependence, plot_partial_dependence \n",
    "\n",
    "my_plots = plot_partial_dependence(crossval_runner2.best_estimator_,\n",
    "                                   features=[0, 1, 2], # column numbers of plots we want to show\n",
    "                                   X=X,            # raw predictors data.\n",
    "                                   feature_names=['Amount', 'Age', 'Duration'], # labels on graphs\n",
    "                                   grid_resolution=10) # number of values to plot on x axis"
   ]
  },
  {
   "cell_type": "code",
   "execution_count": 55,
   "metadata": {
    "execution": {
     "iopub.execute_input": "2023-01-04T00:27:15.280694Z",
     "iopub.status.busy": "2023-01-04T00:27:15.280386Z",
     "iopub.status.idle": "2023-01-04T00:27:15.298475Z",
     "shell.execute_reply": "2023-01-04T00:27:15.297229Z",
     "shell.execute_reply.started": "2023-01-04T00:27:15.280643Z"
    }
   },
   "outputs": [
    {
     "name": "stdout",
     "output_type": "stream",
     "text": [
      "Confusion Matrix :\n",
      "[[ 42  49]\n",
      " [ 18 191]]\n",
      "Accuracy Score : 0.7766666666666666\n",
      "Report : \n",
      "              precision    recall  f1-score   support\n",
      "\n",
      "           0       0.70      0.46      0.56        91\n",
      "           1       0.80      0.91      0.85       209\n",
      "\n",
      "    accuracy                           0.78       300\n",
      "   macro avg       0.75      0.69      0.70       300\n",
      "weighted avg       0.77      0.78      0.76       300\n",
      "\n"
     ]
    }
   ],
   "source": [
    "# Predict on the test data: y_pred\n",
    "y_pred2 = crossval_runner2.best_estimator_.predict(X_test)\n",
    "y_pred2\n",
    "\n",
    "print ('Confusion Matrix :')\n",
    "print(confusion_matrix(y_test, y_pred2))\n",
    "print ('Accuracy Score :',accuracy_score(y_test, y_pred2))\n",
    "print ('Report : ')\n",
    "print (classification_report(y_test, y_pred2))\n"
   ]
  },
  {
   "cell_type": "markdown",
   "metadata": {},
   "source": [
    "## (Optional) Advanced Boosting-Based Algorithms"
   ]
  },
  {
   "cell_type": "markdown",
   "metadata": {},
   "source": [
    "As explained in the video lectures, the next generation of algorithms after Random Forests (that use Bagging, a.k.a. Bootstrap Aggregation) were developed using Boosting, and the first one of these were Gradient Boosted Machines, which are implemented in scikit-learn (http://scikit-learn.org/stable/modules/ensemble.html#gradient-tree-boosting)."
   ]
  },
  {
   "cell_type": "markdown",
   "metadata": {},
   "source": [
    "Still, in recent years, a number of variations on GBMs have been developed by different research amd industry groups, all of them bringing improvements, both in speed, accuracy and functionality to the original Gradient Boosting algorithms.\n",
    "\n",
    "In no order of preference, these are:\n",
    "1. **XGBoost**: https://xgboost.readthedocs.io/en/latest/\n",
    "2. **CatBoost**: https://tech.yandex.com/catboost/\n",
    "3. **LightGBM**: https://lightgbm.readthedocs.io/en/latest/"
   ]
  },
  {
   "cell_type": "markdown",
   "metadata": {},
   "source": [
    "If you're using the Anaconda distribution, these are all very easy to install:"
   ]
  },
  {
   "cell_type": "code",
   "execution_count": null,
   "metadata": {
    "execution": {
     "iopub.status.busy": "2023-01-04T00:07:28.774688Z",
     "iopub.status.idle": "2023-01-04T00:07:28.775087Z",
     "shell.execute_reply": "2023-01-04T00:07:28.774924Z"
    }
   },
   "outputs": [],
   "source": [
    "#doing_additional_project = True\n",
    "doing_additional_project = False\n"
   ]
  },
  {
   "cell_type": "code",
   "execution_count": null,
   "metadata": {
    "execution": {
     "iopub.status.busy": "2023-01-04T00:07:28.776016Z",
     "iopub.status.idle": "2023-01-04T00:07:28.776344Z",
     "shell.execute_reply": "2023-01-04T00:07:28.776182Z"
    }
   },
   "outputs": [],
   "source": [
    "if doing_additional_project:\n",
    "    #! conda install -c anaconda py-xgboost\n",
    "    ! conda install -c anaconda py-xgboost -y"
   ]
  },
  {
   "cell_type": "code",
   "execution_count": null,
   "metadata": {
    "execution": {
     "iopub.status.busy": "2023-01-04T00:07:28.777088Z",
     "iopub.status.idle": "2023-01-04T00:07:28.777463Z",
     "shell.execute_reply": "2023-01-04T00:07:28.777262Z"
    }
   },
   "outputs": [],
   "source": [
    "if doing_additional_project:\n",
    "    #! conda install -c conda-forge catboost\n",
    "    ! conda install -c conda-forge catboost -y"
   ]
  },
  {
   "cell_type": "code",
   "execution_count": null,
   "metadata": {
    "execution": {
     "iopub.status.busy": "2023-01-04T00:07:28.778704Z",
     "iopub.status.idle": "2023-01-04T00:07:28.778963Z",
     "shell.execute_reply": "2023-01-04T00:07:28.778790Z"
    }
   },
   "outputs": [],
   "source": [
    "if doing_additional_project:\n",
    "    #! conda install -c conda-forge lightgbm\n",
    "    ! conda install -c conda-forge lightgbm -y\n",
    "    "
   ]
  },
  {
   "cell_type": "markdown",
   "metadata": {},
   "source": [
    "Your task in this optional section of the mini project is to read the documentation of these three libraries, and apply all of them to the \"German Credit\" dataset, just like you did in the case of Decision Trees and Random Forests."
   ]
  },
  {
   "cell_type": "markdown",
   "metadata": {},
   "source": [
    "The final deliverable of this section should be a table (can be a pandas DataFrame) which shows the accuracy of all the five algorthms taught in this mini project in one place."
   ]
  },
  {
   "cell_type": "markdown",
   "metadata": {},
   "source": [
    "Happy modeling! :)"
   ]
  },
  {
   "cell_type": "code",
   "execution_count": 23,
   "metadata": {
    "execution": {
     "iopub.execute_input": "2023-01-04T00:07:38.525692Z",
     "iopub.status.busy": "2023-01-04T00:07:38.525345Z",
     "iopub.status.idle": "2023-01-04T00:07:38.536708Z",
     "shell.execute_reply": "2023-01-04T00:07:38.535336Z",
     "shell.execute_reply.started": "2023-01-04T00:07:38.525626Z"
    }
   },
   "outputs": [
    {
     "ename": "NameError",
     "evalue": "name 'doing_additional_project' is not defined",
     "output_type": "error",
     "traceback": [
      "\u001b[0;31m---------------------------------------------------------------------------\u001b[0m",
      "\u001b[0;31mNameError\u001b[0m                                 Traceback (most recent call last)",
      "\u001b[0;32m<ipython-input-23-3c741e0747d6>\u001b[0m in \u001b[0;36m<module>\u001b[0;34m\u001b[0m\n\u001b[0;32m----> 1\u001b[0;31m \u001b[0;32mif\u001b[0m \u001b[0mdoing_additional_project\u001b[0m\u001b[0;34m:\u001b[0m\u001b[0;34m\u001b[0m\u001b[0;34m\u001b[0m\u001b[0m\n\u001b[0m\u001b[1;32m      2\u001b[0m     \u001b[0;31m# code would go here\u001b[0m\u001b[0;34m\u001b[0m\u001b[0;34m\u001b[0m\u001b[0;34m\u001b[0m\u001b[0m\n\u001b[1;32m      3\u001b[0m     \u001b[0;32mpass\u001b[0m\u001b[0;34m\u001b[0m\u001b[0;34m\u001b[0m\u001b[0m\n",
      "\u001b[0;31mNameError\u001b[0m: name 'doing_additional_project' is not defined"
     ]
    }
   ],
   "source": [
    "if doing_additional_project:\n",
    "    # code would go here\n",
    "    pass"
   ]
  }
 ],
 "metadata": {
  "kernelspec": {
   "display_name": "Python 3",
   "language": "python",
   "name": "python3"
  },
  "language_info": {
   "codemirror_mode": {
    "name": "ipython",
    "version": 3
   },
   "file_extension": ".py",
   "mimetype": "text/x-python",
   "name": "python",
   "nbconvert_exporter": "python",
   "pygments_lexer": "ipython3",
   "version": "3.7.9"
  }
 },
 "nbformat": 4,
 "nbformat_minor": 4
}
