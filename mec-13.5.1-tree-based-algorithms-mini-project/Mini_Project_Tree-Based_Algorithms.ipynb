{
 "cells": [
  {
   "cell_type": "markdown",
   "metadata": {},
   "source": [
    "# Mini Project: Tree-Based Algorithms"
   ]
  },
  {
   "cell_type": "markdown",
   "metadata": {},
   "source": [
    "## The \"German Credit\" Dataset"
   ]
  },
  {
   "cell_type": "markdown",
   "metadata": {},
   "source": [
    "### Dataset Details"
   ]
  },
  {
   "cell_type": "markdown",
   "metadata": {},
   "source": [
    "This dataset has two classes (these would be considered labels in Machine Learning terms) to describe the worthiness of a personal loan: \"Good\" or \"Bad\". There are predictors related to attributes, such as: checking account status, duration, credit history, purpose of the loan, amount of the loan, savings accounts or bonds, employment duration, installment rate in percentage of disposable income, personal information, other debtors/guarantors, residence duration, property, age, other installment plans, housing, number of existing credits, job information, number of people being liable to provide maintenance for, telephone, and foreign worker status.\n",
    "\n",
    "Many of these predictors are discrete and have been expanded into several 0/1 indicator variables (a.k.a. they have been one-hot-encoded).\n",
    "\n",
    "This dataset has been kindly provided by Professor Dr. Hans Hofmann of the University of Hamburg, and can also be found on the UCI Machine Learning Repository."
   ]
  },
  {
   "cell_type": "markdown",
   "metadata": {},
   "source": [
    "\n",
    "\n",
    "\n"
   ]
  },
  {
   "cell_type": "markdown",
   "metadata": {},
   "source": [
    "## Decision Trees"
   ]
  },
  {
   "cell_type": "markdown",
   "metadata": {},
   "source": [
    " As we have learned in the previous lectures, Decision Trees as a family of algorithms (irrespective to the particular implementation) are powerful algorithms that can produce models with a predictive accuracy higher than that produced by linear models, such as Linear or Logistic Regression. Primarily, this is due to the fact the DT's can model nonlinear relationships, and also have a number of tuning paramters, that allow for the practicioner to achieve the best possible model. An added bonus is the ability to visualize the trained Decision Tree model, which allows for some insight into how the model has produced the predictions that it has. One caveat here, to keep in mind, is that sometimes, due to the size of the dataset (both in the sense of the number of records, as well as the number of features), the visualization might prove to be very large and complex, increasing the difficulty of interpretation."
   ]
  },
  {
   "cell_type": "markdown",
   "metadata": {},
   "source": [
    "To give you a very good example of how Decision Trees can be visualized and interpreted, we would strongly recommend that, before continuing on with solving the problems in this Mini Project, you take the time to read this fanstastic, detailed and informative blog post: http://explained.ai/decision-tree-viz/index.html"
   ]
  },
  {
   "cell_type": "markdown",
   "metadata": {},
   "source": [
    "## Building Your First Decision Tree Model"
   ]
  },
  {
   "cell_type": "markdown",
   "metadata": {},
   "source": [
    "So, now it's time to jump straight into the heart of the matter. Your first task, is to build a Decision Tree model, using the aforementioned \"German Credit\" dataset, which contains 1,000 records, and 62 columns (one of them presents the labels, and the other 61 present the potential features for the model.)"
   ]
  },
  {
   "cell_type": "markdown",
   "metadata": {},
   "source": [
    "For this task, you will be using the scikit-learn library, which comes already pre-installed with the Anaconda Python distribution. In case you're not using that, you can easily install it using pip."
   ]
  },
  {
   "cell_type": "markdown",
   "metadata": {},
   "source": [
    "Before embarking on creating your first model, we would strongly encourage you to read the short tutorial for Decision Trees in scikit-learn (http://scikit-learn.org/stable/modules/tree.html), and then dive a bit deeper into the documentation of the algorithm itself (http://scikit-learn.org/stable/modules/generated/sklearn.tree.DecisionTreeClassifier.html). "
   ]
  },
  {
   "cell_type": "markdown",
   "metadata": {},
   "source": [
    "Also, since you want to be able to present the results of your model, we suggest you take a look at the tutorial for accuracy metrics for classification models (http://scikit-learn.org/stable/modules/model_evaluation.html#classification-report) as well as the more detailed documentation (http://scikit-learn.org/stable/modules/generated/sklearn.metrics.classification_report.html).\n",
    "\n",
    "Finally, an *amazing* resource that explains the various classification model accuracy metrics, as well as the relationships between them, can be found on Wikipedia: https://en.wikipedia.org/wiki/Confusion_matrix"
   ]
  },
  {
   "cell_type": "markdown",
   "metadata": {},
   "source": [
    "(Note: as you've already learned in the Logistic Regression mini project, a standard practice in Machine Learning for achieving the best possible result when training a model is to use hyperparameter tuning, through Grid Search and k-fold Cross Validation. We strongly encourage you to use it here as well, not just because it's standard practice, but also becuase it's not going to be computationally to intensive, due to the size of the dataset that you're working with. Our suggestion here is that you split the data into 70% training, and 30% testing. Then, do the hyperparameter tuning and Cross Validation on the training set, and afterwards to a final test on the testing set.)"
   ]
  },
  {
   "cell_type": "markdown",
   "metadata": {},
   "source": [
    "### Now we pass the torch onto you! You can start building your first Decision Tree model! :)"
   ]
  },
  {
   "cell_type": "code",
   "execution_count": 1,
   "metadata": {
    "execution": {
     "iopub.execute_input": "2022-11-24T16:19:30.937130Z",
     "iopub.status.busy": "2022-11-24T16:19:30.936470Z",
     "iopub.status.idle": "2022-11-24T16:19:30.941055Z",
     "shell.execute_reply": "2022-11-24T16:19:30.940389Z",
     "shell.execute_reply.started": "2022-11-24T16:19:30.937070Z"
    }
   },
   "outputs": [],
   "source": [
    "import warnings\n",
    "warnings.filterwarnings(action='ignore', category=FutureWarning) # setting ignore as a parameter and further adding category\n",
    "\n",
    "import warnings\n",
    "warnings.simplefilter(action='ignore', category=FutureWarning) # setting ignore as a parameter and further adding category\n"
   ]
  },
  {
   "cell_type": "code",
   "execution_count": 2,
   "metadata": {
    "execution": {
     "iopub.execute_input": "2022-11-24T16:19:30.946190Z",
     "iopub.status.busy": "2022-11-24T16:19:30.945668Z",
     "iopub.status.idle": "2022-11-24T16:19:45.302648Z",
     "shell.execute_reply": "2022-11-24T16:19:45.301570Z",
     "shell.execute_reply.started": "2022-11-24T16:19:30.946152Z"
    }
   },
   "outputs": [
    {
     "name": "stdout",
     "output_type": "stream",
     "text": [
      "Hit:1 http://security.ubuntu.com/ubuntu xenial-security InRelease\n",
      "Hit:2 http://archive.ubuntu.com/ubuntu xenial InRelease                        \n",
      "Hit:3 http://archive.ubuntu.com/ubuntu xenial-updates InRelease                \n",
      "Hit:4 http://archive.ubuntu.com/ubuntu xenial-backports InRelease\n",
      "Ign:5 http://developer.download.nvidia.com/compute/machine-learning/repos/ubuntu1604/x86_64  InRelease\n",
      "Hit:6 http://developer.download.nvidia.com/compute/machine-learning/repos/ubuntu1604/x86_64  Release\n",
      "Get:7 https://developer.download.nvidia.com/compute/cuda/repos/ubuntu1604/x86_64  InRelease [1581 B]\n",
      "Ign:7 https://developer.download.nvidia.com/compute/cuda/repos/ubuntu1604/x86_64  InRelease\n",
      "Fetched 1581 B in 1s (1567 B/s)\n",
      "Reading package lists... Done\n",
      "W: GPG error: https://developer.download.nvidia.com/compute/cuda/repos/ubuntu1604/x86_64  InRelease: The following signatures couldn't be verified because the public key is not available: NO_PUBKEY A4B469963BF863CC\n",
      "W: The repository 'https://developer.download.nvidia.com/compute/cuda/repos/ubuntu1604/x86_64  InRelease' is not signed.\n",
      "N: Data from such a repository can't be authenticated and is therefore potentially dangerous to use.\n",
      "N: See apt-secure(8) manpage for repository creation and user configuration details.\n",
      "Reading package lists... Done\n",
      "Building dependency tree       \n",
      "Reading state information... Done\n",
      "Note, selecting 'graphviz-dev' for glob 'graphviz*'\n",
      "Note, selecting 'graphviz-doc' for glob 'graphviz*'\n",
      "Note, selecting 'graphviz' for glob 'graphviz*'\n",
      "graphviz is already the newest version (2.38.0-12ubuntu2.1).\n",
      "graphviz-dev is already the newest version (2.38.0-12ubuntu2.1).\n",
      "graphviz-doc is already the newest version (2.38.0-12ubuntu2.1).\n",
      "0 upgraded, 0 newly installed, 0 to remove and 52 not upgraded.\n",
      "Requirement already satisfied: dtreeviz in /opt/conda/envs/springboard/lib/python3.7/site-packages (1.4.0)\n",
      "Requirement already satisfied: numpy in /opt/conda/envs/springboard/lib/python3.7/site-packages (from dtreeviz) (1.18.1)\n",
      "Requirement already satisfied: pandas in /opt/conda/envs/springboard/lib/python3.7/site-packages (from dtreeviz) (1.0.1)\n",
      "Requirement already satisfied: colour in /opt/conda/envs/springboard/lib/python3.7/site-packages (from dtreeviz) (0.1.5)\n",
      "Requirement already satisfied: graphviz>=0.9 in /opt/conda/envs/springboard/lib/python3.7/site-packages (from dtreeviz) (0.20.1)\n",
      "Requirement already satisfied: pytest in /opt/conda/envs/springboard/lib/python3.7/site-packages (from dtreeviz) (5.3.5)\n",
      "Requirement already satisfied: matplotlib in /opt/conda/envs/springboard/lib/python3.7/site-packages (from dtreeviz) (3.1.1)\n",
      "Requirement already satisfied: scikit-learn in /opt/conda/envs/springboard/lib/python3.7/site-packages (from dtreeviz) (1.0.2)\n",
      "Requirement already satisfied: kiwisolver>=1.0.1 in /opt/conda/envs/springboard/lib/python3.7/site-packages (from matplotlib->dtreeviz) (1.1.0)\n",
      "Requirement already satisfied: cycler>=0.10 in /opt/conda/envs/springboard/lib/python3.7/site-packages (from matplotlib->dtreeviz) (0.10.0)\n",
      "Requirement already satisfied: pyparsing!=2.0.4,!=2.1.2,!=2.1.6,>=2.0.1 in /opt/conda/envs/springboard/lib/python3.7/site-packages (from matplotlib->dtreeviz) (2.4.6)\n",
      "Requirement already satisfied: python-dateutil>=2.1 in /opt/conda/envs/springboard/lib/python3.7/site-packages (from matplotlib->dtreeviz) (2.8.1)\n",
      "Requirement already satisfied: six in /opt/conda/envs/springboard/lib/python3.7/site-packages (from cycler>=0.10->matplotlib->dtreeviz) (1.14.0)\n",
      "Requirement already satisfied: setuptools in /opt/conda/envs/springboard/lib/python3.7/site-packages (from kiwisolver>=1.0.1->matplotlib->dtreeviz) (49.6.0.post20210108)\n",
      "Requirement already satisfied: pytz>=2017.2 in /opt/conda/envs/springboard/lib/python3.7/site-packages (from pandas->dtreeviz) (2019.3)\n",
      "Requirement already satisfied: importlib-metadata>=0.12 in /opt/conda/envs/springboard/lib/python3.7/site-packages (from pytest->dtreeviz) (1.5.0)\n",
      "Requirement already satisfied: attrs>=17.4.0 in /opt/conda/envs/springboard/lib/python3.7/site-packages (from pytest->dtreeviz) (19.3.0)\n",
      "Requirement already satisfied: py>=1.5.0 in /opt/conda/envs/springboard/lib/python3.7/site-packages (from pytest->dtreeviz) (1.8.1)\n",
      "Requirement already satisfied: packaging in /opt/conda/envs/springboard/lib/python3.7/site-packages (from pytest->dtreeviz) (20.1)\n",
      "Requirement already satisfied: pluggy<1.0,>=0.12 in /opt/conda/envs/springboard/lib/python3.7/site-packages (from pytest->dtreeviz) (0.13.1)\n",
      "Requirement already satisfied: wcwidth in /opt/conda/envs/springboard/lib/python3.7/site-packages (from pytest->dtreeviz) (0.1.8)\n",
      "Requirement already satisfied: more-itertools>=4.0.0 in /opt/conda/envs/springboard/lib/python3.7/site-packages (from pytest->dtreeviz) (8.2.0)\n",
      "Requirement already satisfied: zipp>=0.5 in /opt/conda/envs/springboard/lib/python3.7/site-packages (from importlib-metadata>=0.12->pytest->dtreeviz) (2.2.0)\n",
      "Requirement already satisfied: scipy>=1.1.0 in /opt/conda/envs/springboard/lib/python3.7/site-packages (from scikit-learn->dtreeviz) (1.4.1)\n",
      "Requirement already satisfied: joblib>=0.11 in /opt/conda/envs/springboard/lib/python3.7/site-packages (from scikit-learn->dtreeviz) (1.1.0)\n",
      "Requirement already satisfied: threadpoolctl>=2.0.0 in /opt/conda/envs/springboard/lib/python3.7/site-packages (from scikit-learn->dtreeviz) (2.2.0)\n",
      "Requirement already satisfied: pdpbox in /opt/conda/envs/springboard/lib/python3.7/site-packages (0.2.1)\n",
      "Requirement already satisfied: sklearn in /opt/conda/envs/springboard/lib/python3.7/site-packages (from pdpbox) (0.0.post1)\n",
      "Requirement already satisfied: matplotlib==3.1.1 in /opt/conda/envs/springboard/lib/python3.7/site-packages (from pdpbox) (3.1.1)\n",
      "Requirement already satisfied: scipy in /opt/conda/envs/springboard/lib/python3.7/site-packages (from pdpbox) (1.4.1)\n",
      "Requirement already satisfied: pandas in /opt/conda/envs/springboard/lib/python3.7/site-packages (from pdpbox) (1.0.1)\n",
      "Requirement already satisfied: joblib in /opt/conda/envs/springboard/lib/python3.7/site-packages (from pdpbox) (1.1.0)\n",
      "Requirement already satisfied: psutil in /opt/conda/envs/springboard/lib/python3.7/site-packages (from pdpbox) (5.6.7)\n",
      "Requirement already satisfied: numpy in /opt/conda/envs/springboard/lib/python3.7/site-packages (from pdpbox) (1.18.1)\n",
      "Requirement already satisfied: cycler>=0.10 in /opt/conda/envs/springboard/lib/python3.7/site-packages (from matplotlib==3.1.1->pdpbox) (0.10.0)\n",
      "Requirement already satisfied: kiwisolver>=1.0.1 in /opt/conda/envs/springboard/lib/python3.7/site-packages (from matplotlib==3.1.1->pdpbox) (1.1.0)\n",
      "Requirement already satisfied: python-dateutil>=2.1 in /opt/conda/envs/springboard/lib/python3.7/site-packages (from matplotlib==3.1.1->pdpbox) (2.8.1)\n",
      "Requirement already satisfied: pyparsing!=2.0.4,!=2.1.2,!=2.1.6,>=2.0.1 in /opt/conda/envs/springboard/lib/python3.7/site-packages (from matplotlib==3.1.1->pdpbox) (2.4.6)\n",
      "Requirement already satisfied: six in /opt/conda/envs/springboard/lib/python3.7/site-packages (from cycler>=0.10->matplotlib==3.1.1->pdpbox) (1.14.0)\n",
      "Requirement already satisfied: setuptools in /opt/conda/envs/springboard/lib/python3.7/site-packages (from kiwisolver>=1.0.1->matplotlib==3.1.1->pdpbox) (49.6.0.post20210108)\n",
      "Requirement already satisfied: pytz>=2017.2 in /opt/conda/envs/springboard/lib/python3.7/site-packages (from pandas->pdpbox) (2019.3)\n"
     ]
    }
   ],
   "source": [
    "!apt-get update\n",
    "!apt-get install graphviz* -y\n",
    "\n",
    "! pip install dtreeviz\n",
    "! pip install pdpbox\n",
    "#pip install dtreeviz"
   ]
  },
  {
   "cell_type": "code",
   "execution_count": 3,
   "metadata": {
    "execution": {
     "iopub.execute_input": "2022-11-24T16:19:45.305683Z",
     "iopub.status.busy": "2022-11-24T16:19:45.305489Z",
     "iopub.status.idle": "2022-11-24T16:19:46.201455Z",
     "shell.execute_reply": "2022-11-24T16:19:46.200851Z",
     "shell.execute_reply.started": "2022-11-24T16:19:45.305650Z"
    }
   },
   "outputs": [],
   "source": [
    "import pandas as pd\n",
    "from sklearn.tree import DecisionTreeClassifier\n",
    "from sklearn.metrics import classification_report\n",
    "from sklearn.model_selection import train_test_split, RandomizedSearchCV\n",
    "from sklearn.model_selection import GridSearchCV"
   ]
  },
  {
   "cell_type": "code",
   "execution_count": 4,
   "metadata": {
    "execution": {
     "iopub.execute_input": "2022-11-24T16:19:46.204947Z",
     "iopub.status.busy": "2022-11-24T16:19:46.204646Z",
     "iopub.status.idle": "2022-11-24T16:19:46.617111Z",
     "shell.execute_reply": "2022-11-24T16:19:46.614269Z",
     "shell.execute_reply.started": "2022-11-24T16:19:46.204891Z"
    }
   },
   "outputs": [
    {
     "data": {
      "text/html": [
       "<div>\n",
       "<style scoped>\n",
       "    .dataframe tbody tr th:only-of-type {\n",
       "        vertical-align: middle;\n",
       "    }\n",
       "\n",
       "    .dataframe tbody tr th {\n",
       "        vertical-align: top;\n",
       "    }\n",
       "\n",
       "    .dataframe thead th {\n",
       "        text-align: right;\n",
       "    }\n",
       "</style>\n",
       "<table border=\"1\" class=\"dataframe\">\n",
       "  <thead>\n",
       "    <tr style=\"text-align: right;\">\n",
       "      <th></th>\n",
       "      <th>Duration</th>\n",
       "      <th>Amount</th>\n",
       "      <th>InstallmentRatePercentage</th>\n",
       "      <th>ResidenceDuration</th>\n",
       "      <th>Age</th>\n",
       "      <th>NumberExistingCredits</th>\n",
       "      <th>NumberPeopleMaintenance</th>\n",
       "      <th>Telephone</th>\n",
       "      <th>ForeignWorker</th>\n",
       "      <th>Class</th>\n",
       "      <th>...</th>\n",
       "      <th>OtherInstallmentPlans.Bank</th>\n",
       "      <th>OtherInstallmentPlans.Stores</th>\n",
       "      <th>OtherInstallmentPlans.None</th>\n",
       "      <th>Housing.Rent</th>\n",
       "      <th>Housing.Own</th>\n",
       "      <th>Housing.ForFree</th>\n",
       "      <th>Job.UnemployedUnskilled</th>\n",
       "      <th>Job.UnskilledResident</th>\n",
       "      <th>Job.SkilledEmployee</th>\n",
       "      <th>Job.Management.SelfEmp.HighlyQualified</th>\n",
       "    </tr>\n",
       "  </thead>\n",
       "  <tbody>\n",
       "    <tr>\n",
       "      <th>0</th>\n",
       "      <td>6</td>\n",
       "      <td>1169</td>\n",
       "      <td>4</td>\n",
       "      <td>4</td>\n",
       "      <td>67</td>\n",
       "      <td>2</td>\n",
       "      <td>1</td>\n",
       "      <td>0</td>\n",
       "      <td>1</td>\n",
       "      <td>Good</td>\n",
       "      <td>...</td>\n",
       "      <td>0</td>\n",
       "      <td>0</td>\n",
       "      <td>1</td>\n",
       "      <td>0</td>\n",
       "      <td>1</td>\n",
       "      <td>0</td>\n",
       "      <td>0</td>\n",
       "      <td>0</td>\n",
       "      <td>1</td>\n",
       "      <td>0</td>\n",
       "    </tr>\n",
       "    <tr>\n",
       "      <th>1</th>\n",
       "      <td>48</td>\n",
       "      <td>5951</td>\n",
       "      <td>2</td>\n",
       "      <td>2</td>\n",
       "      <td>22</td>\n",
       "      <td>1</td>\n",
       "      <td>1</td>\n",
       "      <td>1</td>\n",
       "      <td>1</td>\n",
       "      <td>Bad</td>\n",
       "      <td>...</td>\n",
       "      <td>0</td>\n",
       "      <td>0</td>\n",
       "      <td>1</td>\n",
       "      <td>0</td>\n",
       "      <td>1</td>\n",
       "      <td>0</td>\n",
       "      <td>0</td>\n",
       "      <td>0</td>\n",
       "      <td>1</td>\n",
       "      <td>0</td>\n",
       "    </tr>\n",
       "    <tr>\n",
       "      <th>2</th>\n",
       "      <td>12</td>\n",
       "      <td>2096</td>\n",
       "      <td>2</td>\n",
       "      <td>3</td>\n",
       "      <td>49</td>\n",
       "      <td>1</td>\n",
       "      <td>2</td>\n",
       "      <td>1</td>\n",
       "      <td>1</td>\n",
       "      <td>Good</td>\n",
       "      <td>...</td>\n",
       "      <td>0</td>\n",
       "      <td>0</td>\n",
       "      <td>1</td>\n",
       "      <td>0</td>\n",
       "      <td>1</td>\n",
       "      <td>0</td>\n",
       "      <td>0</td>\n",
       "      <td>1</td>\n",
       "      <td>0</td>\n",
       "      <td>0</td>\n",
       "    </tr>\n",
       "    <tr>\n",
       "      <th>3</th>\n",
       "      <td>42</td>\n",
       "      <td>7882</td>\n",
       "      <td>2</td>\n",
       "      <td>4</td>\n",
       "      <td>45</td>\n",
       "      <td>1</td>\n",
       "      <td>2</td>\n",
       "      <td>1</td>\n",
       "      <td>1</td>\n",
       "      <td>Good</td>\n",
       "      <td>...</td>\n",
       "      <td>0</td>\n",
       "      <td>0</td>\n",
       "      <td>1</td>\n",
       "      <td>0</td>\n",
       "      <td>0</td>\n",
       "      <td>1</td>\n",
       "      <td>0</td>\n",
       "      <td>0</td>\n",
       "      <td>1</td>\n",
       "      <td>0</td>\n",
       "    </tr>\n",
       "    <tr>\n",
       "      <th>4</th>\n",
       "      <td>24</td>\n",
       "      <td>4870</td>\n",
       "      <td>3</td>\n",
       "      <td>4</td>\n",
       "      <td>53</td>\n",
       "      <td>2</td>\n",
       "      <td>2</td>\n",
       "      <td>1</td>\n",
       "      <td>1</td>\n",
       "      <td>Bad</td>\n",
       "      <td>...</td>\n",
       "      <td>0</td>\n",
       "      <td>0</td>\n",
       "      <td>1</td>\n",
       "      <td>0</td>\n",
       "      <td>0</td>\n",
       "      <td>1</td>\n",
       "      <td>0</td>\n",
       "      <td>0</td>\n",
       "      <td>1</td>\n",
       "      <td>0</td>\n",
       "    </tr>\n",
       "  </tbody>\n",
       "</table>\n",
       "<p>5 rows × 62 columns</p>\n",
       "</div>"
      ],
      "text/plain": [
       "   Duration  Amount  InstallmentRatePercentage  ResidenceDuration  Age  \\\n",
       "0         6    1169                          4                  4   67   \n",
       "1        48    5951                          2                  2   22   \n",
       "2        12    2096                          2                  3   49   \n",
       "3        42    7882                          2                  4   45   \n",
       "4        24    4870                          3                  4   53   \n",
       "\n",
       "   NumberExistingCredits  NumberPeopleMaintenance  Telephone  ForeignWorker  \\\n",
       "0                      2                        1          0              1   \n",
       "1                      1                        1          1              1   \n",
       "2                      1                        2          1              1   \n",
       "3                      1                        2          1              1   \n",
       "4                      2                        2          1              1   \n",
       "\n",
       "  Class  ...  OtherInstallmentPlans.Bank  OtherInstallmentPlans.Stores  \\\n",
       "0  Good  ...                           0                             0   \n",
       "1   Bad  ...                           0                             0   \n",
       "2  Good  ...                           0                             0   \n",
       "3  Good  ...                           0                             0   \n",
       "4   Bad  ...                           0                             0   \n",
       "\n",
       "   OtherInstallmentPlans.None  Housing.Rent  Housing.Own  Housing.ForFree  \\\n",
       "0                           1             0            1                0   \n",
       "1                           1             0            1                0   \n",
       "2                           1             0            1                0   \n",
       "3                           1             0            0                1   \n",
       "4                           1             0            0                1   \n",
       "\n",
       "   Job.UnemployedUnskilled  Job.UnskilledResident  Job.SkilledEmployee  \\\n",
       "0                        0                      0                    1   \n",
       "1                        0                      0                    1   \n",
       "2                        0                      1                    0   \n",
       "3                        0                      0                    1   \n",
       "4                        0                      0                    1   \n",
       "\n",
       "   Job.Management.SelfEmp.HighlyQualified  \n",
       "0                                       0  \n",
       "1                                       0  \n",
       "2                                       0  \n",
       "3                                       0  \n",
       "4                                       0  \n",
       "\n",
       "[5 rows x 62 columns]"
      ]
     },
     "execution_count": 4,
     "metadata": {},
     "output_type": "execute_result"
    }
   ],
   "source": [
    "# Your code here! :)\n",
    "\n",
    "import numpy as np\n",
    "import matplotlib.pyplot as plt\n",
    "\n",
    "df = pd.read_csv(\"GermanCredit.csv.zip\")\n",
    "df.head()"
   ]
  },
  {
   "cell_type": "code",
   "execution_count": 5,
   "metadata": {
    "collapsed": false,
    "execution": {
     "iopub.execute_input": "2022-11-24T16:19:46.619010Z",
     "iopub.status.busy": "2022-11-24T16:19:46.618695Z",
     "iopub.status.idle": "2022-11-24T16:19:46.626455Z",
     "shell.execute_reply": "2022-11-24T16:19:46.625694Z",
     "shell.execute_reply.started": "2022-11-24T16:19:46.618967Z"
    },
    "jupyter": {
     "outputs_hidden": false
    }
   },
   "outputs": [
    {
     "data": {
      "text/plain": [
       "0      Good\n",
       "1       Bad\n",
       "2      Good\n",
       "3      Good\n",
       "4       Bad\n",
       "       ... \n",
       "995    Good\n",
       "996    Good\n",
       "997    Good\n",
       "998     Bad\n",
       "999    Good\n",
       "Name: Class, Length: 1000, dtype: object"
      ]
     },
     "execution_count": 5,
     "metadata": {},
     "output_type": "execute_result"
    }
   ],
   "source": [
    "df['Class']"
   ]
  },
  {
   "cell_type": "code",
   "execution_count": 6,
   "metadata": {
    "execution": {
     "iopub.execute_input": "2022-11-24T16:19:46.670031Z",
     "iopub.status.busy": "2022-11-24T16:19:46.669744Z",
     "iopub.status.idle": "2022-11-24T16:19:46.677629Z",
     "shell.execute_reply": "2022-11-24T16:19:46.676877Z",
     "shell.execute_reply.started": "2022-11-24T16:19:46.669990Z"
    }
   },
   "outputs": [
    {
     "data": {
      "text/plain": [
       "0       True\n",
       "1      False\n",
       "2       True\n",
       "3       True\n",
       "4      False\n",
       "       ...  \n",
       "995     True\n",
       "996     True\n",
       "997     True\n",
       "998    False\n",
       "999     True\n",
       "Name: Class, Length: 1000, dtype: bool"
      ]
     },
     "execution_count": 6,
     "metadata": {},
     "output_type": "execute_result"
    }
   ],
   "source": [
    "df['Class'] = df['Class'] == 'Good'\n",
    "df['Class']"
   ]
  },
  {
   "cell_type": "code",
   "execution_count": 7,
   "metadata": {
    "collapsed": false,
    "execution": {
     "iopub.execute_input": "2022-11-24T16:19:46.678723Z",
     "iopub.status.busy": "2022-11-24T16:19:46.678543Z",
     "iopub.status.idle": "2022-11-24T16:19:46.699868Z",
     "shell.execute_reply": "2022-11-24T16:19:46.699229Z",
     "shell.execute_reply.started": "2022-11-24T16:19:46.678691Z"
    },
    "jupyter": {
     "outputs_hidden": false
    }
   },
   "outputs": [
    {
     "data": {
      "text/plain": [
       "0      1\n",
       "1      0\n",
       "2      1\n",
       "3      1\n",
       "4      0\n",
       "      ..\n",
       "995    1\n",
       "996    1\n",
       "997    1\n",
       "998    0\n",
       "999    1\n",
       "Name: Class, Length: 1000, dtype: int64"
      ]
     },
     "execution_count": 7,
     "metadata": {},
     "output_type": "execute_result"
    }
   ],
   "source": [
    "\n",
    "df['Class'] = pd.to_numeric(df['Class']).dropna().astype(int)\n",
    "\n",
    "df[df.isna()].sum().sort_values(ascending=False)\n",
    "df['Class']"
   ]
  },
  {
   "cell_type": "code",
   "execution_count": 8,
   "metadata": {
    "execution": {
     "iopub.execute_input": "2022-11-24T16:19:46.706342Z",
     "iopub.status.busy": "2022-11-24T16:19:46.703710Z",
     "iopub.status.idle": "2022-11-24T16:19:46.711497Z",
     "shell.execute_reply": "2022-11-24T16:19:46.710350Z",
     "shell.execute_reply.started": "2022-11-24T16:19:46.706226Z"
    }
   },
   "outputs": [],
   "source": [
    "# Explore the data\n",
    "#df.hist(figsize=(20, 20))\n",
    "#plt.show()"
   ]
  },
  {
   "cell_type": "code",
   "execution_count": 9,
   "metadata": {
    "execution": {
     "iopub.execute_input": "2022-11-24T16:19:46.713551Z",
     "iopub.status.busy": "2022-11-24T16:19:46.713342Z",
     "iopub.status.idle": "2022-11-24T16:19:46.972846Z",
     "shell.execute_reply": "2022-11-24T16:19:46.972222Z",
     "shell.execute_reply.started": "2022-11-24T16:19:46.713513Z"
    }
   },
   "outputs": [
    {
     "data": {
      "text/html": [
       "<div>\n",
       "<style scoped>\n",
       "    .dataframe tbody tr th:only-of-type {\n",
       "        vertical-align: middle;\n",
       "    }\n",
       "\n",
       "    .dataframe tbody tr th {\n",
       "        vertical-align: top;\n",
       "    }\n",
       "\n",
       "    .dataframe thead th {\n",
       "        text-align: right;\n",
       "    }\n",
       "</style>\n",
       "<table border=\"1\" class=\"dataframe\">\n",
       "  <thead>\n",
       "    <tr style=\"text-align: right;\">\n",
       "      <th></th>\n",
       "      <th>Duration</th>\n",
       "      <th>Amount</th>\n",
       "      <th>InstallmentRatePercentage</th>\n",
       "      <th>ResidenceDuration</th>\n",
       "      <th>Age</th>\n",
       "      <th>NumberExistingCredits</th>\n",
       "      <th>NumberPeopleMaintenance</th>\n",
       "      <th>Telephone</th>\n",
       "      <th>ForeignWorker</th>\n",
       "      <th>Class</th>\n",
       "      <th>...</th>\n",
       "      <th>OtherInstallmentPlans.Bank</th>\n",
       "      <th>OtherInstallmentPlans.Stores</th>\n",
       "      <th>OtherInstallmentPlans.None</th>\n",
       "      <th>Housing.Rent</th>\n",
       "      <th>Housing.Own</th>\n",
       "      <th>Housing.ForFree</th>\n",
       "      <th>Job.UnemployedUnskilled</th>\n",
       "      <th>Job.UnskilledResident</th>\n",
       "      <th>Job.SkilledEmployee</th>\n",
       "      <th>Job.Management.SelfEmp.HighlyQualified</th>\n",
       "    </tr>\n",
       "  </thead>\n",
       "  <tbody>\n",
       "    <tr>\n",
       "      <th>count</th>\n",
       "      <td>1000.000000</td>\n",
       "      <td>1000.000000</td>\n",
       "      <td>1000.000000</td>\n",
       "      <td>1000.000000</td>\n",
       "      <td>1000.000000</td>\n",
       "      <td>1000.000000</td>\n",
       "      <td>1000.000000</td>\n",
       "      <td>1000.000000</td>\n",
       "      <td>1000.000000</td>\n",
       "      <td>1000.000000</td>\n",
       "      <td>...</td>\n",
       "      <td>1000.00000</td>\n",
       "      <td>1000.000000</td>\n",
       "      <td>1000.000000</td>\n",
       "      <td>1000.000000</td>\n",
       "      <td>1000.000000</td>\n",
       "      <td>1000.000000</td>\n",
       "      <td>1000.000000</td>\n",
       "      <td>1000.0000</td>\n",
       "      <td>1000.000000</td>\n",
       "      <td>1000.000000</td>\n",
       "    </tr>\n",
       "    <tr>\n",
       "      <th>mean</th>\n",
       "      <td>20.903000</td>\n",
       "      <td>3271.258000</td>\n",
       "      <td>2.973000</td>\n",
       "      <td>2.845000</td>\n",
       "      <td>35.546000</td>\n",
       "      <td>1.407000</td>\n",
       "      <td>1.155000</td>\n",
       "      <td>0.596000</td>\n",
       "      <td>0.963000</td>\n",
       "      <td>0.700000</td>\n",
       "      <td>...</td>\n",
       "      <td>0.13900</td>\n",
       "      <td>0.047000</td>\n",
       "      <td>0.814000</td>\n",
       "      <td>0.179000</td>\n",
       "      <td>0.713000</td>\n",
       "      <td>0.108000</td>\n",
       "      <td>0.022000</td>\n",
       "      <td>0.2000</td>\n",
       "      <td>0.630000</td>\n",
       "      <td>0.148000</td>\n",
       "    </tr>\n",
       "    <tr>\n",
       "      <th>std</th>\n",
       "      <td>12.058814</td>\n",
       "      <td>2822.736876</td>\n",
       "      <td>1.118715</td>\n",
       "      <td>1.103718</td>\n",
       "      <td>11.375469</td>\n",
       "      <td>0.577654</td>\n",
       "      <td>0.362086</td>\n",
       "      <td>0.490943</td>\n",
       "      <td>0.188856</td>\n",
       "      <td>0.458487</td>\n",
       "      <td>...</td>\n",
       "      <td>0.34612</td>\n",
       "      <td>0.211745</td>\n",
       "      <td>0.389301</td>\n",
       "      <td>0.383544</td>\n",
       "      <td>0.452588</td>\n",
       "      <td>0.310536</td>\n",
       "      <td>0.146757</td>\n",
       "      <td>0.4002</td>\n",
       "      <td>0.483046</td>\n",
       "      <td>0.355278</td>\n",
       "    </tr>\n",
       "    <tr>\n",
       "      <th>min</th>\n",
       "      <td>4.000000</td>\n",
       "      <td>250.000000</td>\n",
       "      <td>1.000000</td>\n",
       "      <td>1.000000</td>\n",
       "      <td>19.000000</td>\n",
       "      <td>1.000000</td>\n",
       "      <td>1.000000</td>\n",
       "      <td>0.000000</td>\n",
       "      <td>0.000000</td>\n",
       "      <td>0.000000</td>\n",
       "      <td>...</td>\n",
       "      <td>0.00000</td>\n",
       "      <td>0.000000</td>\n",
       "      <td>0.000000</td>\n",
       "      <td>0.000000</td>\n",
       "      <td>0.000000</td>\n",
       "      <td>0.000000</td>\n",
       "      <td>0.000000</td>\n",
       "      <td>0.0000</td>\n",
       "      <td>0.000000</td>\n",
       "      <td>0.000000</td>\n",
       "    </tr>\n",
       "    <tr>\n",
       "      <th>25%</th>\n",
       "      <td>12.000000</td>\n",
       "      <td>1365.500000</td>\n",
       "      <td>2.000000</td>\n",
       "      <td>2.000000</td>\n",
       "      <td>27.000000</td>\n",
       "      <td>1.000000</td>\n",
       "      <td>1.000000</td>\n",
       "      <td>0.000000</td>\n",
       "      <td>1.000000</td>\n",
       "      <td>0.000000</td>\n",
       "      <td>...</td>\n",
       "      <td>0.00000</td>\n",
       "      <td>0.000000</td>\n",
       "      <td>1.000000</td>\n",
       "      <td>0.000000</td>\n",
       "      <td>0.000000</td>\n",
       "      <td>0.000000</td>\n",
       "      <td>0.000000</td>\n",
       "      <td>0.0000</td>\n",
       "      <td>0.000000</td>\n",
       "      <td>0.000000</td>\n",
       "    </tr>\n",
       "    <tr>\n",
       "      <th>50%</th>\n",
       "      <td>18.000000</td>\n",
       "      <td>2319.500000</td>\n",
       "      <td>3.000000</td>\n",
       "      <td>3.000000</td>\n",
       "      <td>33.000000</td>\n",
       "      <td>1.000000</td>\n",
       "      <td>1.000000</td>\n",
       "      <td>1.000000</td>\n",
       "      <td>1.000000</td>\n",
       "      <td>1.000000</td>\n",
       "      <td>...</td>\n",
       "      <td>0.00000</td>\n",
       "      <td>0.000000</td>\n",
       "      <td>1.000000</td>\n",
       "      <td>0.000000</td>\n",
       "      <td>1.000000</td>\n",
       "      <td>0.000000</td>\n",
       "      <td>0.000000</td>\n",
       "      <td>0.0000</td>\n",
       "      <td>1.000000</td>\n",
       "      <td>0.000000</td>\n",
       "    </tr>\n",
       "    <tr>\n",
       "      <th>75%</th>\n",
       "      <td>24.000000</td>\n",
       "      <td>3972.250000</td>\n",
       "      <td>4.000000</td>\n",
       "      <td>4.000000</td>\n",
       "      <td>42.000000</td>\n",
       "      <td>2.000000</td>\n",
       "      <td>1.000000</td>\n",
       "      <td>1.000000</td>\n",
       "      <td>1.000000</td>\n",
       "      <td>1.000000</td>\n",
       "      <td>...</td>\n",
       "      <td>0.00000</td>\n",
       "      <td>0.000000</td>\n",
       "      <td>1.000000</td>\n",
       "      <td>0.000000</td>\n",
       "      <td>1.000000</td>\n",
       "      <td>0.000000</td>\n",
       "      <td>0.000000</td>\n",
       "      <td>0.0000</td>\n",
       "      <td>1.000000</td>\n",
       "      <td>0.000000</td>\n",
       "    </tr>\n",
       "    <tr>\n",
       "      <th>max</th>\n",
       "      <td>72.000000</td>\n",
       "      <td>18424.000000</td>\n",
       "      <td>4.000000</td>\n",
       "      <td>4.000000</td>\n",
       "      <td>75.000000</td>\n",
       "      <td>4.000000</td>\n",
       "      <td>2.000000</td>\n",
       "      <td>1.000000</td>\n",
       "      <td>1.000000</td>\n",
       "      <td>1.000000</td>\n",
       "      <td>...</td>\n",
       "      <td>1.00000</td>\n",
       "      <td>1.000000</td>\n",
       "      <td>1.000000</td>\n",
       "      <td>1.000000</td>\n",
       "      <td>1.000000</td>\n",
       "      <td>1.000000</td>\n",
       "      <td>1.000000</td>\n",
       "      <td>1.0000</td>\n",
       "      <td>1.000000</td>\n",
       "      <td>1.000000</td>\n",
       "    </tr>\n",
       "  </tbody>\n",
       "</table>\n",
       "<p>8 rows × 62 columns</p>\n",
       "</div>"
      ],
      "text/plain": [
       "          Duration        Amount  InstallmentRatePercentage  \\\n",
       "count  1000.000000   1000.000000                1000.000000   \n",
       "mean     20.903000   3271.258000                   2.973000   \n",
       "std      12.058814   2822.736876                   1.118715   \n",
       "min       4.000000    250.000000                   1.000000   \n",
       "25%      12.000000   1365.500000                   2.000000   \n",
       "50%      18.000000   2319.500000                   3.000000   \n",
       "75%      24.000000   3972.250000                   4.000000   \n",
       "max      72.000000  18424.000000                   4.000000   \n",
       "\n",
       "       ResidenceDuration          Age  NumberExistingCredits  \\\n",
       "count        1000.000000  1000.000000            1000.000000   \n",
       "mean            2.845000    35.546000               1.407000   \n",
       "std             1.103718    11.375469               0.577654   \n",
       "min             1.000000    19.000000               1.000000   \n",
       "25%             2.000000    27.000000               1.000000   \n",
       "50%             3.000000    33.000000               1.000000   \n",
       "75%             4.000000    42.000000               2.000000   \n",
       "max             4.000000    75.000000               4.000000   \n",
       "\n",
       "       NumberPeopleMaintenance    Telephone  ForeignWorker        Class  ...  \\\n",
       "count              1000.000000  1000.000000    1000.000000  1000.000000  ...   \n",
       "mean                  1.155000     0.596000       0.963000     0.700000  ...   \n",
       "std                   0.362086     0.490943       0.188856     0.458487  ...   \n",
       "min                   1.000000     0.000000       0.000000     0.000000  ...   \n",
       "25%                   1.000000     0.000000       1.000000     0.000000  ...   \n",
       "50%                   1.000000     1.000000       1.000000     1.000000  ...   \n",
       "75%                   1.000000     1.000000       1.000000     1.000000  ...   \n",
       "max                   2.000000     1.000000       1.000000     1.000000  ...   \n",
       "\n",
       "       OtherInstallmentPlans.Bank  OtherInstallmentPlans.Stores  \\\n",
       "count                  1000.00000                   1000.000000   \n",
       "mean                      0.13900                      0.047000   \n",
       "std                       0.34612                      0.211745   \n",
       "min                       0.00000                      0.000000   \n",
       "25%                       0.00000                      0.000000   \n",
       "50%                       0.00000                      0.000000   \n",
       "75%                       0.00000                      0.000000   \n",
       "max                       1.00000                      1.000000   \n",
       "\n",
       "       OtherInstallmentPlans.None  Housing.Rent  Housing.Own  Housing.ForFree  \\\n",
       "count                 1000.000000   1000.000000  1000.000000      1000.000000   \n",
       "mean                     0.814000      0.179000     0.713000         0.108000   \n",
       "std                      0.389301      0.383544     0.452588         0.310536   \n",
       "min                      0.000000      0.000000     0.000000         0.000000   \n",
       "25%                      1.000000      0.000000     0.000000         0.000000   \n",
       "50%                      1.000000      0.000000     1.000000         0.000000   \n",
       "75%                      1.000000      0.000000     1.000000         0.000000   \n",
       "max                      1.000000      1.000000     1.000000         1.000000   \n",
       "\n",
       "       Job.UnemployedUnskilled  Job.UnskilledResident  Job.SkilledEmployee  \\\n",
       "count              1000.000000              1000.0000          1000.000000   \n",
       "mean                  0.022000                 0.2000             0.630000   \n",
       "std                   0.146757                 0.4002             0.483046   \n",
       "min                   0.000000                 0.0000             0.000000   \n",
       "25%                   0.000000                 0.0000             0.000000   \n",
       "50%                   0.000000                 0.0000             1.000000   \n",
       "75%                   0.000000                 0.0000             1.000000   \n",
       "max                   1.000000                 1.0000             1.000000   \n",
       "\n",
       "       Job.Management.SelfEmp.HighlyQualified  \n",
       "count                             1000.000000  \n",
       "mean                                 0.148000  \n",
       "std                                  0.355278  \n",
       "min                                  0.000000  \n",
       "25%                                  0.000000  \n",
       "50%                                  0.000000  \n",
       "75%                                  0.000000  \n",
       "max                                  1.000000  \n",
       "\n",
       "[8 rows x 62 columns]"
      ]
     },
     "execution_count": 9,
     "metadata": {},
     "output_type": "execute_result"
    }
   ],
   "source": [
    "df.describe()"
   ]
  },
  {
   "cell_type": "code",
   "execution_count": 10,
   "metadata": {
    "execution": {
     "iopub.execute_input": "2022-11-24T16:19:46.974720Z",
     "iopub.status.busy": "2022-11-24T16:19:46.974269Z",
     "iopub.status.idle": "2022-11-24T16:19:47.005555Z",
     "shell.execute_reply": "2022-11-24T16:19:47.004904Z",
     "shell.execute_reply.started": "2022-11-24T16:19:46.974682Z"
    }
   },
   "outputs": [
    {
     "data": {
      "text/html": [
       "<div>\n",
       "<style scoped>\n",
       "    .dataframe tbody tr th:only-of-type {\n",
       "        vertical-align: middle;\n",
       "    }\n",
       "\n",
       "    .dataframe tbody tr th {\n",
       "        vertical-align: top;\n",
       "    }\n",
       "\n",
       "    .dataframe thead th {\n",
       "        text-align: right;\n",
       "    }\n",
       "</style>\n",
       "<table border=\"1\" class=\"dataframe\">\n",
       "  <thead>\n",
       "    <tr style=\"text-align: right;\">\n",
       "      <th></th>\n",
       "      <th>Duration</th>\n",
       "      <th>Amount</th>\n",
       "      <th>InstallmentRatePercentage</th>\n",
       "      <th>ResidenceDuration</th>\n",
       "      <th>Age</th>\n",
       "      <th>NumberExistingCredits</th>\n",
       "      <th>NumberPeopleMaintenance</th>\n",
       "      <th>Telephone</th>\n",
       "      <th>ForeignWorker</th>\n",
       "      <th>Class</th>\n",
       "      <th>...</th>\n",
       "      <th>OtherInstallmentPlans.Bank</th>\n",
       "      <th>OtherInstallmentPlans.Stores</th>\n",
       "      <th>OtherInstallmentPlans.None</th>\n",
       "      <th>Housing.Rent</th>\n",
       "      <th>Housing.Own</th>\n",
       "      <th>Housing.ForFree</th>\n",
       "      <th>Job.UnemployedUnskilled</th>\n",
       "      <th>Job.UnskilledResident</th>\n",
       "      <th>Job.SkilledEmployee</th>\n",
       "      <th>Job.Management.SelfEmp.HighlyQualified</th>\n",
       "    </tr>\n",
       "  </thead>\n",
       "  <tbody>\n",
       "    <tr>\n",
       "      <th>Duration</th>\n",
       "      <td>1.000000</td>\n",
       "      <td>0.624984</td>\n",
       "      <td>0.074749</td>\n",
       "      <td>0.034067</td>\n",
       "      <td>-0.036136</td>\n",
       "      <td>-0.011284</td>\n",
       "      <td>-0.023834</td>\n",
       "      <td>-0.164718</td>\n",
       "      <td>0.138196</td>\n",
       "      <td>-0.214927</td>\n",
       "      <td>...</td>\n",
       "      <td>0.035851</td>\n",
       "      <td>0.065688</td>\n",
       "      <td>-0.067602</td>\n",
       "      <td>-0.064417</td>\n",
       "      <td>-0.075169</td>\n",
       "      <td>0.189117</td>\n",
       "      <td>-0.044043</td>\n",
       "      <td>-0.181203</td>\n",
       "      <td>0.055010</td>\n",
       "      <td>0.147515</td>\n",
       "    </tr>\n",
       "    <tr>\n",
       "      <th>Amount</th>\n",
       "      <td>0.624984</td>\n",
       "      <td>1.000000</td>\n",
       "      <td>-0.271316</td>\n",
       "      <td>0.028926</td>\n",
       "      <td>0.032716</td>\n",
       "      <td>0.020795</td>\n",
       "      <td>0.017142</td>\n",
       "      <td>-0.276995</td>\n",
       "      <td>0.050050</td>\n",
       "      <td>-0.154739</td>\n",
       "      <td>...</td>\n",
       "      <td>0.039474</td>\n",
       "      <td>0.024262</td>\n",
       "      <td>-0.048292</td>\n",
       "      <td>-0.024611</td>\n",
       "      <td>-0.117497</td>\n",
       "      <td>0.201643</td>\n",
       "      <td>-0.027969</td>\n",
       "      <td>-0.161757</td>\n",
       "      <td>-0.092636</td>\n",
       "      <td>0.319715</td>\n",
       "    </tr>\n",
       "    <tr>\n",
       "      <th>InstallmentRatePercentage</th>\n",
       "      <td>0.074749</td>\n",
       "      <td>-0.271316</td>\n",
       "      <td>1.000000</td>\n",
       "      <td>0.049302</td>\n",
       "      <td>0.058266</td>\n",
       "      <td>0.021669</td>\n",
       "      <td>-0.071207</td>\n",
       "      <td>-0.014413</td>\n",
       "      <td>0.090024</td>\n",
       "      <td>-0.072404</td>\n",
       "      <td>...</td>\n",
       "      <td>-0.016150</td>\n",
       "      <td>0.056071</td>\n",
       "      <td>-0.016139</td>\n",
       "      <td>-0.091373</td>\n",
       "      <td>0.049922</td>\n",
       "      <td>0.040098</td>\n",
       "      <td>-0.087834</td>\n",
       "      <td>-0.057237</td>\n",
       "      <td>0.042623</td>\n",
       "      <td>0.042805</td>\n",
       "    </tr>\n",
       "    <tr>\n",
       "      <th>ResidenceDuration</th>\n",
       "      <td>0.034067</td>\n",
       "      <td>0.028926</td>\n",
       "      <td>0.049302</td>\n",
       "      <td>1.000000</td>\n",
       "      <td>0.266419</td>\n",
       "      <td>0.089625</td>\n",
       "      <td>0.042643</td>\n",
       "      <td>-0.095359</td>\n",
       "      <td>0.054097</td>\n",
       "      <td>-0.002967</td>\n",
       "      <td>...</td>\n",
       "      <td>0.014530</td>\n",
       "      <td>-0.054460</td>\n",
       "      <td>0.016704</td>\n",
       "      <td>0.167285</td>\n",
       "      <td>-0.297547</td>\n",
       "      <td>0.227044</td>\n",
       "      <td>-0.034545</td>\n",
       "      <td>0.009065</td>\n",
       "      <td>-0.000657</td>\n",
       "      <td>0.004952</td>\n",
       "    </tr>\n",
       "    <tr>\n",
       "      <th>Age</th>\n",
       "      <td>-0.036136</td>\n",
       "      <td>0.032716</td>\n",
       "      <td>0.058266</td>\n",
       "      <td>0.266419</td>\n",
       "      <td>1.000000</td>\n",
       "      <td>0.149254</td>\n",
       "      <td>0.118201</td>\n",
       "      <td>-0.145259</td>\n",
       "      <td>0.006151</td>\n",
       "      <td>0.091127</td>\n",
       "      <td>...</td>\n",
       "      <td>0.046552</td>\n",
       "      <td>-0.011080</td>\n",
       "      <td>-0.035362</td>\n",
       "      <td>-0.212620</td>\n",
       "      <td>0.006553</td>\n",
       "      <td>0.253058</td>\n",
       "      <td>0.059954</td>\n",
       "      <td>0.043712</td>\n",
       "      <td>-0.148283</td>\n",
       "      <td>0.127605</td>\n",
       "    </tr>\n",
       "    <tr>\n",
       "      <th>...</th>\n",
       "      <td>...</td>\n",
       "      <td>...</td>\n",
       "      <td>...</td>\n",
       "      <td>...</td>\n",
       "      <td>...</td>\n",
       "      <td>...</td>\n",
       "      <td>...</td>\n",
       "      <td>...</td>\n",
       "      <td>...</td>\n",
       "      <td>...</td>\n",
       "      <td>...</td>\n",
       "      <td>...</td>\n",
       "      <td>...</td>\n",
       "      <td>...</td>\n",
       "      <td>...</td>\n",
       "      <td>...</td>\n",
       "      <td>...</td>\n",
       "      <td>...</td>\n",
       "      <td>...</td>\n",
       "      <td>...</td>\n",
       "      <td>...</td>\n",
       "    </tr>\n",
       "    <tr>\n",
       "      <th>Housing.ForFree</th>\n",
       "      <td>0.189117</td>\n",
       "      <td>0.201643</td>\n",
       "      <td>0.040098</td>\n",
       "      <td>0.227044</td>\n",
       "      <td>0.253058</td>\n",
       "      <td>0.011406</td>\n",
       "      <td>0.118047</td>\n",
       "      <td>-0.114036</td>\n",
       "      <td>0.068205</td>\n",
       "      <td>-0.081556</td>\n",
       "      <td>...</td>\n",
       "      <td>0.074393</td>\n",
       "      <td>-0.031604</td>\n",
       "      <td>-0.048952</td>\n",
       "      <td>-0.162474</td>\n",
       "      <td>-0.548445</td>\n",
       "      <td>1.000000</td>\n",
       "      <td>0.035671</td>\n",
       "      <td>-0.109543</td>\n",
       "      <td>-0.033633</td>\n",
       "      <td>0.154388</td>\n",
       "    </tr>\n",
       "    <tr>\n",
       "      <th>Job.UnemployedUnskilled</th>\n",
       "      <td>-0.044043</td>\n",
       "      <td>-0.027969</td>\n",
       "      <td>-0.087834</td>\n",
       "      <td>-0.034545</td>\n",
       "      <td>0.059954</td>\n",
       "      <td>0.059582</td>\n",
       "      <td>-0.007723</td>\n",
       "      <td>0.040124</td>\n",
       "      <td>-0.042834</td>\n",
       "      <td>-0.005951</td>\n",
       "      <td>...</td>\n",
       "      <td>-0.001143</td>\n",
       "      <td>-0.033308</td>\n",
       "      <td>0.019133</td>\n",
       "      <td>0.018886</td>\n",
       "      <td>-0.040480</td>\n",
       "      <td>0.035671</td>\n",
       "      <td>1.000000</td>\n",
       "      <td>-0.074991</td>\n",
       "      <td>-0.195709</td>\n",
       "      <td>-0.062511</td>\n",
       "    </tr>\n",
       "    <tr>\n",
       "      <th>Job.UnskilledResident</th>\n",
       "      <td>-0.181203</td>\n",
       "      <td>-0.161757</td>\n",
       "      <td>-0.057237</td>\n",
       "      <td>0.009065</td>\n",
       "      <td>0.043712</td>\n",
       "      <td>-0.010392</td>\n",
       "      <td>0.145066</td>\n",
       "      <td>0.253720</td>\n",
       "      <td>-0.087412</td>\n",
       "      <td>0.021822</td>\n",
       "      <td>...</td>\n",
       "      <td>0.044805</td>\n",
       "      <td>0.030713</td>\n",
       "      <td>-0.056540</td>\n",
       "      <td>0.014347</td>\n",
       "      <td>0.063003</td>\n",
       "      <td>-0.109543</td>\n",
       "      <td>-0.074991</td>\n",
       "      <td>1.000000</td>\n",
       "      <td>-0.652438</td>\n",
       "      <td>-0.208392</td>\n",
       "    </tr>\n",
       "    <tr>\n",
       "      <th>Job.SkilledEmployee</th>\n",
       "      <td>0.055010</td>\n",
       "      <td>-0.092636</td>\n",
       "      <td>0.042623</td>\n",
       "      <td>-0.000657</td>\n",
       "      <td>-0.148283</td>\n",
       "      <td>-0.001471</td>\n",
       "      <td>-0.106737</td>\n",
       "      <td>0.061289</td>\n",
       "      <td>0.047292</td>\n",
       "      <td>0.013559</td>\n",
       "      <td>...</td>\n",
       "      <td>-0.075258</td>\n",
       "      <td>-0.035330</td>\n",
       "      <td>0.086127</td>\n",
       "      <td>0.012049</td>\n",
       "      <td>0.012866</td>\n",
       "      <td>-0.033633</td>\n",
       "      <td>-0.195709</td>\n",
       "      <td>-0.652438</td>\n",
       "      <td>1.000000</td>\n",
       "      <td>-0.543852</td>\n",
       "    </tr>\n",
       "    <tr>\n",
       "      <th>Job.Management.SelfEmp.HighlyQualified</th>\n",
       "      <td>0.147515</td>\n",
       "      <td>0.319715</td>\n",
       "      <td>0.042805</td>\n",
       "      <td>0.004952</td>\n",
       "      <td>0.127605</td>\n",
       "      <td>-0.010906</td>\n",
       "      <td>-0.015096</td>\n",
       "      <td>-0.385706</td>\n",
       "      <td>0.051858</td>\n",
       "      <td>-0.040559</td>\n",
       "      <td>...</td>\n",
       "      <td>0.052326</td>\n",
       "      <td>0.027198</td>\n",
       "      <td>-0.061315</td>\n",
       "      <td>-0.040344</td>\n",
       "      <td>-0.071741</td>\n",
       "      <td>0.154388</td>\n",
       "      <td>-0.062511</td>\n",
       "      <td>-0.208392</td>\n",
       "      <td>-0.543852</td>\n",
       "      <td>1.000000</td>\n",
       "    </tr>\n",
       "  </tbody>\n",
       "</table>\n",
       "<p>62 rows × 62 columns</p>\n",
       "</div>"
      ],
      "text/plain": [
       "                                        Duration    Amount  \\\n",
       "Duration                                1.000000  0.624984   \n",
       "Amount                                  0.624984  1.000000   \n",
       "InstallmentRatePercentage               0.074749 -0.271316   \n",
       "ResidenceDuration                       0.034067  0.028926   \n",
       "Age                                    -0.036136  0.032716   \n",
       "...                                          ...       ...   \n",
       "Housing.ForFree                         0.189117  0.201643   \n",
       "Job.UnemployedUnskilled                -0.044043 -0.027969   \n",
       "Job.UnskilledResident                  -0.181203 -0.161757   \n",
       "Job.SkilledEmployee                     0.055010 -0.092636   \n",
       "Job.Management.SelfEmp.HighlyQualified  0.147515  0.319715   \n",
       "\n",
       "                                        InstallmentRatePercentage  \\\n",
       "Duration                                                 0.074749   \n",
       "Amount                                                  -0.271316   \n",
       "InstallmentRatePercentage                                1.000000   \n",
       "ResidenceDuration                                        0.049302   \n",
       "Age                                                      0.058266   \n",
       "...                                                           ...   \n",
       "Housing.ForFree                                          0.040098   \n",
       "Job.UnemployedUnskilled                                 -0.087834   \n",
       "Job.UnskilledResident                                   -0.057237   \n",
       "Job.SkilledEmployee                                      0.042623   \n",
       "Job.Management.SelfEmp.HighlyQualified                   0.042805   \n",
       "\n",
       "                                        ResidenceDuration       Age  \\\n",
       "Duration                                         0.034067 -0.036136   \n",
       "Amount                                           0.028926  0.032716   \n",
       "InstallmentRatePercentage                        0.049302  0.058266   \n",
       "ResidenceDuration                                1.000000  0.266419   \n",
       "Age                                              0.266419  1.000000   \n",
       "...                                                   ...       ...   \n",
       "Housing.ForFree                                  0.227044  0.253058   \n",
       "Job.UnemployedUnskilled                         -0.034545  0.059954   \n",
       "Job.UnskilledResident                            0.009065  0.043712   \n",
       "Job.SkilledEmployee                             -0.000657 -0.148283   \n",
       "Job.Management.SelfEmp.HighlyQualified           0.004952  0.127605   \n",
       "\n",
       "                                        NumberExistingCredits  \\\n",
       "Duration                                            -0.011284   \n",
       "Amount                                               0.020795   \n",
       "InstallmentRatePercentage                            0.021669   \n",
       "ResidenceDuration                                    0.089625   \n",
       "Age                                                  0.149254   \n",
       "...                                                       ...   \n",
       "Housing.ForFree                                      0.011406   \n",
       "Job.UnemployedUnskilled                              0.059582   \n",
       "Job.UnskilledResident                               -0.010392   \n",
       "Job.SkilledEmployee                                 -0.001471   \n",
       "Job.Management.SelfEmp.HighlyQualified              -0.010906   \n",
       "\n",
       "                                        NumberPeopleMaintenance  Telephone  \\\n",
       "Duration                                              -0.023834  -0.164718   \n",
       "Amount                                                 0.017142  -0.276995   \n",
       "InstallmentRatePercentage                             -0.071207  -0.014413   \n",
       "ResidenceDuration                                      0.042643  -0.095359   \n",
       "Age                                                    0.118201  -0.145259   \n",
       "...                                                         ...        ...   \n",
       "Housing.ForFree                                        0.118047  -0.114036   \n",
       "Job.UnemployedUnskilled                               -0.007723   0.040124   \n",
       "Job.UnskilledResident                                  0.145066   0.253720   \n",
       "Job.SkilledEmployee                                   -0.106737   0.061289   \n",
       "Job.Management.SelfEmp.HighlyQualified                -0.015096  -0.385706   \n",
       "\n",
       "                                        ForeignWorker     Class  ...  \\\n",
       "Duration                                     0.138196 -0.214927  ...   \n",
       "Amount                                       0.050050 -0.154739  ...   \n",
       "InstallmentRatePercentage                    0.090024 -0.072404  ...   \n",
       "ResidenceDuration                            0.054097 -0.002967  ...   \n",
       "Age                                          0.006151  0.091127  ...   \n",
       "...                                               ...       ...  ...   \n",
       "Housing.ForFree                              0.068205 -0.081556  ...   \n",
       "Job.UnemployedUnskilled                     -0.042834 -0.005951  ...   \n",
       "Job.UnskilledResident                       -0.087412  0.021822  ...   \n",
       "Job.SkilledEmployee                          0.047292  0.013559  ...   \n",
       "Job.Management.SelfEmp.HighlyQualified       0.051858 -0.040559  ...   \n",
       "\n",
       "                                        OtherInstallmentPlans.Bank  \\\n",
       "Duration                                                  0.035851   \n",
       "Amount                                                    0.039474   \n",
       "InstallmentRatePercentage                                -0.016150   \n",
       "ResidenceDuration                                         0.014530   \n",
       "Age                                                       0.046552   \n",
       "...                                                            ...   \n",
       "Housing.ForFree                                           0.074393   \n",
       "Job.UnemployedUnskilled                                  -0.001143   \n",
       "Job.UnskilledResident                                     0.044805   \n",
       "Job.SkilledEmployee                                      -0.075258   \n",
       "Job.Management.SelfEmp.HighlyQualified                    0.052326   \n",
       "\n",
       "                                        OtherInstallmentPlans.Stores  \\\n",
       "Duration                                                    0.065688   \n",
       "Amount                                                      0.024262   \n",
       "InstallmentRatePercentage                                   0.056071   \n",
       "ResidenceDuration                                          -0.054460   \n",
       "Age                                                        -0.011080   \n",
       "...                                                              ...   \n",
       "Housing.ForFree                                            -0.031604   \n",
       "Job.UnemployedUnskilled                                    -0.033308   \n",
       "Job.UnskilledResident                                       0.030713   \n",
       "Job.SkilledEmployee                                        -0.035330   \n",
       "Job.Management.SelfEmp.HighlyQualified                      0.027198   \n",
       "\n",
       "                                        OtherInstallmentPlans.None  \\\n",
       "Duration                                                 -0.067602   \n",
       "Amount                                                   -0.048292   \n",
       "InstallmentRatePercentage                                -0.016139   \n",
       "ResidenceDuration                                         0.016704   \n",
       "Age                                                      -0.035362   \n",
       "...                                                            ...   \n",
       "Housing.ForFree                                          -0.048952   \n",
       "Job.UnemployedUnskilled                                   0.019133   \n",
       "Job.UnskilledResident                                    -0.056540   \n",
       "Job.SkilledEmployee                                       0.086127   \n",
       "Job.Management.SelfEmp.HighlyQualified                   -0.061315   \n",
       "\n",
       "                                        Housing.Rent  Housing.Own  \\\n",
       "Duration                                   -0.064417    -0.075169   \n",
       "Amount                                     -0.024611    -0.117497   \n",
       "InstallmentRatePercentage                  -0.091373     0.049922   \n",
       "ResidenceDuration                           0.167285    -0.297547   \n",
       "Age                                        -0.212620     0.006553   \n",
       "...                                              ...          ...   \n",
       "Housing.ForFree                            -0.162474    -0.548445   \n",
       "Job.UnemployedUnskilled                     0.018886    -0.040480   \n",
       "Job.UnskilledResident                       0.014347     0.063003   \n",
       "Job.SkilledEmployee                         0.012049     0.012866   \n",
       "Job.Management.SelfEmp.HighlyQualified     -0.040344    -0.071741   \n",
       "\n",
       "                                        Housing.ForFree  \\\n",
       "Duration                                       0.189117   \n",
       "Amount                                         0.201643   \n",
       "InstallmentRatePercentage                      0.040098   \n",
       "ResidenceDuration                              0.227044   \n",
       "Age                                            0.253058   \n",
       "...                                                 ...   \n",
       "Housing.ForFree                                1.000000   \n",
       "Job.UnemployedUnskilled                        0.035671   \n",
       "Job.UnskilledResident                         -0.109543   \n",
       "Job.SkilledEmployee                           -0.033633   \n",
       "Job.Management.SelfEmp.HighlyQualified         0.154388   \n",
       "\n",
       "                                        Job.UnemployedUnskilled  \\\n",
       "Duration                                              -0.044043   \n",
       "Amount                                                -0.027969   \n",
       "InstallmentRatePercentage                             -0.087834   \n",
       "ResidenceDuration                                     -0.034545   \n",
       "Age                                                    0.059954   \n",
       "...                                                         ...   \n",
       "Housing.ForFree                                        0.035671   \n",
       "Job.UnemployedUnskilled                                1.000000   \n",
       "Job.UnskilledResident                                 -0.074991   \n",
       "Job.SkilledEmployee                                   -0.195709   \n",
       "Job.Management.SelfEmp.HighlyQualified                -0.062511   \n",
       "\n",
       "                                        Job.UnskilledResident  \\\n",
       "Duration                                            -0.181203   \n",
       "Amount                                              -0.161757   \n",
       "InstallmentRatePercentage                           -0.057237   \n",
       "ResidenceDuration                                    0.009065   \n",
       "Age                                                  0.043712   \n",
       "...                                                       ...   \n",
       "Housing.ForFree                                     -0.109543   \n",
       "Job.UnemployedUnskilled                             -0.074991   \n",
       "Job.UnskilledResident                                1.000000   \n",
       "Job.SkilledEmployee                                 -0.652438   \n",
       "Job.Management.SelfEmp.HighlyQualified              -0.208392   \n",
       "\n",
       "                                        Job.SkilledEmployee  \\\n",
       "Duration                                           0.055010   \n",
       "Amount                                            -0.092636   \n",
       "InstallmentRatePercentage                          0.042623   \n",
       "ResidenceDuration                                 -0.000657   \n",
       "Age                                               -0.148283   \n",
       "...                                                     ...   \n",
       "Housing.ForFree                                   -0.033633   \n",
       "Job.UnemployedUnskilled                           -0.195709   \n",
       "Job.UnskilledResident                             -0.652438   \n",
       "Job.SkilledEmployee                                1.000000   \n",
       "Job.Management.SelfEmp.HighlyQualified            -0.543852   \n",
       "\n",
       "                                        Job.Management.SelfEmp.HighlyQualified  \n",
       "Duration                                                              0.147515  \n",
       "Amount                                                                0.319715  \n",
       "InstallmentRatePercentage                                             0.042805  \n",
       "ResidenceDuration                                                     0.004952  \n",
       "Age                                                                   0.127605  \n",
       "...                                                                        ...  \n",
       "Housing.ForFree                                                       0.154388  \n",
       "Job.UnemployedUnskilled                                              -0.062511  \n",
       "Job.UnskilledResident                                                -0.208392  \n",
       "Job.SkilledEmployee                                                  -0.543852  \n",
       "Job.Management.SelfEmp.HighlyQualified                                1.000000  \n",
       "\n",
       "[62 rows x 62 columns]"
      ]
     },
     "execution_count": 10,
     "metadata": {},
     "output_type": "execute_result"
    }
   ],
   "source": [
    "df.corr()"
   ]
  },
  {
   "cell_type": "code",
   "execution_count": 11,
   "metadata": {
    "collapsed": false,
    "execution": {
     "iopub.execute_input": "2022-11-24T16:19:47.007755Z",
     "iopub.status.busy": "2022-11-24T16:19:47.007274Z",
     "iopub.status.idle": "2022-11-24T16:19:47.079135Z",
     "shell.execute_reply": "2022-11-24T16:19:47.078606Z",
     "shell.execute_reply.started": "2022-11-24T16:19:47.007713Z"
    },
    "jupyter": {
     "outputs_hidden": false
    }
   },
   "outputs": [
    {
     "name": "stdout",
     "output_type": "stream",
     "text": [
      "<class 'pandas.core.frame.DataFrame'>\n",
      "RangeIndex: 1000 entries, 0 to 999\n",
      "Data columns (total 62 columns):\n",
      " #   Column                                  Non-Null Count  Dtype\n",
      "---  ------                                  --------------  -----\n",
      " 0   Duration                                1000 non-null   int64\n",
      " 1   Amount                                  1000 non-null   int64\n",
      " 2   InstallmentRatePercentage               1000 non-null   int64\n",
      " 3   ResidenceDuration                       1000 non-null   int64\n",
      " 4   Age                                     1000 non-null   int64\n",
      " 5   NumberExistingCredits                   1000 non-null   int64\n",
      " 6   NumberPeopleMaintenance                 1000 non-null   int64\n",
      " 7   Telephone                               1000 non-null   int64\n",
      " 8   ForeignWorker                           1000 non-null   int64\n",
      " 9   Class                                   1000 non-null   int64\n",
      " 10  CheckingAccountStatus.lt.0              1000 non-null   int64\n",
      " 11  CheckingAccountStatus.0.to.200          1000 non-null   int64\n",
      " 12  CheckingAccountStatus.gt.200            1000 non-null   int64\n",
      " 13  CheckingAccountStatus.none              1000 non-null   int64\n",
      " 14  CreditHistory.NoCredit.AllPaid          1000 non-null   int64\n",
      " 15  CreditHistory.ThisBank.AllPaid          1000 non-null   int64\n",
      " 16  CreditHistory.PaidDuly                  1000 non-null   int64\n",
      " 17  CreditHistory.Delay                     1000 non-null   int64\n",
      " 18  CreditHistory.Critical                  1000 non-null   int64\n",
      " 19  Purpose.NewCar                          1000 non-null   int64\n",
      " 20  Purpose.UsedCar                         1000 non-null   int64\n",
      " 21  Purpose.Furniture.Equipment             1000 non-null   int64\n",
      " 22  Purpose.Radio.Television                1000 non-null   int64\n",
      " 23  Purpose.DomesticAppliance               1000 non-null   int64\n",
      " 24  Purpose.Repairs                         1000 non-null   int64\n",
      " 25  Purpose.Education                       1000 non-null   int64\n",
      " 26  Purpose.Vacation                        1000 non-null   int64\n",
      " 27  Purpose.Retraining                      1000 non-null   int64\n",
      " 28  Purpose.Business                        1000 non-null   int64\n",
      " 29  Purpose.Other                           1000 non-null   int64\n",
      " 30  SavingsAccountBonds.lt.100              1000 non-null   int64\n",
      " 31  SavingsAccountBonds.100.to.500          1000 non-null   int64\n",
      " 32  SavingsAccountBonds.500.to.1000         1000 non-null   int64\n",
      " 33  SavingsAccountBonds.gt.1000             1000 non-null   int64\n",
      " 34  SavingsAccountBonds.Unknown             1000 non-null   int64\n",
      " 35  EmploymentDuration.lt.1                 1000 non-null   int64\n",
      " 36  EmploymentDuration.1.to.4               1000 non-null   int64\n",
      " 37  EmploymentDuration.4.to.7               1000 non-null   int64\n",
      " 38  EmploymentDuration.gt.7                 1000 non-null   int64\n",
      " 39  EmploymentDuration.Unemployed           1000 non-null   int64\n",
      " 40  Personal.Male.Divorced.Seperated        1000 non-null   int64\n",
      " 41  Personal.Female.NotSingle               1000 non-null   int64\n",
      " 42  Personal.Male.Single                    1000 non-null   int64\n",
      " 43  Personal.Male.Married.Widowed           1000 non-null   int64\n",
      " 44  Personal.Female.Single                  1000 non-null   int64\n",
      " 45  OtherDebtorsGuarantors.None             1000 non-null   int64\n",
      " 46  OtherDebtorsGuarantors.CoApplicant      1000 non-null   int64\n",
      " 47  OtherDebtorsGuarantors.Guarantor        1000 non-null   int64\n",
      " 48  Property.RealEstate                     1000 non-null   int64\n",
      " 49  Property.Insurance                      1000 non-null   int64\n",
      " 50  Property.CarOther                       1000 non-null   int64\n",
      " 51  Property.Unknown                        1000 non-null   int64\n",
      " 52  OtherInstallmentPlans.Bank              1000 non-null   int64\n",
      " 53  OtherInstallmentPlans.Stores            1000 non-null   int64\n",
      " 54  OtherInstallmentPlans.None              1000 non-null   int64\n",
      " 55  Housing.Rent                            1000 non-null   int64\n",
      " 56  Housing.Own                             1000 non-null   int64\n",
      " 57  Housing.ForFree                         1000 non-null   int64\n",
      " 58  Job.UnemployedUnskilled                 1000 non-null   int64\n",
      " 59  Job.UnskilledResident                   1000 non-null   int64\n",
      " 60  Job.SkilledEmployee                     1000 non-null   int64\n",
      " 61  Job.Management.SelfEmp.HighlyQualified  1000 non-null   int64\n",
      "dtypes: int64(62)\n",
      "memory usage: 484.5 KB\n"
     ]
    }
   ],
   "source": [
    "df.info()"
   ]
  },
  {
   "cell_type": "code",
   "execution_count": 12,
   "metadata": {
    "collapsed": false,
    "execution": {
     "iopub.execute_input": "2022-11-24T16:19:47.081057Z",
     "iopub.status.busy": "2022-11-24T16:19:47.080669Z",
     "iopub.status.idle": "2022-11-24T16:19:47.083876Z",
     "shell.execute_reply": "2022-11-24T16:19:47.083359Z",
     "shell.execute_reply.started": "2022-11-24T16:19:47.080993Z"
    },
    "jupyter": {
     "outputs_hidden": false
    }
   },
   "outputs": [],
   "source": [
    "#from sklearn.neighbors import KNeighborsClassifier\n",
    "\n",
    "model = DecisionTreeClassifier()\n",
    "#model = KNeighborsClassifier()"
   ]
  },
  {
   "cell_type": "code",
   "execution_count": 13,
   "metadata": {
    "collapsed": false,
    "execution": {
     "iopub.execute_input": "2022-11-24T16:19:47.085803Z",
     "iopub.status.busy": "2022-11-24T16:19:47.085198Z",
     "iopub.status.idle": "2022-11-24T16:19:47.092901Z",
     "shell.execute_reply": "2022-11-24T16:19:47.092186Z",
     "shell.execute_reply.started": "2022-11-24T16:19:47.085761Z"
    },
    "jupyter": {
     "outputs_hidden": false
    }
   },
   "outputs": [
    {
     "name": "stdout",
     "output_type": "stream",
     "text": [
      "(1000, 61) (1000,)\n"
     ]
    }
   ],
   "source": [
    "y = df[\"Class\"].copy()\n",
    "#X = df[['Housing.Rent','Housing.ForFree']].copy()\n",
    "X = df.drop(\"Class\", axis=1)\n",
    "X_columns = X.columns\n",
    "print(X.shape, y.shape)\n",
    "\n"
   ]
  },
  {
   "cell_type": "code",
   "execution_count": 14,
   "metadata": {
    "execution": {
     "iopub.execute_input": "2022-11-24T16:19:47.094767Z",
     "iopub.status.busy": "2022-11-24T16:19:47.094311Z",
     "iopub.status.idle": "2022-11-24T16:19:47.103744Z",
     "shell.execute_reply": "2022-11-24T16:19:47.102847Z",
     "shell.execute_reply.started": "2022-11-24T16:19:47.094723Z"
    }
   },
   "outputs": [
    {
     "data": {
      "text/plain": [
       "((700, 61), (300, 61), (700,), (300,))"
      ]
     },
     "execution_count": 14,
     "metadata": {},
     "output_type": "execute_result"
    }
   ],
   "source": [
    "# Create training and test sets\n",
    "X_train, X_test, y_train, y_test = train_test_split(X, y, test_size=.3, random_state=42)\n",
    "X_train.shape, X_test.shape, y_train.shape, y_test.shape"
   ]
  },
  {
   "cell_type": "code",
   "execution_count": 15,
   "metadata": {
    "execution": {
     "iopub.execute_input": "2022-11-24T16:19:47.171052Z",
     "iopub.status.busy": "2022-11-24T16:19:47.170520Z",
     "iopub.status.idle": "2022-11-24T16:19:50.893845Z",
     "shell.execute_reply": "2022-11-24T16:19:50.893012Z",
     "shell.execute_reply.started": "2022-11-24T16:19:47.171012Z"
    }
   },
   "outputs": [
    {
     "name": "stdout",
     "output_type": "stream",
     "text": [
      "Fitting 3 folds for each of 1 candidates, totalling 3 fits\n"
     ]
    }
   ],
   "source": [
    "if False:\n",
    "    from sklearn.model_selection import cross_val_score\n",
    "\n",
    "    # Compute 5-fold cross-validation scores: cv_scores\n",
    "    cv_scores = cross_val_score(model, X_train, y_train, cv=5)\n",
    "\n",
    "    print(cv_scores)\n",
    "\n",
    "    print(\"Average 5-Fold CV Score: {}\".format(np.mean(cv_scores)))\n",
    "else:\n",
    "\n",
    "    param_options = {}\n",
    "\n",
    "    #crossval_runner = RandomizedSearchCV(\n",
    "    crossval_runner = GridSearchCV(\n",
    "        estimator=model,\n",
    "        param_grid=param_options,\n",
    "        #param_distributions=param_options,\n",
    "        cv=3, n_jobs=3,  # get the AVX/AVX2 info if use n_jobs > 2\n",
    "        verbose=1, scoring='r2',\n",
    "        refit=True,\n",
    "        return_train_score=True,  #n_iter=n_iter,\n",
    "        #n_iter=100,\n",
    "        #error_score='raise'\n",
    "    )\n",
    "\n",
    "    crossval_runner.fit(X_train, y_train)\n"
   ]
  },
  {
   "cell_type": "code",
   "execution_count": 16,
   "metadata": {
    "collapsed": false,
    "execution": {
     "iopub.execute_input": "2022-11-24T16:19:50.895904Z",
     "iopub.status.busy": "2022-11-24T16:19:50.895405Z",
     "iopub.status.idle": "2022-11-24T16:19:50.903775Z",
     "shell.execute_reply": "2022-11-24T16:19:50.900205Z",
     "shell.execute_reply.started": "2022-11-24T16:19:50.895852Z"
    },
    "jupyter": {
     "outputs_hidden": false
    }
   },
   "outputs": [
    {
     "data": {
      "text/plain": [
       "DecisionTreeClassifier()"
      ]
     },
     "execution_count": 16,
     "metadata": {},
     "output_type": "execute_result"
    }
   ],
   "source": [
    "crossval_runner.best_estimator_"
   ]
  },
  {
   "cell_type": "code",
   "execution_count": 17,
   "metadata": {
    "execution": {
     "iopub.execute_input": "2022-11-24T16:19:50.905788Z",
     "iopub.status.busy": "2022-11-24T16:19:50.905221Z",
     "iopub.status.idle": "2022-11-24T16:19:50.973212Z",
     "shell.execute_reply": "2022-11-24T16:19:50.972138Z",
     "shell.execute_reply.started": "2022-11-24T16:19:50.905748Z"
    }
   },
   "outputs": [
    {
     "data": {
      "text/plain": [
       "array([1, 1, 0, 0, 1, 1, 1, 0, 1, 1, 1, 0, 1, 0, 0, 1, 1, 1, 1, 1, 1, 1,\n",
       "       1, 1, 1, 0, 0, 1, 1, 1, 1, 1, 0, 0, 1, 0, 1, 1, 1, 1, 0, 1, 1, 1,\n",
       "       1, 1, 0, 1, 0, 0, 1, 1, 1, 1, 1, 1, 1, 0, 0, 1, 1, 0, 1, 1, 0, 1,\n",
       "       1, 0, 1, 1, 1, 1, 1, 1, 1, 1, 0, 1, 1, 1, 1, 1, 1, 1, 1, 0, 0, 0,\n",
       "       1, 1, 1, 1, 0, 1, 1, 1, 1, 0, 0, 0, 1, 1, 1, 1, 1, 0, 0, 0, 1, 0,\n",
       "       0, 1, 1, 1, 0, 1, 1, 1, 1, 0, 1, 0, 1, 1, 1, 1, 0, 1, 0, 1, 1, 1,\n",
       "       1, 1, 0, 0, 1, 1, 1, 1, 1, 1, 0, 1, 0, 0, 1, 0, 1, 0, 1, 0, 1, 1,\n",
       "       1, 0, 1, 1, 1, 1, 1, 1, 0, 0, 1, 1, 1, 0, 1, 1, 0, 1, 0, 1, 1, 0,\n",
       "       0, 1, 1, 0, 1, 1, 1, 1, 1, 1, 0, 1, 1, 1, 1, 0, 0, 1, 1, 1, 0, 1,\n",
       "       0, 1, 0, 1, 1, 1, 1, 0, 1, 1, 0, 1, 0, 0, 0, 0, 1, 1, 0, 0, 1, 1,\n",
       "       1, 1, 1, 1, 0, 1, 1, 0, 1, 0, 1, 1, 0, 1, 1, 1, 1, 1, 1, 1, 0, 1,\n",
       "       1, 1, 0, 1, 0, 1, 1, 0, 1, 1, 0, 1, 0, 1, 1, 1, 1, 1, 1, 1, 1, 1,\n",
       "       1, 1, 1, 1, 0, 0, 1, 1, 1, 1, 1, 0, 1, 1, 1, 0, 1, 1, 1, 0, 1, 1,\n",
       "       0, 1, 1, 1, 0, 1, 0, 0, 1, 1, 1, 0, 1, 1])"
      ]
     },
     "execution_count": 17,
     "metadata": {},
     "output_type": "execute_result"
    }
   ],
   "source": [
    "# Predict on the test data: y_pred\n",
    "y_pred = crossval_runner.best_estimator_.predict(X_test)\n",
    "y_pred"
   ]
  },
  {
   "cell_type": "markdown",
   "metadata": {},
   "source": [
    "### After you've built the best model you can, now it's time to visualize it!"
   ]
  },
  {
   "cell_type": "markdown",
   "metadata": {},
   "source": [
    "Rememeber that amazing blog post from a few paragraphs ago, that demonstrated how to visualize and interpret the results of your Decision Tree model. We've seen that this can perform very well, but let's see how it does on the \"German Credit\" dataset that we're working on, due to it being a bit larger than the one used by the blog authors."
   ]
  },
  {
   "cell_type": "markdown",
   "metadata": {},
   "source": [
    "First, we're going to need to install their package. If you're using Anaconda, this can be done easily by running:"
   ]
  },
  {
   "cell_type": "code",
   "execution_count": null,
   "metadata": {},
   "outputs": [],
   "source": []
  },
  {
   "cell_type": "markdown",
   "metadata": {},
   "source": [
    "If for any reason this way of installing doesn't work for you straight out of the box, please refer to the more detailed documentation here: https://github.com/parrt/dtreeviz"
   ]
  },
  {
   "cell_type": "markdown",
   "metadata": {},
   "source": [
    "Now you're ready to visualize your Decision Tree model! Please feel free to use the blog post for guidance and inspiration!"
   ]
  },
  {
   "cell_type": "code",
   "execution_count": 18,
   "metadata": {
    "execution": {
     "iopub.execute_input": "2022-11-24T16:19:50.974581Z",
     "iopub.status.busy": "2022-11-24T16:19:50.974357Z",
     "iopub.status.idle": "2022-11-24T16:19:50.988444Z",
     "shell.execute_reply": "2022-11-24T16:19:50.987462Z",
     "shell.execute_reply.started": "2022-11-24T16:19:50.974543Z"
    }
   },
   "outputs": [
    {
     "name": "stdout",
     "output_type": "stream",
     "text": [
      "[['Bad']\n",
      " ['Good']]\n",
      "[1. 0. 1. 1. 0.]\n"
     ]
    }
   ],
   "source": [
    "from numpy import asarray\n",
    "from sklearn.preprocessing import OrdinalEncoder\n",
    "\n",
    "# define data\n",
    "data = asarray([['Bad'], ['Good']])\n",
    "print(data)\n",
    "# define ordinal encoding\n",
    "encoder = OrdinalEncoder()\n",
    "# transform data\n",
    "y_numeric = encoder.fit_transform(df[[\"Class\"]]).flatten()\n",
    "print(y_numeric[:5])"
   ]
  },
  {
   "cell_type": "code",
   "execution_count": 19,
   "metadata": {
    "execution": {
     "iopub.execute_input": "2022-11-24T16:19:50.993803Z",
     "iopub.status.busy": "2022-11-24T16:19:50.993488Z",
     "iopub.status.idle": "2022-11-24T16:20:25.502632Z",
     "shell.execute_reply": "2022-11-24T16:20:25.501903Z",
     "shell.execute_reply.started": "2022-11-24T16:19:50.993752Z"
    }
   },
   "outputs": [
    {
     "name": "stderr",
     "output_type": "stream",
     "text": [
      "findfont: Font family ['Arial'] not found. Falling back to DejaVu Sans.\n",
      "/opt/conda/envs/springboard/lib/python3.7/site-packages/sklearn/base.py:451: UserWarning: X does not have valid feature names, but DecisionTreeClassifier was fitted with feature names\n",
      "  \"X does not have valid feature names, but\"\n",
      "findfont: Font family ['Arial'] not found. Falling back to DejaVu Sans.\n",
      "findfont: Font family ['Arial'] not found. Falling back to DejaVu Sans.\n",
      "findfont: Font family ['Arial'] not found. Falling back to DejaVu Sans.\n"
     ]
    }
   ],
   "source": [
    "from dtreeviz.trees import *\n",
    "\n",
    "viz = dtreeviz(crossval_runner.best_estimator_,\n",
    "               X,\n",
    "               y_numeric,\n",
    "               target_name='Class',\n",
    "               #class_names=[\"Good\", \"Bad\"],\n",
    "               class_names=[0,1],\n",
    "               feature_names=X.columns\n",
    "               )\n",
    "#viz.view()"
   ]
  },
  {
   "cell_type": "code",
   "execution_count": 20,
   "metadata": {
    "collapsed": false,
    "execution": {
     "iopub.execute_input": "2022-11-24T16:20:25.504941Z",
     "iopub.status.busy": "2022-11-24T16:20:25.504743Z",
     "iopub.status.idle": "2022-11-24T16:20:29.955666Z",
     "shell.execute_reply": "2022-11-24T16:20:29.954648Z",
     "shell.execute_reply.started": "2022-11-24T16:20:25.504912Z"
    },
    "jupyter": {
     "outputs_hidden": false
    }
   },
   "outputs": [],
   "source": [
    "viz.save('file2.svg')"
   ]
  },
  {
   "cell_type": "markdown",
   "metadata": {},
   "source": [
    "## Random Forests"
   ]
  },
  {
   "cell_type": "markdown",
   "metadata": {},
   "source": [
    "As discussed in the lecture videos, Decision Tree algorithms also have certain undesireable properties. Mainly the have low bias, which is good, but tend to have high variance - which is *not* so good (more about this problem here: https://en.wikipedia.org/wiki/Bias%E2%80%93variance_tradeoff)."
   ]
  },
  {
   "cell_type": "markdown",
   "metadata": {},
   "source": [
    "Noticing these problems, the late Professor Leo Breiman, in 2001, developed the Random Forests algorithm, which mitigates these problems, while at the same time providing even higher predictive accuracy than the majority of Decision Tree algorithm implementations. While the curriculum contains two excellent lectures on Random Forests, if you're interested, you can dive into the original paper here: https://link.springer.com/content/pdf/10.1023%2FA%3A1010933404324.pdf."
   ]
  },
  {
   "cell_type": "markdown",
   "metadata": {},
   "source": [
    "In the next part of this assignment, your are going to use the same \"German Credit\" dataset to train, tune, and measure the performance of a Random Forests model. You will also see certain functionalities that this model, even though it's a bit of a \"black box\", provides for some degree of interpretability."
   ]
  },
  {
   "cell_type": "markdown",
   "metadata": {},
   "source": [
    "First, let's build a Random Forests model, using the same best practices that you've used for your Decision Trees model. You can reuse the things you've already imported there, so no need to do any re-imports, new train/test splits, or loading up the data again."
   ]
  },
  {
   "cell_type": "code",
   "execution_count": 21,
   "metadata": {
    "execution": {
     "iopub.execute_input": "2022-11-24T16:20:29.957188Z",
     "iopub.status.busy": "2022-11-24T16:20:29.957017Z",
     "iopub.status.idle": "2022-11-24T16:20:29.973981Z",
     "shell.execute_reply": "2022-11-24T16:20:29.973292Z",
     "shell.execute_reply.started": "2022-11-24T16:20:29.957161Z"
    }
   },
   "outputs": [],
   "source": [
    "#from sklearn.ensemble import RandomForestClassifier\n",
    "from sklearn.ensemble import GradientBoostingClassifier"
   ]
  },
  {
   "cell_type": "code",
   "execution_count": 22,
   "metadata": {
    "execution": {
     "iopub.execute_input": "2022-11-24T16:20:29.975169Z",
     "iopub.status.busy": "2022-11-24T16:20:29.974995Z",
     "iopub.status.idle": "2022-11-24T16:20:31.031369Z",
     "shell.execute_reply": "2022-11-24T16:20:31.030675Z",
     "shell.execute_reply.started": "2022-11-24T16:20:29.975138Z"
    }
   },
   "outputs": [
    {
     "name": "stdout",
     "output_type": "stream",
     "text": [
      "Fitting 3 folds for each of 1 candidates, totalling 3 fits\n"
     ]
    },
    {
     "data": {
      "text/plain": [
       "GridSearchCV(cv=3, estimator=GradientBoostingClassifier(random_state=0),\n",
       "             n_jobs=3, param_grid={}, return_train_score=True, scoring='r2',\n",
       "             verbose=1)"
      ]
     },
     "execution_count": 22,
     "metadata": {},
     "output_type": "execute_result"
    }
   ],
   "source": [
    "# Your code here! :)\n",
    "\n",
    "# create classifier object\n",
    "model = GradientBoostingClassifier(n_estimators=100, random_state=0)\n",
    "\n",
    "crossval_runner2 = GridSearchCV(\n",
    "    estimator=model,\n",
    "    param_grid=param_options,\n",
    "    #param_distributions=param_options,\n",
    "    cv=3, n_jobs=3,  # get the AVX/AVX2 info if use n_jobs > 2\n",
    "    verbose=1, scoring='r2',\n",
    "    refit=True,\n",
    "    return_train_score=True,  #n_iter=n_iter,\n",
    "    #n_iter=100,\n",
    "    #error_score='raise'\n",
    ")\n",
    "\n",
    "crossval_runner2.fit(X_train, y_train)\n"
   ]
  },
  {
   "cell_type": "code",
   "execution_count": 23,
   "metadata": {
    "collapsed": false,
    "execution": {
     "iopub.execute_input": "2022-11-24T16:20:31.036159Z",
     "iopub.status.busy": "2022-11-24T16:20:31.034390Z",
     "iopub.status.idle": "2022-11-24T16:20:31.044110Z",
     "shell.execute_reply": "2022-11-24T16:20:31.043486Z",
     "shell.execute_reply.started": "2022-11-24T16:20:31.036112Z"
    },
    "jupyter": {
     "outputs_hidden": false
    }
   },
   "outputs": [
    {
     "name": "stdout",
     "output_type": "stream",
     "text": [
      "It's not possible to use dtreevizs with a RandomForest.  Tree model must be in (DecisionTreeRegressor, DecisionTreeClassifier, xgboost.core.Booster, lightgbm.basic.Booster, pyspark DecisionTreeClassificationModel or pyspark DecisionTreeClassificationModel) but you passed a GradientBoostingClassifier!\n"
     ]
    }
   ],
   "source": [
    "\n",
    "try:\n",
    "    viz = dtreeviz(crossval_runner2.best_estimator_,\n",
    "                   X,\n",
    "                   y_numeric,\n",
    "                   target_name='Class',\n",
    "                   class_names=[\"Good\", \"Bad\"],\n",
    "                   feature_names=X.columns\n",
    "                   )\n",
    "    viz.view()\n",
    "except ValueError as e:\n",
    "    print(\"It's not possible to use dtreevizs with a RandomForest. \", e)"
   ]
  },
  {
   "cell_type": "markdown",
   "metadata": {},
   "source": [
    "As mentioned, there are certain ways to \"peek\" into a model created by the Random Forests algorithm. The first, and most popular one, is the Feature Importance calculation functionality. This allows the ML practitioner to see an ordering of the importance of the features that have contributed the most to the predictive accuracy of the model. \n",
    "\n",
    "You can see how to use this in the scikit-learn documentation (http://scikit-learn.org/stable/modules/generated/sklearn.ensemble.RandomForestClassifier.html#sklearn.ensemble.RandomForestClassifier.feature_importances_). Now, if you tried this, you would just get an ordered table of not directly interpretable numeric values. Thus, it's much more useful to show the feature importance in a visual way. You can see an example of how that's done here: http://scikit-learn.org/stable/auto_examples/ensemble/plot_forest_importances.html#sphx-glr-auto-examples-ensemble-plot-forest-importances-py\n",
    "\n",
    "Now you try! Let's visualize the importance of features from your Random Forests model!"
   ]
  },
  {
   "cell_type": "code",
   "execution_count": 24,
   "metadata": {
    "execution": {
     "iopub.execute_input": "2022-11-24T16:20:31.075735Z",
     "iopub.status.busy": "2022-11-24T16:20:31.072872Z",
     "iopub.status.idle": "2022-11-24T16:20:31.087134Z",
     "shell.execute_reply": "2022-11-24T16:20:31.086528Z",
     "shell.execute_reply.started": "2022-11-24T16:20:31.075654Z"
    }
   },
   "outputs": [
    {
     "data": {
      "text/plain": [
       "array([0.10789049, 0.15870656, 0.02486615, 0.01277315, 0.10100404,\n",
       "       0.01014374, 0.0036662 , 0.00588024, 0.00268802, 0.04180566,\n",
       "       0.00305041, 0.00369163, 0.13347592, 0.02111384, 0.01653923,\n",
       "       0.00244195, 0.00394881, 0.04066224, 0.02924413, 0.00679689,\n",
       "       0.00351067, 0.00839068, 0.        , 0.        , 0.01101411,\n",
       "       0.        , 0.0001829 , 0.01161006, 0.0008277 , 0.02154   ,\n",
       "       0.00167333, 0.00189281, 0.01139805, 0.01034568, 0.01373141,\n",
       "       0.00414407, 0.00328464, 0.00051842, 0.02905445, 0.00903187,\n",
       "       0.0048437 , 0.00480942, 0.00155854, 0.        , 0.0077488 ,\n",
       "       0.00024614, 0.00570877, 0.01773879, 0.00096346, 0.00122758,\n",
       "       0.00567397, 0.01430582, 0.00437488, 0.02318034, 0.00759138,\n",
       "       0.02282024, 0.00081338, 0.00075116, 0.        , 0.00116028,\n",
       "       0.00194324])"
      ]
     },
     "execution_count": 24,
     "metadata": {},
     "output_type": "execute_result"
    }
   ],
   "source": [
    "feature_importances = crossval_runner2.best_estimator_.feature_importances_\n",
    "feature_importances"
   ]
  },
  {
   "cell_type": "code",
   "execution_count": 25,
   "metadata": {
    "collapsed": false,
    "execution": {
     "iopub.execute_input": "2022-11-24T16:20:31.093273Z",
     "iopub.status.busy": "2022-11-24T16:20:31.091290Z",
     "iopub.status.idle": "2022-11-24T16:20:31.112788Z",
     "shell.execute_reply": "2022-11-24T16:20:31.112072Z",
     "shell.execute_reply.started": "2022-11-24T16:20:31.093215Z"
    },
    "jupyter": {
     "outputs_hidden": false
    }
   },
   "outputs": [
    {
     "name": "stdout",
     "output_type": "stream",
     "text": [
      "Feature Ranking:\n",
      "1: feature1/Amount    Importance = 0.158707\n",
      "2: feature12/CheckingAccountStatus.none    Importance = 0.133476\n",
      "3: feature0/Duration    Importance = 0.10789\n",
      "4: feature4/Age    Importance = 0.101004\n",
      "5: feature9/CheckingAccountStatus.lt.0    Importance = 0.041806\n",
      "6: feature17/CreditHistory.Critical    Importance = 0.040662\n",
      "7: feature18/Purpose.NewCar    Importance = 0.029244\n",
      "8: feature38/EmploymentDuration.Unemployed    Importance = 0.029054\n",
      "9: feature2/InstallmentRatePercentage    Importance = 0.024866\n",
      "10: feature53/OtherInstallmentPlans.None    Importance = 0.02318\n",
      "11: feature55/Housing.Own    Importance = 0.02282\n",
      "12: feature29/SavingsAccountBonds.lt.100    Importance = 0.02154\n",
      "13: feature13/CreditHistory.NoCredit.AllPaid    Importance = 0.021114\n",
      "14: feature47/Property.RealEstate    Importance = 0.017739\n",
      "15: feature14/CreditHistory.ThisBank.AllPaid    Importance = 0.016539\n",
      "16: feature51/OtherInstallmentPlans.Bank    Importance = 0.014306\n",
      "17: feature34/EmploymentDuration.lt.1    Importance = 0.013731\n",
      "18: feature3/ResidenceDuration    Importance = 0.012773\n",
      "19: feature27/Purpose.Business    Importance = 0.01161\n",
      "20: feature32/SavingsAccountBonds.gt.1000    Importance = 0.011398\n",
      "21: feature24/Purpose.Education    Importance = 0.011014\n",
      "22: feature33/SavingsAccountBonds.Unknown    Importance = 0.010346\n",
      "23: feature5/NumberExistingCredits    Importance = 0.010144\n",
      "24: feature39/Personal.Male.Divorced.Seperated    Importance = 0.009032\n",
      "25: feature21/Purpose.Radio.Television    Importance = 0.008391\n",
      "26: feature44/OtherDebtorsGuarantors.None    Importance = 0.007749\n",
      "27: feature54/Housing.Rent    Importance = 0.007591\n",
      "28: feature19/Purpose.UsedCar    Importance = 0.006797\n",
      "29: feature7/Telephone    Importance = 0.00588\n",
      "30: feature46/OtherDebtorsGuarantors.Guarantor    Importance = 0.005709\n",
      "31: feature50/Property.Unknown    Importance = 0.005674\n",
      "32: feature40/Personal.Female.NotSingle    Importance = 0.004844\n",
      "33: feature41/Personal.Male.Single    Importance = 0.004809\n",
      "34: feature52/OtherInstallmentPlans.Stores    Importance = 0.004375\n",
      "35: feature35/EmploymentDuration.1.to.4    Importance = 0.004144\n",
      "36: feature16/CreditHistory.Delay    Importance = 0.003949\n",
      "37: feature11/CheckingAccountStatus.gt.200    Importance = 0.003692\n",
      "38: feature6/NumberPeopleMaintenance    Importance = 0.003666\n",
      "39: feature20/Purpose.Furniture.Equipment    Importance = 0.003511\n",
      "40: feature36/EmploymentDuration.4.to.7    Importance = 0.003285\n",
      "41: feature10/CheckingAccountStatus.0.to.200    Importance = 0.00305\n",
      "42: feature8/ForeignWorker    Importance = 0.002688\n",
      "43: feature15/CreditHistory.PaidDuly    Importance = 0.002442\n",
      "44: feature60/Job.Management.SelfEmp.HighlyQualified    Importance = 0.001943\n",
      "45: feature31/SavingsAccountBonds.500.to.1000    Importance = 0.001893\n",
      "46: feature30/SavingsAccountBonds.100.to.500    Importance = 0.001673\n",
      "47: feature42/Personal.Male.Married.Widowed    Importance = 0.001559\n",
      "48: feature49/Property.CarOther    Importance = 0.001228\n",
      "49: feature59/Job.SkilledEmployee    Importance = 0.00116\n",
      "50: feature48/Property.Insurance    Importance = 0.000963\n",
      "51: feature28/Purpose.Other    Importance = 0.000828\n",
      "52: feature56/Housing.ForFree    Importance = 0.000813\n",
      "53: feature57/Job.UnemployedUnskilled    Importance = 0.000751\n",
      "54: feature37/EmploymentDuration.gt.7    Importance = 0.000518\n",
      "55: feature45/OtherDebtorsGuarantors.CoApplicant    Importance = 0.000246\n",
      "56: feature26/Purpose.Retraining    Importance = 0.000183\n",
      "57: feature25/Purpose.Vacation    Importance = 0.0\n",
      "58: feature23/Purpose.Repairs    Importance = 0.0\n",
      "59: feature43/Personal.Female.Single    Importance = 0.0\n",
      "60: feature58/Job.UnskilledResident    Importance = 0.0\n",
      "61: feature22/Purpose.DomesticAppliance    Importance = 0.0\n"
     ]
    }
   ],
   "source": [
    "indices = np.argsort(feature_importances)[::-1]\n",
    "\n",
    "print('Feature Ranking:')\n",
    "\n",
    "for f in range(X_train.shape[1]):\n",
    "    #print('%d. features %d (%f)' % (f + 1, indices[f], feature_importances[indices[f]]), X_columns[indices[f] + 1])\n",
    "    print(f'{f + 1}: feature{indices[f]}/{X_columns[indices[f]]}    Importance = {round(feature_importances[indices[f]],6)}')\n"
   ]
  },
  {
   "cell_type": "markdown",
   "metadata": {},
   "source": [
    "A final method for gaining some insight into the inner working of your Random Forests models is a so-called Partial Dependence Plot. The Partial Dependence Plot (PDP or PD plot) shows the marginal effect of a feature on the predicted outcome of a previously fit model. The prediction function is fixed at a few values of the chosen features and averaged over the other features. A partial dependence plot can show if the relationship between the target and a feature is linear, monotonic or more complex. \n",
    "\n",
    "In scikit-learn, PDPs are implemented and available for certain algorithms, but at this point (version 0.20.0) they are not yet implemented for Random Forests. Thankfully, there is an add-on package called **PDPbox** (https://pdpbox.readthedocs.io/en/latest/) which adds this functionality to Random Forests. The package is easy to install through pip."
   ]
  },
  {
   "cell_type": "markdown",
   "metadata": {},
   "source": [
    "While we encourage you to read the documentation for the package (and reading package documentation in general is a good habit to develop), the authors of the package have also written an excellent blog post on how to use it, showing examples on different algorithms from scikit-learn (the Random Forests example is towards the end of the blog post):\n",
    "\n",
    "https://briangriner.github.io/Partial_Dependence_Plots_presentation-BrianGriner-PrincetonPublicLibrary-4.14.18-updated-4.22.18.html\n",
    "https://github.com/briangriner/briangriner.github.io/blob/master/Partial_Dependence_Plots_presentation-BrianGriner-PrincetonPublicLibrary-4.14.18-updated-4.22.18.html"
   ]
  },
  {
   "cell_type": "markdown",
   "metadata": {},
   "source": [
    "So, armed with this new knowledge, feel free to pick a few features, and make a couple of Partial Dependence Plots of your own!"
   ]
  },
  {
   "cell_type": "code",
   "execution_count": 26,
   "metadata": {
    "execution": {
     "iopub.execute_input": "2022-11-24T16:20:31.118255Z",
     "iopub.status.busy": "2022-11-24T16:20:31.116841Z",
     "iopub.status.idle": "2022-11-24T16:20:31.127623Z",
     "shell.execute_reply": "2022-11-24T16:20:31.127004Z",
     "shell.execute_reply.started": "2022-11-24T16:20:31.118206Z"
    }
   },
   "outputs": [
    {
     "data": {
      "text/plain": [
       "GradientBoostingClassifier(random_state=0)"
      ]
     },
     "execution_count": 26,
     "metadata": {},
     "output_type": "execute_result"
    }
   ],
   "source": [
    "crossval_runner2.best_estimator_"
   ]
  },
  {
   "cell_type": "code",
   "execution_count": 27,
   "metadata": {
    "execution": {
     "iopub.execute_input": "2022-11-24T16:20:31.130384Z",
     "iopub.status.busy": "2022-11-24T16:20:31.129941Z",
     "iopub.status.idle": "2022-11-24T16:20:31.692978Z",
     "shell.execute_reply": "2022-11-24T16:20:31.692171Z",
     "shell.execute_reply.started": "2022-11-24T16:20:31.130345Z"
    }
   },
   "outputs": [
    {
     "data": {
      "image/png": "[encoded data removed]",
      "text/plain": [
       "<Figure size 432x288 with 3 Axes>"
      ]
     },
     "metadata": {
      "needs_background": "light"
     },
     "output_type": "display_data"
    }
   ],
   "source": [
    "# Your code here!\n",
    "#from sklearn.ensemble.partial_dependence import partial_dependence, plot_partial_dependence\n",
    "from sklearn.ensemble.partial_dependence import partial_dependence, plot_partial_dependence \n",
    "\n",
    "my_plots = plot_partial_dependence(crossval_runner2.best_estimator_,\n",
    "                                   features=[0, 1, 2], # column numbers of plots we want to show\n",
    "                                   X=X,            # raw predictors data.\n",
    "                                   feature_names=['Amount', 'Age', 'Duration'], # labels on graphs\n",
    "                                   grid_resolution=10) # number of values to plot on x axis"
   ]
  },
  {
   "cell_type": "markdown",
   "metadata": {},
   "source": [
    "## (Optional) Advanced Boosting-Based Algorithms"
   ]
  },
  {
   "cell_type": "markdown",
   "metadata": {},
   "source": [
    "As explained in the video lectures, the next generation of algorithms after Random Forests (that use Bagging, a.k.a. Bootstrap Aggregation) were developed using Boosting, and the first one of these were Gradient Boosted Machines, which are implemented in scikit-learn (http://scikit-learn.org/stable/modules/ensemble.html#gradient-tree-boosting)."
   ]
  },
  {
   "cell_type": "markdown",
   "metadata": {},
   "source": [
    "Still, in recent years, a number of variations on GBMs have been developed by different research amd industry groups, all of them bringing improvements, both in speed, accuracy and functionality to the original Gradient Boosting algorithms.\n",
    "\n",
    "In no order of preference, these are:\n",
    "1. **XGBoost**: https://xgboost.readthedocs.io/en/latest/\n",
    "2. **CatBoost**: https://tech.yandex.com/catboost/\n",
    "3. **LightGBM**: https://lightgbm.readthedocs.io/en/latest/"
   ]
  },
  {
   "cell_type": "markdown",
   "metadata": {},
   "source": [
    "If you're using the Anaconda distribution, these are all very easy to install:"
   ]
  },
  {
   "cell_type": "code",
   "execution_count": 28,
   "metadata": {
    "execution": {
     "iopub.execute_input": "2022-11-24T16:20:31.694232Z",
     "iopub.status.busy": "2022-11-24T16:20:31.694013Z",
     "iopub.status.idle": "2022-11-24T16:20:31.697596Z",
     "shell.execute_reply": "2022-11-24T16:20:31.696758Z",
     "shell.execute_reply.started": "2022-11-24T16:20:31.694195Z"
    }
   },
   "outputs": [],
   "source": [
    "#doing_additional_project = True\n",
    "doing_additional_project = False\n"
   ]
  },
  {
   "cell_type": "code",
   "execution_count": 29,
   "metadata": {
    "execution": {
     "iopub.execute_input": "2022-11-24T16:20:31.699110Z",
     "iopub.status.busy": "2022-11-24T16:20:31.698920Z",
     "iopub.status.idle": "2022-11-24T16:20:31.702574Z",
     "shell.execute_reply": "2022-11-24T16:20:31.701924Z",
     "shell.execute_reply.started": "2022-11-24T16:20:31.699076Z"
    }
   },
   "outputs": [],
   "source": [
    "if doing_additional_project:\n",
    "    #! conda install -c anaconda py-xgboost\n",
    "    ! conda install -c anaconda py-xgboost -y"
   ]
  },
  {
   "cell_type": "code",
   "execution_count": 30,
   "metadata": {
    "execution": {
     "iopub.execute_input": "2022-11-24T16:20:31.703926Z",
     "iopub.status.busy": "2022-11-24T16:20:31.703712Z",
     "iopub.status.idle": "2022-11-24T16:20:31.707416Z",
     "shell.execute_reply": "2022-11-24T16:20:31.706639Z",
     "shell.execute_reply.started": "2022-11-24T16:20:31.703860Z"
    }
   },
   "outputs": [],
   "source": [
    "if doing_additional_project:\n",
    "    #! conda install -c conda-forge catboost\n",
    "    ! conda install -c conda-forge catboost -y"
   ]
  },
  {
   "cell_type": "code",
   "execution_count": 31,
   "metadata": {
    "execution": {
     "iopub.execute_input": "2022-11-24T16:20:31.708544Z",
     "iopub.status.busy": "2022-11-24T16:20:31.708378Z",
     "iopub.status.idle": "2022-11-24T16:20:31.711747Z",
     "shell.execute_reply": "2022-11-24T16:20:31.710999Z",
     "shell.execute_reply.started": "2022-11-24T16:20:31.708512Z"
    }
   },
   "outputs": [],
   "source": [
    "if doing_additional_project:\n",
    "    #! conda install -c conda-forge lightgbm\n",
    "    ! conda install -c conda-forge lightgbm -y\n",
    "    "
   ]
  },
  {
   "cell_type": "markdown",
   "metadata": {},
   "source": [
    "Your task in this optional section of the mini project is to read the documentation of these three libraries, and apply all of them to the \"German Credit\" dataset, just like you did in the case of Decision Trees and Random Forests."
   ]
  },
  {
   "cell_type": "markdown",
   "metadata": {},
   "source": [
    "The final deliverable of this section should be a table (can be a pandas DataFrame) which shows the accuracy of all the five algorthms taught in this mini project in one place."
   ]
  },
  {
   "cell_type": "markdown",
   "metadata": {},
   "source": [
    "Happy modeling! :)"
   ]
  },
  {
   "cell_type": "code",
   "execution_count": 32,
   "metadata": {
    "execution": {
     "iopub.execute_input": "2022-11-24T16:20:31.712976Z",
     "iopub.status.busy": "2022-11-24T16:20:31.712815Z",
     "iopub.status.idle": "2022-11-24T16:20:31.773107Z",
     "shell.execute_reply": "2022-11-24T16:20:31.771681Z",
     "shell.execute_reply.started": "2022-11-24T16:20:31.712951Z"
    }
   },
   "outputs": [],
   "source": [
    "if doing_additional_project:\n",
    "    # code would go here\n",
    "    pass"
   ]
  }
 ],
 "metadata": {
  "kernelspec": {
   "display_name": "Python 3",
   "language": "python",
   "name": "python3"
  },
  "language_info": {
   "codemirror_mode": {
    "name": "ipython",
    "version": 3
   },
   "file_extension": ".py",
   "mimetype": "text/x-python",
   "name": "python",
   "nbconvert_exporter": "python",
   "pygments_lexer": "ipython3",
   "version": "3.7.9"
  }
 },
 "nbformat": 4,
 "nbformat_minor": 4
}
