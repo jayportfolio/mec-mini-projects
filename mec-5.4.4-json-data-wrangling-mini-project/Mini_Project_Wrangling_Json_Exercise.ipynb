{
 "cells": [
  {
   "cell_type": "markdown",
   "metadata": {},
   "source": [
    "# JSON examples and exercise\n",
    "****\n",
    "+ get familiar with packages for dealing with JSON\n",
    "+ study examples with JSON strings and files \n",
    "+ work on exercise to be completed and submitted \n",
    "****\n",
    "+ reference: http://pandas.pydata.org/pandas-docs/stable/io.html#io-json-reader\n",
    "+ data source: http://jsonstudio.com/resources/\n",
    "****"
   ]
  },
  {
   "cell_type": "code",
   "execution_count": 197,
   "metadata": {
    "collapsed": true
   },
   "outputs": [],
   "source": [
    "import numpy as np\n",
    "import pandas as pd"
   ]
  },
  {
   "cell_type": "markdown",
   "metadata": {},
   "source": [
    "## imports for Python, Pandas"
   ]
  },
  {
   "cell_type": "code",
   "execution_count": 198,
   "metadata": {
    "collapsed": true
   },
   "outputs": [],
   "source": [
    "import json\n",
    "from pandas.io.json import json_normalize"
   ]
  },
  {
   "cell_type": "markdown",
   "metadata": {},
   "source": [
    "## JSON example, with string\n",
    "\n",
    "+ demonstrates creation of normalized dataframes (tables) from nested json string\n",
    "+ source: http://pandas.pydata.org/pandas-docs/stable/io.html#normalization"
   ]
  },
  {
   "cell_type": "code",
   "execution_count": 199,
   "metadata": {
    "collapsed": true
   },
   "outputs": [],
   "source": [
    "# define json string\n",
    "data = [{'state': 'Florida', \n",
    "         'shortname': 'FL',\n",
    "         'info': {'governor': 'Rick Scott'},\n",
    "         'counties': [{'name': 'Dade', 'population': 12345},\n",
    "                      {'name': 'Broward', 'population': 40000},\n",
    "                      {'name': 'Palm Beach', 'population': 60000}]},\n",
    "        {'state': 'Ohio',\n",
    "         'shortname': 'OH',\n",
    "         'info': {'governor': 'John Kasich'},\n",
    "         'counties': [{'name': 'Summit', 'population': 1234},\n",
    "                      {'name': 'Cuyahoga', 'population': 1337}]}]"
   ]
  },
  {
   "cell_type": "code",
   "execution_count": 200,
   "metadata": {
    "collapsed": false
   },
   "outputs": [
    {
     "name": "stderr",
     "output_type": "stream",
     "text": [
      "/tmp/ipykernel_3159/635590451.py:2: FutureWarning: pandas.io.json.json_normalize is deprecated, use pandas.json_normalize instead.\n",
      "  json_normalize(data, 'counties')\n"
     ]
    },
    {
     "data": {
      "text/plain": "         name  population\n0        Dade       12345\n1     Broward       40000\n2  Palm Beach       60000\n3      Summit        1234\n4    Cuyahoga        1337",
      "text/html": "<div>\n<style scoped>\n    .dataframe tbody tr th:only-of-type {\n        vertical-align: middle;\n    }\n\n    .dataframe tbody tr th {\n        vertical-align: top;\n    }\n\n    .dataframe thead th {\n        text-align: right;\n    }\n</style>\n<table border=\"1\" class=\"dataframe\">\n  <thead>\n    <tr style=\"text-align: right;\">\n      <th></th>\n      <th>name</th>\n      <th>population</th>\n    </tr>\n  </thead>\n  <tbody>\n    <tr>\n      <th>0</th>\n      <td>Dade</td>\n      <td>12345</td>\n    </tr>\n    <tr>\n      <th>1</th>\n      <td>Broward</td>\n      <td>40000</td>\n    </tr>\n    <tr>\n      <th>2</th>\n      <td>Palm Beach</td>\n      <td>60000</td>\n    </tr>\n    <tr>\n      <th>3</th>\n      <td>Summit</td>\n      <td>1234</td>\n    </tr>\n    <tr>\n      <th>4</th>\n      <td>Cuyahoga</td>\n      <td>1337</td>\n    </tr>\n  </tbody>\n</table>\n</div>"
     },
     "execution_count": 200,
     "metadata": {},
     "output_type": "execute_result"
    }
   ],
   "source": [
    "# use normalization to create tables from nested element\n",
    "json_normalize(data, 'counties')"
   ]
  },
  {
   "cell_type": "code",
   "execution_count": 201,
   "metadata": {
    "collapsed": false
   },
   "outputs": [
    {
     "name": "stderr",
     "output_type": "stream",
     "text": [
      "/tmp/ipykernel_3159/2829878384.py:2: FutureWarning: pandas.io.json.json_normalize is deprecated, use pandas.json_normalize instead.\n",
      "  json_normalize(data, 'counties', ['state', 'shortname', ['info', 'governor']])\n"
     ]
    },
    {
     "data": {
      "text/plain": "         name  population    state shortname info.governor\n0        Dade       12345  Florida        FL    Rick Scott\n1     Broward       40000  Florida        FL    Rick Scott\n2  Palm Beach       60000  Florida        FL    Rick Scott\n3      Summit        1234     Ohio        OH   John Kasich\n4    Cuyahoga        1337     Ohio        OH   John Kasich",
      "text/html": "<div>\n<style scoped>\n    .dataframe tbody tr th:only-of-type {\n        vertical-align: middle;\n    }\n\n    .dataframe tbody tr th {\n        vertical-align: top;\n    }\n\n    .dataframe thead th {\n        text-align: right;\n    }\n</style>\n<table border=\"1\" class=\"dataframe\">\n  <thead>\n    <tr style=\"text-align: right;\">\n      <th></th>\n      <th>name</th>\n      <th>population</th>\n      <th>state</th>\n      <th>shortname</th>\n      <th>info.governor</th>\n    </tr>\n  </thead>\n  <tbody>\n    <tr>\n      <th>0</th>\n      <td>Dade</td>\n      <td>12345</td>\n      <td>Florida</td>\n      <td>FL</td>\n      <td>Rick Scott</td>\n    </tr>\n    <tr>\n      <th>1</th>\n      <td>Broward</td>\n      <td>40000</td>\n      <td>Florida</td>\n      <td>FL</td>\n      <td>Rick Scott</td>\n    </tr>\n    <tr>\n      <th>2</th>\n      <td>Palm Beach</td>\n      <td>60000</td>\n      <td>Florida</td>\n      <td>FL</td>\n      <td>Rick Scott</td>\n    </tr>\n    <tr>\n      <th>3</th>\n      <td>Summit</td>\n      <td>1234</td>\n      <td>Ohio</td>\n      <td>OH</td>\n      <td>John Kasich</td>\n    </tr>\n    <tr>\n      <th>4</th>\n      <td>Cuyahoga</td>\n      <td>1337</td>\n      <td>Ohio</td>\n      <td>OH</td>\n      <td>John Kasich</td>\n    </tr>\n  </tbody>\n</table>\n</div>"
     },
     "execution_count": 201,
     "metadata": {},
     "output_type": "execute_result"
    }
   ],
   "source": [
    "# further populate tables created from nested element\n",
    "json_normalize(data, 'counties', ['state', 'shortname', ['info', 'governor']])"
   ]
  },
  {
   "cell_type": "markdown",
   "metadata": {},
   "source": [
    "****\n",
    "## JSON example, with file\n",
    "\n",
    "+ demonstrates reading in a json file as a string and as a table\n",
    "+ uses small sample file containing data about projects funded by the World Bank \n",
    "+ data source: http://jsonstudio.com/resources/"
   ]
  },
  {
   "cell_type": "code",
   "execution_count": 202,
   "metadata": {
    "collapsed": false
   },
   "outputs": [],
   "source": [
    "# load json as string\n",
    "# temp comment out, re-comment this later\n",
    "# json.load((open('data/world_bank_projects_less.json')))"
   ]
  },
  {
   "cell_type": "code",
   "execution_count": 203,
   "metadata": {
    "collapsed": false
   },
   "outputs": [
    {
     "data": {
      "text/plain": "                                    _id  approvalfy board_approval_month  \\\n0  {'$oid': '52b213b38594d8a2be17c780'}        1999             November   \n1  {'$oid': '52b213b38594d8a2be17c781'}        2015             November   \n\n      boardapprovaldate                                 borrower  \\\n0  2013-11-12T00:00:00Z  FEDERAL DEMOCRATIC REPUBLIC OF ETHIOPIA   \n1  2013-11-04T00:00:00Z                    GOVERNMENT OF TUNISIA   \n\n            closingdate                              country_namecode  \\\n0  2018-07-07T00:00:00Z  Federal Democratic Republic of Ethiopia!$!ET   \n1                   NaN                      Republic of Tunisia!$!TN   \n\n  countrycode                              countryname countryshortname  ...  \\\n0          ET  Federal Democratic Republic of Ethiopia         Ethiopia  ...   \n1          TN                      Republic of Tunisia          Tunisia  ...   \n\n    sectorcode source  status  supplementprojectflg  \\\n0  ET,BS,ES,EP   IBRD  Active                     N   \n1        BZ,BS   IBRD  Active                     N   \n\n                                              theme1  \\\n0      {'Name': 'Education for all', 'Percent': 100}   \n1  {'Name': 'Other economic management', 'Percent...   \n\n                                      theme_namecode themecode   totalamt  \\\n0      [{'name': 'Education for all', 'code': '65'}]        65  130000000   \n1  [{'name': 'Other economic management', 'code':...     54,24          0   \n\n  totalcommamt                                                url  \n0    130000000  http://www.worldbank.org/projects/P129828/ethi...  \n1      4700000  http://www.worldbank.org/projects/P144674?lang=en  \n\n[2 rows x 50 columns]",
      "text/html": "<div>\n<style scoped>\n    .dataframe tbody tr th:only-of-type {\n        vertical-align: middle;\n    }\n\n    .dataframe tbody tr th {\n        vertical-align: top;\n    }\n\n    .dataframe thead th {\n        text-align: right;\n    }\n</style>\n<table border=\"1\" class=\"dataframe\">\n  <thead>\n    <tr style=\"text-align: right;\">\n      <th></th>\n      <th>_id</th>\n      <th>approvalfy</th>\n      <th>board_approval_month</th>\n      <th>boardapprovaldate</th>\n      <th>borrower</th>\n      <th>closingdate</th>\n      <th>country_namecode</th>\n      <th>countrycode</th>\n      <th>countryname</th>\n      <th>countryshortname</th>\n      <th>...</th>\n      <th>sectorcode</th>\n      <th>source</th>\n      <th>status</th>\n      <th>supplementprojectflg</th>\n      <th>theme1</th>\n      <th>theme_namecode</th>\n      <th>themecode</th>\n      <th>totalamt</th>\n      <th>totalcommamt</th>\n      <th>url</th>\n    </tr>\n  </thead>\n  <tbody>\n    <tr>\n      <th>0</th>\n      <td>{'$oid': '52b213b38594d8a2be17c780'}</td>\n      <td>1999</td>\n      <td>November</td>\n      <td>2013-11-12T00:00:00Z</td>\n      <td>FEDERAL DEMOCRATIC REPUBLIC OF ETHIOPIA</td>\n      <td>2018-07-07T00:00:00Z</td>\n      <td>Federal Democratic Republic of Ethiopia!$!ET</td>\n      <td>ET</td>\n      <td>Federal Democratic Republic of Ethiopia</td>\n      <td>Ethiopia</td>\n      <td>...</td>\n      <td>ET,BS,ES,EP</td>\n      <td>IBRD</td>\n      <td>Active</td>\n      <td>N</td>\n      <td>{'Name': 'Education for all', 'Percent': 100}</td>\n      <td>[{'name': 'Education for all', 'code': '65'}]</td>\n      <td>65</td>\n      <td>130000000</td>\n      <td>130000000</td>\n      <td>http://www.worldbank.org/projects/P129828/ethi...</td>\n    </tr>\n    <tr>\n      <th>1</th>\n      <td>{'$oid': '52b213b38594d8a2be17c781'}</td>\n      <td>2015</td>\n      <td>November</td>\n      <td>2013-11-04T00:00:00Z</td>\n      <td>GOVERNMENT OF TUNISIA</td>\n      <td>NaN</td>\n      <td>Republic of Tunisia!$!TN</td>\n      <td>TN</td>\n      <td>Republic of Tunisia</td>\n      <td>Tunisia</td>\n      <td>...</td>\n      <td>BZ,BS</td>\n      <td>IBRD</td>\n      <td>Active</td>\n      <td>N</td>\n      <td>{'Name': 'Other economic management', 'Percent...</td>\n      <td>[{'name': 'Other economic management', 'code':...</td>\n      <td>54,24</td>\n      <td>0</td>\n      <td>4700000</td>\n      <td>http://www.worldbank.org/projects/P144674?lang=en</td>\n    </tr>\n  </tbody>\n</table>\n<p>2 rows × 50 columns</p>\n</div>"
     },
     "execution_count": 203,
     "metadata": {},
     "output_type": "execute_result"
    }
   ],
   "source": [
    "# load as Pandas dataframe\n",
    "sample_json_df = pd.read_json('data/world_bank_projects_less.json')\n",
    "sample_json_df"
   ]
  },
  {
   "cell_type": "markdown",
   "source": [
    "### My Notes"
   ],
   "metadata": {
    "collapsed": false
   }
  },
  {
   "cell_type": "code",
   "execution_count": 204,
   "outputs": [
    {
     "data": {
      "text/plain": "                                    _id  approvalfy board_approval_month  \\\n0  {'$oid': '52b213b38594d8a2be17c780'}        1999             November   \n1  {'$oid': '52b213b38594d8a2be17c781'}        2015             November   \n\n      boardapprovaldate                                 borrower  \\\n0  2013-11-12T00:00:00Z  FEDERAL DEMOCRATIC REPUBLIC OF ETHIOPIA   \n1  2013-11-04T00:00:00Z                    GOVERNMENT OF TUNISIA   \n\n            closingdate                              country_namecode  \\\n0  2018-07-07T00:00:00Z  Federal Democratic Republic of Ethiopia!$!ET   \n1                   NaN                      Republic of Tunisia!$!TN   \n\n  countrycode                              countryname countryshortname  ...  \\\n0          ET  Federal Democratic Republic of Ethiopia         Ethiopia  ...   \n1          TN                      Republic of Tunisia          Tunisia  ...   \n\n    sectorcode source  status  supplementprojectflg  \\\n0  ET,BS,ES,EP   IBRD  Active                     N   \n1        BZ,BS   IBRD  Active                     N   \n\n                                              theme1  \\\n0      {'Name': 'Education for all', 'Percent': 100}   \n1  {'Name': 'Other economic management', 'Percent...   \n\n                                      theme_namecode themecode   totalamt  \\\n0      [{'name': 'Education for all', 'code': '65'}]        65  130000000   \n1  [{'name': 'Other economic management', 'code':...     54,24          0   \n\n  totalcommamt                                                url  \n0    130000000  http://www.worldbank.org/projects/P129828/ethi...  \n1      4700000  http://www.worldbank.org/projects/P144674?lang=en  \n\n[2 rows x 50 columns]",
      "text/html": "<div>\n<style scoped>\n    .dataframe tbody tr th:only-of-type {\n        vertical-align: middle;\n    }\n\n    .dataframe tbody tr th {\n        vertical-align: top;\n    }\n\n    .dataframe thead th {\n        text-align: right;\n    }\n</style>\n<table border=\"1\" class=\"dataframe\">\n  <thead>\n    <tr style=\"text-align: right;\">\n      <th></th>\n      <th>_id</th>\n      <th>approvalfy</th>\n      <th>board_approval_month</th>\n      <th>boardapprovaldate</th>\n      <th>borrower</th>\n      <th>closingdate</th>\n      <th>country_namecode</th>\n      <th>countrycode</th>\n      <th>countryname</th>\n      <th>countryshortname</th>\n      <th>...</th>\n      <th>sectorcode</th>\n      <th>source</th>\n      <th>status</th>\n      <th>supplementprojectflg</th>\n      <th>theme1</th>\n      <th>theme_namecode</th>\n      <th>themecode</th>\n      <th>totalamt</th>\n      <th>totalcommamt</th>\n      <th>url</th>\n    </tr>\n  </thead>\n  <tbody>\n    <tr>\n      <th>0</th>\n      <td>{'$oid': '52b213b38594d8a2be17c780'}</td>\n      <td>1999</td>\n      <td>November</td>\n      <td>2013-11-12T00:00:00Z</td>\n      <td>FEDERAL DEMOCRATIC REPUBLIC OF ETHIOPIA</td>\n      <td>2018-07-07T00:00:00Z</td>\n      <td>Federal Democratic Republic of Ethiopia!$!ET</td>\n      <td>ET</td>\n      <td>Federal Democratic Republic of Ethiopia</td>\n      <td>Ethiopia</td>\n      <td>...</td>\n      <td>ET,BS,ES,EP</td>\n      <td>IBRD</td>\n      <td>Active</td>\n      <td>N</td>\n      <td>{'Name': 'Education for all', 'Percent': 100}</td>\n      <td>[{'name': 'Education for all', 'code': '65'}]</td>\n      <td>65</td>\n      <td>130000000</td>\n      <td>130000000</td>\n      <td>http://www.worldbank.org/projects/P129828/ethi...</td>\n    </tr>\n    <tr>\n      <th>1</th>\n      <td>{'$oid': '52b213b38594d8a2be17c781'}</td>\n      <td>2015</td>\n      <td>November</td>\n      <td>2013-11-04T00:00:00Z</td>\n      <td>GOVERNMENT OF TUNISIA</td>\n      <td>NaN</td>\n      <td>Republic of Tunisia!$!TN</td>\n      <td>TN</td>\n      <td>Republic of Tunisia</td>\n      <td>Tunisia</td>\n      <td>...</td>\n      <td>BZ,BS</td>\n      <td>IBRD</td>\n      <td>Active</td>\n      <td>N</td>\n      <td>{'Name': 'Other economic management', 'Percent...</td>\n      <td>[{'name': 'Other economic management', 'code':...</td>\n      <td>54,24</td>\n      <td>0</td>\n      <td>4700000</td>\n      <td>http://www.worldbank.org/projects/P144674?lang=en</td>\n    </tr>\n  </tbody>\n</table>\n<p>2 rows × 50 columns</p>\n</div>"
     },
     "execution_count": 204,
     "metadata": {},
     "output_type": "execute_result"
    }
   ],
   "source": [
    "sample_json_df.head()"
   ],
   "metadata": {
    "collapsed": false,
    "pycharm": {
     "name": "#%%\n"
    }
   }
  },
  {
   "cell_type": "code",
   "execution_count": 205,
   "outputs": [
    {
     "data": {
      "text/plain": "pandas.core.frame.DataFrame"
     },
     "execution_count": 205,
     "metadata": {},
     "output_type": "execute_result"
    }
   ],
   "source": [
    "type(sample_json_df)"
   ],
   "metadata": {
    "collapsed": false,
    "pycharm": {
     "name": "#%%\n"
    }
   }
  },
  {
   "cell_type": "code",
   "execution_count": 206,
   "outputs": [],
   "source": [
    "bank_projects_json_df = pd.read_json('data/world_bank_projects.json')"
   ],
   "metadata": {
    "collapsed": false,
    "pycharm": {
     "name": "#%%\n"
    }
   }
  },
  {
   "cell_type": "code",
   "execution_count": 207,
   "outputs": [
    {
     "data": {
      "text/plain": "                                              sector supplementprojectflg  \\\n0  [{'Name': 'Primary education'}, {'Name': 'Seco...                    N   \n1  [{'Name': 'Public administration- Other social...                    N   \n2  [{'Name': 'Rural and Inter-Urban Roads and Hig...                    Y   \n\n  projectfinancialtype prodline  \\\n0                  IDA       PE   \n1                OTHER       RE   \n2                  IDA       PE   \n\n                                             mjtheme  idacommamt  \\\n0                                [Human development]   130000000   \n1  [Economic management, Social protection and ri...           0   \n2  [Trade and integration, Public sector governan...     6060000   \n\n                                  impagency  \\\n0                     MINISTRY OF EDUCATION   \n1                       MINISTRY OF FINANCE   \n2  MINISTRY OF TRANSPORT AND COMMUNICATIONS   \n\n                                        project_name mjthemecode  \\\n0  Ethiopia General Education Quality Improvement...        8,11   \n1          TN: DTF Social Protection Reforms Support         1,6   \n2  Tuvalu Aviation Investment Project - Additiona...    5,2,11,6   \n\n            closingdate  ...  \\\n0  2018-07-07T00:00:00Z  ...   \n1                   NaN  ...   \n2                   NaN  ...   \n\n                                 majorsector_percent board_approval_month  \\\n0  [{'Percent': 46, 'Name': 'Education'}, {'Perce...             November   \n1  [{'Percent': 70, 'Name': 'Public Administratio...             November   \n2       [{'Percent': 100, 'Name': 'Transportation'}]             November   \n\n                                      theme_namecode  \\\n0      [{'code': '65', 'name': 'Education for all'}]   \n1  [{'code': '24', 'name': 'Other economic manage...   \n2  [{'code': '47', 'name': 'Regional integration'...   \n\n                               countryname  \\\n0  Federal Democratic Republic of Ethiopia   \n1                      Republic of Tunisia   \n2                                   Tuvalu   \n\n                                                 url source  \\\n0  http://www.worldbank.org/projects/P129828/ethi...   IBRD   \n1  http://www.worldbank.org/projects/P144674?lang=en   IBRD   \n2  http://www.worldbank.org/projects/P145310?lang=en   IBRD   \n\n  projectstatusdisplay ibrdcommamt  \\\n0               Active           0   \n1               Active           0   \n2               Active           0   \n\n                                     sector_namecode  \\\n0  [{'code': 'EP', 'name': 'Primary education'}, ...   \n1  [{'code': 'BS', 'name': 'Public administration...   \n2  [{'code': 'TI', 'name': 'Rural and Inter-Urban...   \n\n                                    _id  \n0  {'$oid': '52b213b38594d8a2be17c780'}  \n1  {'$oid': '52b213b38594d8a2be17c781'}  \n2  {'$oid': '52b213b38594d8a2be17c782'}  \n\n[3 rows x 50 columns]",
      "text/html": "<div>\n<style scoped>\n    .dataframe tbody tr th:only-of-type {\n        vertical-align: middle;\n    }\n\n    .dataframe tbody tr th {\n        vertical-align: top;\n    }\n\n    .dataframe thead th {\n        text-align: right;\n    }\n</style>\n<table border=\"1\" class=\"dataframe\">\n  <thead>\n    <tr style=\"text-align: right;\">\n      <th></th>\n      <th>sector</th>\n      <th>supplementprojectflg</th>\n      <th>projectfinancialtype</th>\n      <th>prodline</th>\n      <th>mjtheme</th>\n      <th>idacommamt</th>\n      <th>impagency</th>\n      <th>project_name</th>\n      <th>mjthemecode</th>\n      <th>closingdate</th>\n      <th>...</th>\n      <th>majorsector_percent</th>\n      <th>board_approval_month</th>\n      <th>theme_namecode</th>\n      <th>countryname</th>\n      <th>url</th>\n      <th>source</th>\n      <th>projectstatusdisplay</th>\n      <th>ibrdcommamt</th>\n      <th>sector_namecode</th>\n      <th>_id</th>\n    </tr>\n  </thead>\n  <tbody>\n    <tr>\n      <th>0</th>\n      <td>[{'Name': 'Primary education'}, {'Name': 'Seco...</td>\n      <td>N</td>\n      <td>IDA</td>\n      <td>PE</td>\n      <td>[Human development]</td>\n      <td>130000000</td>\n      <td>MINISTRY OF EDUCATION</td>\n      <td>Ethiopia General Education Quality Improvement...</td>\n      <td>8,11</td>\n      <td>2018-07-07T00:00:00Z</td>\n      <td>...</td>\n      <td>[{'Percent': 46, 'Name': 'Education'}, {'Perce...</td>\n      <td>November</td>\n      <td>[{'code': '65', 'name': 'Education for all'}]</td>\n      <td>Federal Democratic Republic of Ethiopia</td>\n      <td>http://www.worldbank.org/projects/P129828/ethi...</td>\n      <td>IBRD</td>\n      <td>Active</td>\n      <td>0</td>\n      <td>[{'code': 'EP', 'name': 'Primary education'}, ...</td>\n      <td>{'$oid': '52b213b38594d8a2be17c780'}</td>\n    </tr>\n    <tr>\n      <th>1</th>\n      <td>[{'Name': 'Public administration- Other social...</td>\n      <td>N</td>\n      <td>OTHER</td>\n      <td>RE</td>\n      <td>[Economic management, Social protection and ri...</td>\n      <td>0</td>\n      <td>MINISTRY OF FINANCE</td>\n      <td>TN: DTF Social Protection Reforms Support</td>\n      <td>1,6</td>\n      <td>NaN</td>\n      <td>...</td>\n      <td>[{'Percent': 70, 'Name': 'Public Administratio...</td>\n      <td>November</td>\n      <td>[{'code': '24', 'name': 'Other economic manage...</td>\n      <td>Republic of Tunisia</td>\n      <td>http://www.worldbank.org/projects/P144674?lang=en</td>\n      <td>IBRD</td>\n      <td>Active</td>\n      <td>0</td>\n      <td>[{'code': 'BS', 'name': 'Public administration...</td>\n      <td>{'$oid': '52b213b38594d8a2be17c781'}</td>\n    </tr>\n    <tr>\n      <th>2</th>\n      <td>[{'Name': 'Rural and Inter-Urban Roads and Hig...</td>\n      <td>Y</td>\n      <td>IDA</td>\n      <td>PE</td>\n      <td>[Trade and integration, Public sector governan...</td>\n      <td>6060000</td>\n      <td>MINISTRY OF TRANSPORT AND COMMUNICATIONS</td>\n      <td>Tuvalu Aviation Investment Project - Additiona...</td>\n      <td>5,2,11,6</td>\n      <td>NaN</td>\n      <td>...</td>\n      <td>[{'Percent': 100, 'Name': 'Transportation'}]</td>\n      <td>November</td>\n      <td>[{'code': '47', 'name': 'Regional integration'...</td>\n      <td>Tuvalu</td>\n      <td>http://www.worldbank.org/projects/P145310?lang=en</td>\n      <td>IBRD</td>\n      <td>Active</td>\n      <td>0</td>\n      <td>[{'code': 'TI', 'name': 'Rural and Inter-Urban...</td>\n      <td>{'$oid': '52b213b38594d8a2be17c782'}</td>\n    </tr>\n  </tbody>\n</table>\n<p>3 rows × 50 columns</p>\n</div>"
     },
     "execution_count": 207,
     "metadata": {},
     "output_type": "execute_result"
    }
   ],
   "source": [
    "bank_projects_json_df.head(3)"
   ],
   "metadata": {
    "collapsed": false,
    "pycharm": {
     "name": "#%%\n"
    }
   }
  },
  {
   "cell_type": "code",
   "execution_count": 208,
   "outputs": [
    {
     "name": "stdout",
     "output_type": "stream",
     "text": [
      "2\n",
      "500\n"
     ]
    }
   ],
   "source": [
    "print(len(sample_json_df))\n",
    "print(len(bank_projects_json_df))"
   ],
   "metadata": {
    "collapsed": false,
    "pycharm": {
     "name": "#%%\n"
    }
   }
  },
  {
   "cell_type": "code",
   "execution_count": 209,
   "outputs": [
    {
     "data": {
      "text/plain": "                               countryname\n0  Federal Democratic Republic of Ethiopia\n1                      Republic of Tunisia\n2                                   Tuvalu\n3                        Republic of Yemen\n4                       Kingdom of Lesotho",
      "text/html": "<div>\n<style scoped>\n    .dataframe tbody tr th:only-of-type {\n        vertical-align: middle;\n    }\n\n    .dataframe tbody tr th {\n        vertical-align: top;\n    }\n\n    .dataframe thead th {\n        text-align: right;\n    }\n</style>\n<table border=\"1\" class=\"dataframe\">\n  <thead>\n    <tr style=\"text-align: right;\">\n      <th></th>\n      <th>countryname</th>\n    </tr>\n  </thead>\n  <tbody>\n    <tr>\n      <th>0</th>\n      <td>Federal Democratic Republic of Ethiopia</td>\n    </tr>\n    <tr>\n      <th>1</th>\n      <td>Republic of Tunisia</td>\n    </tr>\n    <tr>\n      <th>2</th>\n      <td>Tuvalu</td>\n    </tr>\n    <tr>\n      <th>3</th>\n      <td>Republic of Yemen</td>\n    </tr>\n    <tr>\n      <th>4</th>\n      <td>Kingdom of Lesotho</td>\n    </tr>\n  </tbody>\n</table>\n</div>"
     },
     "execution_count": 209,
     "metadata": {},
     "output_type": "execute_result"
    }
   ],
   "source": [
    "bank_projects_json_df[['countryname']].head()"
   ],
   "metadata": {
    "collapsed": false,
    "pycharm": {
     "name": "#%%\n"
    }
   }
  },
  {
   "cell_type": "code",
   "execution_count": 210,
   "outputs": [
    {
     "data": {
      "text/plain": "                        sector  supplementprojectflg  projectfinancialtype  \\\ncountryname                                                                  \nAfrica                      11                    11                    11   \nAntigua and Barbuda          1                     1                     1   \nArab Republic of Egypt       2                     2                     2   \n\n                        prodline  mjtheme  idacommamt  impagency  \\\ncountryname                                                        \nAfrica                        11       11          11          8   \nAntigua and Barbuda            1        1           1          1   \nArab Republic of Egypt         2        2           2          2   \n\n                        project_name  mjthemecode  closingdate  ...  sector3  \\\ncountryname                                                     ...            \nAfrica                            11           11            7  ...        7   \nAntigua and Barbuda                1            1            1  ...        1   \nArab Republic of Egypt             2            2            2  ...        0   \n\n                        majorsector_percent  board_approval_month  \\\ncountryname                                                         \nAfrica                                   11                    11   \nAntigua and Barbuda                       1                     1   \nArab Republic of Egypt                    2                     2   \n\n                        theme_namecode  url  source  projectstatusdisplay  \\\ncountryname                                                                 \nAfrica                              11   11      11                    11   \nAntigua and Barbuda                  1    1       1                     1   \nArab Republic of Egypt               2    2       2                     2   \n\n                        ibrdcommamt  sector_namecode  _id  \ncountryname                                                \nAfrica                           11               11   11  \nAntigua and Barbuda               1                1    1  \nArab Republic of Egypt            2                2    2  \n\n[3 rows x 49 columns]",
      "text/html": "<div>\n<style scoped>\n    .dataframe tbody tr th:only-of-type {\n        vertical-align: middle;\n    }\n\n    .dataframe tbody tr th {\n        vertical-align: top;\n    }\n\n    .dataframe thead th {\n        text-align: right;\n    }\n</style>\n<table border=\"1\" class=\"dataframe\">\n  <thead>\n    <tr style=\"text-align: right;\">\n      <th></th>\n      <th>sector</th>\n      <th>supplementprojectflg</th>\n      <th>projectfinancialtype</th>\n      <th>prodline</th>\n      <th>mjtheme</th>\n      <th>idacommamt</th>\n      <th>impagency</th>\n      <th>project_name</th>\n      <th>mjthemecode</th>\n      <th>closingdate</th>\n      <th>...</th>\n      <th>sector3</th>\n      <th>majorsector_percent</th>\n      <th>board_approval_month</th>\n      <th>theme_namecode</th>\n      <th>url</th>\n      <th>source</th>\n      <th>projectstatusdisplay</th>\n      <th>ibrdcommamt</th>\n      <th>sector_namecode</th>\n      <th>_id</th>\n    </tr>\n    <tr>\n      <th>countryname</th>\n      <th></th>\n      <th></th>\n      <th></th>\n      <th></th>\n      <th></th>\n      <th></th>\n      <th></th>\n      <th></th>\n      <th></th>\n      <th></th>\n      <th></th>\n      <th></th>\n      <th></th>\n      <th></th>\n      <th></th>\n      <th></th>\n      <th></th>\n      <th></th>\n      <th></th>\n      <th></th>\n      <th></th>\n    </tr>\n  </thead>\n  <tbody>\n    <tr>\n      <th>Africa</th>\n      <td>11</td>\n      <td>11</td>\n      <td>11</td>\n      <td>11</td>\n      <td>11</td>\n      <td>11</td>\n      <td>8</td>\n      <td>11</td>\n      <td>11</td>\n      <td>7</td>\n      <td>...</td>\n      <td>7</td>\n      <td>11</td>\n      <td>11</td>\n      <td>11</td>\n      <td>11</td>\n      <td>11</td>\n      <td>11</td>\n      <td>11</td>\n      <td>11</td>\n      <td>11</td>\n    </tr>\n    <tr>\n      <th>Antigua and Barbuda</th>\n      <td>1</td>\n      <td>1</td>\n      <td>1</td>\n      <td>1</td>\n      <td>1</td>\n      <td>1</td>\n      <td>1</td>\n      <td>1</td>\n      <td>1</td>\n      <td>1</td>\n      <td>...</td>\n      <td>1</td>\n      <td>1</td>\n      <td>1</td>\n      <td>1</td>\n      <td>1</td>\n      <td>1</td>\n      <td>1</td>\n      <td>1</td>\n      <td>1</td>\n      <td>1</td>\n    </tr>\n    <tr>\n      <th>Arab Republic of Egypt</th>\n      <td>2</td>\n      <td>2</td>\n      <td>2</td>\n      <td>2</td>\n      <td>2</td>\n      <td>2</td>\n      <td>2</td>\n      <td>2</td>\n      <td>2</td>\n      <td>2</td>\n      <td>...</td>\n      <td>0</td>\n      <td>2</td>\n      <td>2</td>\n      <td>2</td>\n      <td>2</td>\n      <td>2</td>\n      <td>2</td>\n      <td>2</td>\n      <td>2</td>\n      <td>2</td>\n    </tr>\n  </tbody>\n</table>\n<p>3 rows × 49 columns</p>\n</div>"
     },
     "execution_count": 210,
     "metadata": {},
     "output_type": "execute_result"
    }
   ],
   "source": [
    "bank_projects_json_df.groupby('countryname').agg('count')[0:3]"
   ],
   "metadata": {
    "collapsed": false,
    "pycharm": {
     "name": "#%%\n"
    }
   }
  },
  {
   "cell_type": "code",
   "execution_count": 211,
   "outputs": [
    {
     "data": {
      "text/plain": "countryname\nPeople's Republic of China       19\nRepublic of Indonesia            19\nSocialist Republic of Vietnam    17\nRepublic of India                16\nRepublic of Yemen                13\n                                 ..\nAntigua and Barbuda               1\nRepublic of Kiribati              1\nRepublic of Serbia                1\nRepublic of Poland                1\nRepublic of Zimbabwe              1\nName: project_name, Length: 118, dtype: int64"
     },
     "execution_count": 211,
     "metadata": {},
     "output_type": "execute_result"
    }
   ],
   "source": [
    "bank_projects_json_df.groupby('countryname')['project_name'].agg('count').sort_values(ascending=False)"
   ],
   "metadata": {
    "collapsed": false,
    "pycharm": {
     "name": "#%%\n"
    }
   }
  },
  {
   "cell_type": "markdown",
   "source": [
    "### work for question 2"
   ],
   "metadata": {
    "collapsed": false,
    "pycharm": {
     "name": "#%% md\n"
    }
   }
  },
  {
   "cell_type": "code",
   "execution_count": 212,
   "outputs": [
    {
     "data": {
      "text/plain": "                                              sector supplementprojectflg  \\\n0  [{'Name': 'Primary education'}, {'Name': 'Seco...                    N   \n1  [{'Name': 'Public administration- Other social...                    N   \n2  [{'Name': 'Rural and Inter-Urban Roads and Hig...                    Y   \n\n  projectfinancialtype prodline  \\\n0                  IDA       PE   \n1                OTHER       RE   \n2                  IDA       PE   \n\n                                             mjtheme  idacommamt  \\\n0                                [Human development]   130000000   \n1  [Economic management, Social protection and ri...           0   \n2  [Trade and integration, Public sector governan...     6060000   \n\n                                  impagency  \\\n0                     MINISTRY OF EDUCATION   \n1                       MINISTRY OF FINANCE   \n2  MINISTRY OF TRANSPORT AND COMMUNICATIONS   \n\n                                        project_name mjthemecode  \\\n0  Ethiopia General Education Quality Improvement...        8,11   \n1          TN: DTF Social Protection Reforms Support         1,6   \n2  Tuvalu Aviation Investment Project - Additiona...    5,2,11,6   \n\n            closingdate  ...  \\\n0  2018-07-07T00:00:00Z  ...   \n1                   NaN  ...   \n2                   NaN  ...   \n\n                                 majorsector_percent board_approval_month  \\\n0  [{'Percent': 46, 'Name': 'Education'}, {'Perce...             November   \n1  [{'Percent': 70, 'Name': 'Public Administratio...             November   \n2       [{'Percent': 100, 'Name': 'Transportation'}]             November   \n\n                                      theme_namecode  \\\n0      [{'code': '65', 'name': 'Education for all'}]   \n1  [{'code': '24', 'name': 'Other economic manage...   \n2  [{'code': '47', 'name': 'Regional integration'...   \n\n                               countryname  \\\n0  Federal Democratic Republic of Ethiopia   \n1                      Republic of Tunisia   \n2                                   Tuvalu   \n\n                                                 url source  \\\n0  http://www.worldbank.org/projects/P129828/ethi...   IBRD   \n1  http://www.worldbank.org/projects/P144674?lang=en   IBRD   \n2  http://www.worldbank.org/projects/P145310?lang=en   IBRD   \n\n  projectstatusdisplay ibrdcommamt  \\\n0               Active           0   \n1               Active           0   \n2               Active           0   \n\n                                     sector_namecode  \\\n0  [{'code': 'EP', 'name': 'Primary education'}, ...   \n1  [{'code': 'BS', 'name': 'Public administration...   \n2  [{'code': 'TI', 'name': 'Rural and Inter-Urban...   \n\n                                    _id  \n0  {'$oid': '52b213b38594d8a2be17c780'}  \n1  {'$oid': '52b213b38594d8a2be17c781'}  \n2  {'$oid': '52b213b38594d8a2be17c782'}  \n\n[3 rows x 50 columns]",
      "text/html": "<div>\n<style scoped>\n    .dataframe tbody tr th:only-of-type {\n        vertical-align: middle;\n    }\n\n    .dataframe tbody tr th {\n        vertical-align: top;\n    }\n\n    .dataframe thead th {\n        text-align: right;\n    }\n</style>\n<table border=\"1\" class=\"dataframe\">\n  <thead>\n    <tr style=\"text-align: right;\">\n      <th></th>\n      <th>sector</th>\n      <th>supplementprojectflg</th>\n      <th>projectfinancialtype</th>\n      <th>prodline</th>\n      <th>mjtheme</th>\n      <th>idacommamt</th>\n      <th>impagency</th>\n      <th>project_name</th>\n      <th>mjthemecode</th>\n      <th>closingdate</th>\n      <th>...</th>\n      <th>majorsector_percent</th>\n      <th>board_approval_month</th>\n      <th>theme_namecode</th>\n      <th>countryname</th>\n      <th>url</th>\n      <th>source</th>\n      <th>projectstatusdisplay</th>\n      <th>ibrdcommamt</th>\n      <th>sector_namecode</th>\n      <th>_id</th>\n    </tr>\n  </thead>\n  <tbody>\n    <tr>\n      <th>0</th>\n      <td>[{'Name': 'Primary education'}, {'Name': 'Seco...</td>\n      <td>N</td>\n      <td>IDA</td>\n      <td>PE</td>\n      <td>[Human development]</td>\n      <td>130000000</td>\n      <td>MINISTRY OF EDUCATION</td>\n      <td>Ethiopia General Education Quality Improvement...</td>\n      <td>8,11</td>\n      <td>2018-07-07T00:00:00Z</td>\n      <td>...</td>\n      <td>[{'Percent': 46, 'Name': 'Education'}, {'Perce...</td>\n      <td>November</td>\n      <td>[{'code': '65', 'name': 'Education for all'}]</td>\n      <td>Federal Democratic Republic of Ethiopia</td>\n      <td>http://www.worldbank.org/projects/P129828/ethi...</td>\n      <td>IBRD</td>\n      <td>Active</td>\n      <td>0</td>\n      <td>[{'code': 'EP', 'name': 'Primary education'}, ...</td>\n      <td>{'$oid': '52b213b38594d8a2be17c780'}</td>\n    </tr>\n    <tr>\n      <th>1</th>\n      <td>[{'Name': 'Public administration- Other social...</td>\n      <td>N</td>\n      <td>OTHER</td>\n      <td>RE</td>\n      <td>[Economic management, Social protection and ri...</td>\n      <td>0</td>\n      <td>MINISTRY OF FINANCE</td>\n      <td>TN: DTF Social Protection Reforms Support</td>\n      <td>1,6</td>\n      <td>NaN</td>\n      <td>...</td>\n      <td>[{'Percent': 70, 'Name': 'Public Administratio...</td>\n      <td>November</td>\n      <td>[{'code': '24', 'name': 'Other economic manage...</td>\n      <td>Republic of Tunisia</td>\n      <td>http://www.worldbank.org/projects/P144674?lang=en</td>\n      <td>IBRD</td>\n      <td>Active</td>\n      <td>0</td>\n      <td>[{'code': 'BS', 'name': 'Public administration...</td>\n      <td>{'$oid': '52b213b38594d8a2be17c781'}</td>\n    </tr>\n    <tr>\n      <th>2</th>\n      <td>[{'Name': 'Rural and Inter-Urban Roads and Hig...</td>\n      <td>Y</td>\n      <td>IDA</td>\n      <td>PE</td>\n      <td>[Trade and integration, Public sector governan...</td>\n      <td>6060000</td>\n      <td>MINISTRY OF TRANSPORT AND COMMUNICATIONS</td>\n      <td>Tuvalu Aviation Investment Project - Additiona...</td>\n      <td>5,2,11,6</td>\n      <td>NaN</td>\n      <td>...</td>\n      <td>[{'Percent': 100, 'Name': 'Transportation'}]</td>\n      <td>November</td>\n      <td>[{'code': '47', 'name': 'Regional integration'...</td>\n      <td>Tuvalu</td>\n      <td>http://www.worldbank.org/projects/P145310?lang=en</td>\n      <td>IBRD</td>\n      <td>Active</td>\n      <td>0</td>\n      <td>[{'code': 'TI', 'name': 'Rural and Inter-Urban...</td>\n      <td>{'$oid': '52b213b38594d8a2be17c782'}</td>\n    </tr>\n  </tbody>\n</table>\n<p>3 rows × 50 columns</p>\n</div>"
     },
     "execution_count": 212,
     "metadata": {},
     "output_type": "execute_result"
    }
   ],
   "source": [
    "bank_projects_json_df.head(3)"
   ],
   "metadata": {
    "collapsed": false,
    "pycharm": {
     "name": "#%%\n"
    }
   }
  },
  {
   "cell_type": "code",
   "execution_count": 213,
   "outputs": [
    {
     "data": {
      "text/plain": "                                    mjtheme_namecode\n0  [{'code': '8', 'name': 'Human development'}, {...\n1  [{'code': '1', 'name': 'Economic management'},...\n2  [{'code': '5', 'name': 'Trade and integration'...\n3  [{'code': '7', 'name': 'Social dev/gender/incl...\n4  [{'code': '5', 'name': 'Trade and integration'...",
      "text/html": "<div>\n<style scoped>\n    .dataframe tbody tr th:only-of-type {\n        vertical-align: middle;\n    }\n\n    .dataframe tbody tr th {\n        vertical-align: top;\n    }\n\n    .dataframe thead th {\n        text-align: right;\n    }\n</style>\n<table border=\"1\" class=\"dataframe\">\n  <thead>\n    <tr style=\"text-align: right;\">\n      <th></th>\n      <th>mjtheme_namecode</th>\n    </tr>\n  </thead>\n  <tbody>\n    <tr>\n      <th>0</th>\n      <td>[{'code': '8', 'name': 'Human development'}, {...</td>\n    </tr>\n    <tr>\n      <th>1</th>\n      <td>[{'code': '1', 'name': 'Economic management'},...</td>\n    </tr>\n    <tr>\n      <th>2</th>\n      <td>[{'code': '5', 'name': 'Trade and integration'...</td>\n    </tr>\n    <tr>\n      <th>3</th>\n      <td>[{'code': '7', 'name': 'Social dev/gender/incl...</td>\n    </tr>\n    <tr>\n      <th>4</th>\n      <td>[{'code': '5', 'name': 'Trade and integration'...</td>\n    </tr>\n  </tbody>\n</table>\n</div>"
     },
     "execution_count": 213,
     "metadata": {},
     "output_type": "execute_result"
    }
   ],
   "source": [
    "bank_projects_json_df[['mjtheme_namecode']].head()"
   ],
   "metadata": {
    "collapsed": false,
    "pycharm": {
     "name": "#%%\n"
    }
   }
  },
  {
   "cell_type": "code",
   "execution_count": 214,
   "outputs": [
    {
     "name": "stdout",
     "output_type": "stream",
     "text": [
      "<class 'list'>\n"
     ]
    },
    {
     "name": "stderr",
     "output_type": "stream",
     "text": [
      "/tmp/ipykernel_3159/3024913753.py:3: FutureWarning: pandas.io.json.json_normalize is deprecated, use pandas.json_normalize instead.\n",
      "  json_normalize(data, 'counties', ['state', 'shortname', ['info', 'governor']])\n"
     ]
    },
    {
     "data": {
      "text/plain": "         name  population    state shortname info.governor\n0        Dade       12345  Florida        FL    Rick Scott\n1     Broward       40000  Florida        FL    Rick Scott\n2  Palm Beach       60000  Florida        FL    Rick Scott\n3      Summit        1234     Ohio        OH   John Kasich\n4    Cuyahoga        1337     Ohio        OH   John Kasich",
      "text/html": "<div>\n<style scoped>\n    .dataframe tbody tr th:only-of-type {\n        vertical-align: middle;\n    }\n\n    .dataframe tbody tr th {\n        vertical-align: top;\n    }\n\n    .dataframe thead th {\n        text-align: right;\n    }\n</style>\n<table border=\"1\" class=\"dataframe\">\n  <thead>\n    <tr style=\"text-align: right;\">\n      <th></th>\n      <th>name</th>\n      <th>population</th>\n      <th>state</th>\n      <th>shortname</th>\n      <th>info.governor</th>\n    </tr>\n  </thead>\n  <tbody>\n    <tr>\n      <th>0</th>\n      <td>Dade</td>\n      <td>12345</td>\n      <td>Florida</td>\n      <td>FL</td>\n      <td>Rick Scott</td>\n    </tr>\n    <tr>\n      <th>1</th>\n      <td>Broward</td>\n      <td>40000</td>\n      <td>Florida</td>\n      <td>FL</td>\n      <td>Rick Scott</td>\n    </tr>\n    <tr>\n      <th>2</th>\n      <td>Palm Beach</td>\n      <td>60000</td>\n      <td>Florida</td>\n      <td>FL</td>\n      <td>Rick Scott</td>\n    </tr>\n    <tr>\n      <th>3</th>\n      <td>Summit</td>\n      <td>1234</td>\n      <td>Ohio</td>\n      <td>OH</td>\n      <td>John Kasich</td>\n    </tr>\n    <tr>\n      <th>4</th>\n      <td>Cuyahoga</td>\n      <td>1337</td>\n      <td>Ohio</td>\n      <td>OH</td>\n      <td>John Kasich</td>\n    </tr>\n  </tbody>\n</table>\n</div>"
     },
     "execution_count": 214,
     "metadata": {},
     "output_type": "execute_result"
    }
   ],
   "source": [
    "#json_normalize(data, 'counties', ['state', 'shortname', ['info', 'governor']])\n",
    "print(type(data))\n",
    "json_normalize(data, 'counties', ['state', 'shortname', ['info', 'governor']])"
   ],
   "metadata": {
    "collapsed": false,
    "pycharm": {
     "name": "#%%\n"
    }
   }
  },
  {
   "cell_type": "code",
   "execution_count": 215,
   "outputs": [],
   "source": [
    "import numpy as np\n",
    "#bank_projects_json_df.groupby('mjtheme_namecode').agg('count')"
   ],
   "metadata": {
    "collapsed": false,
    "pycharm": {
     "name": "#%%\n"
    }
   }
  },
  {
   "cell_type": "code",
   "execution_count": 216,
   "outputs": [
    {
     "name": "stderr",
     "output_type": "stream",
     "text": [
      "/tmp/ipykernel_3159/235374699.py:4: FutureWarning: pandas.io.json.json_normalize is deprecated, use pandas.json_normalize instead.\n",
      "  bb = json_normalize(bank_less_string)\n"
     ]
    },
    {
     "data": {
      "text/plain": "Index(['approvalfy', 'board_approval_month', 'boardapprovaldate', 'borrower',\n       'closingdate', 'country_namecode', 'countrycode', 'countryname',\n       'countryshortname', 'docty', 'envassesmentcategorycode', 'grantamt',\n       'ibrdcommamt', 'id', 'idacommamt', 'impagency', 'lendinginstr',\n       'lendinginstrtype', 'lendprojectcost', 'majorsector_percent',\n       'mjsector_namecode', 'mjtheme', 'mjtheme_namecode', 'mjthemecode',\n       'prodline', 'prodlinetext', 'productlinetype', 'project_name',\n       'projectdocs', 'projectfinancialtype', 'projectstatusdisplay',\n       'regionname', 'sector', 'sector_namecode', 'sectorcode', 'source',\n       'status', 'supplementprojectflg', 'theme_namecode', 'themecode',\n       'totalamt', 'totalcommamt', 'url', '_id.$oid', 'project_abstract.cdata',\n       'sector1.Name', 'sector1.Percent', 'sector2.Name', 'sector2.Percent',\n       'sector3.Name', 'sector3.Percent', 'sector4.Name', 'sector4.Percent',\n       'theme1.Name', 'theme1.Percent'],\n      dtype='object')"
     },
     "execution_count": 216,
     "metadata": {},
     "output_type": "execute_result"
    }
   ],
   "source": [
    "bank_less_string = json.load((open('data/world_bank_projects_less.json')))\n",
    "type(bank_less_string)\n",
    "bank_less_string\n",
    "bb = json_normalize(bank_less_string)\n",
    "#json_normalize(bank_less_string, 'counties', ['state', 'shortname', ['info', 'governor']])\n",
    "bb.columns"
   ],
   "metadata": {
    "collapsed": false,
    "pycharm": {
     "name": "#%%\n"
    }
   }
  },
  {
   "cell_type": "code",
   "execution_count": 217,
   "outputs": [
    {
     "name": "stdout",
     "output_type": "stream",
     "text": [
      "Index(['code', 'name', 'countryname'], dtype='object')\n",
      "0      [{'code': '8', 'name': 'Human development'}, {...\n",
      "1      [{'code': '1', 'name': 'Economic management'},...\n",
      "2      [{'code': '5', 'name': 'Trade and integration'...\n",
      "3      [{'code': '7', 'name': 'Social dev/gender/incl...\n",
      "4      [{'code': '5', 'name': 'Trade and integration'...\n",
      "                             ...                        \n",
      "495    [{'code': '4', 'name': 'Financial and private ...\n",
      "496    [{'code': '8', 'name': 'Human development'}, {...\n",
      "497    [{'code': '10', 'name': 'Rural development'}, ...\n",
      "498    [{'code': '10', 'name': 'Rural development'}, ...\n",
      "499    [{'code': '9', 'name': 'Urban development'}, {...\n",
      "Name: mjtheme_namecode, Length: 500, dtype: object\n",
      "Index(['sector', 'supplementprojectflg', 'projectfinancialtype', 'prodline',\n",
      "       'mjtheme', 'idacommamt', 'impagency', 'project_name', 'mjthemecode',\n",
      "       'closingdate', 'totalcommamt', 'id', 'mjsector_namecode', 'docty',\n",
      "       'sector1', 'lendinginstr', 'countrycode', 'sector2', 'totalamt',\n",
      "       'mjtheme_namecode', 'boardapprovaldate', 'countryshortname', 'sector4',\n",
      "       'prodlinetext', 'productlinetype', 'regionname', 'status',\n",
      "       'country_namecode', 'envassesmentcategorycode', 'project_abstract',\n",
      "       'approvalfy', 'projectdocs', 'lendprojectcost', 'lendinginstrtype',\n",
      "       'theme1', 'grantamt', 'themecode', 'borrower', 'sectorcode', 'sector3',\n",
      "       'majorsector_percent', 'board_approval_month', 'theme_namecode',\n",
      "       'countryname', 'url', 'source', 'projectstatusdisplay', 'ibrdcommamt',\n",
      "       'sector_namecode', '_id'],\n",
      "      dtype='object')\n"
     ]
    },
    {
     "name": "stderr",
     "output_type": "stream",
     "text": [
      "/tmp/ipykernel_3159/1036650171.py:3: FutureWarning: pandas.io.json.json_normalize is deprecated, use pandas.json_normalize instead.\n",
      "  bank_df_normalised = json_normalize(bank_string, 'mjtheme_namecode',['countryname'])\n",
      "/tmp/ipykernel_3159/1036650171.py:5: FutureWarning: pandas.io.json.json_normalize is deprecated, use pandas.json_normalize instead.\n",
      "  json_normalize(data, 'counties', ['state', 'shortname', ['info', 'governor']])\n"
     ]
    },
    {
     "data": {
      "text/plain": "     code                                      name  \\\n0       8                         Human development   \n1      11                                             \n2       1                       Economic management   \n3       6     Social protection and risk management   \n4       5                     Trade and integration   \n...   ...                                       ...   \n1494   10                         Rural development   \n1495    9                         Urban development   \n1496    8                         Human development   \n1497    5                     Trade and integration   \n1498    4  Financial and private sector development   \n\n                                  countryname  \n0     Federal Democratic Republic of Ethiopia  \n1     Federal Democratic Republic of Ethiopia  \n2                         Republic of Tunisia  \n3                         Republic of Tunisia  \n4                                      Tuvalu  \n...                                       ...  \n1494                    Republic of Indonesia  \n1495                        Republic of Kenya  \n1496                        Republic of Kenya  \n1497                        Republic of Kenya  \n1498                        Republic of Kenya  \n\n[1499 rows x 3 columns]",
      "text/html": "<div>\n<style scoped>\n    .dataframe tbody tr th:only-of-type {\n        vertical-align: middle;\n    }\n\n    .dataframe tbody tr th {\n        vertical-align: top;\n    }\n\n    .dataframe thead th {\n        text-align: right;\n    }\n</style>\n<table border=\"1\" class=\"dataframe\">\n  <thead>\n    <tr style=\"text-align: right;\">\n      <th></th>\n      <th>code</th>\n      <th>name</th>\n      <th>countryname</th>\n    </tr>\n  </thead>\n  <tbody>\n    <tr>\n      <th>0</th>\n      <td>8</td>\n      <td>Human development</td>\n      <td>Federal Democratic Republic of Ethiopia</td>\n    </tr>\n    <tr>\n      <th>1</th>\n      <td>11</td>\n      <td></td>\n      <td>Federal Democratic Republic of Ethiopia</td>\n    </tr>\n    <tr>\n      <th>2</th>\n      <td>1</td>\n      <td>Economic management</td>\n      <td>Republic of Tunisia</td>\n    </tr>\n    <tr>\n      <th>3</th>\n      <td>6</td>\n      <td>Social protection and risk management</td>\n      <td>Republic of Tunisia</td>\n    </tr>\n    <tr>\n      <th>4</th>\n      <td>5</td>\n      <td>Trade and integration</td>\n      <td>Tuvalu</td>\n    </tr>\n    <tr>\n      <th>...</th>\n      <td>...</td>\n      <td>...</td>\n      <td>...</td>\n    </tr>\n    <tr>\n      <th>1494</th>\n      <td>10</td>\n      <td>Rural development</td>\n      <td>Republic of Indonesia</td>\n    </tr>\n    <tr>\n      <th>1495</th>\n      <td>9</td>\n      <td>Urban development</td>\n      <td>Republic of Kenya</td>\n    </tr>\n    <tr>\n      <th>1496</th>\n      <td>8</td>\n      <td>Human development</td>\n      <td>Republic of Kenya</td>\n    </tr>\n    <tr>\n      <th>1497</th>\n      <td>5</td>\n      <td>Trade and integration</td>\n      <td>Republic of Kenya</td>\n    </tr>\n    <tr>\n      <th>1498</th>\n      <td>4</td>\n      <td>Financial and private sector development</td>\n      <td>Republic of Kenya</td>\n    </tr>\n  </tbody>\n</table>\n<p>1499 rows × 3 columns</p>\n</div>"
     },
     "execution_count": 217,
     "metadata": {},
     "output_type": "execute_result"
    }
   ],
   "source": [
    "bank_string = json.load((open('data/world_bank_projects.json')))\n",
    "#project_themes = bank_string['mjtheme_namecode']\n",
    "bank_df_normalised = json_normalize(bank_string, 'mjtheme_namecode',['countryname'])\n",
    "\n",
    "json_normalize(data, 'counties', ['state', 'shortname', ['info', 'governor']])\n",
    "\n",
    "print(bank_df_normalised.columns)\n",
    "print(bank_projects_json_df['mjtheme_namecode'])\n",
    "print(bank_projects_json_df.columns)\n",
    "type(bank_df_normalised)\n",
    "bank_df_normalised\n",
    "#bank_df_normalised['mjtheme_namecode']"
   ],
   "metadata": {
    "collapsed": false,
    "pycharm": {
     "name": "#%%\n"
    }
   }
  },
  {
   "cell_type": "markdown",
   "source": [
    "### work for question 3\n"
   ],
   "metadata": {
    "collapsed": false,
    "pycharm": {
     "name": "#%% md\n"
    }
   }
  },
  {
   "cell_type": "code",
   "execution_count": 218,
   "outputs": [
    {
     "data": {
      "text/plain": "     code name                              countryname\n1      11       Federal Democratic Republic of Ethiopia\n13      6                             Republic of Kenya\n17      8                    People's Republic of China\n19      7                             Republic of India\n24      2                       Republic of South Sudan\n...   ...  ...                                      ...\n1457    4                                      Mongolia\n1477   11                            West Bank and Gaza\n1481    5               People's Republic of Bangladesh\n1483    8                                         Nepal\n1491    6                            Republic of Guinea\n\n[122 rows x 3 columns]",
      "text/html": "<div>\n<style scoped>\n    .dataframe tbody tr th:only-of-type {\n        vertical-align: middle;\n    }\n\n    .dataframe tbody tr th {\n        vertical-align: top;\n    }\n\n    .dataframe thead th {\n        text-align: right;\n    }\n</style>\n<table border=\"1\" class=\"dataframe\">\n  <thead>\n    <tr style=\"text-align: right;\">\n      <th></th>\n      <th>code</th>\n      <th>name</th>\n      <th>countryname</th>\n    </tr>\n  </thead>\n  <tbody>\n    <tr>\n      <th>1</th>\n      <td>11</td>\n      <td></td>\n      <td>Federal Democratic Republic of Ethiopia</td>\n    </tr>\n    <tr>\n      <th>13</th>\n      <td>6</td>\n      <td></td>\n      <td>Republic of Kenya</td>\n    </tr>\n    <tr>\n      <th>17</th>\n      <td>8</td>\n      <td></td>\n      <td>People's Republic of China</td>\n    </tr>\n    <tr>\n      <th>19</th>\n      <td>7</td>\n      <td></td>\n      <td>Republic of India</td>\n    </tr>\n    <tr>\n      <th>24</th>\n      <td>2</td>\n      <td></td>\n      <td>Republic of South Sudan</td>\n    </tr>\n    <tr>\n      <th>...</th>\n      <td>...</td>\n      <td>...</td>\n      <td>...</td>\n    </tr>\n    <tr>\n      <th>1457</th>\n      <td>4</td>\n      <td></td>\n      <td>Mongolia</td>\n    </tr>\n    <tr>\n      <th>1477</th>\n      <td>11</td>\n      <td></td>\n      <td>West Bank and Gaza</td>\n    </tr>\n    <tr>\n      <th>1481</th>\n      <td>5</td>\n      <td></td>\n      <td>People's Republic of Bangladesh</td>\n    </tr>\n    <tr>\n      <th>1483</th>\n      <td>8</td>\n      <td></td>\n      <td>Nepal</td>\n    </tr>\n    <tr>\n      <th>1491</th>\n      <td>6</td>\n      <td></td>\n      <td>Republic of Guinea</td>\n    </tr>\n  </tbody>\n</table>\n<p>122 rows × 3 columns</p>\n</div>"
     },
     "execution_count": 218,
     "metadata": {},
     "output_type": "execute_result"
    }
   ],
   "source": [
    "bank_df_normalised[\"name\"]\n",
    "bank_projects_blank_filter = bank_df_normalised['name'] == \"\"\n",
    "bank_df_normalised[bank_projects_blank_filter]"
   ],
   "metadata": {
    "collapsed": false,
    "pycharm": {
     "name": "#%%\n"
    }
   }
  },
  {
   "cell_type": "code",
   "execution_count": 219,
   "outputs": [
    {
     "data": {
      "text/plain": "     code name                              countryname\n1      11       Federal Democratic Republic of Ethiopia\n13      6                             Republic of Kenya\n17      8                    People's Republic of China\n19      7                             Republic of India\n24      2                       Republic of South Sudan\n...   ...  ...                                      ...\n1457    4                                      Mongolia\n1477   11                            West Bank and Gaza\n1481    5               People's Republic of Bangladesh\n1483    8                                         Nepal\n1491    6                            Republic of Guinea\n\n[122 rows x 3 columns]",
      "text/html": "<div>\n<style scoped>\n    .dataframe tbody tr th:only-of-type {\n        vertical-align: middle;\n    }\n\n    .dataframe tbody tr th {\n        vertical-align: top;\n    }\n\n    .dataframe thead th {\n        text-align: right;\n    }\n</style>\n<table border=\"1\" class=\"dataframe\">\n  <thead>\n    <tr style=\"text-align: right;\">\n      <th></th>\n      <th>code</th>\n      <th>name</th>\n      <th>countryname</th>\n    </tr>\n  </thead>\n  <tbody>\n    <tr>\n      <th>1</th>\n      <td>11</td>\n      <td></td>\n      <td>Federal Democratic Republic of Ethiopia</td>\n    </tr>\n    <tr>\n      <th>13</th>\n      <td>6</td>\n      <td></td>\n      <td>Republic of Kenya</td>\n    </tr>\n    <tr>\n      <th>17</th>\n      <td>8</td>\n      <td></td>\n      <td>People's Republic of China</td>\n    </tr>\n    <tr>\n      <th>19</th>\n      <td>7</td>\n      <td></td>\n      <td>Republic of India</td>\n    </tr>\n    <tr>\n      <th>24</th>\n      <td>2</td>\n      <td></td>\n      <td>Republic of South Sudan</td>\n    </tr>\n    <tr>\n      <th>...</th>\n      <td>...</td>\n      <td>...</td>\n      <td>...</td>\n    </tr>\n    <tr>\n      <th>1457</th>\n      <td>4</td>\n      <td></td>\n      <td>Mongolia</td>\n    </tr>\n    <tr>\n      <th>1477</th>\n      <td>11</td>\n      <td></td>\n      <td>West Bank and Gaza</td>\n    </tr>\n    <tr>\n      <th>1481</th>\n      <td>5</td>\n      <td></td>\n      <td>People's Republic of Bangladesh</td>\n    </tr>\n    <tr>\n      <th>1483</th>\n      <td>8</td>\n      <td></td>\n      <td>Nepal</td>\n    </tr>\n    <tr>\n      <th>1491</th>\n      <td>6</td>\n      <td></td>\n      <td>Republic of Guinea</td>\n    </tr>\n  </tbody>\n</table>\n<p>122 rows × 3 columns</p>\n</div>"
     },
     "execution_count": 219,
     "metadata": {},
     "output_type": "execute_result"
    }
   ],
   "source": [
    "bank_df_normalised[bank_projects_blank_filter]"
   ],
   "metadata": {
    "collapsed": false,
    "pycharm": {
     "name": "#%%\n"
    }
   }
  },
  {
   "cell_type": "code",
   "execution_count": 220,
   "outputs": [
    {
     "name": "stdout",
     "output_type": "stream",
     "text": [
      "<class 'pandas.core.series.Series'>\n"
     ]
    },
    {
     "data": {
      "text/plain": "     code               name                               countryname  \\\n53      9  Urban development                                     Nepal   \n183     9  Urban development                        Kingdom of Morocco   \n194     9  Urban development                              Burkina Faso   \n200     9  Urban development                    Republic of Mozambique   \n318     9  Urban development                         Republic of Benin   \n320     9  Urban development                         Republic of Benin   \n333     9                                   People's Republic of China   \n341     9  Urban development                      Republic of Honduras   \n354     9  Urban development            Islamic Republic of Mauritania   \n356     9  Urban development            Islamic Republic of Mauritania   \n369     9  Urban development             Federative Republic of Brazil   \n414     9  Urban development                         Republic of Ghana   \n447     9  Urban development                          Republic of Togo   \n460     9                                Socialist Republic of Vietnam   \n471     9                                   People's Republic of China   \n512     9  Urban development                        West Bank and Gaza   \n513     9  Urban development                        West Bank and Gaza   \n535     9  Urban development                                    Africa   \n570     9  Urban development                         Republic of India   \n585     9  Urban development                People's Republic of China   \n597     9  Urban development          Democratic Republic of the Congo   \n598     9  Urban development          Democratic Republic of the Congo   \n650     9  Urban development             Socialist Republic of Vietnam   \n669     9  Urban development                    Republic of Mozambique   \n732     9  Urban development                People's Republic of China   \n737     9  Urban development                        Republic of Uganda   \n738     9  Urban development                        Republic of Uganda   \n739     9  Urban development                   Republic of South Sudan   \n742     9  Urban development                   Republic of South Sudan   \n822     9  Urban development                People's Republic of China   \n917     9  Urban development                       Kingdom of Thailand   \n930     9  Urban development                        Republic of Rwanda   \n940     9  Urban development                        Kingdom of Morocco   \n962     9  Urban development              Middle East and North Africa   \n1095    9  Urban development                      Republic of Honduras   \n1102    9  Urban development                      Republic of Colombia   \n1103    9  Urban development                      Republic of Colombia   \n1104    9  Urban development                      Republic of Colombia   \n1166    9  Urban development                        West Bank and Gaza   \n1290    9  Urban development               United Republic of Tanzania   \n1303    9  Urban development            Plurinational State of Bolivia   \n1318    9  Urban development                                     Nepal   \n1342    9  Urban development                                    Africa   \n1347    9  Urban development           People's Republic of Bangladesh   \n1425    9  Urban development              Islamic Republic of Pakistan   \n1426    9  Urban development              Islamic Republic of Pakistan   \n1428    9  Urban development                     Republic of Indonesia   \n1470    9  Urban development  The Independent State of Papua New Guine   \n1473    9  Urban development  The Independent State of Papua New Guine   \n1495    9  Urban development                         Republic of Kenya   \n\n         official_name2  \n53    Urban development  \n183   Urban development  \n194   Urban development  \n200   Urban development  \n318   Urban development  \n320   Urban development  \n333   Urban development  \n341   Urban development  \n354   Urban development  \n356   Urban development  \n369   Urban development  \n414   Urban development  \n447   Urban development  \n460   Urban development  \n471   Urban development  \n512   Urban development  \n513   Urban development  \n535   Urban development  \n570   Urban development  \n585   Urban development  \n597   Urban development  \n598   Urban development  \n650   Urban development  \n669   Urban development  \n732   Urban development  \n737   Urban development  \n738   Urban development  \n739   Urban development  \n742   Urban development  \n822   Urban development  \n917   Urban development  \n930   Urban development  \n940   Urban development  \n962   Urban development  \n1095  Urban development  \n1102  Urban development  \n1103  Urban development  \n1104  Urban development  \n1166  Urban development  \n1290  Urban development  \n1303  Urban development  \n1318  Urban development  \n1342  Urban development  \n1347  Urban development  \n1425  Urban development  \n1426  Urban development  \n1428  Urban development  \n1470  Urban development  \n1473  Urban development  \n1495  Urban development  ",
      "text/html": "<div>\n<style scoped>\n    .dataframe tbody tr th:only-of-type {\n        vertical-align: middle;\n    }\n\n    .dataframe tbody tr th {\n        vertical-align: top;\n    }\n\n    .dataframe thead th {\n        text-align: right;\n    }\n</style>\n<table border=\"1\" class=\"dataframe\">\n  <thead>\n    <tr style=\"text-align: right;\">\n      <th></th>\n      <th>code</th>\n      <th>name</th>\n      <th>countryname</th>\n      <th>official_name2</th>\n    </tr>\n  </thead>\n  <tbody>\n    <tr>\n      <th>53</th>\n      <td>9</td>\n      <td>Urban development</td>\n      <td>Nepal</td>\n      <td>Urban development</td>\n    </tr>\n    <tr>\n      <th>183</th>\n      <td>9</td>\n      <td>Urban development</td>\n      <td>Kingdom of Morocco</td>\n      <td>Urban development</td>\n    </tr>\n    <tr>\n      <th>194</th>\n      <td>9</td>\n      <td>Urban development</td>\n      <td>Burkina Faso</td>\n      <td>Urban development</td>\n    </tr>\n    <tr>\n      <th>200</th>\n      <td>9</td>\n      <td>Urban development</td>\n      <td>Republic of Mozambique</td>\n      <td>Urban development</td>\n    </tr>\n    <tr>\n      <th>318</th>\n      <td>9</td>\n      <td>Urban development</td>\n      <td>Republic of Benin</td>\n      <td>Urban development</td>\n    </tr>\n    <tr>\n      <th>320</th>\n      <td>9</td>\n      <td>Urban development</td>\n      <td>Republic of Benin</td>\n      <td>Urban development</td>\n    </tr>\n    <tr>\n      <th>333</th>\n      <td>9</td>\n      <td></td>\n      <td>People's Republic of China</td>\n      <td>Urban development</td>\n    </tr>\n    <tr>\n      <th>341</th>\n      <td>9</td>\n      <td>Urban development</td>\n      <td>Republic of Honduras</td>\n      <td>Urban development</td>\n    </tr>\n    <tr>\n      <th>354</th>\n      <td>9</td>\n      <td>Urban development</td>\n      <td>Islamic Republic of Mauritania</td>\n      <td>Urban development</td>\n    </tr>\n    <tr>\n      <th>356</th>\n      <td>9</td>\n      <td>Urban development</td>\n      <td>Islamic Republic of Mauritania</td>\n      <td>Urban development</td>\n    </tr>\n    <tr>\n      <th>369</th>\n      <td>9</td>\n      <td>Urban development</td>\n      <td>Federative Republic of Brazil</td>\n      <td>Urban development</td>\n    </tr>\n    <tr>\n      <th>414</th>\n      <td>9</td>\n      <td>Urban development</td>\n      <td>Republic of Ghana</td>\n      <td>Urban development</td>\n    </tr>\n    <tr>\n      <th>447</th>\n      <td>9</td>\n      <td>Urban development</td>\n      <td>Republic of Togo</td>\n      <td>Urban development</td>\n    </tr>\n    <tr>\n      <th>460</th>\n      <td>9</td>\n      <td></td>\n      <td>Socialist Republic of Vietnam</td>\n      <td>Urban development</td>\n    </tr>\n    <tr>\n      <th>471</th>\n      <td>9</td>\n      <td></td>\n      <td>People's Republic of China</td>\n      <td>Urban development</td>\n    </tr>\n    <tr>\n      <th>512</th>\n      <td>9</td>\n      <td>Urban development</td>\n      <td>West Bank and Gaza</td>\n      <td>Urban development</td>\n    </tr>\n    <tr>\n      <th>513</th>\n      <td>9</td>\n      <td>Urban development</td>\n      <td>West Bank and Gaza</td>\n      <td>Urban development</td>\n    </tr>\n    <tr>\n      <th>535</th>\n      <td>9</td>\n      <td>Urban development</td>\n      <td>Africa</td>\n      <td>Urban development</td>\n    </tr>\n    <tr>\n      <th>570</th>\n      <td>9</td>\n      <td>Urban development</td>\n      <td>Republic of India</td>\n      <td>Urban development</td>\n    </tr>\n    <tr>\n      <th>585</th>\n      <td>9</td>\n      <td>Urban development</td>\n      <td>People's Republic of China</td>\n      <td>Urban development</td>\n    </tr>\n    <tr>\n      <th>597</th>\n      <td>9</td>\n      <td>Urban development</td>\n      <td>Democratic Republic of the Congo</td>\n      <td>Urban development</td>\n    </tr>\n    <tr>\n      <th>598</th>\n      <td>9</td>\n      <td>Urban development</td>\n      <td>Democratic Republic of the Congo</td>\n      <td>Urban development</td>\n    </tr>\n    <tr>\n      <th>650</th>\n      <td>9</td>\n      <td>Urban development</td>\n      <td>Socialist Republic of Vietnam</td>\n      <td>Urban development</td>\n    </tr>\n    <tr>\n      <th>669</th>\n      <td>9</td>\n      <td>Urban development</td>\n      <td>Republic of Mozambique</td>\n      <td>Urban development</td>\n    </tr>\n    <tr>\n      <th>732</th>\n      <td>9</td>\n      <td>Urban development</td>\n      <td>People's Republic of China</td>\n      <td>Urban development</td>\n    </tr>\n    <tr>\n      <th>737</th>\n      <td>9</td>\n      <td>Urban development</td>\n      <td>Republic of Uganda</td>\n      <td>Urban development</td>\n    </tr>\n    <tr>\n      <th>738</th>\n      <td>9</td>\n      <td>Urban development</td>\n      <td>Republic of Uganda</td>\n      <td>Urban development</td>\n    </tr>\n    <tr>\n      <th>739</th>\n      <td>9</td>\n      <td>Urban development</td>\n      <td>Republic of South Sudan</td>\n      <td>Urban development</td>\n    </tr>\n    <tr>\n      <th>742</th>\n      <td>9</td>\n      <td>Urban development</td>\n      <td>Republic of South Sudan</td>\n      <td>Urban development</td>\n    </tr>\n    <tr>\n      <th>822</th>\n      <td>9</td>\n      <td>Urban development</td>\n      <td>People's Republic of China</td>\n      <td>Urban development</td>\n    </tr>\n    <tr>\n      <th>917</th>\n      <td>9</td>\n      <td>Urban development</td>\n      <td>Kingdom of Thailand</td>\n      <td>Urban development</td>\n    </tr>\n    <tr>\n      <th>930</th>\n      <td>9</td>\n      <td>Urban development</td>\n      <td>Republic of Rwanda</td>\n      <td>Urban development</td>\n    </tr>\n    <tr>\n      <th>940</th>\n      <td>9</td>\n      <td>Urban development</td>\n      <td>Kingdom of Morocco</td>\n      <td>Urban development</td>\n    </tr>\n    <tr>\n      <th>962</th>\n      <td>9</td>\n      <td>Urban development</td>\n      <td>Middle East and North Africa</td>\n      <td>Urban development</td>\n    </tr>\n    <tr>\n      <th>1095</th>\n      <td>9</td>\n      <td>Urban development</td>\n      <td>Republic of Honduras</td>\n      <td>Urban development</td>\n    </tr>\n    <tr>\n      <th>1102</th>\n      <td>9</td>\n      <td>Urban development</td>\n      <td>Republic of Colombia</td>\n      <td>Urban development</td>\n    </tr>\n    <tr>\n      <th>1103</th>\n      <td>9</td>\n      <td>Urban development</td>\n      <td>Republic of Colombia</td>\n      <td>Urban development</td>\n    </tr>\n    <tr>\n      <th>1104</th>\n      <td>9</td>\n      <td>Urban development</td>\n      <td>Republic of Colombia</td>\n      <td>Urban development</td>\n    </tr>\n    <tr>\n      <th>1166</th>\n      <td>9</td>\n      <td>Urban development</td>\n      <td>West Bank and Gaza</td>\n      <td>Urban development</td>\n    </tr>\n    <tr>\n      <th>1290</th>\n      <td>9</td>\n      <td>Urban development</td>\n      <td>United Republic of Tanzania</td>\n      <td>Urban development</td>\n    </tr>\n    <tr>\n      <th>1303</th>\n      <td>9</td>\n      <td>Urban development</td>\n      <td>Plurinational State of Bolivia</td>\n      <td>Urban development</td>\n    </tr>\n    <tr>\n      <th>1318</th>\n      <td>9</td>\n      <td>Urban development</td>\n      <td>Nepal</td>\n      <td>Urban development</td>\n    </tr>\n    <tr>\n      <th>1342</th>\n      <td>9</td>\n      <td>Urban development</td>\n      <td>Africa</td>\n      <td>Urban development</td>\n    </tr>\n    <tr>\n      <th>1347</th>\n      <td>9</td>\n      <td>Urban development</td>\n      <td>People's Republic of Bangladesh</td>\n      <td>Urban development</td>\n    </tr>\n    <tr>\n      <th>1425</th>\n      <td>9</td>\n      <td>Urban development</td>\n      <td>Islamic Republic of Pakistan</td>\n      <td>Urban development</td>\n    </tr>\n    <tr>\n      <th>1426</th>\n      <td>9</td>\n      <td>Urban development</td>\n      <td>Islamic Republic of Pakistan</td>\n      <td>Urban development</td>\n    </tr>\n    <tr>\n      <th>1428</th>\n      <td>9</td>\n      <td>Urban development</td>\n      <td>Republic of Indonesia</td>\n      <td>Urban development</td>\n    </tr>\n    <tr>\n      <th>1470</th>\n      <td>9</td>\n      <td>Urban development</td>\n      <td>The Independent State of Papua New Guine</td>\n      <td>Urban development</td>\n    </tr>\n    <tr>\n      <th>1473</th>\n      <td>9</td>\n      <td>Urban development</td>\n      <td>The Independent State of Papua New Guine</td>\n      <td>Urban development</td>\n    </tr>\n    <tr>\n      <th>1495</th>\n      <td>9</td>\n      <td>Urban development</td>\n      <td>Republic of Kenya</td>\n      <td>Urban development</td>\n    </tr>\n  </tbody>\n</table>\n</div>"
     },
     "execution_count": 220,
     "metadata": {},
     "output_type": "execute_result"
    }
   ],
   "source": [
    "bank_df_normalised.groupby('code')[\"name\"].agg(['min','max'])\n",
    "\n",
    "def valid_name(code):\n",
    "    return code_names.loc[code]\n",
    "\n",
    "code_names = bank_df_normalised.groupby('code')[\"name\"].agg(['max'])\n",
    "print(type(code_names.loc[\"1\"]))\n",
    "code_names.loc[\"8\"]\n",
    "type(valid_name(\"7\"))\n",
    "valid_name(\"7\")\n",
    "\n",
    "#bank_df_normalised['official_name2'] = [code_names.loc[\"1\"]]\n",
    "bank_df_normalised['official_name2'] = bank_df_normalised['code']\n",
    "bank_df_normalised['official_name2'] = \"4 is four\"\n",
    "#bank_df_normalised['official_name'] = valid_name(bank_df_normalised[\"code\"])\n",
    "bank_df_normalised\n",
    "\n",
    "k = code_names.loc[\"1\"]\n",
    "type(k)\n",
    "type(bank_df_normalised['official_name2'])\n",
    "bank_df_normalised['official_name2'] = bank_df_normalised['code'].apply(valid_name, 3)\n",
    "k\n",
    "#bank_df_normalised['official_name2']\n",
    "bank_df_normalised[bank_df_normalised[\"code\"] == \"9\"]\n"
   ],
   "metadata": {
    "collapsed": false,
    "pycharm": {
     "name": "#%%\n"
    }
   }
  },
  {
   "cell_type": "code",
   "execution_count": 220,
   "outputs": [],
   "source": [],
   "metadata": {
    "collapsed": false,
    "pycharm": {
     "name": "#%%\n"
    }
   }
  },
  {
   "cell_type": "code",
   "execution_count": 220,
   "outputs": [],
   "source": [],
   "metadata": {
    "collapsed": false,
    "pycharm": {
     "name": "#%%\n"
    }
   }
  },
  {
   "cell_type": "markdown",
   "metadata": {},
   "source": [
    "****\n",
    "## JSON exercise\n",
    "\n",
    "Using data in file 'data/world_bank_projects.json' and the techniques demonstrated above,\n",
    "1. Find the 10 countries with most projects\n",
    "2. Find the top 10 major project themes (using column 'mjtheme_namecode')\n",
    "3. In 2. above you will notice that some entries have only the code and the name is missing. Create a dataframe with the missing names filled in."
   ]
  },
  {
   "cell_type": "markdown",
   "source": [
    "1. Find the 10 countries with most projects"
   ],
   "metadata": {
    "collapsed": false,
    "pycharm": {
     "name": "#%% md\n"
    }
   }
  },
  {
   "cell_type": "code",
   "execution_count": 221,
   "outputs": [
    {
     "data": {
      "text/plain": "countryname\nPeople's Republic of China         19\nRepublic of Indonesia              19\nSocialist Republic of Vietnam      17\nRepublic of India                  16\nRepublic of Yemen                  13\nPeople's Republic of Bangladesh    12\nNepal                              12\nKingdom of Morocco                 12\nRepublic of Mozambique             11\nAfrica                             11\nName: project_name, dtype: int64"
     },
     "execution_count": 221,
     "metadata": {},
     "output_type": "execute_result"
    }
   ],
   "source": [
    "top_10_countries_with_projects = bank_projects_json_df.groupby('countryname')['project_name'].agg('count').sort_values(ascending=False)[:10]\n",
    "#type(top_10_countries_with_projects) # Series\n",
    "#top_10_countries_with_projects.index # exists\n",
    "top_10_countries_with_projects"
   ],
   "metadata": {
    "collapsed": false,
    "pycharm": {
     "name": "#%%\n"
    }
   }
  },
  {
   "cell_type": "markdown",
   "source": [
    "2. Find the top 10 major project themes (using column 'mjtheme_namecode')"
   ],
   "metadata": {
    "collapsed": false
   }
  },
  {
   "cell_type": "code",
   "execution_count": 222,
   "outputs": [
    {
     "name": "stdout",
     "output_type": "stream",
     "text": [
      "Index(['code', 'name', 'countryname'], dtype='object')\n"
     ]
    },
    {
     "name": "stderr",
     "output_type": "stream",
     "text": [
      "/tmp/ipykernel_3159/1207042706.py:2: FutureWarning: pandas.io.json.json_normalize is deprecated, use pandas.json_normalize instead.\n",
      "  bank_df_normalised = json_normalize(bank_string, 'mjtheme_namecode',['countryname'])\n"
     ]
    },
    {
     "data": {
      "text/plain": "name\nEnvironment and natural resources management    223\nRural development                               202\nHuman development                               197\nPublic sector governance                        184\nSocial protection and risk management           158\nFinancial and private sector development        130\n                                                122\nSocial dev/gender/inclusion                     119\nTrade and integration                            72\nUrban development                                47\nName: countryname, dtype: int64"
     },
     "execution_count": 222,
     "metadata": {},
     "output_type": "execute_result"
    }
   ],
   "source": [
    "bank_string = json.load((open('data/world_bank_projects.json')))\n",
    "bank_df_normalised = json_normalize(bank_string, 'mjtheme_namecode',['countryname'])\n",
    "print(bank_df_normalised.columns)\n",
    "bank_df_normalised\n",
    "\n",
    "# Answer\n",
    "bank_df_normalised.groupby('name')['countryname'].agg('count').sort_values(ascending=False)[:10]"
   ],
   "metadata": {
    "collapsed": false,
    "pycharm": {
     "name": "#%%\n"
    }
   }
  },
  {
   "cell_type": "markdown",
   "source": [
    "3. In 2. above you will notice that some entries have only the code and the name is missing. Create a dataframe with the missing names filled in."
   ],
   "metadata": {
    "collapsed": false
   }
  },
  {
   "cell_type": "code",
   "execution_count": 223,
   "metadata": {
    "collapsed": true
   },
   "outputs": [
    {
     "data": {
      "text/plain": "     code                                          name  \\\n1      11  Environment and natural resources management   \n13      6         Social protection and risk management   \n17      8                             Human development   \n19      7                   Social dev/gender/inclusion   \n24      2                      Public sector governance   \n...   ...                                           ...   \n1457    4      Financial and private sector development   \n1477   11  Environment and natural resources management   \n1481    5                         Trade and integration   \n1483    8                             Human development   \n1491    6         Social protection and risk management   \n\n                                  countryname  \n1     Federal Democratic Republic of Ethiopia  \n13                          Republic of Kenya  \n17                 People's Republic of China  \n19                          Republic of India  \n24                    Republic of South Sudan  \n...                                       ...  \n1457                                 Mongolia  \n1477                       West Bank and Gaza  \n1481          People's Republic of Bangladesh  \n1483                                    Nepal  \n1491                       Republic of Guinea  \n\n[122 rows x 3 columns]",
      "text/html": "<div>\n<style scoped>\n    .dataframe tbody tr th:only-of-type {\n        vertical-align: middle;\n    }\n\n    .dataframe tbody tr th {\n        vertical-align: top;\n    }\n\n    .dataframe thead th {\n        text-align: right;\n    }\n</style>\n<table border=\"1\" class=\"dataframe\">\n  <thead>\n    <tr style=\"text-align: right;\">\n      <th></th>\n      <th>code</th>\n      <th>name</th>\n      <th>countryname</th>\n    </tr>\n  </thead>\n  <tbody>\n    <tr>\n      <th>1</th>\n      <td>11</td>\n      <td>Environment and natural resources management</td>\n      <td>Federal Democratic Republic of Ethiopia</td>\n    </tr>\n    <tr>\n      <th>13</th>\n      <td>6</td>\n      <td>Social protection and risk management</td>\n      <td>Republic of Kenya</td>\n    </tr>\n    <tr>\n      <th>17</th>\n      <td>8</td>\n      <td>Human development</td>\n      <td>People's Republic of China</td>\n    </tr>\n    <tr>\n      <th>19</th>\n      <td>7</td>\n      <td>Social dev/gender/inclusion</td>\n      <td>Republic of India</td>\n    </tr>\n    <tr>\n      <th>24</th>\n      <td>2</td>\n      <td>Public sector governance</td>\n      <td>Republic of South Sudan</td>\n    </tr>\n    <tr>\n      <th>...</th>\n      <td>...</td>\n      <td>...</td>\n      <td>...</td>\n    </tr>\n    <tr>\n      <th>1457</th>\n      <td>4</td>\n      <td>Financial and private sector development</td>\n      <td>Mongolia</td>\n    </tr>\n    <tr>\n      <th>1477</th>\n      <td>11</td>\n      <td>Environment and natural resources management</td>\n      <td>West Bank and Gaza</td>\n    </tr>\n    <tr>\n      <th>1481</th>\n      <td>5</td>\n      <td>Trade and integration</td>\n      <td>People's Republic of Bangladesh</td>\n    </tr>\n    <tr>\n      <th>1483</th>\n      <td>8</td>\n      <td>Human development</td>\n      <td>Nepal</td>\n    </tr>\n    <tr>\n      <th>1491</th>\n      <td>6</td>\n      <td>Social protection and risk management</td>\n      <td>Republic of Guinea</td>\n    </tr>\n  </tbody>\n</table>\n<p>122 rows × 3 columns</p>\n</div>"
     },
     "execution_count": 223,
     "metadata": {},
     "output_type": "execute_result"
    }
   ],
   "source": [
    "# don't actually use this filter, couldn't work out how to 'apply to a slice'\n",
    "# so the entire column ends up being updated, not just the blank entries.\n",
    "bank_projects_blank_filter = bank_df_normalised['name'] == \"\"\n",
    "\n",
    "def valid_name(code):\n",
    "    return code_names.loc[code]\n",
    "\n",
    "bank_df_normalised['name'] = bank_df_normalised['code'].apply(valid_name)\n",
    "\n",
    "bank_df_normalised[bank_projects_blank_filter]"
   ]
  },
  {
   "cell_type": "code",
   "execution_count": 223,
   "outputs": [],
   "source": [],
   "metadata": {
    "collapsed": false,
    "pycharm": {
     "name": "#%%\n"
    }
   }
  }
 ],
 "metadata": {
  "kernelspec": {
   "name": "python3",
   "language": "python",
   "display_name": "Python 3 (ipykernel)"
  },
  "language_info": {
   "codemirror_mode": {
    "name": "ipython",
    "version": 2
   },
   "file_extension": ".py",
   "mimetype": "text/x-python",
   "name": "python",
   "nbconvert_exporter": "python",
   "pygments_lexer": "ipython2",
   "version": "2.7.9"
  }
 },
 "nbformat": 4,
 "nbformat_minor": 0
}