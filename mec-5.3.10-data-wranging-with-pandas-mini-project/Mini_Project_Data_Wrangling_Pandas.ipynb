{
 "cells": [
  {
   "cell_type": "markdown",
   "metadata": {
    "pycharm": {
     "name": "#%% md\n"
    }
   },
   "source": [
    "# Mini-Project: Data Wrangling and Transformation with Pandas\n",
    "\n",
    "Working with tabular data is a necessity for anyone with enterprises having a majority of their data in relational databases and flat files. This mini-project is adopted from the excellent tutorial on pandas by Brandon Rhodes which you have watched earlier in the Data Wrangling Unit. In this mini-project, we will be looking at some interesting data based on movie data from the IMDB.\n",
    "\n",
    "This assignment should help you reinforce the concepts you learnt in the curriculum for Data Wrangling and sharpen your skills in using Pandas. Good Luck!"
   ]
  },
  {
   "cell_type": "markdown",
   "metadata": {
    "pycharm": {
     "name": "#%% md\n"
    }
   },
   "source": [
    "### Please make sure you have one of the more recent versions of Pandas"
   ]
  },
  {
   "cell_type": "code",
   "execution_count": 1,
   "metadata": {
    "pycharm": {
     "name": "#%%\n"
    }
   },
   "outputs": [],
   "source": [
    "import pandas as pd\n",
    "import matplotlib.pyplot as plt\n",
    "\n",
    "%matplotlib inline"
   ]
  },
  {
   "cell_type": "code",
   "execution_count": 2,
   "metadata": {
    "pycharm": {
     "name": "#%%\n"
    }
   },
   "outputs": [
    {
     "data": {
      "text/plain": "'1.3.5'"
     },
     "execution_count": 2,
     "metadata": {},
     "output_type": "execute_result"
    }
   ],
   "source": [
    "pd.__version__"
   ]
  },
  {
   "cell_type": "markdown",
   "metadata": {
    "pycharm": {
     "name": "#%% md\n"
    }
   },
   "source": [
    "## Taking a look at the Movies dataset\n",
    "This data shows the movies based on their title and the year of release"
   ]
  },
  {
   "cell_type": "code",
   "execution_count": 3,
   "metadata": {
    "pycharm": {
     "name": "#%%\n"
    }
   },
   "outputs": [
    {
     "name": "stdout",
     "output_type": "stream",
     "text": [
      "<class 'pandas.core.frame.DataFrame'>\n",
      "RangeIndex: 244914 entries, 0 to 244913\n",
      "Data columns (total 2 columns):\n",
      " #   Column  Non-Null Count   Dtype \n",
      "---  ------  --------------   ----- \n",
      " 0   title   244914 non-null  object\n",
      " 1   year    244914 non-null  int64 \n",
      "dtypes: int64(1), object(1)\n",
      "memory usage: 3.7+ MB\n"
     ]
    }
   ],
   "source": [
    "movies = pd.read_csv('titles.csv')\n",
    "movies.info()"
   ]
  },
  {
   "cell_type": "code",
   "execution_count": 4,
   "metadata": {
    "pycharm": {
     "name": "#%%\n"
    }
   },
   "outputs": [
    {
     "data": {
      "text/plain": "                                          title  year\n0                        The Ticket to the Life  2009\n1  Parallel Worlds: A New Rock Music Experience  2016\n2                     Morita - La hija de Jesus  2008\n3                                           Gun  2017\n4                        Love or Nothing at All  2014",
      "text/html": "<div>\n<style scoped>\n    .dataframe tbody tr th:only-of-type {\n        vertical-align: middle;\n    }\n\n    .dataframe tbody tr th {\n        vertical-align: top;\n    }\n\n    .dataframe thead th {\n        text-align: right;\n    }\n</style>\n<table border=\"1\" class=\"dataframe\">\n  <thead>\n    <tr style=\"text-align: right;\">\n      <th></th>\n      <th>title</th>\n      <th>year</th>\n    </tr>\n  </thead>\n  <tbody>\n    <tr>\n      <th>0</th>\n      <td>The Ticket to the Life</td>\n      <td>2009</td>\n    </tr>\n    <tr>\n      <th>1</th>\n      <td>Parallel Worlds: A New Rock Music Experience</td>\n      <td>2016</td>\n    </tr>\n    <tr>\n      <th>2</th>\n      <td>Morita - La hija de Jesus</td>\n      <td>2008</td>\n    </tr>\n    <tr>\n      <th>3</th>\n      <td>Gun</td>\n      <td>2017</td>\n    </tr>\n    <tr>\n      <th>4</th>\n      <td>Love or Nothing at All</td>\n      <td>2014</td>\n    </tr>\n  </tbody>\n</table>\n</div>"
     },
     "execution_count": 4,
     "metadata": {},
     "output_type": "execute_result"
    }
   ],
   "source": [
    "movies.head()"
   ]
  },
  {
   "cell_type": "markdown",
   "metadata": {
    "pycharm": {
     "name": "#%% md\n"
    }
   },
   "source": [
    "## Taking a look at the Cast dataset\n",
    "\n",
    "This data shows the cast (actors, actresses, supporting roles) for each movie\n",
    "\n",
    "- The attribute `n` basically tells the importance of the cast role, lower the number, more important the role.\n",
    "- Supporting cast usually don't have any value for `n`"
   ]
  },
  {
   "cell_type": "code",
   "execution_count": 5,
   "metadata": {
    "pycharm": {
     "name": "#%%\n"
    }
   },
   "outputs": [
    {
     "name": "stdout",
     "output_type": "stream",
     "text": [
      "<class 'pandas.core.frame.DataFrame'>\n",
      "RangeIndex: 3786176 entries, 0 to 3786175\n",
      "Data columns (total 6 columns):\n",
      " #   Column     Dtype  \n",
      "---  ------     -----  \n",
      " 0   title      object \n",
      " 1   year       int64  \n",
      " 2   name       object \n",
      " 3   type       object \n",
      " 4   character  object \n",
      " 5   n          float64\n",
      "dtypes: float64(1), int64(1), object(4)\n",
      "memory usage: 173.3+ MB\n"
     ]
    }
   ],
   "source": [
    "cast = pd.read_csv('cast.csv.zip')\n",
    "cast.info()"
   ]
  },
  {
   "cell_type": "code",
   "execution_count": 6,
   "metadata": {
    "pycharm": {
     "name": "#%%\n"
    }
   },
   "outputs": [
    {
     "data": {
      "text/plain": "                                               title  year  \\\n0                                     Closet Monster  2015   \n1                                    Suuri illusioni  1985   \n2                                Battle of the Sexes  2017   \n3                               Secret in Their Eyes  2015   \n4                                         Steve Jobs  2015   \n5                             Straight Outta Compton  2015   \n6                             Straight Outta Compton  2015   \n7                                     For Thy Love 2  2009   \n8  Lapis, Ballpen at Diploma, a True to Life Journey  2014   \n9                                       Desire (III)  2014   \n\n                        name   type                               character  \\\n0                   Buffy #1  actor                                 Buffy 4   \n1                     Homo $  actor                                  Guests   \n2                    $hutter  actor                         Bobby Riggs Fan   \n3                    $hutter  actor                         2002 Dodger Fan   \n4                    $hutter  actor                 1988 Opera House Patron   \n5                    $hutter  actor                             Club Patron   \n6                    $hutter  actor                                 Dopeman   \n7               Bee Moe $lim  actor                                  Thug 1   \n8  Jori ' Danilo' Jurado Jr.  actor                           Jaime (young)   \n9           Syaiful 'Ariffin  actor  Actor Playing Eteocles from 'Antigone'   \n\n      n  \n0  31.0  \n1  22.0  \n2  10.0  \n3   NaN  \n4   NaN  \n5   NaN  \n6   NaN  \n7   NaN  \n8   9.0  \n9   NaN  ",
      "text/html": "<div>\n<style scoped>\n    .dataframe tbody tr th:only-of-type {\n        vertical-align: middle;\n    }\n\n    .dataframe tbody tr th {\n        vertical-align: top;\n    }\n\n    .dataframe thead th {\n        text-align: right;\n    }\n</style>\n<table border=\"1\" class=\"dataframe\">\n  <thead>\n    <tr style=\"text-align: right;\">\n      <th></th>\n      <th>title</th>\n      <th>year</th>\n      <th>name</th>\n      <th>type</th>\n      <th>character</th>\n      <th>n</th>\n    </tr>\n  </thead>\n  <tbody>\n    <tr>\n      <th>0</th>\n      <td>Closet Monster</td>\n      <td>2015</td>\n      <td>Buffy #1</td>\n      <td>actor</td>\n      <td>Buffy 4</td>\n      <td>31.0</td>\n    </tr>\n    <tr>\n      <th>1</th>\n      <td>Suuri illusioni</td>\n      <td>1985</td>\n      <td>Homo $</td>\n      <td>actor</td>\n      <td>Guests</td>\n      <td>22.0</td>\n    </tr>\n    <tr>\n      <th>2</th>\n      <td>Battle of the Sexes</td>\n      <td>2017</td>\n      <td>$hutter</td>\n      <td>actor</td>\n      <td>Bobby Riggs Fan</td>\n      <td>10.0</td>\n    </tr>\n    <tr>\n      <th>3</th>\n      <td>Secret in Their Eyes</td>\n      <td>2015</td>\n      <td>$hutter</td>\n      <td>actor</td>\n      <td>2002 Dodger Fan</td>\n      <td>NaN</td>\n    </tr>\n    <tr>\n      <th>4</th>\n      <td>Steve Jobs</td>\n      <td>2015</td>\n      <td>$hutter</td>\n      <td>actor</td>\n      <td>1988 Opera House Patron</td>\n      <td>NaN</td>\n    </tr>\n    <tr>\n      <th>5</th>\n      <td>Straight Outta Compton</td>\n      <td>2015</td>\n      <td>$hutter</td>\n      <td>actor</td>\n      <td>Club Patron</td>\n      <td>NaN</td>\n    </tr>\n    <tr>\n      <th>6</th>\n      <td>Straight Outta Compton</td>\n      <td>2015</td>\n      <td>$hutter</td>\n      <td>actor</td>\n      <td>Dopeman</td>\n      <td>NaN</td>\n    </tr>\n    <tr>\n      <th>7</th>\n      <td>For Thy Love 2</td>\n      <td>2009</td>\n      <td>Bee Moe $lim</td>\n      <td>actor</td>\n      <td>Thug 1</td>\n      <td>NaN</td>\n    </tr>\n    <tr>\n      <th>8</th>\n      <td>Lapis, Ballpen at Diploma, a True to Life Journey</td>\n      <td>2014</td>\n      <td>Jori ' Danilo' Jurado Jr.</td>\n      <td>actor</td>\n      <td>Jaime (young)</td>\n      <td>9.0</td>\n    </tr>\n    <tr>\n      <th>9</th>\n      <td>Desire (III)</td>\n      <td>2014</td>\n      <td>Syaiful 'Ariffin</td>\n      <td>actor</td>\n      <td>Actor Playing Eteocles from 'Antigone'</td>\n      <td>NaN</td>\n    </tr>\n  </tbody>\n</table>\n</div>"
     },
     "execution_count": 6,
     "metadata": {},
     "output_type": "execute_result"
    }
   ],
   "source": [
    "cast.head(10)"
   ]
  },
  {
   "cell_type": "markdown",
   "metadata": {
    "pycharm": {
     "name": "#%% md\n"
    }
   },
   "source": [
    "## Taking a look at the Release dataset\n",
    "\n",
    "This data shows details of when each movie was release in each country with the release date"
   ]
  },
  {
   "cell_type": "code",
   "execution_count": 7,
   "metadata": {
    "pycharm": {
     "name": "#%%\n"
    }
   },
   "outputs": [
    {
     "name": "stdout",
     "output_type": "stream",
     "text": [
      "<class 'pandas.core.frame.DataFrame'>\n",
      "RangeIndex: 479488 entries, 0 to 479487\n",
      "Data columns (total 4 columns):\n",
      " #   Column   Non-Null Count   Dtype         \n",
      "---  ------   --------------   -----         \n",
      " 0   title    479488 non-null  object        \n",
      " 1   year     479488 non-null  int64         \n",
      " 2   country  479488 non-null  object        \n",
      " 3   date     479488 non-null  datetime64[ns]\n",
      "dtypes: datetime64[ns](1), int64(1), object(2)\n",
      "memory usage: 14.6+ MB\n"
     ]
    }
   ],
   "source": [
    "release_dates = pd.read_csv('release_dates.csv', parse_dates=['date'], infer_datetime_format=True)\n",
    "release_dates.info()"
   ]
  },
  {
   "cell_type": "code",
   "execution_count": 8,
   "metadata": {
    "pycharm": {
     "name": "#%%\n"
    }
   },
   "outputs": [
    {
     "data": {
      "text/plain": "                    title  year      country       date\n0   #73, Shaanthi Nivaasa  2007        India 2007-06-15\n1                   #BKKY  2016     Cambodia 2017-10-12\n2                 #Beings  2015      Romania 2015-01-29\n3               #Captured  2017          USA 2017-09-05\n4  #Ewankosau saranghaeyo  2015  Philippines 2015-01-21",
      "text/html": "<div>\n<style scoped>\n    .dataframe tbody tr th:only-of-type {\n        vertical-align: middle;\n    }\n\n    .dataframe tbody tr th {\n        vertical-align: top;\n    }\n\n    .dataframe thead th {\n        text-align: right;\n    }\n</style>\n<table border=\"1\" class=\"dataframe\">\n  <thead>\n    <tr style=\"text-align: right;\">\n      <th></th>\n      <th>title</th>\n      <th>year</th>\n      <th>country</th>\n      <th>date</th>\n    </tr>\n  </thead>\n  <tbody>\n    <tr>\n      <th>0</th>\n      <td>#73, Shaanthi Nivaasa</td>\n      <td>2007</td>\n      <td>India</td>\n      <td>2007-06-15</td>\n    </tr>\n    <tr>\n      <th>1</th>\n      <td>#BKKY</td>\n      <td>2016</td>\n      <td>Cambodia</td>\n      <td>2017-10-12</td>\n    </tr>\n    <tr>\n      <th>2</th>\n      <td>#Beings</td>\n      <td>2015</td>\n      <td>Romania</td>\n      <td>2015-01-29</td>\n    </tr>\n    <tr>\n      <th>3</th>\n      <td>#Captured</td>\n      <td>2017</td>\n      <td>USA</td>\n      <td>2017-09-05</td>\n    </tr>\n    <tr>\n      <th>4</th>\n      <td>#Ewankosau saranghaeyo</td>\n      <td>2015</td>\n      <td>Philippines</td>\n      <td>2015-01-21</td>\n    </tr>\n  </tbody>\n</table>\n</div>"
     },
     "execution_count": 8,
     "metadata": {},
     "output_type": "execute_result"
    }
   ],
   "source": [
    "release_dates.head()\n",
    "#movies.head()"
   ]
  },
  {
   "cell_type": "markdown",
   "metadata": {
    "pycharm": {
     "name": "#%% md\n"
    }
   },
   "source": [
    "# Section I - Basic Querying, Filtering and Transformations"
   ]
  },
  {
   "cell_type": "markdown",
   "metadata": {
    "pycharm": {
     "name": "#%% md\n"
    }
   },
   "source": [
    "### What is the total number of movies?"
   ]
  },
  {
   "cell_type": "code",
   "execution_count": 9,
   "metadata": {
    "pycharm": {
     "name": "#%%\n"
    }
   },
   "outputs": [
    {
     "data": {
      "text/plain": "244914"
     },
     "execution_count": 9,
     "metadata": {},
     "output_type": "execute_result"
    }
   ],
   "source": [
    "len(movies)"
   ]
  },
  {
   "cell_type": "markdown",
   "metadata": {
    "pycharm": {
     "name": "#%% md\n"
    }
   },
   "source": [
    "### List all Batman movies ever made"
   ]
  },
  {
   "cell_type": "code",
   "execution_count": 10,
   "metadata": {
    "pycharm": {
     "name": "#%%\n"
    }
   },
   "outputs": [
    {
     "name": "stdout",
     "output_type": "stream",
     "text": [
      "Total Batman Movies: 2\n"
     ]
    },
    {
     "data": {
      "text/plain": "         title  year\n52734   Batman  1943\n150621  Batman  1989",
      "text/html": "<div>\n<style scoped>\n    .dataframe tbody tr th:only-of-type {\n        vertical-align: middle;\n    }\n\n    .dataframe tbody tr th {\n        vertical-align: top;\n    }\n\n    .dataframe thead th {\n        text-align: right;\n    }\n</style>\n<table border=\"1\" class=\"dataframe\">\n  <thead>\n    <tr style=\"text-align: right;\">\n      <th></th>\n      <th>title</th>\n      <th>year</th>\n    </tr>\n  </thead>\n  <tbody>\n    <tr>\n      <th>52734</th>\n      <td>Batman</td>\n      <td>1943</td>\n    </tr>\n    <tr>\n      <th>150621</th>\n      <td>Batman</td>\n      <td>1989</td>\n    </tr>\n  </tbody>\n</table>\n</div>"
     },
     "execution_count": 10,
     "metadata": {},
     "output_type": "execute_result"
    }
   ],
   "source": [
    "batman_df = movies[movies.title == 'Batman']\n",
    "print('Total Batman Movies:', len(batman_df))\n",
    "batman_df"
   ]
  },
  {
   "cell_type": "markdown",
   "metadata": {
    "pycharm": {
     "name": "#%% md\n"
    }
   },
   "source": [
    "### List all Batman movies ever made - the right approach"
   ]
  },
  {
   "cell_type": "code",
   "execution_count": 11,
   "metadata": {
    "pycharm": {
     "name": "#%%\n"
    }
   },
   "outputs": [
    {
     "name": "stdout",
     "output_type": "stream",
     "text": [
      "Total Batman Movies: 35\n"
     ]
    },
    {
     "data": {
      "text/plain": "                                             title  year\n16813                              Batman: Anarchy  2016\n30236                               Batman Forever  1995\n31674                                Batman Untold  2010\n31711  Scooby-Doo & Batman: the Brave and the Bold  2018\n41881                  Batman the Rise of Red Hood  2018\n43484        Batman: Return of the Caped Crusaders  2016\n46333                               Batman & Robin  1997\n51811                              Batman Revealed  2012\n52734                                       Batman  1943\n56029                 Batman Beyond: Rising Knight  2014",
      "text/html": "<div>\n<style scoped>\n    .dataframe tbody tr th:only-of-type {\n        vertical-align: middle;\n    }\n\n    .dataframe tbody tr th {\n        vertical-align: top;\n    }\n\n    .dataframe thead th {\n        text-align: right;\n    }\n</style>\n<table border=\"1\" class=\"dataframe\">\n  <thead>\n    <tr style=\"text-align: right;\">\n      <th></th>\n      <th>title</th>\n      <th>year</th>\n    </tr>\n  </thead>\n  <tbody>\n    <tr>\n      <th>16813</th>\n      <td>Batman: Anarchy</td>\n      <td>2016</td>\n    </tr>\n    <tr>\n      <th>30236</th>\n      <td>Batman Forever</td>\n      <td>1995</td>\n    </tr>\n    <tr>\n      <th>31674</th>\n      <td>Batman Untold</td>\n      <td>2010</td>\n    </tr>\n    <tr>\n      <th>31711</th>\n      <td>Scooby-Doo &amp; Batman: the Brave and the Bold</td>\n      <td>2018</td>\n    </tr>\n    <tr>\n      <th>41881</th>\n      <td>Batman the Rise of Red Hood</td>\n      <td>2018</td>\n    </tr>\n    <tr>\n      <th>43484</th>\n      <td>Batman: Return of the Caped Crusaders</td>\n      <td>2016</td>\n    </tr>\n    <tr>\n      <th>46333</th>\n      <td>Batman &amp; Robin</td>\n      <td>1997</td>\n    </tr>\n    <tr>\n      <th>51811</th>\n      <td>Batman Revealed</td>\n      <td>2012</td>\n    </tr>\n    <tr>\n      <th>52734</th>\n      <td>Batman</td>\n      <td>1943</td>\n    </tr>\n    <tr>\n      <th>56029</th>\n      <td>Batman Beyond: Rising Knight</td>\n      <td>2014</td>\n    </tr>\n  </tbody>\n</table>\n</div>"
     },
     "execution_count": 11,
     "metadata": {},
     "output_type": "execute_result"
    }
   ],
   "source": [
    "batman_df = movies[movies.title.str.contains('Batman', case=False)]\n",
    "print('Total Batman Movies:', len(batman_df))\n",
    "batman_df.head(10)"
   ]
  },
  {
   "cell_type": "markdown",
   "metadata": {
    "pycharm": {
     "name": "#%% md\n"
    }
   },
   "source": [
    "### Display the top 15 Batman movies in the order they were released"
   ]
  },
  {
   "cell_type": "code",
   "execution_count": 12,
   "metadata": {
    "pycharm": {
     "name": "#%%\n"
    }
   },
   "outputs": [
    {
     "data": {
      "text/plain": "                               title  year\n52734                         Batman  1943\n100056              Batman and Robin  1949\n161439                Batman Dracula  1964\n84327          Alyas Batman at Robin  1965\n68364                   James Batman  1966\n161527             Batman: The Movie  1966\n56159          Batman Fights Dracula  1967\n168504         Fight! Batman, Fight!  1973\n150621                        Batman  1989\n156239         Alyas Batman en Robin  1991\n156755                Batman Returns  1992\n63366   Batman: Mask of the Phantasm  1993\n30236                 Batman Forever  1995\n46333                 Batman & Robin  1997\n208220                 Batman Begins  2005",
      "text/html": "<div>\n<style scoped>\n    .dataframe tbody tr th:only-of-type {\n        vertical-align: middle;\n    }\n\n    .dataframe tbody tr th {\n        vertical-align: top;\n    }\n\n    .dataframe thead th {\n        text-align: right;\n    }\n</style>\n<table border=\"1\" class=\"dataframe\">\n  <thead>\n    <tr style=\"text-align: right;\">\n      <th></th>\n      <th>title</th>\n      <th>year</th>\n    </tr>\n  </thead>\n  <tbody>\n    <tr>\n      <th>52734</th>\n      <td>Batman</td>\n      <td>1943</td>\n    </tr>\n    <tr>\n      <th>100056</th>\n      <td>Batman and Robin</td>\n      <td>1949</td>\n    </tr>\n    <tr>\n      <th>161439</th>\n      <td>Batman Dracula</td>\n      <td>1964</td>\n    </tr>\n    <tr>\n      <th>84327</th>\n      <td>Alyas Batman at Robin</td>\n      <td>1965</td>\n    </tr>\n    <tr>\n      <th>68364</th>\n      <td>James Batman</td>\n      <td>1966</td>\n    </tr>\n    <tr>\n      <th>161527</th>\n      <td>Batman: The Movie</td>\n      <td>1966</td>\n    </tr>\n    <tr>\n      <th>56159</th>\n      <td>Batman Fights Dracula</td>\n      <td>1967</td>\n    </tr>\n    <tr>\n      <th>168504</th>\n      <td>Fight! Batman, Fight!</td>\n      <td>1973</td>\n    </tr>\n    <tr>\n      <th>150621</th>\n      <td>Batman</td>\n      <td>1989</td>\n    </tr>\n    <tr>\n      <th>156239</th>\n      <td>Alyas Batman en Robin</td>\n      <td>1991</td>\n    </tr>\n    <tr>\n      <th>156755</th>\n      <td>Batman Returns</td>\n      <td>1992</td>\n    </tr>\n    <tr>\n      <th>63366</th>\n      <td>Batman: Mask of the Phantasm</td>\n      <td>1993</td>\n    </tr>\n    <tr>\n      <th>30236</th>\n      <td>Batman Forever</td>\n      <td>1995</td>\n    </tr>\n    <tr>\n      <th>46333</th>\n      <td>Batman &amp; Robin</td>\n      <td>1997</td>\n    </tr>\n    <tr>\n      <th>208220</th>\n      <td>Batman Begins</td>\n      <td>2005</td>\n    </tr>\n  </tbody>\n</table>\n</div>"
     },
     "execution_count": 12,
     "metadata": {},
     "output_type": "execute_result"
    }
   ],
   "source": [
    "batman_df.sort_values(by=['year'], ascending=True).iloc[:15]"
   ]
  },
  {
   "cell_type": "markdown",
   "metadata": {
    "pycharm": {
     "name": "#%% md\n"
    }
   },
   "source": [
    "### Section I - Q1 : List all the 'Harry Potter' movies from the most recent to the earliest"
   ]
  },
  {
   "cell_type": "code",
   "execution_count": 13,
   "metadata": {
    "pycharm": {
     "name": "#%%\n"
    }
   },
   "outputs": [
    {
     "data": {
      "text/plain": "                                               title  year\n143147  Harry Potter and the Deathly Hallows: Part 2  2011\n152831  Harry Potter and the Deathly Hallows: Part 1  2010\n109213        Harry Potter and the Half-Blood Prince  2009\n50581      Harry Potter and the Order of the Phoenix  2007\n187926           Harry Potter and the Goblet of Fire  2005\n61957       Harry Potter and the Prisoner of Azkaban  2004\n82791        Harry Potter and the Chamber of Secrets  2002\n223087         Harry Potter and the Sorcerer's Stone  2001",
      "text/html": "<div>\n<style scoped>\n    .dataframe tbody tr th:only-of-type {\n        vertical-align: middle;\n    }\n\n    .dataframe tbody tr th {\n        vertical-align: top;\n    }\n\n    .dataframe thead th {\n        text-align: right;\n    }\n</style>\n<table border=\"1\" class=\"dataframe\">\n  <thead>\n    <tr style=\"text-align: right;\">\n      <th></th>\n      <th>title</th>\n      <th>year</th>\n    </tr>\n  </thead>\n  <tbody>\n    <tr>\n      <th>143147</th>\n      <td>Harry Potter and the Deathly Hallows: Part 2</td>\n      <td>2011</td>\n    </tr>\n    <tr>\n      <th>152831</th>\n      <td>Harry Potter and the Deathly Hallows: Part 1</td>\n      <td>2010</td>\n    </tr>\n    <tr>\n      <th>109213</th>\n      <td>Harry Potter and the Half-Blood Prince</td>\n      <td>2009</td>\n    </tr>\n    <tr>\n      <th>50581</th>\n      <td>Harry Potter and the Order of the Phoenix</td>\n      <td>2007</td>\n    </tr>\n    <tr>\n      <th>187926</th>\n      <td>Harry Potter and the Goblet of Fire</td>\n      <td>2005</td>\n    </tr>\n    <tr>\n      <th>61957</th>\n      <td>Harry Potter and the Prisoner of Azkaban</td>\n      <td>2004</td>\n    </tr>\n    <tr>\n      <th>82791</th>\n      <td>Harry Potter and the Chamber of Secrets</td>\n      <td>2002</td>\n    </tr>\n    <tr>\n      <th>223087</th>\n      <td>Harry Potter and the Sorcerer's Stone</td>\n      <td>2001</td>\n    </tr>\n  </tbody>\n</table>\n</div>"
     },
     "execution_count": 13,
     "metadata": {},
     "output_type": "execute_result"
    }
   ],
   "source": [
    "movies[movies[\"title\"].str.contains('Harry Potter', case=False)].sort_values(by=['year'], ascending=False)"
   ]
  },
  {
   "cell_type": "markdown",
   "metadata": {
    "pycharm": {
     "name": "#%% md\n"
    }
   },
   "source": [
    "### How many movies were made in the year 2017?"
   ]
  },
  {
   "cell_type": "code",
   "execution_count": 14,
   "metadata": {
    "pycharm": {
     "name": "#%%\n"
    }
   },
   "outputs": [
    {
     "data": {
      "text/plain": "11474"
     },
     "execution_count": 14,
     "metadata": {},
     "output_type": "execute_result"
    }
   ],
   "source": [
    "len(movies[movies.year == 2017])"
   ]
  },
  {
   "cell_type": "markdown",
   "metadata": {
    "pycharm": {
     "name": "#%% md\n"
    }
   },
   "source": [
    "### Section I - Q2 : How many movies were made in the year 2015?"
   ]
  },
  {
   "cell_type": "code",
   "execution_count": 15,
   "metadata": {
    "pycharm": {
     "name": "#%%\n"
    }
   },
   "outputs": [
    {
     "data": {
      "text/plain": "8702"
     },
     "execution_count": 15,
     "metadata": {},
     "output_type": "execute_result"
    }
   ],
   "source": [
    "len(movies[movies[\"year\"]==2015])"
   ]
  },
  {
   "cell_type": "markdown",
   "metadata": {
    "pycharm": {
     "name": "#%% md\n"
    }
   },
   "source": [
    "### Section I - Q3 : How many movies were made from 2000 till 2018?\n",
    "- You can chain multiple conditions using OR (`|`) as well as AND (`&`) depending on the condition"
   ]
  },
  {
   "cell_type": "code",
   "execution_count": 16,
   "metadata": {
    "pycharm": {
     "name": "#%%\n"
    }
   },
   "outputs": [
    {
     "data": {
      "text/plain": "114070"
     },
     "execution_count": 16,
     "metadata": {},
     "output_type": "execute_result"
    }
   ],
   "source": [
    "filter_2K = (movies[\"year\"]>=2000) & (movies[\"year\"] <= 2018)\n",
    "len(movies[filter_2K])"
   ]
  },
  {
   "cell_type": "markdown",
   "metadata": {
    "pycharm": {
     "name": "#%% md\n"
    }
   },
   "source": [
    "### Section I - Q4: How many movies are titled \"Hamlet\"?"
   ]
  },
  {
   "cell_type": "code",
   "execution_count": 17,
   "metadata": {
    "pycharm": {
     "name": "#%%\n"
    }
   },
   "outputs": [
    {
     "name": "stdout",
     "output_type": "stream",
     "text": [
      "20\n"
     ]
    }
   ],
   "source": [
    "movies.head\n",
    "\n",
    "# Question says 'titled Hamlet' not 'contains Hamlet, so this won't work.\n",
    "# print(movies[movies[\"title\"].str.contains(\"Hamlet\")])\n",
    "# Use == against the dataframe column\n",
    "\n",
    "\n",
    "print(len(movies[movies[\"title\"] == \"Hamlet\"]))"
   ]
  },
  {
   "cell_type": "markdown",
   "metadata": {
    "pycharm": {
     "name": "#%% md\n"
    }
   },
   "source": [
    "### Section I - Q5: List all movies titled \"Hamlet\" \n",
    "- The movies should only have been released on or after the year 2000\n",
    "- Display the movies based on the year they were released (earliest to most recent)"
   ]
  },
  {
   "cell_type": "code",
   "execution_count": 18,
   "metadata": {
    "pycharm": {
     "name": "#%%\n"
    }
   },
   "outputs": [
    {
     "data": {
      "text/plain": "         title  year\n55639   Hamlet  2000\n1931    Hamlet  2009\n227953  Hamlet  2011\n178290  Hamlet  2014\n186137  Hamlet  2015\n191940  Hamlet  2016\n244747  Hamlet  2017",
      "text/html": "<div>\n<style scoped>\n    .dataframe tbody tr th:only-of-type {\n        vertical-align: middle;\n    }\n\n    .dataframe tbody tr th {\n        vertical-align: top;\n    }\n\n    .dataframe thead th {\n        text-align: right;\n    }\n</style>\n<table border=\"1\" class=\"dataframe\">\n  <thead>\n    <tr style=\"text-align: right;\">\n      <th></th>\n      <th>title</th>\n      <th>year</th>\n    </tr>\n  </thead>\n  <tbody>\n    <tr>\n      <th>55639</th>\n      <td>Hamlet</td>\n      <td>2000</td>\n    </tr>\n    <tr>\n      <th>1931</th>\n      <td>Hamlet</td>\n      <td>2009</td>\n    </tr>\n    <tr>\n      <th>227953</th>\n      <td>Hamlet</td>\n      <td>2011</td>\n    </tr>\n    <tr>\n      <th>178290</th>\n      <td>Hamlet</td>\n      <td>2014</td>\n    </tr>\n    <tr>\n      <th>186137</th>\n      <td>Hamlet</td>\n      <td>2015</td>\n    </tr>\n    <tr>\n      <th>191940</th>\n      <td>Hamlet</td>\n      <td>2016</td>\n    </tr>\n    <tr>\n      <th>244747</th>\n      <td>Hamlet</td>\n      <td>2017</td>\n    </tr>\n  </tbody>\n</table>\n</div>"
     },
     "execution_count": 18,
     "metadata": {},
     "output_type": "execute_result"
    }
   ],
   "source": [
    "# If you wanted it as a numpy array, you could do this\n",
    "# movies[(movies[\"title\"] == \"Hamlet\") & (movies[\"year\"] >= 2000)].sort_values(by=\"year\",ascending=True).values\n",
    "\n",
    "# To get a dataframe, use this one\n",
    "movies[(movies[\"title\"] == \"Hamlet\") & (movies[\"year\"] >= 2000)].sort_values(by=\"year\",ascending=True)"
   ]
  },
  {
   "cell_type": "markdown",
   "metadata": {
    "pycharm": {
     "name": "#%% md\n"
    }
   },
   "source": [
    "### Section I - Q6: How many roles in the movie \"Inception\" are of the supporting cast (extra credits)\n",
    "- supporting cast are NOT ranked by an \"n\" value (NaN)\n",
    "- check for how to filter based on nulls"
   ]
  },
  {
   "cell_type": "code",
   "execution_count": 19,
   "metadata": {
    "pycharm": {
     "name": "#%%\n"
    }
   },
   "outputs": [
    {
     "data": {
      "text/plain": "27"
     },
     "execution_count": 19,
     "metadata": {},
     "output_type": "execute_result"
    }
   ],
   "source": [
    "# This is wrong\n",
    "# cast[(cast[\"title\"] == \"Inception\")  & (cast[\"n\"] == \"NaN\")]\n",
    "\n",
    "# This one works. Supporting cast don't have a number for n. isna() is function for finding NaN entries\n",
    "\n",
    "supporting_inception = cast[(cast[\"title\"] == \"Inception\") & (cast[\"n\"].isna())]\n",
    "len(supporting_inception)"
   ]
  },
  {
   "cell_type": "markdown",
   "metadata": {
    "pycharm": {
     "name": "#%% md\n"
    }
   },
   "source": [
    "### Section I - Q7: How many roles in the movie \"Inception\" are of the main cast\n",
    "- main cast always have an 'n' value"
   ]
  },
  {
   "cell_type": "code",
   "execution_count": 20,
   "metadata": {
    "pycharm": {
     "name": "#%%\n"
    }
   },
   "outputs": [
    {
     "data": {
      "text/plain": "10"
     },
     "execution_count": 20,
     "metadata": {},
     "output_type": "execute_result"
    }
   ],
   "source": [
    "main_cast = cast[(cast[\"title\"] == \"Inception\") & (cast[\"n\"].isna() == False)].sort_values(by=\"n\", ascending=False)[:10]\n",
    "len(main_cast)"
   ]
  },
  {
   "cell_type": "markdown",
   "metadata": {
    "pycharm": {
     "name": "#%% md\n"
    }
   },
   "source": [
    "### Section I - Q8: Show the top ten cast (actors\\actresses) in the movie \"Inception\" \n",
    "- main cast always have an 'n' value\n",
    "- remember to sort!"
   ]
  },
  {
   "cell_type": "code",
   "execution_count": 21,
   "metadata": {
    "pycharm": {
     "name": "#%%\n"
    }
   },
   "outputs": [
    {
     "data": {
      "text/plain": "             title  year                  name     type        character     n\n590576   Inception  2010     Leonardo DiCaprio    actor             Cobb   1.0\n859993   Inception  2010  Joseph Gordon-Levitt    actor           Arthur   2.0\n3387147  Inception  2010            Ellen Page  actress          Ariadne   3.0\n940923   Inception  2010             Tom Hardy    actor            Eames   4.0\n2406531  Inception  2010          Ken Watanabe    actor            Saito   5.0\n1876301  Inception  2010            Dileep Rao    actor            Yusuf   6.0\n1615709  Inception  2010        Cillian Murphy    actor   Robert Fischer   7.0\n183937   Inception  2010          Tom Berenger    actor         Browning   8.0\n2765969  Inception  2010      Marion Cotillard  actress              Mal   9.0\n1826027  Inception  2010    Pete Postlethwaite    actor  Maurice Fischer  10.0",
      "text/html": "<div>\n<style scoped>\n    .dataframe tbody tr th:only-of-type {\n        vertical-align: middle;\n    }\n\n    .dataframe tbody tr th {\n        vertical-align: top;\n    }\n\n    .dataframe thead th {\n        text-align: right;\n    }\n</style>\n<table border=\"1\" class=\"dataframe\">\n  <thead>\n    <tr style=\"text-align: right;\">\n      <th></th>\n      <th>title</th>\n      <th>year</th>\n      <th>name</th>\n      <th>type</th>\n      <th>character</th>\n      <th>n</th>\n    </tr>\n  </thead>\n  <tbody>\n    <tr>\n      <th>590576</th>\n      <td>Inception</td>\n      <td>2010</td>\n      <td>Leonardo DiCaprio</td>\n      <td>actor</td>\n      <td>Cobb</td>\n      <td>1.0</td>\n    </tr>\n    <tr>\n      <th>859993</th>\n      <td>Inception</td>\n      <td>2010</td>\n      <td>Joseph Gordon-Levitt</td>\n      <td>actor</td>\n      <td>Arthur</td>\n      <td>2.0</td>\n    </tr>\n    <tr>\n      <th>3387147</th>\n      <td>Inception</td>\n      <td>2010</td>\n      <td>Ellen Page</td>\n      <td>actress</td>\n      <td>Ariadne</td>\n      <td>3.0</td>\n    </tr>\n    <tr>\n      <th>940923</th>\n      <td>Inception</td>\n      <td>2010</td>\n      <td>Tom Hardy</td>\n      <td>actor</td>\n      <td>Eames</td>\n      <td>4.0</td>\n    </tr>\n    <tr>\n      <th>2406531</th>\n      <td>Inception</td>\n      <td>2010</td>\n      <td>Ken Watanabe</td>\n      <td>actor</td>\n      <td>Saito</td>\n      <td>5.0</td>\n    </tr>\n    <tr>\n      <th>1876301</th>\n      <td>Inception</td>\n      <td>2010</td>\n      <td>Dileep Rao</td>\n      <td>actor</td>\n      <td>Yusuf</td>\n      <td>6.0</td>\n    </tr>\n    <tr>\n      <th>1615709</th>\n      <td>Inception</td>\n      <td>2010</td>\n      <td>Cillian Murphy</td>\n      <td>actor</td>\n      <td>Robert Fischer</td>\n      <td>7.0</td>\n    </tr>\n    <tr>\n      <th>183937</th>\n      <td>Inception</td>\n      <td>2010</td>\n      <td>Tom Berenger</td>\n      <td>actor</td>\n      <td>Browning</td>\n      <td>8.0</td>\n    </tr>\n    <tr>\n      <th>2765969</th>\n      <td>Inception</td>\n      <td>2010</td>\n      <td>Marion Cotillard</td>\n      <td>actress</td>\n      <td>Mal</td>\n      <td>9.0</td>\n    </tr>\n    <tr>\n      <th>1826027</th>\n      <td>Inception</td>\n      <td>2010</td>\n      <td>Pete Postlethwaite</td>\n      <td>actor</td>\n      <td>Maurice Fischer</td>\n      <td>10.0</td>\n    </tr>\n  </tbody>\n</table>\n</div>"
     },
     "execution_count": 21,
     "metadata": {},
     "output_type": "execute_result"
    }
   ],
   "source": [
    "# cast[(cast[\"title\"] == \"Inception\") & (cast[\"n\"].isna() == False)].sort_values(by=\"n\", ascending=False)[:10]\n",
    "# I think ascending in this case means most important to least important. Which I think must be descending n,\n",
    "#   otherwise Leanardo Di Caprio doesn't show up\n",
    "\n",
    "cast[(cast[\"title\"] == \"Inception\") & (cast[\"n\"].isna() == False)].sort_values(by=\"n\", ascending=True)[:10]"
   ]
  },
  {
   "cell_type": "markdown",
   "metadata": {
    "pycharm": {
     "name": "#%% md\n"
    }
   },
   "source": [
    "### Section I - Q9:\n",
    "\n",
    "(A) List all movies where there was a character 'Albus Dumbledore' \n",
    "\n",
    "(B) Now modify the above to show only the actors who played the character 'Albus Dumbledore'\n",
    "- For Part (B) remember the same actor might play the same role in multiple movies"
   ]
  },
  {
   "cell_type": "code",
   "execution_count": 22,
   "metadata": {
    "pycharm": {
     "name": "#%%\n"
    }
   },
   "outputs": [
    {
     "data": {
      "text/plain": "                                             title  year                 name  \\\n704984                                  Epic Movie  2007         Dane Farwell   \n792421         Harry Potter and the Goblet of Fire  2005       Michael Gambon   \n792423   Harry Potter and the Order of the Phoenix  2007       Michael Gambon   \n792424    Harry Potter and the Prisoner of Azkaban  2004       Michael Gambon   \n947789     Harry Potter and the Chamber of Secrets  2002       Richard Harris   \n947790       Harry Potter and the Sorcerer's Stone  2001       Richard Harris   \n1685537                      Ultimate Hero Project  2013  George (X) O'Connor   \n2248085                                     Potter  2015    Timothy Tedmanson   \n\n          type         character     n  \n704984   actor  Albus Dumbledore  17.0  \n792421   actor  Albus Dumbledore  37.0  \n792423   actor  Albus Dumbledore  36.0  \n792424   actor  Albus Dumbledore  27.0  \n947789   actor  Albus Dumbledore  32.0  \n947790   actor  Albus Dumbledore   1.0  \n1685537  actor  Albus Dumbledore   NaN  \n2248085  actor  Albus Dumbledore   NaN  ",
      "text/html": "<div>\n<style scoped>\n    .dataframe tbody tr th:only-of-type {\n        vertical-align: middle;\n    }\n\n    .dataframe tbody tr th {\n        vertical-align: top;\n    }\n\n    .dataframe thead th {\n        text-align: right;\n    }\n</style>\n<table border=\"1\" class=\"dataframe\">\n  <thead>\n    <tr style=\"text-align: right;\">\n      <th></th>\n      <th>title</th>\n      <th>year</th>\n      <th>name</th>\n      <th>type</th>\n      <th>character</th>\n      <th>n</th>\n    </tr>\n  </thead>\n  <tbody>\n    <tr>\n      <th>704984</th>\n      <td>Epic Movie</td>\n      <td>2007</td>\n      <td>Dane Farwell</td>\n      <td>actor</td>\n      <td>Albus Dumbledore</td>\n      <td>17.0</td>\n    </tr>\n    <tr>\n      <th>792421</th>\n      <td>Harry Potter and the Goblet of Fire</td>\n      <td>2005</td>\n      <td>Michael Gambon</td>\n      <td>actor</td>\n      <td>Albus Dumbledore</td>\n      <td>37.0</td>\n    </tr>\n    <tr>\n      <th>792423</th>\n      <td>Harry Potter and the Order of the Phoenix</td>\n      <td>2007</td>\n      <td>Michael Gambon</td>\n      <td>actor</td>\n      <td>Albus Dumbledore</td>\n      <td>36.0</td>\n    </tr>\n    <tr>\n      <th>792424</th>\n      <td>Harry Potter and the Prisoner of Azkaban</td>\n      <td>2004</td>\n      <td>Michael Gambon</td>\n      <td>actor</td>\n      <td>Albus Dumbledore</td>\n      <td>27.0</td>\n    </tr>\n    <tr>\n      <th>947789</th>\n      <td>Harry Potter and the Chamber of Secrets</td>\n      <td>2002</td>\n      <td>Richard Harris</td>\n      <td>actor</td>\n      <td>Albus Dumbledore</td>\n      <td>32.0</td>\n    </tr>\n    <tr>\n      <th>947790</th>\n      <td>Harry Potter and the Sorcerer's Stone</td>\n      <td>2001</td>\n      <td>Richard Harris</td>\n      <td>actor</td>\n      <td>Albus Dumbledore</td>\n      <td>1.0</td>\n    </tr>\n    <tr>\n      <th>1685537</th>\n      <td>Ultimate Hero Project</td>\n      <td>2013</td>\n      <td>George (X) O'Connor</td>\n      <td>actor</td>\n      <td>Albus Dumbledore</td>\n      <td>NaN</td>\n    </tr>\n    <tr>\n      <th>2248085</th>\n      <td>Potter</td>\n      <td>2015</td>\n      <td>Timothy Tedmanson</td>\n      <td>actor</td>\n      <td>Albus Dumbledore</td>\n      <td>NaN</td>\n    </tr>\n  </tbody>\n</table>\n</div>"
     },
     "execution_count": 22,
     "metadata": {},
     "output_type": "execute_result"
    }
   ],
   "source": [
    "#cast[\"character\"] == \"Albus Dumbledore\"\n",
    "# this one is the column mask, use it to filter\n",
    "\n",
    "# this one is the answer\n",
    "cast[cast[\"character\"] == \"Albus Dumbledore\"]"
   ]
  },
  {
   "cell_type": "code",
   "execution_count": 23,
   "metadata": {
    "pycharm": {
     "name": "#%%\n"
    }
   },
   "outputs": [
    {
     "data": {
      "text/plain": "array(['Dane Farwell', 'Michael Gambon', 'Richard Harris',\n       \"George (X) O'Connor\", 'Timothy Tedmanson'], dtype=object)"
     },
     "execution_count": 23,
     "metadata": {},
     "output_type": "execute_result"
    }
   ],
   "source": [
    "# for info\n",
    "# type(cast[\"name\"][cast[\"character\"] == \"Albus Dumbledore\"].unique())\n",
    "\n",
    "\n",
    "cast[\"name\"][cast[\"character\"] == \"Albus Dumbledore\"].unique()"
   ]
  },
  {
   "cell_type": "markdown",
   "metadata": {
    "pycharm": {
     "name": "#%% md\n"
    }
   },
   "source": [
    "### Section I - Q10:\n",
    "\n",
    "(A) How many roles has 'Keanu Reeves' played throughout his career?\n",
    "\n",
    "(B) List the leading roles that 'Keanu Reeves' played on or after 1999 in order by year."
   ]
  },
  {
   "cell_type": "code",
   "execution_count": 24,
   "metadata": {
    "pycharm": {
     "name": "#%%\n"
    }
   },
   "outputs": [
    {
     "data": {
      "text/plain": "56"
     },
     "execution_count": 24,
     "metadata": {},
     "output_type": "execute_result"
    }
   ],
   "source": [
    "# Assuming I should be listing distinct roles\n",
    "\n",
    "keanu_roles = cast[\"character\"][cast[\"name\"] == \"Keanu Reeves\"].unique()\n",
    "len(keanu_roles)"
   ]
  },
  {
   "cell_type": "code",
   "execution_count": 25,
   "metadata": {
    "pycharm": {
     "name": "#%%\n"
    }
   },
   "outputs": [
    {
     "data": {
      "text/plain": "                    character  year\n1892370               Himself  1999\n1892390                   Neo  1999\n1892369               Dogstar  1999\n1892397           Shane Falco  2000\n1892398               Griffin  2000\n1892387      Donnie Barksdale  2000\n1892358         Conor O'Neill  2001\n1892383           Nelson Moss  2001\n1892392                   Neo  2003\n1892391                   Neo  2003\n1892379         Julian Mercer  2003\n1892348      John Constantine  2005\n1892400           Perry Lyman  2005\n1892351               Dogstar  2005\n1892388            Alex Wyler  2006\n1892343            Bob Arctor  2006\n1892382  Detective Tom Ludlow  2008\n1892385                Klaatu  2008\n1892396          Chris Nadeau  2009\n1892359           Henry Torne  2010\n1892357                  John  2012\n1892342                   Kai  2013\n1892368           Donaka Mark  2013\n1892361             John Wick  2014\n1892366                  Evan  2015\n1892393                  Hank  2016\n1892353      Detective Galban  2016\n1892365                 Keanu  2016\n1892384             The Dream  2016\n1892399                Ramsey  2016\n1892381          Keanu Reeves  2017\n1892401           Dr. Beckham  2017\n1892362             John Wick  2017\n1892378            Lucas Hill  2018\n1892363             John Wick  2019",
      "text/html": "<div>\n<style scoped>\n    .dataframe tbody tr th:only-of-type {\n        vertical-align: middle;\n    }\n\n    .dataframe tbody tr th {\n        vertical-align: top;\n    }\n\n    .dataframe thead th {\n        text-align: right;\n    }\n</style>\n<table border=\"1\" class=\"dataframe\">\n  <thead>\n    <tr style=\"text-align: right;\">\n      <th></th>\n      <th>character</th>\n      <th>year</th>\n    </tr>\n  </thead>\n  <tbody>\n    <tr>\n      <th>1892370</th>\n      <td>Himself</td>\n      <td>1999</td>\n    </tr>\n    <tr>\n      <th>1892390</th>\n      <td>Neo</td>\n      <td>1999</td>\n    </tr>\n    <tr>\n      <th>1892369</th>\n      <td>Dogstar</td>\n      <td>1999</td>\n    </tr>\n    <tr>\n      <th>1892397</th>\n      <td>Shane Falco</td>\n      <td>2000</td>\n    </tr>\n    <tr>\n      <th>1892398</th>\n      <td>Griffin</td>\n      <td>2000</td>\n    </tr>\n    <tr>\n      <th>1892387</th>\n      <td>Donnie Barksdale</td>\n      <td>2000</td>\n    </tr>\n    <tr>\n      <th>1892358</th>\n      <td>Conor O'Neill</td>\n      <td>2001</td>\n    </tr>\n    <tr>\n      <th>1892383</th>\n      <td>Nelson Moss</td>\n      <td>2001</td>\n    </tr>\n    <tr>\n      <th>1892392</th>\n      <td>Neo</td>\n      <td>2003</td>\n    </tr>\n    <tr>\n      <th>1892391</th>\n      <td>Neo</td>\n      <td>2003</td>\n    </tr>\n    <tr>\n      <th>1892379</th>\n      <td>Julian Mercer</td>\n      <td>2003</td>\n    </tr>\n    <tr>\n      <th>1892348</th>\n      <td>John Constantine</td>\n      <td>2005</td>\n    </tr>\n    <tr>\n      <th>1892400</th>\n      <td>Perry Lyman</td>\n      <td>2005</td>\n    </tr>\n    <tr>\n      <th>1892351</th>\n      <td>Dogstar</td>\n      <td>2005</td>\n    </tr>\n    <tr>\n      <th>1892388</th>\n      <td>Alex Wyler</td>\n      <td>2006</td>\n    </tr>\n    <tr>\n      <th>1892343</th>\n      <td>Bob Arctor</td>\n      <td>2006</td>\n    </tr>\n    <tr>\n      <th>1892382</th>\n      <td>Detective Tom Ludlow</td>\n      <td>2008</td>\n    </tr>\n    <tr>\n      <th>1892385</th>\n      <td>Klaatu</td>\n      <td>2008</td>\n    </tr>\n    <tr>\n      <th>1892396</th>\n      <td>Chris Nadeau</td>\n      <td>2009</td>\n    </tr>\n    <tr>\n      <th>1892359</th>\n      <td>Henry Torne</td>\n      <td>2010</td>\n    </tr>\n    <tr>\n      <th>1892357</th>\n      <td>John</td>\n      <td>2012</td>\n    </tr>\n    <tr>\n      <th>1892342</th>\n      <td>Kai</td>\n      <td>2013</td>\n    </tr>\n    <tr>\n      <th>1892368</th>\n      <td>Donaka Mark</td>\n      <td>2013</td>\n    </tr>\n    <tr>\n      <th>1892361</th>\n      <td>John Wick</td>\n      <td>2014</td>\n    </tr>\n    <tr>\n      <th>1892366</th>\n      <td>Evan</td>\n      <td>2015</td>\n    </tr>\n    <tr>\n      <th>1892393</th>\n      <td>Hank</td>\n      <td>2016</td>\n    </tr>\n    <tr>\n      <th>1892353</th>\n      <td>Detective Galban</td>\n      <td>2016</td>\n    </tr>\n    <tr>\n      <th>1892365</th>\n      <td>Keanu</td>\n      <td>2016</td>\n    </tr>\n    <tr>\n      <th>1892384</th>\n      <td>The Dream</td>\n      <td>2016</td>\n    </tr>\n    <tr>\n      <th>1892399</th>\n      <td>Ramsey</td>\n      <td>2016</td>\n    </tr>\n    <tr>\n      <th>1892381</th>\n      <td>Keanu Reeves</td>\n      <td>2017</td>\n    </tr>\n    <tr>\n      <th>1892401</th>\n      <td>Dr. Beckham</td>\n      <td>2017</td>\n    </tr>\n    <tr>\n      <th>1892362</th>\n      <td>John Wick</td>\n      <td>2017</td>\n    </tr>\n    <tr>\n      <th>1892378</th>\n      <td>Lucas Hill</td>\n      <td>2018</td>\n    </tr>\n    <tr>\n      <th>1892363</th>\n      <td>John Wick</td>\n      <td>2019</td>\n    </tr>\n  </tbody>\n</table>\n</div>"
     },
     "execution_count": 25,
     "metadata": {},
     "output_type": "execute_result"
    }
   ],
   "source": [
    "keanu_by_year = cast[(cast[\"name\"] == \"Keanu Reeves\")].sort_values(by=\"year\")\n",
    "#print(keanu_by_year.tail())\n",
    "\n",
    "#keanu_by_year[\"character\"][(keanu_by_year[\"name\"] == \"Keanu Reeves\") & (keanu_by_year[\"year\"] >= 1999)] # alternate answer\n",
    "keanu_by_year[[\"character\",\"year\"]][(keanu_by_year[\"name\"] == \"Keanu Reeves\") & (keanu_by_year[\"year\"] >= 1999)]"
   ]
  },
  {
   "cell_type": "markdown",
   "metadata": {
    "pycharm": {
     "name": "#%% md\n"
    }
   },
   "source": [
    "### Section I - Q11: \n",
    "\n",
    "(A) List the total number of actor and actress roles available from 1950 - 1960\n",
    "\n",
    "(B) List the total number of actor and actress roles available from 2007 - 2017"
   ]
  },
  {
   "cell_type": "code",
   "execution_count": 26,
   "metadata": {
    "pycharm": {
     "name": "#%%\n"
    }
   },
   "outputs": [
    {
     "data": {
      "text/plain": "234635"
     },
     "execution_count": 26,
     "metadata": {},
     "output_type": "execute_result"
    }
   ],
   "source": [
    "roles_1950s = cast[[\"character\",\"year\",\"type\"]][(1950 <= cast['year']) & (cast['year']  <= 1960) & (cast[\"type\"]).isin([\"actor\",\"actress\"])]\n",
    "len(roles_1950s)"
   ]
  },
  {
   "cell_type": "code",
   "execution_count": 27,
   "metadata": {
    "pycharm": {
     "name": "#%%\n"
    }
   },
   "outputs": [
    {
     "data": {
      "text/plain": "1452413"
     },
     "execution_count": 27,
     "metadata": {},
     "output_type": "execute_result"
    }
   ],
   "source": [
    "roles_recent = cast[[\"character\",\"year\",\"type\"]][(2007 <= cast['year']) & (cast['year']  <= 2017) & (cast[\"type\"]).isin([\"actor\",\"actress\"])]\n",
    "#print(roles_recent)\n",
    "len(roles_recent)"
   ]
  },
  {
   "cell_type": "markdown",
   "metadata": {
    "pycharm": {
     "name": "#%% md\n"
    }
   },
   "source": [
    "### Section I - Q12: \n",
    "\n",
    "(A) List the total number of leading roles available from 2000 to present\n",
    "\n",
    "(B) List the total number of non-leading roles available from 2000 - present (exclude support cast)\n",
    "\n",
    "(C) List the total number of support\\extra-credit roles available from 2000 - present"
   ]
  },
  {
   "cell_type": "markdown",
   "source": [
    "\n",
    "what's a leading role? Explore the data for films I know have two leads.\n",
    "\n",
    "[https://reelrundown.com/film-industry/only-films-to-win-all-big-five-oscars](https://reelrundown.com/film-industry/only-films-to-win-all-big-five-oscars)\n",
    "\n",
    "* It Happened One Night\n",
    "* One Flew Over the Cuckoo's Nest\n",
    "* The Silence of the Lambs"
   ],
   "metadata": {
    "collapsed": false,
    "pycharm": {
     "name": "#%% md\n"
    }
   }
  },
  {
   "cell_type": "code",
   "execution_count": 28,
   "outputs": [
    {
     "data": {
      "text/plain": "                                   title  year                name     type  \\\n782939             It Happened One Night  1934         Clark Gable    actor   \n192064   One Flew Over the Cuckoo's Nest  1975    Michael Berryman    actor   \n2904493         The Silence of the Lambs  1991        Jodie Foster  actress   \n2750604            It Happened One Night  1934   Claudette Colbert  actress   \n235419          The Silence of the Lambs  1991  Lawrence A. Bonney    actor   \n...                                  ...   ...                 ...      ...   \n3591708            It Happened One Night  1934   Linda Lee Solomon  actress   \n3630246            It Happened One Night  1934         Ethel Sykes  actress   \n3636297            It Happened One Night  1934         Jane Talent  actress   \n3639194            It Happened One Night  1934         Emma Tansey  actress   \n3675525            It Happened One Night  1934       Maidel Turner  actress   \n\n                         character    n  \n782939                       Peter  1.0  \n192064                       Ellis  1.0  \n2904493           Clarice Starling  1.0  \n2750604                      Ellie  2.0  \n235419              FBI Instructor  2.0  \n...                            ...  ...  \n3591708                 Minor Role  NaN  \n3630246              Maid of Honor  NaN  \n3636297              Bus Passenger  NaN  \n3639194               Ticket Buyer  NaN  \n3675525  Last Motel Manager's Wife  NaN  \n\n[183 rows x 6 columns]",
      "text/html": "<div>\n<style scoped>\n    .dataframe tbody tr th:only-of-type {\n        vertical-align: middle;\n    }\n\n    .dataframe tbody tr th {\n        vertical-align: top;\n    }\n\n    .dataframe thead th {\n        text-align: right;\n    }\n</style>\n<table border=\"1\" class=\"dataframe\">\n  <thead>\n    <tr style=\"text-align: right;\">\n      <th></th>\n      <th>title</th>\n      <th>year</th>\n      <th>name</th>\n      <th>type</th>\n      <th>character</th>\n      <th>n</th>\n    </tr>\n  </thead>\n  <tbody>\n    <tr>\n      <th>782939</th>\n      <td>It Happened One Night</td>\n      <td>1934</td>\n      <td>Clark Gable</td>\n      <td>actor</td>\n      <td>Peter</td>\n      <td>1.0</td>\n    </tr>\n    <tr>\n      <th>192064</th>\n      <td>One Flew Over the Cuckoo's Nest</td>\n      <td>1975</td>\n      <td>Michael Berryman</td>\n      <td>actor</td>\n      <td>Ellis</td>\n      <td>1.0</td>\n    </tr>\n    <tr>\n      <th>2904493</th>\n      <td>The Silence of the Lambs</td>\n      <td>1991</td>\n      <td>Jodie Foster</td>\n      <td>actress</td>\n      <td>Clarice Starling</td>\n      <td>1.0</td>\n    </tr>\n    <tr>\n      <th>2750604</th>\n      <td>It Happened One Night</td>\n      <td>1934</td>\n      <td>Claudette Colbert</td>\n      <td>actress</td>\n      <td>Ellie</td>\n      <td>2.0</td>\n    </tr>\n    <tr>\n      <th>235419</th>\n      <td>The Silence of the Lambs</td>\n      <td>1991</td>\n      <td>Lawrence A. Bonney</td>\n      <td>actor</td>\n      <td>FBI Instructor</td>\n      <td>2.0</td>\n    </tr>\n    <tr>\n      <th>...</th>\n      <td>...</td>\n      <td>...</td>\n      <td>...</td>\n      <td>...</td>\n      <td>...</td>\n      <td>...</td>\n    </tr>\n    <tr>\n      <th>3591708</th>\n      <td>It Happened One Night</td>\n      <td>1934</td>\n      <td>Linda Lee Solomon</td>\n      <td>actress</td>\n      <td>Minor Role</td>\n      <td>NaN</td>\n    </tr>\n    <tr>\n      <th>3630246</th>\n      <td>It Happened One Night</td>\n      <td>1934</td>\n      <td>Ethel Sykes</td>\n      <td>actress</td>\n      <td>Maid of Honor</td>\n      <td>NaN</td>\n    </tr>\n    <tr>\n      <th>3636297</th>\n      <td>It Happened One Night</td>\n      <td>1934</td>\n      <td>Jane Talent</td>\n      <td>actress</td>\n      <td>Bus Passenger</td>\n      <td>NaN</td>\n    </tr>\n    <tr>\n      <th>3639194</th>\n      <td>It Happened One Night</td>\n      <td>1934</td>\n      <td>Emma Tansey</td>\n      <td>actress</td>\n      <td>Ticket Buyer</td>\n      <td>NaN</td>\n    </tr>\n    <tr>\n      <th>3675525</th>\n      <td>It Happened One Night</td>\n      <td>1934</td>\n      <td>Maidel Turner</td>\n      <td>actress</td>\n      <td>Last Motel Manager's Wife</td>\n      <td>NaN</td>\n    </tr>\n  </tbody>\n</table>\n<p>183 rows × 6 columns</p>\n</div>"
     },
     "execution_count": 28,
     "metadata": {},
     "output_type": "execute_result"
    }
   ],
   "source": [
    "cast[cast[\"title\"].isin([\"It Happened One Night\",\"One Flew Over the Cuckoo's Nest\",\"The Silence of the Lambs\"])].sort_values(\"n\")"
   ],
   "metadata": {
    "collapsed": false,
    "pycharm": {
     "name": "#%%\n"
    }
   }
  },
  {
   "cell_type": "code",
   "execution_count": 29,
   "outputs": [
    {
     "data": {
      "text/plain": "                            title  year             name   type  \\\n1024061  The Silence of the Lambs  1991  Anthony Hopkins  actor   \n\n                   character     n  \n1024061  Dr. Hannibal Lecter  11.0  ",
      "text/html": "<div>\n<style scoped>\n    .dataframe tbody tr th:only-of-type {\n        vertical-align: middle;\n    }\n\n    .dataframe tbody tr th {\n        vertical-align: top;\n    }\n\n    .dataframe thead th {\n        text-align: right;\n    }\n</style>\n<table border=\"1\" class=\"dataframe\">\n  <thead>\n    <tr style=\"text-align: right;\">\n      <th></th>\n      <th>title</th>\n      <th>year</th>\n      <th>name</th>\n      <th>type</th>\n      <th>character</th>\n      <th>n</th>\n    </tr>\n  </thead>\n  <tbody>\n    <tr>\n      <th>1024061</th>\n      <td>The Silence of the Lambs</td>\n      <td>1991</td>\n      <td>Anthony Hopkins</td>\n      <td>actor</td>\n      <td>Dr. Hannibal Lecter</td>\n      <td>11.0</td>\n    </tr>\n  </tbody>\n</table>\n</div>"
     },
     "execution_count": 29,
     "metadata": {},
     "output_type": "execute_result"
    }
   ],
   "source": [
    "cast[cast[\"name\"].isin([\"Anthony Hopkins\"]) & cast[\"title\"].str.contains(\"Lambs\")].sort_values(\"n\")"
   ],
   "metadata": {
    "collapsed": false,
    "pycharm": {
     "name": "#%%\n"
    }
   }
  },
  {
   "cell_type": "markdown",
   "source": [
    "Hmm, Anthony Hopkins has n value of 11 but also won Best Actor Oscar for \"The Silence of the Lambs\"??\n",
    "\n",
    "Not sure about this data but I think I read somewhere that n<=3 is considered 'lead' so will use that for now"
   ],
   "metadata": {
    "collapsed": false,
    "pycharm": {
     "name": "#%% md\n"
    }
   }
  },
  {
   "cell_type": "markdown",
   "source": [
    "###### (A) List the total number of leading roles available from 2000 to present"
   ],
   "metadata": {
    "collapsed": false,
    "pycharm": {
     "name": "#%% md\n"
    }
   },
   "outputs": []
  },
  {
   "cell_type": "code",
   "execution_count": 30,
   "metadata": {
    "pycharm": {
     "name": "#%%\n"
    }
   },
   "outputs": [
    {
     "data": {
      "text/plain": "170739"
     },
     "execution_count": 30,
     "metadata": {},
     "output_type": "execute_result"
    }
   ],
   "source": [
    "# Explore the data to find out some more info\n",
    "cast_recent_details = cast[[\"character\",\"year\",\"type\",\"n\"]][(cast['year']  >= 2000) & (cast[\"type\"].isin([\"actor\",\"actress\"]))]\n",
    "#print(cast_recent_details)\n",
    "\n",
    "# apparently a 'lead' has n of <= 3. They're all 'actor' or 'actress' so don't need that.\n",
    "\n",
    "lead_recent_details = cast[(cast['year']  >= 2000) & (cast[\"n\"] <= 3)]\n",
    "len(lead_recent_details)"
   ]
  },
  {
   "cell_type": "markdown",
   "source": [
    "###### (B) List the total number of non-leading roles available from 2000 - present (exclude support cast)"
   ],
   "metadata": {
    "collapsed": false,
    "pycharm": {
     "name": "#%% md\n"
    }
   },
   "outputs": []
  },
  {
   "cell_type": "code",
   "execution_count": 31,
   "outputs": [
    {
     "data": {
      "text/plain": "891539"
     },
     "execution_count": 31,
     "metadata": {},
     "output_type": "execute_result"
    }
   ],
   "source": [
    "len(cast[(cast['year']  >= 2000) & (cast[\"n\"] > 3)])"
   ],
   "metadata": {
    "collapsed": false,
    "pycharm": {
     "name": "#%%\n"
    }
   }
  },
  {
   "cell_type": "markdown",
   "source": [
    "###### (C) List the total number of support\\extra-credit roles available from 2000 - present"
   ],
   "metadata": {
    "collapsed": false,
    "pycharm": {
     "name": "#%% md\n"
    }
   }
  },
  {
   "cell_type": "code",
   "execution_count": 32,
   "outputs": [
    {
     "data": {
      "text/plain": "887484"
     },
     "execution_count": 32,
     "metadata": {},
     "output_type": "execute_result"
    }
   ],
   "source": [
    "len(cast[(cast['year']  >= 2000) & (cast[\"n\"].isna())])"
   ],
   "metadata": {
    "collapsed": false,
    "pycharm": {
     "name": "#%%\n"
    }
   }
  },
  {
   "cell_type": "markdown",
   "metadata": {
    "pycharm": {
     "name": "#%% md\n"
    }
   },
   "source": [
    "# Section II - Aggregations, Transformations and Visualizations"
   ]
  },
  {
   "cell_type": "markdown",
   "metadata": {
    "pycharm": {
     "name": "#%% md\n"
    }
   },
   "source": [
    "## What are the top ten most common movie names of all time?\n"
   ]
  },
  {
   "cell_type": "code",
   "execution_count": 33,
   "metadata": {
    "pycharm": {
     "name": "#%%\n"
    }
   },
   "outputs": [
    {
     "data": {
      "text/plain": "Hamlet                  20\nCarmen                  17\nMacbeth                 16\nMaya                    12\nTemptation              12\nThe Outsider            12\nFreedom                 11\nThe Three Musketeers    11\nHoneymoon               11\nOthello                 11\nName: title, dtype: int64"
     },
     "execution_count": 33,
     "metadata": {},
     "output_type": "execute_result"
    }
   ],
   "source": [
    "top_ten = movies.title.value_counts()[:10]\n",
    "top_ten"
   ]
  },
  {
   "cell_type": "markdown",
   "metadata": {
    "pycharm": {
     "name": "#%% md\n"
    }
   },
   "source": [
    "### Plot the top ten common movie names of all time"
   ]
  },
  {
   "cell_type": "code",
   "execution_count": 34,
   "metadata": {
    "pycharm": {
     "name": "#%%\n"
    }
   },
   "outputs": [
    {
     "data": {
      "text/plain": "<AxesSubplot:>"
     },
     "execution_count": 34,
     "metadata": {},
     "output_type": "execute_result"
    },
    {
     "data": {
      "text/plain": "<Figure size 432x288 with 1 Axes>",
      "image/png": "[encoded data removed]"
     },
     "metadata": {
      "needs_background": "light"
     },
     "output_type": "display_data"
    }
   ],
   "source": [
    "top_ten.plot(kind='barh')"
   ]
  },
  {
   "cell_type": "markdown",
   "metadata": {
    "pycharm": {
     "name": "#%% md\n"
    }
   },
   "source": [
    "### Section II - Q1:  Which years in the 2000s saw the most movies released? (Show top 3)\n"
   ]
  },
  {
   "cell_type": "code",
   "execution_count": 35,
   "outputs": [
    {
     "data": {
      "text/plain": "   year  title\n9  2009  12617\n8  2008  11854\n7  2007  11566",
      "text/html": "<div>\n<style scoped>\n    .dataframe tbody tr th:only-of-type {\n        vertical-align: middle;\n    }\n\n    .dataframe tbody tr th {\n        vertical-align: top;\n    }\n\n    .dataframe thead th {\n        text-align: right;\n    }\n</style>\n<table border=\"1\" class=\"dataframe\">\n  <thead>\n    <tr style=\"text-align: right;\">\n      <th></th>\n      <th>year</th>\n      <th>title</th>\n    </tr>\n  </thead>\n  <tbody>\n    <tr>\n      <th>9</th>\n      <td>2009</td>\n      <td>12617</td>\n    </tr>\n    <tr>\n      <th>8</th>\n      <td>2008</td>\n      <td>11854</td>\n    </tr>\n    <tr>\n      <th>7</th>\n      <td>2007</td>\n      <td>11566</td>\n    </tr>\n  </tbody>\n</table>\n</div>"
     },
     "execution_count": 35,
     "metadata": {},
     "output_type": "execute_result"
    }
   ],
   "source": [
    "# \"assuming 2000s refers to the decade\"\n",
    "def count_rows(rows):\n",
    "    return len(rows)\n",
    "\n",
    "release_dates.sort_values(by=\"year\",ascending=False)\n",
    "releases_2000s = release_dates[(release_dates[\"year\"] >= 2000) & (release_dates[\"year\"] < 2010)]\n",
    "summary_2000s = releases_2000s.groupby([\"year\"],as_index=False).agg({\"title\":\"count\"}).sort_values('title', ascending=False)\n",
    "summary_2000s[:3]\n"
   ],
   "metadata": {
    "collapsed": false,
    "pycharm": {
     "name": "#%%\n"
    }
   }
  },
  {
   "cell_type": "markdown",
   "metadata": {
    "pycharm": {
     "name": "#%% md\n"
    }
   },
   "source": [
    "### Section II - Q2: # Plot the total number of films released per-decade (1890, 1900, 1910,....)\n",
    "- Hint: Dividing the year and multiplying with a number might give you the decade the year falls into!\n",
    "- You might need to sort before plotting"
   ]
  },
  {
   "cell_type": "code",
   "execution_count": 36,
   "metadata": {
    "pycharm": {
     "name": "#%%\n"
    }
   },
   "outputs": [
    {
     "data": {
      "text/plain": "(1880.0, 2022.0)"
     },
     "execution_count": 36,
     "metadata": {},
     "output_type": "execute_result"
    },
    {
     "data": {
      "text/plain": "<Figure size 432x288 with 1 Axes>",
      "image/png": "[encoded data removed]"
     },
     "metadata": {
      "needs_background": "light"
     },
     "output_type": "display_data"
    }
   ],
   "source": [
    "release_dates[\"decade\"] = release_dates[\"year\"] // 10 * 10\n",
    "#release_dates\n",
    "#release_dates[['decade']].value_counts().sort_index()\n",
    "\n",
    "plt.plot(release_dates.groupby(\"decade\").apply(count_rows))\n",
    "plt.xlim(1880,2022)"
   ]
  },
  {
   "cell_type": "markdown",
   "metadata": {
    "pycharm": {
     "name": "#%% md\n"
    }
   },
   "source": [
    "### Section II - Q3: \n",
    "\n",
    "(A) What are the top 10 most common character names in movie history?\n",
    "\n",
    "(B) Who are the top 10 people most often credited as \"Herself\" in movie history?\n",
    "\n",
    "(C) Who are the top 10 people most often credited as \"Himself\" in movie history?"
   ]
  },
  {
   "cell_type": "code",
   "execution_count": 37,
   "metadata": {
    "pycharm": {
     "name": "#%%\n"
    }
   },
   "outputs": [
    {
     "data": {
      "text/plain": "Himself        20746\nDancer         12477\nExtra          11948\nReporter        8434\nStudent         7773\nDoctor          7669\nParty Guest     7245\nPoliceman       7029\nNurse           6999\nBartender       6802\nName: character, dtype: int64"
     },
     "execution_count": 37,
     "metadata": {},
     "output_type": "execute_result"
    }
   ],
   "source": [
    "#(A) What are the top 10 most common character names in movie history?\n",
    "cast[\"character\"].value_counts()[:10]"
   ]
  },
  {
   "cell_type": "code",
   "execution_count": 38,
   "metadata": {
    "pycharm": {
     "name": "#%%\n"
    }
   },
   "outputs": [
    {
     "data": {
      "text/plain": "Adolf Hitler             99\nRichard Nixon            44\nRonald Reagan            41\nJohn F. Kennedy          37\nGeorge W. Bush           25\nWinston Churchill        24\nMartin Luther King       23\nRon Jeremy               22\nBill Clinton             22\nFranklin D. Roosevelt    21\nName: name, dtype: int64"
     },
     "execution_count": 38,
     "metadata": {},
     "output_type": "execute_result"
    }
   ],
   "source": [
    "# (B) Who are the top 10 people most often credited as “Herself” in movie history?\n",
    "cast[\"name\"][cast[\"character\"] == \"Himself\"].value_counts()[:10]"
   ]
  },
  {
   "cell_type": "code",
   "execution_count": 39,
   "metadata": {
    "pycharm": {
     "name": "#%%\n"
    }
   },
   "outputs": [
    {
     "data": {
      "text/plain": "Queen Elizabeth II           12\nJoyce Brothers                9\nLuisa Horga                   9\nMar?a Luisa (V) Mart?n        9\nMargaret Thatcher             8\nHillary Clinton               8\nIn?s J. Southern              6\nMar?a Isabel (III) Mart?n     6\nMarta Berrocal                6\nSumie Sakai                   6\nName: name, dtype: int64"
     },
     "execution_count": 39,
     "metadata": {},
     "output_type": "execute_result"
    }
   ],
   "source": [
    "# (C) Who are the top 10 people most often credited as \"Himself\" in movie history?\n",
    "cast[\"name\"][cast[\"character\"] == \"Herself\"].value_counts()[:10]"
   ]
  },
  {
   "cell_type": "markdown",
   "metadata": {
    "pycharm": {
     "name": "#%% md\n"
    }
   },
   "source": [
    "### Section II - Q4: \n",
    "\n",
    "(A) What are the top 10 most frequent roles that start with the word \"Zombie\"?\n",
    "\n",
    "(B) What are the top 10 most frequent roles that start with the word \"Police\"?\n",
    "\n",
    "- Hint: The `startswith()` function might be useful"
   ]
  },
  {
   "cell_type": "code",
   "execution_count": 40,
   "metadata": {
    "pycharm": {
     "name": "#%%\n"
    }
   },
   "outputs": [
    {
     "data": {
      "text/plain": "Zombie                         6264\nZombie Horde                    206\nZombie - Protestor - Victim      78\nZombie Extra                     70\nZombie Dancer                    43\nZombie Girl                      36\nZombie #1                        36\nZombie #2                        31\nZombie Vampire                   25\nZombie Victim                    22\nName: character, dtype: int64"
     },
     "execution_count": 40,
     "metadata": {},
     "output_type": "execute_result"
    }
   ],
   "source": [
    "# (A) What are the top 10 most frequent roles that start with the word “Zombie”?\n",
    "cast[\"character\"][cast[\"character\"].str.startswith(\"Zombie\")].value_counts()[:10]"
   ]
  },
  {
   "cell_type": "code",
   "execution_count": 41,
   "metadata": {
    "pycharm": {
     "name": "#%%\n"
    }
   },
   "outputs": [
    {
     "data": {
      "text/plain": "Policeman              7029\nPolice Officer         4808\nPolice Inspector        742\nPolice Sergeant         674\nPolice officer          539\nPolice                  456\nPolicewoman             415\nPolice Chief            410\nPolice Captain          387\nPolice Commissioner     337\nName: character, dtype: int64"
     },
     "execution_count": 41,
     "metadata": {},
     "output_type": "execute_result"
    }
   ],
   "source": [
    "# (B) What are the top 10 most frequent roles that start with the word “Police”?\n",
    "cast[\"character\"][cast[\"character\"].str.startswith(\"Police\")].value_counts()[:10]"
   ]
  },
  {
   "cell_type": "markdown",
   "metadata": {
    "pycharm": {
     "name": "#%% md\n"
    }
   },
   "source": [
    "### Section II - Q5: Plot how many roles 'Keanu Reeves' has played in each year of his career."
   ]
  },
  {
   "cell_type": "code",
   "execution_count": 42,
   "metadata": {
    "pycharm": {
     "name": "#%%\n"
    }
   },
   "outputs": [
    {
     "data": {
      "text/plain": "Int64Index([1985, 1986, 1988, 1989, 1990, 1991, 1992, 1993, 1994, 1995, 1996,\n            1997, 1999, 2000, 2001, 2003, 2005, 2006, 2008, 2009, 2010, 2012,\n            2013, 2014, 2015, 2016, 2017, 2018, 2019],\n           dtype='int64', name='year')"
     },
     "execution_count": 42,
     "metadata": {},
     "output_type": "execute_result"
    }
   ],
   "source": [
    "keanu_roles_decades = cast[[\"year\",\"character\"]][cast[\"name\"] == \"Keanu Reeves\"]\n",
    "keanu_roles_decades\n",
    "keanu_decades = keanu_roles_decades.value_counts(\"year\").sort_index()\n",
    "keanu_decades\n",
    "keanu_decades.index"
   ]
  },
  {
   "cell_type": "code",
   "execution_count": 43,
   "outputs": [
    {
     "data": {
      "text/plain": "''"
     },
     "execution_count": 43,
     "metadata": {},
     "output_type": "execute_result"
    },
    {
     "data": {
      "text/plain": "<Figure size 432x288 with 1 Axes>",
      "image/png": "[encoded data removed]"
     },
     "metadata": {
      "needs_background": "light"
     },
     "output_type": "display_data"
    }
   ],
   "source": [
    "keanu_decades.plot()\n",
    "plt.xticks(range(1980,2020,5))\n",
    ";"
   ],
   "metadata": {
    "collapsed": false,
    "pycharm": {
     "name": "#%%\n"
    }
   }
  },
  {
   "cell_type": "markdown",
   "metadata": {
    "pycharm": {
     "name": "#%% md\n"
    }
   },
   "source": [
    "### Section II - Q6: Plot the cast positions (n-values) of Keanu Reeve's roles through his career over the years.\n"
   ]
  },
  {
   "cell_type": "code",
   "execution_count": 44,
   "metadata": {
    "pycharm": {
     "name": "#%%\n"
    }
   },
   "outputs": [
    {
     "data": {
      "text/plain": "<matplotlib.collections.PathCollection at 0x7f551b34ae90>"
     },
     "execution_count": 44,
     "metadata": {},
     "output_type": "execute_result"
    },
    {
     "data": {
      "text/plain": "<Figure size 432x288 with 1 Axes>",
      "image/png": "[encoded data removed]"
     },
     "metadata": {
      "needs_background": "light"
     },
     "output_type": "display_data"
    }
   ],
   "source": [
    "keanu_roles_detail = keanu_roles_decades = cast[[\"year\",\"character\",\"n\"]][cast[\"name\"] == \"Keanu Reeves\"].sort_values(\"year\")\n",
    "#keanu_roles_detail\n",
    "plt.scatter(keanu_roles_detail[\"year\"], keanu_roles_detail[\"n\"])"
   ]
  },
  {
   "cell_type": "markdown",
   "metadata": {
    "pycharm": {
     "name": "#%% md\n"
    }
   },
   "source": [
    "### Section II - Q7: Plot the number of \"Hamlet\" films made by each decade"
   ]
  },
  {
   "cell_type": "code",
   "execution_count": 45,
   "metadata": {
    "pycharm": {
     "name": "#%%\n"
    }
   },
   "outputs": [
    {
     "data": {
      "text/plain": "(1880.0, 2030.0)"
     },
     "execution_count": 45,
     "metadata": {},
     "output_type": "execute_result"
    },
    {
     "data": {
      "text/plain": "<Figure size 432x288 with 1 Axes>",
      "image/png": "[encoded data removed]"
     },
     "metadata": {
      "needs_background": "light"
     },
     "output_type": "display_data"
    }
   ],
   "source": [
    "movies[\"decade\"] = movies[\"year\"] // 10 * 10\n",
    "\n",
    "movies[movies[\"title\"] == \"Hamlet\"]\n",
    "plt.plot(movies[\"decade\"].value_counts().sort_index())\n",
    "plt.xlim(1880,2030)"
   ]
  },
  {
   "cell_type": "markdown",
   "metadata": {
    "pycharm": {
     "name": "#%% md\n"
    }
   },
   "source": [
    "### Section II - Q8: \n",
    "\n",
    "(A) How many leading roles were available to both actors and actresses, in the 1960s (1960-1969)?\n",
    "\n",
    "(B) How many leading roles were available to both actors and actresses, in the 2000s (2000-2009)?\n",
    "\n",
    "- Hint: A specific value of n might indicate a leading role"
   ]
  },
  {
   "cell_type": "code",
   "execution_count": 46,
   "metadata": {
    "pycharm": {
     "name": "#%%\n"
    }
   },
   "outputs": [
    {
     "data": {
      "text/plain": "32610"
     },
     "execution_count": 46,
     "metadata": {},
     "output_type": "execute_result"
    }
   ],
   "source": [
    "# Assuming leading role is n <=3, since I think I read that somewhere\n",
    "len(cast[(cast[\"n\"] <= 3) & (cast[\"year\"] >= 1960) & (cast[\"year\"] < 1970)])"
   ]
  },
  {
   "cell_type": "code",
   "execution_count": 47,
   "metadata": {
    "pycharm": {
     "name": "#%%\n"
    }
   },
   "outputs": [
    {
     "data": {
      "text/plain": "74424"
     },
     "execution_count": 47,
     "metadata": {},
     "output_type": "execute_result"
    }
   ],
   "source": [
    "len(cast[(cast[\"n\"] <= 3) & (cast[\"year\"] >= 2000) & (cast[\"year\"] < 2010)])"
   ]
  },
  {
   "cell_type": "markdown",
   "metadata": {
    "pycharm": {
     "name": "#%% md\n"
    }
   },
   "source": [
    "### Section II - Q9: List, in order by year, each of the films in which Frank Oz has played more than 1 role."
   ]
  },
  {
   "cell_type": "code",
   "execution_count": 48,
   "outputs": [
    {
     "data": {
      "text/plain": "                                           character\nyear title                                          \n1979 The Muppet Movie                              8\n1981 An American Werewolf in London                2\n     The Great Muppet Caper                        6\n1982 The Dark Crystal                              2\n1984 The Muppets Take Manhattan                    7\n1985 Follow That Bird                              3\n1992 The Muppet Christmas Carol                    7\n1996 Muppet Treasure Island                        4\n1999 Muppets from Space                            4\n     The Adventures of Elmo in Grouchland          3",
      "text/html": "<div>\n<style scoped>\n    .dataframe tbody tr th:only-of-type {\n        vertical-align: middle;\n    }\n\n    .dataframe tbody tr th {\n        vertical-align: top;\n    }\n\n    .dataframe thead th {\n        text-align: right;\n    }\n</style>\n<table border=\"1\" class=\"dataframe\">\n  <thead>\n    <tr style=\"text-align: right;\">\n      <th></th>\n      <th></th>\n      <th>character</th>\n    </tr>\n    <tr>\n      <th>year</th>\n      <th>title</th>\n      <th></th>\n    </tr>\n  </thead>\n  <tbody>\n    <tr>\n      <th>1979</th>\n      <th>The Muppet Movie</th>\n      <td>8</td>\n    </tr>\n    <tr>\n      <th rowspan=\"2\" valign=\"top\">1981</th>\n      <th>An American Werewolf in London</th>\n      <td>2</td>\n    </tr>\n    <tr>\n      <th>The Great Muppet Caper</th>\n      <td>6</td>\n    </tr>\n    <tr>\n      <th>1982</th>\n      <th>The Dark Crystal</th>\n      <td>2</td>\n    </tr>\n    <tr>\n      <th>1984</th>\n      <th>The Muppets Take Manhattan</th>\n      <td>7</td>\n    </tr>\n    <tr>\n      <th>1985</th>\n      <th>Follow That Bird</th>\n      <td>3</td>\n    </tr>\n    <tr>\n      <th>1992</th>\n      <th>The Muppet Christmas Carol</th>\n      <td>7</td>\n    </tr>\n    <tr>\n      <th>1996</th>\n      <th>Muppet Treasure Island</th>\n      <td>4</td>\n    </tr>\n    <tr>\n      <th rowspan=\"2\" valign=\"top\">1999</th>\n      <th>Muppets from Space</th>\n      <td>4</td>\n    </tr>\n    <tr>\n      <th>The Adventures of Elmo in Grouchland</th>\n      <td>3</td>\n    </tr>\n  </tbody>\n</table>\n</div>"
     },
     "execution_count": 48,
     "metadata": {},
     "output_type": "execute_result"
    }
   ],
   "source": [
    "#frank_oz = cast[[\"name\",'title',\"year\",'character']][cast[\"name\"] == \"Frank Oz\"].value_counts([\"year\",'title']).sort_index()\n",
    "frank_oz = cast[[\"name\",'title',\"year\",'character']][cast[\"name\"] == \"Frank Oz\"]\n",
    "#frank_oz\n",
    "frank_oz_grouped = frank_oz.groupby(['year','title']).agg({'character':'count'})\n",
    "#frank_oz_grouped\n",
    "frank_oz_multiple_roles_filter = frank_oz_grouped[\"character\"] > 1\n",
    "frank_oz_multiple_roles = frank_oz_grouped[frank_oz_multiple_roles_filter]\n",
    "frank_oz_multiple_roles"
   ],
   "metadata": {
    "collapsed": false,
    "pycharm": {
     "name": "#%%\n"
    }
   }
  },
  {
   "cell_type": "markdown",
   "metadata": {
    "pycharm": {
     "name": "#%% md\n"
    }
   },
   "source": [
    "### Section II - Q10: List each of the characters that Frank Oz has portrayed at least twice"
   ]
  },
  {
   "cell_type": "code",
   "execution_count": 49,
   "outputs": [
    {
     "data": {
      "text/plain": "                title\ncharacter            \nAnimal              6\nBert                3\nCookie Monster      5\nFozzie Bear         4\nGrover              2\nMiss Piggy          6\nSam the Eagle       5\nYoda                6",
      "text/html": "<div>\n<style scoped>\n    .dataframe tbody tr th:only-of-type {\n        vertical-align: middle;\n    }\n\n    .dataframe tbody tr th {\n        vertical-align: top;\n    }\n\n    .dataframe thead th {\n        text-align: right;\n    }\n</style>\n<table border=\"1\" class=\"dataframe\">\n  <thead>\n    <tr style=\"text-align: right;\">\n      <th></th>\n      <th>title</th>\n    </tr>\n    <tr>\n      <th>character</th>\n      <th></th>\n    </tr>\n  </thead>\n  <tbody>\n    <tr>\n      <th>Animal</th>\n      <td>6</td>\n    </tr>\n    <tr>\n      <th>Bert</th>\n      <td>3</td>\n    </tr>\n    <tr>\n      <th>Cookie Monster</th>\n      <td>5</td>\n    </tr>\n    <tr>\n      <th>Fozzie Bear</th>\n      <td>4</td>\n    </tr>\n    <tr>\n      <th>Grover</th>\n      <td>2</td>\n    </tr>\n    <tr>\n      <th>Miss Piggy</th>\n      <td>6</td>\n    </tr>\n    <tr>\n      <th>Sam the Eagle</th>\n      <td>5</td>\n    </tr>\n    <tr>\n      <th>Yoda</th>\n      <td>6</td>\n    </tr>\n  </tbody>\n</table>\n</div>"
     },
     "execution_count": 49,
     "metadata": {},
     "output_type": "execute_result"
    }
   ],
   "source": [
    "frank_oz\n",
    "#frank_oz_grouped = frank_oz.groupby(['year','title']).agg({'character':'count'})\n",
    "#frank_oz_grouped\n",
    "\n",
    "frank_characters = frank_oz.groupby(['character']).aggregate({'title':'count'})\n",
    "frank_frequent_characters = frank_characters[frank_characters[\"title\"] > 1]\n",
    "frank_frequent_characters"
   ],
   "metadata": {
    "collapsed": false,
    "pycharm": {
     "name": "#%%\n"
    }
   }
  },
  {
   "cell_type": "markdown",
   "metadata": {
    "pycharm": {
     "name": "#%% md\n"
    }
   },
   "source": [
    "# Section III - Advanced Merging, Querying and Visualizations"
   ]
  },
  {
   "cell_type": "markdown",
   "metadata": {
    "pycharm": {
     "name": "#%% md\n"
    }
   },
   "source": [
    "## Make a bar plot with the following conditions\n",
    "- Frequency of the number of movies with \"Christmas\" in their title \n",
    "- Movies should be such that they are released in the USA.\n",
    "- Show the frequency plot by month"
   ]
  },
  {
   "cell_type": "code",
   "execution_count": 50,
   "metadata": {
    "pycharm": {
     "name": "#%%\n"
    }
   },
   "outputs": [
    {
     "data": {
      "text/plain": "<AxesSubplot:>"
     },
     "execution_count": 50,
     "metadata": {},
     "output_type": "execute_result"
    },
    {
     "data": {
      "text/plain": "<Figure size 432x288 with 1 Axes>",
      "image/png": "[encoded data removed]"
     },
     "metadata": {
      "needs_background": "light"
     },
     "output_type": "display_data"
    }
   ],
   "source": [
    "christmas = release_dates[(release_dates.title.str.contains('Christmas')) & (release_dates.country == 'USA')]\n",
    "christmas.date.dt.month.value_counts().sort_index().plot(kind='bar')"
   ]
  },
  {
   "cell_type": "markdown",
   "metadata": {
    "pycharm": {
     "name": "#%% md\n"
    }
   },
   "source": [
    "### Section III - Q1: Make a bar plot with the following conditions\n",
    "- Frequency of the number of movies with \"Summer\" in their title \n",
    "- Movies should be such that they are released in the USA.\n",
    "- Show the frequency plot by month"
   ]
  },
  {
   "cell_type": "code",
   "execution_count": 51,
   "metadata": {
    "pycharm": {
     "name": "#%%\n"
    }
   },
   "outputs": [
    {
     "data": {
      "text/plain": "<AxesSubplot:>"
     },
     "execution_count": 51,
     "metadata": {},
     "output_type": "execute_result"
    },
    {
     "data": {
      "text/plain": "<Figure size 432x288 with 1 Axes>",
      "image/png": "[encoded data removed]"
     },
     "metadata": {
      "needs_background": "light"
     },
     "output_type": "display_data"
    }
   ],
   "source": [
    "\n",
    "summer = release_dates[(release_dates.title.str.contains('Summer')) & (release_dates.country == 'USA')]\n",
    "summer.date.dt.month.value_counts().sort_index().plot(kind='bar')"
   ]
  },
  {
   "cell_type": "markdown",
   "metadata": {
    "pycharm": {
     "name": "#%% md\n"
    }
   },
   "source": [
    "### Section III - Q2: Make a bar plot with the following conditions\n",
    "- Frequency of the number of movies with \"Action\" in their title \n",
    "- Movies should be such that they are released in the USA.\n",
    "- Show the frequency plot by week"
   ]
  },
  {
   "cell_type": "code",
   "execution_count": 52,
   "metadata": {
    "pycharm": {
     "name": "#%%\n"
    }
   },
   "outputs": [
    {
     "name": "stderr",
     "output_type": "stream",
     "text": [
      "/home/nectar_user/anaconda3/envs/springenv/lib/python3.7/site-packages/ipykernel_launcher.py:2: FutureWarning: Series.dt.weekofyear and Series.dt.week have been deprecated.  Please use Series.dt.isocalendar().week instead.\n",
      "  \n"
     ]
    },
    {
     "data": {
      "text/plain": "<AxesSubplot:>"
     },
     "execution_count": 52,
     "metadata": {},
     "output_type": "execute_result"
    },
    {
     "data": {
      "text/plain": "<Figure size 432x288 with 1 Axes>",
      "image/png": "[encoded data removed]"
     },
     "metadata": {
      "needs_background": "light"
     },
     "output_type": "display_data"
    }
   ],
   "source": [
    "\n",
    "action = release_dates[(release_dates.title.str.contains('Action')) & (release_dates.country == 'USA')]\n",
    "action.date.dt.week.value_counts().sort_index().plot(kind='bar')\n"
   ]
  },
  {
   "cell_type": "markdown",
   "metadata": {
    "pycharm": {
     "name": "#%% md\n"
    }
   },
   "source": [
    "### Section III - Q3: Show all the movies in which Keanu Reeves has played the lead role along with their   release date in the USA sorted by the date of release\n",
    "- Hint: You might need to join or merge two datasets!"
   ]
  },
  {
   "cell_type": "code",
   "execution_count": 53,
   "metadata": {
    "pycharm": {
     "name": "#%%\n"
    }
   },
   "outputs": [
    {
     "data": {
      "text/plain": "                    title  year      country       date  decade\n0   #73, Shaanthi Nivaasa  2007        India 2007-06-15    2000\n1                   #BKKY  2016     Cambodia 2017-10-12    2010\n2                 #Beings  2015      Romania 2015-01-29    2010\n3               #Captured  2017          USA 2017-09-05    2010\n4  #Ewankosau saranghaeyo  2015  Philippines 2015-01-21    2010",
      "text/html": "<div>\n<style scoped>\n    .dataframe tbody tr th:only-of-type {\n        vertical-align: middle;\n    }\n\n    .dataframe tbody tr th {\n        vertical-align: top;\n    }\n\n    .dataframe thead th {\n        text-align: right;\n    }\n</style>\n<table border=\"1\" class=\"dataframe\">\n  <thead>\n    <tr style=\"text-align: right;\">\n      <th></th>\n      <th>title</th>\n      <th>year</th>\n      <th>country</th>\n      <th>date</th>\n      <th>decade</th>\n    </tr>\n  </thead>\n  <tbody>\n    <tr>\n      <th>0</th>\n      <td>#73, Shaanthi Nivaasa</td>\n      <td>2007</td>\n      <td>India</td>\n      <td>2007-06-15</td>\n      <td>2000</td>\n    </tr>\n    <tr>\n      <th>1</th>\n      <td>#BKKY</td>\n      <td>2016</td>\n      <td>Cambodia</td>\n      <td>2017-10-12</td>\n      <td>2010</td>\n    </tr>\n    <tr>\n      <th>2</th>\n      <td>#Beings</td>\n      <td>2015</td>\n      <td>Romania</td>\n      <td>2015-01-29</td>\n      <td>2010</td>\n    </tr>\n    <tr>\n      <th>3</th>\n      <td>#Captured</td>\n      <td>2017</td>\n      <td>USA</td>\n      <td>2017-09-05</td>\n      <td>2010</td>\n    </tr>\n    <tr>\n      <th>4</th>\n      <td>#Ewankosau saranghaeyo</td>\n      <td>2015</td>\n      <td>Philippines</td>\n      <td>2015-01-21</td>\n      <td>2010</td>\n    </tr>\n  </tbody>\n</table>\n</div>"
     },
     "execution_count": 53,
     "metadata": {},
     "output_type": "execute_result"
    }
   ],
   "source": [
    "#movies.head()\n",
    "#cast.head()\n",
    "release_dates.head()"
   ]
  },
  {
   "cell_type": "code",
   "execution_count": 54,
   "outputs": [
    {
     "data": {
      "text/plain": "                                title       date\n714                  The Night Before 1988-04-15\n78   Bill & Ted's Excellent Adventure 1989-02-17\n69         Bill & Ted's Bogus Journey 1991-07-19\n433                     Little Buddha 1994-05-25\n441                             Speed 1994-06-10\n371                   Johnny Mnemonic 1995-05-26\n49               A Walk in the Clouds 1995-08-11\n91                     Chain Reaction 1996-08-02\n190                 Feeling Minnesota 1996-09-13\n593              The Devil's Advocate 1997-10-17\n671                        The Matrix 1999-03-31\n715                  The Replacements 2000-08-11\n510                    Sweet November 2001-02-16\n205                         Hard Ball 2001-09-14\n150                       Constantine 2005-02-18\n631                    The Lake House 2006-06-16\n473                      Street Kings 2008-04-11\n581     The Day the Earth Stood Still 2008-12-12\n9                            47 Ronin 2013-12-25\n248                         John Wick 2014-10-24\n407                       Knock Knock 2015-10-09\n325              John Wick: Chapter 2 2017-02-10",
      "text/html": "<div>\n<style scoped>\n    .dataframe tbody tr th:only-of-type {\n        vertical-align: middle;\n    }\n\n    .dataframe tbody tr th {\n        vertical-align: top;\n    }\n\n    .dataframe thead th {\n        text-align: right;\n    }\n</style>\n<table border=\"1\" class=\"dataframe\">\n  <thead>\n    <tr style=\"text-align: right;\">\n      <th></th>\n      <th>title</th>\n      <th>date</th>\n    </tr>\n  </thead>\n  <tbody>\n    <tr>\n      <th>714</th>\n      <td>The Night Before</td>\n      <td>1988-04-15</td>\n    </tr>\n    <tr>\n      <th>78</th>\n      <td>Bill &amp; Ted's Excellent Adventure</td>\n      <td>1989-02-17</td>\n    </tr>\n    <tr>\n      <th>69</th>\n      <td>Bill &amp; Ted's Bogus Journey</td>\n      <td>1991-07-19</td>\n    </tr>\n    <tr>\n      <th>433</th>\n      <td>Little Buddha</td>\n      <td>1994-05-25</td>\n    </tr>\n    <tr>\n      <th>441</th>\n      <td>Speed</td>\n      <td>1994-06-10</td>\n    </tr>\n    <tr>\n      <th>371</th>\n      <td>Johnny Mnemonic</td>\n      <td>1995-05-26</td>\n    </tr>\n    <tr>\n      <th>49</th>\n      <td>A Walk in the Clouds</td>\n      <td>1995-08-11</td>\n    </tr>\n    <tr>\n      <th>91</th>\n      <td>Chain Reaction</td>\n      <td>1996-08-02</td>\n    </tr>\n    <tr>\n      <th>190</th>\n      <td>Feeling Minnesota</td>\n      <td>1996-09-13</td>\n    </tr>\n    <tr>\n      <th>593</th>\n      <td>The Devil's Advocate</td>\n      <td>1997-10-17</td>\n    </tr>\n    <tr>\n      <th>671</th>\n      <td>The Matrix</td>\n      <td>1999-03-31</td>\n    </tr>\n    <tr>\n      <th>715</th>\n      <td>The Replacements</td>\n      <td>2000-08-11</td>\n    </tr>\n    <tr>\n      <th>510</th>\n      <td>Sweet November</td>\n      <td>2001-02-16</td>\n    </tr>\n    <tr>\n      <th>205</th>\n      <td>Hard Ball</td>\n      <td>2001-09-14</td>\n    </tr>\n    <tr>\n      <th>150</th>\n      <td>Constantine</td>\n      <td>2005-02-18</td>\n    </tr>\n    <tr>\n      <th>631</th>\n      <td>The Lake House</td>\n      <td>2006-06-16</td>\n    </tr>\n    <tr>\n      <th>473</th>\n      <td>Street Kings</td>\n      <td>2008-04-11</td>\n    </tr>\n    <tr>\n      <th>581</th>\n      <td>The Day the Earth Stood Still</td>\n      <td>2008-12-12</td>\n    </tr>\n    <tr>\n      <th>9</th>\n      <td>47 Ronin</td>\n      <td>2013-12-25</td>\n    </tr>\n    <tr>\n      <th>248</th>\n      <td>John Wick</td>\n      <td>2014-10-24</td>\n    </tr>\n    <tr>\n      <th>407</th>\n      <td>Knock Knock</td>\n      <td>2015-10-09</td>\n    </tr>\n    <tr>\n      <th>325</th>\n      <td>John Wick: Chapter 2</td>\n      <td>2017-02-10</td>\n    </tr>\n  </tbody>\n</table>\n</div>"
     },
     "execution_count": 54,
     "metadata": {},
     "output_type": "execute_result"
    }
   ],
   "source": [
    "keanu_lead_cast_filter = (cast[\"name\"] == 'Keanu Reeves') & (cast[\"n\"] == 1)\n",
    "keanu_cast = cast[keanu_lead_cast_filter]\n",
    "\n",
    "# keanu_releases = keanu_cast.merge(release_dates, on=\"title\")\n",
    "# no. merging on title isn't sufficient. using title/year might not be either if there's two releases in the same year with the same title, but that's what I've got, so.\n",
    "\n",
    "\n",
    "\n",
    "keanu_releases = keanu_cast.merge(release_dates, on=[\"title\",'year'])\n",
    "\n",
    "keanu_usa_release_filter = keanu_releases[\"country\"] == 'USA'\n",
    "\n",
    "keanu_usa_releases = keanu_releases[[\"title\",\"date\"]][keanu_usa_release_filter]\n",
    "keanu_usa_releases.sort_values('date')"
   ],
   "metadata": {
    "collapsed": false,
    "pycharm": {
     "name": "#%%\n"
    }
   }
  },
  {
   "cell_type": "markdown",
   "metadata": {
    "pycharm": {
     "name": "#%% md\n"
    }
   },
   "source": [
    "### Section III - Q4: Make a bar plot showing the months in which movies with Keanu Reeves tend to be released in the USA?"
   ]
  },
  {
   "cell_type": "code",
   "execution_count": 55,
   "metadata": {
    "pycharm": {
     "name": "#%%\n"
    }
   },
   "outputs": [
    {
     "data": {
      "text/plain": "<AxesSubplot:>"
     },
     "execution_count": 55,
     "metadata": {},
     "output_type": "execute_result"
    },
    {
     "data": {
      "text/plain": "<Figure size 432x288 with 1 Axes>",
      "image/png": "[encoded data removed]"
     },
     "metadata": {
      "needs_background": "light"
     },
     "output_type": "display_data"
    }
   ],
   "source": [
    "\n",
    "keanu_usa_releases.date.dt.month.value_counts().sort_index().plot(kind='bar')\n"
   ]
  },
  {
   "cell_type": "markdown",
   "metadata": {
    "pycharm": {
     "name": "#%% md\n"
    }
   },
   "source": [
    "### Section III - Q5: Make a bar plot showing the years in which movies with Ian McKellen tend to be released in the USA?"
   ]
  },
  {
   "cell_type": "code",
   "execution_count": 56,
   "metadata": {
    "pycharm": {
     "name": "#%%\n"
    }
   },
   "outputs": [
    {
     "data": {
      "text/plain": "<AxesSubplot:>"
     },
     "execution_count": 56,
     "metadata": {},
     "output_type": "execute_result"
    },
    {
     "data": {
      "text/plain": "<Figure size 432x288 with 1 Axes>",
      "image/png": "[encoded data removed]"
     },
     "metadata": {
      "needs_background": "light"
     },
     "output_type": "display_data"
    }
   ],
   "source": [
    "mckellen_cast_filter = cast[\"name\"] == 'Ian McKellen'\n",
    "mckellen_cast = cast[mckellen_cast_filter]\n",
    "\n",
    "usa_releases = release_dates[release_dates[\"country\"] == 'USA']\n",
    "\n",
    "mckellen_usa_releases = mckellen_cast.merge(usa_releases, on=[\"title\",'year'])\n",
    "\n",
    "\n",
    "mckellen_usa_releases.date.dt.month.value_counts().sort_index().plot(kind='bar')"
   ]
  },
  {
   "cell_type": "code",
   "execution_count": 56,
   "outputs": [],
   "source": [],
   "metadata": {
    "collapsed": false,
    "pycharm": {
     "name": "#%%\n"
    }
   }
  }
 ],
 "metadata": {
  "kernelspec": {
   "display_name": "Python 3",
   "language": "python",
   "name": "python3"
  },
  "language_info": {
   "codemirror_mode": {
    "name": "ipython",
    "version": 3
   },
   "file_extension": ".py",
   "mimetype": "text/x-python",
   "name": "python",
   "nbconvert_exporter": "python",
   "pygments_lexer": "ipython3",
   "version": "3.7.6-final"
  }
 },
 "nbformat": 4,
 "nbformat_minor": 2
}