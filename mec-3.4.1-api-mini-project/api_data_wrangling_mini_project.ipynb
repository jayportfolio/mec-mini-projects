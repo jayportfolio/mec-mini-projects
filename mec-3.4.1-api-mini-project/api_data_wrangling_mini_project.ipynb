{
 "cells": [
  {
   "cell_type": "markdown",
   "metadata": {
    "pycharm": {
     "name": "#%% md\n"
    }
   },
   "source": [
    "This exercise will require you to pull some data from https://data.nasdaq.com/ (formerly Quandl API)."
   ]
  },
  {
   "cell_type": "markdown",
   "metadata": {
    "pycharm": {
     "name": "#%% md\n"
    }
   },
   "source": [
    "As a first step, you will need to register a free account on the https://data.nasdaq.com/ website."
   ]
  },
  {
   "cell_type": "markdown",
   "metadata": {
    "pycharm": {
     "name": "#%% md\n"
    }
   },
   "source": [
    "After you register, you will be provided with a unique API key, that you should store:\n",
    "\n",
    "*Note*: Use a `.env` file and put your key in there and `python-dotenv` to access it in this notebook. \n",
    "\n",
    "The code below uses a key that was used when generating this project but has since been deleted. Never submit your keys to source control. There is a `.env-example` file in this repository to illusrtate what you need. Copy that to a file called `.env` and use your own api key in that `.env` file. Make sure you also have a `.gitignore` file with a line for `.env` added to it. \n",
    "\n",
    "The standard Python gitignore is [here](https://github.com/github/gitignore/blob/master/Python.gitignore) you can just copy that. "
   ]
  },
  {
   "cell_type": "code",
   "execution_count": 70,
   "metadata": {
    "pycharm": {
     "name": "#%%\n"
    }
   },
   "outputs": [
    {
     "name": "stdout",
     "output_type": "stream",
     "text": [
      "1C2gfztK2NNQYM5diNe2\n"
     ]
    }
   ],
   "source": [
    "# get api key from your .env file\n",
    "import os\n",
    "from dotenv import load_dotenv  # if missing this module, simply run `pip install python-dotenv`\n",
    "\n",
    "load_dotenv()\n",
    "API_KEY = os.getenv('NASDAQ_API_KEY')\n",
    "\n",
    "print(API_KEY)"
   ]
  },
  {
   "cell_type": "markdown",
   "metadata": {
    "pycharm": {
     "name": "#%% md\n"
    }
   },
   "source": [
    "Nasdaq Data has a large number of data sources, but, unfortunately, most of them require a Premium subscription. Still, there are also a good number of free datasets."
   ]
  },
  {
   "cell_type": "markdown",
   "metadata": {
    "pycharm": {
     "name": "#%% md\n"
    }
   },
   "source": [
    "For this mini project, we will focus on equities data from the Frankfurt Stock Exhange (FSE), which is available for free. We'll try and analyze the stock prices of a company called Carl Zeiss Meditec, which manufactures tools for eye examinations, as well as medical lasers for laser eye surgery: https://www.zeiss.com/meditec/int/home.html. The company is listed under the stock ticker AFX_X."
   ]
  },
  {
   "cell_type": "markdown",
   "metadata": {
    "pycharm": {
     "name": "#%% md\n"
    }
   },
   "source": [
    "You can find the detailed Nasdaq Data API instructions here: https://docs.data.nasdaq.com/docs/in-depth-usage"
   ]
  },
  {
   "cell_type": "markdown",
   "metadata": {
    "pycharm": {
     "name": "#%% md\n"
    }
   },
   "source": [
    "While there is a dedicated Python package for connecting to the Nasdaq API, we would prefer that you use the *requests* package, which can be easily downloaded using *pip* or *conda*. You can find the documentation for the package here: http://docs.python-requests.org/en/master/ "
   ]
  },
  {
   "cell_type": "markdown",
   "metadata": {
    "pycharm": {
     "name": "#%% md\n"
    }
   },
   "source": [
    "Finally, apart from the *requests* package, you are encouraged to not use any third party Python packages, such as *pandas*, and instead focus on what's available in the Python Standard Library (the *collections* module might come in handy: https://pymotw.com/3/collections/).\n",
    "Also, since you won't have access to DataFrames, you are encouraged to us Python's native data structures - preferably dictionaries, though some questions can also be answered using lists.\n",
    "You can read more on these data structures here: https://docs.python.org/3/tutorial/datastructures.html"
   ]
  },
  {
   "cell_type": "markdown",
   "metadata": {
    "pycharm": {
     "name": "#%% md\n"
    }
   },
   "source": [
    "Keep in mind that the JSON responses you will be getting from the API map almost one-to-one to Python's dictionaries. Unfortunately, they can be very nested, so make sure you read up on indexing dictionaries in the documentation provided above."
   ]
  },
  {
   "cell_type": "code",
   "execution_count": 71,
   "metadata": {
    "pycharm": {
     "name": "#%%\n"
    }
   },
   "outputs": [
    {
     "name": "stdout",
     "output_type": "stream",
     "text": [
      "Requirement already satisfied: requests in /home/nectar_user/anaconda3/envs/springenv/lib/python3.7/site-packages (2.27.1)\r\n",
      "Requirement already satisfied: certifi>=2017.4.17 in /home/nectar_user/anaconda3/envs/springenv/lib/python3.7/site-packages (from requests) (2021.10.8)\r\n",
      "Requirement already satisfied: urllib3<1.27,>=1.21.1 in /home/nectar_user/anaconda3/envs/springenv/lib/python3.7/site-packages (from requests) (1.26.8)\r\n",
      "Requirement already satisfied: charset-normalizer~=2.0.0 in /home/nectar_user/anaconda3/envs/springenv/lib/python3.7/site-packages (from requests) (2.0.4)\r\n",
      "Requirement already satisfied: idna<4,>=2.5 in /home/nectar_user/anaconda3/envs/springenv/lib/python3.7/site-packages (from requests) (3.3)\r\n"
     ]
    }
   ],
   "source": [
    "# First, import the relevant modules\n",
    "import sys\n",
    "!{sys.executable} -m pip install requests # http://jakevdp.github.io/blog/2017/12/05/installing-python-packages-from-jupyter/\n",
    "import requests"
   ]
  },
  {
   "cell_type": "markdown",
   "metadata": {
    "pycharm": {
     "name": "#%% md\n"
    }
   },
   "source": [
    "Note: API's can change a bit with each version, for this exercise it is reccomended to use the nasdaq api at `https://data.nasdaq.com/api/v3/`. This is the same api as what used to be quandl so `https://www.quandl.com/api/v3/` should work too.\n",
    "\n",
    "Hint: We are looking for the `AFX_X` data on the `datasets/FSE/` dataset."
   ]
  },
  {
   "cell_type": "code",
   "execution_count": 72,
   "metadata": {
    "pycharm": {
     "name": "#%%\n"
    }
   },
   "outputs": [
    {
     "data": {
      "text/plain": "'{\"datatable\":{\"data\":[[\"2018-01-03\",\"IWM\",273550000.0,154.14,-253902000.0,\"2018-01-03\"],[\"2018-01-03\",\"SPY\",1008082000.0,270.489,-1666392600.0,\"2018-01-03\"],[\"2018-01-04\",\"IWM\",275150000.0,154.46,246624000.0,\"2018-01-04\"],[\"2018-01-04\",\"SPY\",1005782000.0,271.635,-622124700.0,\"2018-01-04\"],[\"2018-01-05\",\"IWM\",272050000.0,154.89,-478826000.0,\"2018-01-05\"],[\"2018-01-05\",\"SPY\",1000082000.0,273.541,-1548319500.0,\"2018-01-05\"],[\"2018-01-08\",\"IWM\",272450000.0,155.07,61956000.0,\"2018-01-08\"],[\"2018-01-08\",\"SPY\",1008982000.0,273.999,2434514900.0,\"2018-01-08\"],[\"2018-01-09\",\"IWM\",271650000.0,154.9,-124056000.0,\"2018-01-09\"],[\"2018-01-09\",\"SPY\",1004782000.0,274.439,-1150795800.0,\"2018-01-09\"],[\"2018-01-10\",\"IWM\",269950000.0,154.88,-263330000.0,\"2018-01-10\"],[\"2018-01-10\",\"SPY\",1017982000.0,274.137,3622594800.0,\"2018-01-10\"],[\"2018-01-11\",\"IWM\",271350000.0,157.57,216832000.0,\"2018-01-11\"],[\"2018-01-11\",\"SPY\",1028482000.0,276.085,2878438500.0,\"2018-01-11\"],[\"2018-01-12\",\"IWM\",273250000.0,158.08,299383000.0,\"2018-01-12\"],[\"2018-01-12\",\"SPY\",1022732000.0,277.945,-1587488750.0,\"2018-01-12\"],[\"2018-01-17\",\"IWM\",275200000.0,157.56,257730000.0,\"2018-01-17\"],[\"2018-01-17\",\"SPY\",1045882000.0,279.574,6647304000.0,\"2018-01-17\"],[\"2018-01-18\",\"IWM\",275750000.0,156.58,86658000.0,\"2018-01-18\"],[\"2018-01-18\",\"SPY\",1041882000.0,279.147,-1118296000.0,\"2018-01-18\"],[\"2018-01-19\",\"IWM\",270850000.0,158.66,-767242000.0,\"2018-01-19\"],[\"2018-01-19\",\"SPY\",1053182000.0,280.375,3154361100.0,\"2018-01-19\"],[\"2018-01-22\",\"IWM\",272750000.0,159.41,301454000.0,\"2018-01-22\"],[\"2018-01-22\",\"SPY\",1061882000.0,282.638,2439262500.0,\"2018-01-22\"],[\"2018-01-23\",\"IWM\",278500000.0,159.96,916607500.0,\"2018-01-23\"],[\"2018-01-23\",\"SPY\",1070532000.0,283.262,2444818700.0,\"2018-01-23\"],[\"2018-01-24\",\"IWM\",277300000.0,158.86,-191952000.0,\"2018-01-24\"],[\"2018-01-24\",\"SPY\",1067882000.0,283.103,-750644300.0,\"2018-01-24\"],[\"2018-01-25\",\"IWM\",276700000.0,159.06,-95316000.0,\"2018-01-25\"],[\"2018-01-25\",\"SPY\",1069232000.0,283.273,382189050.0,\"2018-01-25\"],[\"2018-01-26\",\"IWM\",276150000.0,159.71,-87483000.0,\"2018-01-26\"],[\"2018-01-26\",\"SPY\",1058532000.0,286.627,-3031021100.0,\"2018-01-26\"],[\"2018-01-29\",\"IWM\",275350000.0,158.72,-127768000.0,\"2018-01-29\"],[\"2018-01-29\",\"SPY\",1073632000.0,284.718,4328067700.0,\"2018-01-29\"],[\"2018-01-30\",\"IWM\",272950000.0,157.21,-380928000.0,\"2018-01-30\"],[\"2018-01-30\",\"SPY\",1088332000.0,281.638,4185354600.0,\"2018-01-30\"],[\"2018-01-31\",\"IWM\",271700000.0,156.43,-196512500.0,\"2018-01-31\"],[\"2018-01-31\",\"SPY\",1088632000.0,281.78,84491400.0,\"2018-01-31\"],[\"2018-01-02\",\"IWM\",275200000.0,152.44,-476656000.0,\"2017-12-29\"],[\"2018-01-02\",\"SPY\",1014282000.0,266.552,-1044907500.0,\"2017-12-29\"],[\"2018-01-16\",\"IWM\",273550000.0,158.08,47271000.0,\"2018-01-12\"],[\"2018-01-16\",\"SPY\",1021882000.0,277.945,-234672250.0,\"2018-01-12\"]],\"columns\":[{\"name\":\"date\",\"type\":\"Date\"},{\"name\":\"ticker\",\"type\":\"String\"},{\"name\":\"shares_outstanding\",\"type\":\"BigDecimal(36,14)\"},{\"name\":\"nav\",\"type\":\"BigDecimal(36,14)\"},{\"name\":\"flow_daily\",\"type\":\"BigDecimal(36,14)\"},{\"name\":\"as_of_date\",\"type\":\"Date\"}]},\"meta\":{\"next_cursor_id\":null}}'"
     },
     "execution_count": 72,
     "metadata": {},
     "output_type": "execute_result"
    }
   ],
   "source": [
    "\n",
    "q1 = requests.get(f\"https://data.nasdaq.com/api/v3/datatables/ETFG/FUND.json?ticker=SPY,IWM&api_key={API_KEY}\")\n",
    "q1.text\n"
   ]
  },
  {
   "cell_type": "code",
   "execution_count": 73,
   "metadata": {
    "pycharm": {
     "name": "#%%\n"
    }
   },
   "outputs": [
    {
     "data": {
      "text/plain": "'{\"dataset\":{\"id\":9775687,\"dataset_code\":\"FB\",\"database_code\":\"WIKI\",\"name\":\"Facebook Inc. (FB) Prices, Dividends, Splits and Trading Volume\",\"description\":\"End of day open, high, low, close and volume, dividends and splits, and split/dividend adjusted open, high, low close and volume for Facebook, Inc. (FB). Ex-Dividend is non-zero on ex-dividend dates. Split Ratio is 1 on non-split dates. Adjusted prices are calculated per CRSP (www.crsp.com/products/documentation/crsp-calculations)\\\\n\\\\nThis data is in the public domain. You may copy, distribute, disseminate or include the data in other products for commercial and/or noncommercial purposes.\\\\n\\\\nThis data is part of Quandl\\'s Wiki initiative to get financial data permanently into the public domain. Quandl relies on users like you to flag errors and provide data where data is wrong or missing. Get involved: connect@quandl.com\\\\n\",\"refreshed_at\":\"2018-03-27T21:46:11.036Z\",\"newest_available_date\":\"2018-03-27\",\"oldest_available_date\":\"2012-05-18\",\"column_names\":[\"Date\",\"Close\"],\"frequency\":\"daily\",\"type\":\"Time Series\",\"premium\":false,\"limit\":null,\"transform\":\"rdiff\",\"column_index\":4,\"start_date\":\"2014-01-01\",\"end_date\":\"2014-12-31\",\"data\":[[\"2014-12-31\",0.004118404118404],[\"2014-11-30\",0.036138151753567],[\"2014-10-31\",-0.05123987854251],[\"2014-09-30\",0.056402031542368],[\"2014-08-31\",0.029869236063317],[\"2014-07-31\",0.07965522365879],[\"2014-06-30\",0.06303317535545],[\"2014-05-31\",0.058882569421211],[\"2014-04-30\",-0.0076361221779549],[\"2014-03-31\",-0.12007011393514],[\"2014-02-28\",0.094134569282404]],\"collapse\":\"monthly\",\"order\":null,\"database_id\":4922}}'"
     },
     "execution_count": 73,
     "metadata": {},
     "output_type": "execute_result"
    }
   ],
   "source": [
    "q2 = requests.get(f\"https://data.nasdaq.com/api/v3/datasets/WIKI/FB.json?column_index=4&start_date=2014-01-01&end_date=2014-12-31&collapse=monthly&transform=rdiff&api_key={API_KEY}\")\n",
    "q2.text\n"
   ]
  },
  {
   "cell_type": "code",
   "execution_count": 74,
   "metadata": {
    "pycharm": {
     "name": "#%%\n"
    }
   },
   "outputs": [
    {
     "name": "stdout",
     "output_type": "stream",
     "text": [
      "<Response [200]>\n"
     ]
    },
    {
     "data": {
      "text/plain": "'{\"dataset_data\":{\"limit\":null,\"transform\":null,\"column_index\":null,\"column_names\":[\"Date\",\"Open\",\"High\",\"Low\",\"Close\",\"Change\",\"Traded Volume\",\"Turnover\",\"Last Price of the Day\",\"Daily Traded Units\",\"Daily Turnover\"],\"start_date\":\"2020-12-01\",\"end_date\":\"2020-12-01\",\"frequency\":\"daily\",\"data\":[[\"2020-12-01\",112.2,112.2,111.5,112.0,null,51.0,5703.0,null,null,null]],\"collapse\":null,\"order\":null}}'"
     },
     "execution_count": 74,
     "metadata": {},
     "output_type": "execute_result"
    }
   ],
   "source": [
    "import requests\n",
    "#r = requests.get('https://api.github.com/user', auth=('user', 'pass'))\n",
    "#r\n",
    "database_code = \"FSE\"\n",
    "dataset_code = \"AFX_X\"\n",
    "start_date = \"2020-12-01\"\n",
    "end_date = \"2020-12-01\"\n",
    "\n",
    "#r = requests.get(f\"https://data.nasdaq.com/api/v3/datasets/{database_code}/{dataset_code}/data.{return_format}?api_key=API_KEY\")\n",
    "r = requests.get(f\"https://data.nasdaq.com/api/v3/datasets/{database_code}/{dataset_code}/data.json?api_key={API_KEY}&start_date={start_date}&end_date={end_date}\")\n",
    "print(r)\n",
    "\n",
    "r.text"
   ]
  },
  {
   "cell_type": "code",
   "execution_count": 74,
   "metadata": {
    "pycharm": {
     "name": "#%%\n"
    }
   },
   "outputs": [],
   "source": []
  },
  {
   "cell_type": "code",
   "execution_count": 75,
   "metadata": {
    "pycharm": {
     "name": "#%%\n"
    }
   },
   "outputs": [],
   "source": [
    "# Now, call the Nasdaq API and pull out a small sample of the data (only one day) to get a glimpse\n",
    "# into the JSON structure that will be returned"
   ]
  },
  {
   "cell_type": "code",
   "execution_count": 76,
   "metadata": {
    "pycharm": {
     "name": "#%%\n"
    }
   },
   "outputs": [],
   "source": [
    "# Inspect the JSON structure of the object you created, and take note of how nested it is,\n",
    "# as well as the overall structure\n"
   ]
  },
  {
   "cell_type": "markdown",
   "metadata": {
    "pycharm": {
     "name": "#%% md\n"
    }
   },
   "source": [
    "These are your tasks for this mini project:\n",
    "\n",
    "1. Collect data from the Franfurt Stock Exchange, for the ticker AFX_X, for the whole year 2017 (keep in mind that the date format is YYYY-MM-DD).\n",
    "2. Convert the returned JSON object into a Python dictionary.\n",
    "3. Calculate what the highest and lowest opening prices were for the stock in this period.\n",
    "4. What was the largest change in any one day (based on High and Low price)?\n",
    "5. What was the largest change between any two days (based on Closing Price)?\n",
    "6. What was the average daily trading volume during this year?\n",
    "7. (Optional) What was the median trading volume during this year. (Note: you may need to implement your own function for calculating the median.)"
   ]
  },
  {
   "cell_type": "code",
   "execution_count": 77,
   "metadata": {
    "pycharm": {
     "name": "#%%\n"
    }
   },
   "outputs": [],
   "source": [
    "# Helper method to decide whether to print the output\n",
    "\n",
    "def process_answer(arg, print_output=False, return_output=False):\n",
    "    if print_output:\n",
    "        print(arg)\n",
    "    if return_output:\n",
    "        return arg"
   ]
  },
  {
   "cell_type": "markdown",
   "source": [
    "# 1. Collect data from the Franfurt Stock Exchange, for the ticker AFX_X, for the whole year 2017 (keep in mind that the date format is YYYY-MM-DD)."
   ],
   "metadata": {
    "collapsed": false,
    "pycharm": {
     "name": "#%% md\n"
    }
   }
  },
  {
   "cell_type": "code",
   "execution_count": 78,
   "metadata": {
    "pycharm": {
     "name": "#%%\n"
    }
   },
   "outputs": [],
   "source": [
    "# 1. Collect data from the Franfurt Stock Exchange, for the ticker AFX_X, for the whole year 2017 (keep in mind that the date format is YYYY-MM-DD).\n",
    "start1 = '2017-01-01'\n",
    "end1 =  '2017-12-31'\n",
    "r1 = requests.get(f\"https://data.nasdaq.com/api/v3/datasets/{database_code}/{dataset_code}/data.json?api_key={API_KEY}&start_date={start1}&end_date={end1}\")"
   ]
  },
  {
   "cell_type": "code",
   "execution_count": 79,
   "metadata": {
    "pycharm": {
     "name": "#%%\n"
    }
   },
   "outputs": [
    {
     "name": "stdout",
     "output_type": "stream",
     "text": [
      "{\"dataset_data\":{\"limit\":null,\"transform\":null,\"column_index\":null,\"column_names\":[\"Date\",\"Open\",\"High\",\"Low\",\"Close\",\"Change\",\"Traded Volume\",\"Turnover\",\"Last Price of the Day\",\"Daily Traded Units\",\"Daily Turnover\"],\"start_date\":\"2017-01-01\",\"end_date\":\"2017-12-31\",\"frequency\":\"daily\",\"data\":[[\"2017-12-29\",51.76,51.94,51.45,51.76,null,34640.0,1792304.0,null,null,null],[\"2017-12-28\",51.65,51.82,51.43,51.6,null,40660.0,2099024.0,null,null,null],[\"2017-12-27\",51.45,51.89,50.76,51.82,null,57452.0,2957018.0,null,null,null],[\"2017-12-22\",51.05,51.5,50.92,51.32,null,71165.0,3641949.0,null,null,null],[\"2017-12-21\",51.16,51.52,50.9,51.4,null,120649.0,6179433.0,null,null,null],[\"2017-12-20\",51.88,52.04,51.2,51.27,null,50587.0,2610258.0,null,null,null],[\"2017-12-19\",52.73,52.73,51.07,51.66,null,137313.0,7102361.0,null,null,null],[\"2017-12-18\",52.37,52.75,51.61,52.62,null,129733.0,6770499.0,null,null,null],[\"2017-12-15\",52.7,52.7,51.64,52.01,null,204080.0,10596319.0,null,null,null],[\"2017-12-14\",53.11,53.54,52.15,52.67,null,132981.0,7016953.0,null,null,null],[\"2017-12-13\",52.64,53.35,52.48,53.09,null,128434.0,6801159.0,null,null,null],[\"2017-12-12\",52.29,53.1,51.82,52.43,null,87911.0,4615924.0,null,null,null],[\"2017-12-11\",52.28,52.45,51.26,52.14,null,71817.0,3724193.0,null,null,null],[\"2017-12-08\",51.5,52.83,51.28,52.12,null,109157.0,5690648.0,null,null,null],[\"2017-12-07\",50.89,51.47,50.81,51.47,null,48123.0,2463848.0,null,null,null],[\"2017-12-06\",50.8,51.11,50.39,50.89,null,88730.0,4504075.0,null,null,null],[\"2017-12-05\",51.21,51.38,50.4,51.25,null,83023.0,4231971.0,null,null,null],[\"2017-12-04\",49.5,51.23,49.5,51.14,null,94385.0,4800027.0,null,null,null],[\"2017-12-01\",49.52,50.49,49.17,49.86,null,101733.0,5065932.0,null,null,null],[\"2017-11-30\",48.64,49.84,48.28,49.7,null,123019.0,6085171.0,null,null,null],[\"2017-11-29\",49.64,49.64,48.7,48.75,null,67342.0,3292223.0,null,null,null],[\"2017-11-28\",49.09,49.89,49.03,49.25,null,42669.0,2107358.0,null,null,null],[\"2017-11-27\",49.13,49.73,48.96,49.2,null,102180.0,5055762.0,null,null,null],[\"2017-11-24\",49.11,49.41,48.87,49.11,null,50350.0,2472842.0,null,null,null],[\"2017-11-23\",48.8,49.46,48.45,49.2,null,38834.0,1909352.0,null,null,null],[\"2017-11-22\",48.4,49.61,48.39,48.8,null,91142.0,4478093.0,null,null,null],[\"2017-11-21\",47.25,48.59,46.78,48.39,null,78502.0,3782098.0,null,null,null],[\"2017-11-20\",46.57,47.38,46.54,47.04,null,97252.0,4563515.0,null,null,null],[\"2017-11-17\",47.03,47.15,46.8,46.84,null,54107.0,2540820.0,null,null,null],[\"2017-11-16\",47.09,47.23,46.55,47.03,null,89373.0,4195732.0,null,null,null],[\"2017-11-15\",47.98,48.01,46.75,47.05,null,67593.0,3188321.0,null,null,null],[\"2017-11-14\",48.4,48.9,47.84,48.0,null,67672.0,3259979.0,null,null,null],[\"2017-11-13\",48.38,48.61,47.76,48.34,null,76286.0,3681337.0,null,null,null],[\"2017-11-10\",47.3,48.89,47.16,48.34,null,90245.0,4361552.0,null,null,null],[\"2017-11-09\",47.65,48.06,47.09,47.21,null,120268.0,5712034.0,null,null,null],[\"2017-11-08\",46.42,47.72,46.42,47.47,null,94195.0,4463935.0,null,null,null],[\"2017-11-07\",46.16,46.33,45.84,46.26,null,48152.0,2224221.0,null,null,null],[\"2017-11-06\",45.81,46.09,45.76,45.99,null,60716.0,2789220.0,null,null,null],[\"2017-11-03\",45.0,46.04,44.83,45.97,null,56911.0,2603498.0,null,null,null],[\"2017-11-02\",45.88,46.06,45.18,45.27,null,37958.0,1724840.0,null,null,null],[\"2017-11-01\",46.29,46.55,45.97,46.04,null,56319.0,2603859.0,null,null,null],[\"2017-10-30\",46.53,46.65,45.61,45.76,null,56245.0,2585397.0,null,null,null],[\"2017-10-27\",45.48,46.42,45.46,46.41,null,74472.0,3434087.0,null,null,null],[\"2017-10-26\",45.2,45.41,44.91,45.41,null,56319.0,2548078.0,null,null,null],[\"2017-10-25\",45.01,45.06,44.7,45.0,null,47730.0,2145697.0,null,null,null],[\"2017-10-24\",45.16,45.27,44.75,44.85,null,43042.0,1937616.0,null,null,null],[\"2017-10-23\",44.9,45.34,44.89,45.0,null,43375.0,1952918.0,null,null,null],[\"2017-10-20\",45.08,45.34,44.76,44.87,null,55707.0,2503853.0,null,null,null],[\"2017-10-19\",45.72,45.85,44.79,45.0,null,59991.0,2703085.0,null,null,null],[\"2017-10-18\",46.01,46.2,45.61,45.77,null,45263.0,2076951.0,null,null,null],[\"2017-10-17\",45.8,46.06,45.37,45.96,null,65837.0,3014080.0,null,null,null],[\"2017-10-16\",45.61,45.75,45.3,45.55,null,49246.0,2243129.0,null,null,null],[\"2017-10-13\",45.5,45.7,45.37,45.4,null,43362.0,1971801.0,null,null,null],[\"2017-10-12\",45.58,45.58,45.17,45.43,null,49180.0,2233481.0,null,null,null],[\"2017-10-11\",45.97,45.97,45.25,45.29,null,69455.0,3158321.0,null,null,null],[\"2017-10-10\",45.64,46.04,45.57,45.84,null,65860.0,3016658.0,null,null,null],[\"2017-10-09\",46.2,46.2,45.6,45.74,null,44059.0,2015453.0,null,null,null],[\"2017-10-06\",46.19,46.19,45.69,46.0,null,66760.0,3066198.0,null,null,null],[\"2017-10-05\",46.01,46.09,45.63,46.05,null,94804.0,4352002.0,null,null,null],[\"2017-10-04\",45.36,46.17,45.22,46.11,null,115706.0,5313199.0,null,null,null],[\"2017-10-02\",44.51,44.98,44.18,44.98,null,95313.0,4265024.0,null,null,null],[\"2017-09-29\",43.58,44.17,43.3,44.17,null,99821.0,4384796.0,null,null,null],[\"2017-09-28\",42.0,43.56,42.0,43.56,null,157234.0,6775569.0,null,null,null],[\"2017-09-27\",42.35,42.49,41.78,42.04,null,76600.0,3219861.0,null,null,null],[\"2017-09-26\",42.3,42.57,42.11,42.37,null,51321.0,2175381.0,null,null,null],[\"2017-09-25\",42.3,42.3,41.96,42.07,null,56224.0,2366453.0,null,null,null],[\"2017-09-22\",41.48,42.38,41.48,42.06,null,79955.0,3362517.0,null,null,null],[\"2017-09-21\",42.29,42.29,41.39,41.46,null,105194.0,4378409.0,null,null,null],[\"2017-09-20\",42.54,42.54,41.99,41.99,null,57838.0,2440557.0,null,null,null],[\"2017-09-19\",42.65,42.65,42.13,42.44,null,65546.0,2777065.0,null,null,null],[\"2017-09-18\",42.5,42.63,42.23,42.27,null,44037.0,1864954.0,null,null,null],[\"2017-09-15\",42.29,42.81,42.25,42.42,null,107144.0,4555791.0,null,null,null],[\"2017-09-14\",42.35,42.8,42.35,42.52,null,65157.0,2770696.0,null,null,null],[\"2017-09-13\",42.49,42.69,42.22,42.45,null,68801.0,2921240.0,null,null,null],[\"2017-09-12\",43.21,43.34,42.62,42.73,null,52828.0,2259924.0,null,null,null],[\"2017-09-11\",42.81,42.89,42.56,42.85,null,103273.0,4415614.0,null,null,null],[\"2017-09-08\",42.7,42.75,42.56,42.67,null,59881.0,2553977.0,null,null,null],[\"2017-09-07\",43.0,43.02,42.67,42.77,null,64320.0,2751388.0,null,null,null],[\"2017-09-06\",42.66,42.71,42.34,42.55,null,71006.0,3020229.0,null,null,null],[\"2017-09-05\",43.0,43.19,42.55,42.62,null,66351.0,2846115.0,null,null,null],[\"2017-09-04\",42.38,42.75,41.95,42.6,null,105288.0,4471634.0,null,null,null],[\"2017-09-01\",42.16,43.06,42.07,42.41,null,151474.0,6453558.0,null,null,null],[\"2017-08-31\",42.0,42.08,41.12,41.9,null,157888.0,6580200.0,null,null,null],[\"2017-08-30\",42.0,42.2,41.49,41.94,null,97804.0,4090262.0,null,null,null],[\"2017-08-29\",41.71,41.98,41.33,41.85,null,98156.0,4094452.0,null,null,null],[\"2017-08-28\",42.11,42.25,41.86,41.91,null,47130.0,1978704.0,null,null,null],[\"2017-08-25\",42.64,42.64,42.05,42.14,null,69734.0,2948016.0,null,null,null],[\"2017-08-24\",42.72,43.05,42.63,42.69,null,65213.0,2792319.0,null,null,null],[\"2017-08-23\",42.82,43.17,42.6,42.71,null,70269.0,3011578.0,null,null,null],[\"2017-08-22\",42.46,42.96,42.4,42.71,null,95376.0,4075646.0,null,null,null],[\"2017-08-21\",42.42,42.76,42.2,42.26,null,68812.0,2922972.0,null,null,null],[\"2017-08-18\",42.28,42.6,42.01,42.41,null,72886.0,3092377.0,null,null,null],[\"2017-08-17\",41.88,43.01,41.76,42.5,null,131361.0,5583704.0,null,null,null],[\"2017-08-16\",42.4,42.62,41.98,42.05,null,104676.0,4408312.0,null,null,null],[\"2017-08-15\",42.53,42.53,42.2,42.28,null,64334.0,2721852.0,null,null,null],[\"2017-08-14\",42.12,42.69,42.01,42.3,null,127682.0,5416963.0,null,null,null],[\"2017-08-11\",41.3,41.94,40.96,41.94,null,183412.0,7604144.0,null,null,null],[\"2017-08-10\",41.73,41.99,41.14,41.68,null,175161.0,7303562.0,null,null,null],[\"2017-08-09\",43.5,43.5,41.64,41.81,null,355857.0,15003956.0,null,null,null],[\"2017-08-08\",44.9,45.09,44.15,44.37,null,156168.0,6941408.0,null,null,null],[\"2017-08-07\",45.85,46.34,44.02,44.96,null,164543.0,7378816.0,null,null,null],[\"2017-08-04\",45.13,45.13,44.36,45.07,null,96202.0,4306911.0,null,null,null],[\"2017-08-03\",45.34,45.54,44.91,44.97,null,77854.0,3517146.0,null,null,null],[\"2017-08-02\",45.25,45.77,44.9,45.56,null,187468.0,8528548.0,null,null,null],[\"2017-08-01\",45.24,45.54,45.1,45.45,null,74975.0,3399891.0,null,null,null],[\"2017-07-31\",44.94,45.75,44.94,45.3,null,62672.0,2844210.0,null,null,null],[\"2017-07-28\",45.26,45.29,44.75,44.97,null,114006.0,5127247.0,null,null,null],[\"2017-07-27\",45.16,45.45,45.15,45.25,null,50557.0,2290284.0,null,null,null],[\"2017-07-26\",44.91,45.33,44.46,45.16,null,81970.0,3688510.0,null,null,null],[\"2017-07-25\",44.7,45.04,44.63,44.82,null,112224.0,5033312.0,null,null,null],[\"2017-07-24\",45.31,45.31,44.49,44.61,null,104282.0,4661866.0,null,null,null],[\"2017-07-21\",45.57,45.88,45.04,45.44,null,73422.0,3334695.0,null,null,null],[\"2017-07-20\",45.74,45.96,45.23,45.66,null,87399.0,3986488.0,null,null,null],[\"2017-07-19\",45.06,45.72,44.94,45.57,null,71971.0,3273001.0,null,null,null],[\"2017-07-18\",45.5,45.55,44.7,45.0,null,104003.0,4684627.0,null,null,null],[\"2017-07-17\",45.6,46.23,45.29,45.6,null,104995.0,4801806.0,null,null,null],[\"2017-07-14\",45.07,45.56,44.83,45.53,null,67375.0,3054060.0,null,null,null],[\"2017-07-13\",44.67,45.18,44.67,44.95,null,82745.0,3718928.0,null,null,null],[\"2017-07-12\",44.29,45.05,43.89,44.95,null,115705.0,5133971.0,null,null,null],[\"2017-07-11\",44.94,44.94,44.08,44.2,null,90538.0,4010457.0,null,null,null],[\"2017-07-10\",44.64,45.18,44.51,44.7,null,71868.0,3221218.0,null,null,null],[\"2017-07-07\",44.79,44.79,44.25,44.53,null,47999.0,2136578.0,null,null,null],[\"2017-07-06\",45.5,45.5,44.15,44.62,null,66116.0,2952605.0,null,null,null],[\"2017-07-05\",44.67,45.36,44.44,45.19,null,48706.0,2189436.0,null,null,null],[\"2017-07-04\",45.83,45.83,44.74,44.8,null,50549.0,2273551.0,null,null,null],[\"2017-07-03\",45.29,45.83,45.06,45.75,null,71381.0,3251502.0,null,null,null],[\"2017-06-30\",45.01,45.74,45.0,45.44,null,136112.0,6187148.0,null,null,null],[\"2017-06-29\",45.73,45.81,45.11,45.2,null,134965.0,6132452.0,null,null,null],[\"2017-06-28\",46.68,46.68,45.41,45.68,null,117165.0,5381488.0,null,null,null],[\"2017-06-27\",47.23,47.33,46.39,46.83,null,82492.0,3866344.0,null,null,null],[\"2017-06-26\",46.95,47.63,46.91,47.21,null,73322.0,3465639.0,null,null,null],[\"2017-06-23\",47.29,47.4,46.79,46.99,null,80586.0,3792498.0,null,null,null],[\"2017-06-22\",47.03,47.4,46.75,47.29,null,56071.0,2640508.0,null,null,null],[\"2017-06-21\",47.46,47.48,46.53,46.99,null,89752.0,4206563.0,null,null,null],[\"2017-06-20\",46.48,47.43,46.27,47.37,null,108334.0,5109730.0,null,null,null],[\"2017-06-19\",46.9,46.9,46.25,46.64,null,70056.0,3260381.0,null,null,null],[\"2017-06-16\",45.66,46.8,45.66,46.63,null,202214.0,9411695.0,null,null,null],[\"2017-06-15\",46.34,46.34,45.21,45.67,null,101733.0,4635593.0,null,null,null],[\"2017-06-14\",46.52,46.86,46.05,46.33,null,83741.0,3881453.0,null,null,null],[\"2017-06-13\",46.5,46.51,46.03,46.32,null,107644.0,4981185.0,null,null,null],[\"2017-06-12\",47.31,47.43,45.89,46.31,null,112942.0,5238390.0,null,null,null],[\"2017-06-09\",46.77,47.44,46.55,47.44,null,99674.0,4702170.0,null,null,null],[\"2017-06-08\",47.8,47.8,46.27,46.27,null,1945.0,90599.0,null,null,null],[\"2017-06-07\",47.01,47.43,47.01,47.43,null,1081.0,51021.0,null,null,null],[\"2017-06-06\",47.12,47.45,46.21,47.43,null,686.0,32083.0,null,null,null],[\"2017-06-02\",46.8,46.99,46.72,46.99,null,290.0,13584.0,null,null,null],[\"2017-06-01\",46.12,46.52,45.89,46.52,null,106513.0,4930686.0,null,null,null],[\"2017-05-31\",45.22,46.26,45.22,45.86,null,522.0,24044.0,null,null,null],[\"2017-05-30\",45.05,46.02,45.05,46.02,null,587.0,26792.0,null,null,null],[\"2017-05-29\",45.61,45.61,45.24,45.32,null,112.0,5089.0,null,null,null],[\"2017-05-26\",44.8,45.36,44.71,45.3,null,74453.0,3360707.0,null,null,null],[\"2017-05-25\",44.8,44.87,44.29,44.78,null,49970.0,2231857.0,null,null,null],[\"2017-05-24\",43.92,44.67,43.92,44.53,null,111923.0,4971343.0,null,null,null],[\"2017-05-23\",43.67,44.13,43.55,43.9,null,38308.0,1681904.0,null,null,null],[\"2017-05-22\",44.16,44.22,43.44,43.84,null,70856.0,3103013.0,null,null,null],[\"2017-05-19\",43.74,44.12,43.74,44.12,null,45.0,1980.0,null,null,null],[\"2017-05-18\",44.0,44.3,43.29,43.98,null,166160.0,7277314.0,null,null,null],[\"2017-05-17\",45.06,45.34,44.01,44.19,null,149515.0,6664744.0,null,null,null],[\"2017-05-16\",45.15,45.36,44.56,45.31,null,101476.0,4567885.0,null,null,null],[\"2017-05-15\",45.09,45.78,44.31,45.14,null,193702.0,8734286.0,null,null,null],[\"2017-05-12\",45.18,45.18,44.16,44.99,null,159495.0,7113519.0,null,null,null],[\"2017-05-11\",43.4,46.06,43.25,45.0,null,189125.0,8496322.0,null,null,null],[\"2017-05-10\",43.5,43.6,42.53,43.28,null,91858.0,3958630.0,null,null,null],[\"2017-05-09\",41.83,43.55,41.82,43.3,null,151439.0,6538516.0,null,null,null],[\"2017-05-08\",43.0,43.0,42.04,42.24,null,97456.0,4128048.0,null,null,null],[\"2017-05-05\",42.52,42.91,42.38,42.75,null,78512.0,3353971.0,null,null,null],[\"2017-05-04\",41.86,42.5,41.71,42.5,null,82058.0,3465505.0,null,null,null],[\"2017-05-03\",42.2,42.29,41.78,41.9,null,65266.0,2738394.0,null,null,null],[\"2017-05-02\",41.89,42.23,41.76,42.15,null,86559.0,3636583.0,null,null,null],[\"2017-05-01\",null,42.245,41.655,41.72,-0.44,86348.0,3606589.0,null,null,null],[\"2017-04-28\",42.17,42.25,41.66,41.72,null,86348.0,3606589.0,null,null,null],[\"2017-04-27\",41.51,42.24,41.51,42.16,null,151683.0,6380639.0,null,null,null],[\"2017-04-26\",41.88,41.94,41.4,41.5,null,65847.0,2743109.0,null,null,null],[\"2017-04-25\",41.93,42.18,41.66,41.89,null,85973.0,3604204.0,null,null,null],[\"2017-04-24\",42.01,42.02,41.23,41.81,null,102084.0,4247032.0,null,null,null],[\"2017-04-21\",41.97,42.14,41.01,41.32,null,186784.0,7728103.0,null,null,null],[\"2017-04-20\",42.5,42.64,41.52,41.93,null,223621.0,9418192.0,null,null,null],[\"2017-04-19\",41.94,42.61,41.94,42.61,null,92722.0,3930856.0,null,null,null],[\"2017-04-18\",42.24,42.4,41.54,42.0,null,133057.0,5587565.0,null,null,null],[\"2017-04-17\",null,42.48,41.985,42.2,null,88416.0,3734717.0,null,null,null],[\"2017-04-14\",null,42.48,41.985,42.2,null,88416.0,3734717.0,null,null,null],[\"2017-04-13\",42.06,42.48,41.99,42.2,null,88416.0,3734717.0,null,null,null],[\"2017-04-12\",42.02,42.45,41.84,42.2,null,158278.0,6672547.0,null,null,null],[\"2017-04-11\",41.62,42.03,41.53,41.75,null,107817.0,4501109.0,null,null,null],[\"2017-04-10\",41.46,41.68,41.31,41.68,null,62297.0,2585922.0,null,null,null],[\"2017-04-07\",40.9,41.42,40.84,41.42,null,81255.0,3344628.0,null,null,null],[\"2017-04-06\",40.96,41.25,40.83,41.05,null,96794.0,3968681.0,null,null,null],[\"2017-04-05\",41.1,41.34,40.79,41.1,null,156005.0,6404780.0,null,null,null],[\"2017-04-04\",39.5,40.88,39.48,40.81,null,193156.0,7822665.0,null,null,null],[\"2017-04-03\",40.15,40.15,39.54,39.64,null,127973.0,5081376.0,null,null,null],[\"2017-03-31\",39.77,40.07,39.42,39.98,null,95382.0,3795061.0,null,null,null],[\"2017-03-30\",40.02,40.14,39.42,39.75,null,189201.0,7541354.0,null,null,null],[\"2017-03-29\",39.39,40.01,39.05,40.01,null,335406.0,13349426.0,null,null,null],[\"2017-03-28\",38.95,39.35,38.79,39.22,null,115075.0,4505494.0,null,null,null],[\"2017-03-27\",38.73,39.1,38.53,38.85,null,191515.0,7446952.0,null,null,null],[\"2017-03-24\",38.94,39.02,38.6,38.94,null,210926.0,8205507.0,null,null,null],[\"2017-03-23\",39.01,39.25,38.63,38.96,null,169971.0,6621807.0,null,null,null],[\"2017-03-22\",38.25,39.02,37.53,38.94,null,670349.0,25910543.0,null,null,null],[\"2017-03-21\",41.8,41.83,40.97,40.98,null,56906.0,2349965.0,null,null,null],[\"2017-03-20\",41.26,42.17,41.26,41.97,null,97572.0,4074891.0,null,null,null],[\"2017-03-17\",41.47,41.59,41.16,41.34,null,90109.0,3734232.0,null,null,null],[\"2017-03-16\",41.4,41.57,41.09,41.46,null,55799.0,2308423.0,null,null,null],[\"2017-03-15\",41.4,41.5,40.91,41.25,null,60324.0,2488650.0,null,null,null],[\"2017-03-14\",41.2,41.5,41.2,41.3,null,60420.0,2498025.0,null,null,null],[\"2017-03-13\",41.4,41.46,41.08,41.3,null,44803.0,1850251.0,null,null,null],[\"2017-03-10\",41.53,41.53,41.16,41.4,null,38518.0,1592270.0,null,null,null],[\"2017-03-09\",41.61,41.61,41.16,41.4,null,43988.0,1819182.0,null,null,null],[\"2017-03-08\",41.13,41.71,40.95,41.68,null,45111.0,1870935.0,null,null,null],[\"2017-03-07\",41.5,41.8,41.25,41.42,null,61925.0,2569608.0,null,null,null],[\"2017-03-06\",41.25,41.4,40.81,41.4,null,46510.0,1916799.0,null,null,null],[\"2017-03-03\",41.12,41.22,40.84,41.18,null,40800.0,1675587.0,null,null,null],[\"2017-03-02\",41.38,41.39,40.76,41.17,null,49863.0,2048153.0,null,null,null],[\"2017-03-01\",41.19,41.57,40.9,41.2,null,86753.0,3569796.0,null,null,null],[\"2017-02-28\",40.38,40.95,40.38,40.84,null,67440.0,2747011.0,null,null,null],[\"2017-02-27\",39.75,40.64,39.75,40.39,null,62655.0,2520260.0,null,null,null],[\"2017-02-24\",39.77,40.14,38.91,39.74,null,101294.0,4015150.0,null,null,null],[\"2017-02-23\",39.72,39.98,39.38,39.79,null,81945.0,3260642.0,null,null,null],[\"2017-02-22\",39.6,39.75,39.27,39.7,null,77619.0,3066894.0,null,null,null],[\"2017-02-21\",38.85,39.57,38.85,39.45,null,46070.0,1808350.0,null,null,null],[\"2017-02-20\",39.25,39.25,38.81,38.98,null,37014.0,1444138.0,null,null,null],[\"2017-02-17\",38.8,39.03,38.48,39.02,null,60583.0,2352961.0,null,null,null],[\"2017-02-16\",38.8,39.2,38.25,38.71,null,84682.0,3282322.0,null,null,null],[\"2017-02-15\",38.5,38.93,38.4,38.72,null,77420.0,2996861.0,null,null,null],[\"2017-02-14\",38.81,38.86,38.0,38.37,null,82601.0,3163898.0,null,null,null],[\"2017-02-13\",37.37,39.36,37.35,38.53,null,177171.0,6804028.0,null,null,null],[\"2017-02-10\",36.65,37.5,36.57,37.06,null,115843.0,4291017.0,null,null,null],[\"2017-02-09\",36.2,36.25,35.77,36.25,null,67781.0,2445428.0,null,null,null],[\"2017-02-08\",35.98,36.14,35.84,36.05,null,39731.0,1431205.0,null,null,null],[\"2017-02-07\",35.56,36.05,35.36,35.89,null,67410.0,2410818.0,null,null,null],[\"2017-02-06\",36.06,36.15,35.6,35.64,null,41911.0,1496794.0,null,null,null],[\"2017-02-03\",36.02,36.2,35.73,36.1,null,40705.0,1464712.0,null,null,null],[\"2017-02-02\",35.95,36.2,35.7,36.07,null,54279.0,1953176.0,null,null,null],[\"2017-02-01\",34.75,36.0,34.75,35.94,null,85137.0,3038172.0,null,null,null],[\"2017-01-31\",35.24,35.24,34.56,34.56,null,63371.0,2199583.0,null,null,null],[\"2017-01-30\",35.38,35.59,34.95,35.15,null,69603.0,2457762.0,null,null,null],[\"2017-01-27\",34.83,35.43,34.81,35.3,null,69657.0,2444913.0,null,null,null],[\"2017-01-26\",35.07,35.58,34.8,34.89,null,64103.0,2249375.0,null,null,null],[\"2017-01-25\",34.42,34.86,34.03,34.83,null,56240.0,1947147.0,null,null,null],[\"2017-01-24\",34.0,34.35,33.85,34.22,null,48797.0,1666086.0,null,null,null],[\"2017-01-23\",34.04,34.12,33.62,34.06,null,55333.0,1877957.0,null,null,null],[\"2017-01-20\",34.54,34.59,34.05,34.17,null,80246.0,2743474.0,null,null,null],[\"2017-01-19\",35.04,35.04,34.42,34.5,null,73105.0,2526731.0,null,null,null],[\"2017-01-18\",35.04,35.51,34.8,34.9,null,65931.0,2311608.0,null,null,null],[\"2017-01-17\",35.06,35.19,34.79,34.99,null,39195.0,1369857.0,null,null,null],[\"2017-01-16\",34.85,35.24,34.56,35.07,null,47879.0,1678679.0,null,null,null],[\"2017-01-13\",34.98,34.98,34.6,34.85,null,59367.0,2065534.0,null,null,null],[\"2017-01-12\",35.38,35.38,34.31,34.9,null,163860.0,5703427.0,null,null,null],[\"2017-01-11\",34.95,36.0,34.84,35.42,null,123530.0,4369079.0,null,null,null],[\"2017-01-10\",34.8,34.98,34.46,34.91,null,43976.0,1528055.0,null,null,null],[\"2017-01-09\",35.29,35.35,34.43,34.67,null,62225.0,2157182.0,null,null,null],[\"2017-01-06\",34.91,35.21,34.91,35.04,null,27507.0,964046.0,null,null,null],[\"2017-01-05\",35.02,35.2,34.73,35.06,null,48412.0,1692326.0,null,null,null],[\"2017-01-04\",35.48,35.51,34.75,35.19,null,54408.0,1906810.0,null,null,null],[\"2017-01-03\",35.9,35.93,35.34,35.48,null,70618.0,2515473.0,null,null,null],[\"2017-01-02\",34.99,35.94,34.99,35.8,null,44700.0,1590561.0,null,null,null]],\"collapse\":null,\"order\":null}}\n"
     ]
    }
   ],
   "source": [
    "r1.text\n",
    "process_answer(r1.text, print_output=True)"
   ]
  },
  {
   "cell_type": "markdown",
   "source": [
    "# 2. Convert the returned JSON object into a Python dictionary."
   ],
   "metadata": {
    "collapsed": false,
    "pycharm": {
     "name": "#%% md\n"
    }
   }
  },
  {
   "cell_type": "code",
   "execution_count": 80,
   "outputs": [
    {
     "name": "stdout",
     "output_type": "stream",
     "text": [
      "<class 'requests.models.Response'>\n",
      "<class 'str'>\n"
     ]
    }
   ],
   "source": [
    "print(type(r1))\n",
    "print(type(r1.text))"
   ],
   "metadata": {
    "collapsed": false,
    "pycharm": {
     "name": "#%%\n"
    }
   }
  },
  {
   "cell_type": "code",
   "execution_count": 81,
   "metadata": {
    "pycharm": {
     "name": "#%%\n"
    }
   },
   "outputs": [
    {
     "data": {
      "text/plain": "{'dataset_data': {'limit': None,\n  'transform': None,\n  'column_index': None,\n  'column_names': ['Date',\n   'Open',\n   'High',\n   'Low',\n   'Close',\n   'Change',\n   'Traded Volume',\n   'Turnover',\n   'Last Price of the Day',\n   'Daily Traded Units',\n   'Daily Turnover'],\n  'start_date': '2017-01-01',\n  'end_date': '2017-12-31',\n  'frequency': 'daily',\n  'data': [['2017-12-29',\n    51.76,\n    51.94,\n    51.45,\n    51.76,\n    None,\n    34640.0,\n    1792304.0,\n    None,\n    None,\n    None],\n   ['2017-12-28',\n    51.65,\n    51.82,\n    51.43,\n    51.6,\n    None,\n    40660.0,\n    2099024.0,\n    None,\n    None,\n    None],\n   ['2017-12-27',\n    51.45,\n    51.89,\n    50.76,\n    51.82,\n    None,\n    57452.0,\n    2957018.0,\n    None,\n    None,\n    None],\n   ['2017-12-22',\n    51.05,\n    51.5,\n    50.92,\n    51.32,\n    None,\n    71165.0,\n    3641949.0,\n    None,\n    None,\n    None],\n   ['2017-12-21',\n    51.16,\n    51.52,\n    50.9,\n    51.4,\n    None,\n    120649.0,\n    6179433.0,\n    None,\n    None,\n    None],\n   ['2017-12-20',\n    51.88,\n    52.04,\n    51.2,\n    51.27,\n    None,\n    50587.0,\n    2610258.0,\n    None,\n    None,\n    None],\n   ['2017-12-19',\n    52.73,\n    52.73,\n    51.07,\n    51.66,\n    None,\n    137313.0,\n    7102361.0,\n    None,\n    None,\n    None],\n   ['2017-12-18',\n    52.37,\n    52.75,\n    51.61,\n    52.62,\n    None,\n    129733.0,\n    6770499.0,\n    None,\n    None,\n    None],\n   ['2017-12-15',\n    52.7,\n    52.7,\n    51.64,\n    52.01,\n    None,\n    204080.0,\n    10596319.0,\n    None,\n    None,\n    None],\n   ['2017-12-14',\n    53.11,\n    53.54,\n    52.15,\n    52.67,\n    None,\n    132981.0,\n    7016953.0,\n    None,\n    None,\n    None],\n   ['2017-12-13',\n    52.64,\n    53.35,\n    52.48,\n    53.09,\n    None,\n    128434.0,\n    6801159.0,\n    None,\n    None,\n    None],\n   ['2017-12-12',\n    52.29,\n    53.1,\n    51.82,\n    52.43,\n    None,\n    87911.0,\n    4615924.0,\n    None,\n    None,\n    None],\n   ['2017-12-11',\n    52.28,\n    52.45,\n    51.26,\n    52.14,\n    None,\n    71817.0,\n    3724193.0,\n    None,\n    None,\n    None],\n   ['2017-12-08',\n    51.5,\n    52.83,\n    51.28,\n    52.12,\n    None,\n    109157.0,\n    5690648.0,\n    None,\n    None,\n    None],\n   ['2017-12-07',\n    50.89,\n    51.47,\n    50.81,\n    51.47,\n    None,\n    48123.0,\n    2463848.0,\n    None,\n    None,\n    None],\n   ['2017-12-06',\n    50.8,\n    51.11,\n    50.39,\n    50.89,\n    None,\n    88730.0,\n    4504075.0,\n    None,\n    None,\n    None],\n   ['2017-12-05',\n    51.21,\n    51.38,\n    50.4,\n    51.25,\n    None,\n    83023.0,\n    4231971.0,\n    None,\n    None,\n    None],\n   ['2017-12-04',\n    49.5,\n    51.23,\n    49.5,\n    51.14,\n    None,\n    94385.0,\n    4800027.0,\n    None,\n    None,\n    None],\n   ['2017-12-01',\n    49.52,\n    50.49,\n    49.17,\n    49.86,\n    None,\n    101733.0,\n    5065932.0,\n    None,\n    None,\n    None],\n   ['2017-11-30',\n    48.64,\n    49.84,\n    48.28,\n    49.7,\n    None,\n    123019.0,\n    6085171.0,\n    None,\n    None,\n    None],\n   ['2017-11-29',\n    49.64,\n    49.64,\n    48.7,\n    48.75,\n    None,\n    67342.0,\n    3292223.0,\n    None,\n    None,\n    None],\n   ['2017-11-28',\n    49.09,\n    49.89,\n    49.03,\n    49.25,\n    None,\n    42669.0,\n    2107358.0,\n    None,\n    None,\n    None],\n   ['2017-11-27',\n    49.13,\n    49.73,\n    48.96,\n    49.2,\n    None,\n    102180.0,\n    5055762.0,\n    None,\n    None,\n    None],\n   ['2017-11-24',\n    49.11,\n    49.41,\n    48.87,\n    49.11,\n    None,\n    50350.0,\n    2472842.0,\n    None,\n    None,\n    None],\n   ['2017-11-23',\n    48.8,\n    49.46,\n    48.45,\n    49.2,\n    None,\n    38834.0,\n    1909352.0,\n    None,\n    None,\n    None],\n   ['2017-11-22',\n    48.4,\n    49.61,\n    48.39,\n    48.8,\n    None,\n    91142.0,\n    4478093.0,\n    None,\n    None,\n    None],\n   ['2017-11-21',\n    47.25,\n    48.59,\n    46.78,\n    48.39,\n    None,\n    78502.0,\n    3782098.0,\n    None,\n    None,\n    None],\n   ['2017-11-20',\n    46.57,\n    47.38,\n    46.54,\n    47.04,\n    None,\n    97252.0,\n    4563515.0,\n    None,\n    None,\n    None],\n   ['2017-11-17',\n    47.03,\n    47.15,\n    46.8,\n    46.84,\n    None,\n    54107.0,\n    2540820.0,\n    None,\n    None,\n    None],\n   ['2017-11-16',\n    47.09,\n    47.23,\n    46.55,\n    47.03,\n    None,\n    89373.0,\n    4195732.0,\n    None,\n    None,\n    None],\n   ['2017-11-15',\n    47.98,\n    48.01,\n    46.75,\n    47.05,\n    None,\n    67593.0,\n    3188321.0,\n    None,\n    None,\n    None],\n   ['2017-11-14',\n    48.4,\n    48.9,\n    47.84,\n    48.0,\n    None,\n    67672.0,\n    3259979.0,\n    None,\n    None,\n    None],\n   ['2017-11-13',\n    48.38,\n    48.61,\n    47.76,\n    48.34,\n    None,\n    76286.0,\n    3681337.0,\n    None,\n    None,\n    None],\n   ['2017-11-10',\n    47.3,\n    48.89,\n    47.16,\n    48.34,\n    None,\n    90245.0,\n    4361552.0,\n    None,\n    None,\n    None],\n   ['2017-11-09',\n    47.65,\n    48.06,\n    47.09,\n    47.21,\n    None,\n    120268.0,\n    5712034.0,\n    None,\n    None,\n    None],\n   ['2017-11-08',\n    46.42,\n    47.72,\n    46.42,\n    47.47,\n    None,\n    94195.0,\n    4463935.0,\n    None,\n    None,\n    None],\n   ['2017-11-07',\n    46.16,\n    46.33,\n    45.84,\n    46.26,\n    None,\n    48152.0,\n    2224221.0,\n    None,\n    None,\n    None],\n   ['2017-11-06',\n    45.81,\n    46.09,\n    45.76,\n    45.99,\n    None,\n    60716.0,\n    2789220.0,\n    None,\n    None,\n    None],\n   ['2017-11-03',\n    45.0,\n    46.04,\n    44.83,\n    45.97,\n    None,\n    56911.0,\n    2603498.0,\n    None,\n    None,\n    None],\n   ['2017-11-02',\n    45.88,\n    46.06,\n    45.18,\n    45.27,\n    None,\n    37958.0,\n    1724840.0,\n    None,\n    None,\n    None],\n   ['2017-11-01',\n    46.29,\n    46.55,\n    45.97,\n    46.04,\n    None,\n    56319.0,\n    2603859.0,\n    None,\n    None,\n    None],\n   ['2017-10-30',\n    46.53,\n    46.65,\n    45.61,\n    45.76,\n    None,\n    56245.0,\n    2585397.0,\n    None,\n    None,\n    None],\n   ['2017-10-27',\n    45.48,\n    46.42,\n    45.46,\n    46.41,\n    None,\n    74472.0,\n    3434087.0,\n    None,\n    None,\n    None],\n   ['2017-10-26',\n    45.2,\n    45.41,\n    44.91,\n    45.41,\n    None,\n    56319.0,\n    2548078.0,\n    None,\n    None,\n    None],\n   ['2017-10-25',\n    45.01,\n    45.06,\n    44.7,\n    45.0,\n    None,\n    47730.0,\n    2145697.0,\n    None,\n    None,\n    None],\n   ['2017-10-24',\n    45.16,\n    45.27,\n    44.75,\n    44.85,\n    None,\n    43042.0,\n    1937616.0,\n    None,\n    None,\n    None],\n   ['2017-10-23',\n    44.9,\n    45.34,\n    44.89,\n    45.0,\n    None,\n    43375.0,\n    1952918.0,\n    None,\n    None,\n    None],\n   ['2017-10-20',\n    45.08,\n    45.34,\n    44.76,\n    44.87,\n    None,\n    55707.0,\n    2503853.0,\n    None,\n    None,\n    None],\n   ['2017-10-19',\n    45.72,\n    45.85,\n    44.79,\n    45.0,\n    None,\n    59991.0,\n    2703085.0,\n    None,\n    None,\n    None],\n   ['2017-10-18',\n    46.01,\n    46.2,\n    45.61,\n    45.77,\n    None,\n    45263.0,\n    2076951.0,\n    None,\n    None,\n    None],\n   ['2017-10-17',\n    45.8,\n    46.06,\n    45.37,\n    45.96,\n    None,\n    65837.0,\n    3014080.0,\n    None,\n    None,\n    None],\n   ['2017-10-16',\n    45.61,\n    45.75,\n    45.3,\n    45.55,\n    None,\n    49246.0,\n    2243129.0,\n    None,\n    None,\n    None],\n   ['2017-10-13',\n    45.5,\n    45.7,\n    45.37,\n    45.4,\n    None,\n    43362.0,\n    1971801.0,\n    None,\n    None,\n    None],\n   ['2017-10-12',\n    45.58,\n    45.58,\n    45.17,\n    45.43,\n    None,\n    49180.0,\n    2233481.0,\n    None,\n    None,\n    None],\n   ['2017-10-11',\n    45.97,\n    45.97,\n    45.25,\n    45.29,\n    None,\n    69455.0,\n    3158321.0,\n    None,\n    None,\n    None],\n   ['2017-10-10',\n    45.64,\n    46.04,\n    45.57,\n    45.84,\n    None,\n    65860.0,\n    3016658.0,\n    None,\n    None,\n    None],\n   ['2017-10-09',\n    46.2,\n    46.2,\n    45.6,\n    45.74,\n    None,\n    44059.0,\n    2015453.0,\n    None,\n    None,\n    None],\n   ['2017-10-06',\n    46.19,\n    46.19,\n    45.69,\n    46.0,\n    None,\n    66760.0,\n    3066198.0,\n    None,\n    None,\n    None],\n   ['2017-10-05',\n    46.01,\n    46.09,\n    45.63,\n    46.05,\n    None,\n    94804.0,\n    4352002.0,\n    None,\n    None,\n    None],\n   ['2017-10-04',\n    45.36,\n    46.17,\n    45.22,\n    46.11,\n    None,\n    115706.0,\n    5313199.0,\n    None,\n    None,\n    None],\n   ['2017-10-02',\n    44.51,\n    44.98,\n    44.18,\n    44.98,\n    None,\n    95313.0,\n    4265024.0,\n    None,\n    None,\n    None],\n   ['2017-09-29',\n    43.58,\n    44.17,\n    43.3,\n    44.17,\n    None,\n    99821.0,\n    4384796.0,\n    None,\n    None,\n    None],\n   ['2017-09-28',\n    42.0,\n    43.56,\n    42.0,\n    43.56,\n    None,\n    157234.0,\n    6775569.0,\n    None,\n    None,\n    None],\n   ['2017-09-27',\n    42.35,\n    42.49,\n    41.78,\n    42.04,\n    None,\n    76600.0,\n    3219861.0,\n    None,\n    None,\n    None],\n   ['2017-09-26',\n    42.3,\n    42.57,\n    42.11,\n    42.37,\n    None,\n    51321.0,\n    2175381.0,\n    None,\n    None,\n    None],\n   ['2017-09-25',\n    42.3,\n    42.3,\n    41.96,\n    42.07,\n    None,\n    56224.0,\n    2366453.0,\n    None,\n    None,\n    None],\n   ['2017-09-22',\n    41.48,\n    42.38,\n    41.48,\n    42.06,\n    None,\n    79955.0,\n    3362517.0,\n    None,\n    None,\n    None],\n   ['2017-09-21',\n    42.29,\n    42.29,\n    41.39,\n    41.46,\n    None,\n    105194.0,\n    4378409.0,\n    None,\n    None,\n    None],\n   ['2017-09-20',\n    42.54,\n    42.54,\n    41.99,\n    41.99,\n    None,\n    57838.0,\n    2440557.0,\n    None,\n    None,\n    None],\n   ['2017-09-19',\n    42.65,\n    42.65,\n    42.13,\n    42.44,\n    None,\n    65546.0,\n    2777065.0,\n    None,\n    None,\n    None],\n   ['2017-09-18',\n    42.5,\n    42.63,\n    42.23,\n    42.27,\n    None,\n    44037.0,\n    1864954.0,\n    None,\n    None,\n    None],\n   ['2017-09-15',\n    42.29,\n    42.81,\n    42.25,\n    42.42,\n    None,\n    107144.0,\n    4555791.0,\n    None,\n    None,\n    None],\n   ['2017-09-14',\n    42.35,\n    42.8,\n    42.35,\n    42.52,\n    None,\n    65157.0,\n    2770696.0,\n    None,\n    None,\n    None],\n   ['2017-09-13',\n    42.49,\n    42.69,\n    42.22,\n    42.45,\n    None,\n    68801.0,\n    2921240.0,\n    None,\n    None,\n    None],\n   ['2017-09-12',\n    43.21,\n    43.34,\n    42.62,\n    42.73,\n    None,\n    52828.0,\n    2259924.0,\n    None,\n    None,\n    None],\n   ['2017-09-11',\n    42.81,\n    42.89,\n    42.56,\n    42.85,\n    None,\n    103273.0,\n    4415614.0,\n    None,\n    None,\n    None],\n   ['2017-09-08',\n    42.7,\n    42.75,\n    42.56,\n    42.67,\n    None,\n    59881.0,\n    2553977.0,\n    None,\n    None,\n    None],\n   ['2017-09-07',\n    43.0,\n    43.02,\n    42.67,\n    42.77,\n    None,\n    64320.0,\n    2751388.0,\n    None,\n    None,\n    None],\n   ['2017-09-06',\n    42.66,\n    42.71,\n    42.34,\n    42.55,\n    None,\n    71006.0,\n    3020229.0,\n    None,\n    None,\n    None],\n   ['2017-09-05',\n    43.0,\n    43.19,\n    42.55,\n    42.62,\n    None,\n    66351.0,\n    2846115.0,\n    None,\n    None,\n    None],\n   ['2017-09-04',\n    42.38,\n    42.75,\n    41.95,\n    42.6,\n    None,\n    105288.0,\n    4471634.0,\n    None,\n    None,\n    None],\n   ['2017-09-01',\n    42.16,\n    43.06,\n    42.07,\n    42.41,\n    None,\n    151474.0,\n    6453558.0,\n    None,\n    None,\n    None],\n   ['2017-08-31',\n    42.0,\n    42.08,\n    41.12,\n    41.9,\n    None,\n    157888.0,\n    6580200.0,\n    None,\n    None,\n    None],\n   ['2017-08-30',\n    42.0,\n    42.2,\n    41.49,\n    41.94,\n    None,\n    97804.0,\n    4090262.0,\n    None,\n    None,\n    None],\n   ['2017-08-29',\n    41.71,\n    41.98,\n    41.33,\n    41.85,\n    None,\n    98156.0,\n    4094452.0,\n    None,\n    None,\n    None],\n   ['2017-08-28',\n    42.11,\n    42.25,\n    41.86,\n    41.91,\n    None,\n    47130.0,\n    1978704.0,\n    None,\n    None,\n    None],\n   ['2017-08-25',\n    42.64,\n    42.64,\n    42.05,\n    42.14,\n    None,\n    69734.0,\n    2948016.0,\n    None,\n    None,\n    None],\n   ['2017-08-24',\n    42.72,\n    43.05,\n    42.63,\n    42.69,\n    None,\n    65213.0,\n    2792319.0,\n    None,\n    None,\n    None],\n   ['2017-08-23',\n    42.82,\n    43.17,\n    42.6,\n    42.71,\n    None,\n    70269.0,\n    3011578.0,\n    None,\n    None,\n    None],\n   ['2017-08-22',\n    42.46,\n    42.96,\n    42.4,\n    42.71,\n    None,\n    95376.0,\n    4075646.0,\n    None,\n    None,\n    None],\n   ['2017-08-21',\n    42.42,\n    42.76,\n    42.2,\n    42.26,\n    None,\n    68812.0,\n    2922972.0,\n    None,\n    None,\n    None],\n   ['2017-08-18',\n    42.28,\n    42.6,\n    42.01,\n    42.41,\n    None,\n    72886.0,\n    3092377.0,\n    None,\n    None,\n    None],\n   ['2017-08-17',\n    41.88,\n    43.01,\n    41.76,\n    42.5,\n    None,\n    131361.0,\n    5583704.0,\n    None,\n    None,\n    None],\n   ['2017-08-16',\n    42.4,\n    42.62,\n    41.98,\n    42.05,\n    None,\n    104676.0,\n    4408312.0,\n    None,\n    None,\n    None],\n   ['2017-08-15',\n    42.53,\n    42.53,\n    42.2,\n    42.28,\n    None,\n    64334.0,\n    2721852.0,\n    None,\n    None,\n    None],\n   ['2017-08-14',\n    42.12,\n    42.69,\n    42.01,\n    42.3,\n    None,\n    127682.0,\n    5416963.0,\n    None,\n    None,\n    None],\n   ['2017-08-11',\n    41.3,\n    41.94,\n    40.96,\n    41.94,\n    None,\n    183412.0,\n    7604144.0,\n    None,\n    None,\n    None],\n   ['2017-08-10',\n    41.73,\n    41.99,\n    41.14,\n    41.68,\n    None,\n    175161.0,\n    7303562.0,\n    None,\n    None,\n    None],\n   ['2017-08-09',\n    43.5,\n    43.5,\n    41.64,\n    41.81,\n    None,\n    355857.0,\n    15003956.0,\n    None,\n    None,\n    None],\n   ['2017-08-08',\n    44.9,\n    45.09,\n    44.15,\n    44.37,\n    None,\n    156168.0,\n    6941408.0,\n    None,\n    None,\n    None],\n   ['2017-08-07',\n    45.85,\n    46.34,\n    44.02,\n    44.96,\n    None,\n    164543.0,\n    7378816.0,\n    None,\n    None,\n    None],\n   ['2017-08-04',\n    45.13,\n    45.13,\n    44.36,\n    45.07,\n    None,\n    96202.0,\n    4306911.0,\n    None,\n    None,\n    None],\n   ['2017-08-03',\n    45.34,\n    45.54,\n    44.91,\n    44.97,\n    None,\n    77854.0,\n    3517146.0,\n    None,\n    None,\n    None],\n   ['2017-08-02',\n    45.25,\n    45.77,\n    44.9,\n    45.56,\n    None,\n    187468.0,\n    8528548.0,\n    None,\n    None,\n    None],\n   ['2017-08-01',\n    45.24,\n    45.54,\n    45.1,\n    45.45,\n    None,\n    74975.0,\n    3399891.0,\n    None,\n    None,\n    None],\n   ['2017-07-31',\n    44.94,\n    45.75,\n    44.94,\n    45.3,\n    None,\n    62672.0,\n    2844210.0,\n    None,\n    None,\n    None],\n   ['2017-07-28',\n    45.26,\n    45.29,\n    44.75,\n    44.97,\n    None,\n    114006.0,\n    5127247.0,\n    None,\n    None,\n    None],\n   ['2017-07-27',\n    45.16,\n    45.45,\n    45.15,\n    45.25,\n    None,\n    50557.0,\n    2290284.0,\n    None,\n    None,\n    None],\n   ['2017-07-26',\n    44.91,\n    45.33,\n    44.46,\n    45.16,\n    None,\n    81970.0,\n    3688510.0,\n    None,\n    None,\n    None],\n   ['2017-07-25',\n    44.7,\n    45.04,\n    44.63,\n    44.82,\n    None,\n    112224.0,\n    5033312.0,\n    None,\n    None,\n    None],\n   ['2017-07-24',\n    45.31,\n    45.31,\n    44.49,\n    44.61,\n    None,\n    104282.0,\n    4661866.0,\n    None,\n    None,\n    None],\n   ['2017-07-21',\n    45.57,\n    45.88,\n    45.04,\n    45.44,\n    None,\n    73422.0,\n    3334695.0,\n    None,\n    None,\n    None],\n   ['2017-07-20',\n    45.74,\n    45.96,\n    45.23,\n    45.66,\n    None,\n    87399.0,\n    3986488.0,\n    None,\n    None,\n    None],\n   ['2017-07-19',\n    45.06,\n    45.72,\n    44.94,\n    45.57,\n    None,\n    71971.0,\n    3273001.0,\n    None,\n    None,\n    None],\n   ['2017-07-18',\n    45.5,\n    45.55,\n    44.7,\n    45.0,\n    None,\n    104003.0,\n    4684627.0,\n    None,\n    None,\n    None],\n   ['2017-07-17',\n    45.6,\n    46.23,\n    45.29,\n    45.6,\n    None,\n    104995.0,\n    4801806.0,\n    None,\n    None,\n    None],\n   ['2017-07-14',\n    45.07,\n    45.56,\n    44.83,\n    45.53,\n    None,\n    67375.0,\n    3054060.0,\n    None,\n    None,\n    None],\n   ['2017-07-13',\n    44.67,\n    45.18,\n    44.67,\n    44.95,\n    None,\n    82745.0,\n    3718928.0,\n    None,\n    None,\n    None],\n   ['2017-07-12',\n    44.29,\n    45.05,\n    43.89,\n    44.95,\n    None,\n    115705.0,\n    5133971.0,\n    None,\n    None,\n    None],\n   ['2017-07-11',\n    44.94,\n    44.94,\n    44.08,\n    44.2,\n    None,\n    90538.0,\n    4010457.0,\n    None,\n    None,\n    None],\n   ['2017-07-10',\n    44.64,\n    45.18,\n    44.51,\n    44.7,\n    None,\n    71868.0,\n    3221218.0,\n    None,\n    None,\n    None],\n   ['2017-07-07',\n    44.79,\n    44.79,\n    44.25,\n    44.53,\n    None,\n    47999.0,\n    2136578.0,\n    None,\n    None,\n    None],\n   ['2017-07-06',\n    45.5,\n    45.5,\n    44.15,\n    44.62,\n    None,\n    66116.0,\n    2952605.0,\n    None,\n    None,\n    None],\n   ['2017-07-05',\n    44.67,\n    45.36,\n    44.44,\n    45.19,\n    None,\n    48706.0,\n    2189436.0,\n    None,\n    None,\n    None],\n   ['2017-07-04',\n    45.83,\n    45.83,\n    44.74,\n    44.8,\n    None,\n    50549.0,\n    2273551.0,\n    None,\n    None,\n    None],\n   ['2017-07-03',\n    45.29,\n    45.83,\n    45.06,\n    45.75,\n    None,\n    71381.0,\n    3251502.0,\n    None,\n    None,\n    None],\n   ['2017-06-30',\n    45.01,\n    45.74,\n    45.0,\n    45.44,\n    None,\n    136112.0,\n    6187148.0,\n    None,\n    None,\n    None],\n   ['2017-06-29',\n    45.73,\n    45.81,\n    45.11,\n    45.2,\n    None,\n    134965.0,\n    6132452.0,\n    None,\n    None,\n    None],\n   ['2017-06-28',\n    46.68,\n    46.68,\n    45.41,\n    45.68,\n    None,\n    117165.0,\n    5381488.0,\n    None,\n    None,\n    None],\n   ['2017-06-27',\n    47.23,\n    47.33,\n    46.39,\n    46.83,\n    None,\n    82492.0,\n    3866344.0,\n    None,\n    None,\n    None],\n   ['2017-06-26',\n    46.95,\n    47.63,\n    46.91,\n    47.21,\n    None,\n    73322.0,\n    3465639.0,\n    None,\n    None,\n    None],\n   ['2017-06-23',\n    47.29,\n    47.4,\n    46.79,\n    46.99,\n    None,\n    80586.0,\n    3792498.0,\n    None,\n    None,\n    None],\n   ['2017-06-22',\n    47.03,\n    47.4,\n    46.75,\n    47.29,\n    None,\n    56071.0,\n    2640508.0,\n    None,\n    None,\n    None],\n   ['2017-06-21',\n    47.46,\n    47.48,\n    46.53,\n    46.99,\n    None,\n    89752.0,\n    4206563.0,\n    None,\n    None,\n    None],\n   ['2017-06-20',\n    46.48,\n    47.43,\n    46.27,\n    47.37,\n    None,\n    108334.0,\n    5109730.0,\n    None,\n    None,\n    None],\n   ['2017-06-19',\n    46.9,\n    46.9,\n    46.25,\n    46.64,\n    None,\n    70056.0,\n    3260381.0,\n    None,\n    None,\n    None],\n   ['2017-06-16',\n    45.66,\n    46.8,\n    45.66,\n    46.63,\n    None,\n    202214.0,\n    9411695.0,\n    None,\n    None,\n    None],\n   ['2017-06-15',\n    46.34,\n    46.34,\n    45.21,\n    45.67,\n    None,\n    101733.0,\n    4635593.0,\n    None,\n    None,\n    None],\n   ['2017-06-14',\n    46.52,\n    46.86,\n    46.05,\n    46.33,\n    None,\n    83741.0,\n    3881453.0,\n    None,\n    None,\n    None],\n   ['2017-06-13',\n    46.5,\n    46.51,\n    46.03,\n    46.32,\n    None,\n    107644.0,\n    4981185.0,\n    None,\n    None,\n    None],\n   ['2017-06-12',\n    47.31,\n    47.43,\n    45.89,\n    46.31,\n    None,\n    112942.0,\n    5238390.0,\n    None,\n    None,\n    None],\n   ['2017-06-09',\n    46.77,\n    47.44,\n    46.55,\n    47.44,\n    None,\n    99674.0,\n    4702170.0,\n    None,\n    None,\n    None],\n   ['2017-06-08',\n    47.8,\n    47.8,\n    46.27,\n    46.27,\n    None,\n    1945.0,\n    90599.0,\n    None,\n    None,\n    None],\n   ['2017-06-07',\n    47.01,\n    47.43,\n    47.01,\n    47.43,\n    None,\n    1081.0,\n    51021.0,\n    None,\n    None,\n    None],\n   ['2017-06-06',\n    47.12,\n    47.45,\n    46.21,\n    47.43,\n    None,\n    686.0,\n    32083.0,\n    None,\n    None,\n    None],\n   ['2017-06-02',\n    46.8,\n    46.99,\n    46.72,\n    46.99,\n    None,\n    290.0,\n    13584.0,\n    None,\n    None,\n    None],\n   ['2017-06-01',\n    46.12,\n    46.52,\n    45.89,\n    46.52,\n    None,\n    106513.0,\n    4930686.0,\n    None,\n    None,\n    None],\n   ['2017-05-31',\n    45.22,\n    46.26,\n    45.22,\n    45.86,\n    None,\n    522.0,\n    24044.0,\n    None,\n    None,\n    None],\n   ['2017-05-30',\n    45.05,\n    46.02,\n    45.05,\n    46.02,\n    None,\n    587.0,\n    26792.0,\n    None,\n    None,\n    None],\n   ['2017-05-29',\n    45.61,\n    45.61,\n    45.24,\n    45.32,\n    None,\n    112.0,\n    5089.0,\n    None,\n    None,\n    None],\n   ['2017-05-26',\n    44.8,\n    45.36,\n    44.71,\n    45.3,\n    None,\n    74453.0,\n    3360707.0,\n    None,\n    None,\n    None],\n   ['2017-05-25',\n    44.8,\n    44.87,\n    44.29,\n    44.78,\n    None,\n    49970.0,\n    2231857.0,\n    None,\n    None,\n    None],\n   ['2017-05-24',\n    43.92,\n    44.67,\n    43.92,\n    44.53,\n    None,\n    111923.0,\n    4971343.0,\n    None,\n    None,\n    None],\n   ['2017-05-23',\n    43.67,\n    44.13,\n    43.55,\n    43.9,\n    None,\n    38308.0,\n    1681904.0,\n    None,\n    None,\n    None],\n   ['2017-05-22',\n    44.16,\n    44.22,\n    43.44,\n    43.84,\n    None,\n    70856.0,\n    3103013.0,\n    None,\n    None,\n    None],\n   ['2017-05-19',\n    43.74,\n    44.12,\n    43.74,\n    44.12,\n    None,\n    45.0,\n    1980.0,\n    None,\n    None,\n    None],\n   ['2017-05-18',\n    44.0,\n    44.3,\n    43.29,\n    43.98,\n    None,\n    166160.0,\n    7277314.0,\n    None,\n    None,\n    None],\n   ['2017-05-17',\n    45.06,\n    45.34,\n    44.01,\n    44.19,\n    None,\n    149515.0,\n    6664744.0,\n    None,\n    None,\n    None],\n   ['2017-05-16',\n    45.15,\n    45.36,\n    44.56,\n    45.31,\n    None,\n    101476.0,\n    4567885.0,\n    None,\n    None,\n    None],\n   ['2017-05-15',\n    45.09,\n    45.78,\n    44.31,\n    45.14,\n    None,\n    193702.0,\n    8734286.0,\n    None,\n    None,\n    None],\n   ['2017-05-12',\n    45.18,\n    45.18,\n    44.16,\n    44.99,\n    None,\n    159495.0,\n    7113519.0,\n    None,\n    None,\n    None],\n   ['2017-05-11',\n    43.4,\n    46.06,\n    43.25,\n    45.0,\n    None,\n    189125.0,\n    8496322.0,\n    None,\n    None,\n    None],\n   ['2017-05-10',\n    43.5,\n    43.6,\n    42.53,\n    43.28,\n    None,\n    91858.0,\n    3958630.0,\n    None,\n    None,\n    None],\n   ['2017-05-09',\n    41.83,\n    43.55,\n    41.82,\n    43.3,\n    None,\n    151439.0,\n    6538516.0,\n    None,\n    None,\n    None],\n   ['2017-05-08',\n    43.0,\n    43.0,\n    42.04,\n    42.24,\n    None,\n    97456.0,\n    4128048.0,\n    None,\n    None,\n    None],\n   ['2017-05-05',\n    42.52,\n    42.91,\n    42.38,\n    42.75,\n    None,\n    78512.0,\n    3353971.0,\n    None,\n    None,\n    None],\n   ['2017-05-04',\n    41.86,\n    42.5,\n    41.71,\n    42.5,\n    None,\n    82058.0,\n    3465505.0,\n    None,\n    None,\n    None],\n   ['2017-05-03',\n    42.2,\n    42.29,\n    41.78,\n    41.9,\n    None,\n    65266.0,\n    2738394.0,\n    None,\n    None,\n    None],\n   ['2017-05-02',\n    41.89,\n    42.23,\n    41.76,\n    42.15,\n    None,\n    86559.0,\n    3636583.0,\n    None,\n    None,\n    None],\n   ['2017-05-01',\n    None,\n    42.245,\n    41.655,\n    41.72,\n    -0.44,\n    86348.0,\n    3606589.0,\n    None,\n    None,\n    None],\n   ['2017-04-28',\n    42.17,\n    42.25,\n    41.66,\n    41.72,\n    None,\n    86348.0,\n    3606589.0,\n    None,\n    None,\n    None],\n   ['2017-04-27',\n    41.51,\n    42.24,\n    41.51,\n    42.16,\n    None,\n    151683.0,\n    6380639.0,\n    None,\n    None,\n    None],\n   ['2017-04-26',\n    41.88,\n    41.94,\n    41.4,\n    41.5,\n    None,\n    65847.0,\n    2743109.0,\n    None,\n    None,\n    None],\n   ['2017-04-25',\n    41.93,\n    42.18,\n    41.66,\n    41.89,\n    None,\n    85973.0,\n    3604204.0,\n    None,\n    None,\n    None],\n   ['2017-04-24',\n    42.01,\n    42.02,\n    41.23,\n    41.81,\n    None,\n    102084.0,\n    4247032.0,\n    None,\n    None,\n    None],\n   ['2017-04-21',\n    41.97,\n    42.14,\n    41.01,\n    41.32,\n    None,\n    186784.0,\n    7728103.0,\n    None,\n    None,\n    None],\n   ['2017-04-20',\n    42.5,\n    42.64,\n    41.52,\n    41.93,\n    None,\n    223621.0,\n    9418192.0,\n    None,\n    None,\n    None],\n   ['2017-04-19',\n    41.94,\n    42.61,\n    41.94,\n    42.61,\n    None,\n    92722.0,\n    3930856.0,\n    None,\n    None,\n    None],\n   ['2017-04-18',\n    42.24,\n    42.4,\n    41.54,\n    42.0,\n    None,\n    133057.0,\n    5587565.0,\n    None,\n    None,\n    None],\n   ['2017-04-17',\n    None,\n    42.48,\n    41.985,\n    42.2,\n    None,\n    88416.0,\n    3734717.0,\n    None,\n    None,\n    None],\n   ['2017-04-14',\n    None,\n    42.48,\n    41.985,\n    42.2,\n    None,\n    88416.0,\n    3734717.0,\n    None,\n    None,\n    None],\n   ['2017-04-13',\n    42.06,\n    42.48,\n    41.99,\n    42.2,\n    None,\n    88416.0,\n    3734717.0,\n    None,\n    None,\n    None],\n   ['2017-04-12',\n    42.02,\n    42.45,\n    41.84,\n    42.2,\n    None,\n    158278.0,\n    6672547.0,\n    None,\n    None,\n    None],\n   ['2017-04-11',\n    41.62,\n    42.03,\n    41.53,\n    41.75,\n    None,\n    107817.0,\n    4501109.0,\n    None,\n    None,\n    None],\n   ['2017-04-10',\n    41.46,\n    41.68,\n    41.31,\n    41.68,\n    None,\n    62297.0,\n    2585922.0,\n    None,\n    None,\n    None],\n   ['2017-04-07',\n    40.9,\n    41.42,\n    40.84,\n    41.42,\n    None,\n    81255.0,\n    3344628.0,\n    None,\n    None,\n    None],\n   ['2017-04-06',\n    40.96,\n    41.25,\n    40.83,\n    41.05,\n    None,\n    96794.0,\n    3968681.0,\n    None,\n    None,\n    None],\n   ['2017-04-05',\n    41.1,\n    41.34,\n    40.79,\n    41.1,\n    None,\n    156005.0,\n    6404780.0,\n    None,\n    None,\n    None],\n   ['2017-04-04',\n    39.5,\n    40.88,\n    39.48,\n    40.81,\n    None,\n    193156.0,\n    7822665.0,\n    None,\n    None,\n    None],\n   ['2017-04-03',\n    40.15,\n    40.15,\n    39.54,\n    39.64,\n    None,\n    127973.0,\n    5081376.0,\n    None,\n    None,\n    None],\n   ['2017-03-31',\n    39.77,\n    40.07,\n    39.42,\n    39.98,\n    None,\n    95382.0,\n    3795061.0,\n    None,\n    None,\n    None],\n   ['2017-03-30',\n    40.02,\n    40.14,\n    39.42,\n    39.75,\n    None,\n    189201.0,\n    7541354.0,\n    None,\n    None,\n    None],\n   ['2017-03-29',\n    39.39,\n    40.01,\n    39.05,\n    40.01,\n    None,\n    335406.0,\n    13349426.0,\n    None,\n    None,\n    None],\n   ['2017-03-28',\n    38.95,\n    39.35,\n    38.79,\n    39.22,\n    None,\n    115075.0,\n    4505494.0,\n    None,\n    None,\n    None],\n   ['2017-03-27',\n    38.73,\n    39.1,\n    38.53,\n    38.85,\n    None,\n    191515.0,\n    7446952.0,\n    None,\n    None,\n    None],\n   ['2017-03-24',\n    38.94,\n    39.02,\n    38.6,\n    38.94,\n    None,\n    210926.0,\n    8205507.0,\n    None,\n    None,\n    None],\n   ['2017-03-23',\n    39.01,\n    39.25,\n    38.63,\n    38.96,\n    None,\n    169971.0,\n    6621807.0,\n    None,\n    None,\n    None],\n   ['2017-03-22',\n    38.25,\n    39.02,\n    37.53,\n    38.94,\n    None,\n    670349.0,\n    25910543.0,\n    None,\n    None,\n    None],\n   ['2017-03-21',\n    41.8,\n    41.83,\n    40.97,\n    40.98,\n    None,\n    56906.0,\n    2349965.0,\n    None,\n    None,\n    None],\n   ['2017-03-20',\n    41.26,\n    42.17,\n    41.26,\n    41.97,\n    None,\n    97572.0,\n    4074891.0,\n    None,\n    None,\n    None],\n   ['2017-03-17',\n    41.47,\n    41.59,\n    41.16,\n    41.34,\n    None,\n    90109.0,\n    3734232.0,\n    None,\n    None,\n    None],\n   ['2017-03-16',\n    41.4,\n    41.57,\n    41.09,\n    41.46,\n    None,\n    55799.0,\n    2308423.0,\n    None,\n    None,\n    None],\n   ['2017-03-15',\n    41.4,\n    41.5,\n    40.91,\n    41.25,\n    None,\n    60324.0,\n    2488650.0,\n    None,\n    None,\n    None],\n   ['2017-03-14',\n    41.2,\n    41.5,\n    41.2,\n    41.3,\n    None,\n    60420.0,\n    2498025.0,\n    None,\n    None,\n    None],\n   ['2017-03-13',\n    41.4,\n    41.46,\n    41.08,\n    41.3,\n    None,\n    44803.0,\n    1850251.0,\n    None,\n    None,\n    None],\n   ['2017-03-10',\n    41.53,\n    41.53,\n    41.16,\n    41.4,\n    None,\n    38518.0,\n    1592270.0,\n    None,\n    None,\n    None],\n   ['2017-03-09',\n    41.61,\n    41.61,\n    41.16,\n    41.4,\n    None,\n    43988.0,\n    1819182.0,\n    None,\n    None,\n    None],\n   ['2017-03-08',\n    41.13,\n    41.71,\n    40.95,\n    41.68,\n    None,\n    45111.0,\n    1870935.0,\n    None,\n    None,\n    None],\n   ['2017-03-07',\n    41.5,\n    41.8,\n    41.25,\n    41.42,\n    None,\n    61925.0,\n    2569608.0,\n    None,\n    None,\n    None],\n   ['2017-03-06',\n    41.25,\n    41.4,\n    40.81,\n    41.4,\n    None,\n    46510.0,\n    1916799.0,\n    None,\n    None,\n    None],\n   ['2017-03-03',\n    41.12,\n    41.22,\n    40.84,\n    41.18,\n    None,\n    40800.0,\n    1675587.0,\n    None,\n    None,\n    None],\n   ['2017-03-02',\n    41.38,\n    41.39,\n    40.76,\n    41.17,\n    None,\n    49863.0,\n    2048153.0,\n    None,\n    None,\n    None],\n   ['2017-03-01',\n    41.19,\n    41.57,\n    40.9,\n    41.2,\n    None,\n    86753.0,\n    3569796.0,\n    None,\n    None,\n    None],\n   ['2017-02-28',\n    40.38,\n    40.95,\n    40.38,\n    40.84,\n    None,\n    67440.0,\n    2747011.0,\n    None,\n    None,\n    None],\n   ['2017-02-27',\n    39.75,\n    40.64,\n    39.75,\n    40.39,\n    None,\n    62655.0,\n    2520260.0,\n    None,\n    None,\n    None],\n   ['2017-02-24',\n    39.77,\n    40.14,\n    38.91,\n    39.74,\n    None,\n    101294.0,\n    4015150.0,\n    None,\n    None,\n    None],\n   ['2017-02-23',\n    39.72,\n    39.98,\n    39.38,\n    39.79,\n    None,\n    81945.0,\n    3260642.0,\n    None,\n    None,\n    None],\n   ['2017-02-22',\n    39.6,\n    39.75,\n    39.27,\n    39.7,\n    None,\n    77619.0,\n    3066894.0,\n    None,\n    None,\n    None],\n   ['2017-02-21',\n    38.85,\n    39.57,\n    38.85,\n    39.45,\n    None,\n    46070.0,\n    1808350.0,\n    None,\n    None,\n    None],\n   ['2017-02-20',\n    39.25,\n    39.25,\n    38.81,\n    38.98,\n    None,\n    37014.0,\n    1444138.0,\n    None,\n    None,\n    None],\n   ['2017-02-17',\n    38.8,\n    39.03,\n    38.48,\n    39.02,\n    None,\n    60583.0,\n    2352961.0,\n    None,\n    None,\n    None],\n   ['2017-02-16',\n    38.8,\n    39.2,\n    38.25,\n    38.71,\n    None,\n    84682.0,\n    3282322.0,\n    None,\n    None,\n    None],\n   ['2017-02-15',\n    38.5,\n    38.93,\n    38.4,\n    38.72,\n    None,\n    77420.0,\n    2996861.0,\n    None,\n    None,\n    None],\n   ['2017-02-14',\n    38.81,\n    38.86,\n    38.0,\n    38.37,\n    None,\n    82601.0,\n    3163898.0,\n    None,\n    None,\n    None],\n   ['2017-02-13',\n    37.37,\n    39.36,\n    37.35,\n    38.53,\n    None,\n    177171.0,\n    6804028.0,\n    None,\n    None,\n    None],\n   ['2017-02-10',\n    36.65,\n    37.5,\n    36.57,\n    37.06,\n    None,\n    115843.0,\n    4291017.0,\n    None,\n    None,\n    None],\n   ['2017-02-09',\n    36.2,\n    36.25,\n    35.77,\n    36.25,\n    None,\n    67781.0,\n    2445428.0,\n    None,\n    None,\n    None],\n   ['2017-02-08',\n    35.98,\n    36.14,\n    35.84,\n    36.05,\n    None,\n    39731.0,\n    1431205.0,\n    None,\n    None,\n    None],\n   ['2017-02-07',\n    35.56,\n    36.05,\n    35.36,\n    35.89,\n    None,\n    67410.0,\n    2410818.0,\n    None,\n    None,\n    None],\n   ['2017-02-06',\n    36.06,\n    36.15,\n    35.6,\n    35.64,\n    None,\n    41911.0,\n    1496794.0,\n    None,\n    None,\n    None],\n   ['2017-02-03',\n    36.02,\n    36.2,\n    35.73,\n    36.1,\n    None,\n    40705.0,\n    1464712.0,\n    None,\n    None,\n    None],\n   ['2017-02-02',\n    35.95,\n    36.2,\n    35.7,\n    36.07,\n    None,\n    54279.0,\n    1953176.0,\n    None,\n    None,\n    None],\n   ['2017-02-01',\n    34.75,\n    36.0,\n    34.75,\n    35.94,\n    None,\n    85137.0,\n    3038172.0,\n    None,\n    None,\n    None],\n   ['2017-01-31',\n    35.24,\n    35.24,\n    34.56,\n    34.56,\n    None,\n    63371.0,\n    2199583.0,\n    None,\n    None,\n    None],\n   ['2017-01-30',\n    35.38,\n    35.59,\n    34.95,\n    35.15,\n    None,\n    69603.0,\n    2457762.0,\n    None,\n    None,\n    None],\n   ['2017-01-27',\n    34.83,\n    35.43,\n    34.81,\n    35.3,\n    None,\n    69657.0,\n    2444913.0,\n    None,\n    None,\n    None],\n   ['2017-01-26',\n    35.07,\n    35.58,\n    34.8,\n    34.89,\n    None,\n    64103.0,\n    2249375.0,\n    None,\n    None,\n    None],\n   ['2017-01-25',\n    34.42,\n    34.86,\n    34.03,\n    34.83,\n    None,\n    56240.0,\n    1947147.0,\n    None,\n    None,\n    None],\n   ['2017-01-24',\n    34.0,\n    34.35,\n    33.85,\n    34.22,\n    None,\n    48797.0,\n    1666086.0,\n    None,\n    None,\n    None],\n   ['2017-01-23',\n    34.04,\n    34.12,\n    33.62,\n    34.06,\n    None,\n    55333.0,\n    1877957.0,\n    None,\n    None,\n    None],\n   ['2017-01-20',\n    34.54,\n    34.59,\n    34.05,\n    34.17,\n    None,\n    80246.0,\n    2743474.0,\n    None,\n    None,\n    None],\n   ['2017-01-19',\n    35.04,\n    35.04,\n    34.42,\n    34.5,\n    None,\n    73105.0,\n    2526731.0,\n    None,\n    None,\n    None],\n   ['2017-01-18',\n    35.04,\n    35.51,\n    34.8,\n    34.9,\n    None,\n    65931.0,\n    2311608.0,\n    None,\n    None,\n    None],\n   ['2017-01-17',\n    35.06,\n    35.19,\n    34.79,\n    34.99,\n    None,\n    39195.0,\n    1369857.0,\n    None,\n    None,\n    None],\n   ['2017-01-16',\n    34.85,\n    35.24,\n    34.56,\n    35.07,\n    None,\n    47879.0,\n    1678679.0,\n    None,\n    None,\n    None],\n   ['2017-01-13',\n    34.98,\n    34.98,\n    34.6,\n    34.85,\n    None,\n    59367.0,\n    2065534.0,\n    None,\n    None,\n    None],\n   ['2017-01-12',\n    35.38,\n    35.38,\n    34.31,\n    34.9,\n    None,\n    163860.0,\n    5703427.0,\n    None,\n    None,\n    None],\n   ['2017-01-11',\n    34.95,\n    36.0,\n    34.84,\n    35.42,\n    None,\n    123530.0,\n    4369079.0,\n    None,\n    None,\n    None],\n   ['2017-01-10',\n    34.8,\n    34.98,\n    34.46,\n    34.91,\n    None,\n    43976.0,\n    1528055.0,\n    None,\n    None,\n    None],\n   ['2017-01-09',\n    35.29,\n    35.35,\n    34.43,\n    34.67,\n    None,\n    62225.0,\n    2157182.0,\n    None,\n    None,\n    None],\n   ['2017-01-06',\n    34.91,\n    35.21,\n    34.91,\n    35.04,\n    None,\n    27507.0,\n    964046.0,\n    None,\n    None,\n    None],\n   ['2017-01-05',\n    35.02,\n    35.2,\n    34.73,\n    35.06,\n    None,\n    48412.0,\n    1692326.0,\n    None,\n    None,\n    None],\n   ['2017-01-04',\n    35.48,\n    35.51,\n    34.75,\n    35.19,\n    None,\n    54408.0,\n    1906810.0,\n    None,\n    None,\n    None],\n   ['2017-01-03',\n    35.9,\n    35.93,\n    35.34,\n    35.48,\n    None,\n    70618.0,\n    2515473.0,\n    None,\n    None,\n    None],\n   ['2017-01-02',\n    34.99,\n    35.94,\n    34.99,\n    35.8,\n    None,\n    44700.0,\n    1590561.0,\n    None,\n    None,\n    None]],\n  'collapse': None,\n  'order': None}}"
     },
     "execution_count": 81,
     "metadata": {},
     "output_type": "execute_result"
    }
   ],
   "source": [
    "import json\n",
    "r2 = json.loads(r1.text)\n",
    "#print(type(r2))\n",
    "\n",
    "process_answer(r2, return_output=True)"
   ]
  },
  {
   "cell_type": "code",
   "execution_count": 82,
   "outputs": [
    {
     "name": "stdout",
     "output_type": "stream",
     "text": [
      "dataset_data\n",
      "    limit\n",
      "        None\n",
      "    transform\n",
      "        None\n",
      "    column_index\n",
      "        None\n",
      "    column_names\n",
      "        ['Date', 'Open', 'High', 'Low', 'Close', 'Change', 'Traded Volume', 'Turnover', 'Last Price of the Day', 'Daily Traded Units', 'Daily Turnover']\n",
      "    start_date\n",
      "        2017-01-01\n",
      "    end_date\n",
      "        2017-12-31\n",
      "    frequency\n",
      "        daily\n",
      "    data\n",
      "        [['2017-12-29', 51.76, 51.94, 51.45, 51.76, None, 34640.0, 1792304.0, None, None, None], ['2017-12-28', 51.65, 51.82, 51.43, 51.6, None, 40660.0, 2099024.0, None, None, None], ['2017-12-27', 51.45, 51.89, 50.76, 51.82, None, 57452.0, 2957018.0, None, None, None], ['2017-12-22', 51.05, 51.5, 50.92, 51.32, None, 71165.0, 3641949.0, None, None, None], ['2017-12-21', 51.16, 51.52, 50.9, 51.4, None, 120649.0, 6179433.0, None, None, None], ['2017-12-20', 51.88, 52.04, 51.2, 51.27, None, 50587.0, 2610258.0, None, None, None], ['2017-12-19', 52.73, 52.73, 51.07, 51.66, None, 137313.0, 7102361.0, None, None, None], ['2017-12-18', 52.37, 52.75, 51.61, 52.62, None, 129733.0, 6770499.0, None, None, None], ['2017-12-15', 52.7, 52.7, 51.64, 52.01, None, 204080.0, 10596319.0, None, None, None], ['2017-12-14', 53.11, 53.54, 52.15, 52.67, None, 132981.0, 7016953.0, None, None, None], ['2017-12-13', 52.64, 53.35, 52.48, 53.09, None, 128434.0, 6801159.0, None, None, None], ['2017-12-12', 52.29, 53.1, 51.82, 52.43, None, 87911.0, 4615924.0, None, None, None], ['2017-12-11', 52.28, 52.45, 51.26, 52.14, None, 71817.0, 3724193.0, None, None, None], ['2017-12-08', 51.5, 52.83, 51.28, 52.12, None, 109157.0, 5690648.0, None, None, None], ['2017-12-07', 50.89, 51.47, 50.81, 51.47, None, 48123.0, 2463848.0, None, None, None], ['2017-12-06', 50.8, 51.11, 50.39, 50.89, None, 88730.0, 4504075.0, None, None, None], ['2017-12-05', 51.21, 51.38, 50.4, 51.25, None, 83023.0, 4231971.0, None, None, None], ['2017-12-04', 49.5, 51.23, 49.5, 51.14, None, 94385.0, 4800027.0, None, None, None], ['2017-12-01', 49.52, 50.49, 49.17, 49.86, None, 101733.0, 5065932.0, None, None, None], ['2017-11-30', 48.64, 49.84, 48.28, 49.7, None, 123019.0, 6085171.0, None, None, None], ['2017-11-29', 49.64, 49.64, 48.7, 48.75, None, 67342.0, 3292223.0, None, None, None], ['2017-11-28', 49.09, 49.89, 49.03, 49.25, None, 42669.0, 2107358.0, None, None, None], ['2017-11-27', 49.13, 49.73, 48.96, 49.2, None, 102180.0, 5055762.0, None, None, None], ['2017-11-24', 49.11, 49.41, 48.87, 49.11, None, 50350.0, 2472842.0, None, None, None], ['2017-11-23', 48.8, 49.46, 48.45, 49.2, None, 38834.0, 1909352.0, None, None, None], ['2017-11-22', 48.4, 49.61, 48.39, 48.8, None, 91142.0, 4478093.0, None, None, None], ['2017-11-21', 47.25, 48.59, 46.78, 48.39, None, 78502.0, 3782098.0, None, None, None], ['2017-11-20', 46.57, 47.38, 46.54, 47.04, None, 97252.0, 4563515.0, None, None, None], ['2017-11-17', 47.03, 47.15, 46.8, 46.84, None, 54107.0, 2540820.0, None, None, None], ['2017-11-16', 47.09, 47.23, 46.55, 47.03, None, 89373.0, 4195732.0, None, None, None], ['2017-11-15', 47.98, 48.01, 46.75, 47.05, None, 67593.0, 3188321.0, None, None, None], ['2017-11-14', 48.4, 48.9, 47.84, 48.0, None, 67672.0, 3259979.0, None, None, None], ['2017-11-13', 48.38, 48.61, 47.76, 48.34, None, 76286.0, 3681337.0, None, None, None], ['2017-11-10', 47.3, 48.89, 47.16, 48.34, None, 90245.0, 4361552.0, None, None, None], ['2017-11-09', 47.65, 48.06, 47.09, 47.21, None, 120268.0, 5712034.0, None, None, None], ['2017-11-08', 46.42, 47.72, 46.42, 47.47, None, 94195.0, 4463935.0, None, None, None], ['2017-11-07', 46.16, 46.33, 45.84, 46.26, None, 48152.0, 2224221.0, None, None, None], ['2017-11-06', 45.81, 46.09, 45.76, 45.99, None, 60716.0, 2789220.0, None, None, None], ['2017-11-03', 45.0, 46.04, 44.83, 45.97, None, 56911.0, 2603498.0, None, None, None], ['2017-11-02', 45.88, 46.06, 45.18, 45.27, None, 37958.0, 1724840.0, None, None, None], ['2017-11-01', 46.29, 46.55, 45.97, 46.04, None, 56319.0, 2603859.0, None, None, None], ['2017-10-30', 46.53, 46.65, 45.61, 45.76, None, 56245.0, 2585397.0, None, None, None], ['2017-10-27', 45.48, 46.42, 45.46, 46.41, None, 74472.0, 3434087.0, None, None, None], ['2017-10-26', 45.2, 45.41, 44.91, 45.41, None, 56319.0, 2548078.0, None, None, None], ['2017-10-25', 45.01, 45.06, 44.7, 45.0, None, 47730.0, 2145697.0, None, None, None], ['2017-10-24', 45.16, 45.27, 44.75, 44.85, None, 43042.0, 1937616.0, None, None, None], ['2017-10-23', 44.9, 45.34, 44.89, 45.0, None, 43375.0, 1952918.0, None, None, None], ['2017-10-20', 45.08, 45.34, 44.76, 44.87, None, 55707.0, 2503853.0, None, None, None], ['2017-10-19', 45.72, 45.85, 44.79, 45.0, None, 59991.0, 2703085.0, None, None, None], ['2017-10-18', 46.01, 46.2, 45.61, 45.77, None, 45263.0, 2076951.0, None, None, None], ['2017-10-17', 45.8, 46.06, 45.37, 45.96, None, 65837.0, 3014080.0, None, None, None], ['2017-10-16', 45.61, 45.75, 45.3, 45.55, None, 49246.0, 2243129.0, None, None, None], ['2017-10-13', 45.5, 45.7, 45.37, 45.4, None, 43362.0, 1971801.0, None, None, None], ['2017-10-12', 45.58, 45.58, 45.17, 45.43, None, 49180.0, 2233481.0, None, None, None], ['2017-10-11', 45.97, 45.97, 45.25, 45.29, None, 69455.0, 3158321.0, None, None, None], ['2017-10-10', 45.64, 46.04, 45.57, 45.84, None, 65860.0, 3016658.0, None, None, None], ['2017-10-09', 46.2, 46.2, 45.6, 45.74, None, 44059.0, 2015453.0, None, None, None], ['2017-10-06', 46.19, 46.19, 45.69, 46.0, None, 66760.0, 3066198.0, None, None, None], ['2017-10-05', 46.01, 46.09, 45.63, 46.05, None, 94804.0, 4352002.0, None, None, None], ['2017-10-04', 45.36, 46.17, 45.22, 46.11, None, 115706.0, 5313199.0, None, None, None], ['2017-10-02', 44.51, 44.98, 44.18, 44.98, None, 95313.0, 4265024.0, None, None, None], ['2017-09-29', 43.58, 44.17, 43.3, 44.17, None, 99821.0, 4384796.0, None, None, None], ['2017-09-28', 42.0, 43.56, 42.0, 43.56, None, 157234.0, 6775569.0, None, None, None], ['2017-09-27', 42.35, 42.49, 41.78, 42.04, None, 76600.0, 3219861.0, None, None, None], ['2017-09-26', 42.3, 42.57, 42.11, 42.37, None, 51321.0, 2175381.0, None, None, None], ['2017-09-25', 42.3, 42.3, 41.96, 42.07, None, 56224.0, 2366453.0, None, None, None], ['2017-09-22', 41.48, 42.38, 41.48, 42.06, None, 79955.0, 3362517.0, None, None, None], ['2017-09-21', 42.29, 42.29, 41.39, 41.46, None, 105194.0, 4378409.0, None, None, None], ['2017-09-20', 42.54, 42.54, 41.99, 41.99, None, 57838.0, 2440557.0, None, None, None], ['2017-09-19', 42.65, 42.65, 42.13, 42.44, None, 65546.0, 2777065.0, None, None, None], ['2017-09-18', 42.5, 42.63, 42.23, 42.27, None, 44037.0, 1864954.0, None, None, None], ['2017-09-15', 42.29, 42.81, 42.25, 42.42, None, 107144.0, 4555791.0, None, None, None], ['2017-09-14', 42.35, 42.8, 42.35, 42.52, None, 65157.0, 2770696.0, None, None, None], ['2017-09-13', 42.49, 42.69, 42.22, 42.45, None, 68801.0, 2921240.0, None, None, None], ['2017-09-12', 43.21, 43.34, 42.62, 42.73, None, 52828.0, 2259924.0, None, None, None], ['2017-09-11', 42.81, 42.89, 42.56, 42.85, None, 103273.0, 4415614.0, None, None, None], ['2017-09-08', 42.7, 42.75, 42.56, 42.67, None, 59881.0, 2553977.0, None, None, None], ['2017-09-07', 43.0, 43.02, 42.67, 42.77, None, 64320.0, 2751388.0, None, None, None], ['2017-09-06', 42.66, 42.71, 42.34, 42.55, None, 71006.0, 3020229.0, None, None, None], ['2017-09-05', 43.0, 43.19, 42.55, 42.62, None, 66351.0, 2846115.0, None, None, None], ['2017-09-04', 42.38, 42.75, 41.95, 42.6, None, 105288.0, 4471634.0, None, None, None], ['2017-09-01', 42.16, 43.06, 42.07, 42.41, None, 151474.0, 6453558.0, None, None, None], ['2017-08-31', 42.0, 42.08, 41.12, 41.9, None, 157888.0, 6580200.0, None, None, None], ['2017-08-30', 42.0, 42.2, 41.49, 41.94, None, 97804.0, 4090262.0, None, None, None], ['2017-08-29', 41.71, 41.98, 41.33, 41.85, None, 98156.0, 4094452.0, None, None, None], ['2017-08-28', 42.11, 42.25, 41.86, 41.91, None, 47130.0, 1978704.0, None, None, None], ['2017-08-25', 42.64, 42.64, 42.05, 42.14, None, 69734.0, 2948016.0, None, None, None], ['2017-08-24', 42.72, 43.05, 42.63, 42.69, None, 65213.0, 2792319.0, None, None, None], ['2017-08-23', 42.82, 43.17, 42.6, 42.71, None, 70269.0, 3011578.0, None, None, None], ['2017-08-22', 42.46, 42.96, 42.4, 42.71, None, 95376.0, 4075646.0, None, None, None], ['2017-08-21', 42.42, 42.76, 42.2, 42.26, None, 68812.0, 2922972.0, None, None, None], ['2017-08-18', 42.28, 42.6, 42.01, 42.41, None, 72886.0, 3092377.0, None, None, None], ['2017-08-17', 41.88, 43.01, 41.76, 42.5, None, 131361.0, 5583704.0, None, None, None], ['2017-08-16', 42.4, 42.62, 41.98, 42.05, None, 104676.0, 4408312.0, None, None, None], ['2017-08-15', 42.53, 42.53, 42.2, 42.28, None, 64334.0, 2721852.0, None, None, None], ['2017-08-14', 42.12, 42.69, 42.01, 42.3, None, 127682.0, 5416963.0, None, None, None], ['2017-08-11', 41.3, 41.94, 40.96, 41.94, None, 183412.0, 7604144.0, None, None, None], ['2017-08-10', 41.73, 41.99, 41.14, 41.68, None, 175161.0, 7303562.0, None, None, None], ['2017-08-09', 43.5, 43.5, 41.64, 41.81, None, 355857.0, 15003956.0, None, None, None], ['2017-08-08', 44.9, 45.09, 44.15, 44.37, None, 156168.0, 6941408.0, None, None, None], ['2017-08-07', 45.85, 46.34, 44.02, 44.96, None, 164543.0, 7378816.0, None, None, None], ['2017-08-04', 45.13, 45.13, 44.36, 45.07, None, 96202.0, 4306911.0, None, None, None], ['2017-08-03', 45.34, 45.54, 44.91, 44.97, None, 77854.0, 3517146.0, None, None, None], ['2017-08-02', 45.25, 45.77, 44.9, 45.56, None, 187468.0, 8528548.0, None, None, None], ['2017-08-01', 45.24, 45.54, 45.1, 45.45, None, 74975.0, 3399891.0, None, None, None], ['2017-07-31', 44.94, 45.75, 44.94, 45.3, None, 62672.0, 2844210.0, None, None, None], ['2017-07-28', 45.26, 45.29, 44.75, 44.97, None, 114006.0, 5127247.0, None, None, None], ['2017-07-27', 45.16, 45.45, 45.15, 45.25, None, 50557.0, 2290284.0, None, None, None], ['2017-07-26', 44.91, 45.33, 44.46, 45.16, None, 81970.0, 3688510.0, None, None, None], ['2017-07-25', 44.7, 45.04, 44.63, 44.82, None, 112224.0, 5033312.0, None, None, None], ['2017-07-24', 45.31, 45.31, 44.49, 44.61, None, 104282.0, 4661866.0, None, None, None], ['2017-07-21', 45.57, 45.88, 45.04, 45.44, None, 73422.0, 3334695.0, None, None, None], ['2017-07-20', 45.74, 45.96, 45.23, 45.66, None, 87399.0, 3986488.0, None, None, None], ['2017-07-19', 45.06, 45.72, 44.94, 45.57, None, 71971.0, 3273001.0, None, None, None], ['2017-07-18', 45.5, 45.55, 44.7, 45.0, None, 104003.0, 4684627.0, None, None, None], ['2017-07-17', 45.6, 46.23, 45.29, 45.6, None, 104995.0, 4801806.0, None, None, None], ['2017-07-14', 45.07, 45.56, 44.83, 45.53, None, 67375.0, 3054060.0, None, None, None], ['2017-07-13', 44.67, 45.18, 44.67, 44.95, None, 82745.0, 3718928.0, None, None, None], ['2017-07-12', 44.29, 45.05, 43.89, 44.95, None, 115705.0, 5133971.0, None, None, None], ['2017-07-11', 44.94, 44.94, 44.08, 44.2, None, 90538.0, 4010457.0, None, None, None], ['2017-07-10', 44.64, 45.18, 44.51, 44.7, None, 71868.0, 3221218.0, None, None, None], ['2017-07-07', 44.79, 44.79, 44.25, 44.53, None, 47999.0, 2136578.0, None, None, None], ['2017-07-06', 45.5, 45.5, 44.15, 44.62, None, 66116.0, 2952605.0, None, None, None], ['2017-07-05', 44.67, 45.36, 44.44, 45.19, None, 48706.0, 2189436.0, None, None, None], ['2017-07-04', 45.83, 45.83, 44.74, 44.8, None, 50549.0, 2273551.0, None, None, None], ['2017-07-03', 45.29, 45.83, 45.06, 45.75, None, 71381.0, 3251502.0, None, None, None], ['2017-06-30', 45.01, 45.74, 45.0, 45.44, None, 136112.0, 6187148.0, None, None, None], ['2017-06-29', 45.73, 45.81, 45.11, 45.2, None, 134965.0, 6132452.0, None, None, None], ['2017-06-28', 46.68, 46.68, 45.41, 45.68, None, 117165.0, 5381488.0, None, None, None], ['2017-06-27', 47.23, 47.33, 46.39, 46.83, None, 82492.0, 3866344.0, None, None, None], ['2017-06-26', 46.95, 47.63, 46.91, 47.21, None, 73322.0, 3465639.0, None, None, None], ['2017-06-23', 47.29, 47.4, 46.79, 46.99, None, 80586.0, 3792498.0, None, None, None], ['2017-06-22', 47.03, 47.4, 46.75, 47.29, None, 56071.0, 2640508.0, None, None, None], ['2017-06-21', 47.46, 47.48, 46.53, 46.99, None, 89752.0, 4206563.0, None, None, None], ['2017-06-20', 46.48, 47.43, 46.27, 47.37, None, 108334.0, 5109730.0, None, None, None], ['2017-06-19', 46.9, 46.9, 46.25, 46.64, None, 70056.0, 3260381.0, None, None, None], ['2017-06-16', 45.66, 46.8, 45.66, 46.63, None, 202214.0, 9411695.0, None, None, None], ['2017-06-15', 46.34, 46.34, 45.21, 45.67, None, 101733.0, 4635593.0, None, None, None], ['2017-06-14', 46.52, 46.86, 46.05, 46.33, None, 83741.0, 3881453.0, None, None, None], ['2017-06-13', 46.5, 46.51, 46.03, 46.32, None, 107644.0, 4981185.0, None, None, None], ['2017-06-12', 47.31, 47.43, 45.89, 46.31, None, 112942.0, 5238390.0, None, None, None], ['2017-06-09', 46.77, 47.44, 46.55, 47.44, None, 99674.0, 4702170.0, None, None, None], ['2017-06-08', 47.8, 47.8, 46.27, 46.27, None, 1945.0, 90599.0, None, None, None], ['2017-06-07', 47.01, 47.43, 47.01, 47.43, None, 1081.0, 51021.0, None, None, None], ['2017-06-06', 47.12, 47.45, 46.21, 47.43, None, 686.0, 32083.0, None, None, None], ['2017-06-02', 46.8, 46.99, 46.72, 46.99, None, 290.0, 13584.0, None, None, None], ['2017-06-01', 46.12, 46.52, 45.89, 46.52, None, 106513.0, 4930686.0, None, None, None], ['2017-05-31', 45.22, 46.26, 45.22, 45.86, None, 522.0, 24044.0, None, None, None], ['2017-05-30', 45.05, 46.02, 45.05, 46.02, None, 587.0, 26792.0, None, None, None], ['2017-05-29', 45.61, 45.61, 45.24, 45.32, None, 112.0, 5089.0, None, None, None], ['2017-05-26', 44.8, 45.36, 44.71, 45.3, None, 74453.0, 3360707.0, None, None, None], ['2017-05-25', 44.8, 44.87, 44.29, 44.78, None, 49970.0, 2231857.0, None, None, None], ['2017-05-24', 43.92, 44.67, 43.92, 44.53, None, 111923.0, 4971343.0, None, None, None], ['2017-05-23', 43.67, 44.13, 43.55, 43.9, None, 38308.0, 1681904.0, None, None, None], ['2017-05-22', 44.16, 44.22, 43.44, 43.84, None, 70856.0, 3103013.0, None, None, None], ['2017-05-19', 43.74, 44.12, 43.74, 44.12, None, 45.0, 1980.0, None, None, None], ['2017-05-18', 44.0, 44.3, 43.29, 43.98, None, 166160.0, 7277314.0, None, None, None], ['2017-05-17', 45.06, 45.34, 44.01, 44.19, None, 149515.0, 6664744.0, None, None, None], ['2017-05-16', 45.15, 45.36, 44.56, 45.31, None, 101476.0, 4567885.0, None, None, None], ['2017-05-15', 45.09, 45.78, 44.31, 45.14, None, 193702.0, 8734286.0, None, None, None], ['2017-05-12', 45.18, 45.18, 44.16, 44.99, None, 159495.0, 7113519.0, None, None, None], ['2017-05-11', 43.4, 46.06, 43.25, 45.0, None, 189125.0, 8496322.0, None, None, None], ['2017-05-10', 43.5, 43.6, 42.53, 43.28, None, 91858.0, 3958630.0, None, None, None], ['2017-05-09', 41.83, 43.55, 41.82, 43.3, None, 151439.0, 6538516.0, None, None, None], ['2017-05-08', 43.0, 43.0, 42.04, 42.24, None, 97456.0, 4128048.0, None, None, None], ['2017-05-05', 42.52, 42.91, 42.38, 42.75, None, 78512.0, 3353971.0, None, None, None], ['2017-05-04', 41.86, 42.5, 41.71, 42.5, None, 82058.0, 3465505.0, None, None, None], ['2017-05-03', 42.2, 42.29, 41.78, 41.9, None, 65266.0, 2738394.0, None, None, None], ['2017-05-02', 41.89, 42.23, 41.76, 42.15, None, 86559.0, 3636583.0, None, None, None], ['2017-05-01', None, 42.245, 41.655, 41.72, -0.44, 86348.0, 3606589.0, None, None, None], ['2017-04-28', 42.17, 42.25, 41.66, 41.72, None, 86348.0, 3606589.0, None, None, None], ['2017-04-27', 41.51, 42.24, 41.51, 42.16, None, 151683.0, 6380639.0, None, None, None], ['2017-04-26', 41.88, 41.94, 41.4, 41.5, None, 65847.0, 2743109.0, None, None, None], ['2017-04-25', 41.93, 42.18, 41.66, 41.89, None, 85973.0, 3604204.0, None, None, None], ['2017-04-24', 42.01, 42.02, 41.23, 41.81, None, 102084.0, 4247032.0, None, None, None], ['2017-04-21', 41.97, 42.14, 41.01, 41.32, None, 186784.0, 7728103.0, None, None, None], ['2017-04-20', 42.5, 42.64, 41.52, 41.93, None, 223621.0, 9418192.0, None, None, None], ['2017-04-19', 41.94, 42.61, 41.94, 42.61, None, 92722.0, 3930856.0, None, None, None], ['2017-04-18', 42.24, 42.4, 41.54, 42.0, None, 133057.0, 5587565.0, None, None, None], ['2017-04-17', None, 42.48, 41.985, 42.2, None, 88416.0, 3734717.0, None, None, None], ['2017-04-14', None, 42.48, 41.985, 42.2, None, 88416.0, 3734717.0, None, None, None], ['2017-04-13', 42.06, 42.48, 41.99, 42.2, None, 88416.0, 3734717.0, None, None, None], ['2017-04-12', 42.02, 42.45, 41.84, 42.2, None, 158278.0, 6672547.0, None, None, None], ['2017-04-11', 41.62, 42.03, 41.53, 41.75, None, 107817.0, 4501109.0, None, None, None], ['2017-04-10', 41.46, 41.68, 41.31, 41.68, None, 62297.0, 2585922.0, None, None, None], ['2017-04-07', 40.9, 41.42, 40.84, 41.42, None, 81255.0, 3344628.0, None, None, None], ['2017-04-06', 40.96, 41.25, 40.83, 41.05, None, 96794.0, 3968681.0, None, None, None], ['2017-04-05', 41.1, 41.34, 40.79, 41.1, None, 156005.0, 6404780.0, None, None, None], ['2017-04-04', 39.5, 40.88, 39.48, 40.81, None, 193156.0, 7822665.0, None, None, None], ['2017-04-03', 40.15, 40.15, 39.54, 39.64, None, 127973.0, 5081376.0, None, None, None], ['2017-03-31', 39.77, 40.07, 39.42, 39.98, None, 95382.0, 3795061.0, None, None, None], ['2017-03-30', 40.02, 40.14, 39.42, 39.75, None, 189201.0, 7541354.0, None, None, None], ['2017-03-29', 39.39, 40.01, 39.05, 40.01, None, 335406.0, 13349426.0, None, None, None], ['2017-03-28', 38.95, 39.35, 38.79, 39.22, None, 115075.0, 4505494.0, None, None, None], ['2017-03-27', 38.73, 39.1, 38.53, 38.85, None, 191515.0, 7446952.0, None, None, None], ['2017-03-24', 38.94, 39.02, 38.6, 38.94, None, 210926.0, 8205507.0, None, None, None], ['2017-03-23', 39.01, 39.25, 38.63, 38.96, None, 169971.0, 6621807.0, None, None, None], ['2017-03-22', 38.25, 39.02, 37.53, 38.94, None, 670349.0, 25910543.0, None, None, None], ['2017-03-21', 41.8, 41.83, 40.97, 40.98, None, 56906.0, 2349965.0, None, None, None], ['2017-03-20', 41.26, 42.17, 41.26, 41.97, None, 97572.0, 4074891.0, None, None, None], ['2017-03-17', 41.47, 41.59, 41.16, 41.34, None, 90109.0, 3734232.0, None, None, None], ['2017-03-16', 41.4, 41.57, 41.09, 41.46, None, 55799.0, 2308423.0, None, None, None], ['2017-03-15', 41.4, 41.5, 40.91, 41.25, None, 60324.0, 2488650.0, None, None, None], ['2017-03-14', 41.2, 41.5, 41.2, 41.3, None, 60420.0, 2498025.0, None, None, None], ['2017-03-13', 41.4, 41.46, 41.08, 41.3, None, 44803.0, 1850251.0, None, None, None], ['2017-03-10', 41.53, 41.53, 41.16, 41.4, None, 38518.0, 1592270.0, None, None, None], ['2017-03-09', 41.61, 41.61, 41.16, 41.4, None, 43988.0, 1819182.0, None, None, None], ['2017-03-08', 41.13, 41.71, 40.95, 41.68, None, 45111.0, 1870935.0, None, None, None], ['2017-03-07', 41.5, 41.8, 41.25, 41.42, None, 61925.0, 2569608.0, None, None, None], ['2017-03-06', 41.25, 41.4, 40.81, 41.4, None, 46510.0, 1916799.0, None, None, None], ['2017-03-03', 41.12, 41.22, 40.84, 41.18, None, 40800.0, 1675587.0, None, None, None], ['2017-03-02', 41.38, 41.39, 40.76, 41.17, None, 49863.0, 2048153.0, None, None, None], ['2017-03-01', 41.19, 41.57, 40.9, 41.2, None, 86753.0, 3569796.0, None, None, None], ['2017-02-28', 40.38, 40.95, 40.38, 40.84, None, 67440.0, 2747011.0, None, None, None], ['2017-02-27', 39.75, 40.64, 39.75, 40.39, None, 62655.0, 2520260.0, None, None, None], ['2017-02-24', 39.77, 40.14, 38.91, 39.74, None, 101294.0, 4015150.0, None, None, None], ['2017-02-23', 39.72, 39.98, 39.38, 39.79, None, 81945.0, 3260642.0, None, None, None], ['2017-02-22', 39.6, 39.75, 39.27, 39.7, None, 77619.0, 3066894.0, None, None, None], ['2017-02-21', 38.85, 39.57, 38.85, 39.45, None, 46070.0, 1808350.0, None, None, None], ['2017-02-20', 39.25, 39.25, 38.81, 38.98, None, 37014.0, 1444138.0, None, None, None], ['2017-02-17', 38.8, 39.03, 38.48, 39.02, None, 60583.0, 2352961.0, None, None, None], ['2017-02-16', 38.8, 39.2, 38.25, 38.71, None, 84682.0, 3282322.0, None, None, None], ['2017-02-15', 38.5, 38.93, 38.4, 38.72, None, 77420.0, 2996861.0, None, None, None], ['2017-02-14', 38.81, 38.86, 38.0, 38.37, None, 82601.0, 3163898.0, None, None, None], ['2017-02-13', 37.37, 39.36, 37.35, 38.53, None, 177171.0, 6804028.0, None, None, None], ['2017-02-10', 36.65, 37.5, 36.57, 37.06, None, 115843.0, 4291017.0, None, None, None], ['2017-02-09', 36.2, 36.25, 35.77, 36.25, None, 67781.0, 2445428.0, None, None, None], ['2017-02-08', 35.98, 36.14, 35.84, 36.05, None, 39731.0, 1431205.0, None, None, None], ['2017-02-07', 35.56, 36.05, 35.36, 35.89, None, 67410.0, 2410818.0, None, None, None], ['2017-02-06', 36.06, 36.15, 35.6, 35.64, None, 41911.0, 1496794.0, None, None, None], ['2017-02-03', 36.02, 36.2, 35.73, 36.1, None, 40705.0, 1464712.0, None, None, None], ['2017-02-02', 35.95, 36.2, 35.7, 36.07, None, 54279.0, 1953176.0, None, None, None], ['2017-02-01', 34.75, 36.0, 34.75, 35.94, None, 85137.0, 3038172.0, None, None, None], ['2017-01-31', 35.24, 35.24, 34.56, 34.56, None, 63371.0, 2199583.0, None, None, None], ['2017-01-30', 35.38, 35.59, 34.95, 35.15, None, 69603.0, 2457762.0, None, None, None], ['2017-01-27', 34.83, 35.43, 34.81, 35.3, None, 69657.0, 2444913.0, None, None, None], ['2017-01-26', 35.07, 35.58, 34.8, 34.89, None, 64103.0, 2249375.0, None, None, None], ['2017-01-25', 34.42, 34.86, 34.03, 34.83, None, 56240.0, 1947147.0, None, None, None], ['2017-01-24', 34.0, 34.35, 33.85, 34.22, None, 48797.0, 1666086.0, None, None, None], ['2017-01-23', 34.04, 34.12, 33.62, 34.06, None, 55333.0, 1877957.0, None, None, None], ['2017-01-20', 34.54, 34.59, 34.05, 34.17, None, 80246.0, 2743474.0, None, None, None], ['2017-01-19', 35.04, 35.04, 34.42, 34.5, None, 73105.0, 2526731.0, None, None, None], ['2017-01-18', 35.04, 35.51, 34.8, 34.9, None, 65931.0, 2311608.0, None, None, None], ['2017-01-17', 35.06, 35.19, 34.79, 34.99, None, 39195.0, 1369857.0, None, None, None], ['2017-01-16', 34.85, 35.24, 34.56, 35.07, None, 47879.0, 1678679.0, None, None, None], ['2017-01-13', 34.98, 34.98, 34.6, 34.85, None, 59367.0, 2065534.0, None, None, None], ['2017-01-12', 35.38, 35.38, 34.31, 34.9, None, 163860.0, 5703427.0, None, None, None], ['2017-01-11', 34.95, 36.0, 34.84, 35.42, None, 123530.0, 4369079.0, None, None, None], ['2017-01-10', 34.8, 34.98, 34.46, 34.91, None, 43976.0, 1528055.0, None, None, None], ['2017-01-09', 35.29, 35.35, 34.43, 34.67, None, 62225.0, 2157182.0, None, None, None], ['2017-01-06', 34.91, 35.21, 34.91, 35.04, None, 27507.0, 964046.0, None, None, None], ['2017-01-05', 35.02, 35.2, 34.73, 35.06, None, 48412.0, 1692326.0, None, None, None], ['2017-01-04', 35.48, 35.51, 34.75, 35.19, None, 54408.0, 1906810.0, None, None, None], ['2017-01-03', 35.9, 35.93, 35.34, 35.48, None, 70618.0, 2515473.0, None, None, None], ['2017-01-02', 34.99, 35.94, 34.99, 35.8, None, 44700.0, 1590561.0, None, None, None]]\n",
      "    collapse\n",
      "        None\n",
      "    order\n",
      "        None\n"
     ]
    }
   ],
   "source": [
    "for each in r2:\n",
    "    print(each)\n",
    "    for each2 in r2[each]:\n",
    "        print(\"   \",each2)\n",
    "        print(\"       \",r2[each][each2])"
   ],
   "metadata": {
    "collapsed": false,
    "pycharm": {
     "name": "#%%\n"
    }
   }
  },
  {
   "cell_type": "code",
   "execution_count": 83,
   "metadata": {
    "pycharm": {
     "name": "#%%\n"
    }
   },
   "outputs": [],
   "source": [
    "import collections as col\n",
    "\n",
    "names = r2[\"dataset_data\"][\"column_names\"]\n",
    "\n",
    "for i in range(len(names)):\n",
    "    names[i] = names[i].replace(' ', \"_\")\n",
    "\n",
    "StockInfo = col.namedtuple('StockInfo', names)\n",
    "\n",
    "s_open, s_close, s_diff, s_daychange, s_volume = [], [], [], [], []\n",
    "\n",
    "for each in r2[\"dataset_data\"][\"data\"]:\n",
    "    si = StockInfo(*each)\n",
    "\n",
    "    if si.Open:\n",
    "        s_open.append(si.Open)\n",
    "\n",
    "    if s_close:\n",
    "        s_daychange.append(abs(si.Close - s_close[-1]))\n",
    "\n",
    "    s_close.append(si.Close)\n",
    "    s_diff.append(abs(si.High - si.Low)) # made a choice to use 0 as opening price if there wasn't one\n",
    "    s_volume.append(si.Traded_Volume)\n",
    "\n",
    "    process_answer(si, print_output=False)"
   ]
  },
  {
   "cell_type": "markdown",
   "source": [
    "# 3. Calculate what the highest and lowest opening prices were for the stock in this period."
   ],
   "metadata": {
    "collapsed": false,
    "pycharm": {
     "name": "#%% md\n"
    }
   }
  },
  {
   "cell_type": "code",
   "execution_count": 84,
   "metadata": {
    "pycharm": {
     "name": "#%%\n"
    }
   },
   "outputs": [
    {
     "name": "stdout",
     "output_type": "stream",
     "text": [
      "Highest opening price 53.11\n",
      "Lowest opening price 34.0\n"
     ]
    }
   ],
   "source": [
    "print(\"Highest opening price\",max(s_open))\n",
    "print(\"Lowest opening price\",min(s_open))"
   ]
  },
  {
   "cell_type": "markdown",
   "source": [
    "# 4. What was the largest change in any one day (based on High and Low price)?"
   ],
   "metadata": {
    "collapsed": false,
    "pycharm": {
     "name": "#%% md\n"
    }
   }
  },
  {
   "cell_type": "code",
   "execution_count": 85,
   "outputs": [
    {
     "name": "stdout",
     "output_type": "stream",
     "text": [
      "Largest one day change 2.81\n"
     ]
    }
   ],
   "source": [
    "print(\"Largest one day change\",round(max(s_diff),4))"
   ],
   "metadata": {
    "collapsed": false,
    "pycharm": {
     "name": "#%%\n"
    }
   }
  },
  {
   "cell_type": "markdown",
   "source": [
    "# 5. What was the largest change between any two days (based on Closing Price)?"
   ],
   "metadata": {
    "collapsed": false,
    "pycharm": {
     "name": "#%% md\n"
    }
   }
  },
  {
   "cell_type": "code",
   "execution_count": 86,
   "outputs": [
    {
     "name": "stdout",
     "output_type": "stream",
     "text": [
      "Largest closing change between days 2.56\n"
     ]
    }
   ],
   "source": [
    "print(\"Largest closing change between days\",round(max(s_daychange),4))"
   ],
   "metadata": {
    "collapsed": false,
    "pycharm": {
     "name": "#%%\n"
    }
   }
  },
  {
   "cell_type": "markdown",
   "source": [
    "# 6. What was the average daily trading volume during this year?"
   ],
   "metadata": {
    "collapsed": false,
    "pycharm": {
     "name": "#%% md\n"
    }
   }
  },
  {
   "cell_type": "code",
   "execution_count": 87,
   "outputs": [
    {
     "name": "stdout",
     "output_type": "stream",
     "text": [
      "average daily trading volume during this year 89124.0\n"
     ]
    }
   ],
   "source": [
    "print(\"average daily trading volume during this year\", sum(s_volume) // len(s_volume))"
   ],
   "metadata": {
    "collapsed": false,
    "pycharm": {
     "name": "#%%\n"
    }
   }
  },
  {
   "cell_type": "markdown",
   "source": [
    "# 7. (Optional) What was the median trading volume during this year. (Note: you may need to implement your own function for calculating the median.)"
   ],
   "metadata": {
    "collapsed": false,
    "pycharm": {
     "name": "#%% md\n"
    }
   }
  },
  {
   "cell_type": "code",
   "execution_count": 88,
   "outputs": [
    {
     "name": "stdout",
     "output_type": "stream",
     "text": [
      "median trading volume during this year. 76286.0\n"
     ]
    }
   ],
   "source": [
    "def median(values):\n",
    "    sorted_values = sorted(values)\n",
    "\n",
    "    len_values = len(sorted_values)\n",
    "    if len_values % 2 == 1:\n",
    "        choose = len_values // 2\n",
    "        answer = sorted_values[choose]\n",
    "    else:\n",
    "        choose = (len_values//2 - 1, len_values//2)\n",
    "        answer = (sorted_values[choose[0]] + sorted_values[choose[1]]) / 2\n",
    "\n",
    "    process_answer((values, \"==>\", f\"{choose} of {sorted_values}\", \"==>\", answer), print_output=False)\n",
    "    return answer\n",
    "\n",
    "#median([1,2])\n",
    "#median([4,1,2,3])\n",
    "#median([5,4,1,2,3])\n",
    "\n",
    "print(\"median trading volume during this year.\", median(s_volume))"
   ],
   "metadata": {
    "collapsed": false,
    "pycharm": {
     "name": "#%%\n"
    }
   }
  },
  {
   "cell_type": "code",
   "execution_count": 89,
   "outputs": [],
   "source": [
    "# Scratch cell - check answers are correct in Excel\n",
    "\n",
    "# import pandas as pd\n",
    "# df = pd.read_json(r2[\"dataset_data\"][\"data\"])\n",
    "# #read_json converts a JSON string to a pandas object (either a series or dataframe). Then:\n",
    "# type(df.to_csv())\n",
    "# df.to_csv()\n",
    "# df.to_csv('csvfile.csv', encoding='utf-8', index=False)\n",
    "\n",
    "with open(\"csv_data.csv\", 'w') as outfile:\n",
    "    outfile.write(\", \".join(r2[\"dataset_data\"][\"column_names\"]))\n",
    "    outfile.write(\"\\n\")\n",
    "    for each in r2[\"dataset_data\"][\"data\"]:\n",
    "        outfile.write(\", \".join([str(x) for x in each]))\n",
    "        outfile.write(\"\\n\")"
   ],
   "metadata": {
    "collapsed": false,
    "pycharm": {
     "name": "#%%\n"
    }
   }
  }
 ],
 "metadata": {
  "interpreter": {
   "hash": "4885f37acae9217c235118400878352aafa7b76e66df698a1f601374f86939a7"
  },
  "kernelspec": {
   "display_name": "Python 3 (ipykernel)",
   "language": "python",
   "name": "python3"
  },
  "language_info": {
   "codemirror_mode": {
    "name": "ipython",
    "version": 3
   },
   "file_extension": ".py",
   "mimetype": "text/x-python",
   "name": "python",
   "nbconvert_exporter": "python",
   "pygments_lexer": "ipython3",
   "version": "3.9.7"
  }
 },
 "nbformat": 4,
 "nbformat_minor": 4
}