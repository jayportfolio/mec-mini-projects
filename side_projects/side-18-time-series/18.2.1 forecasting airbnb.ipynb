{
 "cells": [
  {
   "cell_type": "code",
   "execution_count": 1,
   "id": "e5630949-ee09-45ce-afed-1b804f6a4731",
   "metadata": {
    "execution": {
     "iopub.execute_input": "2022-11-23T00:20:12.108467Z",
     "iopub.status.busy": "2022-11-23T00:20:12.108150Z",
     "iopub.status.idle": "2022-11-23T00:20:12.931165Z",
     "shell.execute_reply": "2022-11-23T00:20:12.930258Z",
     "shell.execute_reply.started": "2022-11-23T00:20:12.108425Z"
    }
   },
   "outputs": [],
   "source": [
    "import pandas as pd"
   ]
  },
  {
   "cell_type": "code",
   "execution_count": 4,
   "id": "b4f3dce1-d7ee-4216-9a26-004198e58ab2",
   "metadata": {
    "execution": {
     "iopub.execute_input": "2022-11-23T00:23:14.882717Z",
     "iopub.status.busy": "2022-11-23T00:23:14.882422Z",
     "iopub.status.idle": "2022-11-23T00:23:21.178839Z",
     "shell.execute_reply": "2022-11-23T00:23:21.178202Z",
     "shell.execute_reply.started": "2022-11-23T00:23:14.882685Z"
    }
   },
   "outputs": [
    {
     "data": {
      "text/html": [
       "<div>\n",
       "<style scoped>\n",
       "    .dataframe tbody tr th:only-of-type {\n",
       "        vertical-align: middle;\n",
       "    }\n",
       "\n",
       "    .dataframe tbody tr th {\n",
       "        vertical-align: top;\n",
       "    }\n",
       "\n",
       "    .dataframe thead th {\n",
       "        text-align: right;\n",
       "    }\n",
       "</style>\n",
       "<table border=\"1\" class=\"dataframe\">\n",
       "  <thead>\n",
       "    <tr style=\"text-align: right;\">\n",
       "      <th></th>\n",
       "      <th>listing_id</th>\n",
       "      <th>id</th>\n",
       "      <th>date</th>\n",
       "      <th>reviewer_id</th>\n",
       "      <th>reviewer_name</th>\n",
       "      <th>comments</th>\n",
       "    </tr>\n",
       "  </thead>\n",
       "  <tbody>\n",
       "    <tr>\n",
       "      <th>0</th>\n",
       "      <td>2818</td>\n",
       "      <td>1191</td>\n",
       "      <td>2009-03-30</td>\n",
       "      <td>10952</td>\n",
       "      <td>Lam</td>\n",
       "      <td>Daniel is really cool. The place was nice and ...</td>\n",
       "    </tr>\n",
       "    <tr>\n",
       "      <th>1</th>\n",
       "      <td>515749</td>\n",
       "      <td>1671407</td>\n",
       "      <td>2012-07-09</td>\n",
       "      <td>2640670</td>\n",
       "      <td>Gregory</td>\n",
       "      <td>If you want the authentic Amsterdam houseboat ...</td>\n",
       "    </tr>\n",
       "    <tr>\n",
       "      <th>2</th>\n",
       "      <td>515749</td>\n",
       "      <td>1715674</td>\n",
       "      <td>2012-07-15</td>\n",
       "      <td>1032804</td>\n",
       "      <td>Michael</td>\n",
       "      <td>Unique and luxurious to be sure. I couldn't re...</td>\n",
       "    </tr>\n",
       "    <tr>\n",
       "      <th>3</th>\n",
       "      <td>2818</td>\n",
       "      <td>1771</td>\n",
       "      <td>2009-04-24</td>\n",
       "      <td>12798</td>\n",
       "      <td>Alice</td>\n",
       "      <td>Daniel is the most amazing host! His place is ...</td>\n",
       "    </tr>\n",
       "    <tr>\n",
       "      <th>4</th>\n",
       "      <td>515749</td>\n",
       "      <td>1963378</td>\n",
       "      <td>2012-08-12</td>\n",
       "      <td>503786</td>\n",
       "      <td>Brian</td>\n",
       "      <td>My wife and I recently stopped in Amsterdam fo...</td>\n",
       "    </tr>\n",
       "  </tbody>\n",
       "</table>\n",
       "</div>"
      ],
      "text/plain": [
       "   listing_id       id        date  reviewer_id reviewer_name  \\\n",
       "0        2818     1191  2009-03-30        10952           Lam   \n",
       "1      515749  1671407  2012-07-09      2640670       Gregory   \n",
       "2      515749  1715674  2012-07-15      1032804       Michael   \n",
       "3        2818     1771  2009-04-24        12798         Alice   \n",
       "4      515749  1963378  2012-08-12       503786         Brian   \n",
       "\n",
       "                                            comments  \n",
       "0  Daniel is really cool. The place was nice and ...  \n",
       "1  If you want the authentic Amsterdam houseboat ...  \n",
       "2  Unique and luxurious to be sure. I couldn't re...  \n",
       "3  Daniel is the most amazing host! His place is ...  \n",
       "4  My wife and I recently stopped in Amsterdam fo...  "
      ]
     },
     "execution_count": 4,
     "metadata": {},
     "output_type": "execute_result"
    }
   ],
   "source": [
    "#http://insideairbnb.com/get-the-data/\n",
    "\n",
    "df = pd.read_csv('http://data.insideairbnb.com/the-netherlands/north-holland/amsterdam/2022-09-07/data/reviews.csv.gz')\n",
    "df.head()"
   ]
  },
  {
   "cell_type": "code",
   "execution_count": null,
   "id": "e5006233-e3f7-434b-a6cf-11fe3667a9ee",
   "metadata": {},
   "outputs": [],
   "source": []
  }
 ],
 "metadata": {
  "kernelspec": {
   "display_name": "Python 3",
   "language": "python",
   "name": "python3"
  },
  "language_info": {
   "codemirror_mode": {
    "name": "ipython",
    "version": 3
   },
   "file_extension": ".py",
   "mimetype": "text/x-python",
   "name": "python",
   "nbconvert_exporter": "python",
   "pygments_lexer": "ipython3",
   "version": "3.7.9"
  }
 },
 "nbformat": 4,
 "nbformat_minor": 5
}
