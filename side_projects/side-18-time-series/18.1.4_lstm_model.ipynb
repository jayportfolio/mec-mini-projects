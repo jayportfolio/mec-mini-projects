{
 "cells": [
  {
   "cell_type": "code",
   "execution_count": 1,
   "id": "6dccc8fe-9af5-4928-8afc-58852db99e32",
   "metadata": {
    "execution": {
     "iopub.execute_input": "2022-11-22T21:07:59.333628Z",
     "iopub.status.busy": "2022-11-22T21:07:59.333057Z",
     "iopub.status.idle": "2022-11-22T21:07:59.341816Z",
     "shell.execute_reply": "2022-11-22T21:07:59.340442Z",
     "shell.execute_reply.started": "2022-11-22T21:07:59.333581Z"
    }
   },
   "outputs": [],
   "source": [
    "class DataLoader():\n",
    "\n",
    "\tdef __init__(self, filename, split, cols):\n",
    "\t\tdataframe = pd.read_csv(filename)\n",
    "\t\ti_split = int(len(dataframe) * split)\n",
    "\t\tself.data_train = dataframe.get(cols).values[:i_split]\n",
    "\t\tself.data_test  = dataframe.get(cols).values[i_split:]\n",
    "\t\tself.len_train  = len(self.data_train)\n",
    "\t\tself.len_test   = len(self.data_test)\n",
    "\t\tself.len_train_windows = None\n",
    "\n",
    "\tdef get_train_data(self, seq_len, normalise):\n",
    "\t\tdata_x = []\n",
    "\t\tdata_y = []\n",
    "\t\tfor i in range(self.len_train - seq_len):\n",
    "\t\t\tx, y = self._next_window(i, seq_len, normalise)\n",
    "\t\t\tdata_x.append(x)\n",
    "\t\t\tdata_y.append(y)\n",
    "\t\treturn np.array(data_x), np.array(data_y)\n"
   ]
  },
  {
   "cell_type": "code",
   "execution_count": null,
   "id": "f98cb214-b823-4b31-b115-5c209cc4439f",
   "metadata": {},
   "outputs": [],
   "source": [
    "class Model():\n",
    "\n",
    "\tdef __init__(self):\n",
    "\t\tself.model = Sequential()\n",
    "\n",
    "\tdef build_model(self, configs):\n",
    "\t\ttimer = Timer()\n",
    "\t\ttimer.start()\n",
    "\n",
    "\t\tfor layer in configs['model']['layers']:\n",
    "\t\t\tneurons = layer['neurons'] if 'neurons' in layer else None\n",
    "\t\t\tdropout_rate = layer['rate'] if 'rate' in layer else None\n",
    "\t\t\tactivation = layer['activation'] if 'activation' in layer else None\n",
    "\t\t\treturn_seq = layer['return_seq'] if 'return_seq' in layer else None\n",
    "\t\t\tinput_timesteps = layer['input_timesteps'] if 'input_timesteps' in layer else None\n",
    "\t\t\tinput_dim = layer['input_dim'] if 'input_dim' in layer else None\n",
    "\n",
    "\t\t\tif layer['type'] == 'dense':\n",
    "\t\t\t\tself.model.add(Dense(neurons, activation=activation))\n",
    "\t\t\tif layer['type'] == 'lstm':\n",
    "\t\t\t\tself.model.add(LSTM(neurons, input_shape=(input_timesteps, input_dim), return_sequences=return_seq))\n",
    "\t\t\tif layer['type'] == 'dropout':\n",
    "\t\t\t\tself.model.add(Dropout(dropout_rate))\n",
    "\n",
    "\t\tself.model.compile(loss=configs['model']['loss'], optimizer=configs['model']['optimizer'])\n",
    "\n",
    "\t\tprint('[Model] Model Compiled')\n",
    "\t\ttimer.stop()\n"
   ]
  }
 ],
 "metadata": {
  "kernelspec": {
   "display_name": "Python 3",
   "language": "python",
   "name": "python3"
  },
  "language_info": {
   "codemirror_mode": {
    "name": "ipython",
    "version": 3
   },
   "file_extension": ".py",
   "mimetype": "text/x-python",
   "name": "python",
   "nbconvert_exporter": "python",
   "pygments_lexer": "ipython3",
   "version": "3.7.9"
  }
 },
 "nbformat": 4,
 "nbformat_minor": 5
}
